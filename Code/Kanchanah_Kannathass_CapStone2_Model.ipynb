{
 "cells": [
  {
   "cell_type": "code",
   "execution_count": 1,
   "metadata": {},
   "outputs": [],
   "source": [
    "#import packages\n",
    "import numpy as np\n",
    "import pandas as pd\n",
    "import os\n",
    "\n",
    "import seaborn as sns\n",
    "import matplotlib.pyplot as plt\n",
    "#from sklearn import impute\n",
    "\n",
    "from sklearn import model_selection\n",
    "#from sklearn.model_selection import train_test_split\n",
    "from sklearn.model_selection import cross_val_score\n",
    "from sklearn.model_selection import GridSearchCV\n",
    "from sklearn.ensemble import RandomForestClassifier\n",
    "#from sklearn.metrics import accuracy_score\n",
    "from sklearn import linear_model\n",
    "from sklearn import svm\n",
    "#from sklearn.preprocessing import MinMaxScaler\n",
    "from patsy import dmatrix\n",
    "\n",
    "from sklearn import ensemble\n",
    "from sklearn import tree\n",
    "\n",
    "from sklearn.pipeline import Pipeline\n",
    "#from sklearn.linear_model import Lasso\n",
    "from sklearn import metrics\n",
    "#from scipy.stats import chi2\n",
    "#from sklearn.metrics import log_loss\n",
    "from sklearn.linear_model import LogisticRegression\n",
    "\n",
    "import statsmodels.api as sm\n",
    "\n",
    "# from pyglmnet import GLMCV\n",
    "#from pyglmnet.datasets import fetch_group_lasso_data\n",
    "#import matplotlib.pyplot as plt\n",
    "\n",
    "from sklearn import cluster\n",
    "\n",
    "sns.set_style(\"dark\")"
   ]
  },
  {
   "cell_type": "markdown",
   "metadata": {},
   "source": [
    "## Import Datasets"
   ]
  },
  {
   "cell_type": "code",
   "execution_count": 2,
   "metadata": {},
   "outputs": [],
   "source": [
    "BASE_DIR = \"C:\\\\Users\\\\kk67\\\\Documents\\\\Documents\\\\Capstone\\\\\"\n",
    "\n",
    "X_train = \"X_train.csv\"\n",
    "X_test = \"X_test.csv\"\n",
    "y_train = \"y_train.csv\"\n",
    "y_test = \"y_test.csv\""
   ]
  },
  {
   "cell_type": "code",
   "execution_count": 3,
   "metadata": {},
   "outputs": [],
   "source": [
    "X_train = pd.read_csv(os.path.expanduser(os.path.join(BASE_DIR, X_train)),index_col=0)\n",
    "X_test = pd.read_csv(os.path.expanduser(os.path.join(BASE_DIR, X_test)),index_col=0)\n",
    "y_train = pd.read_csv(os.path.expanduser(os.path.join(BASE_DIR, y_train)),index_col=0)\n",
    "y_test = pd.read_csv(os.path.expanduser(os.path.join(BASE_DIR, y_test)),index_col=0)"
   ]
  },
  {
   "cell_type": "code",
   "execution_count": 4,
   "metadata": {},
   "outputs": [
    {
     "name": "stdout",
     "output_type": "stream",
     "text": [
      "<class 'pandas.core.frame.DataFrame'>\n",
      "Int64Index: 140394 entries, 0 to 140393\n",
      "Data columns (total 47 columns):\n",
      " #   Column                                                         Non-Null Count   Dtype  \n",
      "---  ------                                                         --------------   -----  \n",
      " 0   GT1JBLWK_label_YES                                             140394 non-null  int64  \n",
      " 1   HBHUR_label_RURAL                                              140394 non-null  int64  \n",
      " 2   HHSTATE_label_EAST_SOUTH_CENTRAL                               140394 non-null  int64  \n",
      " 3   HHSTATE_label_MIDDLE_ATLANTIC                                  140394 non-null  int64  \n",
      " 4   HHSTATE_label_MOUNTAIN                                         140394 non-null  int64  \n",
      " 5   HHSTATE_label_NEW_ENGLAND                                      140394 non-null  int64  \n",
      " 6   HHSTATE_label_PACIFIC                                          140394 non-null  int64  \n",
      " 7   HHSTATE_label_SOUTH_ATLANTIC                                   140394 non-null  int64  \n",
      " 8   HHSTATE_label_WEST_NORTH_CENTRAL                               140394 non-null  int64  \n",
      " 9   HHSTATE_label_WEST_SOUTH_CENTRAL                               140394 non-null  int64  \n",
      " 10  HOMEOWN_label_RENT                                             140394 non-null  int64  \n",
      " 11  HOMEOWN_label_SOME_OTHER_ARRANGEMENT                           140394 non-null  int64  \n",
      " 12  OCCAT_label_MANUFACTURING_CONSTRUCTION_MAINTENANCE_OR_FARMING  140394 non-null  int64  \n",
      " 13  OCCAT_label_PROFESSIONAL_MANAGERIAL_OR_TECHNICAL               140394 non-null  int64  \n",
      " 14  OCCAT_label_SALES_OR_SERVICE                                   140394 non-null  int64  \n",
      " 15  OCCAT_label_SOMETHING_ELSE                                     140394 non-null  int64  \n",
      " 16  R_HISP_label_YES_HISPANIC_OR_LATINO                            140394 non-null  int64  \n",
      " 17  R_RACE_label_ASIAN                                             140394 non-null  int64  \n",
      " 18  R_RACE_label_BLACK_OR_AFRICAN_AMERICAN                         140394 non-null  int64  \n",
      " 19  R_RACE_label_DONT_KNOW                                         140394 non-null  int64  \n",
      " 20  R_RACE_label_MULTIPLE_RESPONSES_SELECTED                       140394 non-null  int64  \n",
      " 21  R_RACE_label_NATIVE_HAWAIIAN_OR_OTHER_PACIFIC_ISLANDER         140394 non-null  int64  \n",
      " 22  R_RACE_label_REFUSED                                           140394 non-null  int64  \n",
      " 23  R_RACE_label_SOME_OTHER_RACE                                   140394 non-null  int64  \n",
      " 24  R_RACE_label_WHITE                                             140394 non-null  int64  \n",
      " 25  R_SEX_label_MALE                                               140394 non-null  int64  \n",
      " 26  VEHOWNED_label_YES                                             140394 non-null  int64  \n",
      " 27  WKFTPT_label_PARTTIME                                          140394 non-null  int64  \n",
      " 28  WKRMHM_label_YES                                               140394 non-null  int64  \n",
      " 29  CAR                                                            140394 non-null  float64\n",
      " 30  CARSHARE                                                       140394 non-null  float64\n",
      " 31  DRVRCNT                                                        140394 non-null  float64\n",
      " 32  EDUC                                                           140394 non-null  float64\n",
      " 33  HBPPOPDN                                                       140394 non-null  float64\n",
      " 34  HBRESDN                                                        140394 non-null  float64\n",
      " 35  HHFAMINC                                                       140394 non-null  float64\n",
      " 36  HHSIZE                                                         140394 non-null  float64\n",
      " 37  HHVEHCNT                                                       140394 non-null  float64\n",
      " 38  PLACE                                                          140394 non-null  float64\n",
      " 39  PRICE                                                          140394 non-null  float64\n",
      " 40  R_AGE                                                          140394 non-null  float64\n",
      " 41  TIMETOWK                                                       140394 non-null  float64\n",
      " 42  VEHAGE                                                         140394 non-null  float64\n",
      " 43  VEHOWNMO                                                       140394 non-null  float64\n",
      " 44  WRKCOUNT                                                       140394 non-null  float64\n",
      " 45  YEARMILE                                                       140394 non-null  float64\n",
      " 46  YOUNGCHILD                                                     140394 non-null  float64\n",
      "dtypes: float64(18), int64(29)\n",
      "memory usage: 51.4 MB\n"
     ]
    }
   ],
   "source": [
    "X_train.info(verbose=True)"
   ]
  },
  {
   "cell_type": "code",
   "execution_count": 5,
   "metadata": {},
   "outputs": [
    {
     "data": {
      "text/html": [
       "<div>\n",
       "<style scoped>\n",
       "    .dataframe tbody tr th:only-of-type {\n",
       "        vertical-align: middle;\n",
       "    }\n",
       "\n",
       "    .dataframe tbody tr th {\n",
       "        vertical-align: top;\n",
       "    }\n",
       "\n",
       "    .dataframe thead th {\n",
       "        text-align: right;\n",
       "    }\n",
       "</style>\n",
       "<table border=\"1\" class=\"dataframe\">\n",
       "  <thead>\n",
       "    <tr style=\"text-align: right;\">\n",
       "      <th></th>\n",
       "      <th>GT1JBLWK_label_YES</th>\n",
       "      <th>HBHUR_label_RURAL</th>\n",
       "      <th>HHSTATE_label_EAST_SOUTH_CENTRAL</th>\n",
       "      <th>HHSTATE_label_MIDDLE_ATLANTIC</th>\n",
       "      <th>HHSTATE_label_MOUNTAIN</th>\n",
       "      <th>HHSTATE_label_NEW_ENGLAND</th>\n",
       "      <th>HHSTATE_label_PACIFIC</th>\n",
       "      <th>HHSTATE_label_SOUTH_ATLANTIC</th>\n",
       "      <th>HHSTATE_label_WEST_NORTH_CENTRAL</th>\n",
       "      <th>HHSTATE_label_WEST_SOUTH_CENTRAL</th>\n",
       "      <th>...</th>\n",
       "      <th>HHVEHCNT</th>\n",
       "      <th>PLACE</th>\n",
       "      <th>PRICE</th>\n",
       "      <th>R_AGE</th>\n",
       "      <th>TIMETOWK</th>\n",
       "      <th>VEHAGE</th>\n",
       "      <th>VEHOWNMO</th>\n",
       "      <th>WRKCOUNT</th>\n",
       "      <th>YEARMILE</th>\n",
       "      <th>YOUNGCHILD</th>\n",
       "    </tr>\n",
       "  </thead>\n",
       "  <tbody>\n",
       "    <tr>\n",
       "      <th>0</th>\n",
       "      <td>0</td>\n",
       "      <td>0</td>\n",
       "      <td>0</td>\n",
       "      <td>0</td>\n",
       "      <td>0</td>\n",
       "      <td>0</td>\n",
       "      <td>0</td>\n",
       "      <td>0</td>\n",
       "      <td>0</td>\n",
       "      <td>0</td>\n",
       "      <td>...</td>\n",
       "      <td>0.090909</td>\n",
       "      <td>0.50</td>\n",
       "      <td>0.50</td>\n",
       "      <td>0.609195</td>\n",
       "      <td>0.033333</td>\n",
       "      <td>0.000000</td>\n",
       "      <td>0.454545</td>\n",
       "      <td>0.142857</td>\n",
       "      <td>0.050</td>\n",
       "      <td>0.0</td>\n",
       "    </tr>\n",
       "    <tr>\n",
       "      <th>1</th>\n",
       "      <td>0</td>\n",
       "      <td>0</td>\n",
       "      <td>0</td>\n",
       "      <td>0</td>\n",
       "      <td>0</td>\n",
       "      <td>0</td>\n",
       "      <td>0</td>\n",
       "      <td>1</td>\n",
       "      <td>0</td>\n",
       "      <td>0</td>\n",
       "      <td>...</td>\n",
       "      <td>0.090909</td>\n",
       "      <td>0.25</td>\n",
       "      <td>0.25</td>\n",
       "      <td>0.609195</td>\n",
       "      <td>0.033333</td>\n",
       "      <td>0.153846</td>\n",
       "      <td>0.454545</td>\n",
       "      <td>0.142857</td>\n",
       "      <td>0.050</td>\n",
       "      <td>0.0</td>\n",
       "    </tr>\n",
       "    <tr>\n",
       "      <th>2</th>\n",
       "      <td>0</td>\n",
       "      <td>0</td>\n",
       "      <td>0</td>\n",
       "      <td>0</td>\n",
       "      <td>0</td>\n",
       "      <td>0</td>\n",
       "      <td>0</td>\n",
       "      <td>0</td>\n",
       "      <td>0</td>\n",
       "      <td>0</td>\n",
       "      <td>...</td>\n",
       "      <td>0.090909</td>\n",
       "      <td>0.75</td>\n",
       "      <td>1.00</td>\n",
       "      <td>0.666667</td>\n",
       "      <td>0.033333</td>\n",
       "      <td>0.000000</td>\n",
       "      <td>0.454545</td>\n",
       "      <td>0.000000</td>\n",
       "      <td>0.050</td>\n",
       "      <td>0.0</td>\n",
       "    </tr>\n",
       "    <tr>\n",
       "      <th>3</th>\n",
       "      <td>0</td>\n",
       "      <td>0</td>\n",
       "      <td>0</td>\n",
       "      <td>0</td>\n",
       "      <td>0</td>\n",
       "      <td>0</td>\n",
       "      <td>0</td>\n",
       "      <td>0</td>\n",
       "      <td>0</td>\n",
       "      <td>1</td>\n",
       "      <td>...</td>\n",
       "      <td>0.000000</td>\n",
       "      <td>0.50</td>\n",
       "      <td>0.50</td>\n",
       "      <td>0.781609</td>\n",
       "      <td>0.033333</td>\n",
       "      <td>0.230769</td>\n",
       "      <td>0.454545</td>\n",
       "      <td>0.000000</td>\n",
       "      <td>0.005</td>\n",
       "      <td>0.0</td>\n",
       "    </tr>\n",
       "    <tr>\n",
       "      <th>4</th>\n",
       "      <td>1</td>\n",
       "      <td>0</td>\n",
       "      <td>0</td>\n",
       "      <td>0</td>\n",
       "      <td>0</td>\n",
       "      <td>0</td>\n",
       "      <td>0</td>\n",
       "      <td>1</td>\n",
       "      <td>0</td>\n",
       "      <td>0</td>\n",
       "      <td>...</td>\n",
       "      <td>0.090909</td>\n",
       "      <td>0.00</td>\n",
       "      <td>0.00</td>\n",
       "      <td>0.344828</td>\n",
       "      <td>0.100000</td>\n",
       "      <td>0.333333</td>\n",
       "      <td>0.363636</td>\n",
       "      <td>0.285714</td>\n",
       "      <td>0.050</td>\n",
       "      <td>0.0</td>\n",
       "    </tr>\n",
       "  </tbody>\n",
       "</table>\n",
       "<p>5 rows × 47 columns</p>\n",
       "</div>"
      ],
      "text/plain": [
       "   GT1JBLWK_label_YES  HBHUR_label_RURAL  HHSTATE_label_EAST_SOUTH_CENTRAL  \\\n",
       "0                   0                  0                                 0   \n",
       "1                   0                  0                                 0   \n",
       "2                   0                  0                                 0   \n",
       "3                   0                  0                                 0   \n",
       "4                   1                  0                                 0   \n",
       "\n",
       "   HHSTATE_label_MIDDLE_ATLANTIC  HHSTATE_label_MOUNTAIN  \\\n",
       "0                              0                       0   \n",
       "1                              0                       0   \n",
       "2                              0                       0   \n",
       "3                              0                       0   \n",
       "4                              0                       0   \n",
       "\n",
       "   HHSTATE_label_NEW_ENGLAND  HHSTATE_label_PACIFIC  \\\n",
       "0                          0                      0   \n",
       "1                          0                      0   \n",
       "2                          0                      0   \n",
       "3                          0                      0   \n",
       "4                          0                      0   \n",
       "\n",
       "   HHSTATE_label_SOUTH_ATLANTIC  HHSTATE_label_WEST_NORTH_CENTRAL  \\\n",
       "0                             0                                 0   \n",
       "1                             1                                 0   \n",
       "2                             0                                 0   \n",
       "3                             0                                 0   \n",
       "4                             1                                 0   \n",
       "\n",
       "   HHSTATE_label_WEST_SOUTH_CENTRAL  ...  HHVEHCNT  PLACE  PRICE     R_AGE  \\\n",
       "0                                 0  ...  0.090909   0.50   0.50  0.609195   \n",
       "1                                 0  ...  0.090909   0.25   0.25  0.609195   \n",
       "2                                 0  ...  0.090909   0.75   1.00  0.666667   \n",
       "3                                 1  ...  0.000000   0.50   0.50  0.781609   \n",
       "4                                 0  ...  0.090909   0.00   0.00  0.344828   \n",
       "\n",
       "   TIMETOWK    VEHAGE  VEHOWNMO  WRKCOUNT  YEARMILE  YOUNGCHILD  \n",
       "0  0.033333  0.000000  0.454545  0.142857     0.050         0.0  \n",
       "1  0.033333  0.153846  0.454545  0.142857     0.050         0.0  \n",
       "2  0.033333  0.000000  0.454545  0.000000     0.050         0.0  \n",
       "3  0.033333  0.230769  0.454545  0.000000     0.005         0.0  \n",
       "4  0.100000  0.333333  0.363636  0.285714     0.050         0.0  \n",
       "\n",
       "[5 rows x 47 columns]"
      ]
     },
     "execution_count": 5,
     "metadata": {},
     "output_type": "execute_result"
    }
   ],
   "source": [
    "X_train.head()"
   ]
  },
  {
   "cell_type": "code",
   "execution_count": 6,
   "metadata": {},
   "outputs": [
    {
     "data": {
      "text/plain": [
       "(140394, 47)"
      ]
     },
     "execution_count": 6,
     "metadata": {},
     "output_type": "execute_result"
    }
   ],
   "source": [
    "X_train.shape"
   ]
  },
  {
   "cell_type": "code",
   "execution_count": 7,
   "metadata": {},
   "outputs": [
    {
     "name": "stdout",
     "output_type": "stream",
     "text": [
      "<class 'pandas.core.frame.DataFrame'>\n",
      "Int64Index: 60170 entries, 0 to 60169\n",
      "Data columns (total 47 columns):\n",
      " #   Column                                                         Non-Null Count  Dtype  \n",
      "---  ------                                                         --------------  -----  \n",
      " 0   GT1JBLWK_label_YES                                             60170 non-null  int64  \n",
      " 1   HBHUR_label_RURAL                                              60170 non-null  int64  \n",
      " 2   HHSTATE_label_EAST_SOUTH_CENTRAL                               60170 non-null  int64  \n",
      " 3   HHSTATE_label_MIDDLE_ATLANTIC                                  60170 non-null  int64  \n",
      " 4   HHSTATE_label_MOUNTAIN                                         60170 non-null  int64  \n",
      " 5   HHSTATE_label_NEW_ENGLAND                                      60170 non-null  int64  \n",
      " 6   HHSTATE_label_PACIFIC                                          60170 non-null  int64  \n",
      " 7   HHSTATE_label_SOUTH_ATLANTIC                                   60170 non-null  int64  \n",
      " 8   HHSTATE_label_WEST_NORTH_CENTRAL                               60170 non-null  int64  \n",
      " 9   HHSTATE_label_WEST_SOUTH_CENTRAL                               60170 non-null  int64  \n",
      " 10  HOMEOWN_label_RENT                                             60170 non-null  int64  \n",
      " 11  HOMEOWN_label_SOME_OTHER_ARRANGEMENT                           60170 non-null  int64  \n",
      " 12  OCCAT_label_MANUFACTURING_CONSTRUCTION_MAINTENANCE_OR_FARMING  60170 non-null  int64  \n",
      " 13  OCCAT_label_PROFESSIONAL_MANAGERIAL_OR_TECHNICAL               60170 non-null  int64  \n",
      " 14  OCCAT_label_SALES_OR_SERVICE                                   60170 non-null  int64  \n",
      " 15  OCCAT_label_SOMETHING_ELSE                                     60170 non-null  int64  \n",
      " 16  R_HISP_label_YES_HISPANIC_OR_LATINO                            60170 non-null  int64  \n",
      " 17  R_RACE_label_ASIAN                                             60170 non-null  int64  \n",
      " 18  R_RACE_label_BLACK_OR_AFRICAN_AMERICAN                         60170 non-null  int64  \n",
      " 19  R_RACE_label_DONT_KNOW                                         60170 non-null  int64  \n",
      " 20  R_RACE_label_MULTIPLE_RESPONSES_SELECTED                       60170 non-null  int64  \n",
      " 21  R_RACE_label_NATIVE_HAWAIIAN_OR_OTHER_PACIFIC_ISLANDER         60170 non-null  int64  \n",
      " 22  R_RACE_label_REFUSED                                           60170 non-null  int64  \n",
      " 23  R_RACE_label_SOME_OTHER_RACE                                   60170 non-null  int64  \n",
      " 24  R_RACE_label_WHITE                                             60170 non-null  int64  \n",
      " 25  R_SEX_label_MALE                                               60170 non-null  int64  \n",
      " 26  VEHOWNED_label_YES                                             60170 non-null  int64  \n",
      " 27  WKFTPT_label_PARTTIME                                          60170 non-null  int64  \n",
      " 28  WKRMHM_label_YES                                               60170 non-null  int64  \n",
      " 29  CAR                                                            60170 non-null  float64\n",
      " 30  CARSHARE                                                       60170 non-null  float64\n",
      " 31  DRVRCNT                                                        60170 non-null  float64\n",
      " 32  EDUC                                                           60170 non-null  float64\n",
      " 33  HBPPOPDN                                                       60170 non-null  float64\n",
      " 34  HBRESDN                                                        60170 non-null  float64\n",
      " 35  HHFAMINC                                                       60170 non-null  float64\n",
      " 36  HHSIZE                                                         60170 non-null  float64\n",
      " 37  HHVEHCNT                                                       60170 non-null  float64\n",
      " 38  PLACE                                                          60170 non-null  float64\n",
      " 39  PRICE                                                          60170 non-null  float64\n",
      " 40  R_AGE                                                          60170 non-null  float64\n",
      " 41  TIMETOWK                                                       60170 non-null  float64\n",
      " 42  VEHAGE                                                         60170 non-null  float64\n",
      " 43  VEHOWNMO                                                       60170 non-null  float64\n",
      " 44  WRKCOUNT                                                       60170 non-null  float64\n",
      " 45  YEARMILE                                                       60170 non-null  float64\n",
      " 46  YOUNGCHILD                                                     60170 non-null  float64\n",
      "dtypes: float64(18), int64(29)\n",
      "memory usage: 22.0 MB\n"
     ]
    }
   ],
   "source": [
    "X_test.info(verbose=True)"
   ]
  },
  {
   "cell_type": "code",
   "execution_count": 8,
   "metadata": {},
   "outputs": [
    {
     "data": {
      "text/html": [
       "<div>\n",
       "<style scoped>\n",
       "    .dataframe tbody tr th:only-of-type {\n",
       "        vertical-align: middle;\n",
       "    }\n",
       "\n",
       "    .dataframe tbody tr th {\n",
       "        vertical-align: top;\n",
       "    }\n",
       "\n",
       "    .dataframe thead th {\n",
       "        text-align: right;\n",
       "    }\n",
       "</style>\n",
       "<table border=\"1\" class=\"dataframe\">\n",
       "  <thead>\n",
       "    <tr style=\"text-align: right;\">\n",
       "      <th></th>\n",
       "      <th>GT1JBLWK_label_YES</th>\n",
       "      <th>HBHUR_label_RURAL</th>\n",
       "      <th>HHSTATE_label_EAST_SOUTH_CENTRAL</th>\n",
       "      <th>HHSTATE_label_MIDDLE_ATLANTIC</th>\n",
       "      <th>HHSTATE_label_MOUNTAIN</th>\n",
       "      <th>HHSTATE_label_NEW_ENGLAND</th>\n",
       "      <th>HHSTATE_label_PACIFIC</th>\n",
       "      <th>HHSTATE_label_SOUTH_ATLANTIC</th>\n",
       "      <th>HHSTATE_label_WEST_NORTH_CENTRAL</th>\n",
       "      <th>HHSTATE_label_WEST_SOUTH_CENTRAL</th>\n",
       "      <th>...</th>\n",
       "      <th>HHVEHCNT</th>\n",
       "      <th>PLACE</th>\n",
       "      <th>PRICE</th>\n",
       "      <th>R_AGE</th>\n",
       "      <th>TIMETOWK</th>\n",
       "      <th>VEHAGE</th>\n",
       "      <th>VEHOWNMO</th>\n",
       "      <th>WRKCOUNT</th>\n",
       "      <th>YEARMILE</th>\n",
       "      <th>YOUNGCHILD</th>\n",
       "    </tr>\n",
       "  </thead>\n",
       "  <tbody>\n",
       "    <tr>\n",
       "      <th>0</th>\n",
       "      <td>0</td>\n",
       "      <td>0</td>\n",
       "      <td>0</td>\n",
       "      <td>0</td>\n",
       "      <td>1</td>\n",
       "      <td>0</td>\n",
       "      <td>0</td>\n",
       "      <td>0</td>\n",
       "      <td>0</td>\n",
       "      <td>0</td>\n",
       "      <td>...</td>\n",
       "      <td>0.181818</td>\n",
       "      <td>0.25</td>\n",
       "      <td>0.25</td>\n",
       "      <td>0.252874</td>\n",
       "      <td>0.025000</td>\n",
       "      <td>0.076923</td>\n",
       "      <td>0.454545</td>\n",
       "      <td>0.285714</td>\n",
       "      <td>0.065</td>\n",
       "      <td>0.0</td>\n",
       "    </tr>\n",
       "    <tr>\n",
       "      <th>1</th>\n",
       "      <td>0</td>\n",
       "      <td>1</td>\n",
       "      <td>0</td>\n",
       "      <td>0</td>\n",
       "      <td>0</td>\n",
       "      <td>0</td>\n",
       "      <td>0</td>\n",
       "      <td>0</td>\n",
       "      <td>1</td>\n",
       "      <td>0</td>\n",
       "      <td>...</td>\n",
       "      <td>0.181818</td>\n",
       "      <td>0.50</td>\n",
       "      <td>0.50</td>\n",
       "      <td>0.689655</td>\n",
       "      <td>0.033333</td>\n",
       "      <td>0.076923</td>\n",
       "      <td>0.363636</td>\n",
       "      <td>0.000000</td>\n",
       "      <td>0.015</td>\n",
       "      <td>0.0</td>\n",
       "    </tr>\n",
       "    <tr>\n",
       "      <th>2</th>\n",
       "      <td>0</td>\n",
       "      <td>0</td>\n",
       "      <td>0</td>\n",
       "      <td>0</td>\n",
       "      <td>0</td>\n",
       "      <td>0</td>\n",
       "      <td>0</td>\n",
       "      <td>0</td>\n",
       "      <td>1</td>\n",
       "      <td>0</td>\n",
       "      <td>...</td>\n",
       "      <td>0.000000</td>\n",
       "      <td>1.00</td>\n",
       "      <td>0.25</td>\n",
       "      <td>0.310345</td>\n",
       "      <td>0.033333</td>\n",
       "      <td>0.384615</td>\n",
       "      <td>0.909091</td>\n",
       "      <td>0.142857</td>\n",
       "      <td>0.050</td>\n",
       "      <td>0.2</td>\n",
       "    </tr>\n",
       "    <tr>\n",
       "      <th>3</th>\n",
       "      <td>0</td>\n",
       "      <td>0</td>\n",
       "      <td>0</td>\n",
       "      <td>0</td>\n",
       "      <td>0</td>\n",
       "      <td>0</td>\n",
       "      <td>1</td>\n",
       "      <td>0</td>\n",
       "      <td>0</td>\n",
       "      <td>0</td>\n",
       "      <td>...</td>\n",
       "      <td>0.090909</td>\n",
       "      <td>0.50</td>\n",
       "      <td>0.25</td>\n",
       "      <td>0.724138</td>\n",
       "      <td>0.075000</td>\n",
       "      <td>0.410256</td>\n",
       "      <td>0.454545</td>\n",
       "      <td>0.285714</td>\n",
       "      <td>0.025</td>\n",
       "      <td>0.0</td>\n",
       "    </tr>\n",
       "    <tr>\n",
       "      <th>4</th>\n",
       "      <td>0</td>\n",
       "      <td>0</td>\n",
       "      <td>0</td>\n",
       "      <td>0</td>\n",
       "      <td>0</td>\n",
       "      <td>0</td>\n",
       "      <td>0</td>\n",
       "      <td>0</td>\n",
       "      <td>0</td>\n",
       "      <td>1</td>\n",
       "      <td>...</td>\n",
       "      <td>0.090909</td>\n",
       "      <td>0.00</td>\n",
       "      <td>0.00</td>\n",
       "      <td>0.356322</td>\n",
       "      <td>0.025000</td>\n",
       "      <td>0.025641</td>\n",
       "      <td>0.454545</td>\n",
       "      <td>0.142857</td>\n",
       "      <td>0.090</td>\n",
       "      <td>0.4</td>\n",
       "    </tr>\n",
       "  </tbody>\n",
       "</table>\n",
       "<p>5 rows × 47 columns</p>\n",
       "</div>"
      ],
      "text/plain": [
       "   GT1JBLWK_label_YES  HBHUR_label_RURAL  HHSTATE_label_EAST_SOUTH_CENTRAL  \\\n",
       "0                   0                  0                                 0   \n",
       "1                   0                  1                                 0   \n",
       "2                   0                  0                                 0   \n",
       "3                   0                  0                                 0   \n",
       "4                   0                  0                                 0   \n",
       "\n",
       "   HHSTATE_label_MIDDLE_ATLANTIC  HHSTATE_label_MOUNTAIN  \\\n",
       "0                              0                       1   \n",
       "1                              0                       0   \n",
       "2                              0                       0   \n",
       "3                              0                       0   \n",
       "4                              0                       0   \n",
       "\n",
       "   HHSTATE_label_NEW_ENGLAND  HHSTATE_label_PACIFIC  \\\n",
       "0                          0                      0   \n",
       "1                          0                      0   \n",
       "2                          0                      0   \n",
       "3                          0                      1   \n",
       "4                          0                      0   \n",
       "\n",
       "   HHSTATE_label_SOUTH_ATLANTIC  HHSTATE_label_WEST_NORTH_CENTRAL  \\\n",
       "0                             0                                 0   \n",
       "1                             0                                 1   \n",
       "2                             0                                 1   \n",
       "3                             0                                 0   \n",
       "4                             0                                 0   \n",
       "\n",
       "   HHSTATE_label_WEST_SOUTH_CENTRAL  ...  HHVEHCNT  PLACE  PRICE     R_AGE  \\\n",
       "0                                 0  ...  0.181818   0.25   0.25  0.252874   \n",
       "1                                 0  ...  0.181818   0.50   0.50  0.689655   \n",
       "2                                 0  ...  0.000000   1.00   0.25  0.310345   \n",
       "3                                 0  ...  0.090909   0.50   0.25  0.724138   \n",
       "4                                 1  ...  0.090909   0.00   0.00  0.356322   \n",
       "\n",
       "   TIMETOWK    VEHAGE  VEHOWNMO  WRKCOUNT  YEARMILE  YOUNGCHILD  \n",
       "0  0.025000  0.076923  0.454545  0.285714     0.065         0.0  \n",
       "1  0.033333  0.076923  0.363636  0.000000     0.015         0.0  \n",
       "2  0.033333  0.384615  0.909091  0.142857     0.050         0.2  \n",
       "3  0.075000  0.410256  0.454545  0.285714     0.025         0.0  \n",
       "4  0.025000  0.025641  0.454545  0.142857     0.090         0.4  \n",
       "\n",
       "[5 rows x 47 columns]"
      ]
     },
     "execution_count": 8,
     "metadata": {},
     "output_type": "execute_result"
    }
   ],
   "source": [
    "X_test.head()"
   ]
  },
  {
   "cell_type": "code",
   "execution_count": 9,
   "metadata": {},
   "outputs": [
    {
     "data": {
      "text/plain": [
       "(60170, 47)"
      ]
     },
     "execution_count": 9,
     "metadata": {},
     "output_type": "execute_result"
    }
   ],
   "source": [
    "X_test.shape"
   ]
  },
  {
   "cell_type": "code",
   "execution_count": 10,
   "metadata": {},
   "outputs": [],
   "source": [
    "y_train.reset_index(drop=True,inplace=True)"
   ]
  },
  {
   "cell_type": "code",
   "execution_count": 11,
   "metadata": {},
   "outputs": [
    {
     "data": {
      "text/html": [
       "<div>\n",
       "<style scoped>\n",
       "    .dataframe tbody tr th:only-of-type {\n",
       "        vertical-align: middle;\n",
       "    }\n",
       "\n",
       "    .dataframe tbody tr th {\n",
       "        vertical-align: top;\n",
       "    }\n",
       "\n",
       "    .dataframe thead th {\n",
       "        text-align: right;\n",
       "    }\n",
       "</style>\n",
       "<table border=\"1\" class=\"dataframe\">\n",
       "  <thead>\n",
       "    <tr style=\"text-align: right;\">\n",
       "      <th></th>\n",
       "      <th>fueltype_numeric</th>\n",
       "    </tr>\n",
       "  </thead>\n",
       "  <tbody>\n",
       "    <tr>\n",
       "      <th>0</th>\n",
       "      <td>1</td>\n",
       "    </tr>\n",
       "    <tr>\n",
       "      <th>1</th>\n",
       "      <td>1</td>\n",
       "    </tr>\n",
       "    <tr>\n",
       "      <th>2</th>\n",
       "      <td>1</td>\n",
       "    </tr>\n",
       "    <tr>\n",
       "      <th>3</th>\n",
       "      <td>1</td>\n",
       "    </tr>\n",
       "    <tr>\n",
       "      <th>4</th>\n",
       "      <td>1</td>\n",
       "    </tr>\n",
       "  </tbody>\n",
       "</table>\n",
       "</div>"
      ],
      "text/plain": [
       "   fueltype_numeric\n",
       "0                 1\n",
       "1                 1\n",
       "2                 1\n",
       "3                 1\n",
       "4                 1"
      ]
     },
     "execution_count": 11,
     "metadata": {},
     "output_type": "execute_result"
    }
   ],
   "source": [
    "y_train.head()"
   ]
  },
  {
   "cell_type": "code",
   "execution_count": 12,
   "metadata": {},
   "outputs": [],
   "source": [
    "y_test.reset_index(drop=True,inplace=True)"
   ]
  },
  {
   "cell_type": "code",
   "execution_count": 13,
   "metadata": {},
   "outputs": [
    {
     "data": {
      "text/html": [
       "<div>\n",
       "<style scoped>\n",
       "    .dataframe tbody tr th:only-of-type {\n",
       "        vertical-align: middle;\n",
       "    }\n",
       "\n",
       "    .dataframe tbody tr th {\n",
       "        vertical-align: top;\n",
       "    }\n",
       "\n",
       "    .dataframe thead th {\n",
       "        text-align: right;\n",
       "    }\n",
       "</style>\n",
       "<table border=\"1\" class=\"dataframe\">\n",
       "  <thead>\n",
       "    <tr style=\"text-align: right;\">\n",
       "      <th></th>\n",
       "      <th>fueltype_numeric</th>\n",
       "    </tr>\n",
       "  </thead>\n",
       "  <tbody>\n",
       "    <tr>\n",
       "      <th>0</th>\n",
       "      <td>1</td>\n",
       "    </tr>\n",
       "    <tr>\n",
       "      <th>1</th>\n",
       "      <td>1</td>\n",
       "    </tr>\n",
       "    <tr>\n",
       "      <th>2</th>\n",
       "      <td>1</td>\n",
       "    </tr>\n",
       "    <tr>\n",
       "      <th>3</th>\n",
       "      <td>1</td>\n",
       "    </tr>\n",
       "    <tr>\n",
       "      <th>4</th>\n",
       "      <td>1</td>\n",
       "    </tr>\n",
       "  </tbody>\n",
       "</table>\n",
       "</div>"
      ],
      "text/plain": [
       "   fueltype_numeric\n",
       "0                 1\n",
       "1                 1\n",
       "2                 1\n",
       "3                 1\n",
       "4                 1"
      ]
     },
     "execution_count": 13,
     "metadata": {},
     "output_type": "execute_result"
    }
   ],
   "source": [
    "y_test.head()"
   ]
  },
  {
   "cell_type": "markdown",
   "metadata": {},
   "source": [
    "## Model Building"
   ]
  },
  {
   "cell_type": "markdown",
   "metadata": {},
   "source": [
    "Build a naive model"
   ]
  },
  {
   "cell_type": "code",
   "execution_count": 14,
   "metadata": {},
   "outputs": [],
   "source": [
    "#Function to create threshold and visualize\n",
    "\n",
    "n_points=50\n",
    "probs = np.linspace(0, 1, n_points)\n",
    "\n",
    "def threshold_and_plot(y_test, target, plot=True):\n",
    "\n",
    "    def make_thresh():  # try n_points = 50 or 100...\n",
    "    # calculate each metric here\n",
    "        precision = [\n",
    "        metrics.precision_score(y_test, np.where(target > thresh, 1, 0))\n",
    "        for thresh in probs]\n",
    "        recall = [metrics.recall_score(y_test, np.where(target > thresh, 1, 0))\n",
    "              for thresh in probs]\n",
    "        f1 = [metrics.f1_score(y_test, np.where(target > thresh, 1, 0))\n",
    "          for thresh in probs]\n",
    "        return precision, recall, f1\n",
    "\n",
    "    precision, recall, f1 = make_thresh()\n",
    "    if plot:\n",
    "        plt.plot(probs, precision, label='precision')\n",
    "        plt.plot(probs, recall, label='recall')\n",
    "        plt.plot(probs, f1, label='f1')\n",
    "        plt.title(\"Metrics at various thresholds\");\n",
    "        plt.xlabel(\"Probability\");\n",
    "        plt.ylabel(\"Metric value\")\n",
    "        plt.legend();\n",
    "    # print(\"Precision: {:.3f}; Recall: {:.3f}; F1: {:.3f}\".format(precision, recall, f1))\n",
    "        return precision, recall, f1\n",
    "    else:\n",
    "        return precision, recall, f1\n",
    "\n",
    "\n",
    "def max_thresh(score_vec):\n",
    "    max_idx = np.argmax(score_vec)\n",
    "    max_score = score_vec[max_idx]\n",
    "    return max_idx, max_score"
   ]
  },
  {
   "cell_type": "code",
   "execution_count": 15,
   "metadata": {},
   "outputs": [],
   "source": [
    "# set up cross-validator:\n",
    "# 80/20 train/calibration split in this data (test data still held out)\n",
    "# 200 iterations\n",
    "# feel free to use another CV method and explain why\n",
    "cross_validator = (\n",
    "  model_selection.StratifiedShuffleSplit(train_size=0.8,\n",
    "                                         random_state=1337,\n",
    "                                         n_splits=10))"
   ]
  },
  {
   "cell_type": "code",
   "execution_count": 16,
   "metadata": {},
   "outputs": [],
   "source": [
    "# null model boilerplate\n",
    "null_reg = LogisticRegression(fit_intercept=False,\n",
    "                                           max_iter=500,\n",
    "                                           random_state=632966)"
   ]
  },
  {
   "cell_type": "code",
   "execution_count": 17,
   "metadata": {},
   "outputs": [],
   "source": [
    "X_train_null = np.ones(shape=y_train.shape[0]).reshape(-1,1) # intercept\n",
    "X_test_null = np.ones(shape=y_test.shape[0]).reshape(-1,1)"
   ]
  },
  {
   "cell_type": "code",
   "execution_count": 18,
   "metadata": {},
   "outputs": [],
   "source": [
    "# fit on train and test data (no tuning)\n",
    "null_train = null_reg.fit(X=X_train_null, y=y_train.values.ravel())\n",
    "null_test = null_reg.fit(X=X_test_null, y=y_test.values.ravel())"
   ]
  },
  {
   "cell_type": "code",
   "execution_count": 19,
   "metadata": {},
   "outputs": [],
   "source": [
    "# prob_a (and prob) gives you two columns; second one is the target\n",
    "#why do we fit with the test here?\n",
    "train_pred = null_train.predict_proba(X_train_null)\n",
    "test_pred = null_test.predict_proba(X_test_null)"
   ]
  },
  {
   "cell_type": "code",
   "execution_count": 20,
   "metadata": {},
   "outputs": [
    {
     "name": "stdout",
     "output_type": "stream",
     "text": [
      "Observed: 0.970 Fit: 0.971\n"
     ]
    }
   ],
   "source": [
    "# check to see if close to population value\n",
    "print(f\"Observed: {y_train.values.ravel().mean():.3f} Fit: {train_pred[:,1].mean():.3f}\")"
   ]
  },
  {
   "cell_type": "code",
   "execution_count": 21,
   "metadata": {},
   "outputs": [],
   "source": [
    "# 30 values of C to search over (can use fewer to speed things up);\n",
    "# would need to amend to use L2 or elastic net\n",
    "model_params = {\"model__C\": (np.logspace(start=-4, stop=4, num=20))}"
   ]
  },
  {
   "cell_type": "code",
   "execution_count": 22,
   "metadata": {},
   "outputs": [],
   "source": [
    "# set up the pipeline: just contains the model object\n",
    "model_pipeline = Pipeline(steps=[(\"model\", null_reg)])"
   ]
  },
  {
   "cell_type": "code",
   "execution_count": 23,
   "metadata": {},
   "outputs": [],
   "source": [
    "# set up grid search\n",
    "model_grid = (GridSearchCV(estimator=model_pipeline,\n",
    "                               param_grid=model_params,\n",
    "                               refit=True, # refit using best estimates\n",
    "                               scoring=\"roc_auc\", # metric to optimize\n",
    "                               cv=cross_validator,\n",
    "                               n_jobs=-1))"
   ]
  },
  {
   "cell_type": "code",
   "execution_count": 24,
   "metadata": {},
   "outputs": [],
   "source": [
    "# fit model\n",
    "null_model = model_grid.fit(X_train_null, y_train.values.ravel())"
   ]
  },
  {
   "cell_type": "code",
   "execution_count": 25,
   "metadata": {},
   "outputs": [
    {
     "name": "stdout",
     "output_type": "stream",
     "text": [
      "Observed: 0.970 Fit: 0.848\n"
     ]
    }
   ],
   "source": [
    "# model predictions\n",
    "null_train_pred = null_model.predict_proba(X_train_null)\n",
    "null_test_pred = null_model.predict_proba(X_test_null)\n",
    "\n",
    "# check to see if close to population value\n",
    "print(f\"Observed: {y_train.values.ravel().mean():.3f} Fit: {null_train_pred[:,1].mean():.3f}\")"
   ]
  },
  {
   "cell_type": "code",
   "execution_count": 26,
   "metadata": {},
   "outputs": [
    {
     "name": "stderr",
     "output_type": "stream",
     "text": [
      "C:\\Users\\kk67\\Anaconda3\\lib\\site-packages\\sklearn\\metrics\\_classification.py:1308: UndefinedMetricWarning: Precision is ill-defined and being set to 0.0 due to no predicted samples. Use `zero_division` parameter to control this behavior.\n",
      "  _warn_prf(average, modifier, msg_start, len(result))\n",
      "C:\\Users\\kk67\\Anaconda3\\lib\\site-packages\\sklearn\\metrics\\_classification.py:1308: UndefinedMetricWarning: Precision is ill-defined and being set to 0.0 due to no predicted samples. Use `zero_division` parameter to control this behavior.\n",
      "  _warn_prf(average, modifier, msg_start, len(result))\n",
      "C:\\Users\\kk67\\Anaconda3\\lib\\site-packages\\sklearn\\metrics\\_classification.py:1308: UndefinedMetricWarning: Precision is ill-defined and being set to 0.0 due to no predicted samples. Use `zero_division` parameter to control this behavior.\n",
      "  _warn_prf(average, modifier, msg_start, len(result))\n",
      "C:\\Users\\kk67\\Anaconda3\\lib\\site-packages\\sklearn\\metrics\\_classification.py:1308: UndefinedMetricWarning: Precision is ill-defined and being set to 0.0 due to no predicted samples. Use `zero_division` parameter to control this behavior.\n",
      "  _warn_prf(average, modifier, msg_start, len(result))\n",
      "C:\\Users\\kk67\\Anaconda3\\lib\\site-packages\\sklearn\\metrics\\_classification.py:1308: UndefinedMetricWarning: Precision is ill-defined and being set to 0.0 due to no predicted samples. Use `zero_division` parameter to control this behavior.\n",
      "  _warn_prf(average, modifier, msg_start, len(result))\n",
      "C:\\Users\\kk67\\Anaconda3\\lib\\site-packages\\sklearn\\metrics\\_classification.py:1308: UndefinedMetricWarning: Precision is ill-defined and being set to 0.0 due to no predicted samples. Use `zero_division` parameter to control this behavior.\n",
      "  _warn_prf(average, modifier, msg_start, len(result))\n",
      "C:\\Users\\kk67\\Anaconda3\\lib\\site-packages\\sklearn\\metrics\\_classification.py:1308: UndefinedMetricWarning: Precision is ill-defined and being set to 0.0 due to no predicted samples. Use `zero_division` parameter to control this behavior.\n",
      "  _warn_prf(average, modifier, msg_start, len(result))\n",
      "C:\\Users\\kk67\\Anaconda3\\lib\\site-packages\\sklearn\\metrics\\_classification.py:1308: UndefinedMetricWarning: Precision is ill-defined and being set to 0.0 due to no predicted samples. Use `zero_division` parameter to control this behavior.\n",
      "  _warn_prf(average, modifier, msg_start, len(result))\n"
     ]
    },
    {
     "data": {
      "image/png": "[encoded data removed]",
      "text/plain": [
       "<Figure size 864x576 with 1 Axes>"
      ]
     },
     "metadata": {},
     "output_type": "display_data"
    }
   ],
   "source": [
    "# NEW: vectors of metrics\n",
    "# TODO: add weighting to them (source function)\n",
    "plt.figure(figsize=(12,8))\n",
    "null_reg_pr, null_reg_rec, null_reg_f1 = threshold_and_plot(y_train, null_train_pred[:,1])"
   ]
  },
  {
   "cell_type": "code",
   "execution_count": 27,
   "metadata": {},
   "outputs": [
    {
     "data": {
      "text/plain": [
       "(0, 0.9849250591067825)"
      ]
     },
     "execution_count": 27,
     "metadata": {},
     "output_type": "execute_result"
    }
   ],
   "source": [
    "# NEW: F1 thresh\n",
    "max_thresh(null_reg_f1)"
   ]
  },
  {
   "cell_type": "code",
   "execution_count": 28,
   "metadata": {},
   "outputs": [],
   "source": [
    "# NEW: threshold that maximizes value\n",
    "null_reg_f1_preds = np.where(null_train_pred[:,1] > 0, 1, 0)"
   ]
  },
  {
   "cell_type": "code",
   "execution_count": 29,
   "metadata": {},
   "outputs": [
    {
     "name": "stdout",
     "output_type": "stream",
     "text": [
      "Train null F1: 0.956\n",
      "Test null F1: 0.957\n"
     ]
    }
   ],
   "source": [
    "# NEW: null F1\n",
    "train_null = null_model.predict(X_train_null)\n",
    "test_null = null_model.predict(X_test_null)\n",
    "\n",
    "\n",
    "null_train_f1 = metrics.f1_score(y_true=y_train, y_pred=train_null, average=\"weighted\")\n",
    "null_test_f1 = metrics.f1_score(y_true=y_test, y_pred=test_null, average=\"weighted\")\n",
    "\n",
    "print(f\"Train null F1: {null_train_f1:.3}\")\n",
    "print(f\"Test null F1: {null_test_f1:.3}\")"
   ]
  },
  {
   "cell_type": "code",
   "execution_count": 30,
   "metadata": {},
   "outputs": [
    {
     "data": {
      "text/plain": [
       "array([[0.15209228, 0.84790772],\n",
       "       [0.15209228, 0.84790772],\n",
       "       [0.15209228, 0.84790772],\n",
       "       ...,\n",
       "       [0.15209228, 0.84790772],\n",
       "       [0.15209228, 0.84790772],\n",
       "       [0.15209228, 0.84790772]])"
      ]
     },
     "execution_count": 30,
     "metadata": {},
     "output_type": "execute_result"
    }
   ],
   "source": [
    "null_train_pred"
   ]
  },
  {
   "cell_type": "code",
   "execution_count": 31,
   "metadata": {},
   "outputs": [
    {
     "data": {
      "image/png": "[encoded data removed]",
      "text/plain": [
       "<Figure size 432x288 with 2 Axes>"
      ]
     },
     "metadata": {},
     "output_type": "display_data"
    }
   ],
   "source": [
    "# no normalization\n",
    "metrics.ConfusionMatrixDisplay.from_predictions(y_true=y_train, y_pred=null_reg_f1_preds);"
   ]
  },
  {
   "cell_type": "markdown",
   "metadata": {},
   "source": [
    "Since this is just a naive model, we could expect this result. We will need to see if the other models do better than guessing."
   ]
  },
  {
   "cell_type": "markdown",
   "metadata": {},
   "source": [
    "### Limit to Numeric Variabes"
   ]
  },
  {
   "cell_type": "markdown",
   "metadata": {},
   "source": [
    "In order to reduce the cardinality of the variables, only numeric variables were used for the next few parts for some of the models."
   ]
  },
  {
   "cell_type": "code",
   "execution_count": 32,
   "metadata": {},
   "outputs": [],
   "source": [
    "# NEW: numeric only values\n",
    "X_train_numeric = X_train.iloc[:, 29:]"
   ]
  },
  {
   "cell_type": "code",
   "execution_count": 33,
   "metadata": {},
   "outputs": [
    {
     "name": "stdout",
     "output_type": "stream",
     "text": [
      "<class 'pandas.core.frame.DataFrame'>\n",
      "Int64Index: 140394 entries, 0 to 140393\n",
      "Data columns (total 18 columns):\n",
      " #   Column      Non-Null Count   Dtype  \n",
      "---  ------      --------------   -----  \n",
      " 0   CAR         140394 non-null  float64\n",
      " 1   CARSHARE    140394 non-null  float64\n",
      " 2   DRVRCNT     140394 non-null  float64\n",
      " 3   EDUC        140394 non-null  float64\n",
      " 4   HBPPOPDN    140394 non-null  float64\n",
      " 5   HBRESDN     140394 non-null  float64\n",
      " 6   HHFAMINC    140394 non-null  float64\n",
      " 7   HHSIZE      140394 non-null  float64\n",
      " 8   HHVEHCNT    140394 non-null  float64\n",
      " 9   PLACE       140394 non-null  float64\n",
      " 10  PRICE       140394 non-null  float64\n",
      " 11  R_AGE       140394 non-null  float64\n",
      " 12  TIMETOWK    140394 non-null  float64\n",
      " 13  VEHAGE      140394 non-null  float64\n",
      " 14  VEHOWNMO    140394 non-null  float64\n",
      " 15  WRKCOUNT    140394 non-null  float64\n",
      " 16  YEARMILE    140394 non-null  float64\n",
      " 17  YOUNGCHILD  140394 non-null  float64\n",
      "dtypes: float64(18)\n",
      "memory usage: 20.4 MB\n"
     ]
    }
   ],
   "source": [
    "X_train_numeric.info(verbose=True)"
   ]
  },
  {
   "cell_type": "code",
   "execution_count": 34,
   "metadata": {},
   "outputs": [
    {
     "data": {
      "text/html": [
       "<div>\n",
       "<style scoped>\n",
       "    .dataframe tbody tr th:only-of-type {\n",
       "        vertical-align: middle;\n",
       "    }\n",
       "\n",
       "    .dataframe tbody tr th {\n",
       "        vertical-align: top;\n",
       "    }\n",
       "\n",
       "    .dataframe thead th {\n",
       "        text-align: right;\n",
       "    }\n",
       "</style>\n",
       "<table border=\"1\" class=\"dataframe\">\n",
       "  <thead>\n",
       "    <tr style=\"text-align: right;\">\n",
       "      <th></th>\n",
       "      <th>CAR</th>\n",
       "      <th>CARSHARE</th>\n",
       "      <th>DRVRCNT</th>\n",
       "      <th>EDUC</th>\n",
       "      <th>HBPPOPDN</th>\n",
       "      <th>HBRESDN</th>\n",
       "      <th>HHFAMINC</th>\n",
       "      <th>HHSIZE</th>\n",
       "      <th>HHVEHCNT</th>\n",
       "      <th>PLACE</th>\n",
       "      <th>PRICE</th>\n",
       "      <th>R_AGE</th>\n",
       "      <th>TIMETOWK</th>\n",
       "      <th>VEHAGE</th>\n",
       "      <th>VEHOWNMO</th>\n",
       "      <th>WRKCOUNT</th>\n",
       "      <th>YEARMILE</th>\n",
       "      <th>YOUNGCHILD</th>\n",
       "    </tr>\n",
       "  </thead>\n",
       "  <tbody>\n",
       "    <tr>\n",
       "      <th>0</th>\n",
       "      <td>1.00</td>\n",
       "      <td>0.0</td>\n",
       "      <td>0.000</td>\n",
       "      <td>0.75</td>\n",
       "      <td>0.714286</td>\n",
       "      <td>0.428571</td>\n",
       "      <td>0.5</td>\n",
       "      <td>0.000000</td>\n",
       "      <td>0.090909</td>\n",
       "      <td>0.50</td>\n",
       "      <td>0.50</td>\n",
       "      <td>0.609195</td>\n",
       "      <td>0.033333</td>\n",
       "      <td>0.000000</td>\n",
       "      <td>0.454545</td>\n",
       "      <td>0.142857</td>\n",
       "      <td>0.050</td>\n",
       "      <td>0.0</td>\n",
       "    </tr>\n",
       "    <tr>\n",
       "      <th>1</th>\n",
       "      <td>1.00</td>\n",
       "      <td>0.0</td>\n",
       "      <td>0.250</td>\n",
       "      <td>0.25</td>\n",
       "      <td>0.571429</td>\n",
       "      <td>0.428571</td>\n",
       "      <td>0.3</td>\n",
       "      <td>0.166667</td>\n",
       "      <td>0.090909</td>\n",
       "      <td>0.25</td>\n",
       "      <td>0.25</td>\n",
       "      <td>0.609195</td>\n",
       "      <td>0.033333</td>\n",
       "      <td>0.153846</td>\n",
       "      <td>0.454545</td>\n",
       "      <td>0.142857</td>\n",
       "      <td>0.050</td>\n",
       "      <td>0.0</td>\n",
       "    </tr>\n",
       "    <tr>\n",
       "      <th>2</th>\n",
       "      <td>1.00</td>\n",
       "      <td>0.0</td>\n",
       "      <td>0.125</td>\n",
       "      <td>0.75</td>\n",
       "      <td>0.142857</td>\n",
       "      <td>0.142857</td>\n",
       "      <td>1.0</td>\n",
       "      <td>0.083333</td>\n",
       "      <td>0.090909</td>\n",
       "      <td>0.75</td>\n",
       "      <td>1.00</td>\n",
       "      <td>0.666667</td>\n",
       "      <td>0.033333</td>\n",
       "      <td>0.000000</td>\n",
       "      <td>0.454545</td>\n",
       "      <td>0.000000</td>\n",
       "      <td>0.050</td>\n",
       "      <td>0.0</td>\n",
       "    </tr>\n",
       "    <tr>\n",
       "      <th>3</th>\n",
       "      <td>0.75</td>\n",
       "      <td>0.0</td>\n",
       "      <td>0.000</td>\n",
       "      <td>0.00</td>\n",
       "      <td>0.714286</td>\n",
       "      <td>0.571429</td>\n",
       "      <td>0.5</td>\n",
       "      <td>0.000000</td>\n",
       "      <td>0.000000</td>\n",
       "      <td>0.50</td>\n",
       "      <td>0.50</td>\n",
       "      <td>0.781609</td>\n",
       "      <td>0.033333</td>\n",
       "      <td>0.230769</td>\n",
       "      <td>0.454545</td>\n",
       "      <td>0.000000</td>\n",
       "      <td>0.005</td>\n",
       "      <td>0.0</td>\n",
       "    </tr>\n",
       "    <tr>\n",
       "      <th>4</th>\n",
       "      <td>1.00</td>\n",
       "      <td>0.0</td>\n",
       "      <td>0.125</td>\n",
       "      <td>0.50</td>\n",
       "      <td>0.571429</td>\n",
       "      <td>0.571429</td>\n",
       "      <td>0.4</td>\n",
       "      <td>0.250000</td>\n",
       "      <td>0.090909</td>\n",
       "      <td>0.00</td>\n",
       "      <td>0.00</td>\n",
       "      <td>0.344828</td>\n",
       "      <td>0.100000</td>\n",
       "      <td>0.333333</td>\n",
       "      <td>0.363636</td>\n",
       "      <td>0.285714</td>\n",
       "      <td>0.050</td>\n",
       "      <td>0.0</td>\n",
       "    </tr>\n",
       "  </tbody>\n",
       "</table>\n",
       "</div>"
      ],
      "text/plain": [
       "    CAR  CARSHARE  DRVRCNT  EDUC  HBPPOPDN   HBRESDN  HHFAMINC    HHSIZE  \\\n",
       "0  1.00       0.0    0.000  0.75  0.714286  0.428571       0.5  0.000000   \n",
       "1  1.00       0.0    0.250  0.25  0.571429  0.428571       0.3  0.166667   \n",
       "2  1.00       0.0    0.125  0.75  0.142857  0.142857       1.0  0.083333   \n",
       "3  0.75       0.0    0.000  0.00  0.714286  0.571429       0.5  0.000000   \n",
       "4  1.00       0.0    0.125  0.50  0.571429  0.571429       0.4  0.250000   \n",
       "\n",
       "   HHVEHCNT  PLACE  PRICE     R_AGE  TIMETOWK    VEHAGE  VEHOWNMO  WRKCOUNT  \\\n",
       "0  0.090909   0.50   0.50  0.609195  0.033333  0.000000  0.454545  0.142857   \n",
       "1  0.090909   0.25   0.25  0.609195  0.033333  0.153846  0.454545  0.142857   \n",
       "2  0.090909   0.75   1.00  0.666667  0.033333  0.000000  0.454545  0.000000   \n",
       "3  0.000000   0.50   0.50  0.781609  0.033333  0.230769  0.454545  0.000000   \n",
       "4  0.090909   0.00   0.00  0.344828  0.100000  0.333333  0.363636  0.285714   \n",
       "\n",
       "   YEARMILE  YOUNGCHILD  \n",
       "0     0.050         0.0  \n",
       "1     0.050         0.0  \n",
       "2     0.050         0.0  \n",
       "3     0.005         0.0  \n",
       "4     0.050         0.0  "
      ]
     },
     "execution_count": 34,
     "metadata": {},
     "output_type": "execute_result"
    }
   ],
   "source": [
    "X_train_numeric.head()"
   ]
  },
  {
   "cell_type": "code",
   "execution_count": 35,
   "metadata": {
    "scrolled": true
   },
   "outputs": [
    {
     "data": {
      "text/plain": [
       "(140394, 18)"
      ]
     },
     "execution_count": 35,
     "metadata": {},
     "output_type": "execute_result"
    }
   ],
   "source": [
    "X_train_numeric.shape"
   ]
  },
  {
   "cell_type": "code",
   "execution_count": 36,
   "metadata": {},
   "outputs": [],
   "source": [
    "# NEW: numeric only values\n",
    "X_test_numeric = X_test.iloc[:, 29:]"
   ]
  },
  {
   "cell_type": "code",
   "execution_count": 37,
   "metadata": {},
   "outputs": [
    {
     "name": "stdout",
     "output_type": "stream",
     "text": [
      "<class 'pandas.core.frame.DataFrame'>\n",
      "Int64Index: 60170 entries, 0 to 60169\n",
      "Data columns (total 18 columns):\n",
      " #   Column      Non-Null Count  Dtype  \n",
      "---  ------      --------------  -----  \n",
      " 0   CAR         60170 non-null  float64\n",
      " 1   CARSHARE    60170 non-null  float64\n",
      " 2   DRVRCNT     60170 non-null  float64\n",
      " 3   EDUC        60170 non-null  float64\n",
      " 4   HBPPOPDN    60170 non-null  float64\n",
      " 5   HBRESDN     60170 non-null  float64\n",
      " 6   HHFAMINC    60170 non-null  float64\n",
      " 7   HHSIZE      60170 non-null  float64\n",
      " 8   HHVEHCNT    60170 non-null  float64\n",
      " 9   PLACE       60170 non-null  float64\n",
      " 10  PRICE       60170 non-null  float64\n",
      " 11  R_AGE       60170 non-null  float64\n",
      " 12  TIMETOWK    60170 non-null  float64\n",
      " 13  VEHAGE      60170 non-null  float64\n",
      " 14  VEHOWNMO    60170 non-null  float64\n",
      " 15  WRKCOUNT    60170 non-null  float64\n",
      " 16  YEARMILE    60170 non-null  float64\n",
      " 17  YOUNGCHILD  60170 non-null  float64\n",
      "dtypes: float64(18)\n",
      "memory usage: 8.7 MB\n"
     ]
    }
   ],
   "source": [
    "X_test_numeric.info(verbose=True)"
   ]
  },
  {
   "cell_type": "code",
   "execution_count": 38,
   "metadata": {},
   "outputs": [
    {
     "data": {
      "text/html": [
       "<div>\n",
       "<style scoped>\n",
       "    .dataframe tbody tr th:only-of-type {\n",
       "        vertical-align: middle;\n",
       "    }\n",
       "\n",
       "    .dataframe tbody tr th {\n",
       "        vertical-align: top;\n",
       "    }\n",
       "\n",
       "    .dataframe thead th {\n",
       "        text-align: right;\n",
       "    }\n",
       "</style>\n",
       "<table border=\"1\" class=\"dataframe\">\n",
       "  <thead>\n",
       "    <tr style=\"text-align: right;\">\n",
       "      <th></th>\n",
       "      <th>CAR</th>\n",
       "      <th>CARSHARE</th>\n",
       "      <th>DRVRCNT</th>\n",
       "      <th>EDUC</th>\n",
       "      <th>HBPPOPDN</th>\n",
       "      <th>HBRESDN</th>\n",
       "      <th>HHFAMINC</th>\n",
       "      <th>HHSIZE</th>\n",
       "      <th>HHVEHCNT</th>\n",
       "      <th>PLACE</th>\n",
       "      <th>PRICE</th>\n",
       "      <th>R_AGE</th>\n",
       "      <th>TIMETOWK</th>\n",
       "      <th>VEHAGE</th>\n",
       "      <th>VEHOWNMO</th>\n",
       "      <th>WRKCOUNT</th>\n",
       "      <th>YEARMILE</th>\n",
       "      <th>YOUNGCHILD</th>\n",
       "    </tr>\n",
       "  </thead>\n",
       "  <tbody>\n",
       "    <tr>\n",
       "      <th>0</th>\n",
       "      <td>1.0</td>\n",
       "      <td>0.0</td>\n",
       "      <td>0.125</td>\n",
       "      <td>0.75</td>\n",
       "      <td>0.714286</td>\n",
       "      <td>0.571429</td>\n",
       "      <td>0.9</td>\n",
       "      <td>0.083333</td>\n",
       "      <td>0.181818</td>\n",
       "      <td>0.25</td>\n",
       "      <td>0.25</td>\n",
       "      <td>0.252874</td>\n",
       "      <td>0.025000</td>\n",
       "      <td>0.076923</td>\n",
       "      <td>0.454545</td>\n",
       "      <td>0.285714</td>\n",
       "      <td>0.065</td>\n",
       "      <td>0.0</td>\n",
       "    </tr>\n",
       "    <tr>\n",
       "      <th>1</th>\n",
       "      <td>1.0</td>\n",
       "      <td>0.0</td>\n",
       "      <td>0.125</td>\n",
       "      <td>0.00</td>\n",
       "      <td>0.000000</td>\n",
       "      <td>0.000000</td>\n",
       "      <td>0.4</td>\n",
       "      <td>0.083333</td>\n",
       "      <td>0.181818</td>\n",
       "      <td>0.50</td>\n",
       "      <td>0.50</td>\n",
       "      <td>0.689655</td>\n",
       "      <td>0.033333</td>\n",
       "      <td>0.076923</td>\n",
       "      <td>0.363636</td>\n",
       "      <td>0.000000</td>\n",
       "      <td>0.015</td>\n",
       "      <td>0.0</td>\n",
       "    </tr>\n",
       "    <tr>\n",
       "      <th>2</th>\n",
       "      <td>1.0</td>\n",
       "      <td>0.0</td>\n",
       "      <td>0.000</td>\n",
       "      <td>0.25</td>\n",
       "      <td>0.142857</td>\n",
       "      <td>0.000000</td>\n",
       "      <td>0.3</td>\n",
       "      <td>0.250000</td>\n",
       "      <td>0.000000</td>\n",
       "      <td>1.00</td>\n",
       "      <td>0.25</td>\n",
       "      <td>0.310345</td>\n",
       "      <td>0.033333</td>\n",
       "      <td>0.384615</td>\n",
       "      <td>0.909091</td>\n",
       "      <td>0.142857</td>\n",
       "      <td>0.050</td>\n",
       "      <td>0.2</td>\n",
       "    </tr>\n",
       "    <tr>\n",
       "      <th>3</th>\n",
       "      <td>1.0</td>\n",
       "      <td>0.0</td>\n",
       "      <td>0.125</td>\n",
       "      <td>0.50</td>\n",
       "      <td>0.857143</td>\n",
       "      <td>0.714286</td>\n",
       "      <td>0.2</td>\n",
       "      <td>0.083333</td>\n",
       "      <td>0.090909</td>\n",
       "      <td>0.50</td>\n",
       "      <td>0.25</td>\n",
       "      <td>0.724138</td>\n",
       "      <td>0.075000</td>\n",
       "      <td>0.410256</td>\n",
       "      <td>0.454545</td>\n",
       "      <td>0.285714</td>\n",
       "      <td>0.025</td>\n",
       "      <td>0.0</td>\n",
       "    </tr>\n",
       "    <tr>\n",
       "      <th>4</th>\n",
       "      <td>1.0</td>\n",
       "      <td>0.0</td>\n",
       "      <td>0.125</td>\n",
       "      <td>0.75</td>\n",
       "      <td>0.571429</td>\n",
       "      <td>0.285714</td>\n",
       "      <td>0.9</td>\n",
       "      <td>0.250000</td>\n",
       "      <td>0.090909</td>\n",
       "      <td>0.00</td>\n",
       "      <td>0.00</td>\n",
       "      <td>0.356322</td>\n",
       "      <td>0.025000</td>\n",
       "      <td>0.025641</td>\n",
       "      <td>0.454545</td>\n",
       "      <td>0.142857</td>\n",
       "      <td>0.090</td>\n",
       "      <td>0.4</td>\n",
       "    </tr>\n",
       "  </tbody>\n",
       "</table>\n",
       "</div>"
      ],
      "text/plain": [
       "   CAR  CARSHARE  DRVRCNT  EDUC  HBPPOPDN   HBRESDN  HHFAMINC    HHSIZE  \\\n",
       "0  1.0       0.0    0.125  0.75  0.714286  0.571429       0.9  0.083333   \n",
       "1  1.0       0.0    0.125  0.00  0.000000  0.000000       0.4  0.083333   \n",
       "2  1.0       0.0    0.000  0.25  0.142857  0.000000       0.3  0.250000   \n",
       "3  1.0       0.0    0.125  0.50  0.857143  0.714286       0.2  0.083333   \n",
       "4  1.0       0.0    0.125  0.75  0.571429  0.285714       0.9  0.250000   \n",
       "\n",
       "   HHVEHCNT  PLACE  PRICE     R_AGE  TIMETOWK    VEHAGE  VEHOWNMO  WRKCOUNT  \\\n",
       "0  0.181818   0.25   0.25  0.252874  0.025000  0.076923  0.454545  0.285714   \n",
       "1  0.181818   0.50   0.50  0.689655  0.033333  0.076923  0.363636  0.000000   \n",
       "2  0.000000   1.00   0.25  0.310345  0.033333  0.384615  0.909091  0.142857   \n",
       "3  0.090909   0.50   0.25  0.724138  0.075000  0.410256  0.454545  0.285714   \n",
       "4  0.090909   0.00   0.00  0.356322  0.025000  0.025641  0.454545  0.142857   \n",
       "\n",
       "   YEARMILE  YOUNGCHILD  \n",
       "0     0.065         0.0  \n",
       "1     0.015         0.0  \n",
       "2     0.050         0.2  \n",
       "3     0.025         0.0  \n",
       "4     0.090         0.4  "
      ]
     },
     "execution_count": 38,
     "metadata": {},
     "output_type": "execute_result"
    }
   ],
   "source": [
    "X_test_numeric.head()"
   ]
  },
  {
   "cell_type": "code",
   "execution_count": 39,
   "metadata": {
    "scrolled": true
   },
   "outputs": [
    {
     "data": {
      "text/plain": [
       "(60170, 18)"
      ]
     },
     "execution_count": 39,
     "metadata": {},
     "output_type": "execute_result"
    }
   ],
   "source": [
    "X_test_numeric.shape"
   ]
  },
  {
   "cell_type": "code",
   "execution_count": null,
   "metadata": {},
   "outputs": [],
   "source": []
  },
  {
   "cell_type": "code",
   "execution_count": null,
   "metadata": {},
   "outputs": [],
   "source": []
  },
  {
   "cell_type": "markdown",
   "metadata": {},
   "source": [
    "### Logistic Regression"
   ]
  },
  {
   "cell_type": "code",
   "execution_count": 40,
   "metadata": {},
   "outputs": [],
   "source": [
    "# null model boilerplate\n",
    "log_reg = LogisticRegression(fit_intercept=True, random_state=632966,\n",
    "                             class_weight='balanced', penalty=\"elasticnet\",\n",
    "                             solver=\"saga\", max_iter=500)\n",
    "\n",
    "#30 values of C to search over (can use fewer to speed things up);\n",
    "#would need to amend to use L2 or elastic net\n",
    "model_params = {\"model__C\": (np.logspace(start=-4, stop=4, num=4)),\n",
    "                \"model__l1_ratio\": np.linspace(0., 1., num=4)}\n",
    "\n",
    "# set up the pipeline: just contains the model object\n",
    "model_pipeline = Pipeline(steps=[(\"model\", log_reg)])\n",
    "\n",
    "cross_validator = (\n",
    "  model_selection.StratifiedShuffleSplit(train_size=0.8,\n",
    "                                         random_state=1337,\n",
    "                                         n_splits=10))\n",
    "\n",
    "# set up grid search\n",
    "# TODO: ue f-beta\n",
    "model_grid = (GridSearchCV(estimator=model_pipeline,\n",
    "                               param_grid=model_params,\n",
    "                               refit=True, # refit using best estimates\n",
    "                               scoring=\"f1_weighted\", # metric to optimize\n",
    "                               cv=cross_validator,\n",
    "                               n_jobs=-1))"
   ]
  },
  {
   "cell_type": "code",
   "execution_count": 41,
   "metadata": {},
   "outputs": [
    {
     "name": "stdout",
     "output_type": "stream",
     "text": [
      "Wall time: 16min 42s\n"
     ]
    },
    {
     "name": "stderr",
     "output_type": "stream",
     "text": [
      "C:\\Users\\kk67\\Anaconda3\\lib\\site-packages\\sklearn\\linear_model\\_sag.py:352: ConvergenceWarning: The max_iter was reached which means the coef_ did not converge\n",
      "  warnings.warn(\n"
     ]
    }
   ],
   "source": [
    "%%time\n",
    "# fit model\n",
    "log_model = model_grid.fit(X_train_numeric, y_train.values.ravel())"
   ]
  },
  {
   "cell_type": "code",
   "execution_count": 42,
   "metadata": {},
   "outputs": [
    {
     "data": {
      "text/plain": [
       "{'model__C': 0.046415888336127774, 'model__l1_ratio': 0.6666666666666666}"
      ]
     },
     "execution_count": 42,
     "metadata": {},
     "output_type": "execute_result"
    }
   ],
   "source": [
    "# NEW best params\n",
    "log_model.best_params_"
   ]
  },
  {
   "cell_type": "code",
   "execution_count": 43,
   "metadata": {},
   "outputs": [
    {
     "name": "stderr",
     "output_type": "stream",
     "text": [
      "C:\\Users\\kk67\\Anaconda3\\lib\\site-packages\\sklearn\\linear_model\\_sag.py:352: ConvergenceWarning: The max_iter was reached which means the coef_ did not converge\n",
      "  warnings.warn(\n"
     ]
    }
   ],
   "source": [
    "# NEW: best estimator fit\n",
    "#Question: Why use best_estimator?? - should be the optimal parameter\n",
    "log_best_train = log_model.best_estimator_.fit(X_train_numeric, y_train.values.ravel())\n",
    "log_best_train_pred = log_model.best_estimator_.predict_proba(X_train_numeric)"
   ]
  },
  {
   "cell_type": "code",
   "execution_count": 44,
   "metadata": {},
   "outputs": [
    {
     "name": "stdout",
     "output_type": "stream",
     "text": [
      "Wall time: 1min 23s\n"
     ]
    }
   ],
   "source": [
    "%%time\n",
    "# NEW: cross-val uncertainty\n",
    "# TODO: check for convergence\n",
    "log_reg_cv_scores = (\n",
    "    model_selection.cross_val_score(log_model.best_estimator_,\n",
    "                                    X_train_numeric,\n",
    "                                    y_train.to_numpy().ravel(),\n",
    "                                    scoring=\"roc_auc\",\n",
    "                                    cv=cross_validator,\n",
    "                                    n_jobs=-1))"
   ]
  },
  {
   "cell_type": "code",
   "execution_count": 45,
   "metadata": {},
   "outputs": [
    {
     "data": {
      "image/png": "[encoded data removed]",
      "text/plain": [
       "<Figure size 720x720 with 1 Axes>"
      ]
     },
     "metadata": {},
     "output_type": "display_data"
    }
   ],
   "source": [
    "plt.figure(figsize=(10,10))\n",
    "sns.histplot(log_reg_cv_scores);"
   ]
  },
  {
   "cell_type": "code",
   "execution_count": 46,
   "metadata": {},
   "outputs": [
    {
     "data": {
      "text/plain": [
       "(140394, 2)"
      ]
     },
     "execution_count": 46,
     "metadata": {},
     "output_type": "execute_result"
    }
   ],
   "source": [
    "# NEW: check shape\n",
    "log_best_train_pred.shape"
   ]
  },
  {
   "cell_type": "code",
   "execution_count": 47,
   "metadata": {},
   "outputs": [
    {
     "name": "stderr",
     "output_type": "stream",
     "text": [
      "C:\\Users\\kk67\\Anaconda3\\lib\\site-packages\\sklearn\\metrics\\_classification.py:1308: UndefinedMetricWarning: Precision is ill-defined and being set to 0.0 due to no predicted samples. Use `zero_division` parameter to control this behavior.\n",
      "  _warn_prf(average, modifier, msg_start, len(result))\n"
     ]
    },
    {
     "data": {
      "image/png": "[encoded data removed]",
      "text/plain": [
       "<Figure size 432x288 with 1 Axes>"
      ]
     },
     "metadata": {},
     "output_type": "display_data"
    }
   ],
   "source": [
    "# NEW: vectors of metrics\n",
    "# TODO: add weighting to them (source function)\n",
    "\n",
    "log_reg_pr, log_reg_rec, log_reg_f1 = threshold_and_plot(y_train, log_best_train_pred[:,1])"
   ]
  },
  {
   "cell_type": "code",
   "execution_count": 48,
   "metadata": {},
   "outputs": [
    {
     "data": {
      "text/plain": [
       "(0, 0.9849250591067825)"
      ]
     },
     "execution_count": 48,
     "metadata": {},
     "output_type": "execute_result"
    }
   ],
   "source": [
    "# NEW: F1 thresh\n",
    "max_thresh(log_reg_f1)"
   ]
  },
  {
   "cell_type": "code",
   "execution_count": 49,
   "metadata": {},
   "outputs": [],
   "source": [
    "# NEW: threshold that maximizes value\n",
    "log_reg_f1_preds = np.where(log_best_train_pred[:,1] > 0, 1, 0)"
   ]
  },
  {
   "cell_type": "code",
   "execution_count": 50,
   "metadata": {},
   "outputs": [
    {
     "data": {
      "image/png": "[encoded data removed]",
      "text/plain": [
       "<Figure size 432x288 with 2 Axes>"
      ]
     },
     "metadata": {},
     "output_type": "display_data"
    }
   ],
   "source": [
    "# NEW: confusion matrix\n",
    "\n",
    "# no normalization\n",
    "metrics.ConfusionMatrixDisplay.from_predictions(y_true=y_train, y_pred=log_reg_f1_preds);"
   ]
  },
  {
   "cell_type": "code",
   "execution_count": 51,
   "metadata": {},
   "outputs": [
    {
     "data": {
      "image/png": "[encoded data removed]",
      "text/plain": [
       "<Figure size 432x288 with 1 Axes>"
      ]
     },
     "metadata": {},
     "output_type": "display_data"
    }
   ],
   "source": [
    "# NEW: ROC AUC\n",
    "metrics.RocCurveDisplay.from_predictions(y_true=y_train, y_pred=log_reg_f1_preds);"
   ]
  },
  {
   "cell_type": "code",
   "execution_count": 52,
   "metadata": {},
   "outputs": [
    {
     "data": {
      "image/png": "[encoded data removed]",
      "text/plain": [
       "<Figure size 432x288 with 1 Axes>"
      ]
     },
     "metadata": {},
     "output_type": "display_data"
    }
   ],
   "source": [
    "# NEW: PR AUC\n",
    "metrics.PrecisionRecallDisplay.from_predictions(y_true=y_train, y_pred=log_reg_f1_preds);"
   ]
  },
  {
   "cell_type": "code",
   "execution_count": 53,
   "metadata": {},
   "outputs": [
    {
     "data": {
      "text/plain": [
       "0.0"
      ]
     },
     "execution_count": 53,
     "metadata": {},
     "output_type": "execute_result"
    }
   ],
   "source": [
    "# NEW: Matthews correlation\n",
    "metrics.matthews_corrcoef(y_true=y_train, y_pred=log_reg_f1_preds)"
   ]
  },
  {
   "cell_type": "code",
   "execution_count": 54,
   "metadata": {},
   "outputs": [
    {
     "data": {
      "text/html": [
       "<div>\n",
       "<style scoped>\n",
       "    .dataframe tbody tr th:only-of-type {\n",
       "        vertical-align: middle;\n",
       "    }\n",
       "\n",
       "    .dataframe tbody tr th {\n",
       "        vertical-align: top;\n",
       "    }\n",
       "\n",
       "    .dataframe thead th {\n",
       "        text-align: right;\n",
       "    }\n",
       "</style>\n",
       "<table border=\"1\" class=\"dataframe\">\n",
       "  <thead>\n",
       "    <tr style=\"text-align: right;\">\n",
       "      <th></th>\n",
       "      <th>targets</th>\n",
       "      <th>preds</th>\n",
       "    </tr>\n",
       "  </thead>\n",
       "  <tbody>\n",
       "    <tr>\n",
       "      <th>0</th>\n",
       "      <td>1</td>\n",
       "      <td>0.288828</td>\n",
       "    </tr>\n",
       "    <tr>\n",
       "      <th>1</th>\n",
       "      <td>1</td>\n",
       "      <td>0.766959</td>\n",
       "    </tr>\n",
       "    <tr>\n",
       "      <th>2</th>\n",
       "      <td>1</td>\n",
       "      <td>0.083978</td>\n",
       "    </tr>\n",
       "    <tr>\n",
       "      <th>3</th>\n",
       "      <td>1</td>\n",
       "      <td>0.833315</td>\n",
       "    </tr>\n",
       "    <tr>\n",
       "      <th>4</th>\n",
       "      <td>1</td>\n",
       "      <td>0.849495</td>\n",
       "    </tr>\n",
       "  </tbody>\n",
       "</table>\n",
       "</div>"
      ],
      "text/plain": [
       "   targets     preds\n",
       "0        1  0.288828\n",
       "1        1  0.766959\n",
       "2        1  0.083978\n",
       "3        1  0.833315\n",
       "4        1  0.849495"
      ]
     },
     "execution_count": 54,
     "metadata": {},
     "output_type": "execute_result"
    }
   ],
   "source": [
    "# NEW : prediction DataFrame\n",
    "log_reg_pred_df = pd.DataFrame({\"targets\": y_train.values.ravel(),\n",
    "                                \"preds\": log_best_train_pred[:,1]})\n",
    "\n",
    "log_reg_pred_df.head()"
   ]
  },
  {
   "cell_type": "code",
   "execution_count": 55,
   "metadata": {},
   "outputs": [
    {
     "data": {
      "image/png": "[encoded data removed]",
      "text/plain": [
       "<Figure size 720x720 with 1 Axes>"
      ]
     },
     "metadata": {},
     "output_type": "display_data"
    }
   ],
   "source": [
    "plt.figure(figsize=(10,10));\n",
    "sns.histplot(data=log_reg_pred_df, x=\"preds\", hue=\"targets\");"
   ]
  },
  {
   "cell_type": "code",
   "execution_count": 56,
   "metadata": {},
   "outputs": [],
   "source": [
    "# model predictions\n",
    "log_train_pred = log_model.predict_proba(X_train_numeric)\n",
    "log_test_pred = log_model.predict_proba(X_test_numeric)"
   ]
  },
  {
   "cell_type": "code",
   "execution_count": 57,
   "metadata": {},
   "outputs": [
    {
     "name": "stdout",
     "output_type": "stream",
     "text": [
      "Observed: 0.970 Fit: 0.547\n"
     ]
    }
   ],
   "source": [
    "# check to see if close to population value\n",
    "print(f\"Observed: {y_train.values.ravel().mean():.3f} Fit: {np.mean(log_train_pred[:,1]):.3f}\")"
   ]
  },
  {
   "cell_type": "code",
   "execution_count": 58,
   "metadata": {},
   "outputs": [
    {
     "name": "stderr",
     "output_type": "stream",
     "text": [
      "C:\\Users\\kk67\\Anaconda3\\lib\\site-packages\\sklearn\\metrics\\_classification.py:1308: UndefinedMetricWarning: Precision is ill-defined and being set to 0.0 due to no predicted samples. Use `zero_division` parameter to control this behavior.\n",
      "  _warn_prf(average, modifier, msg_start, len(result))\n"
     ]
    },
    {
     "data": {
      "image/png": "[encoded data removed]",
      "text/plain": [
       "<Figure size 432x288 with 1 Axes>"
      ]
     },
     "metadata": {},
     "output_type": "display_data"
    }
   ],
   "source": [
    "test_metric = threshold_and_plot(y_test=y_train, target=log_train_pred[:,1])"
   ]
  },
  {
   "cell_type": "code",
   "execution_count": 59,
   "metadata": {},
   "outputs": [
    {
     "name": "stdout",
     "output_type": "stream",
     "text": [
      "Maximum Precision:0.998 and id:0.9387755102040816\n",
      "Maximum Recall:1.000 and id:0.0\n",
      "Maximum F1:0.985 and id:0.0\n"
     ]
    }
   ],
   "source": [
    "max_idx_c = []\n",
    "# print out the maximum value\n",
    "# assumes that \"test_metrics\" is a tuple to be unpacked\n",
    "for metric, val in zip([\"Precision\", \"Recall\", \"F1\"], test_metric):\n",
    "    max_idx, max_val = max_thresh(val)\n",
    "    val = np.linspace(0, 1, 50)[max_idx]\n",
    "    max_idx_c.append(val)\n",
    "    print(f\"Maximum {metric}:{max_val:.3f} and id:{np.linspace(0, 1, 50)[max_idx]}\")"
   ]
  },
  {
   "cell_type": "code",
   "execution_count": 60,
   "metadata": {
    "scrolled": true
   },
   "outputs": [
    {
     "name": "stdout",
     "output_type": "stream",
     "text": [
      "Precision on Test: 0.9985212569316081\n",
      "Recall on Test: 1.0\n",
      "F1 score on Test: 0.9853202809467196\n"
     ]
    }
   ],
   "source": [
    "##Evaluate on the test data\n",
    "\n",
    "print(\"Precision on Test: {0}\".format(metrics.precision_score(y_test, np.where(log_test_pred[:,1] > max_idx_c[0], 1, 0))))\n",
    "print(\"Recall on Test: {0}\".format(metrics.recall_score(y_test, np.where(log_test_pred[:,1] > max_idx_c[1], 1, 0))))\n",
    "print(\"F1 score on Test: {0}\".format(metrics.f1_score(y_test, np.where(log_test_pred[:,1] > max_idx_c[2], 1, 0))))"
   ]
  },
  {
   "cell_type": "markdown",
   "metadata": {},
   "source": [
    "## Poisson Regression"
   ]
  },
  {
   "cell_type": "code",
   "execution_count": 61,
   "metadata": {},
   "outputs": [],
   "source": [
    "from sklearn import linear_model\n",
    "pos_reg = linear_model.PoissonRegressor()"
   ]
  },
  {
   "cell_type": "code",
   "execution_count": 62,
   "metadata": {},
   "outputs": [],
   "source": [
    "# 30 values of C to search over (can use fewer to speed things up);\n",
    "# would need to amend to use L2 or elastic net\n",
    "model_params = {\"model__alpha\": (np.linspace(0.0,1,20))}"
   ]
  },
  {
   "cell_type": "code",
   "execution_count": 63,
   "metadata": {},
   "outputs": [],
   "source": [
    "# set up the pipeline: just contains the model object\n",
    "model_pipeline = Pipeline(steps=[('model', pos_reg)])"
   ]
  },
  {
   "cell_type": "code",
   "execution_count": 64,
   "metadata": {},
   "outputs": [],
   "source": [
    "# set up grid search\n",
    "model_grid_pos = (GridSearchCV(estimator=model_pipeline,\n",
    "                               param_grid=model_params,\n",
    "                               refit=True, # refit using best estimates\n",
    "                               scoring=\"f1_weighted\", # metric to optimize\n",
    "                               cv=cross_validator,\n",
    "                               n_jobs=-1))"
   ]
  },
  {
   "cell_type": "code",
   "execution_count": 65,
   "metadata": {},
   "outputs": [
    {
     "name": "stderr",
     "output_type": "stream",
     "text": [
      "C:\\Users\\kk67\\Anaconda3\\lib\\site-packages\\sklearn\\model_selection\\_search.py:969: UserWarning: One or more of the test scores are non-finite: [nan nan nan nan nan nan nan nan nan nan nan nan nan nan nan nan nan nan\n",
      " nan nan]\n",
      "  warnings.warn(\n"
     ]
    }
   ],
   "source": [
    "# fit model\n",
    "pos_model = model_grid_pos.fit(X_train_numeric, y_train.values.ravel())"
   ]
  },
  {
   "cell_type": "code",
   "execution_count": 66,
   "metadata": {},
   "outputs": [],
   "source": [
    "# model predictions\n",
    "pos_train_pred = pos_model.predict(X_train_numeric)\n",
    "pos_test_pred = pos_model.predict(X_test_numeric)"
   ]
  },
  {
   "cell_type": "code",
   "execution_count": 67,
   "metadata": {},
   "outputs": [
    {
     "name": "stdout",
     "output_type": "stream",
     "text": [
      "Observed: 0.970 Fit: 0.970\n"
     ]
    }
   ],
   "source": [
    "# check to see if close to population value\n",
    "print(f\"Observed: {y_train.values.ravel().mean():.3f} Fit: {np.mean(pos_train_pred):.3f}\")"
   ]
  },
  {
   "cell_type": "code",
   "execution_count": 68,
   "metadata": {},
   "outputs": [
    {
     "data": {
      "image/png": "[encoded data removed]",
      "text/plain": [
       "<Figure size 432x288 with 1 Axes>"
      ]
     },
     "metadata": {},
     "output_type": "display_data"
    }
   ],
   "source": [
    "pos_reg_pr, pos_reg_rec, pos_reg_f1 = threshold_and_plot(y_test=y_train, target=pos_train_pred)\n"
   ]
  },
  {
   "cell_type": "code",
   "execution_count": 69,
   "metadata": {},
   "outputs": [
    {
     "data": {
      "image/png": "[encoded data removed]",
      "text/plain": [
       "<Figure size 432x288 with 1 Axes>"
      ]
     },
     "metadata": {},
     "output_type": "display_data"
    }
   ],
   "source": [
    "test_metric_pos = threshold_and_plot(y_test=y_train, target=pos_train_pred)"
   ]
  },
  {
   "cell_type": "code",
   "execution_count": 70,
   "metadata": {},
   "outputs": [
    {
     "data": {
      "text/plain": [
       "(0, 0.9849250591067825)"
      ]
     },
     "execution_count": 70,
     "metadata": {},
     "output_type": "execute_result"
    }
   ],
   "source": [
    "# NEW: F1 thresh\n",
    "max_thresh(pos_reg_f1)\n",
    "#results seem to be similar to logistic regression"
   ]
  },
  {
   "cell_type": "code",
   "execution_count": 71,
   "metadata": {},
   "outputs": [],
   "source": [
    "# NEW: threshold that maximizes value\n",
    "pos_reg_f1_preds = np.where(pos_train_pred> 0, 1, 0)"
   ]
  },
  {
   "cell_type": "code",
   "execution_count": 72,
   "metadata": {},
   "outputs": [
    {
     "data": {
      "image/png": "[encoded data removed]",
      "text/plain": [
       "<Figure size 432x288 with 2 Axes>"
      ]
     },
     "metadata": {},
     "output_type": "display_data"
    }
   ],
   "source": [
    "# NEW: confusion matrix\n",
    "\n",
    "# no normalization\n",
    "metrics.ConfusionMatrixDisplay.from_predictions(y_true=y_train, y_pred=pos_reg_f1_preds);\n",
    "#results are the same"
   ]
  },
  {
   "cell_type": "code",
   "execution_count": 73,
   "metadata": {},
   "outputs": [
    {
     "data": {
      "image/png": "[encoded data removed]",
      "text/plain": [
       "<Figure size 432x288 with 1 Axes>"
      ]
     },
     "metadata": {},
     "output_type": "display_data"
    }
   ],
   "source": [
    "# NEW: ROC AUC\n",
    "metrics.RocCurveDisplay.from_predictions(y_true=y_train, y_pred=pos_reg_f1_preds);\n",
    "#once again guessing happening"
   ]
  },
  {
   "cell_type": "code",
   "execution_count": 74,
   "metadata": {},
   "outputs": [
    {
     "data": {
      "image/png": "[encoded data removed]",
      "text/plain": [
       "<Figure size 432x288 with 1 Axes>"
      ]
     },
     "metadata": {},
     "output_type": "display_data"
    }
   ],
   "source": [
    "# NEW: PR AUC\n",
    "metrics.PrecisionRecallDisplay.from_predictions(y_true=y_train, y_pred=pos_reg_f1_preds);"
   ]
  },
  {
   "cell_type": "code",
   "execution_count": 75,
   "metadata": {},
   "outputs": [
    {
     "data": {
      "text/plain": [
       "0.0"
      ]
     },
     "execution_count": 75,
     "metadata": {},
     "output_type": "execute_result"
    }
   ],
   "source": [
    "# NEW: Matthews correlation\n",
    "metrics.matthews_corrcoef(y_true=y_train, y_pred=pos_reg_f1_preds)"
   ]
  },
  {
   "cell_type": "code",
   "execution_count": 76,
   "metadata": {},
   "outputs": [
    {
     "name": "stdout",
     "output_type": "stream",
     "text": [
      "Maximum Precision:0.997 and id:1.0\n",
      "Maximum Recall:1.000 and id:0.0\n",
      "Maximum F1:0.985 and id:0.0\n"
     ]
    }
   ],
   "source": [
    "max_idx_c = []\n",
    "# print out the maximum value\n",
    "# assumes that \"test_metrics\" is a tuple to be unpacked\n",
    "for metric, val in zip([\"Precision\", \"Recall\", \"F1\"], test_metric_pos):\n",
    "    max_idx, max_val = max_thresh(val)\n",
    "    val = np.linspace(0, 1, 50)[max_idx]\n",
    "    max_idx_c.append(val)\n",
    "    print(f\"Maximum {metric}:{max_val:.3f} and id:{np.linspace(0, 1, 50)[max_idx]}\")"
   ]
  },
  {
   "cell_type": "code",
   "execution_count": 77,
   "metadata": {
    "scrolled": true
   },
   "outputs": [
    {
     "name": "stdout",
     "output_type": "stream",
     "text": [
      "Precision on Test: 0.9980879541108987\n",
      "Recall on Test: 1.0\n",
      "F1 score on Test: 0.9853202809467196\n"
     ]
    }
   ],
   "source": [
    "##Evaluate on the test data\n",
    "\n",
    "print(\"Precision on Test: {0}\".format(metrics.precision_score(y_test, np.where(pos_test_pred> max_idx_c[0], 1, 0))))\n",
    "print(\"Recall on Test: {0}\".format(metrics.recall_score(y_test, np.where(pos_test_pred > max_idx_c[1], 1, 0))))\n",
    "print(\"F1 score on Test: {0}\".format(metrics.f1_score(y_test, np.where(pos_test_pred > max_idx_c[2], 1, 0))))"
   ]
  },
  {
   "cell_type": "markdown",
   "metadata": {},
   "source": [
    "### Random Forest"
   ]
  },
  {
   "cell_type": "code",
   "execution_count": 78,
   "metadata": {},
   "outputs": [],
   "source": [
    "rfc = RandomForestClassifier(random_state = 42)"
   ]
  },
  {
   "cell_type": "code",
   "execution_count": 79,
   "metadata": {},
   "outputs": [],
   "source": [
    "# 30 values of C to search over (can use fewer to speed things up);\n",
    "# would need to amend to use L2 or elastic net\n",
    "model_params = {'model__n_estimators': [100, 200],\n",
    "    'model__max_features': ['auto', 'sqrt'],\n",
    "    'model__max_depth' : [4, 5, 6],\n",
    "    'model__criterion' :['gini']}"
   ]
  },
  {
   "cell_type": "code",
   "execution_count": 80,
   "metadata": {},
   "outputs": [],
   "source": [
    "# set up the pipeline: just contains the model object\n",
    "model_pipeline = Pipeline(steps=[('model', rfc)])"
   ]
  },
  {
   "cell_type": "code",
   "execution_count": 81,
   "metadata": {},
   "outputs": [],
   "source": [
    "# set up grid search\n",
    "model_grid_rfc = (GridSearchCV(estimator=model_pipeline,\n",
    "                               param_grid=model_params,\n",
    "                               refit=True, # refit using best estimates\n",
    "                               scoring=\"f1_weighted\", # metric to optimize\n",
    "                               cv=cross_validator,\n",
    "                               n_jobs=-1))"
   ]
  },
  {
   "cell_type": "code",
   "execution_count": 82,
   "metadata": {},
   "outputs": [],
   "source": [
    "# fit model\n",
    "rfc_model = model_grid_rfc.fit(X_train_numeric, y_train.values.ravel())"
   ]
  },
  {
   "cell_type": "code",
   "execution_count": 83,
   "metadata": {},
   "outputs": [
    {
     "data": {
      "text/plain": [
       "(140394, 18)"
      ]
     },
     "execution_count": 83,
     "metadata": {},
     "output_type": "execute_result"
    }
   ],
   "source": [
    "X_train_numeric.shape"
   ]
  },
  {
   "cell_type": "code",
   "execution_count": 84,
   "metadata": {},
   "outputs": [],
   "source": [
    "# model predictions\n",
    "rfc_train_pred = rfc_model.predict_proba(X_train_numeric)\n",
    "rfc_test_pred = rfc_model.predict_proba(X_test_numeric)"
   ]
  },
  {
   "cell_type": "code",
   "execution_count": 85,
   "metadata": {},
   "outputs": [
    {
     "data": {
      "text/plain": [
       "array([[0.03174154, 0.96825846],\n",
       "       [0.02835758, 0.97164242],\n",
       "       [0.03266777, 0.96733223],\n",
       "       ...,\n",
       "       [0.02793491, 0.97206509],\n",
       "       [0.02060048, 0.97939952],\n",
       "       [0.04088367, 0.95911633]])"
      ]
     },
     "execution_count": 85,
     "metadata": {},
     "output_type": "execute_result"
    }
   ],
   "source": [
    "rfc_train_pred"
   ]
  },
  {
   "cell_type": "code",
   "execution_count": 86,
   "metadata": {},
   "outputs": [
    {
     "name": "stdout",
     "output_type": "stream",
     "text": [
      "Observed: 0.970 Fit: 0.970\n"
     ]
    }
   ],
   "source": [
    "\n",
    "# check to see if close to population value\n",
    "print(f\"Observed: {y_train.values.ravel().mean():.3f} Fit: {np.mean(rfc_train_pred[:,1]):.3f}\")"
   ]
  },
  {
   "cell_type": "code",
   "execution_count": 87,
   "metadata": {},
   "outputs": [
    {
     "name": "stderr",
     "output_type": "stream",
     "text": [
      "C:\\Users\\kk67\\Anaconda3\\lib\\site-packages\\sklearn\\metrics\\_classification.py:1308: UndefinedMetricWarning: Precision is ill-defined and being set to 0.0 due to no predicted samples. Use `zero_division` parameter to control this behavior.\n",
      "  _warn_prf(average, modifier, msg_start, len(result))\n"
     ]
    },
    {
     "data": {
      "image/png": "[encoded data removed]",
      "text/plain": [
       "<Figure size 432x288 with 1 Axes>"
      ]
     },
     "metadata": {},
     "output_type": "display_data"
    }
   ],
   "source": [
    "rfc_reg_pr, rfc_reg_rec, rfc_reg_f1 = threshold_and_plot(y_test=y_train, target=rfc_train_pred[:,1])\n",
    "\n",
    "\n"
   ]
  },
  {
   "cell_type": "code",
   "execution_count": 88,
   "metadata": {},
   "outputs": [
    {
     "name": "stderr",
     "output_type": "stream",
     "text": [
      "C:\\Users\\kk67\\Anaconda3\\lib\\site-packages\\sklearn\\metrics\\_classification.py:1308: UndefinedMetricWarning: Precision is ill-defined and being set to 0.0 due to no predicted samples. Use `zero_division` parameter to control this behavior.\n",
      "  _warn_prf(average, modifier, msg_start, len(result))\n"
     ]
    },
    {
     "data": {
      "image/png": "[encoded data removed]",
      "text/plain": [
       "<Figure size 432x288 with 1 Axes>"
      ]
     },
     "metadata": {},
     "output_type": "display_data"
    }
   ],
   "source": [
    "test_metric_rfc = threshold_and_plot(y_test=y_train, target=rfc_train_pred[:,1])"
   ]
  },
  {
   "cell_type": "code",
   "execution_count": 89,
   "metadata": {},
   "outputs": [
    {
     "data": {
      "text/plain": [
       "(0, 0.9849250591067825)"
      ]
     },
     "execution_count": 89,
     "metadata": {},
     "output_type": "execute_result"
    }
   ],
   "source": [
    "# NEW: F1 thresh\n",
    "max_thresh(rfc_reg_f1)\n",
    "#results seem to be similar to logistic regression"
   ]
  },
  {
   "cell_type": "code",
   "execution_count": 90,
   "metadata": {},
   "outputs": [],
   "source": [
    "# NEW: threshold that maximizes value\n",
    "rfc_reg_f1_preds = np.where(rfc_train_pred[:,1]> 0, 1, 0)"
   ]
  },
  {
   "cell_type": "code",
   "execution_count": 91,
   "metadata": {},
   "outputs": [
    {
     "data": {
      "text/plain": [
       "(140394,)"
      ]
     },
     "execution_count": 91,
     "metadata": {},
     "output_type": "execute_result"
    }
   ],
   "source": [
    "rfc_reg_f1_preds.shape"
   ]
  },
  {
   "cell_type": "code",
   "execution_count": 92,
   "metadata": {},
   "outputs": [
    {
     "data": {
      "image/png": "[encoded data removed]",
      "text/plain": [
       "<Figure size 432x288 with 2 Axes>"
      ]
     },
     "metadata": {},
     "output_type": "display_data"
    }
   ],
   "source": [
    "# NEW: confusion matrix\n",
    "\n",
    "# no normalization\n",
    "metrics.ConfusionMatrixDisplay.from_predictions(y_true=y_train, y_pred=rfc_reg_f1_preds);\n",
    "#results are the same"
   ]
  },
  {
   "cell_type": "code",
   "execution_count": 93,
   "metadata": {},
   "outputs": [
    {
     "data": {
      "image/png": "[encoded data removed]",
      "text/plain": [
       "<Figure size 432x288 with 1 Axes>"
      ]
     },
     "metadata": {},
     "output_type": "display_data"
    }
   ],
   "source": [
    "# NEW: ROC AUC\n",
    "metrics.RocCurveDisplay.from_predictions(y_true=y_train, y_pred=rfc_reg_f1_preds);\n",
    "#once again guessing happening"
   ]
  },
  {
   "cell_type": "code",
   "execution_count": 94,
   "metadata": {},
   "outputs": [
    {
     "data": {
      "image/png": "[encoded data removed]",
      "text/plain": [
       "<Figure size 432x288 with 1 Axes>"
      ]
     },
     "metadata": {},
     "output_type": "display_data"
    }
   ],
   "source": [
    "# NEW: PR AUC\n",
    "metrics.PrecisionRecallDisplay.from_predictions(y_true=y_train, y_pred=rfc_reg_f1_preds);"
   ]
  },
  {
   "cell_type": "code",
   "execution_count": 95,
   "metadata": {},
   "outputs": [
    {
     "data": {
      "text/plain": [
       "0.0"
      ]
     },
     "execution_count": 95,
     "metadata": {},
     "output_type": "execute_result"
    }
   ],
   "source": [
    "# NEW: Matthews correlation\n",
    "metrics.matthews_corrcoef(y_true=y_train, y_pred=pos_reg_f1_preds)"
   ]
  },
  {
   "cell_type": "code",
   "execution_count": 96,
   "metadata": {},
   "outputs": [
    {
     "name": "stdout",
     "output_type": "stream",
     "text": [
      "Maximum Precision:0.995 and id:0.9795918367346939\n",
      "Maximum Recall:1.000 and id:0.0\n",
      "Maximum F1:0.985 and id:0.0\n"
     ]
    }
   ],
   "source": [
    "max_idx_c = []\n",
    "# print out the maximum value\n",
    "# assumes that \"test_metrics\" is a tuple to be unpacked\n",
    "for metric, val in zip([\"Precision\", \"Recall\", \"F1\"], test_metric_rfc):\n",
    "    max_idx, max_val = max_thresh(val)\n",
    "    val = np.linspace(0, 1, 50)[max_idx]\n",
    "    max_idx_c.append(val)\n",
    "    print(f\"Maximum {metric}:{max_val:.3f} and id:{np.linspace(0, 1, 50)[max_idx]}\")"
   ]
  },
  {
   "cell_type": "code",
   "execution_count": 97,
   "metadata": {
    "scrolled": true
   },
   "outputs": [
    {
     "name": "stdout",
     "output_type": "stream",
     "text": [
      "Precision on Test: 0.9948064464314398\n",
      "Recall on Test: 1.0\n",
      "F1 score on Test: 0.9853202809467196\n"
     ]
    }
   ],
   "source": [
    "##Evaluate on the test data\n",
    "\n",
    "print(\"Precision on Test: {0}\".format(metrics.precision_score(y_test, np.where(rfc_test_pred[:,1] > max_idx_c[0], 1, 0))))\n",
    "print(\"Recall on Test: {0}\".format(metrics.recall_score(y_test, np.where(rfc_test_pred[:,1] > max_idx_c[1], 1, 0))))\n",
    "print(\"F1 score on Test: {0}\".format(metrics.f1_score(y_test, np.where(rfc_test_pred[:,1] > max_idx_c[2], 1, 0))))"
   ]
  },
  {
   "cell_type": "markdown",
   "metadata": {},
   "source": [
    "# NEW: numeric variable importance"
   ]
  },
  {
   "cell_type": "code",
   "execution_count": 98,
   "metadata": {},
   "outputs": [
    {
     "name": "stdout",
     "output_type": "stream",
     "text": [
      "Wall time: 21.7 s\n"
     ]
    }
   ],
   "source": [
    "%%time\n",
    "# fit AdaBoost model\n",
    "ada_def = ensemble.AdaBoostClassifier(n_estimators=150,\n",
    "                                      random_state=2021)\n",
    "ada_model = ada_def.fit(X_train, y_train.values.ravel())"
   ]
  },
  {
   "cell_type": "code",
   "execution_count": 99,
   "metadata": {},
   "outputs": [
    {
     "name": "stdout",
     "output_type": "stream",
     "text": [
      "Wall time: 8.64 s\n"
     ]
    }
   ],
   "source": [
    "%%time\n",
    "# fit gradient boosting model\n",
    "gb_def = ensemble.GradientBoostingClassifier(n_estimators=150,\n",
    "                                             loss=\"deviance\",\n",
    "                                             max_features=\"sqrt\",\n",
    "                                             random_state=2021)\n",
    "gb_model = gb_def.fit(X_train_numeric, y_train.values.ravel())"
   ]
  },
  {
   "cell_type": "code",
   "execution_count": 100,
   "metadata": {},
   "outputs": [],
   "source": [
    "# calculate variable importance\n",
    "ada_rel_importance = ada_model.feature_importances_\n",
    "gb_rel_importance = gb_model.feature_importances_\n",
    "\n",
    "# TODO: determine correct amount to take\n",
    "# ADA\n",
    "ada_feature_importance = 100.0 * (ada_rel_importance / ada_rel_importance.max())\n",
    "ada_sorted_idx = np.argsort(ada_feature_importance)\n",
    "ada_sorted_cols = X_train.columns.values[ada_sorted_idx]\n",
    "\n",
    "# GB\n",
    "gb_feature_importance = 100.0 * (gb_rel_importance / gb_rel_importance.max())\n",
    "gb_sorted_idx = np.argsort(gb_feature_importance)\n",
    "gb_sorted_cols = X_train.columns.values[gb_sorted_idx]\n"
   ]
  },
  {
   "cell_type": "code",
   "execution_count": 101,
   "metadata": {},
   "outputs": [
    {
     "data": {
      "image/png": "[encoded data removed]",
      "text/plain": [
       "<Figure size 720x720 with 1 Axes>"
      ]
     },
     "metadata": {},
     "output_type": "display_data"
    }
   ],
   "source": [
    "pos = np.arange(ada_sorted_idx.shape[0]) + .5\n",
    "\n",
    "plt.figure(figsize=(10,10))\n",
    "plt.barh(pos, ada_feature_importance[ada_sorted_idx], align='center')\n",
    "plt.yticks(pos, ada_sorted_cols)\n",
    "plt.xlabel('Relative Importance')\n",
    "plt.title('Variable Importance - Ada boost')\n",
    "plt.show()"
   ]
  },
  {
   "cell_type": "code",
   "execution_count": 102,
   "metadata": {},
   "outputs": [
    {
     "data": {
      "image/png": "[encoded data removed]",
      "text/plain": [
       "<Figure size 720x720 with 1 Axes>"
      ]
     },
     "metadata": {},
     "output_type": "display_data"
    }
   ],
   "source": [
    "pos = np.arange(gb_sorted_idx.shape[0]) + .5\n",
    "\n",
    "plt.figure(figsize=(10,10))\n",
    "plt.barh(pos, gb_feature_importance[gb_sorted_idx], align='center')\n",
    "plt.yticks(pos, gb_sorted_cols)\n",
    "plt.xlabel('Relative Importance')\n",
    "plt.title('Variable Importance - Gradient boost')\n",
    "plt.show()"
   ]
  },
  {
   "cell_type": "code",
   "execution_count": 103,
   "metadata": {},
   "outputs": [],
   "source": [
    "impt_fmla = \"HHSTATE_label_PACIFIC * EDUC * HHFAMINC * R_AGE * PLACE * PRICE - 1\"\n",
    "X_train_import = dmatrix(impt_fmla, X_train)\n",
    "X_train_names = X_train_import.design_info.column_names"
   ]
  },
  {
   "cell_type": "code",
   "execution_count": 104,
   "metadata": {},
   "outputs": [
    {
     "data": {
      "text/plain": [
       "patsy.design_info.DesignMatrix"
      ]
     },
     "execution_count": 104,
     "metadata": {},
     "output_type": "execute_result"
    }
   ],
   "source": [
    "type(X_train_import)"
   ]
  },
  {
   "cell_type": "markdown",
   "metadata": {},
   "source": [
    "# NEW: Support Vector Classifier"
   ]
  },
  {
   "cell_type": "code",
   "execution_count": 105,
   "metadata": {},
   "outputs": [
    {
     "data": {
      "text/plain": [
       "'svc = svm.SVC(kernel=\"linear\", gamma=\"scale\", shrinking=True,\\n              probability=True, class_weight=\"balanced\",\\n              random_state=1337)\\n\\n# model_params = {\"model__C\": (np.logspace(start=-4, stop=4, num=10))}\\nmodel_params = {\"model__C\": [1.]}\\n\\nmodel_pipeline = Pipeline(steps=[(\"model\", svc)])\\n\\ncross_validator = (\\n  model_selection.StratifiedShuffleSplit(train_size=0.8,\\n                                         random_state=1337,\\n                                         n_splits=10))\\n\\n# set up grid search\\n# TODO: ue f-beta\\nmodel_grid = (GridSearchCV(estimator=model_pipeline,\\n                               param_grid=model_params,\\n                               refit=True, # refit using best estimates\\n                               scoring=\"f1_weighted\", # metric to optimize\\n                               cv=cross_validator,\\n                               n_jobs=-1))'"
      ]
     },
     "execution_count": 105,
     "metadata": {},
     "output_type": "execute_result"
    }
   ],
   "source": [
    "'''svc = svm.SVC(kernel=\"linear\", gamma=\"scale\", shrinking=True,\n",
    "              probability=True, class_weight=\"balanced\",\n",
    "              random_state=1337)\n",
    "\n",
    "# model_params = {\"model__C\": (np.logspace(start=-4, stop=4, num=10))}\n",
    "model_params = {\"model__C\": [1.]}\n",
    "\n",
    "model_pipeline = Pipeline(steps=[(\"model\", svc)])\n",
    "\n",
    "cross_validator = (\n",
    "  model_selection.StratifiedShuffleSplit(train_size=0.8,\n",
    "                                         random_state=1337,\n",
    "                                         n_splits=10))\n",
    "\n",
    "# set up grid search\n",
    "# TODO: ue f-beta\n",
    "model_grid = (GridSearchCV(estimator=model_pipeline,\n",
    "                               param_grid=model_params,\n",
    "                               refit=True, # refit using best estimates\n",
    "                               scoring=\"f1_weighted\", # metric to optimize\n",
    "                               cv=cross_validator,\n",
    "                               n_jobs=-1))'''"
   ]
  },
  {
   "cell_type": "code",
   "execution_count": 106,
   "metadata": {},
   "outputs": [
    {
     "data": {
      "text/plain": [
       "'%%time\\nsvc_model = model_grid.fit(X_train_numeric, y_train.values.ravel())'"
      ]
     },
     "execution_count": 106,
     "metadata": {},
     "output_type": "execute_result"
    }
   ],
   "source": [
    "'''%%time\n",
    "svc_model = model_grid.fit(X_train_numeric, y_train.values.ravel())'''"
   ]
  },
  {
   "cell_type": "markdown",
   "metadata": {},
   "source": [
    "# SGD Classifier"
   ]
  },
  {
   "cell_type": "code",
   "execution_count": 107,
   "metadata": {},
   "outputs": [],
   "source": [
    "# hing loss = linear SVM\n",
    "sgd = linear_model.SGDClassifier(loss=\"modified_huber\", penalty=\"l2\",\n",
    "                                 fit_intercept=True, n_jobs=-1,\n",
    "                                 random_state=1337, eta0=1e-3,\n",
    "                                 validation_fraction=0.2)\n",
    "\n",
    "\n",
    "model_params = {\"model__alpha\": np.linspace(-3., 3., 10)}\n",
    "\n",
    "model_pipeline = Pipeline(steps=[(\"model\", sgd)])\n",
    "\n",
    "cross_validator = (\n",
    "  model_selection.StratifiedShuffleSplit(train_size=0.8,\n",
    "                                         random_state=1337,\n",
    "                                         n_splits=10))\n",
    "\n",
    "# set up grid search\n",
    "# TODO: ue f-beta\n",
    "model_grid = (GridSearchCV(estimator=model_pipeline,\n",
    "                               param_grid=model_params,\n",
    "                               refit=True, # refit using best estimates\n",
    "                               scoring=\"roc_auc\", # metric to optimize\n",
    "                               cv=cross_validator,\n",
    "                               n_jobs=-1))"
   ]
  },
  {
   "cell_type": "code",
   "execution_count": 108,
   "metadata": {},
   "outputs": [
    {
     "name": "stdout",
     "output_type": "stream",
     "text": [
      "Wall time: 93.2 ms\n"
     ]
    }
   ],
   "source": [
    "%%time\n",
    "sgd_model = sgd.partial_fit(np.array(X_train_import), y_train.values.ravel(), np.unique(y_train))"
   ]
  },
  {
   "cell_type": "code",
   "execution_count": 109,
   "metadata": {},
   "outputs": [],
   "source": [
    "sgd_best_train_pred = sgd_model.predict_proba(np.array(X_train_import))"
   ]
  },
  {
   "cell_type": "code",
   "execution_count": 110,
   "metadata": {},
   "outputs": [
    {
     "name": "stdout",
     "output_type": "stream",
     "text": [
      "Wall time: 2.81 s\n"
     ]
    }
   ],
   "source": [
    "%%time\n",
    "sgd_cv_scores = (\n",
    "    model_selection.cross_val_score(sgd_model,\n",
    "                                    np.array(X_train_import),\n",
    "                                    y_train.to_numpy().ravel(),\n",
    "                                    scoring=\"roc_auc\",\n",
    "                                    cv=cross_validator,\n",
    "                                    n_jobs=-1))"
   ]
  },
  {
   "cell_type": "code",
   "execution_count": 111,
   "metadata": {},
   "outputs": [
    {
     "data": {
      "image/png": "[encoded data removed]",
      "text/plain": [
       "<Figure size 720x720 with 1 Axes>"
      ]
     },
     "metadata": {},
     "output_type": "display_data"
    }
   ],
   "source": [
    "plt.figure(figsize=(10,10))\n",
    "sns.histplot(sgd_cv_scores);"
   ]
  },
  {
   "cell_type": "code",
   "execution_count": 112,
   "metadata": {},
   "outputs": [
    {
     "name": "stderr",
     "output_type": "stream",
     "text": [
      "C:\\Users\\kk67\\Anaconda3\\lib\\site-packages\\sklearn\\metrics\\_classification.py:1308: UndefinedMetricWarning: Precision is ill-defined and being set to 0.0 due to no predicted samples. Use `zero_division` parameter to control this behavior.\n",
      "  _warn_prf(average, modifier, msg_start, len(result))\n"
     ]
    },
    {
     "data": {
      "image/png": "[encoded data removed]",
      "text/plain": [
       "<Figure size 864x576 with 1 Axes>"
      ]
     },
     "metadata": {},
     "output_type": "display_data"
    }
   ],
   "source": [
    "plt.figure(figsize=(12,8))\n",
    "sgd_pr, sgd_rec, sgd_f1 = threshold_and_plot(y_train, sgd_best_train_pred[:,1])"
   ]
  },
  {
   "cell_type": "code",
   "execution_count": 113,
   "metadata": {},
   "outputs": [
    {
     "data": {
      "text/plain": [
       "(0, 0.9849250591067825)"
      ]
     },
     "execution_count": 113,
     "metadata": {},
     "output_type": "execute_result"
    }
   ],
   "source": [
    "max_thresh(sgd_f1)"
   ]
  },
  {
   "cell_type": "code",
   "execution_count": 114,
   "metadata": {},
   "outputs": [],
   "source": [
    "sgd_f1_preds = np.where(sgd_best_train_pred[:,1] > 0, 1, 0)"
   ]
  },
  {
   "cell_type": "code",
   "execution_count": 115,
   "metadata": {},
   "outputs": [
    {
     "data": {
      "image/png": "[encoded data removed]",
      "text/plain": [
       "<Figure size 432x288 with 2 Axes>"
      ]
     },
     "metadata": {},
     "output_type": "display_data"
    }
   ],
   "source": [
    "metrics.ConfusionMatrixDisplay.from_predictions(y_true=y_train, y_pred=sgd_f1_preds);"
   ]
  },
  {
   "cell_type": "code",
   "execution_count": 116,
   "metadata": {},
   "outputs": [],
   "source": [
    "sgd_pred_df = pd.DataFrame({\"targets\": y_train.values.ravel(),\n",
    "                            \"preds\": sgd_best_train_pred[:,1]})"
   ]
  },
  {
   "cell_type": "code",
   "execution_count": 117,
   "metadata": {},
   "outputs": [
    {
     "data": {
      "image/png": "[encoded data removed]",
      "text/plain": [
       "<Figure size 720x720 with 1 Axes>"
      ]
     },
     "metadata": {},
     "output_type": "display_data"
    }
   ],
   "source": [
    "plt.figure(figsize=(10,10));\n",
    "sns.histplot(data=sgd_pred_df, x=\"preds\", hue=\"targets\");"
   ]
  },
  {
   "cell_type": "markdown",
   "metadata": {},
   "source": [
    "# NEW: DNN (why not?)"
   ]
  },
  {
   "cell_type": "code",
   "execution_count": 118,
   "metadata": {},
   "outputs": [
    {
     "data": {
      "text/plain": [
       "'# layers\\nimport tensorflow as tf\\nfrom tensorflow.keras.models import Sequential\\nfrom tensorflow.keras.layers import Dense\\nfrom tensorflow.keras.layers import Dropout\\n\\n# calbacks/checkpoints\\nfrom tensorflow.keras.callbacks import Callback\\nfrom tensorflow.keras.callbacks import ModelCheckpoint\\nfrom tensorflow.keras.callbacks import EarlyStopping\\nfrom tensorflow.keras.callbacks import LearningRateScheduler\\nfrom tensorflow.keras.callbacks import ReduceLROnPlateau\\n\\n# regularization, initializers, optimizers, activations, losses\\nfrom tensorflow.keras import regularizers\\nfrom tensorflow.keras import initializers\\nfrom tensorflow.keras import optimizers\\nfrom tensorflow.keras import activations\\nfrom tensorflow.keras import losses\\nfrom tensorflow.keras import metrics as tf_metrics\\n'"
      ]
     },
     "execution_count": 118,
     "metadata": {},
     "output_type": "execute_result"
    }
   ],
   "source": [
    "'''# layers\n",
    "import tensorflow as tf\n",
    "from tensorflow.keras.models import Sequential\n",
    "from tensorflow.keras.layers import Dense\n",
    "from tensorflow.keras.layers import Dropout\n",
    "\n",
    "# calbacks/checkpoints\n",
    "from tensorflow.keras.callbacks import Callback\n",
    "from tensorflow.keras.callbacks import ModelCheckpoint\n",
    "from tensorflow.keras.callbacks import EarlyStopping\n",
    "from tensorflow.keras.callbacks import LearningRateScheduler\n",
    "from tensorflow.keras.callbacks import ReduceLROnPlateau\n",
    "\n",
    "# regularization, initializers, optimizers, activations, losses\n",
    "from tensorflow.keras import regularizers\n",
    "from tensorflow.keras import initializers\n",
    "from tensorflow.keras import optimizers\n",
    "from tensorflow.keras import activations\n",
    "from tensorflow.keras import losses\n",
    "from tensorflow.keras import metrics as tf_metrics\n",
    "'''"
   ]
  },
  {
   "cell_type": "code",
   "execution_count": 119,
   "metadata": {},
   "outputs": [
    {
     "data": {
      "text/plain": [
       "'# epoch monitoring\\ndef scheduler(epoch, lr):\\n  if epoch < int(epoch * 0.75):\\n    return lr\\n  else:\\n    return lr * tf.math.exp(-0.1)\\n\\ndef callbacks():\\n  early_stop = EarlyStopping(monitor=\"loss\", patience=30,\\n                             mode=\"min\", min_delta=0.01)\\n  lr_schedule = LearningRateScheduler(scheduler)\\n  lr_plateau = ReduceLROnPlateau(monitor=\"loss\", factor=0.8, patience=30)\\n  return (early_stop, lr_schedule, lr_plateau)\\n\\nearly_stop, lr_schedule, lr_plateau = callbacks()\\n'"
      ]
     },
     "execution_count": 119,
     "metadata": {},
     "output_type": "execute_result"
    }
   ],
   "source": [
    "'''# epoch monitoring\n",
    "def scheduler(epoch, lr):\n",
    "  if epoch < int(epoch * 0.75):\n",
    "    return lr\n",
    "  else:\n",
    "    return lr * tf.math.exp(-0.1)\n",
    "\n",
    "def callbacks():\n",
    "  early_stop = EarlyStopping(monitor=\"loss\", patience=30,\n",
    "                             mode=\"min\", min_delta=0.01)\n",
    "  lr_schedule = LearningRateScheduler(scheduler)\n",
    "  lr_plateau = ReduceLROnPlateau(monitor=\"loss\", factor=0.8, patience=30)\n",
    "  return (early_stop, lr_schedule, lr_plateau)\n",
    "\n",
    "early_stop, lr_schedule, lr_plateau = callbacks()\n",
    "'''"
   ]
  },
  {
   "cell_type": "code",
   "execution_count": 120,
   "metadata": {},
   "outputs": [
    {
     "data": {
      "text/plain": [
       "'# new nn def\\'n with important variables\\n\\ndef logistic_impt_model(n_features):\\n  # input layer: (batch_size, features); batch_size implied\\n  input_layer = Dense(units=18,\\n                      input_shape=(n_features,),\\n                      activation=\"elu\",\\n                      name=\"input\")\\n  hidden_1 = Dense(units=18, activation=\"elu\", name=\"hidden_1\")\\n  drop_1 = Dropout(rate=0.1, name=\"dropout_1\")\\n  hidden_2 = Dense(units=16, activation=\"elu\", name=\"hidden_2\")\\n  drop_2 = Dropout(rate=0.5, name=\"dropout_2\")\\n  hidden_3 = Dense(units=8, activation=\"elu\", name=\"hidden_3\")\\n  hidden_4 = Dense(units=8, activation=\"elu\", name=\"hidden_4\")\\n  hidden_5 = Dense(units=4, activation=\"elu\", name=\"hidden_5\")\\n  hidden_6 = Dense(units=2, activation=\"elu\", name=\"hidden_6\")\\n  output_layer = Dense(units=1, name=\"output\", activation=\"sigmoid\")\\n\\n  # build model\\n  model = Sequential(name=\"logistic_model\")\\n  model.add(input_layer)\\n  model.add(hidden_1)\\n  model.add(drop_1)\\n  model.add(hidden_2)\\n  model.add(drop_2)\\n  model.add(hidden_3)\\n  model.add(hidden_4)\\n  model.add(hidden_5)\\n  model.add(hidden_6)\\n  model.add(output_layer)\\n\\n  # compilation; learning rate set by scheduler\\n\\n  model.compile(optimizer=optimizers.SGD(momentum=0.9,\\n                                         nesterov=True),\\n                loss=\"binary_crossentropy\",\\n                metrics=[tf_metrics.BinaryAccuracy(name=\"accuracy\"),\\n                         tf_metrics.Precision(name=\"precision\"),\\n                         tf_metrics.Recall(name=\"recall\"),\\n                         tf_metrics.AUC(name=\"auc\"),\\n                         tf_metrics.AUC(name=\"pr_auc\", curve=\"PR\"),\\n                         #tf_metrics.TrueNegatives(name=\"true_neg\"),\\n                         #tf_metrics.TruePositives(name=\"true_pos\"),\\n                         #tf_metrics.FalseNegatives(name=\"false_neg\"),\\n                         #tf_metrics.FalsePositives(name=\"false_pos\"),\\n                         ])\\n  return model'"
      ]
     },
     "execution_count": 120,
     "metadata": {},
     "output_type": "execute_result"
    }
   ],
   "source": [
    "'''# new nn def'n with important variables\n",
    "\n",
    "def logistic_impt_model(n_features):\n",
    "  # input layer: (batch_size, features); batch_size implied\n",
    "  input_layer = Dense(units=18,\n",
    "                      input_shape=(n_features,),\n",
    "                      activation=\"elu\",\n",
    "                      name=\"input\")\n",
    "  hidden_1 = Dense(units=18, activation=\"elu\", name=\"hidden_1\")\n",
    "  drop_1 = Dropout(rate=0.1, name=\"dropout_1\")\n",
    "  hidden_2 = Dense(units=16, activation=\"elu\", name=\"hidden_2\")\n",
    "  drop_2 = Dropout(rate=0.5, name=\"dropout_2\")\n",
    "  hidden_3 = Dense(units=8, activation=\"elu\", name=\"hidden_3\")\n",
    "  hidden_4 = Dense(units=8, activation=\"elu\", name=\"hidden_4\")\n",
    "  hidden_5 = Dense(units=4, activation=\"elu\", name=\"hidden_5\")\n",
    "  hidden_6 = Dense(units=2, activation=\"elu\", name=\"hidden_6\")\n",
    "  output_layer = Dense(units=1, name=\"output\", activation=\"sigmoid\")\n",
    "\n",
    "  # build model\n",
    "  model = Sequential(name=\"logistic_model\")\n",
    "  model.add(input_layer)\n",
    "  model.add(hidden_1)\n",
    "  model.add(drop_1)\n",
    "  model.add(hidden_2)\n",
    "  model.add(drop_2)\n",
    "  model.add(hidden_3)\n",
    "  model.add(hidden_4)\n",
    "  model.add(hidden_5)\n",
    "  model.add(hidden_6)\n",
    "  model.add(output_layer)\n",
    "\n",
    "  # compilation; learning rate set by scheduler\n",
    "\n",
    "  model.compile(optimizer=optimizers.SGD(momentum=0.9,\n",
    "                                         nesterov=True),\n",
    "                loss=\"binary_crossentropy\",\n",
    "                metrics=[tf_metrics.BinaryAccuracy(name=\"accuracy\"),\n",
    "                         tf_metrics.Precision(name=\"precision\"),\n",
    "                         tf_metrics.Recall(name=\"recall\"),\n",
    "                         tf_metrics.AUC(name=\"auc\"),\n",
    "                         tf_metrics.AUC(name=\"pr_auc\", curve=\"PR\"),\n",
    "                         #tf_metrics.TrueNegatives(name=\"true_neg\"),\n",
    "                         #tf_metrics.TruePositives(name=\"true_pos\"),\n",
    "                         #tf_metrics.FalseNegatives(name=\"false_neg\"),\n",
    "                         #tf_metrics.FalsePositives(name=\"false_pos\"),\n",
    "                         ])\n",
    "  return model'''"
   ]
  },
  {
   "cell_type": "code",
   "execution_count": 121,
   "metadata": {},
   "outputs": [
    {
     "data": {
      "text/plain": [
       "'logistic_nn = logistic_impt_model(46)\\nlogistic_nn.summary()'"
      ]
     },
     "execution_count": 121,
     "metadata": {},
     "output_type": "execute_result"
    }
   ],
   "source": [
    "'''logistic_nn = logistic_impt_model(46)\n",
    "logistic_nn.summary()'''"
   ]
  },
  {
   "cell_type": "code",
   "execution_count": 122,
   "metadata": {},
   "outputs": [],
   "source": [
    "# see test predictions w/o training\n",
    "#untrained_test = logistic_nn.predict(X_test)\n",
    "#tf.reduce_mean(untrained_test, axis=0)"
   ]
  },
  {
   "cell_type": "code",
   "execution_count": 123,
   "metadata": {},
   "outputs": [],
   "source": [
    "# 2 ** np.linspace(0, 12, num=13)"
   ]
  },
  {
   "cell_type": "code",
   "execution_count": 124,
   "metadata": {},
   "outputs": [],
   "source": [
    "# X_train_reduce = X_train.drop(\"VEHAGE\",axis=1)\n",
    "# X_train_reduce.shape"
   ]
  },
  {
   "cell_type": "code",
   "execution_count": 125,
   "metadata": {},
   "outputs": [],
   "source": [
    "# %%time\n",
    "# # train model\n",
    "\n",
    "# early_stop, lr_schedule, lr_plateau = callbacks()\n",
    "\n",
    "# nn_impt_history = logistic_nn.fit(x=X_train_reduce,\n",
    "#                                   y=y_train.values.ravel(),\n",
    "#                                   validation_split=0.2,\n",
    "#                                   epochs=10_000,\n",
    "#                                   callbacks=[early_stop, lr_schedule, lr_plateau],\n",
    "#                                   batch_size=4096,\n",
    "#                                   verbose=0)"
   ]
  },
  {
   "cell_type": "code",
   "execution_count": 126,
   "metadata": {},
   "outputs": [],
   "source": [
    "# loss_impt_df = pd.DataFrame(nn_impt_history.history)\n",
    "\n",
    "# loss_impt_df.tail()"
   ]
  },
  {
   "cell_type": "code",
   "execution_count": 127,
   "metadata": {},
   "outputs": [],
   "source": [
    "# # plot learning curves\n",
    "# fig = plt.figure(figsize=(15,10))\n",
    "\n",
    "# epochs = np.arange(loss_impt_df.shape[0])\n",
    "\n",
    "# # Loss plot\n",
    "# ax = fig.add_subplot(221)\n",
    "# ax.plot(epochs, loss_impt_df['loss'], label=\"Train\")\n",
    "# ax.plot(epochs, loss_impt_df['val_loss'], label=\"Validation\")\n",
    "# ax.set_xlabel(\"Epochs\")\n",
    "# ax.set_ylabel(\"Loss\")\n",
    "# ax.set_title(\"Loss vs Epochs\")\n",
    "# ax.legend();\n",
    "\n",
    "# # Accuracy plot\n",
    "# ax = fig.add_subplot(222)\n",
    "# ax.plot(epochs, loss_impt_df['accuracy'], label=\"Train\")\n",
    "# ax.plot(epochs, loss_impt_df['val_accuracy'], label=\"Validation\")\n",
    "# ax.set_xlabel(\"Epochs\")\n",
    "# ax.set_ylabel(\"Accuracy\")\n",
    "# ax.set_title(\"Accuracy vs Epochs\")\n",
    "# ax.legend();\n",
    "\n",
    "# # precision plot\n",
    "# ax = fig.add_subplot(223)\n",
    "# ax.plot(epochs, loss_impt_df['precision'], label=\"Train\")\n",
    "# ax.plot(epochs, loss_impt_df['val_precision'], label=\"Validation\")\n",
    "# ax.set_xlabel(\"Epochs\")\n",
    "# ax.set_ylabel(\"Precision\")\n",
    "# ax.set_title(\"Precision vs Epochs\")\n",
    "# ax.legend();\n",
    "\n",
    "# # recall plot\n",
    "# ax = fig.add_subplot(224)\n",
    "# ax.plot(epochs, loss_impt_df['recall'], label=\"Train\")\n",
    "# ax.plot(epochs, loss_impt_df['val_recall'], label=\"Validation\")\n",
    "# ax.set_xlabel(\"Epochs\")\n",
    "# ax.set_ylabel(\"Recall\")\n",
    "# ax.set_title(\"Recall vs Epochs\")\n",
    "# ax.legend();\n"
   ]
  },
  {
   "cell_type": "code",
   "execution_count": 128,
   "metadata": {},
   "outputs": [],
   "source": [
    "#logistic_nn_impt_trained_predict = logistic_nn.predict(X_test)"
   ]
  },
  {
   "cell_type": "code",
   "execution_count": 129,
   "metadata": {},
   "outputs": [],
   "source": [
    "# # make binary values(use convention)\n",
    "# logistic_nn_impt_label = np.where(logistic_nn_impt_trained_predict > 0.5, 1., 0.)\n",
    "\n",
    "# # check confusion matrix\n",
    "# logistic_impt_conf_mtx = (\n",
    "#     metrics.confusion_matrix(y_true=y_test.values.ravel(), y_pred=logistic_nn_impt_label))\n"
   ]
  },
  {
   "cell_type": "code",
   "execution_count": 130,
   "metadata": {},
   "outputs": [],
   "source": [
    "# print(logistic_impt_conf_mtx)"
   ]
  },
  {
   "cell_type": "markdown",
   "metadata": {},
   "source": [
    "# NEW: one-class SVM"
   ]
  },
  {
   "cell_type": "code",
   "execution_count": 131,
   "metadata": {},
   "outputs": [
    {
     "data": {
      "text/plain": [
       "'# hing loss = linear SVM\\noc_svm = svm.OneClassSVM(kernel=\"rbf\", gamma=\"scale\",\\n                         tol=0.05)\\n\\nmodel_pipeline = Pipeline(steps=[(\"model\", oc_svm)])\\n\\ncross_validator = (\\n  model_selection.StratifiedShuffleSplit(train_size=0.8,\\n                                         random_state=1337,\\n                                         n_splits=10))\\n\\n# set up grid search\\n# TODO: ue f-beta\\nmodel_grid = (GridSearchCV(estimator=model_pipeline,\\n                               param_grid=model_params,\\n                               refit=False, # no searching here\\n                               scoring=\"roc_auc\", # metric to optimize\\n                               cv=cross_validator,\\n                               n_jobs=-1))'"
      ]
     },
     "execution_count": 131,
     "metadata": {},
     "output_type": "execute_result"
    }
   ],
   "source": [
    "'''# hing loss = linear SVM\n",
    "oc_svm = svm.OneClassSVM(kernel=\"rbf\", gamma=\"scale\",\n",
    "                         tol=0.05)\n",
    "\n",
    "model_pipeline = Pipeline(steps=[(\"model\", oc_svm)])\n",
    "\n",
    "cross_validator = (\n",
    "  model_selection.StratifiedShuffleSplit(train_size=0.8,\n",
    "                                         random_state=1337,\n",
    "                                         n_splits=10))\n",
    "\n",
    "# set up grid search\n",
    "# TODO: ue f-beta\n",
    "model_grid = (GridSearchCV(estimator=model_pipeline,\n",
    "                               param_grid=model_params,\n",
    "                               refit=False, # no searching here\n",
    "                               scoring=\"roc_auc\", # metric to optimize\n",
    "                               cv=cross_validator,\n",
    "                               n_jobs=-1))'''"
   ]
  },
  {
   "cell_type": "code",
   "execution_count": 132,
   "metadata": {},
   "outputs": [
    {
     "data": {
      "text/plain": [
       "'# random sample for testing\\nX_train_sample = X_train.sample(frac=0.1)'"
      ]
     },
     "execution_count": 132,
     "metadata": {},
     "output_type": "execute_result"
    }
   ],
   "source": [
    "'''# random sample for testing\n",
    "X_train_sample = X_train.sample(frac=0.1)'''"
   ]
  },
  {
   "cell_type": "code",
   "execution_count": 133,
   "metadata": {},
   "outputs": [],
   "source": [
    "#X_train_sample.info(verbose=True)"
   ]
  },
  {
   "cell_type": "code",
   "execution_count": 134,
   "metadata": {},
   "outputs": [],
   "source": [
    "#X_train_sample.shape"
   ]
  },
  {
   "cell_type": "code",
   "execution_count": 135,
   "metadata": {},
   "outputs": [],
   "source": [
    "#X_train_sample.head()"
   ]
  },
  {
   "cell_type": "code",
   "execution_count": 136,
   "metadata": {},
   "outputs": [],
   "source": [
    "#%%time\n",
    "#oc_svm_model = oc_svm.fit(X_train_sample, y_train.values.ravel())"
   ]
  },
  {
   "cell_type": "code",
   "execution_count": 137,
   "metadata": {},
   "outputs": [],
   "source": [
    "# test predictions\n",
    "#oc_svm_test_pred = oc_svm_model.predict(X_test)"
   ]
  },
  {
   "cell_type": "code",
   "execution_count": 138,
   "metadata": {},
   "outputs": [],
   "source": [
    "#pd.Series(oc_svm_test_pred).value_counts()"
   ]
  },
  {
   "cell_type": "markdown",
   "metadata": {},
   "source": [
    "# NEW: Clustering"
   ]
  },
  {
   "cell_type": "code",
   "execution_count": 139,
   "metadata": {},
   "outputs": [
    {
     "name": "stdout",
     "output_type": "stream",
     "text": [
      "Variable                 Type                          Data/Info\n",
      "----------------------------------------------------------------\n",
      "BASE_DIR                 str                           C:\\Users\\kk67\\Documents\\Documents\\Capstone\\\n",
      "GridSearchCV             ABCMeta                       <class 'sklearn.model_sel<...>on._search.GridSearchCV'>\n",
      "LogisticRegression       type                          <class 'sklearn.linear_mo<...>stic.LogisticRegression'>\n",
      "Pipeline                 ABCMeta                       <class 'sklearn.pipeline.Pipeline'>\n",
      "RandomForestClassifier   ABCMeta                       <class 'sklearn.ensemble.<...>.RandomForestClassifier'>\n",
      "X_test                   DataFrame                            GT1JBLWK_label_YES<...>[60170 rows x 47 columns]\n",
      "X_test_null              ndarray                       60170x1: 60170 elems, type `float64`, 481360 bytes (470.078125 kb)\n",
      "X_test_numeric           DataFrame                            CAR  CARSHARE  DRV<...>[60170 rows x 18 columns]\n",
      "X_train                  DataFrame                             GT1JBLWK_label_YE<...>140394 rows x 47 columns]\n",
      "X_train_import           DesignMatrix                  [[0.         0.75       0<...>  0.01724138 0.        ]]\n",
      "X_train_names            list                          n=63\n",
      "X_train_null             ndarray                       140394x1: 140394 elems, type `float64`, 1123152 bytes (1.0711212158203125 Mb)\n",
      "X_train_numeric          DataFrame                              CAR  CARSHARE  D<...>140394 rows x 18 columns]\n",
      "ada_def                  AdaBoostClassifier            AdaBoostClassifier(n_esti<...>s=150, random_state=2021)\n",
      "ada_feature_importance   ndarray                       47: 47 elems, type `float64`, 376 bytes\n",
      "ada_model                AdaBoostClassifier            AdaBoostClassifier(n_esti<...>s=150, random_state=2021)\n",
      "ada_rel_importance       ndarray                       47: 47 elems, type `float64`, 376 bytes\n",
      "ada_sorted_cols          ndarray                       47: 47 elems, type `object`, 376 bytes\n",
      "ada_sorted_idx           ndarray                       47: 47 elems, type `int64`, 376 bytes\n",
      "cluster                  module                        <module 'sklearn.cluster'<...>n\\\\cluster\\\\__init__.py'>\n",
      "cross_val_score          function                      <function cross_val_score at 0x00000260D222F280>\n",
      "cross_validator          StratifiedShuffleSplit        StratifiedShuffleSplit(n_<...>          train_size=0.8)\n",
      "dmatrix                  function                      <function dmatrix at 0x00000260D2719040>\n",
      "ensemble                 module                        <module 'sklearn.ensemble<...>\\\\ensemble\\\\__init__.py'>\n",
      "gb_def                   GradientBoostingClassifier    GradientBoostingClassifie<...>       random_state=2021)\n",
      "gb_feature_importance    ndarray                       18: 18 elems, type `float64`, 144 bytes\n",
      "gb_model                 GradientBoostingClassifier    GradientBoostingClassifie<...>       random_state=2021)\n",
      "gb_rel_importance        ndarray                       18: 18 elems, type `float64`, 144 bytes\n",
      "gb_sorted_cols           ndarray                       18: 18 elems, type `object`, 144 bytes\n",
      "gb_sorted_idx            ndarray                       18: 18 elems, type `int64`, 144 bytes\n",
      "impt_fmla                str                           HHSTATE_label_PACIFIC * E<...>R_AGE * PLACE * PRICE - 1\n",
      "linear_model             module                        <module 'sklearn.linear_m<...>near_model\\\\__init__.py'>\n",
      "log_best_train           Pipeline                      Pipeline(steps=[('model',<...>        solver='saga'))])\n",
      "log_best_train_pred      ndarray                       140394x2: 280788 elems, type `float64`, 2246304 bytes (2.142242431640625 Mb)\n",
      "log_model                GridSearchCV                  GridSearchCV(cv=Stratifie<...>   scoring='f1_weighted')\n",
      "log_reg                  LogisticRegression            LogisticRegression(class_<...>te=632966, solver='saga')\n",
      "log_reg_cv_scores        ndarray                       10: 10 elems, type `float64`, 80 bytes\n",
      "log_reg_f1               list                          n=50\n",
      "log_reg_f1_preds         ndarray                       140394: 140394 elems, type `int32`, 561576 bytes (548.4140625 kb)\n",
      "log_reg_pr               list                          n=50\n",
      "log_reg_pred_df          DataFrame                             targets     preds<...>[140394 rows x 2 columns]\n",
      "log_reg_rec              list                          n=50\n",
      "log_test_pred            ndarray                       60170x2: 120340 elems, type `float64`, 962720 bytes (940.15625 kb)\n",
      "log_train_pred           ndarray                       140394x2: 280788 elems, type `float64`, 2246304 bytes (2.142242431640625 Mb)\n",
      "max_idx                  int64                         0\n",
      "max_idx_c                list                          n=3\n",
      "max_thresh               function                      <function max_thresh at 0x00000260D4F03CA0>\n",
      "max_val                  float64                       0.9849250591067825\n",
      "metric                   str                           F1\n",
      "metrics                  module                        <module 'sklearn.metrics'<...>n\\\\metrics\\\\__init__.py'>\n",
      "model_grid               GridSearchCV                  GridSearchCV(cv=Stratifie<...>       scoring='roc_auc')\n",
      "model_grid_pos           GridSearchCV                  GridSearchCV(cv=Stratifie<...>   scoring='f1_weighted')\n",
      "model_grid_rfc           GridSearchCV                  GridSearchCV(cv=Stratifie<...>   scoring='f1_weighted')\n",
      "model_params             dict                          n=1\n",
      "model_pipeline           Pipeline                      Pipeline(steps=[('model',<...>lidation_fraction=0.2))])\n",
      "model_selection          module                        <module 'sklearn.model_se<...>_selection\\\\__init__.py'>\n",
      "n_points                 int                           50\n",
      "np                       module                        <module 'numpy' from 'C:\\<...>ges\\\\numpy\\\\__init__.py'>\n",
      "null_model               GridSearchCV                  GridSearchCV(cv=Stratifie<...>       scoring='roc_auc')\n",
      "null_reg                 LogisticRegression            LogisticRegression(fit_in<...>500, random_state=632966)\n",
      "null_reg_f1              list                          n=50\n",
      "null_reg_f1_preds        ndarray                       140394: 140394 elems, type `int32`, 561576 bytes (548.4140625 kb)\n",
      "null_reg_pr              list                          n=50\n",
      "null_reg_rec             list                          n=50\n",
      "null_test                LogisticRegression            LogisticRegression(fit_in<...>500, random_state=632966)\n",
      "null_test_f1             float64                       0.9568103489352814\n",
      "null_test_pred           ndarray                       60170x2: 120340 elems, type `float64`, 962720 bytes (940.15625 kb)\n",
      "null_train               LogisticRegression            LogisticRegression(fit_in<...>500, random_state=632966)\n",
      "null_train_f1            float64                       0.9556706928484291\n",
      "null_train_pred          ndarray                       140394x2: 280788 elems, type `float64`, 2246304 bytes (2.142242431640625 Mb)\n",
      "os                       module                        <module 'os' from 'C:\\\\Us<...>\\\\Anaconda3\\\\lib\\\\os.py'>\n",
      "pd                       module                        <module 'pandas' from 'C:<...>es\\\\pandas\\\\__init__.py'>\n",
      "plt                      module                        <module 'matplotlib.pyplo<...>\\\\matplotlib\\\\pyplot.py'>\n",
      "pos                      ndarray                       18: 18 elems, type `float64`, 144 bytes\n",
      "pos_model                GridSearchCV                  GridSearchCV(cv=Stratifie<...>   scoring='f1_weighted')\n",
      "pos_reg                  PoissonRegressor              PoissonRegressor()\n",
      "pos_reg_f1               list                          n=50\n",
      "pos_reg_f1_preds         ndarray                       140394: 140394 elems, type `int32`, 561576 bytes (548.4140625 kb)\n",
      "pos_reg_pr               list                          n=50\n",
      "pos_reg_rec              list                          n=50\n",
      "pos_test_pred            ndarray                       60170: 60170 elems, type `float64`, 481360 bytes (470.078125 kb)\n",
      "pos_train_pred           ndarray                       140394: 140394 elems, type `float64`, 1123152 bytes (1.0711212158203125 Mb)\n",
      "probs                    ndarray                       50: 50 elems, type `float64`, 400 bytes\n",
      "rfc                      RandomForestClassifier        RandomForestClassifier(random_state=42)\n",
      "rfc_model                GridSearchCV                  GridSearchCV(cv=Stratifie<...>   scoring='f1_weighted')\n",
      "rfc_reg_f1               list                          n=50\n",
      "rfc_reg_f1_preds         ndarray                       140394: 140394 elems, type `int32`, 561576 bytes (548.4140625 kb)\n",
      "rfc_reg_pr               list                          n=50\n",
      "rfc_reg_rec              list                          n=50\n",
      "rfc_test_pred            ndarray                       60170x2: 120340 elems, type `float64`, 962720 bytes (940.15625 kb)\n",
      "rfc_train_pred           ndarray                       140394x2: 280788 elems, type `float64`, 2246304 bytes (2.142242431640625 Mb)\n",
      "sgd                      SGDClassifier                 SGDClassifier(eta0=0.001,<...> validation_fraction=0.2)\n",
      "sgd_best_train_pred      ndarray                       140394x2: 280788 elems, type `float64`, 2246304 bytes (2.142242431640625 Mb)\n",
      "sgd_cv_scores            ndarray                       10: 10 elems, type `float64`, 80 bytes\n",
      "sgd_f1                   list                          n=50\n",
      "sgd_f1_preds             ndarray                       140394: 140394 elems, type `int32`, 561576 bytes (548.4140625 kb)\n",
      "sgd_model                SGDClassifier                 SGDClassifier(eta0=0.001,<...> validation_fraction=0.2)\n",
      "sgd_pr                   list                          n=50\n",
      "sgd_pred_df              DataFrame                             targets     preds<...>[140394 rows x 2 columns]\n",
      "sgd_rec                  list                          n=50\n",
      "sm                       module                        <module 'statsmodels.api'<...>es\\\\statsmodels\\\\api.py'>\n",
      "sns                      module                        <module 'seaborn' from 'C<...>s\\\\seaborn\\\\__init__.py'>\n",
      "svm                      module                        <module 'sklearn.svm' fro<...>learn\\\\svm\\\\__init__.py'>\n",
      "test_metric              tuple                         n=3\n",
      "test_metric_pos          tuple                         n=3\n",
      "test_metric_rfc          tuple                         n=3\n",
      "test_null                ndarray                       60170: 60170 elems, type `int64`, 481360 bytes (470.078125 kb)\n",
      "test_pred                ndarray                       60170x2: 120340 elems, type `float64`, 962720 bytes (940.15625 kb)\n",
      "threshold_and_plot       function                      <function threshold_and_p<...>ot at 0x00000260D4F03AF0>\n",
      "train_null               ndarray                       140394: 140394 elems, type `int64`, 1123152 bytes (1.0711212158203125 Mb)\n",
      "train_pred               ndarray                       140394x2: 280788 elems, type `float64`, 2246304 bytes (2.142242431640625 Mb)\n",
      "tree                     module                        <module 'sklearn.tree' fr<...>earn\\\\tree\\\\__init__.py'>\n",
      "val                      float64                       0.0\n",
      "y_test                   DataFrame                            fueltype_numeric\\n<...>n[60170 rows x 1 columns]\n",
      "y_train                  DataFrame                             fueltype_numeric\\<...>[140394 rows x 1 columns]\n"
     ]
    }
   ],
   "source": [
    "%whos"
   ]
  },
  {
   "cell_type": "markdown",
   "metadata": {},
   "source": [
    "## k-means"
   ]
  },
  {
   "cell_type": "code",
   "execution_count": 140,
   "metadata": {},
   "outputs": [],
   "source": [
    "k_means = cluster.KMeans(n_clusters=2, # EV/non-EV (in theory)\n",
    "                                       init=\"k-means++\",\n",
    "                                       max_iter=1000,\n",
    "                                       random_state=1337)"
   ]
  },
  {
   "cell_type": "code",
   "execution_count": 141,
   "metadata": {},
   "outputs": [
    {
     "name": "stdout",
     "output_type": "stream",
     "text": [
      "Wall time: 840 ms\n"
     ]
    }
   ],
   "source": [
    "%%time\n",
    "k_means_fit = k_means.fit(X_train_numeric)"
   ]
  },
  {
   "cell_type": "code",
   "execution_count": 142,
   "metadata": {},
   "outputs": [
    {
     "data": {
      "text/plain": [
       "(140394,)"
      ]
     },
     "execution_count": 142,
     "metadata": {},
     "output_type": "execute_result"
    }
   ],
   "source": [
    "k_means_fit.predict(X_train_numeric).shape"
   ]
  },
  {
   "cell_type": "code",
   "execution_count": 143,
   "metadata": {},
   "outputs": [],
   "source": [
    "kmeans_cluster_id =k_means_fit.predict(X_train_numeric)"
   ]
  },
  {
   "cell_type": "code",
   "execution_count": 144,
   "metadata": {},
   "outputs": [],
   "source": [
    "kmeans_predict = pd.DataFrame({\"kmeans_cluster_id\": kmeans_cluster_id})"
   ]
  },
  {
   "cell_type": "code",
   "execution_count": 145,
   "metadata": {},
   "outputs": [],
   "source": [
    "kmeans_cf_matrix = metrics.confusion_matrix(y_train,kmeans_cluster_id, normalize='true')"
   ]
  },
  {
   "cell_type": "code",
   "execution_count": 146,
   "metadata": {},
   "outputs": [
    {
     "data": {
      "image/png": "[encoded data removed]",
      "text/plain": [
       "<Figure size 432x288 with 2 Axes>"
      ]
     },
     "metadata": {},
     "output_type": "display_data"
    }
   ],
   "source": [
    "ax = sns.heatmap(kmeans_cf_matrix, annot=True, fmt='.2%', cmap='Blues')\n",
    "\n",
    "ax.set_title('K-means Confusion Matrix with labels\\n\\n');\n",
    "ax.set_xlabel('Predicted Values')\n",
    "ax.set_ylabel('Actual Values ');\n",
    "\n",
    "## Ticket labels - List must be in alphabetical order\n",
    "ax.xaxis.set_ticklabels(['EV','Non-EV'])\n",
    "ax.yaxis.set_ticklabels(['EV','Non-EV'])\n",
    "\n",
    "## Display the visualization of the Confusion Matrix.\n",
    "plt.show()"
   ]
  },
  {
   "cell_type": "markdown",
   "metadata": {},
   "source": [
    "## Mini-batch k-means"
   ]
  },
  {
   "cell_type": "code",
   "execution_count": 147,
   "metadata": {},
   "outputs": [],
   "source": [
    "mini_batch_k = cluster.MiniBatchKMeans(n_clusters=2, # EV/non-EV (in theory)\n",
    "                                       init=\"k-means++\",\n",
    "                                       max_iter=500,\n",
    "                                       batch_size=4096,\n",
    "                                       random_state=1337)"
   ]
  },
  {
   "cell_type": "code",
   "execution_count": 148,
   "metadata": {
    "scrolled": true
   },
   "outputs": [
    {
     "name": "stdout",
     "output_type": "stream",
     "text": [
      "Wall time: 173 ms\n"
     ]
    }
   ],
   "source": [
    "%%time\n",
    "mini_batch_fit = mini_batch_k.fit(X_train_numeric)"
   ]
  },
  {
   "cell_type": "code",
   "execution_count": 149,
   "metadata": {},
   "outputs": [
    {
     "data": {
      "text/plain": [
       "(140394,)"
      ]
     },
     "execution_count": 149,
     "metadata": {},
     "output_type": "execute_result"
    }
   ],
   "source": [
    "mini_batch_fit.predict(X_train_numeric).shape"
   ]
  },
  {
   "cell_type": "code",
   "execution_count": 150,
   "metadata": {},
   "outputs": [],
   "source": [
    "mini_batch_cluster_id = mini_batch_fit.predict(X_train_numeric)"
   ]
  },
  {
   "cell_type": "code",
   "execution_count": 151,
   "metadata": {},
   "outputs": [],
   "source": [
    "mini_batch_predict = pd.DataFrame({\"mini_batch_cluster_id\": mini_batch_cluster_id})\n"
   ]
  },
  {
   "cell_type": "code",
   "execution_count": 152,
   "metadata": {},
   "outputs": [],
   "source": [
    "mini_batch_cf_matrix = metrics.confusion_matrix(y_train,mini_batch_cluster_id, normalize='true')"
   ]
  },
  {
   "cell_type": "code",
   "execution_count": 153,
   "metadata": {},
   "outputs": [
    {
     "name": "stdout",
     "output_type": "stream",
     "text": [
      "[[0.31199041 0.68800959]\n",
      " [0.54653365 0.45346635]]\n"
     ]
    }
   ],
   "source": [
    "print(mini_batch_cf_matrix)"
   ]
  },
  {
   "cell_type": "code",
   "execution_count": 154,
   "metadata": {},
   "outputs": [
    {
     "data": {
      "image/png": "[encoded data removed]",
      "text/plain": [
       "<Figure size 432x288 with 2 Axes>"
      ]
     },
     "metadata": {},
     "output_type": "display_data"
    }
   ],
   "source": [
    "ax = sns.heatmap(mini_batch_cf_matrix, annot=True, fmt='.2%', cmap='Blues')\n",
    "\n",
    "ax.set_title('Mini-Batch K-means Confusion Matrix with labels\\n\\n');\n",
    "ax.set_xlabel('Predicted Values')\n",
    "ax.set_ylabel('Actual Values ');\n",
    "\n",
    "## Ticket labels - List must be in alphabetical order\n",
    "ax.xaxis.set_ticklabels(['EV','Non-EV'])\n",
    "ax.yaxis.set_ticklabels(['EV','Non-EV'])\n",
    "\n",
    "## Display the visualization of the Confusion Matrix.\n",
    "plt.show()"
   ]
  },
  {
   "cell_type": "markdown",
   "metadata": {},
   "source": [
    "These predictions seem better than the values we received throught supervised learning"
   ]
  },
  {
   "cell_type": "markdown",
   "metadata": {},
   "source": [
    "### Prepare For Dashboard"
   ]
  },
  {
   "cell_type": "code",
   "execution_count": 155,
   "metadata": {},
   "outputs": [
    {
     "data": {
      "text/html": [
       "<div>\n",
       "<style scoped>\n",
       "    .dataframe tbody tr th:only-of-type {\n",
       "        vertical-align: middle;\n",
       "    }\n",
       "\n",
       "    .dataframe tbody tr th {\n",
       "        vertical-align: top;\n",
       "    }\n",
       "\n",
       "    .dataframe thead th {\n",
       "        text-align: right;\n",
       "    }\n",
       "</style>\n",
       "<table border=\"1\" class=\"dataframe\">\n",
       "  <thead>\n",
       "    <tr style=\"text-align: right;\">\n",
       "      <th></th>\n",
       "      <th>fueltype_numeric</th>\n",
       "    </tr>\n",
       "  </thead>\n",
       "  <tbody>\n",
       "    <tr>\n",
       "      <th>0</th>\n",
       "      <td>1</td>\n",
       "    </tr>\n",
       "    <tr>\n",
       "      <th>1</th>\n",
       "      <td>1</td>\n",
       "    </tr>\n",
       "    <tr>\n",
       "      <th>2</th>\n",
       "      <td>1</td>\n",
       "    </tr>\n",
       "    <tr>\n",
       "      <th>3</th>\n",
       "      <td>1</td>\n",
       "    </tr>\n",
       "    <tr>\n",
       "      <th>4</th>\n",
       "      <td>1</td>\n",
       "    </tr>\n",
       "    <tr>\n",
       "      <th>...</th>\n",
       "      <td>...</td>\n",
       "    </tr>\n",
       "    <tr>\n",
       "      <th>140389</th>\n",
       "      <td>1</td>\n",
       "    </tr>\n",
       "    <tr>\n",
       "      <th>140390</th>\n",
       "      <td>1</td>\n",
       "    </tr>\n",
       "    <tr>\n",
       "      <th>140391</th>\n",
       "      <td>1</td>\n",
       "    </tr>\n",
       "    <tr>\n",
       "      <th>140392</th>\n",
       "      <td>1</td>\n",
       "    </tr>\n",
       "    <tr>\n",
       "      <th>140393</th>\n",
       "      <td>1</td>\n",
       "    </tr>\n",
       "  </tbody>\n",
       "</table>\n",
       "<p>140394 rows × 1 columns</p>\n",
       "</div>"
      ],
      "text/plain": [
       "        fueltype_numeric\n",
       "0                      1\n",
       "1                      1\n",
       "2                      1\n",
       "3                      1\n",
       "4                      1\n",
       "...                  ...\n",
       "140389                 1\n",
       "140390                 1\n",
       "140391                 1\n",
       "140392                 1\n",
       "140393                 1\n",
       "\n",
       "[140394 rows x 1 columns]"
      ]
     },
     "execution_count": 155,
     "metadata": {},
     "output_type": "execute_result"
    }
   ],
   "source": [
    "y_train"
   ]
  },
  {
   "cell_type": "code",
   "execution_count": 156,
   "metadata": {
    "scrolled": true
   },
   "outputs": [],
   "source": [
    "X_train_labeled_kmeans= pd.concat([X_train_numeric, kmeans_predict,y_train], axis=1)\n",
    "X_train_labeled_mini= pd.concat([X_train_numeric, mini_batch_predict,y_train], axis=1)\n",
    "\n",
    "X_train_labeled_kmeans['type'] = 'Kmeans'\n",
    "X_train_labeled_mini['type'] = 'Mini-Batch'\n",
    "\n",
    "#X_train_labeled_kmeans_mini.rename(columns={'fueltype_numeric':'y_train'}, inplace=True)"
   ]
  },
  {
   "cell_type": "code",
   "execution_count": 157,
   "metadata": {},
   "outputs": [],
   "source": [
    "X_train_labeled_kmeans.rename(columns = {'kmeans_cluster_id':'predict'}, inplace=True)\n",
    "X_train_labeled_mini.rename(columns = {'mini_batch_cluster_id':'predict'}, inplace=True)"
   ]
  },
  {
   "cell_type": "code",
   "execution_count": 158,
   "metadata": {},
   "outputs": [],
   "source": [
    "X_train_labeled_kmeans_mini = pd.concat([X_train_labeled_kmeans, X_train_labeled_mini], axis=0)\n",
    "X_train_labeled_kmeans_mini.rename(columns = {'fueltype_numeric':'y_train'}, inplace=True)\n"
   ]
  },
  {
   "cell_type": "code",
   "execution_count": 159,
   "metadata": {
    "scrolled": true
   },
   "outputs": [
    {
     "data": {
      "text/html": [
       "<div>\n",
       "<style scoped>\n",
       "    .dataframe tbody tr th:only-of-type {\n",
       "        vertical-align: middle;\n",
       "    }\n",
       "\n",
       "    .dataframe tbody tr th {\n",
       "        vertical-align: top;\n",
       "    }\n",
       "\n",
       "    .dataframe thead th {\n",
       "        text-align: right;\n",
       "    }\n",
       "</style>\n",
       "<table border=\"1\" class=\"dataframe\">\n",
       "  <thead>\n",
       "    <tr style=\"text-align: right;\">\n",
       "      <th></th>\n",
       "      <th>CAR</th>\n",
       "      <th>CARSHARE</th>\n",
       "      <th>DRVRCNT</th>\n",
       "      <th>EDUC</th>\n",
       "      <th>HBPPOPDN</th>\n",
       "      <th>HBRESDN</th>\n",
       "      <th>HHFAMINC</th>\n",
       "      <th>HHSIZE</th>\n",
       "      <th>HHVEHCNT</th>\n",
       "      <th>PLACE</th>\n",
       "      <th>...</th>\n",
       "      <th>R_AGE</th>\n",
       "      <th>TIMETOWK</th>\n",
       "      <th>VEHAGE</th>\n",
       "      <th>VEHOWNMO</th>\n",
       "      <th>WRKCOUNT</th>\n",
       "      <th>YEARMILE</th>\n",
       "      <th>YOUNGCHILD</th>\n",
       "      <th>predict</th>\n",
       "      <th>y_train</th>\n",
       "      <th>type</th>\n",
       "    </tr>\n",
       "  </thead>\n",
       "  <tbody>\n",
       "    <tr>\n",
       "      <th>0</th>\n",
       "      <td>1.00</td>\n",
       "      <td>0.0</td>\n",
       "      <td>0.000</td>\n",
       "      <td>0.75</td>\n",
       "      <td>0.714286</td>\n",
       "      <td>0.428571</td>\n",
       "      <td>0.5</td>\n",
       "      <td>0.000000</td>\n",
       "      <td>0.090909</td>\n",
       "      <td>0.50</td>\n",
       "      <td>...</td>\n",
       "      <td>0.609195</td>\n",
       "      <td>0.033333</td>\n",
       "      <td>0.000000</td>\n",
       "      <td>0.454545</td>\n",
       "      <td>0.142857</td>\n",
       "      <td>0.050</td>\n",
       "      <td>0.0</td>\n",
       "      <td>1</td>\n",
       "      <td>1</td>\n",
       "      <td>Kmeans</td>\n",
       "    </tr>\n",
       "    <tr>\n",
       "      <th>1</th>\n",
       "      <td>1.00</td>\n",
       "      <td>0.0</td>\n",
       "      <td>0.250</td>\n",
       "      <td>0.25</td>\n",
       "      <td>0.571429</td>\n",
       "      <td>0.428571</td>\n",
       "      <td>0.3</td>\n",
       "      <td>0.166667</td>\n",
       "      <td>0.090909</td>\n",
       "      <td>0.25</td>\n",
       "      <td>...</td>\n",
       "      <td>0.609195</td>\n",
       "      <td>0.033333</td>\n",
       "      <td>0.153846</td>\n",
       "      <td>0.454545</td>\n",
       "      <td>0.142857</td>\n",
       "      <td>0.050</td>\n",
       "      <td>0.0</td>\n",
       "      <td>1</td>\n",
       "      <td>1</td>\n",
       "      <td>Kmeans</td>\n",
       "    </tr>\n",
       "    <tr>\n",
       "      <th>2</th>\n",
       "      <td>1.00</td>\n",
       "      <td>0.0</td>\n",
       "      <td>0.125</td>\n",
       "      <td>0.75</td>\n",
       "      <td>0.142857</td>\n",
       "      <td>0.142857</td>\n",
       "      <td>1.0</td>\n",
       "      <td>0.083333</td>\n",
       "      <td>0.090909</td>\n",
       "      <td>0.75</td>\n",
       "      <td>...</td>\n",
       "      <td>0.666667</td>\n",
       "      <td>0.033333</td>\n",
       "      <td>0.000000</td>\n",
       "      <td>0.454545</td>\n",
       "      <td>0.000000</td>\n",
       "      <td>0.050</td>\n",
       "      <td>0.0</td>\n",
       "      <td>0</td>\n",
       "      <td>1</td>\n",
       "      <td>Kmeans</td>\n",
       "    </tr>\n",
       "    <tr>\n",
       "      <th>3</th>\n",
       "      <td>0.75</td>\n",
       "      <td>0.0</td>\n",
       "      <td>0.000</td>\n",
       "      <td>0.00</td>\n",
       "      <td>0.714286</td>\n",
       "      <td>0.571429</td>\n",
       "      <td>0.5</td>\n",
       "      <td>0.000000</td>\n",
       "      <td>0.000000</td>\n",
       "      <td>0.50</td>\n",
       "      <td>...</td>\n",
       "      <td>0.781609</td>\n",
       "      <td>0.033333</td>\n",
       "      <td>0.230769</td>\n",
       "      <td>0.454545</td>\n",
       "      <td>0.000000</td>\n",
       "      <td>0.005</td>\n",
       "      <td>0.0</td>\n",
       "      <td>0</td>\n",
       "      <td>1</td>\n",
       "      <td>Kmeans</td>\n",
       "    </tr>\n",
       "    <tr>\n",
       "      <th>4</th>\n",
       "      <td>1.00</td>\n",
       "      <td>0.0</td>\n",
       "      <td>0.125</td>\n",
       "      <td>0.50</td>\n",
       "      <td>0.571429</td>\n",
       "      <td>0.571429</td>\n",
       "      <td>0.4</td>\n",
       "      <td>0.250000</td>\n",
       "      <td>0.090909</td>\n",
       "      <td>0.00</td>\n",
       "      <td>...</td>\n",
       "      <td>0.344828</td>\n",
       "      <td>0.100000</td>\n",
       "      <td>0.333333</td>\n",
       "      <td>0.363636</td>\n",
       "      <td>0.285714</td>\n",
       "      <td>0.050</td>\n",
       "      <td>0.0</td>\n",
       "      <td>1</td>\n",
       "      <td>1</td>\n",
       "      <td>Kmeans</td>\n",
       "    </tr>\n",
       "  </tbody>\n",
       "</table>\n",
       "<p>5 rows × 21 columns</p>\n",
       "</div>"
      ],
      "text/plain": [
       "    CAR  CARSHARE  DRVRCNT  EDUC  HBPPOPDN   HBRESDN  HHFAMINC    HHSIZE  \\\n",
       "0  1.00       0.0    0.000  0.75  0.714286  0.428571       0.5  0.000000   \n",
       "1  1.00       0.0    0.250  0.25  0.571429  0.428571       0.3  0.166667   \n",
       "2  1.00       0.0    0.125  0.75  0.142857  0.142857       1.0  0.083333   \n",
       "3  0.75       0.0    0.000  0.00  0.714286  0.571429       0.5  0.000000   \n",
       "4  1.00       0.0    0.125  0.50  0.571429  0.571429       0.4  0.250000   \n",
       "\n",
       "   HHVEHCNT  PLACE  ...     R_AGE  TIMETOWK    VEHAGE  VEHOWNMO  WRKCOUNT  \\\n",
       "0  0.090909   0.50  ...  0.609195  0.033333  0.000000  0.454545  0.142857   \n",
       "1  0.090909   0.25  ...  0.609195  0.033333  0.153846  0.454545  0.142857   \n",
       "2  0.090909   0.75  ...  0.666667  0.033333  0.000000  0.454545  0.000000   \n",
       "3  0.000000   0.50  ...  0.781609  0.033333  0.230769  0.454545  0.000000   \n",
       "4  0.090909   0.00  ...  0.344828  0.100000  0.333333  0.363636  0.285714   \n",
       "\n",
       "   YEARMILE  YOUNGCHILD  predict  y_train    type  \n",
       "0     0.050         0.0        1        1  Kmeans  \n",
       "1     0.050         0.0        1        1  Kmeans  \n",
       "2     0.050         0.0        0        1  Kmeans  \n",
       "3     0.005         0.0        0        1  Kmeans  \n",
       "4     0.050         0.0        1        1  Kmeans  \n",
       "\n",
       "[5 rows x 21 columns]"
      ]
     },
     "execution_count": 159,
     "metadata": {},
     "output_type": "execute_result"
    }
   ],
   "source": [
    "X_train_labeled_kmeans_mini.head()"
   ]
  },
  {
   "cell_type": "code",
   "execution_count": 160,
   "metadata": {},
   "outputs": [],
   "source": [
    "#read min-max file\n",
    "\n",
    "#os.getcwd()\n",
    "\n",
    "min_max = pd.read_csv(\"C:\\\\Users\\\\kk67\\\\Documents\\\\Documents\\\\Capstone\\\\min_max.csv\", index_col=0)"
   ]
  },
  {
   "cell_type": "code",
   "execution_count": 161,
   "metadata": {},
   "outputs": [
    {
     "data": {
      "text/html": [
       "<div>\n",
       "<style scoped>\n",
       "    .dataframe tbody tr th:only-of-type {\n",
       "        vertical-align: middle;\n",
       "    }\n",
       "\n",
       "    .dataframe tbody tr th {\n",
       "        vertical-align: top;\n",
       "    }\n",
       "\n",
       "    .dataframe thead th {\n",
       "        text-align: right;\n",
       "    }\n",
       "</style>\n",
       "<table border=\"1\" class=\"dataframe\">\n",
       "  <thead>\n",
       "    <tr style=\"text-align: right;\">\n",
       "      <th></th>\n",
       "      <th>0</th>\n",
       "      <th>1</th>\n",
       "      <th>2</th>\n",
       "      <th>3</th>\n",
       "      <th>4</th>\n",
       "      <th>5</th>\n",
       "      <th>6</th>\n",
       "      <th>7</th>\n",
       "      <th>8</th>\n",
       "      <th>9</th>\n",
       "      <th>10</th>\n",
       "      <th>11</th>\n",
       "      <th>12</th>\n",
       "      <th>13</th>\n",
       "      <th>14</th>\n",
       "      <th>15</th>\n",
       "      <th>16</th>\n",
       "      <th>17</th>\n",
       "    </tr>\n",
       "  </thead>\n",
       "  <tbody>\n",
       "    <tr>\n",
       "      <th>0</th>\n",
       "      <td>1.0</td>\n",
       "      <td>0.0</td>\n",
       "      <td>1.0</td>\n",
       "      <td>1.0</td>\n",
       "      <td>1.0</td>\n",
       "      <td>1.0</td>\n",
       "      <td>1.0</td>\n",
       "      <td>1.0</td>\n",
       "      <td>1.0</td>\n",
       "      <td>1.0</td>\n",
       "      <td>1.0</td>\n",
       "      <td>5.0</td>\n",
       "      <td>0.0</td>\n",
       "      <td>1.0</td>\n",
       "      <td>0.0</td>\n",
       "      <td>0.0</td>\n",
       "      <td>0.0</td>\n",
       "      <td>0.0</td>\n",
       "    </tr>\n",
       "    <tr>\n",
       "      <th>0</th>\n",
       "      <td>5.0</td>\n",
       "      <td>79.0</td>\n",
       "      <td>9.0</td>\n",
       "      <td>5.0</td>\n",
       "      <td>8.0</td>\n",
       "      <td>8.0</td>\n",
       "      <td>11.0</td>\n",
       "      <td>13.0</td>\n",
       "      <td>12.0</td>\n",
       "      <td>5.0</td>\n",
       "      <td>5.0</td>\n",
       "      <td>92.0</td>\n",
       "      <td>600.0</td>\n",
       "      <td>40.0</td>\n",
       "      <td>11.0</td>\n",
       "      <td>7.0</td>\n",
       "      <td>200000.0</td>\n",
       "      <td>5.0</td>\n",
       "    </tr>\n",
       "  </tbody>\n",
       "</table>\n",
       "</div>"
      ],
      "text/plain": [
       "     0     1    2    3    4    5     6     7     8    9   10    11     12  \\\n",
       "0  1.0   0.0  1.0  1.0  1.0  1.0   1.0   1.0   1.0  1.0  1.0   5.0    0.0   \n",
       "0  5.0  79.0  9.0  5.0  8.0  8.0  11.0  13.0  12.0  5.0  5.0  92.0  600.0   \n",
       "\n",
       "     13    14   15        16   17  \n",
       "0   1.0   0.0  0.0       0.0  0.0  \n",
       "0  40.0  11.0  7.0  200000.0  5.0  "
      ]
     },
     "execution_count": 161,
     "metadata": {},
     "output_type": "execute_result"
    }
   ],
   "source": [
    "min_max.head()"
   ]
  },
  {
   "cell_type": "code",
   "execution_count": 162,
   "metadata": {},
   "outputs": [],
   "source": [
    "#Remove last three columns\n",
    "X_train_labeled_kmeans_mini_sub = X_train_labeled_kmeans_mini.iloc[:,0:(X_train_labeled_kmeans_mini.shape[1]-3)]"
   ]
  },
  {
   "cell_type": "code",
   "execution_count": 163,
   "metadata": {},
   "outputs": [
    {
     "data": {
      "text/html": [
       "<div>\n",
       "<style scoped>\n",
       "    .dataframe tbody tr th:only-of-type {\n",
       "        vertical-align: middle;\n",
       "    }\n",
       "\n",
       "    .dataframe tbody tr th {\n",
       "        vertical-align: top;\n",
       "    }\n",
       "\n",
       "    .dataframe thead th {\n",
       "        text-align: right;\n",
       "    }\n",
       "</style>\n",
       "<table border=\"1\" class=\"dataframe\">\n",
       "  <thead>\n",
       "    <tr style=\"text-align: right;\">\n",
       "      <th></th>\n",
       "      <th>CAR</th>\n",
       "      <th>CARSHARE</th>\n",
       "      <th>DRVRCNT</th>\n",
       "      <th>EDUC</th>\n",
       "      <th>HBPPOPDN</th>\n",
       "      <th>HBRESDN</th>\n",
       "      <th>HHFAMINC</th>\n",
       "      <th>HHSIZE</th>\n",
       "      <th>HHVEHCNT</th>\n",
       "      <th>PLACE</th>\n",
       "      <th>PRICE</th>\n",
       "      <th>R_AGE</th>\n",
       "      <th>TIMETOWK</th>\n",
       "      <th>VEHAGE</th>\n",
       "      <th>VEHOWNMO</th>\n",
       "      <th>WRKCOUNT</th>\n",
       "      <th>YEARMILE</th>\n",
       "      <th>YOUNGCHILD</th>\n",
       "    </tr>\n",
       "  </thead>\n",
       "  <tbody>\n",
       "    <tr>\n",
       "      <th>0</th>\n",
       "      <td>1.00</td>\n",
       "      <td>0.0</td>\n",
       "      <td>0.000</td>\n",
       "      <td>0.75</td>\n",
       "      <td>0.714286</td>\n",
       "      <td>0.428571</td>\n",
       "      <td>0.5</td>\n",
       "      <td>0.000000</td>\n",
       "      <td>0.090909</td>\n",
       "      <td>0.50</td>\n",
       "      <td>0.50</td>\n",
       "      <td>0.609195</td>\n",
       "      <td>0.033333</td>\n",
       "      <td>0.000000</td>\n",
       "      <td>0.454545</td>\n",
       "      <td>0.142857</td>\n",
       "      <td>0.050</td>\n",
       "      <td>0.0</td>\n",
       "    </tr>\n",
       "    <tr>\n",
       "      <th>1</th>\n",
       "      <td>1.00</td>\n",
       "      <td>0.0</td>\n",
       "      <td>0.250</td>\n",
       "      <td>0.25</td>\n",
       "      <td>0.571429</td>\n",
       "      <td>0.428571</td>\n",
       "      <td>0.3</td>\n",
       "      <td>0.166667</td>\n",
       "      <td>0.090909</td>\n",
       "      <td>0.25</td>\n",
       "      <td>0.25</td>\n",
       "      <td>0.609195</td>\n",
       "      <td>0.033333</td>\n",
       "      <td>0.153846</td>\n",
       "      <td>0.454545</td>\n",
       "      <td>0.142857</td>\n",
       "      <td>0.050</td>\n",
       "      <td>0.0</td>\n",
       "    </tr>\n",
       "    <tr>\n",
       "      <th>2</th>\n",
       "      <td>1.00</td>\n",
       "      <td>0.0</td>\n",
       "      <td>0.125</td>\n",
       "      <td>0.75</td>\n",
       "      <td>0.142857</td>\n",
       "      <td>0.142857</td>\n",
       "      <td>1.0</td>\n",
       "      <td>0.083333</td>\n",
       "      <td>0.090909</td>\n",
       "      <td>0.75</td>\n",
       "      <td>1.00</td>\n",
       "      <td>0.666667</td>\n",
       "      <td>0.033333</td>\n",
       "      <td>0.000000</td>\n",
       "      <td>0.454545</td>\n",
       "      <td>0.000000</td>\n",
       "      <td>0.050</td>\n",
       "      <td>0.0</td>\n",
       "    </tr>\n",
       "    <tr>\n",
       "      <th>3</th>\n",
       "      <td>0.75</td>\n",
       "      <td>0.0</td>\n",
       "      <td>0.000</td>\n",
       "      <td>0.00</td>\n",
       "      <td>0.714286</td>\n",
       "      <td>0.571429</td>\n",
       "      <td>0.5</td>\n",
       "      <td>0.000000</td>\n",
       "      <td>0.000000</td>\n",
       "      <td>0.50</td>\n",
       "      <td>0.50</td>\n",
       "      <td>0.781609</td>\n",
       "      <td>0.033333</td>\n",
       "      <td>0.230769</td>\n",
       "      <td>0.454545</td>\n",
       "      <td>0.000000</td>\n",
       "      <td>0.005</td>\n",
       "      <td>0.0</td>\n",
       "    </tr>\n",
       "    <tr>\n",
       "      <th>4</th>\n",
       "      <td>1.00</td>\n",
       "      <td>0.0</td>\n",
       "      <td>0.125</td>\n",
       "      <td>0.50</td>\n",
       "      <td>0.571429</td>\n",
       "      <td>0.571429</td>\n",
       "      <td>0.4</td>\n",
       "      <td>0.250000</td>\n",
       "      <td>0.090909</td>\n",
       "      <td>0.00</td>\n",
       "      <td>0.00</td>\n",
       "      <td>0.344828</td>\n",
       "      <td>0.100000</td>\n",
       "      <td>0.333333</td>\n",
       "      <td>0.363636</td>\n",
       "      <td>0.285714</td>\n",
       "      <td>0.050</td>\n",
       "      <td>0.0</td>\n",
       "    </tr>\n",
       "  </tbody>\n",
       "</table>\n",
       "</div>"
      ],
      "text/plain": [
       "    CAR  CARSHARE  DRVRCNT  EDUC  HBPPOPDN   HBRESDN  HHFAMINC    HHSIZE  \\\n",
       "0  1.00       0.0    0.000  0.75  0.714286  0.428571       0.5  0.000000   \n",
       "1  1.00       0.0    0.250  0.25  0.571429  0.428571       0.3  0.166667   \n",
       "2  1.00       0.0    0.125  0.75  0.142857  0.142857       1.0  0.083333   \n",
       "3  0.75       0.0    0.000  0.00  0.714286  0.571429       0.5  0.000000   \n",
       "4  1.00       0.0    0.125  0.50  0.571429  0.571429       0.4  0.250000   \n",
       "\n",
       "   HHVEHCNT  PLACE  PRICE     R_AGE  TIMETOWK    VEHAGE  VEHOWNMO  WRKCOUNT  \\\n",
       "0  0.090909   0.50   0.50  0.609195  0.033333  0.000000  0.454545  0.142857   \n",
       "1  0.090909   0.25   0.25  0.609195  0.033333  0.153846  0.454545  0.142857   \n",
       "2  0.090909   0.75   1.00  0.666667  0.033333  0.000000  0.454545  0.000000   \n",
       "3  0.000000   0.50   0.50  0.781609  0.033333  0.230769  0.454545  0.000000   \n",
       "4  0.090909   0.00   0.00  0.344828  0.100000  0.333333  0.363636  0.285714   \n",
       "\n",
       "   YEARMILE  YOUNGCHILD  \n",
       "0     0.050         0.0  \n",
       "1     0.050         0.0  \n",
       "2     0.050         0.0  \n",
       "3     0.005         0.0  \n",
       "4     0.050         0.0  "
      ]
     },
     "execution_count": 163,
     "metadata": {},
     "output_type": "execute_result"
    }
   ],
   "source": [
    "X_train_labeled_kmeans_mini_sub.head()"
   ]
  },
  {
   "cell_type": "code",
   "execution_count": 164,
   "metadata": {},
   "outputs": [
    {
     "data": {
      "text/plain": [
       "(280788, 18)"
      ]
     },
     "execution_count": 164,
     "metadata": {},
     "output_type": "execute_result"
    }
   ],
   "source": [
    "X_train_labeled_kmeans_mini_sub.shape"
   ]
  },
  {
   "cell_type": "code",
   "execution_count": 165,
   "metadata": {},
   "outputs": [],
   "source": [
    "#Calculate original values\n",
    "X_train_labeled_kmeans_mini_ori = np.multiply(X_train_labeled_kmeans_mini_sub,(min_max.iloc[1,:].to_numpy() - min_max.iloc[0,:].to_numpy())) + min_max.iloc[0,:].to_numpy()"
   ]
  },
  {
   "cell_type": "code",
   "execution_count": 166,
   "metadata": {},
   "outputs": [
    {
     "data": {
      "text/html": [
       "<div>\n",
       "<style scoped>\n",
       "    .dataframe tbody tr th:only-of-type {\n",
       "        vertical-align: middle;\n",
       "    }\n",
       "\n",
       "    .dataframe tbody tr th {\n",
       "        vertical-align: top;\n",
       "    }\n",
       "\n",
       "    .dataframe thead th {\n",
       "        text-align: right;\n",
       "    }\n",
       "</style>\n",
       "<table border=\"1\" class=\"dataframe\">\n",
       "  <thead>\n",
       "    <tr style=\"text-align: right;\">\n",
       "      <th></th>\n",
       "      <th>CAR</th>\n",
       "      <th>CARSHARE</th>\n",
       "      <th>DRVRCNT</th>\n",
       "      <th>EDUC</th>\n",
       "      <th>HBPPOPDN</th>\n",
       "      <th>HBRESDN</th>\n",
       "      <th>HHFAMINC</th>\n",
       "      <th>HHSIZE</th>\n",
       "      <th>HHVEHCNT</th>\n",
       "      <th>PLACE</th>\n",
       "      <th>PRICE</th>\n",
       "      <th>R_AGE</th>\n",
       "      <th>TIMETOWK</th>\n",
       "      <th>VEHAGE</th>\n",
       "      <th>VEHOWNMO</th>\n",
       "      <th>WRKCOUNT</th>\n",
       "      <th>YEARMILE</th>\n",
       "      <th>YOUNGCHILD</th>\n",
       "    </tr>\n",
       "  </thead>\n",
       "  <tbody>\n",
       "    <tr>\n",
       "      <th>0</th>\n",
       "      <td>5.0</td>\n",
       "      <td>0.0</td>\n",
       "      <td>1.0</td>\n",
       "      <td>4.0</td>\n",
       "      <td>6.0</td>\n",
       "      <td>4.0</td>\n",
       "      <td>6.0</td>\n",
       "      <td>1.0</td>\n",
       "      <td>2.0</td>\n",
       "      <td>3.0</td>\n",
       "      <td>3.0</td>\n",
       "      <td>58.0</td>\n",
       "      <td>20.0</td>\n",
       "      <td>1.0</td>\n",
       "      <td>5.0</td>\n",
       "      <td>1.0</td>\n",
       "      <td>10000.0</td>\n",
       "      <td>0.0</td>\n",
       "    </tr>\n",
       "    <tr>\n",
       "      <th>1</th>\n",
       "      <td>5.0</td>\n",
       "      <td>0.0</td>\n",
       "      <td>3.0</td>\n",
       "      <td>2.0</td>\n",
       "      <td>5.0</td>\n",
       "      <td>4.0</td>\n",
       "      <td>4.0</td>\n",
       "      <td>3.0</td>\n",
       "      <td>2.0</td>\n",
       "      <td>2.0</td>\n",
       "      <td>2.0</td>\n",
       "      <td>58.0</td>\n",
       "      <td>20.0</td>\n",
       "      <td>7.0</td>\n",
       "      <td>5.0</td>\n",
       "      <td>1.0</td>\n",
       "      <td>10000.0</td>\n",
       "      <td>0.0</td>\n",
       "    </tr>\n",
       "    <tr>\n",
       "      <th>2</th>\n",
       "      <td>5.0</td>\n",
       "      <td>0.0</td>\n",
       "      <td>2.0</td>\n",
       "      <td>4.0</td>\n",
       "      <td>2.0</td>\n",
       "      <td>2.0</td>\n",
       "      <td>11.0</td>\n",
       "      <td>2.0</td>\n",
       "      <td>2.0</td>\n",
       "      <td>4.0</td>\n",
       "      <td>5.0</td>\n",
       "      <td>63.0</td>\n",
       "      <td>20.0</td>\n",
       "      <td>1.0</td>\n",
       "      <td>5.0</td>\n",
       "      <td>0.0</td>\n",
       "      <td>10000.0</td>\n",
       "      <td>0.0</td>\n",
       "    </tr>\n",
       "    <tr>\n",
       "      <th>3</th>\n",
       "      <td>4.0</td>\n",
       "      <td>0.0</td>\n",
       "      <td>1.0</td>\n",
       "      <td>1.0</td>\n",
       "      <td>6.0</td>\n",
       "      <td>5.0</td>\n",
       "      <td>6.0</td>\n",
       "      <td>1.0</td>\n",
       "      <td>1.0</td>\n",
       "      <td>3.0</td>\n",
       "      <td>3.0</td>\n",
       "      <td>73.0</td>\n",
       "      <td>20.0</td>\n",
       "      <td>10.0</td>\n",
       "      <td>5.0</td>\n",
       "      <td>0.0</td>\n",
       "      <td>1000.0</td>\n",
       "      <td>0.0</td>\n",
       "    </tr>\n",
       "    <tr>\n",
       "      <th>4</th>\n",
       "      <td>5.0</td>\n",
       "      <td>0.0</td>\n",
       "      <td>2.0</td>\n",
       "      <td>3.0</td>\n",
       "      <td>5.0</td>\n",
       "      <td>5.0</td>\n",
       "      <td>5.0</td>\n",
       "      <td>4.0</td>\n",
       "      <td>2.0</td>\n",
       "      <td>1.0</td>\n",
       "      <td>1.0</td>\n",
       "      <td>35.0</td>\n",
       "      <td>60.0</td>\n",
       "      <td>14.0</td>\n",
       "      <td>4.0</td>\n",
       "      <td>2.0</td>\n",
       "      <td>10000.0</td>\n",
       "      <td>0.0</td>\n",
       "    </tr>\n",
       "  </tbody>\n",
       "</table>\n",
       "</div>"
      ],
      "text/plain": [
       "   CAR  CARSHARE  DRVRCNT  EDUC  HBPPOPDN  HBRESDN  HHFAMINC  HHSIZE  \\\n",
       "0  5.0       0.0      1.0   4.0       6.0      4.0       6.0     1.0   \n",
       "1  5.0       0.0      3.0   2.0       5.0      4.0       4.0     3.0   \n",
       "2  5.0       0.0      2.0   4.0       2.0      2.0      11.0     2.0   \n",
       "3  4.0       0.0      1.0   1.0       6.0      5.0       6.0     1.0   \n",
       "4  5.0       0.0      2.0   3.0       5.0      5.0       5.0     4.0   \n",
       "\n",
       "   HHVEHCNT  PLACE  PRICE  R_AGE  TIMETOWK  VEHAGE  VEHOWNMO  WRKCOUNT  \\\n",
       "0       2.0    3.0    3.0   58.0      20.0     1.0       5.0       1.0   \n",
       "1       2.0    2.0    2.0   58.0      20.0     7.0       5.0       1.0   \n",
       "2       2.0    4.0    5.0   63.0      20.0     1.0       5.0       0.0   \n",
       "3       1.0    3.0    3.0   73.0      20.0    10.0       5.0       0.0   \n",
       "4       2.0    1.0    1.0   35.0      60.0    14.0       4.0       2.0   \n",
       "\n",
       "   YEARMILE  YOUNGCHILD  \n",
       "0   10000.0         0.0  \n",
       "1   10000.0         0.0  \n",
       "2   10000.0         0.0  \n",
       "3    1000.0         0.0  \n",
       "4   10000.0         0.0  "
      ]
     },
     "execution_count": 166,
     "metadata": {},
     "output_type": "execute_result"
    }
   ],
   "source": [
    "X_train_labeled_kmeans_mini_ori.head()"
   ]
  },
  {
   "cell_type": "code",
   "execution_count": 167,
   "metadata": {},
   "outputs": [
    {
     "data": {
      "text/plain": [
       "(280788, 18)"
      ]
     },
     "execution_count": 167,
     "metadata": {},
     "output_type": "execute_result"
    }
   ],
   "source": [
    "X_train_labeled_kmeans_mini_ori.shape"
   ]
  },
  {
   "cell_type": "code",
   "execution_count": 168,
   "metadata": {},
   "outputs": [],
   "source": [
    "#read codebook file to apply labels for categorical variables\n",
    "\n",
    "codebook_reshape = pd.read_csv(\"C:\\\\Users\\\\kk67\\\\Documents\\\\Documents\\\\Capstone\\\\codebook_reshape.csv\", index_col=0)"
   ]
  },
  {
   "cell_type": "code",
   "execution_count": 169,
   "metadata": {},
   "outputs": [
    {
     "data": {
      "text/html": [
       "<div>\n",
       "<style scoped>\n",
       "    .dataframe tbody tr th:only-of-type {\n",
       "        vertical-align: middle;\n",
       "    }\n",
       "\n",
       "    .dataframe tbody tr th {\n",
       "        vertical-align: top;\n",
       "    }\n",
       "\n",
       "    .dataframe thead th {\n",
       "        text-align: right;\n",
       "    }\n",
       "</style>\n",
       "<table border=\"1\" class=\"dataframe\">\n",
       "  <thead>\n",
       "    <tr style=\"text-align: right;\">\n",
       "      <th></th>\n",
       "      <th>Name</th>\n",
       "      <th>Type</th>\n",
       "      <th>Code / Range</th>\n",
       "      <th>New</th>\n",
       "      <th>New_m</th>\n",
       "    </tr>\n",
       "  </thead>\n",
       "  <tbody>\n",
       "    <tr>\n",
       "      <th>0</th>\n",
       "      <td>CAR</td>\n",
       "      <td>C</td>\n",
       "      <td>-8=I don't know=-7=I prefer not to answer=-1=A...</td>\n",
       "      <td>['-8', \"I don't know\", '-7', 'I prefer not to ...</td>\n",
       "      <td>{'-8': \"I don't know\", '-7': 'I prefer not to ...</td>\n",
       "    </tr>\n",
       "    <tr>\n",
       "      <th>1</th>\n",
       "      <td>EDUC</td>\n",
       "      <td>C</td>\n",
       "      <td>-8=I don't know=-7=I prefer not to answer=-1=A...</td>\n",
       "      <td>['-8', \"I don't know\", '-7', 'I prefer not to ...</td>\n",
       "      <td>{'-8': \"I don't know\", '-7': 'I prefer not to ...</td>\n",
       "    </tr>\n",
       "    <tr>\n",
       "      <th>2</th>\n",
       "      <td>FUELTYPE</td>\n",
       "      <td>C</td>\n",
       "      <td>-8=I don't know=-7=I prefer not to answer=01=G...</td>\n",
       "      <td>['-8', \"I don't know\", '-7', 'I prefer not to ...</td>\n",
       "      <td>{'-8': \"I don't know\", '-7': 'I prefer not to ...</td>\n",
       "    </tr>\n",
       "    <tr>\n",
       "      <th>3</th>\n",
       "      <td>GT1JBLWK</td>\n",
       "      <td>C</td>\n",
       "      <td>-9=Not ascertained=-8=I don't know=-7=I prefer...</td>\n",
       "      <td>['-9', 'Not ascertained', '-8', \"I don't know\"...</td>\n",
       "      <td>{'-9': 'Not ascertained', '-8': \"I don't know\"...</td>\n",
       "    </tr>\n",
       "    <tr>\n",
       "      <th>4</th>\n",
       "      <td>HBHUR</td>\n",
       "      <td>C</td>\n",
       "      <td>C=Second City=R=Rural=S=Suburban=T=Small Town=...</td>\n",
       "      <td>['C', 'Second City', 'R', 'Rural', 'S', 'Subur...</td>\n",
       "      <td>{'C': 'Second City', 'R': 'Rural', 'S': 'Subur...</td>\n",
       "    </tr>\n",
       "  </tbody>\n",
       "</table>\n",
       "</div>"
      ],
      "text/plain": [
       "       Name Type                                       Code / Range  \\\n",
       "0       CAR    C  -8=I don't know=-7=I prefer not to answer=-1=A...   \n",
       "1      EDUC    C  -8=I don't know=-7=I prefer not to answer=-1=A...   \n",
       "2  FUELTYPE    C  -8=I don't know=-7=I prefer not to answer=01=G...   \n",
       "3  GT1JBLWK    C  -9=Not ascertained=-8=I don't know=-7=I prefer...   \n",
       "4     HBHUR    C  C=Second City=R=Rural=S=Suburban=T=Small Town=...   \n",
       "\n",
       "                                                 New  \\\n",
       "0  ['-8', \"I don't know\", '-7', 'I prefer not to ...   \n",
       "1  ['-8', \"I don't know\", '-7', 'I prefer not to ...   \n",
       "2  ['-8', \"I don't know\", '-7', 'I prefer not to ...   \n",
       "3  ['-9', 'Not ascertained', '-8', \"I don't know\"...   \n",
       "4  ['C', 'Second City', 'R', 'Rural', 'S', 'Subur...   \n",
       "\n",
       "                                               New_m  \n",
       "0  {'-8': \"I don't know\", '-7': 'I prefer not to ...  \n",
       "1  {'-8': \"I don't know\", '-7': 'I prefer not to ...  \n",
       "2  {'-8': \"I don't know\", '-7': 'I prefer not to ...  \n",
       "3  {'-9': 'Not ascertained', '-8': \"I don't know\"...  \n",
       "4  {'C': 'Second City', 'R': 'Rural', 'S': 'Subur...  "
      ]
     },
     "execution_count": 169,
     "metadata": {},
     "output_type": "execute_result"
    }
   ],
   "source": [
    "codebook_reshape.head()"
   ]
  },
  {
   "cell_type": "code",
   "execution_count": 170,
   "metadata": {},
   "outputs": [
    {
     "data": {
      "text/plain": [
       "(24, 5)"
      ]
     },
     "execution_count": 170,
     "metadata": {},
     "output_type": "execute_result"
    }
   ],
   "source": [
    "codebook_reshape.shape"
   ]
  },
  {
   "cell_type": "markdown",
   "metadata": {},
   "source": [
    "Manipulate the file to a format we want"
   ]
  },
  {
   "cell_type": "code",
   "execution_count": 171,
   "metadata": {},
   "outputs": [],
   "source": [
    "codebook_reshape.drop(columns=['New','New_m'], inplace=True)"
   ]
  },
  {
   "cell_type": "code",
   "execution_count": 172,
   "metadata": {},
   "outputs": [],
   "source": [
    "codebook_reshape['New'] = codebook_reshape['Code / Range'].str.split('=')"
   ]
  },
  {
   "cell_type": "code",
   "execution_count": 173,
   "metadata": {},
   "outputs": [
    {
     "data": {
      "text/html": [
       "<div>\n",
       "<style scoped>\n",
       "    .dataframe tbody tr th:only-of-type {\n",
       "        vertical-align: middle;\n",
       "    }\n",
       "\n",
       "    .dataframe tbody tr th {\n",
       "        vertical-align: top;\n",
       "    }\n",
       "\n",
       "    .dataframe thead th {\n",
       "        text-align: right;\n",
       "    }\n",
       "</style>\n",
       "<table border=\"1\" class=\"dataframe\">\n",
       "  <thead>\n",
       "    <tr style=\"text-align: right;\">\n",
       "      <th></th>\n",
       "      <th>Name</th>\n",
       "      <th>Type</th>\n",
       "      <th>Code / Range</th>\n",
       "      <th>New</th>\n",
       "      <th>New_m</th>\n",
       "    </tr>\n",
       "  </thead>\n",
       "  <tbody>\n",
       "    <tr>\n",
       "      <th>0</th>\n",
       "      <td>CAR</td>\n",
       "      <td>C</td>\n",
       "      <td>-8=I don't know=-7=I prefer not to answer=-1=A...</td>\n",
       "      <td>[-8, I don't know, -7, I prefer not to answer,...</td>\n",
       "      <td>{'-8': 'I don't know', '-7': 'I prefer not to ...</td>\n",
       "    </tr>\n",
       "    <tr>\n",
       "      <th>1</th>\n",
       "      <td>EDUC</td>\n",
       "      <td>C</td>\n",
       "      <td>-8=I don't know=-7=I prefer not to answer=-1=A...</td>\n",
       "      <td>[-8, I don't know, -7, I prefer not to answer,...</td>\n",
       "      <td>{'-8': 'I don't know', '-7': 'I prefer not to ...</td>\n",
       "    </tr>\n",
       "    <tr>\n",
       "      <th>2</th>\n",
       "      <td>FUELTYPE</td>\n",
       "      <td>C</td>\n",
       "      <td>-8=I don't know=-7=I prefer not to answer=01=G...</td>\n",
       "      <td>[-8, I don't know, -7, I prefer not to answer,...</td>\n",
       "      <td>{'-8': 'I don't know', '-7': 'I prefer not to ...</td>\n",
       "    </tr>\n",
       "    <tr>\n",
       "      <th>3</th>\n",
       "      <td>GT1JBLWK</td>\n",
       "      <td>C</td>\n",
       "      <td>-9=Not ascertained=-8=I don't know=-7=I prefer...</td>\n",
       "      <td>[-9, Not ascertained, -8, I don't know, -7, I ...</td>\n",
       "      <td>{'-9': 'Not ascertained', '-8': 'I don't know'...</td>\n",
       "    </tr>\n",
       "    <tr>\n",
       "      <th>4</th>\n",
       "      <td>HBHUR</td>\n",
       "      <td>C</td>\n",
       "      <td>C=Second City=R=Rural=S=Suburban=T=Small Town=...</td>\n",
       "      <td>[C, Second City, R, Rural, S, Suburban, T, Sma...</td>\n",
       "      <td>{'C': 'Second City', 'R': 'Rural', 'S': 'Subur...</td>\n",
       "    </tr>\n",
       "  </tbody>\n",
       "</table>\n",
       "</div>"
      ],
      "text/plain": [
       "       Name Type                                       Code / Range  \\\n",
       "0       CAR    C  -8=I don't know=-7=I prefer not to answer=-1=A...   \n",
       "1      EDUC    C  -8=I don't know=-7=I prefer not to answer=-1=A...   \n",
       "2  FUELTYPE    C  -8=I don't know=-7=I prefer not to answer=01=G...   \n",
       "3  GT1JBLWK    C  -9=Not ascertained=-8=I don't know=-7=I prefer...   \n",
       "4     HBHUR    C  C=Second City=R=Rural=S=Suburban=T=Small Town=...   \n",
       "\n",
       "                                                 New  \\\n",
       "0  [-8, I don't know, -7, I prefer not to answer,...   \n",
       "1  [-8, I don't know, -7, I prefer not to answer,...   \n",
       "2  [-8, I don't know, -7, I prefer not to answer,...   \n",
       "3  [-9, Not ascertained, -8, I don't know, -7, I ...   \n",
       "4  [C, Second City, R, Rural, S, Suburban, T, Sma...   \n",
       "\n",
       "                                               New_m  \n",
       "0  {'-8': 'I don't know', '-7': 'I prefer not to ...  \n",
       "1  {'-8': 'I don't know', '-7': 'I prefer not to ...  \n",
       "2  {'-8': 'I don't know', '-7': 'I prefer not to ...  \n",
       "3  {'-9': 'Not ascertained', '-8': 'I don't know'...  \n",
       "4  {'C': 'Second City', 'R': 'Rural', 'S': 'Subur...  "
      ]
     },
     "execution_count": 173,
     "metadata": {},
     "output_type": "execute_result"
    }
   ],
   "source": [
    "codebook_reshape['New_m'] = codebook_reshape['New'].apply(lambda x: dict(zip(x[::2], x[1::2])))\n",
    "codebook_reshape.head()"
   ]
  },
  {
   "cell_type": "code",
   "execution_count": 174,
   "metadata": {},
   "outputs": [
    {
     "data": {
      "text/plain": [
       "{'CAR': {'-8': \"I don't know\",\n",
       "  '-7': 'I prefer not to answer',\n",
       "  '-1': 'Appropriate skip',\n",
       "  '01': 'Daily',\n",
       "  '02': 'A few times a week',\n",
       "  '03': 'A few times a month',\n",
       "  '04': 'A few times a year',\n",
       "  '05': 'Never'},\n",
       " 'EDUC': {'-8': \"I don't know\",\n",
       "  '-7': 'I prefer not to answer',\n",
       "  '-1': 'Appropriate skip',\n",
       "  '01': 'Less than a high school graduate',\n",
       "  '02': 'High school graduate or GED',\n",
       "  '03': 'Some college or associates degree',\n",
       "  '04': \"Bachelor's degree\",\n",
       "  '05': 'Graduate degree or professional degree'},\n",
       " 'FUELTYPE': {'-8': \"I don't know\",\n",
       "  '-7': 'I prefer not to answer',\n",
       "  '01': 'Gas',\n",
       "  '02': 'Diesel',\n",
       "  '03': 'Hybrid, electric or alternative fuel',\n",
       "  '97': 'Some other fuel'},\n",
       " 'GT1JBLWK': {'-9': 'Not ascertained',\n",
       "  '-8': \"I don't know\",\n",
       "  '-7': 'I prefer not to answer',\n",
       "  '-1': 'Appropriate skip',\n",
       "  '01': 'Yes',\n",
       "  '02': 'No'},\n",
       " 'HBHUR': {'C': 'Second City',\n",
       "  'R': 'Rural',\n",
       "  'S': 'Suburban',\n",
       "  'T': 'Small Town',\n",
       "  'U': 'Urban',\n",
       "  '-9': 'Not ascertained'},\n",
       " 'HBPPOPDN': {'-9': 'Not ascertained',\n",
       "  '50': '0-99',\n",
       "  '300': '100-499',\n",
       "  '750': '500-999',\n",
       "  '1500': '1,000-1,999',\n",
       "  '3000': '2,000-3,999',\n",
       "  '7000': '4,000-9,999',\n",
       "  '17000': '10,000-24,999',\n",
       "  '30000': '25,000-999,999'},\n",
       " 'HBRESDN': {'-9': 'Not ascertained',\n",
       "  '50': '0-99',\n",
       "  '300': '100-499',\n",
       "  '750': '500-999',\n",
       "  '1500': '1,000-1,999',\n",
       "  '3000': '2,000-3,999',\n",
       "  '7000': '4,000-9,999',\n",
       "  '17000': '10,000-24,999',\n",
       "  '30000': '25,000-999,999'},\n",
       " 'HFUEL': {'-9': 'Not ascertained',\n",
       "  '-8': \"I don't know\",\n",
       "  '-1': 'Appropriate skip',\n",
       "  '01': 'Biodiesel',\n",
       "  '02': 'Plug-in Hybrid (gas/electric e.g., Chevy Volt)',\n",
       "  '03': 'Electric (e.g. Nissan Leaf)',\n",
       "  '04': 'Hybrid (gas/electric, not plug-in e.g., Toyota Prius)',\n",
       "  '97': 'Some other fuel'},\n",
       " 'HHFAMINC': {'-9': 'Not ascertained',\n",
       "  '-8': \"I don't know\",\n",
       "  '-7': 'I prefer not to answer',\n",
       "  '01': 'Less than $10,000',\n",
       "  '02': '$10,000 to $14,999',\n",
       "  '03': '$15,000 to $24,999',\n",
       "  '04': '$25,000 to $34,999',\n",
       "  '05': '$35,000 to $49,999',\n",
       "  '06': '$50,000 to $74,999',\n",
       "  '07': '$75,000 to $99,999',\n",
       "  '08': '$100,000 to $124,999',\n",
       "  '09': '$125,000 to $149,999',\n",
       "  '10': '$150,000 to $199,999',\n",
       "  '11': '$200,000 or more'},\n",
       " 'HHSTATE': {'AK': 'AL',\n",
       "  'AR': 'AZ',\n",
       "  'CA': 'CO',\n",
       "  'CT': 'DC',\n",
       "  'DE': 'FL',\n",
       "  'GA': 'HI',\n",
       "  'IA': 'ID',\n",
       "  'IL': 'IN',\n",
       "  'KS': 'KY',\n",
       "  'LA': 'MA',\n",
       "  'MD': 'ME',\n",
       "  'MI': 'MN',\n",
       "  'MO': 'MS',\n",
       "  'MT': 'NC',\n",
       "  'ND': 'NE',\n",
       "  'NH': 'NJ',\n",
       "  'NM': 'NV',\n",
       "  'NY': 'OH',\n",
       "  'OK': 'OR',\n",
       "  'PA': 'RI',\n",
       "  'SC': 'SD',\n",
       "  'TN': 'TX',\n",
       "  'UT': 'VA',\n",
       "  'VT': 'WA',\n",
       "  'WI': 'WV',\n",
       "  'WY': 'AK',\n",
       "  'AL': 'AR',\n",
       "  'AZ': 'CA',\n",
       "  'CO': 'CT',\n",
       "  'DC': 'DE',\n",
       "  'FL': 'GA',\n",
       "  'HI': 'IA',\n",
       "  'ID': 'IL',\n",
       "  'IN': 'KS',\n",
       "  'KY': 'LA',\n",
       "  'MA': 'MD',\n",
       "  'ME': 'MI',\n",
       "  'MN': 'MO',\n",
       "  'MS': 'MT',\n",
       "  'NC': 'ND',\n",
       "  'NE': 'NH',\n",
       "  'NJ': 'NM',\n",
       "  'NV': 'NY',\n",
       "  'OH': 'OK',\n",
       "  'OR': 'PA',\n",
       "  'RI': 'SC',\n",
       "  'SD': 'TN',\n",
       "  'TX': 'UT',\n",
       "  'VA': 'VT',\n",
       "  'WA': 'WI',\n",
       "  'WV': 'WY'},\n",
       " 'HOMEOWN': {'-8': \"I don't know\",\n",
       "  '-7': 'I prefer not to answer',\n",
       "  '01': 'Own',\n",
       "  '02': 'Rent',\n",
       "  '97': 'Some other arrangement'},\n",
       " 'HOUSEID': {'Responses': '30000007-50515573'},\n",
       " 'OCCAT': {'-9': 'Not ascertained',\n",
       "  '-8': \"I don't know\",\n",
       "  '-7': 'I prefer not to answer',\n",
       "  '-1': 'Appropriate skip',\n",
       "  '01': 'Sales or service',\n",
       "  '02': 'Clerical or administrative support',\n",
       "  '03': 'Manufacturing, construction, maintenance, or farming',\n",
       "  '04': 'Professional, managerial, or technical',\n",
       "  '97': 'Something else'},\n",
       " 'PERSONID': {'01': '02',\n",
       "  '03': '04',\n",
       "  '05': '06',\n",
       "  '07': '08',\n",
       "  '09': '10',\n",
       "  '11': '12',\n",
       "  '13': '-8',\n",
       "  \"I don't know\": '-7',\n",
       "  'I prefer not to answer': '01',\n",
       "  '02': '03',\n",
       "  '04': '05',\n",
       "  '06': '07',\n",
       "  '08': '09',\n",
       "  '10': '97'},\n",
       " 'PLACE': {'-9': 'Not ascertained',\n",
       "  '-8': \"I don't know\",\n",
       "  '-7': 'I prefer not to answer',\n",
       "  '01': 'Strongly agree',\n",
       "  '02': 'Agree',\n",
       "  '03': 'Neither Agree or Disagree',\n",
       "  '04': 'Disagree',\n",
       "  '05': 'Strongly disagree'},\n",
       " 'PRICE': {'-9': 'Not ascertained',\n",
       "  '-8': \"I don't know\",\n",
       "  '-7': 'I prefer not to answer',\n",
       "  '01': 'Strongly agree',\n",
       "  '02': 'Agree',\n",
       "  '03': 'Neither Agree or Disagree',\n",
       "  '04': 'Disagree',\n",
       "  '05': 'Strongly disagree'},\n",
       " 'R_HISP': {'-8': \"I don't know\",\n",
       "  '-7': 'I prefer not to answer',\n",
       "  '01': 'Yes, Hispanic or Latino',\n",
       "  '02': 'No, Not Hispanic or Latino'},\n",
       " 'R_RACE': {'-8': \"Don't know\",\n",
       "  '-7': 'Refused',\n",
       "  '01': 'White',\n",
       "  '02': 'Black or African American',\n",
       "  '03': 'Asian',\n",
       "  '04': 'American Indian or Alaska Native',\n",
       "  '05': 'Native Hawaiian or other Pacific Islander',\n",
       "  '06': 'Multiple responses selected',\n",
       "  '97': 'Some other race'},\n",
       " 'R_SEX': {'-8': \"I don't know\",\n",
       "  '-7': 'I prefer not to answer',\n",
       "  '01': 'Male',\n",
       "  '02': 'Female'},\n",
       " 'VEHID': {'01': '02',\n",
       "  '03': '04',\n",
       "  '05': '06',\n",
       "  '07': '08',\n",
       "  '09': '10',\n",
       "  '11': '12',\n",
       "  '-9': 'Not ascertained',\n",
       "  '-1': 'Appropriate skip',\n",
       "  '12': '97'},\n",
       " 'VEHOWNED': {'-9': 'Not ascertained',\n",
       "  '-8': \"I don't know\",\n",
       "  '-7': 'I prefer not to answer',\n",
       "  '01': 'Yes',\n",
       "  '02': 'No'},\n",
       " 'VEHOWNMO': {'-9': 'Not ascertained',\n",
       "  '-8': \"I don't know\",\n",
       "  '-7': 'I prefer not to answer',\n",
       "  '-1': 'Appropriate skip',\n",
       "  '0': '01',\n",
       "  '02': '03',\n",
       "  '04': '05',\n",
       "  '06': '07',\n",
       "  '08': '09',\n",
       "  '10': '11'},\n",
       " 'WKFTPT': {'-8': \"I don't know\",\n",
       "  '-7': 'I prefer not to answer',\n",
       "  '-1': 'Appropriate skip',\n",
       "  '01': 'Full-time',\n",
       "  '02': 'Part-time'},\n",
       " 'WKRMHM': {'-9': 'Not ascertained',\n",
       "  '-8': \"I don't know\",\n",
       "  '-7': 'I prefer not to answer',\n",
       "  '-1': 'Appropriate skip',\n",
       "  '01': 'Yes',\n",
       "  '02': 'No'}}"
      ]
     },
     "execution_count": 174,
     "metadata": {},
     "output_type": "execute_result"
    }
   ],
   "source": [
    "val_label = dict(zip(codebook_reshape.Name,codebook_reshape.New_m))\n",
    "val_label"
   ]
  },
  {
   "cell_type": "code",
   "execution_count": 175,
   "metadata": {},
   "outputs": [],
   "source": [
    "#Get the variables in both files\n",
    "name = list(set(X_train_labeled_kmeans_mini_ori.columns).intersection(set(codebook_reshape.iloc[:,0])))"
   ]
  },
  {
   "cell_type": "code",
   "execution_count": 176,
   "metadata": {},
   "outputs": [
    {
     "data": {
      "text/plain": [
       "['HBPPOPDN',\n",
       " 'VEHOWNMO',\n",
       " 'EDUC',\n",
       " 'HBRESDN',\n",
       " 'CAR',\n",
       " 'HHFAMINC',\n",
       " 'PLACE',\n",
       " 'PRICE']"
      ]
     },
     "execution_count": 176,
     "metadata": {},
     "output_type": "execute_result"
    }
   ],
   "source": [
    "name"
   ]
  },
  {
   "cell_type": "code",
   "execution_count": 177,
   "metadata": {},
   "outputs": [],
   "source": [
    "#Get the names of variables not in both files\n",
    "name_left = set(X_train_labeled_kmeans_mini_ori).difference(set(name))"
   ]
  },
  {
   "cell_type": "code",
   "execution_count": 178,
   "metadata": {},
   "outputs": [
    {
     "data": {
      "text/plain": [
       "{'CARSHARE',\n",
       " 'DRVRCNT',\n",
       " 'HHSIZE',\n",
       " 'HHVEHCNT',\n",
       " 'R_AGE',\n",
       " 'TIMETOWK',\n",
       " 'VEHAGE',\n",
       " 'WRKCOUNT',\n",
       " 'YEARMILE',\n",
       " 'YOUNGCHILD'}"
      ]
     },
     "execution_count": 178,
     "metadata": {},
     "output_type": "execute_result"
    }
   ],
   "source": [
    "name_left"
   ]
  },
  {
   "cell_type": "code",
   "execution_count": 179,
   "metadata": {},
   "outputs": [],
   "source": [
    "#concatenate the datasets\n",
    "X_train_labeled_kmeans_mini_done = pd.concat([X_train_labeled_kmeans_mini_ori[name].astype('int').astype('str'),X_train_labeled_kmeans_mini_ori[name_left],X_train_labeled_kmeans_mini[['type','predict','y_train']]], axis=1)"
   ]
  },
  {
   "cell_type": "code",
   "execution_count": 180,
   "metadata": {
    "scrolled": true
   },
   "outputs": [
    {
     "name": "stdout",
     "output_type": "stream",
     "text": [
      "<class 'pandas.core.frame.DataFrame'>\n",
      "Int64Index: 280788 entries, 0 to 140393\n",
      "Data columns (total 21 columns):\n",
      " #   Column      Non-Null Count   Dtype  \n",
      "---  ------      --------------   -----  \n",
      " 0   HBPPOPDN    280788 non-null  object \n",
      " 1   VEHOWNMO    280788 non-null  object \n",
      " 2   EDUC        280788 non-null  object \n",
      " 3   HBRESDN     280788 non-null  object \n",
      " 4   CAR         280788 non-null  object \n",
      " 5   HHFAMINC    280788 non-null  object \n",
      " 6   PLACE       280788 non-null  object \n",
      " 7   PRICE       280788 non-null  object \n",
      " 8   CARSHARE    280788 non-null  float64\n",
      " 9   DRVRCNT     280788 non-null  float64\n",
      " 10  YEARMILE    280788 non-null  float64\n",
      " 11  VEHAGE      280788 non-null  float64\n",
      " 12  R_AGE       280788 non-null  float64\n",
      " 13  YOUNGCHILD  280788 non-null  float64\n",
      " 14  TIMETOWK    280788 non-null  float64\n",
      " 15  HHSIZE      280788 non-null  float64\n",
      " 16  HHVEHCNT    280788 non-null  float64\n",
      " 17  WRKCOUNT    280788 non-null  float64\n",
      " 18  type        280788 non-null  object \n",
      " 19  predict     280788 non-null  int32  \n",
      " 20  y_train     280788 non-null  int64  \n",
      "dtypes: float64(10), int32(1), int64(1), object(9)\n",
      "memory usage: 46.1+ MB\n"
     ]
    }
   ],
   "source": [
    "X_train_labeled_kmeans_mini_done.info()"
   ]
  },
  {
   "cell_type": "code",
   "execution_count": 181,
   "metadata": {},
   "outputs": [
    {
     "data": {
      "text/html": [
       "<div>\n",
       "<style scoped>\n",
       "    .dataframe tbody tr th:only-of-type {\n",
       "        vertical-align: middle;\n",
       "    }\n",
       "\n",
       "    .dataframe tbody tr th {\n",
       "        vertical-align: top;\n",
       "    }\n",
       "\n",
       "    .dataframe thead th {\n",
       "        text-align: right;\n",
       "    }\n",
       "</style>\n",
       "<table border=\"1\" class=\"dataframe\">\n",
       "  <thead>\n",
       "    <tr style=\"text-align: right;\">\n",
       "      <th></th>\n",
       "      <th>HBPPOPDN</th>\n",
       "      <th>VEHOWNMO</th>\n",
       "      <th>EDUC</th>\n",
       "      <th>HBRESDN</th>\n",
       "      <th>CAR</th>\n",
       "      <th>HHFAMINC</th>\n",
       "      <th>PLACE</th>\n",
       "      <th>PRICE</th>\n",
       "      <th>CARSHARE</th>\n",
       "      <th>DRVRCNT</th>\n",
       "      <th>...</th>\n",
       "      <th>VEHAGE</th>\n",
       "      <th>R_AGE</th>\n",
       "      <th>YOUNGCHILD</th>\n",
       "      <th>TIMETOWK</th>\n",
       "      <th>HHSIZE</th>\n",
       "      <th>HHVEHCNT</th>\n",
       "      <th>WRKCOUNT</th>\n",
       "      <th>type</th>\n",
       "      <th>predict</th>\n",
       "      <th>y_train</th>\n",
       "    </tr>\n",
       "  </thead>\n",
       "  <tbody>\n",
       "    <tr>\n",
       "      <th>0</th>\n",
       "      <td>5</td>\n",
       "      <td>5</td>\n",
       "      <td>4</td>\n",
       "      <td>3</td>\n",
       "      <td>5</td>\n",
       "      <td>6</td>\n",
       "      <td>3</td>\n",
       "      <td>3</td>\n",
       "      <td>0.0</td>\n",
       "      <td>1.0</td>\n",
       "      <td>...</td>\n",
       "      <td>1.0</td>\n",
       "      <td>58.0</td>\n",
       "      <td>0.0</td>\n",
       "      <td>20.0</td>\n",
       "      <td>1.0</td>\n",
       "      <td>2.0</td>\n",
       "      <td>1.0</td>\n",
       "      <td>Kmeans</td>\n",
       "      <td>1</td>\n",
       "      <td>1</td>\n",
       "    </tr>\n",
       "    <tr>\n",
       "      <th>1</th>\n",
       "      <td>5</td>\n",
       "      <td>5</td>\n",
       "      <td>2</td>\n",
       "      <td>3</td>\n",
       "      <td>5</td>\n",
       "      <td>4</td>\n",
       "      <td>2</td>\n",
       "      <td>2</td>\n",
       "      <td>0.0</td>\n",
       "      <td>3.0</td>\n",
       "      <td>...</td>\n",
       "      <td>7.0</td>\n",
       "      <td>58.0</td>\n",
       "      <td>0.0</td>\n",
       "      <td>20.0</td>\n",
       "      <td>3.0</td>\n",
       "      <td>2.0</td>\n",
       "      <td>1.0</td>\n",
       "      <td>Kmeans</td>\n",
       "      <td>1</td>\n",
       "      <td>1</td>\n",
       "    </tr>\n",
       "    <tr>\n",
       "      <th>2</th>\n",
       "      <td>1</td>\n",
       "      <td>5</td>\n",
       "      <td>4</td>\n",
       "      <td>1</td>\n",
       "      <td>5</td>\n",
       "      <td>11</td>\n",
       "      <td>4</td>\n",
       "      <td>5</td>\n",
       "      <td>0.0</td>\n",
       "      <td>2.0</td>\n",
       "      <td>...</td>\n",
       "      <td>1.0</td>\n",
       "      <td>63.0</td>\n",
       "      <td>0.0</td>\n",
       "      <td>20.0</td>\n",
       "      <td>2.0</td>\n",
       "      <td>2.0</td>\n",
       "      <td>0.0</td>\n",
       "      <td>Kmeans</td>\n",
       "      <td>0</td>\n",
       "      <td>1</td>\n",
       "    </tr>\n",
       "    <tr>\n",
       "      <th>3</th>\n",
       "      <td>5</td>\n",
       "      <td>5</td>\n",
       "      <td>1</td>\n",
       "      <td>5</td>\n",
       "      <td>4</td>\n",
       "      <td>6</td>\n",
       "      <td>3</td>\n",
       "      <td>3</td>\n",
       "      <td>0.0</td>\n",
       "      <td>1.0</td>\n",
       "      <td>...</td>\n",
       "      <td>10.0</td>\n",
       "      <td>73.0</td>\n",
       "      <td>0.0</td>\n",
       "      <td>20.0</td>\n",
       "      <td>1.0</td>\n",
       "      <td>1.0</td>\n",
       "      <td>0.0</td>\n",
       "      <td>Kmeans</td>\n",
       "      <td>0</td>\n",
       "      <td>1</td>\n",
       "    </tr>\n",
       "    <tr>\n",
       "      <th>4</th>\n",
       "      <td>5</td>\n",
       "      <td>3</td>\n",
       "      <td>3</td>\n",
       "      <td>5</td>\n",
       "      <td>5</td>\n",
       "      <td>5</td>\n",
       "      <td>1</td>\n",
       "      <td>1</td>\n",
       "      <td>0.0</td>\n",
       "      <td>2.0</td>\n",
       "      <td>...</td>\n",
       "      <td>14.0</td>\n",
       "      <td>35.0</td>\n",
       "      <td>0.0</td>\n",
       "      <td>60.0</td>\n",
       "      <td>4.0</td>\n",
       "      <td>2.0</td>\n",
       "      <td>2.0</td>\n",
       "      <td>Kmeans</td>\n",
       "      <td>1</td>\n",
       "      <td>1</td>\n",
       "    </tr>\n",
       "  </tbody>\n",
       "</table>\n",
       "<p>5 rows × 21 columns</p>\n",
       "</div>"
      ],
      "text/plain": [
       "  HBPPOPDN VEHOWNMO EDUC HBRESDN CAR HHFAMINC PLACE PRICE  CARSHARE  DRVRCNT  \\\n",
       "0        5        5    4       3   5        6     3     3       0.0      1.0   \n",
       "1        5        5    2       3   5        4     2     2       0.0      3.0   \n",
       "2        1        5    4       1   5       11     4     5       0.0      2.0   \n",
       "3        5        5    1       5   4        6     3     3       0.0      1.0   \n",
       "4        5        3    3       5   5        5     1     1       0.0      2.0   \n",
       "\n",
       "   ...  VEHAGE  R_AGE  YOUNGCHILD  TIMETOWK  HHSIZE  HHVEHCNT  WRKCOUNT  \\\n",
       "0  ...     1.0   58.0         0.0      20.0     1.0       2.0       1.0   \n",
       "1  ...     7.0   58.0         0.0      20.0     3.0       2.0       1.0   \n",
       "2  ...     1.0   63.0         0.0      20.0     2.0       2.0       0.0   \n",
       "3  ...    10.0   73.0         0.0      20.0     1.0       1.0       0.0   \n",
       "4  ...    14.0   35.0         0.0      60.0     4.0       2.0       2.0   \n",
       "\n",
       "     type predict  y_train  \n",
       "0  Kmeans       1        1  \n",
       "1  Kmeans       1        1  \n",
       "2  Kmeans       0        1  \n",
       "3  Kmeans       0        1  \n",
       "4  Kmeans       1        1  \n",
       "\n",
       "[5 rows x 21 columns]"
      ]
     },
     "execution_count": 181,
     "metadata": {},
     "output_type": "execute_result"
    }
   ],
   "source": [
    "X_train_labeled_kmeans_mini_done.head()"
   ]
  },
  {
   "cell_type": "code",
   "execution_count": 182,
   "metadata": {},
   "outputs": [],
   "source": [
    "#limit rows\n",
    "codebook_reshape_c = codebook_reshape[codebook_reshape['Name'].apply(lambda x: any([k in x for k in name]))].reset_index(drop=True)"
   ]
  },
  {
   "cell_type": "code",
   "execution_count": 183,
   "metadata": {},
   "outputs": [
    {
     "data": {
      "text/html": [
       "<div>\n",
       "<style scoped>\n",
       "    .dataframe tbody tr th:only-of-type {\n",
       "        vertical-align: middle;\n",
       "    }\n",
       "\n",
       "    .dataframe tbody tr th {\n",
       "        vertical-align: top;\n",
       "    }\n",
       "\n",
       "    .dataframe thead th {\n",
       "        text-align: right;\n",
       "    }\n",
       "</style>\n",
       "<table border=\"1\" class=\"dataframe\">\n",
       "  <thead>\n",
       "    <tr style=\"text-align: right;\">\n",
       "      <th></th>\n",
       "      <th>Name</th>\n",
       "      <th>Type</th>\n",
       "      <th>Code / Range</th>\n",
       "      <th>New</th>\n",
       "      <th>New_m</th>\n",
       "    </tr>\n",
       "  </thead>\n",
       "  <tbody>\n",
       "    <tr>\n",
       "      <th>0</th>\n",
       "      <td>CAR</td>\n",
       "      <td>C</td>\n",
       "      <td>-8=I don't know=-7=I prefer not to answer=-1=A...</td>\n",
       "      <td>[-8, I don't know, -7, I prefer not to answer,...</td>\n",
       "      <td>{'-8': 'I don't know', '-7': 'I prefer not to ...</td>\n",
       "    </tr>\n",
       "    <tr>\n",
       "      <th>1</th>\n",
       "      <td>EDUC</td>\n",
       "      <td>C</td>\n",
       "      <td>-8=I don't know=-7=I prefer not to answer=-1=A...</td>\n",
       "      <td>[-8, I don't know, -7, I prefer not to answer,...</td>\n",
       "      <td>{'-8': 'I don't know', '-7': 'I prefer not to ...</td>\n",
       "    </tr>\n",
       "    <tr>\n",
       "      <th>2</th>\n",
       "      <td>HBPPOPDN</td>\n",
       "      <td>C</td>\n",
       "      <td>-9=Not ascertained=50=0-99=300=100-499=750=500...</td>\n",
       "      <td>[-9, Not ascertained, 50, 0-99, 300, 100-499, ...</td>\n",
       "      <td>{'-9': 'Not ascertained', '50': '0-99', '300':...</td>\n",
       "    </tr>\n",
       "    <tr>\n",
       "      <th>3</th>\n",
       "      <td>HBRESDN</td>\n",
       "      <td>C</td>\n",
       "      <td>-9=Not ascertained=50=0-99=300=100-499=750=500...</td>\n",
       "      <td>[-9, Not ascertained, 50, 0-99, 300, 100-499, ...</td>\n",
       "      <td>{'-9': 'Not ascertained', '50': '0-99', '300':...</td>\n",
       "    </tr>\n",
       "    <tr>\n",
       "      <th>4</th>\n",
       "      <td>HHFAMINC</td>\n",
       "      <td>C</td>\n",
       "      <td>-9=Not ascertained=-8=I don't know=-7=I prefer...</td>\n",
       "      <td>[-9, Not ascertained, -8, I don't know, -7, I ...</td>\n",
       "      <td>{'-9': 'Not ascertained', '-8': 'I don't know'...</td>\n",
       "    </tr>\n",
       "    <tr>\n",
       "      <th>5</th>\n",
       "      <td>PLACE</td>\n",
       "      <td>C</td>\n",
       "      <td>-9=Not ascertained=-8=I don't know=-7=I prefer...</td>\n",
       "      <td>[-9, Not ascertained, -8, I don't know, -7, I ...</td>\n",
       "      <td>{'-9': 'Not ascertained', '-8': 'I don't know'...</td>\n",
       "    </tr>\n",
       "    <tr>\n",
       "      <th>6</th>\n",
       "      <td>PRICE</td>\n",
       "      <td>C</td>\n",
       "      <td>-9=Not ascertained=-8=I don't know=-7=I prefer...</td>\n",
       "      <td>[-9, Not ascertained, -8, I don't know, -7, I ...</td>\n",
       "      <td>{'-9': 'Not ascertained', '-8': 'I don't know'...</td>\n",
       "    </tr>\n",
       "    <tr>\n",
       "      <th>7</th>\n",
       "      <td>VEHOWNMO</td>\n",
       "      <td>C</td>\n",
       "      <td>-9=Not ascertained=-8=I don't know=-7=I prefer...</td>\n",
       "      <td>[-9, Not ascertained, -8, I don't know, -7, I ...</td>\n",
       "      <td>{'-9': 'Not ascertained', '-8': 'I don't know'...</td>\n",
       "    </tr>\n",
       "  </tbody>\n",
       "</table>\n",
       "</div>"
      ],
      "text/plain": [
       "       Name Type                                       Code / Range  \\\n",
       "0       CAR    C  -8=I don't know=-7=I prefer not to answer=-1=A...   \n",
       "1      EDUC    C  -8=I don't know=-7=I prefer not to answer=-1=A...   \n",
       "2  HBPPOPDN    C  -9=Not ascertained=50=0-99=300=100-499=750=500...   \n",
       "3   HBRESDN    C  -9=Not ascertained=50=0-99=300=100-499=750=500...   \n",
       "4  HHFAMINC    C  -9=Not ascertained=-8=I don't know=-7=I prefer...   \n",
       "5     PLACE    C  -9=Not ascertained=-8=I don't know=-7=I prefer...   \n",
       "6     PRICE    C  -9=Not ascertained=-8=I don't know=-7=I prefer...   \n",
       "7  VEHOWNMO    C  -9=Not ascertained=-8=I don't know=-7=I prefer...   \n",
       "\n",
       "                                                 New  \\\n",
       "0  [-8, I don't know, -7, I prefer not to answer,...   \n",
       "1  [-8, I don't know, -7, I prefer not to answer,...   \n",
       "2  [-9, Not ascertained, 50, 0-99, 300, 100-499, ...   \n",
       "3  [-9, Not ascertained, 50, 0-99, 300, 100-499, ...   \n",
       "4  [-9, Not ascertained, -8, I don't know, -7, I ...   \n",
       "5  [-9, Not ascertained, -8, I don't know, -7, I ...   \n",
       "6  [-9, Not ascertained, -8, I don't know, -7, I ...   \n",
       "7  [-9, Not ascertained, -8, I don't know, -7, I ...   \n",
       "\n",
       "                                               New_m  \n",
       "0  {'-8': 'I don't know', '-7': 'I prefer not to ...  \n",
       "1  {'-8': 'I don't know', '-7': 'I prefer not to ...  \n",
       "2  {'-9': 'Not ascertained', '50': '0-99', '300':...  \n",
       "3  {'-9': 'Not ascertained', '50': '0-99', '300':...  \n",
       "4  {'-9': 'Not ascertained', '-8': 'I don't know'...  \n",
       "5  {'-9': 'Not ascertained', '-8': 'I don't know'...  \n",
       "6  {'-9': 'Not ascertained', '-8': 'I don't know'...  \n",
       "7  {'-9': 'Not ascertained', '-8': 'I don't know'...  "
      ]
     },
     "execution_count": 183,
     "metadata": {},
     "output_type": "execute_result"
    }
   ],
   "source": [
    "codebook_reshape_c"
   ]
  },
  {
   "cell_type": "code",
   "execution_count": 184,
   "metadata": {},
   "outputs": [],
   "source": [
    "#create a dict variables to loop\n",
    "val_label = dict(zip(codebook_reshape_c.Name,codebook_reshape_c.New_m))"
   ]
  },
  {
   "cell_type": "code",
   "execution_count": 185,
   "metadata": {},
   "outputs": [
    {
     "data": {
      "text/plain": [
       "{'CAR': {'-8': \"I don't know\",\n",
       "  '-7': 'I prefer not to answer',\n",
       "  '-1': 'Appropriate skip',\n",
       "  '01': 'Daily',\n",
       "  '02': 'A few times a week',\n",
       "  '03': 'A few times a month',\n",
       "  '04': 'A few times a year',\n",
       "  '05': 'Never'},\n",
       " 'EDUC': {'-8': \"I don't know\",\n",
       "  '-7': 'I prefer not to answer',\n",
       "  '-1': 'Appropriate skip',\n",
       "  '01': 'Less than a high school graduate',\n",
       "  '02': 'High school graduate or GED',\n",
       "  '03': 'Some college or associates degree',\n",
       "  '04': \"Bachelor's degree\",\n",
       "  '05': 'Graduate degree or professional degree'},\n",
       " 'HBPPOPDN': {'-9': 'Not ascertained',\n",
       "  '50': '0-99',\n",
       "  '300': '100-499',\n",
       "  '750': '500-999',\n",
       "  '1500': '1,000-1,999',\n",
       "  '3000': '2,000-3,999',\n",
       "  '7000': '4,000-9,999',\n",
       "  '17000': '10,000-24,999',\n",
       "  '30000': '25,000-999,999'},\n",
       " 'HBRESDN': {'-9': 'Not ascertained',\n",
       "  '50': '0-99',\n",
       "  '300': '100-499',\n",
       "  '750': '500-999',\n",
       "  '1500': '1,000-1,999',\n",
       "  '3000': '2,000-3,999',\n",
       "  '7000': '4,000-9,999',\n",
       "  '17000': '10,000-24,999',\n",
       "  '30000': '25,000-999,999'},\n",
       " 'HHFAMINC': {'-9': 'Not ascertained',\n",
       "  '-8': \"I don't know\",\n",
       "  '-7': 'I prefer not to answer',\n",
       "  '01': 'Less than $10,000',\n",
       "  '02': '$10,000 to $14,999',\n",
       "  '03': '$15,000 to $24,999',\n",
       "  '04': '$25,000 to $34,999',\n",
       "  '05': '$35,000 to $49,999',\n",
       "  '06': '$50,000 to $74,999',\n",
       "  '07': '$75,000 to $99,999',\n",
       "  '08': '$100,000 to $124,999',\n",
       "  '09': '$125,000 to $149,999',\n",
       "  '10': '$150,000 to $199,999',\n",
       "  '11': '$200,000 or more'},\n",
       " 'PLACE': {'-9': 'Not ascertained',\n",
       "  '-8': \"I don't know\",\n",
       "  '-7': 'I prefer not to answer',\n",
       "  '01': 'Strongly agree',\n",
       "  '02': 'Agree',\n",
       "  '03': 'Neither Agree or Disagree',\n",
       "  '04': 'Disagree',\n",
       "  '05': 'Strongly disagree'},\n",
       " 'PRICE': {'-9': 'Not ascertained',\n",
       "  '-8': \"I don't know\",\n",
       "  '-7': 'I prefer not to answer',\n",
       "  '01': 'Strongly agree',\n",
       "  '02': 'Agree',\n",
       "  '03': 'Neither Agree or Disagree',\n",
       "  '04': 'Disagree',\n",
       "  '05': 'Strongly disagree'},\n",
       " 'VEHOWNMO': {'-9': 'Not ascertained',\n",
       "  '-8': \"I don't know\",\n",
       "  '-7': 'I prefer not to answer',\n",
       "  '-1': 'Appropriate skip',\n",
       "  '0': '01',\n",
       "  '02': '03',\n",
       "  '04': '05',\n",
       "  '06': '07',\n",
       "  '08': '09',\n",
       "  '10': '11'}}"
      ]
     },
     "execution_count": 185,
     "metadata": {},
     "output_type": "execute_result"
    }
   ],
   "source": [
    "val_label"
   ]
  },
  {
   "cell_type": "code",
   "execution_count": 186,
   "metadata": {},
   "outputs": [],
   "source": [
    "for var in name:\n",
    "    X_train_labeled_kmeans_mini_done[var] = X_train_labeled_kmeans_mini_done[var].apply(lambda x: '{0:0>2}'.format(x))"
   ]
  },
  {
   "cell_type": "code",
   "execution_count": 187,
   "metadata": {},
   "outputs": [],
   "source": [
    "#recode these variables\n",
    "pop = ['HBPPOPDN','HBRESDN']\n",
    "\n",
    "for var in pop:\n",
    "    X_train_labeled_kmeans_mini_done[var].replace({'01':'50','02':'300','03':'750','04':'1500','05':'3000','06':'7000','07':'17000','08':'30000'}, inplace=True)"
   ]
  },
  {
   "cell_type": "code",
   "execution_count": 188,
   "metadata": {},
   "outputs": [],
   "source": [
    "#add labels and make variables string\n",
    "for key, val in val_label.items():\n",
    "    X_train_labeled_kmeans_mini_done[key + \"_label\"] = X_train_labeled_kmeans_mini_done[key].replace(val)"
   ]
  },
  {
   "cell_type": "markdown",
   "metadata": {},
   "source": [
    "Let's take a look at some interesting variables"
   ]
  },
  {
   "cell_type": "markdown",
   "metadata": {},
   "source": [
    "These will be easier to see in a dashboard"
   ]
  },
  {
   "cell_type": "code",
   "execution_count": 189,
   "metadata": {},
   "outputs": [],
   "source": [
    "X_train_labeled_kmeans_mini_done.to_csv(\"X_train_labeled_kmeans_mini_done.csv\")"
   ]
  },
  {
   "cell_type": "code",
   "execution_count": 190,
   "metadata": {},
   "outputs": [],
   "source": [
    "name = ['VEHOWNMO_label',\n",
    " 'HHFAMINC_label',\n",
    " 'HBRESDN_label',\n",
    " 'HBPPOPDN_label',\n",
    " 'EDUC_label',\n",
    " 'PRICE_label',\n",
    " 'CAR_label',\n",
    " 'PLACE_label']"
   ]
  },
  {
   "cell_type": "code",
   "execution_count": 191,
   "metadata": {},
   "outputs": [
    {
     "name": "stdout",
     "output_type": "stream",
     "text": [
      "Requirement already satisfied: dash in c:\\users\\kk67\\anaconda3\\lib\\site-packages (2.1.0)\n",
      "Requirement already satisfied: flask-compress in c:\\users\\kk67\\anaconda3\\lib\\site-packages (from dash) (1.10.1)\n",
      "Requirement already satisfied: dash-html-components==2.0.0 in c:\\users\\kk67\\anaconda3\\lib\\site-packages (from dash) (2.0.0)\n",
      "Requirement already satisfied: Flask>=1.0.4 in c:\\users\\kk67\\anaconda3\\lib\\site-packages (from dash) (1.1.2)\n",
      "Requirement already satisfied: plotly>=5.0.0 in c:\\users\\kk67\\anaconda3\\lib\\site-packages (from dash) (5.4.0)\n",
      "Requirement already satisfied: dash-core-components==2.0.0 in c:\\users\\kk67\\anaconda3\\lib\\site-packages (from dash) (2.0.0)\n",
      "Requirement already satisfied: dash-table==5.0.0 in c:\\users\\kk67\\anaconda3\\lib\\site-packages (from dash) (5.0.0)\n",
      "Requirement already satisfied: Werkzeug>=0.15 in c:\\users\\kk67\\anaconda3\\lib\\site-packages (from Flask>=1.0.4->dash) (2.0.2)\n",
      "Requirement already satisfied: click>=5.1 in c:\\users\\kk67\\anaconda3\\lib\\site-packages (from Flask>=1.0.4->dash) (8.0.3)\n",
      "Requirement already satisfied: itsdangerous>=0.24 in c:\\users\\kk67\\anaconda3\\lib\\site-packages (from Flask>=1.0.4->dash) (2.0.1)\n",
      "Requirement already satisfied: Jinja2>=2.10.1 in c:\\users\\kk67\\anaconda3\\lib\\site-packages (from Flask>=1.0.4->dash) (2.11.3)\n",
      "Requirement already satisfied: colorama in c:\\users\\kk67\\anaconda3\\lib\\site-packages (from click>=5.1->Flask>=1.0.4->dash) (0.4.4)\n",
      "Requirement already satisfied: MarkupSafe>=0.23 in c:\\users\\kk67\\anaconda3\\lib\\site-packages (from Jinja2>=2.10.1->Flask>=1.0.4->dash) (1.1.1)\n",
      "Requirement already satisfied: tenacity>=6.2.0 in c:\\users\\kk67\\anaconda3\\lib\\site-packages (from plotly>=5.0.0->dash) (8.0.1)\n",
      "Requirement already satisfied: six in c:\\users\\kk67\\anaconda3\\lib\\site-packages (from plotly>=5.0.0->dash) (1.16.0)\n",
      "Requirement already satisfied: brotli in c:\\users\\kk67\\anaconda3\\lib\\site-packages (from flask-compress->dash) (1.0.9)\n",
      "Note: you may need to restart the kernel to use updated packages.\n"
     ]
    }
   ],
   "source": [
    "pip install dash"
   ]
  },
  {
   "cell_type": "code",
   "execution_count": null,
   "metadata": {},
   "outputs": [
    {
     "name": "stderr",
     "output_type": "stream",
     "text": [
      "C:\\Users\\kk67\\AppData\\Local\\Temp/ipykernel_15224/3864121218.py:2: UserWarning: \n",
      "The dash_core_components package is deprecated. Please replace\n",
      "`import dash_core_components as dcc` with `from dash import dcc`\n",
      "  import dash_core_components as dcc\n",
      "C:\\Users\\kk67\\AppData\\Local\\Temp/ipykernel_15224/3864121218.py:3: UserWarning: \n",
      "The dash_html_components package is deprecated. Please replace\n",
      "`import dash_html_components as html` with `from dash import html`\n",
      "  import dash_html_components as html\n"
     ]
    },
    {
     "name": "stdout",
     "output_type": "stream",
     "text": [
      "Dash is running on http://127.0.0.1:8050/\n",
      "\n",
      " * Serving Flask app \"__main__\" (lazy loading)\n",
      " * Environment: production\n",
      "\u001b[31m   WARNING: This is a development server. Do not use it in a production deployment.\u001b[0m\n",
      "\u001b[2m   Use a production WSGI server instead.\u001b[0m\n",
      " * Debug mode: on\n"
     ]
    }
   ],
   "source": [
    "import dash\n",
    "import dash_core_components as dcc\n",
    "import dash_html_components as html\n",
    "from dash.dependencies import Output, Input\n",
    "import plotly.express as px\n",
    "\n",
    "app = dash.Dash(__name__)\n",
    "app.title = \"Results from Clustering\"\n",
    "\n",
    "app.layout = html.Div(\n",
    "    children=[\n",
    "        html.Div(\n",
    "            children=[\n",
    "                html.P(children=\"\", className=\"header-emoji\"),\n",
    "                html.H1(\n",
    "                    children=\"Results from Clustering\", className=\"header-title\"\n",
    "                ),\n",
    "                html.P(\n",
    "                    children=\"The plots here show the results based on clustering for the National Household Travel Survey data\",\n",
    "                    className=\"header-description\",\n",
    "                ),\n",
    "            ],\n",
    "            className=\"header\",\n",
    "        ),\n",
    "        html.Div(\n",
    "        \n",
    "            children=[\n",
    "                html.Div(\n",
    "                    children=[\n",
    "                        html.Div(children=\"cluster\", className=\"menu-title\"),\n",
    "                        dcc.Dropdown(\n",
    "                            id=\"cluster-filter\",\n",
    "                            options=[\n",
    "                                {\"label\": cluster, \"value\": cluster}\n",
    "                                for cluster in X_train_labeled_kmeans_mini_done.type.unique()\n",
    "                            ],\n",
    "                            value=\"Kmeans\",\n",
    "                            clearable=False,\n",
    "                            searchable=False,\n",
    "                            className=\"dropdown\",\n",
    "                        ),\n",
    "                    ],\n",
    "                ),    \n",
    "                html.Div(\n",
    "                    children=[\n",
    "                        html.Div(children=\"Variable\", className=\"menu-title\"),\n",
    "                        dcc.Dropdown(\n",
    "                            id=\"variable-filter\",\n",
    "                            options=[{\"label\": van, \"value\": van}\n",
    "                            for van in name\n",
    "                            ],\n",
    "                            value=\"EDUC_label\",\n",
    "                            clearable=False,\n",
    "                            className=\"dropdown\",\n",
    "                        ),\n",
    "                    ]\n",
    "                ),\n",
    "                html.Div(\n",
    "                    children=[\n",
    "                        html.Div(children=\"y_train\", className=\"menu-title\"),\n",
    "                        dcc.Dropdown(\n",
    "                            id=\"ytrain-filter\",\n",
    "                            options=[\n",
    "                                {\"label\": avocado_type, \"value\": avocado_type}\n",
    "                                for avocado_type in X_train_labeled_kmeans_mini_done.predict.unique()\n",
    "                            ],\n",
    "                            value=\"1\",\n",
    "                            clearable=False,\n",
    "                            searchable=False,\n",
    "                            className=\"dropdown\",\n",
    "                        ),\n",
    "                    ],\n",
    "                ),\n",
    "                \n",
    "\n",
    "            ],\n",
    "            className=\"menu\",\n",
    "        ),\n",
    "        html.Div(\n",
    "            children=[\n",
    "                html.Div(\n",
    "                    children=dcc.Graph(\n",
    "                        id=\"price-chart\",\n",
    "                        config={\"displayModeBar\": False},\n",
    "                    ),\n",
    "                    className=\"card\",\n",
    "                ),\n",
    "\n",
    "            ],\n",
    "            className=\"wrapper\",\n",
    "        ),\n",
    "    ]\n",
    ")\n",
    "\n",
    "\n",
    "@app.callback(\n",
    "    Output(\"price-chart\", \"figure\"),\n",
    "    [\n",
    "        Input(\"cluster-filter\", \"value\"),\n",
    "        Input(\"variable-filter\", \"value\"),\n",
    "        Input(\"ytrain-filter\", \"value\"),\n",
    "    ],\n",
    ")\n",
    "def update_charts(cluster, van, avocado_type):\n",
    "    \n",
    "    print(van)\n",
    "    \n",
    "    print(avocado_type)\n",
    "    \n",
    "    dat1 = X_train_labeled_kmeans_mini_done[X_train_labeled_kmeans_mini_done['type']==cluster]\n",
    "    \n",
    "    dat2 = dat1.groupby([van, \"y_train\"])[\"predict\"].value_counts().reset_index(name='count')\n",
    "    mask = ((dat2.y_train == avocado_type)\n",
    "    )\n",
    "    filtered_data = dat2.loc[mask, [van,\"predict\",\"count\"]]\n",
    "    \n",
    "    fig = px.bar(filtered_data, x=van, y=\"count\", \n",
    "                 color=\"predict\", barmode=\"group\")\n",
    "    return fig\n",
    "\n",
    "\n",
    "\n",
    "if __name__ == \"__main__\":\n",
    "    app.run_server(debug=True,use_reloader=False)"
   ]
  },
  {
   "cell_type": "code",
   "execution_count": null,
   "metadata": {},
   "outputs": [],
   "source": []
  }
 ],
 "metadata": {
  "kernelspec": {
   "display_name": "Python 3 (ipykernel)",
   "language": "python",
   "name": "python3"
  },
  "language_info": {
   "codemirror_mode": {
    "name": "ipython",
    "version": 3
   },
   "file_extension": ".py",
   "mimetype": "text/x-python",
   "name": "python",
   "nbconvert_exporter": "python",
   "pygments_lexer": "ipython3",
   "version": "3.9.7"
  }
 },
 "nbformat": 4,
 "nbformat_minor": 4
}
