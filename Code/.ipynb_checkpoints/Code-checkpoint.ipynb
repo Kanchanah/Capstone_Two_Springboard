{
 "cells": [
  {
   "cell_type": "markdown",
   "metadata": {},
   "source": [
    "# Capstone Two - Data Wrangling"
   ]
  },
  {
   "cell_type": "markdown",
   "metadata": {},
   "source": [
    "The dataset used was the 2017 National Household Travel Survey. This notebook will focus on the cleaning the data."
   ]
  },
  {
   "cell_type": "markdown",
   "metadata": {},
   "source": [
    "## Import packages"
   ]
  },
  {
   "cell_type": "code",
   "execution_count": 1,
   "metadata": {},
   "outputs": [],
   "source": [
    "#import packages\n",
    "import pandas as pd\n",
    "import os\n",
    "import tabula\n",
    "import seaborn as sns\n",
    "import matplotlib.pyplot as plt\n",
    "import numpy as np"
   ]
  },
  {
   "cell_type": "markdown",
   "metadata": {},
   "source": [
    "## Set directories"
   ]
  },
  {
   "cell_type": "code",
   "execution_count": 2,
   "metadata": {},
   "outputs": [],
   "source": [
    "os.chdir(\"../..\")\n",
    "cw = os.getcwd()"
   ]
  },
  {
   "cell_type": "markdown",
   "metadata": {},
   "source": [
    "## Read datasets"
   ]
  },
  {
   "cell_type": "markdown",
   "metadata": {},
   "source": [
    "The National Household Travel Survey has 4 datasets. \n",
    "\n",
    "1. The Person dataset \n",
    "2. The Household dataset\n",
    "3. The Vehicle dataset\n",
    "4. The Travel dataset"
   ]
  },
  {
   "cell_type": "code",
   "execution_count": 3,
   "metadata": {},
   "outputs": [
    {
     "name": "stderr",
     "output_type": "stream",
     "text": [
      "/Users/Avinash/opt/anaconda3/lib/python3.7/site-packages/pandas/io/sas/sas7bdat.py:809: PerformanceWarning: DataFrame is highly fragmented.  This is usually the result of calling `frame.insert` many times, which has poor performance.  Consider using pd.concat instead.  To get a de-fragmented frame, use `newframe = frame.copy()`\n",
      "  rslt[name] = self._string_chunk[js, :]\n",
      "/Users/Avinash/opt/anaconda3/lib/python3.7/site-packages/pandas/io/sas/sas7bdat.py:800: PerformanceWarning: DataFrame is highly fragmented.  This is usually the result of calling `frame.insert` many times, which has poor performance.  Consider using pd.concat instead.  To get a de-fragmented frame, use `newframe = frame.copy()`\n",
      "  rslt[name] = self._byte_chunk[jb, :].view(dtype=self.byte_order + \"d\")\n"
     ]
    }
   ],
   "source": [
    "#import person data\n",
    "data_person=pd.read_sas(os.path.join(cw,'Capstone_Two_Other_Material/Data/sas/perpub.sas7bdat'), format = 'sas7bdat', encoding=\"ISO-8859-1\")"
   ]
  },
  {
   "cell_type": "code",
   "execution_count": 4,
   "metadata": {},
   "outputs": [
    {
     "data": {
      "text/html": [
       "<div>\n",
       "<style scoped>\n",
       "    .dataframe tbody tr th:only-of-type {\n",
       "        vertical-align: middle;\n",
       "    }\n",
       "\n",
       "    .dataframe tbody tr th {\n",
       "        vertical-align: top;\n",
       "    }\n",
       "\n",
       "    .dataframe thead th {\n",
       "        text-align: right;\n",
       "    }\n",
       "</style>\n",
       "<table border=\"1\" class=\"dataframe\">\n",
       "  <thead>\n",
       "    <tr style=\"text-align: right;\">\n",
       "      <th></th>\n",
       "      <th>HOUSEID</th>\n",
       "      <th>PERSONID</th>\n",
       "      <th>R_AGE</th>\n",
       "      <th>EDUC</th>\n",
       "      <th>R_HISP</th>\n",
       "      <th>R_RELAT</th>\n",
       "      <th>R_SEX</th>\n",
       "      <th>R_RACE</th>\n",
       "      <th>PRMACT</th>\n",
       "      <th>PAYPROF</th>\n",
       "      <th>...</th>\n",
       "      <th>SMPLSRCE</th>\n",
       "      <th>WTPERFIN</th>\n",
       "      <th>HBHUR</th>\n",
       "      <th>HTHTNRNT</th>\n",
       "      <th>HTPPOPDN</th>\n",
       "      <th>HTRESDN</th>\n",
       "      <th>HTEEMPDN</th>\n",
       "      <th>HBHTNRNT</th>\n",
       "      <th>HBPPOPDN</th>\n",
       "      <th>HBRESDN</th>\n",
       "    </tr>\n",
       "  </thead>\n",
       "  <tbody>\n",
       "    <tr>\n",
       "      <th>0</th>\n",
       "      <td>30000007</td>\n",
       "      <td>01</td>\n",
       "      <td>67.0</td>\n",
       "      <td>03</td>\n",
       "      <td>02</td>\n",
       "      <td>01</td>\n",
       "      <td>02</td>\n",
       "      <td>02</td>\n",
       "      <td>06</td>\n",
       "      <td>02</td>\n",
       "      <td>...</td>\n",
       "      <td>02</td>\n",
       "      <td>206.690153</td>\n",
       "      <td>T</td>\n",
       "      <td>50</td>\n",
       "      <td>1500</td>\n",
       "      <td>750</td>\n",
       "      <td>750</td>\n",
       "      <td>20</td>\n",
       "      <td>750</td>\n",
       "      <td>300</td>\n",
       "    </tr>\n",
       "    <tr>\n",
       "      <th>1</th>\n",
       "      <td>30000007</td>\n",
       "      <td>02</td>\n",
       "      <td>66.0</td>\n",
       "      <td>03</td>\n",
       "      <td>02</td>\n",
       "      <td>02</td>\n",
       "      <td>01</td>\n",
       "      <td>02</td>\n",
       "      <td>01</td>\n",
       "      <td>-1</td>\n",
       "      <td>...</td>\n",
       "      <td>02</td>\n",
       "      <td>197.075742</td>\n",
       "      <td>T</td>\n",
       "      <td>50</td>\n",
       "      <td>1500</td>\n",
       "      <td>750</td>\n",
       "      <td>750</td>\n",
       "      <td>20</td>\n",
       "      <td>750</td>\n",
       "      <td>300</td>\n",
       "    </tr>\n",
       "    <tr>\n",
       "      <th>2</th>\n",
       "      <td>30000007</td>\n",
       "      <td>03</td>\n",
       "      <td>28.0</td>\n",
       "      <td>02</td>\n",
       "      <td>02</td>\n",
       "      <td>03</td>\n",
       "      <td>02</td>\n",
       "      <td>02</td>\n",
       "      <td>05</td>\n",
       "      <td>02</td>\n",
       "      <td>...</td>\n",
       "      <td>02</td>\n",
       "      <td>219.514210</td>\n",
       "      <td>T</td>\n",
       "      <td>50</td>\n",
       "      <td>1500</td>\n",
       "      <td>750</td>\n",
       "      <td>750</td>\n",
       "      <td>20</td>\n",
       "      <td>750</td>\n",
       "      <td>300</td>\n",
       "    </tr>\n",
       "    <tr>\n",
       "      <th>3</th>\n",
       "      <td>30000008</td>\n",
       "      <td>01</td>\n",
       "      <td>55.0</td>\n",
       "      <td>05</td>\n",
       "      <td>02</td>\n",
       "      <td>01</td>\n",
       "      <td>01</td>\n",
       "      <td>01</td>\n",
       "      <td>01</td>\n",
       "      <td>-1</td>\n",
       "      <td>...</td>\n",
       "      <td>02</td>\n",
       "      <td>63.185911</td>\n",
       "      <td>R</td>\n",
       "      <td>05</td>\n",
       "      <td>300</td>\n",
       "      <td>300</td>\n",
       "      <td>150</td>\n",
       "      <td>05</td>\n",
       "      <td>300</td>\n",
       "      <td>300</td>\n",
       "    </tr>\n",
       "    <tr>\n",
       "      <th>4</th>\n",
       "      <td>30000008</td>\n",
       "      <td>02</td>\n",
       "      <td>49.0</td>\n",
       "      <td>04</td>\n",
       "      <td>02</td>\n",
       "      <td>02</td>\n",
       "      <td>02</td>\n",
       "      <td>01</td>\n",
       "      <td>01</td>\n",
       "      <td>-1</td>\n",
       "      <td>...</td>\n",
       "      <td>02</td>\n",
       "      <td>58.665911</td>\n",
       "      <td>R</td>\n",
       "      <td>05</td>\n",
       "      <td>300</td>\n",
       "      <td>300</td>\n",
       "      <td>150</td>\n",
       "      <td>05</td>\n",
       "      <td>300</td>\n",
       "      <td>300</td>\n",
       "    </tr>\n",
       "  </tbody>\n",
       "</table>\n",
       "<p>5 rows × 121 columns</p>\n",
       "</div>"
      ],
      "text/plain": [
       "    HOUSEID PERSONID  R_AGE EDUC R_HISP R_RELAT R_SEX R_RACE PRMACT PAYPROF  \\\n",
       "0  30000007       01   67.0   03     02      01    02     02     06      02   \n",
       "1  30000007       02   66.0   03     02      02    01     02     01      -1   \n",
       "2  30000007       03   28.0   02     02      03    02     02     05      02   \n",
       "3  30000008       01   55.0   05     02      01    01     01     01      -1   \n",
       "4  30000008       02   49.0   04     02      02    02     01     01      -1   \n",
       "\n",
       "   ... SMPLSRCE    WTPERFIN HBHUR HTHTNRNT HTPPOPDN HTRESDN HTEEMPDN  \\\n",
       "0  ...       02  206.690153     T       50     1500     750      750   \n",
       "1  ...       02  197.075742     T       50     1500     750      750   \n",
       "2  ...       02  219.514210     T       50     1500     750      750   \n",
       "3  ...       02   63.185911     R       05      300     300      150   \n",
       "4  ...       02   58.665911     R       05      300     300      150   \n",
       "\n",
       "   HBHTNRNT  HBPPOPDN  HBRESDN  \n",
       "0        20       750      300  \n",
       "1        20       750      300  \n",
       "2        20       750      300  \n",
       "3        05       300      300  \n",
       "4        05       300      300  \n",
       "\n",
       "[5 rows x 121 columns]"
      ]
     },
     "execution_count": 4,
     "metadata": {},
     "output_type": "execute_result"
    }
   ],
   "source": [
    "#Look at first few rows\n",
    "data_person.head()"
   ]
  },
  {
   "cell_type": "code",
   "execution_count": 5,
   "metadata": {},
   "outputs": [
    {
     "data": {
      "text/plain": [
       "(264234, 121)"
      ]
     },
     "execution_count": 5,
     "metadata": {},
     "output_type": "execute_result"
    }
   ],
   "source": [
    "#Looks at dimension\n",
    "data_person.shape"
   ]
  },
  {
   "cell_type": "code",
   "execution_count": 6,
   "metadata": {},
   "outputs": [
    {
     "name": "stdout",
     "output_type": "stream",
     "text": [
      "<class 'pandas.core.frame.DataFrame'>\n",
      "RangeIndex: 264234 entries, 0 to 264233\n",
      "Columns: 121 entries, HOUSEID to HBRESDN\n",
      "dtypes: float64(31), object(90)\n",
      "memory usage: 243.9+ MB\n"
     ]
    }
   ],
   "source": [
    "#Look at data info\n",
    "data_person.info()"
   ]
  },
  {
   "cell_type": "code",
   "execution_count": 7,
   "metadata": {},
   "outputs": [
    {
     "name": "stdout",
     "output_type": "stream",
     "text": [
      "    HOUSEID PERSONID EDUC R_HISP R_RELAT R_SEX R_RACE PRMACT PAYPROF GT1JBLWK  \\\n",
      "0  30000007       01   03     02      01    02     02     06      02       -1   \n",
      "1  30000007       02   03     02      02    01     02     01      -1       02   \n",
      "2  30000007       03   02     02      03    02     02     05      02       -1   \n",
      "3  30000008       01   05     02      01    01     01     01      -1       02   \n",
      "4  30000008       02   04     02      02    02     01     01      -1       02   \n",
      "\n",
      "   ... HH_CBSA SMPLSRCE HBHUR HTHTNRNT HTPPOPDN HTRESDN HTEEMPDN HBHTNRNT  \\\n",
      "0  ...   XXXXX       02     T       50     1500     750      750       20   \n",
      "1  ...   XXXXX       02     T       50     1500     750      750       20   \n",
      "2  ...   XXXXX       02     T       50     1500     750      750       20   \n",
      "3  ...   33460       02     R       05      300     300      150       05   \n",
      "4  ...   33460       02     R       05      300     300      150       05   \n",
      "\n",
      "  HBPPOPDN HBRESDN  \n",
      "0      750     300  \n",
      "1      750     300  \n",
      "2      750     300  \n",
      "3      300     300  \n",
      "4      300     300  \n",
      "\n",
      "[5 rows x 90 columns]\n"
     ]
    }
   ],
   "source": [
    "#Select string variables\n",
    "data_person_obj = data_person.select_dtypes(['object'])\n",
    "print (data_person_obj.head())"
   ]
  },
  {
   "cell_type": "code",
   "execution_count": 8,
   "metadata": {},
   "outputs": [],
   "source": [
    "#Remove trailing or leading spaces\n",
    "data_person[data_person_obj.columns] = data_person_obj.apply(lambda x: x.str.strip())"
   ]
  },
  {
   "cell_type": "code",
   "execution_count": 9,
   "metadata": {},
   "outputs": [
    {
     "data": {
      "text/plain": [
       "(264234, 121)"
      ]
     },
     "execution_count": 9,
     "metadata": {},
     "output_type": "execute_result"
    }
   ],
   "source": [
    "#Look at dimension\n",
    "data_person.shape"
   ]
  },
  {
   "cell_type": "code",
   "execution_count": 10,
   "metadata": {},
   "outputs": [
    {
     "name": "stdout",
     "output_type": "stream",
     "text": [
      "<class 'pandas.core.frame.DataFrame'>\n",
      "RangeIndex: 264234 entries, 0 to 264233\n",
      "Columns: 121 entries, HOUSEID to HBRESDN\n",
      "dtypes: float64(31), object(90)\n",
      "memory usage: 243.9+ MB\n"
     ]
    }
   ],
   "source": [
    "#Look at data info\n",
    "data_person.info()"
   ]
  },
  {
   "cell_type": "code",
   "execution_count": 11,
   "metadata": {},
   "outputs": [],
   "source": [
    "#import household data\n",
    "data_hh=pd.read_sas(os.path.join(cw,'Capstone_Two_Other_Material/Data/sas/hhpub.sas7bdat'), format = 'sas7bdat', encoding=\"ISO-8859-1\")"
   ]
  },
  {
   "cell_type": "code",
   "execution_count": 12,
   "metadata": {},
   "outputs": [
    {
     "data": {
      "text/html": [
       "<div>\n",
       "<style scoped>\n",
       "    .dataframe tbody tr th:only-of-type {\n",
       "        vertical-align: middle;\n",
       "    }\n",
       "\n",
       "    .dataframe tbody tr th {\n",
       "        vertical-align: top;\n",
       "    }\n",
       "\n",
       "    .dataframe thead th {\n",
       "        text-align: right;\n",
       "    }\n",
       "</style>\n",
       "<table border=\"1\" class=\"dataframe\">\n",
       "  <thead>\n",
       "    <tr style=\"text-align: right;\">\n",
       "      <th></th>\n",
       "      <th>HOUSEID</th>\n",
       "      <th>TRAVDAY</th>\n",
       "      <th>SAMPSTRAT</th>\n",
       "      <th>HOMEOWN</th>\n",
       "      <th>HHSIZE</th>\n",
       "      <th>HHVEHCNT</th>\n",
       "      <th>HHFAMINC</th>\n",
       "      <th>PC</th>\n",
       "      <th>SPHONE</th>\n",
       "      <th>TAB</th>\n",
       "      <th>...</th>\n",
       "      <th>SMPLSRCE</th>\n",
       "      <th>WTHHFIN</th>\n",
       "      <th>HBHUR</th>\n",
       "      <th>HTHTNRNT</th>\n",
       "      <th>HTPPOPDN</th>\n",
       "      <th>HTRESDN</th>\n",
       "      <th>HTEEMPDN</th>\n",
       "      <th>HBHTNRNT</th>\n",
       "      <th>HBPPOPDN</th>\n",
       "      <th>HBRESDN</th>\n",
       "    </tr>\n",
       "  </thead>\n",
       "  <tbody>\n",
       "    <tr>\n",
       "      <th>0</th>\n",
       "      <td>30000007</td>\n",
       "      <td>02</td>\n",
       "      <td>03</td>\n",
       "      <td>01</td>\n",
       "      <td>3.0</td>\n",
       "      <td>5.0</td>\n",
       "      <td>07</td>\n",
       "      <td>02</td>\n",
       "      <td>01</td>\n",
       "      <td>02</td>\n",
       "      <td>...</td>\n",
       "      <td>02</td>\n",
       "      <td>187.314320</td>\n",
       "      <td>T</td>\n",
       "      <td>50</td>\n",
       "      <td>1500</td>\n",
       "      <td>750</td>\n",
       "      <td>750</td>\n",
       "      <td>20</td>\n",
       "      <td>750</td>\n",
       "      <td>300</td>\n",
       "    </tr>\n",
       "    <tr>\n",
       "      <th>1</th>\n",
       "      <td>30000008</td>\n",
       "      <td>05</td>\n",
       "      <td>02</td>\n",
       "      <td>01</td>\n",
       "      <td>2.0</td>\n",
       "      <td>4.0</td>\n",
       "      <td>08</td>\n",
       "      <td>01</td>\n",
       "      <td>01</td>\n",
       "      <td>02</td>\n",
       "      <td>...</td>\n",
       "      <td>02</td>\n",
       "      <td>69.513032</td>\n",
       "      <td>R</td>\n",
       "      <td>05</td>\n",
       "      <td>300</td>\n",
       "      <td>300</td>\n",
       "      <td>150</td>\n",
       "      <td>05</td>\n",
       "      <td>300</td>\n",
       "      <td>300</td>\n",
       "    </tr>\n",
       "    <tr>\n",
       "      <th>2</th>\n",
       "      <td>30000012</td>\n",
       "      <td>05</td>\n",
       "      <td>03</td>\n",
       "      <td>01</td>\n",
       "      <td>1.0</td>\n",
       "      <td>2.0</td>\n",
       "      <td>10</td>\n",
       "      <td>01</td>\n",
       "      <td>01</td>\n",
       "      <td>03</td>\n",
       "      <td>...</td>\n",
       "      <td>02</td>\n",
       "      <td>79.419586</td>\n",
       "      <td>C</td>\n",
       "      <td>80</td>\n",
       "      <td>17000</td>\n",
       "      <td>17000</td>\n",
       "      <td>5000</td>\n",
       "      <td>60</td>\n",
       "      <td>17000</td>\n",
       "      <td>7000</td>\n",
       "    </tr>\n",
       "    <tr>\n",
       "      <th>3</th>\n",
       "      <td>30000019</td>\n",
       "      <td>05</td>\n",
       "      <td>03</td>\n",
       "      <td>01</td>\n",
       "      <td>2.0</td>\n",
       "      <td>2.0</td>\n",
       "      <td>03</td>\n",
       "      <td>01</td>\n",
       "      <td>05</td>\n",
       "      <td>05</td>\n",
       "      <td>...</td>\n",
       "      <td>02</td>\n",
       "      <td>279.143588</td>\n",
       "      <td>S</td>\n",
       "      <td>40</td>\n",
       "      <td>300</td>\n",
       "      <td>300</td>\n",
       "      <td>150</td>\n",
       "      <td>50</td>\n",
       "      <td>750</td>\n",
       "      <td>300</td>\n",
       "    </tr>\n",
       "    <tr>\n",
       "      <th>4</th>\n",
       "      <td>30000029</td>\n",
       "      <td>03</td>\n",
       "      <td>03</td>\n",
       "      <td>01</td>\n",
       "      <td>2.0</td>\n",
       "      <td>2.0</td>\n",
       "      <td>05</td>\n",
       "      <td>02</td>\n",
       "      <td>05</td>\n",
       "      <td>01</td>\n",
       "      <td>...</td>\n",
       "      <td>02</td>\n",
       "      <td>103.240304</td>\n",
       "      <td>S</td>\n",
       "      <td>40</td>\n",
       "      <td>1500</td>\n",
       "      <td>750</td>\n",
       "      <td>750</td>\n",
       "      <td>40</td>\n",
       "      <td>1500</td>\n",
       "      <td>750</td>\n",
       "    </tr>\n",
       "  </tbody>\n",
       "</table>\n",
       "<p>5 rows × 58 columns</p>\n",
       "</div>"
      ],
      "text/plain": [
       "    HOUSEID TRAVDAY SAMPSTRAT HOMEOWN  HHSIZE  HHVEHCNT HHFAMINC  PC SPHONE  \\\n",
       "0  30000007      02        03      01     3.0       5.0       07  02     01   \n",
       "1  30000008      05        02      01     2.0       4.0       08  01     01   \n",
       "2  30000012      05        03      01     1.0       2.0       10  01     01   \n",
       "3  30000019      05        03      01     2.0       2.0       03  01     05   \n",
       "4  30000029      03        03      01     2.0       2.0       05  02     05   \n",
       "\n",
       "  TAB  ... SMPLSRCE     WTHHFIN HBHUR HTHTNRNT HTPPOPDN HTRESDN HTEEMPDN  \\\n",
       "0  02  ...       02  187.314320     T       50     1500     750      750   \n",
       "1  02  ...       02   69.513032     R       05      300     300      150   \n",
       "2  03  ...       02   79.419586     C       80    17000   17000     5000   \n",
       "3  05  ...       02  279.143588     S       40      300     300      150   \n",
       "4  01  ...       02  103.240304     S       40     1500     750      750   \n",
       "\n",
       "  HBHTNRNT HBPPOPDN HBRESDN  \n",
       "0       20      750     300  \n",
       "1       05      300     300  \n",
       "2       60    17000    7000  \n",
       "3       50      750     300  \n",
       "4       40     1500     750  \n",
       "\n",
       "[5 rows x 58 columns]"
      ]
     },
     "execution_count": 12,
     "metadata": {},
     "output_type": "execute_result"
    }
   ],
   "source": [
    "#Look at first few rows\n",
    "data_hh.head()"
   ]
  },
  {
   "cell_type": "code",
   "execution_count": 13,
   "metadata": {},
   "outputs": [
    {
     "data": {
      "text/plain": [
       "(129696, 58)"
      ]
     },
     "execution_count": 13,
     "metadata": {},
     "output_type": "execute_result"
    }
   ],
   "source": [
    "#Look at dimension\n",
    "data_hh.shape"
   ]
  },
  {
   "cell_type": "code",
   "execution_count": 14,
   "metadata": {},
   "outputs": [
    {
     "name": "stdout",
     "output_type": "stream",
     "text": [
      "<class 'pandas.core.frame.DataFrame'>\n",
      "RangeIndex: 129696 entries, 0 to 129695\n",
      "Data columns (total 58 columns):\n",
      " #   Column      Non-Null Count   Dtype  \n",
      "---  ------      --------------   -----  \n",
      " 0   HOUSEID     129696 non-null  object \n",
      " 1   TRAVDAY     129696 non-null  object \n",
      " 2   SAMPSTRAT   129696 non-null  object \n",
      " 3   HOMEOWN     129696 non-null  object \n",
      " 4   HHSIZE      129696 non-null  float64\n",
      " 5   HHVEHCNT    129696 non-null  float64\n",
      " 6   HHFAMINC    129696 non-null  object \n",
      " 7   PC          129696 non-null  object \n",
      " 8   SPHONE      129696 non-null  object \n",
      " 9   TAB         129696 non-null  object \n",
      " 10  WALK        129696 non-null  object \n",
      " 11  BIKE        129696 non-null  object \n",
      " 12  CAR         129696 non-null  object \n",
      " 13  TAXI        129696 non-null  object \n",
      " 14  BUS         129696 non-null  object \n",
      " 15  TRAIN       129696 non-null  object \n",
      " 16  PARA        129696 non-null  object \n",
      " 17  PRICE       129696 non-null  object \n",
      " 18  PLACE       129696 non-null  object \n",
      " 19  WALK2SAVE   129696 non-null  object \n",
      " 20  BIKE2SAVE   129696 non-null  object \n",
      " 21  PTRANS      129696 non-null  object \n",
      " 22  HHRELATD    129696 non-null  object \n",
      " 23  DRVRCNT     129696 non-null  float64\n",
      " 24  CNTTDHH     129696 non-null  float64\n",
      " 25  HHSTATE     129696 non-null  object \n",
      " 26  HHSTFIPS    129696 non-null  object \n",
      " 27  NUMADLT     129696 non-null  float64\n",
      " 28  YOUNGCHILD  129696 non-null  float64\n",
      " 29  WRKCOUNT    129696 non-null  float64\n",
      " 30  TDAYDATE    129696 non-null  object \n",
      " 31  HHRESP      129696 non-null  object \n",
      " 32  LIF_CYC     129696 non-null  object \n",
      " 33  MSACAT      129696 non-null  object \n",
      " 34  MSASIZE     129696 non-null  object \n",
      " 35  RAIL        129696 non-null  object \n",
      " 36  URBAN       129696 non-null  object \n",
      " 37  URBANSIZE   129696 non-null  object \n",
      " 38  URBRUR      129696 non-null  object \n",
      " 39  SCRESP      129696 non-null  object \n",
      " 40  CENSUS_D    129696 non-null  object \n",
      " 41  CENSUS_R    129696 non-null  object \n",
      " 42  CDIVMSAR    129696 non-null  object \n",
      " 43  HH_RACE     129696 non-null  object \n",
      " 44  HH_HISP     129696 non-null  object \n",
      " 45  HH_CBSA     129696 non-null  object \n",
      " 46  RESP_CNT    129696 non-null  float64\n",
      " 47  WEBUSE17    129696 non-null  object \n",
      " 48  SMPLSRCE    129696 non-null  object \n",
      " 49  WTHHFIN     129696 non-null  float64\n",
      " 50  HBHUR       129696 non-null  object \n",
      " 51  HTHTNRNT    129696 non-null  object \n",
      " 52  HTPPOPDN    129696 non-null  object \n",
      " 53  HTRESDN     129696 non-null  object \n",
      " 54  HTEEMPDN    129696 non-null  object \n",
      " 55  HBHTNRNT    129696 non-null  object \n",
      " 56  HBPPOPDN    129696 non-null  object \n",
      " 57  HBRESDN     129696 non-null  object \n",
      "dtypes: float64(9), object(49)\n",
      "memory usage: 57.4+ MB\n"
     ]
    }
   ],
   "source": [
    "#Look at data info\n",
    "data_hh.info()"
   ]
  },
  {
   "cell_type": "code",
   "execution_count": 15,
   "metadata": {},
   "outputs": [
    {
     "name": "stdout",
     "output_type": "stream",
     "text": [
      "    HOUSEID TRAVDAY SAMPSTRAT HOMEOWN HHFAMINC  PC SPHONE TAB WALK BIKE  ...  \\\n",
      "0  30000007      02        03      01       07  02     01  02   05   05  ...   \n",
      "1  30000008      05        02      01       08  01     01  02   04   04  ...   \n",
      "2  30000012      05        03      01       10  01     01  03   02   05  ...   \n",
      "3  30000019      05        03      01       03  01     05  05   02   05  ...   \n",
      "4  30000029      03        03      01       05  02     05  01   -9   -9  ...   \n",
      "\n",
      "  WEBUSE17 SMPLSRCE HBHUR HTHTNRNT HTPPOPDN HTRESDN HTEEMPDN HBHTNRNT  \\\n",
      "0       01       02     T       50     1500     750      750       20   \n",
      "1       01       02     R       05      300     300      150       05   \n",
      "2       01       02     C       80    17000   17000     5000       60   \n",
      "3       01       02     S       40      300     300      150       50   \n",
      "4       01       02     S       40     1500     750      750       40   \n",
      "\n",
      "  HBPPOPDN HBRESDN  \n",
      "0      750     300  \n",
      "1      300     300  \n",
      "2    17000    7000  \n",
      "3      750     300  \n",
      "4     1500     750  \n",
      "\n",
      "[5 rows x 49 columns]\n"
     ]
    }
   ],
   "source": [
    "#Select string variables\n",
    "data_hh_obj = data_hh.select_dtypes(['object'])\n",
    "print (data_hh_obj.head())"
   ]
  },
  {
   "cell_type": "code",
   "execution_count": 16,
   "metadata": {},
   "outputs": [],
   "source": [
    "#Remove trailing or leading spaces\n",
    "data_hh[data_hh_obj.columns] = data_hh_obj.apply(lambda x: x.str.strip())"
   ]
  },
  {
   "cell_type": "code",
   "execution_count": 17,
   "metadata": {},
   "outputs": [
    {
     "data": {
      "text/plain": [
       "(129696, 58)"
      ]
     },
     "execution_count": 17,
     "metadata": {},
     "output_type": "execute_result"
    }
   ],
   "source": [
    "#Look at dimension\n",
    "data_hh.shape"
   ]
  },
  {
   "cell_type": "code",
   "execution_count": 18,
   "metadata": {},
   "outputs": [
    {
     "name": "stdout",
     "output_type": "stream",
     "text": [
      "<class 'pandas.core.frame.DataFrame'>\n",
      "RangeIndex: 129696 entries, 0 to 129695\n",
      "Data columns (total 58 columns):\n",
      " #   Column      Non-Null Count   Dtype  \n",
      "---  ------      --------------   -----  \n",
      " 0   HOUSEID     129696 non-null  object \n",
      " 1   TRAVDAY     129696 non-null  object \n",
      " 2   SAMPSTRAT   129696 non-null  object \n",
      " 3   HOMEOWN     129696 non-null  object \n",
      " 4   HHSIZE      129696 non-null  float64\n",
      " 5   HHVEHCNT    129696 non-null  float64\n",
      " 6   HHFAMINC    129696 non-null  object \n",
      " 7   PC          129696 non-null  object \n",
      " 8   SPHONE      129696 non-null  object \n",
      " 9   TAB         129696 non-null  object \n",
      " 10  WALK        129696 non-null  object \n",
      " 11  BIKE        129696 non-null  object \n",
      " 12  CAR         129696 non-null  object \n",
      " 13  TAXI        129696 non-null  object \n",
      " 14  BUS         129696 non-null  object \n",
      " 15  TRAIN       129696 non-null  object \n",
      " 16  PARA        129696 non-null  object \n",
      " 17  PRICE       129696 non-null  object \n",
      " 18  PLACE       129696 non-null  object \n",
      " 19  WALK2SAVE   129696 non-null  object \n",
      " 20  BIKE2SAVE   129696 non-null  object \n",
      " 21  PTRANS      129696 non-null  object \n",
      " 22  HHRELATD    129696 non-null  object \n",
      " 23  DRVRCNT     129696 non-null  float64\n",
      " 24  CNTTDHH     129696 non-null  float64\n",
      " 25  HHSTATE     129696 non-null  object \n",
      " 26  HHSTFIPS    129696 non-null  object \n",
      " 27  NUMADLT     129696 non-null  float64\n",
      " 28  YOUNGCHILD  129696 non-null  float64\n",
      " 29  WRKCOUNT    129696 non-null  float64\n",
      " 30  TDAYDATE    129696 non-null  object \n",
      " 31  HHRESP      129696 non-null  object \n",
      " 32  LIF_CYC     129696 non-null  object \n",
      " 33  MSACAT      129696 non-null  object \n",
      " 34  MSASIZE     129696 non-null  object \n",
      " 35  RAIL        129696 non-null  object \n",
      " 36  URBAN       129696 non-null  object \n",
      " 37  URBANSIZE   129696 non-null  object \n",
      " 38  URBRUR      129696 non-null  object \n",
      " 39  SCRESP      129696 non-null  object \n",
      " 40  CENSUS_D    129696 non-null  object \n",
      " 41  CENSUS_R    129696 non-null  object \n",
      " 42  CDIVMSAR    129696 non-null  object \n",
      " 43  HH_RACE     129696 non-null  object \n",
      " 44  HH_HISP     129696 non-null  object \n",
      " 45  HH_CBSA     129696 non-null  object \n",
      " 46  RESP_CNT    129696 non-null  float64\n",
      " 47  WEBUSE17    129696 non-null  object \n",
      " 48  SMPLSRCE    129696 non-null  object \n",
      " 49  WTHHFIN     129696 non-null  float64\n",
      " 50  HBHUR       129696 non-null  object \n",
      " 51  HTHTNRNT    129696 non-null  object \n",
      " 52  HTPPOPDN    129696 non-null  object \n",
      " 53  HTRESDN     129696 non-null  object \n",
      " 54  HTEEMPDN    129696 non-null  object \n",
      " 55  HBHTNRNT    129696 non-null  object \n",
      " 56  HBPPOPDN    129696 non-null  object \n",
      " 57  HBRESDN     129696 non-null  object \n",
      "dtypes: float64(9), object(49)\n",
      "memory usage: 57.4+ MB\n"
     ]
    }
   ],
   "source": [
    "#Look at data info\n",
    "data_hh.info()"
   ]
  },
  {
   "cell_type": "code",
   "execution_count": 19,
   "metadata": {},
   "outputs": [
    {
     "name": "stderr",
     "output_type": "stream",
     "text": [
      "/Users/Avinash/opt/anaconda3/lib/python3.7/site-packages/pandas/io/sas/sas7bdat.py:809: PerformanceWarning: DataFrame is highly fragmented.  This is usually the result of calling `frame.insert` many times, which has poor performance.  Consider using pd.concat instead.  To get a de-fragmented frame, use `newframe = frame.copy()`\n",
      "  rslt[name] = self._string_chunk[js, :]\n"
     ]
    }
   ],
   "source": [
    "#import trip data\n",
    "data_trip=pd.read_sas(os.path.join(cw,'Capstone_Two_Other_Material/Data/sas/trippub.sas7bdat'), format = 'sas7bdat', encoding=\"ISO-8859-1\")"
   ]
  },
  {
   "cell_type": "code",
   "execution_count": 20,
   "metadata": {},
   "outputs": [
    {
     "data": {
      "text/html": [
       "<div>\n",
       "<style scoped>\n",
       "    .dataframe tbody tr th:only-of-type {\n",
       "        vertical-align: middle;\n",
       "    }\n",
       "\n",
       "    .dataframe tbody tr th {\n",
       "        vertical-align: top;\n",
       "    }\n",
       "\n",
       "    .dataframe thead th {\n",
       "        text-align: right;\n",
       "    }\n",
       "</style>\n",
       "<table border=\"1\" class=\"dataframe\">\n",
       "  <thead>\n",
       "    <tr style=\"text-align: right;\">\n",
       "      <th></th>\n",
       "      <th>HOUSEID</th>\n",
       "      <th>PERSONID</th>\n",
       "      <th>TDTRPNUM</th>\n",
       "      <th>STRTTIME</th>\n",
       "      <th>ENDTIME</th>\n",
       "      <th>TRVLCMIN</th>\n",
       "      <th>TRPMILES</th>\n",
       "      <th>TRPTRANS</th>\n",
       "      <th>TRPACCMP</th>\n",
       "      <th>TRPHHACC</th>\n",
       "      <th>...</th>\n",
       "      <th>OBHTNRNT</th>\n",
       "      <th>OBPPOPDN</th>\n",
       "      <th>OBRESDN</th>\n",
       "      <th>DTHTNRNT</th>\n",
       "      <th>DTPPOPDN</th>\n",
       "      <th>DTRESDN</th>\n",
       "      <th>DTEEMPDN</th>\n",
       "      <th>DBHTNRNT</th>\n",
       "      <th>DBPPOPDN</th>\n",
       "      <th>DBRESDN</th>\n",
       "    </tr>\n",
       "  </thead>\n",
       "  <tbody>\n",
       "    <tr>\n",
       "      <th>0</th>\n",
       "      <td>30000007</td>\n",
       "      <td>01</td>\n",
       "      <td>01</td>\n",
       "      <td>1000</td>\n",
       "      <td>1015</td>\n",
       "      <td>15.0</td>\n",
       "      <td>5.244</td>\n",
       "      <td>03</td>\n",
       "      <td>0.0</td>\n",
       "      <td>0.0</td>\n",
       "      <td>...</td>\n",
       "      <td>20</td>\n",
       "      <td>750</td>\n",
       "      <td>300</td>\n",
       "      <td>50</td>\n",
       "      <td>750</td>\n",
       "      <td>300</td>\n",
       "      <td>350</td>\n",
       "      <td>30</td>\n",
       "      <td>300</td>\n",
       "      <td>300</td>\n",
       "    </tr>\n",
       "    <tr>\n",
       "      <th>1</th>\n",
       "      <td>30000007</td>\n",
       "      <td>01</td>\n",
       "      <td>02</td>\n",
       "      <td>1510</td>\n",
       "      <td>1530</td>\n",
       "      <td>20.0</td>\n",
       "      <td>5.149</td>\n",
       "      <td>03</td>\n",
       "      <td>0.0</td>\n",
       "      <td>0.0</td>\n",
       "      <td>...</td>\n",
       "      <td>30</td>\n",
       "      <td>300</td>\n",
       "      <td>300</td>\n",
       "      <td>50</td>\n",
       "      <td>1500</td>\n",
       "      <td>750</td>\n",
       "      <td>750</td>\n",
       "      <td>20</td>\n",
       "      <td>750</td>\n",
       "      <td>300</td>\n",
       "    </tr>\n",
       "    <tr>\n",
       "      <th>2</th>\n",
       "      <td>30000007</td>\n",
       "      <td>02</td>\n",
       "      <td>01</td>\n",
       "      <td>0700</td>\n",
       "      <td>0900</td>\n",
       "      <td>120.0</td>\n",
       "      <td>84.004</td>\n",
       "      <td>06</td>\n",
       "      <td>0.0</td>\n",
       "      <td>0.0</td>\n",
       "      <td>...</td>\n",
       "      <td>40</td>\n",
       "      <td>1500</td>\n",
       "      <td>750</td>\n",
       "      <td>50</td>\n",
       "      <td>1500</td>\n",
       "      <td>750</td>\n",
       "      <td>750</td>\n",
       "      <td>20</td>\n",
       "      <td>750</td>\n",
       "      <td>300</td>\n",
       "    </tr>\n",
       "    <tr>\n",
       "      <th>3</th>\n",
       "      <td>30000007</td>\n",
       "      <td>02</td>\n",
       "      <td>02</td>\n",
       "      <td>1800</td>\n",
       "      <td>2030</td>\n",
       "      <td>150.0</td>\n",
       "      <td>81.628</td>\n",
       "      <td>06</td>\n",
       "      <td>0.0</td>\n",
       "      <td>0.0</td>\n",
       "      <td>...</td>\n",
       "      <td>20</td>\n",
       "      <td>750</td>\n",
       "      <td>300</td>\n",
       "      <td>40</td>\n",
       "      <td>1500</td>\n",
       "      <td>750</td>\n",
       "      <td>750</td>\n",
       "      <td>40</td>\n",
       "      <td>1500</td>\n",
       "      <td>750</td>\n",
       "    </tr>\n",
       "    <tr>\n",
       "      <th>4</th>\n",
       "      <td>30000007</td>\n",
       "      <td>03</td>\n",
       "      <td>01</td>\n",
       "      <td>0845</td>\n",
       "      <td>0900</td>\n",
       "      <td>15.0</td>\n",
       "      <td>2.250</td>\n",
       "      <td>03</td>\n",
       "      <td>0.0</td>\n",
       "      <td>0.0</td>\n",
       "      <td>...</td>\n",
       "      <td>20</td>\n",
       "      <td>750</td>\n",
       "      <td>300</td>\n",
       "      <td>50</td>\n",
       "      <td>750</td>\n",
       "      <td>300</td>\n",
       "      <td>350</td>\n",
       "      <td>60</td>\n",
       "      <td>750</td>\n",
       "      <td>300</td>\n",
       "    </tr>\n",
       "  </tbody>\n",
       "</table>\n",
       "<p>5 rows × 115 columns</p>\n",
       "</div>"
      ],
      "text/plain": [
       "    HOUSEID PERSONID TDTRPNUM STRTTIME ENDTIME  TRVLCMIN  TRPMILES TRPTRANS  \\\n",
       "0  30000007       01       01     1000    1015      15.0     5.244       03   \n",
       "1  30000007       01       02     1510    1530      20.0     5.149       03   \n",
       "2  30000007       02       01     0700    0900     120.0    84.004       06   \n",
       "3  30000007       02       02     1800    2030     150.0    81.628       06   \n",
       "4  30000007       03       01     0845    0900      15.0     2.250       03   \n",
       "\n",
       "   TRPACCMP  TRPHHACC  ... OBHTNRNT  OBPPOPDN  OBRESDN  DTHTNRNT DTPPOPDN  \\\n",
       "0       0.0       0.0  ...       20       750      300        50      750   \n",
       "1       0.0       0.0  ...       30       300      300        50     1500   \n",
       "2       0.0       0.0  ...       40      1500      750        50     1500   \n",
       "3       0.0       0.0  ...       20       750      300        40     1500   \n",
       "4       0.0       0.0  ...       20       750      300        50      750   \n",
       "\n",
       "   DTRESDN DTEEMPDN DBHTNRNT DBPPOPDN DBRESDN  \n",
       "0      300      350       30      300     300  \n",
       "1      750      750       20      750     300  \n",
       "2      750      750       20      750     300  \n",
       "3      750      750       40     1500     750  \n",
       "4      300      350       60      750     300  \n",
       "\n",
       "[5 rows x 115 columns]"
      ]
     },
     "execution_count": 20,
     "metadata": {},
     "output_type": "execute_result"
    }
   ],
   "source": [
    "#Look at first few rows\n",
    "data_trip.head()"
   ]
  },
  {
   "cell_type": "code",
   "execution_count": 21,
   "metadata": {},
   "outputs": [
    {
     "data": {
      "text/plain": [
       "(923572, 115)"
      ]
     },
     "execution_count": 21,
     "metadata": {},
     "output_type": "execute_result"
    }
   ],
   "source": [
    "#Look at dimension\n",
    "data_trip.shape"
   ]
  },
  {
   "cell_type": "code",
   "execution_count": 22,
   "metadata": {},
   "outputs": [
    {
     "name": "stdout",
     "output_type": "stream",
     "text": [
      "<class 'pandas.core.frame.DataFrame'>\n",
      "RangeIndex: 923572 entries, 0 to 923571\n",
      "Columns: 115 entries, HOUSEID to DBRESDN\n",
      "dtypes: float64(22), object(93)\n",
      "memory usage: 810.3+ MB\n"
     ]
    }
   ],
   "source": [
    "#Look at data info\n",
    "data_trip.info()"
   ]
  },
  {
   "cell_type": "code",
   "execution_count": 23,
   "metadata": {},
   "outputs": [
    {
     "name": "stdout",
     "output_type": "stream",
     "text": [
      "    HOUSEID PERSONID TDTRPNUM STRTTIME ENDTIME TRPTRANS VEHID DROP_PRK  \\\n",
      "0  30000007       01       01     1000    1015       03    03       -1   \n",
      "1  30000007       01       02     1510    1530       03    03       -1   \n",
      "2  30000007       02       01     0700    0900       06    05       -1   \n",
      "3  30000007       02       02     1800    2030       06    05       -1   \n",
      "4  30000007       03       01     0845    0900       03    01       -1   \n",
      "\n",
      "  WHODROVE WHYFROM  ... OBHTNRNT OBPPOPDN OBRESDN DTHTNRNT DTPPOPDN DTRESDN  \\\n",
      "0       01      01  ...       20      750     300       50      750     300   \n",
      "1       01      19  ...       30      300     300       50     1500     750   \n",
      "2       02      03  ...       40     1500     750       50     1500     750   \n",
      "3       02      01  ...       20      750     300       40     1500     750   \n",
      "4       03      01  ...       20      750     300       50      750     300   \n",
      "\n",
      "  DTEEMPDN DBHTNRNT DBPPOPDN DBRESDN  \n",
      "0      350       30      300     300  \n",
      "1      750       20      750     300  \n",
      "2      750       20      750     300  \n",
      "3      750       40     1500     750  \n",
      "4      350       60      750     300  \n",
      "\n",
      "[5 rows x 93 columns]\n"
     ]
    }
   ],
   "source": [
    "#Select string variables\n",
    "data_trip_obj = data_trip.select_dtypes(['object'])\n",
    "print (data_trip_obj.head())"
   ]
  },
  {
   "cell_type": "code",
   "execution_count": 24,
   "metadata": {},
   "outputs": [],
   "source": [
    "\n",
    "\n",
    "#Remove trailing or leading spaces\n",
    "data_trip[data_trip_obj.columns] = data_trip_obj.apply(lambda x: x.str.strip())"
   ]
  },
  {
   "cell_type": "code",
   "execution_count": 25,
   "metadata": {},
   "outputs": [
    {
     "data": {
      "text/plain": [
       "(923572, 115)"
      ]
     },
     "execution_count": 25,
     "metadata": {},
     "output_type": "execute_result"
    }
   ],
   "source": [
    "#Look at dimension\n",
    "data_trip.shape"
   ]
  },
  {
   "cell_type": "code",
   "execution_count": 26,
   "metadata": {},
   "outputs": [
    {
     "name": "stdout",
     "output_type": "stream",
     "text": [
      "<class 'pandas.core.frame.DataFrame'>\n",
      "RangeIndex: 923572 entries, 0 to 923571\n",
      "Columns: 115 entries, HOUSEID to DBRESDN\n",
      "dtypes: float64(22), object(93)\n",
      "memory usage: 810.3+ MB\n"
     ]
    }
   ],
   "source": [
    "#Look at dataset info\n",
    "data_trip.info()"
   ]
  },
  {
   "cell_type": "code",
   "execution_count": 27,
   "metadata": {},
   "outputs": [],
   "source": [
    "#import vehicle data\n",
    "data_veh=pd.read_sas(os.path.join(cw,'Capstone_Two_Other_Material/Data/sas/vehpub.sas7bdat'), format = 'sas7bdat', encoding=\"ISO-8859-1\")"
   ]
  },
  {
   "cell_type": "code",
   "execution_count": 28,
   "metadata": {},
   "outputs": [
    {
     "data": {
      "text/html": [
       "<div>\n",
       "<style scoped>\n",
       "    .dataframe tbody tr th:only-of-type {\n",
       "        vertical-align: middle;\n",
       "    }\n",
       "\n",
       "    .dataframe tbody tr th {\n",
       "        vertical-align: top;\n",
       "    }\n",
       "\n",
       "    .dataframe thead th {\n",
       "        text-align: right;\n",
       "    }\n",
       "</style>\n",
       "<table border=\"1\" class=\"dataframe\">\n",
       "  <thead>\n",
       "    <tr style=\"text-align: right;\">\n",
       "      <th></th>\n",
       "      <th>HOUSEID</th>\n",
       "      <th>VEHID</th>\n",
       "      <th>VEHYEAR</th>\n",
       "      <th>VEHAGE</th>\n",
       "      <th>MAKE</th>\n",
       "      <th>MODEL</th>\n",
       "      <th>FUELTYPE</th>\n",
       "      <th>VEHTYPE</th>\n",
       "      <th>WHOMAIN</th>\n",
       "      <th>OD_READ</th>\n",
       "      <th>...</th>\n",
       "      <th>HTEEMPDN</th>\n",
       "      <th>HBHTNRNT</th>\n",
       "      <th>HBPPOPDN</th>\n",
       "      <th>HBRESDN</th>\n",
       "      <th>GSYRGAL</th>\n",
       "      <th>GSTOTCST</th>\n",
       "      <th>FEGEMPG</th>\n",
       "      <th>FEGEMPGA</th>\n",
       "      <th>GSCOST</th>\n",
       "      <th>FEGEMPGF</th>\n",
       "    </tr>\n",
       "  </thead>\n",
       "  <tbody>\n",
       "    <tr>\n",
       "      <th>0</th>\n",
       "      <td>30000007</td>\n",
       "      <td>01</td>\n",
       "      <td>2007.0</td>\n",
       "      <td>10.0</td>\n",
       "      <td>49</td>\n",
       "      <td>49032</td>\n",
       "      <td>01</td>\n",
       "      <td>01</td>\n",
       "      <td>03</td>\n",
       "      <td>69000.0</td>\n",
       "      <td>...</td>\n",
       "      <td>750</td>\n",
       "      <td>20</td>\n",
       "      <td>750</td>\n",
       "      <td>300</td>\n",
       "      <td>487.064221</td>\n",
       "      <td>1126.457778</td>\n",
       "      <td>30.0</td>\n",
       "      <td>-9.0</td>\n",
       "      <td>2.31275</td>\n",
       "      <td>01</td>\n",
       "    </tr>\n",
       "    <tr>\n",
       "      <th>1</th>\n",
       "      <td>30000007</td>\n",
       "      <td>02</td>\n",
       "      <td>2004.0</td>\n",
       "      <td>13.0</td>\n",
       "      <td>49</td>\n",
       "      <td>49442</td>\n",
       "      <td>01</td>\n",
       "      <td>02</td>\n",
       "      <td>-8</td>\n",
       "      <td>164000.0</td>\n",
       "      <td>...</td>\n",
       "      <td>750</td>\n",
       "      <td>20</td>\n",
       "      <td>750</td>\n",
       "      <td>300</td>\n",
       "      <td>250.899523</td>\n",
       "      <td>580.267873</td>\n",
       "      <td>19.0</td>\n",
       "      <td>-9.0</td>\n",
       "      <td>2.31275</td>\n",
       "      <td>01</td>\n",
       "    </tr>\n",
       "    <tr>\n",
       "      <th>2</th>\n",
       "      <td>30000007</td>\n",
       "      <td>03</td>\n",
       "      <td>1998.0</td>\n",
       "      <td>19.0</td>\n",
       "      <td>19</td>\n",
       "      <td>19014</td>\n",
       "      <td>01</td>\n",
       "      <td>01</td>\n",
       "      <td>01</td>\n",
       "      <td>120000.0</td>\n",
       "      <td>...</td>\n",
       "      <td>750</td>\n",
       "      <td>20</td>\n",
       "      <td>750</td>\n",
       "      <td>300</td>\n",
       "      <td>444.462475</td>\n",
       "      <td>1027.930589</td>\n",
       "      <td>18.0</td>\n",
       "      <td>-9.0</td>\n",
       "      <td>2.31275</td>\n",
       "      <td>01</td>\n",
       "    </tr>\n",
       "    <tr>\n",
       "      <th>3</th>\n",
       "      <td>30000007</td>\n",
       "      <td>04</td>\n",
       "      <td>1997.0</td>\n",
       "      <td>20.0</td>\n",
       "      <td>19</td>\n",
       "      <td>19021</td>\n",
       "      <td>01</td>\n",
       "      <td>01</td>\n",
       "      <td>02</td>\n",
       "      <td>-88.0</td>\n",
       "      <td>...</td>\n",
       "      <td>750</td>\n",
       "      <td>20</td>\n",
       "      <td>750</td>\n",
       "      <td>300</td>\n",
       "      <td>40.329575</td>\n",
       "      <td>93.272224</td>\n",
       "      <td>18.0</td>\n",
       "      <td>-9.0</td>\n",
       "      <td>2.31275</td>\n",
       "      <td>01</td>\n",
       "    </tr>\n",
       "    <tr>\n",
       "      <th>4</th>\n",
       "      <td>30000007</td>\n",
       "      <td>05</td>\n",
       "      <td>1993.0</td>\n",
       "      <td>24.0</td>\n",
       "      <td>20</td>\n",
       "      <td>20481</td>\n",
       "      <td>01</td>\n",
       "      <td>04</td>\n",
       "      <td>02</td>\n",
       "      <td>300000.0</td>\n",
       "      <td>...</td>\n",
       "      <td>750</td>\n",
       "      <td>20</td>\n",
       "      <td>750</td>\n",
       "      <td>300</td>\n",
       "      <td>888.404197</td>\n",
       "      <td>2054.656806</td>\n",
       "      <td>14.0</td>\n",
       "      <td>-9.0</td>\n",
       "      <td>2.31275</td>\n",
       "      <td>01</td>\n",
       "    </tr>\n",
       "  </tbody>\n",
       "</table>\n",
       "<p>5 rows × 60 columns</p>\n",
       "</div>"
      ],
      "text/plain": [
       "    HOUSEID VEHID  VEHYEAR  VEHAGE MAKE  MODEL FUELTYPE VEHTYPE WHOMAIN  \\\n",
       "0  30000007    01   2007.0    10.0   49  49032       01      01      03   \n",
       "1  30000007    02   2004.0    13.0   49  49442       01      02      -8   \n",
       "2  30000007    03   1998.0    19.0   19  19014       01      01      01   \n",
       "3  30000007    04   1997.0    20.0   19  19021       01      01      02   \n",
       "4  30000007    05   1993.0    24.0   20  20481       01      04      02   \n",
       "\n",
       "    OD_READ  ... HTEEMPDN HBHTNRNT HBPPOPDN  HBRESDN     GSYRGAL     GSTOTCST  \\\n",
       "0   69000.0  ...      750       20      750      300  487.064221  1126.457778   \n",
       "1  164000.0  ...      750       20      750      300  250.899523   580.267873   \n",
       "2  120000.0  ...      750       20      750      300  444.462475  1027.930589   \n",
       "3     -88.0  ...      750       20      750      300   40.329575    93.272224   \n",
       "4  300000.0  ...      750       20      750      300  888.404197  2054.656806   \n",
       "\n",
       "  FEGEMPG FEGEMPGA   GSCOST  FEGEMPGF  \n",
       "0    30.0     -9.0  2.31275        01  \n",
       "1    19.0     -9.0  2.31275        01  \n",
       "2    18.0     -9.0  2.31275        01  \n",
       "3    18.0     -9.0  2.31275        01  \n",
       "4    14.0     -9.0  2.31275        01  \n",
       "\n",
       "[5 rows x 60 columns]"
      ]
     },
     "execution_count": 28,
     "metadata": {},
     "output_type": "execute_result"
    }
   ],
   "source": [
    "#Look at first few rows\n",
    "data_veh.head()"
   ]
  },
  {
   "cell_type": "code",
   "execution_count": 29,
   "metadata": {},
   "outputs": [
    {
     "data": {
      "text/plain": [
       "(256115, 60)"
      ]
     },
     "execution_count": 29,
     "metadata": {},
     "output_type": "execute_result"
    }
   ],
   "source": [
    "#Look at dimension\n",
    "data_veh.shape"
   ]
  },
  {
   "cell_type": "code",
   "execution_count": 30,
   "metadata": {},
   "outputs": [
    {
     "name": "stdout",
     "output_type": "stream",
     "text": [
      "<class 'pandas.core.frame.DataFrame'>\n",
      "RangeIndex: 256115 entries, 0 to 256114\n",
      "Data columns (total 60 columns):\n",
      " #   Column     Non-Null Count   Dtype  \n",
      "---  ------     --------------   -----  \n",
      " 0   HOUSEID    256115 non-null  object \n",
      " 1   VEHID      256115 non-null  object \n",
      " 2   VEHYEAR    256115 non-null  float64\n",
      " 3   VEHAGE     256115 non-null  float64\n",
      " 4   MAKE       256115 non-null  object \n",
      " 5   MODEL      256115 non-null  object \n",
      " 6   FUELTYPE   256115 non-null  object \n",
      " 7   VEHTYPE    256115 non-null  object \n",
      " 8   WHOMAIN    256115 non-null  object \n",
      " 9   OD_READ    256115 non-null  float64\n",
      " 10  HFUEL      256115 non-null  object \n",
      " 11  VEHOWNED   256115 non-null  object \n",
      " 12  VEHOWNMO   256115 non-null  object \n",
      " 13  ANNMILES   256115 non-null  float64\n",
      " 14  HYBRID     256115 non-null  object \n",
      " 15  PERSONID   256115 non-null  object \n",
      " 16  TRAVDAY    256115 non-null  object \n",
      " 17  HOMEOWN    256115 non-null  object \n",
      " 18  HHSIZE     256115 non-null  float64\n",
      " 19  HHVEHCNT   256115 non-null  float64\n",
      " 20  HHFAMINC   256115 non-null  object \n",
      " 21  DRVRCNT    256115 non-null  float64\n",
      " 22  HHSTATE    256115 non-null  object \n",
      " 23  HHSTFIPS   256115 non-null  object \n",
      " 24  NUMADLT    256115 non-null  float64\n",
      " 25  WRKCOUNT   256115 non-null  float64\n",
      " 26  TDAYDATE   256115 non-null  object \n",
      " 27  LIF_CYC    256115 non-null  object \n",
      " 28  MSACAT     256115 non-null  object \n",
      " 29  MSASIZE    256115 non-null  object \n",
      " 30  RAIL       256115 non-null  object \n",
      " 31  URBAN      256115 non-null  object \n",
      " 32  URBANSIZE  256115 non-null  object \n",
      " 33  URBRUR     256115 non-null  object \n",
      " 34  CENSUS_D   256115 non-null  object \n",
      " 35  CENSUS_R   256115 non-null  object \n",
      " 36  CDIVMSAR   256115 non-null  object \n",
      " 37  HH_RACE    256115 non-null  object \n",
      " 38  HH_HISP    256115 non-null  object \n",
      " 39  HH_CBSA    256115 non-null  object \n",
      " 40  SMPLSRCE   256115 non-null  object \n",
      " 41  WTHHFIN    256115 non-null  float64\n",
      " 42  BESTMILE   256115 non-null  float64\n",
      " 43  BEST_FLG   256115 non-null  object \n",
      " 44  BEST_EDT   256115 non-null  object \n",
      " 45  BEST_OUT   256115 non-null  object \n",
      " 46  HBHUR      256115 non-null  object \n",
      " 47  HTHTNRNT   256115 non-null  object \n",
      " 48  HTPPOPDN   256115 non-null  object \n",
      " 49  HTRESDN    256115 non-null  object \n",
      " 50  HTEEMPDN   256115 non-null  object \n",
      " 51  HBHTNRNT   256115 non-null  object \n",
      " 52  HBPPOPDN   256115 non-null  object \n",
      " 53  HBRESDN    256115 non-null  object \n",
      " 54  GSYRGAL    256115 non-null  float64\n",
      " 55  GSTOTCST   256115 non-null  float64\n",
      " 56  FEGEMPG    256115 non-null  float64\n",
      " 57  FEGEMPGA   256115 non-null  float64\n",
      " 58  GSCOST     256115 non-null  float64\n",
      " 59  FEGEMPGF   256115 non-null  object \n",
      "dtypes: float64(16), object(44)\n",
      "memory usage: 117.2+ MB\n"
     ]
    }
   ],
   "source": [
    "#Look at data info\n",
    "data_veh.info()"
   ]
  },
  {
   "cell_type": "code",
   "execution_count": 31,
   "metadata": {},
   "outputs": [
    {
     "name": "stdout",
     "output_type": "stream",
     "text": [
      "    HOUSEID VEHID MAKE  MODEL FUELTYPE VEHTYPE WHOMAIN HFUEL VEHOWNED  \\\n",
      "0  30000007    01   49  49032       01      01      03    -1       01   \n",
      "1  30000007    02   49  49442       01      02      -8    -1       01   \n",
      "2  30000007    03   19  19014       01      01      01    -1       01   \n",
      "3  30000007    04   19  19021       01      01      02    -1       01   \n",
      "4  30000007    05   20  20481       01      04      02    -1       01   \n",
      "\n",
      "  VEHOWNMO  ... BEST_OUT HBHUR HTHTNRNT HTPPOPDN HTRESDN HTEEMPDN HBHTNRNT  \\\n",
      "0       -1  ...       04     T       50     1500     750      750       20   \n",
      "1       -1  ...       -1     T       50     1500     750      750       20   \n",
      "2       -1  ...       -1     T       50     1500     750      750       20   \n",
      "3       -1  ...       -1     T       50     1500     750      750       20   \n",
      "4       -1  ...       -1     T       50     1500     750      750       20   \n",
      "\n",
      "  HBPPOPDN HBRESDN FEGEMPGF  \n",
      "0      750     300       01  \n",
      "1      750     300       01  \n",
      "2      750     300       01  \n",
      "3      750     300       01  \n",
      "4      750     300       01  \n",
      "\n",
      "[5 rows x 44 columns]\n"
     ]
    }
   ],
   "source": [
    "#Select string variables\n",
    "data_veh_obj = data_veh.select_dtypes(['object'])\n",
    "print (data_veh_obj.head())"
   ]
  },
  {
   "cell_type": "code",
   "execution_count": 32,
   "metadata": {},
   "outputs": [],
   "source": [
    "#Remove trailing or leading spaces\n",
    "data_veh[data_veh_obj.columns] = data_veh_obj.apply(lambda x: x.str.strip())"
   ]
  },
  {
   "cell_type": "code",
   "execution_count": 33,
   "metadata": {},
   "outputs": [
    {
     "data": {
      "text/plain": [
       "(256115, 60)"
      ]
     },
     "execution_count": 33,
     "metadata": {},
     "output_type": "execute_result"
    }
   ],
   "source": [
    "#Look at dimension\n",
    "data_veh.shape"
   ]
  },
  {
   "cell_type": "code",
   "execution_count": 34,
   "metadata": {},
   "outputs": [
    {
     "name": "stdout",
     "output_type": "stream",
     "text": [
      "<class 'pandas.core.frame.DataFrame'>\n",
      "RangeIndex: 256115 entries, 0 to 256114\n",
      "Data columns (total 60 columns):\n",
      " #   Column     Non-Null Count   Dtype  \n",
      "---  ------     --------------   -----  \n",
      " 0   HOUSEID    256115 non-null  object \n",
      " 1   VEHID      256115 non-null  object \n",
      " 2   VEHYEAR    256115 non-null  float64\n",
      " 3   VEHAGE     256115 non-null  float64\n",
      " 4   MAKE       256115 non-null  object \n",
      " 5   MODEL      256115 non-null  object \n",
      " 6   FUELTYPE   256115 non-null  object \n",
      " 7   VEHTYPE    256115 non-null  object \n",
      " 8   WHOMAIN    256115 non-null  object \n",
      " 9   OD_READ    256115 non-null  float64\n",
      " 10  HFUEL      256115 non-null  object \n",
      " 11  VEHOWNED   256115 non-null  object \n",
      " 12  VEHOWNMO   256115 non-null  object \n",
      " 13  ANNMILES   256115 non-null  float64\n",
      " 14  HYBRID     256115 non-null  object \n",
      " 15  PERSONID   256115 non-null  object \n",
      " 16  TRAVDAY    256115 non-null  object \n",
      " 17  HOMEOWN    256115 non-null  object \n",
      " 18  HHSIZE     256115 non-null  float64\n",
      " 19  HHVEHCNT   256115 non-null  float64\n",
      " 20  HHFAMINC   256115 non-null  object \n",
      " 21  DRVRCNT    256115 non-null  float64\n",
      " 22  HHSTATE    256115 non-null  object \n",
      " 23  HHSTFIPS   256115 non-null  object \n",
      " 24  NUMADLT    256115 non-null  float64\n",
      " 25  WRKCOUNT   256115 non-null  float64\n",
      " 26  TDAYDATE   256115 non-null  object \n",
      " 27  LIF_CYC    256115 non-null  object \n",
      " 28  MSACAT     256115 non-null  object \n",
      " 29  MSASIZE    256115 non-null  object \n",
      " 30  RAIL       256115 non-null  object \n",
      " 31  URBAN      256115 non-null  object \n",
      " 32  URBANSIZE  256115 non-null  object \n",
      " 33  URBRUR     256115 non-null  object \n",
      " 34  CENSUS_D   256115 non-null  object \n",
      " 35  CENSUS_R   256115 non-null  object \n",
      " 36  CDIVMSAR   256115 non-null  object \n",
      " 37  HH_RACE    256115 non-null  object \n",
      " 38  HH_HISP    256115 non-null  object \n",
      " 39  HH_CBSA    256115 non-null  object \n",
      " 40  SMPLSRCE   256115 non-null  object \n",
      " 41  WTHHFIN    256115 non-null  float64\n",
      " 42  BESTMILE   256115 non-null  float64\n",
      " 43  BEST_FLG   256115 non-null  object \n",
      " 44  BEST_EDT   256115 non-null  object \n",
      " 45  BEST_OUT   256115 non-null  object \n",
      " 46  HBHUR      256115 non-null  object \n",
      " 47  HTHTNRNT   256115 non-null  object \n",
      " 48  HTPPOPDN   256115 non-null  object \n",
      " 49  HTRESDN    256115 non-null  object \n",
      " 50  HTEEMPDN   256115 non-null  object \n",
      " 51  HBHTNRNT   256115 non-null  object \n",
      " 52  HBPPOPDN   256115 non-null  object \n",
      " 53  HBRESDN    256115 non-null  object \n",
      " 54  GSYRGAL    256115 non-null  float64\n",
      " 55  GSTOTCST   256115 non-null  float64\n",
      " 56  FEGEMPG    256115 non-null  float64\n",
      " 57  FEGEMPGA   256115 non-null  float64\n",
      " 58  GSCOST     256115 non-null  float64\n",
      " 59  FEGEMPGF   256115 non-null  object \n",
      "dtypes: float64(16), object(44)\n",
      "memory usage: 117.2+ MB\n"
     ]
    }
   ],
   "source": [
    "#Look at data info\n",
    "data_veh.info()"
   ]
  },
  {
   "cell_type": "markdown",
   "metadata": {},
   "source": [
    "## Merge Datasets"
   ]
  },
  {
   "cell_type": "markdown",
   "metadata": {},
   "source": [
    "Based on the User Guide documentation provided, many of the variables are repeated across multiple table file levels."
   ]
  },
  {
   "cell_type": "code",
   "execution_count": 35,
   "metadata": {},
   "outputs": [],
   "source": [
    "#Look at similar variables between datasets we want to merge and save them in variables\n",
    "data_hh_columns = set(data_hh.columns)\n",
    "data_veh_columns = set(data_veh.columns)\n",
    "data_person_columns = set(data_person.columns)\n",
    "data_trip_columns = set(data_trip.columns)\n",
    "\n",
    "data_hh_veh_columns = list(data_hh_columns.intersection(data_veh_columns))\n",
    "data_hh_veh_columns_u = list(data_hh_columns.union(data_veh_columns))\n",
    "\n",
    "data_hh_veh_person_columns = list(set(data_hh_veh_columns_u).intersection(data_person_columns))\n",
    "data_hh_veh_person_columns_u = list(set(data_hh_veh_columns_u).union(data_person_columns))\n",
    "\n",
    "data_hh_veh_person_trip_columns = list(set(data_hh_veh_person_columns_u).intersection(data_trip_columns))"
   ]
  },
  {
   "cell_type": "code",
   "execution_count": 36,
   "metadata": {},
   "outputs": [],
   "source": [
    "#merge person and vehicle data\n",
    "data_hh_veh = pd.merge(data_hh,data_veh,on=data_hh_veh_columns)"
   ]
  },
  {
   "cell_type": "code",
   "execution_count": 37,
   "metadata": {},
   "outputs": [
    {
     "data": {
      "text/html": [
       "<div>\n",
       "<style scoped>\n",
       "    .dataframe tbody tr th:only-of-type {\n",
       "        vertical-align: middle;\n",
       "    }\n",
       "\n",
       "    .dataframe tbody tr th {\n",
       "        vertical-align: top;\n",
       "    }\n",
       "\n",
       "    .dataframe thead th {\n",
       "        text-align: right;\n",
       "    }\n",
       "</style>\n",
       "<table border=\"1\" class=\"dataframe\">\n",
       "  <thead>\n",
       "    <tr style=\"text-align: right;\">\n",
       "      <th></th>\n",
       "      <th>HOUSEID</th>\n",
       "      <th>TRAVDAY</th>\n",
       "      <th>SAMPSTRAT</th>\n",
       "      <th>HOMEOWN</th>\n",
       "      <th>HHSIZE</th>\n",
       "      <th>HHVEHCNT</th>\n",
       "      <th>HHFAMINC</th>\n",
       "      <th>PC</th>\n",
       "      <th>SPHONE</th>\n",
       "      <th>TAB</th>\n",
       "      <th>...</th>\n",
       "      <th>BESTMILE</th>\n",
       "      <th>BEST_FLG</th>\n",
       "      <th>BEST_EDT</th>\n",
       "      <th>BEST_OUT</th>\n",
       "      <th>GSYRGAL</th>\n",
       "      <th>GSTOTCST</th>\n",
       "      <th>FEGEMPG</th>\n",
       "      <th>FEGEMPGA</th>\n",
       "      <th>GSCOST</th>\n",
       "      <th>FEGEMPGF</th>\n",
       "    </tr>\n",
       "  </thead>\n",
       "  <tbody>\n",
       "    <tr>\n",
       "      <th>0</th>\n",
       "      <td>30000007</td>\n",
       "      <td>02</td>\n",
       "      <td>03</td>\n",
       "      <td>01</td>\n",
       "      <td>3.0</td>\n",
       "      <td>5.0</td>\n",
       "      <td>07</td>\n",
       "      <td>02</td>\n",
       "      <td>01</td>\n",
       "      <td>02</td>\n",
       "      <td>...</td>\n",
       "      <td>14611.926637</td>\n",
       "      <td>01</td>\n",
       "      <td>-1</td>\n",
       "      <td>04</td>\n",
       "      <td>487.064221</td>\n",
       "      <td>1126.457778</td>\n",
       "      <td>30.0</td>\n",
       "      <td>-9.0</td>\n",
       "      <td>2.31275</td>\n",
       "      <td>01</td>\n",
       "    </tr>\n",
       "    <tr>\n",
       "      <th>1</th>\n",
       "      <td>30000007</td>\n",
       "      <td>02</td>\n",
       "      <td>03</td>\n",
       "      <td>01</td>\n",
       "      <td>3.0</td>\n",
       "      <td>5.0</td>\n",
       "      <td>07</td>\n",
       "      <td>02</td>\n",
       "      <td>01</td>\n",
       "      <td>02</td>\n",
       "      <td>...</td>\n",
       "      <td>4767.090946</td>\n",
       "      <td>03</td>\n",
       "      <td>-1</td>\n",
       "      <td>-1</td>\n",
       "      <td>250.899523</td>\n",
       "      <td>580.267873</td>\n",
       "      <td>19.0</td>\n",
       "      <td>-9.0</td>\n",
       "      <td>2.31275</td>\n",
       "      <td>01</td>\n",
       "    </tr>\n",
       "    <tr>\n",
       "      <th>2</th>\n",
       "      <td>30000007</td>\n",
       "      <td>02</td>\n",
       "      <td>03</td>\n",
       "      <td>01</td>\n",
       "      <td>3.0</td>\n",
       "      <td>5.0</td>\n",
       "      <td>07</td>\n",
       "      <td>02</td>\n",
       "      <td>01</td>\n",
       "      <td>02</td>\n",
       "      <td>...</td>\n",
       "      <td>8000.324552</td>\n",
       "      <td>01</td>\n",
       "      <td>-1</td>\n",
       "      <td>-1</td>\n",
       "      <td>444.462475</td>\n",
       "      <td>1027.930589</td>\n",
       "      <td>18.0</td>\n",
       "      <td>-9.0</td>\n",
       "      <td>2.31275</td>\n",
       "      <td>01</td>\n",
       "    </tr>\n",
       "    <tr>\n",
       "      <th>3</th>\n",
       "      <td>30000007</td>\n",
       "      <td>02</td>\n",
       "      <td>03</td>\n",
       "      <td>01</td>\n",
       "      <td>3.0</td>\n",
       "      <td>5.0</td>\n",
       "      <td>07</td>\n",
       "      <td>02</td>\n",
       "      <td>01</td>\n",
       "      <td>02</td>\n",
       "      <td>...</td>\n",
       "      <td>725.932347</td>\n",
       "      <td>02</td>\n",
       "      <td>-1</td>\n",
       "      <td>-1</td>\n",
       "      <td>40.329575</td>\n",
       "      <td>93.272224</td>\n",
       "      <td>18.0</td>\n",
       "      <td>-9.0</td>\n",
       "      <td>2.31275</td>\n",
       "      <td>01</td>\n",
       "    </tr>\n",
       "    <tr>\n",
       "      <th>4</th>\n",
       "      <td>30000007</td>\n",
       "      <td>02</td>\n",
       "      <td>03</td>\n",
       "      <td>01</td>\n",
       "      <td>3.0</td>\n",
       "      <td>5.0</td>\n",
       "      <td>07</td>\n",
       "      <td>02</td>\n",
       "      <td>01</td>\n",
       "      <td>02</td>\n",
       "      <td>...</td>\n",
       "      <td>12437.658757</td>\n",
       "      <td>01</td>\n",
       "      <td>-1</td>\n",
       "      <td>-1</td>\n",
       "      <td>888.404197</td>\n",
       "      <td>2054.656806</td>\n",
       "      <td>14.0</td>\n",
       "      <td>-9.0</td>\n",
       "      <td>2.31275</td>\n",
       "      <td>01</td>\n",
       "    </tr>\n",
       "  </tbody>\n",
       "</table>\n",
       "<p>5 rows × 83 columns</p>\n",
       "</div>"
      ],
      "text/plain": [
       "    HOUSEID TRAVDAY SAMPSTRAT HOMEOWN  HHSIZE  HHVEHCNT HHFAMINC  PC SPHONE  \\\n",
       "0  30000007      02        03      01     3.0       5.0       07  02     01   \n",
       "1  30000007      02        03      01     3.0       5.0       07  02     01   \n",
       "2  30000007      02        03      01     3.0       5.0       07  02     01   \n",
       "3  30000007      02        03      01     3.0       5.0       07  02     01   \n",
       "4  30000007      02        03      01     3.0       5.0       07  02     01   \n",
       "\n",
       "  TAB  ...      BESTMILE BEST_FLG BEST_EDT BEST_OUT     GSYRGAL     GSTOTCST  \\\n",
       "0  02  ...  14611.926637       01       -1       04  487.064221  1126.457778   \n",
       "1  02  ...   4767.090946       03       -1       -1  250.899523   580.267873   \n",
       "2  02  ...   8000.324552       01       -1       -1  444.462475  1027.930589   \n",
       "3  02  ...    725.932347       02       -1       -1   40.329575    93.272224   \n",
       "4  02  ...  12437.658757       01       -1       -1  888.404197  2054.656806   \n",
       "\n",
       "  FEGEMPG FEGEMPGA   GSCOST FEGEMPGF  \n",
       "0    30.0     -9.0  2.31275       01  \n",
       "1    19.0     -9.0  2.31275       01  \n",
       "2    18.0     -9.0  2.31275       01  \n",
       "3    18.0     -9.0  2.31275       01  \n",
       "4    14.0     -9.0  2.31275       01  \n",
       "\n",
       "[5 rows x 83 columns]"
      ]
     },
     "execution_count": 37,
     "metadata": {},
     "output_type": "execute_result"
    }
   ],
   "source": [
    "#look at first 5 rows\n",
    "data_hh_veh.head()"
   ]
  },
  {
   "cell_type": "code",
   "execution_count": 38,
   "metadata": {},
   "outputs": [
    {
     "data": {
      "text/plain": [
       "(256115, 83)"
      ]
     },
     "execution_count": 38,
     "metadata": {},
     "output_type": "execute_result"
    }
   ],
   "source": [
    "#Dimension of data\n",
    "data_hh_veh.shape"
   ]
  },
  {
   "cell_type": "code",
   "execution_count": 39,
   "metadata": {},
   "outputs": [],
   "source": [
    "#merge household and vehicle data to person data\n",
    "data_hh_veh_person = pd.merge(data_hh_veh,data_person,on=data_hh_veh_person_columns)"
   ]
  },
  {
   "cell_type": "code",
   "execution_count": 40,
   "metadata": {},
   "outputs": [
    {
     "data": {
      "text/html": [
       "<div>\n",
       "<style scoped>\n",
       "    .dataframe tbody tr th:only-of-type {\n",
       "        vertical-align: middle;\n",
       "    }\n",
       "\n",
       "    .dataframe tbody tr th {\n",
       "        vertical-align: top;\n",
       "    }\n",
       "\n",
       "    .dataframe thead th {\n",
       "        text-align: right;\n",
       "    }\n",
       "</style>\n",
       "<table border=\"1\" class=\"dataframe\">\n",
       "  <thead>\n",
       "    <tr style=\"text-align: right;\">\n",
       "      <th></th>\n",
       "      <th>HOUSEID</th>\n",
       "      <th>TRAVDAY</th>\n",
       "      <th>SAMPSTRAT</th>\n",
       "      <th>HOMEOWN</th>\n",
       "      <th>HHSIZE</th>\n",
       "      <th>HHVEHCNT</th>\n",
       "      <th>HHFAMINC</th>\n",
       "      <th>PC</th>\n",
       "      <th>SPHONE</th>\n",
       "      <th>TAB</th>\n",
       "      <th>...</th>\n",
       "      <th>BIKE_DFR</th>\n",
       "      <th>BIKE_GKP</th>\n",
       "      <th>CONDTRAV</th>\n",
       "      <th>CONDRIDE</th>\n",
       "      <th>CONDNIGH</th>\n",
       "      <th>CONDRIVE</th>\n",
       "      <th>CONDPUB</th>\n",
       "      <th>CONDSPEC</th>\n",
       "      <th>CONDTAX</th>\n",
       "      <th>WTPERFIN</th>\n",
       "    </tr>\n",
       "  </thead>\n",
       "  <tbody>\n",
       "    <tr>\n",
       "      <th>0</th>\n",
       "      <td>30000007</td>\n",
       "      <td>02</td>\n",
       "      <td>03</td>\n",
       "      <td>01</td>\n",
       "      <td>3.0</td>\n",
       "      <td>5.0</td>\n",
       "      <td>07</td>\n",
       "      <td>02</td>\n",
       "      <td>01</td>\n",
       "      <td>02</td>\n",
       "      <td>...</td>\n",
       "      <td>-1</td>\n",
       "      <td>-1</td>\n",
       "      <td>-1</td>\n",
       "      <td>-1</td>\n",
       "      <td>-1</td>\n",
       "      <td>-1</td>\n",
       "      <td>-1</td>\n",
       "      <td>-1</td>\n",
       "      <td>-1</td>\n",
       "      <td>219.514210</td>\n",
       "    </tr>\n",
       "    <tr>\n",
       "      <th>1</th>\n",
       "      <td>30000007</td>\n",
       "      <td>02</td>\n",
       "      <td>03</td>\n",
       "      <td>01</td>\n",
       "      <td>3.0</td>\n",
       "      <td>5.0</td>\n",
       "      <td>07</td>\n",
       "      <td>02</td>\n",
       "      <td>01</td>\n",
       "      <td>02</td>\n",
       "      <td>...</td>\n",
       "      <td>-1</td>\n",
       "      <td>-1</td>\n",
       "      <td>-1</td>\n",
       "      <td>-1</td>\n",
       "      <td>-1</td>\n",
       "      <td>-1</td>\n",
       "      <td>-1</td>\n",
       "      <td>-1</td>\n",
       "      <td>-1</td>\n",
       "      <td>206.690153</td>\n",
       "    </tr>\n",
       "    <tr>\n",
       "      <th>2</th>\n",
       "      <td>30000007</td>\n",
       "      <td>02</td>\n",
       "      <td>03</td>\n",
       "      <td>01</td>\n",
       "      <td>3.0</td>\n",
       "      <td>5.0</td>\n",
       "      <td>07</td>\n",
       "      <td>02</td>\n",
       "      <td>01</td>\n",
       "      <td>02</td>\n",
       "      <td>...</td>\n",
       "      <td>-1</td>\n",
       "      <td>-1</td>\n",
       "      <td>-1</td>\n",
       "      <td>-1</td>\n",
       "      <td>-1</td>\n",
       "      <td>-1</td>\n",
       "      <td>-1</td>\n",
       "      <td>-1</td>\n",
       "      <td>-1</td>\n",
       "      <td>197.075742</td>\n",
       "    </tr>\n",
       "    <tr>\n",
       "      <th>3</th>\n",
       "      <td>30000007</td>\n",
       "      <td>02</td>\n",
       "      <td>03</td>\n",
       "      <td>01</td>\n",
       "      <td>3.0</td>\n",
       "      <td>5.0</td>\n",
       "      <td>07</td>\n",
       "      <td>02</td>\n",
       "      <td>01</td>\n",
       "      <td>02</td>\n",
       "      <td>...</td>\n",
       "      <td>-1</td>\n",
       "      <td>-1</td>\n",
       "      <td>-1</td>\n",
       "      <td>-1</td>\n",
       "      <td>-1</td>\n",
       "      <td>-1</td>\n",
       "      <td>-1</td>\n",
       "      <td>-1</td>\n",
       "      <td>-1</td>\n",
       "      <td>197.075742</td>\n",
       "    </tr>\n",
       "    <tr>\n",
       "      <th>4</th>\n",
       "      <td>30000008</td>\n",
       "      <td>05</td>\n",
       "      <td>02</td>\n",
       "      <td>01</td>\n",
       "      <td>2.0</td>\n",
       "      <td>4.0</td>\n",
       "      <td>08</td>\n",
       "      <td>01</td>\n",
       "      <td>01</td>\n",
       "      <td>02</td>\n",
       "      <td>...</td>\n",
       "      <td>-1</td>\n",
       "      <td>-1</td>\n",
       "      <td>-1</td>\n",
       "      <td>-1</td>\n",
       "      <td>-1</td>\n",
       "      <td>-1</td>\n",
       "      <td>-1</td>\n",
       "      <td>-1</td>\n",
       "      <td>-1</td>\n",
       "      <td>58.665911</td>\n",
       "    </tr>\n",
       "  </tbody>\n",
       "</table>\n",
       "<p>5 rows × 168 columns</p>\n",
       "</div>"
      ],
      "text/plain": [
       "    HOUSEID TRAVDAY SAMPSTRAT HOMEOWN  HHSIZE  HHVEHCNT HHFAMINC  PC SPHONE  \\\n",
       "0  30000007      02        03      01     3.0       5.0       07  02     01   \n",
       "1  30000007      02        03      01     3.0       5.0       07  02     01   \n",
       "2  30000007      02        03      01     3.0       5.0       07  02     01   \n",
       "3  30000007      02        03      01     3.0       5.0       07  02     01   \n",
       "4  30000008      05        02      01     2.0       4.0       08  01     01   \n",
       "\n",
       "  TAB  ... BIKE_DFR BIKE_GKP CONDTRAV CONDRIDE CONDNIGH CONDRIVE CONDPUB  \\\n",
       "0  02  ...       -1       -1       -1       -1       -1       -1      -1   \n",
       "1  02  ...       -1       -1       -1       -1       -1       -1      -1   \n",
       "2  02  ...       -1       -1       -1       -1       -1       -1      -1   \n",
       "3  02  ...       -1       -1       -1       -1       -1       -1      -1   \n",
       "4  02  ...       -1       -1       -1       -1       -1       -1      -1   \n",
       "\n",
       "  CONDSPEC CONDTAX    WTPERFIN  \n",
       "0       -1      -1  219.514210  \n",
       "1       -1      -1  206.690153  \n",
       "2       -1      -1  197.075742  \n",
       "3       -1      -1  197.075742  \n",
       "4       -1      -1   58.665911  \n",
       "\n",
       "[5 rows x 168 columns]"
      ]
     },
     "execution_count": 40,
     "metadata": {},
     "output_type": "execute_result"
    }
   ],
   "source": [
    "#look at first 5 rows\n",
    "data_hh_veh_person.head()"
   ]
  },
  {
   "cell_type": "code",
   "execution_count": 41,
   "metadata": {},
   "outputs": [
    {
     "data": {
      "text/plain": [
       "(250200, 168)"
      ]
     },
     "execution_count": 41,
     "metadata": {},
     "output_type": "execute_result"
    }
   ],
   "source": [
    "#Dimension of data\n",
    "data_hh_veh_person.shape"
   ]
  },
  {
   "cell_type": "code",
   "execution_count": 42,
   "metadata": {},
   "outputs": [],
   "source": [
    "#merge person, household data, vehicle data to trip data\n",
    "data_hh_veh_person_trip = pd.merge(data_hh_veh_person,data_trip,on=data_hh_veh_person_trip_columns)"
   ]
  },
  {
   "cell_type": "code",
   "execution_count": 43,
   "metadata": {},
   "outputs": [
    {
     "data": {
      "text/html": [
       "<div>\n",
       "<style scoped>\n",
       "    .dataframe tbody tr th:only-of-type {\n",
       "        vertical-align: middle;\n",
       "    }\n",
       "\n",
       "    .dataframe tbody tr th {\n",
       "        vertical-align: top;\n",
       "    }\n",
       "\n",
       "    .dataframe thead th {\n",
       "        text-align: right;\n",
       "    }\n",
       "</style>\n",
       "<table border=\"1\" class=\"dataframe\">\n",
       "  <thead>\n",
       "    <tr style=\"text-align: right;\">\n",
       "      <th></th>\n",
       "      <th>HOUSEID</th>\n",
       "      <th>TRAVDAY</th>\n",
       "      <th>SAMPSTRAT</th>\n",
       "      <th>HOMEOWN</th>\n",
       "      <th>HHSIZE</th>\n",
       "      <th>HHVEHCNT</th>\n",
       "      <th>HHFAMINC</th>\n",
       "      <th>PC</th>\n",
       "      <th>SPHONE</th>\n",
       "      <th>TAB</th>\n",
       "      <th>...</th>\n",
       "      <th>OBHTNRNT</th>\n",
       "      <th>OBPPOPDN</th>\n",
       "      <th>OBRESDN</th>\n",
       "      <th>DTHTNRNT</th>\n",
       "      <th>DTPPOPDN</th>\n",
       "      <th>DTRESDN</th>\n",
       "      <th>DTEEMPDN</th>\n",
       "      <th>DBHTNRNT</th>\n",
       "      <th>DBPPOPDN</th>\n",
       "      <th>DBRESDN</th>\n",
       "    </tr>\n",
       "  </thead>\n",
       "  <tbody>\n",
       "    <tr>\n",
       "      <th>0</th>\n",
       "      <td>30000007</td>\n",
       "      <td>02</td>\n",
       "      <td>03</td>\n",
       "      <td>01</td>\n",
       "      <td>3.0</td>\n",
       "      <td>5.0</td>\n",
       "      <td>07</td>\n",
       "      <td>02</td>\n",
       "      <td>01</td>\n",
       "      <td>02</td>\n",
       "      <td>...</td>\n",
       "      <td>20</td>\n",
       "      <td>750</td>\n",
       "      <td>300</td>\n",
       "      <td>50</td>\n",
       "      <td>750</td>\n",
       "      <td>300</td>\n",
       "      <td>350</td>\n",
       "      <td>60</td>\n",
       "      <td>750</td>\n",
       "      <td>300</td>\n",
       "    </tr>\n",
       "    <tr>\n",
       "      <th>1</th>\n",
       "      <td>30000007</td>\n",
       "      <td>02</td>\n",
       "      <td>03</td>\n",
       "      <td>01</td>\n",
       "      <td>3.0</td>\n",
       "      <td>5.0</td>\n",
       "      <td>07</td>\n",
       "      <td>02</td>\n",
       "      <td>01</td>\n",
       "      <td>02</td>\n",
       "      <td>...</td>\n",
       "      <td>60</td>\n",
       "      <td>750</td>\n",
       "      <td>300</td>\n",
       "      <td>50</td>\n",
       "      <td>1500</td>\n",
       "      <td>750</td>\n",
       "      <td>750</td>\n",
       "      <td>20</td>\n",
       "      <td>750</td>\n",
       "      <td>300</td>\n",
       "    </tr>\n",
       "    <tr>\n",
       "      <th>2</th>\n",
       "      <td>30000007</td>\n",
       "      <td>02</td>\n",
       "      <td>03</td>\n",
       "      <td>01</td>\n",
       "      <td>3.0</td>\n",
       "      <td>5.0</td>\n",
       "      <td>07</td>\n",
       "      <td>02</td>\n",
       "      <td>01</td>\n",
       "      <td>02</td>\n",
       "      <td>...</td>\n",
       "      <td>20</td>\n",
       "      <td>750</td>\n",
       "      <td>300</td>\n",
       "      <td>50</td>\n",
       "      <td>750</td>\n",
       "      <td>300</td>\n",
       "      <td>350</td>\n",
       "      <td>30</td>\n",
       "      <td>300</td>\n",
       "      <td>300</td>\n",
       "    </tr>\n",
       "    <tr>\n",
       "      <th>3</th>\n",
       "      <td>30000007</td>\n",
       "      <td>02</td>\n",
       "      <td>03</td>\n",
       "      <td>01</td>\n",
       "      <td>3.0</td>\n",
       "      <td>5.0</td>\n",
       "      <td>07</td>\n",
       "      <td>02</td>\n",
       "      <td>01</td>\n",
       "      <td>02</td>\n",
       "      <td>...</td>\n",
       "      <td>30</td>\n",
       "      <td>300</td>\n",
       "      <td>300</td>\n",
       "      <td>50</td>\n",
       "      <td>1500</td>\n",
       "      <td>750</td>\n",
       "      <td>750</td>\n",
       "      <td>20</td>\n",
       "      <td>750</td>\n",
       "      <td>300</td>\n",
       "    </tr>\n",
       "    <tr>\n",
       "      <th>4</th>\n",
       "      <td>30000007</td>\n",
       "      <td>02</td>\n",
       "      <td>03</td>\n",
       "      <td>01</td>\n",
       "      <td>3.0</td>\n",
       "      <td>5.0</td>\n",
       "      <td>07</td>\n",
       "      <td>02</td>\n",
       "      <td>01</td>\n",
       "      <td>02</td>\n",
       "      <td>...</td>\n",
       "      <td>40</td>\n",
       "      <td>1500</td>\n",
       "      <td>750</td>\n",
       "      <td>50</td>\n",
       "      <td>1500</td>\n",
       "      <td>750</td>\n",
       "      <td>750</td>\n",
       "      <td>20</td>\n",
       "      <td>750</td>\n",
       "      <td>300</td>\n",
       "    </tr>\n",
       "  </tbody>\n",
       "</table>\n",
       "<p>5 rows × 244 columns</p>\n",
       "</div>"
      ],
      "text/plain": [
       "    HOUSEID TRAVDAY SAMPSTRAT HOMEOWN  HHSIZE  HHVEHCNT HHFAMINC  PC SPHONE  \\\n",
       "0  30000007      02        03      01     3.0       5.0       07  02     01   \n",
       "1  30000007      02        03      01     3.0       5.0       07  02     01   \n",
       "2  30000007      02        03      01     3.0       5.0       07  02     01   \n",
       "3  30000007      02        03      01     3.0       5.0       07  02     01   \n",
       "4  30000007      02        03      01     3.0       5.0       07  02     01   \n",
       "\n",
       "  TAB  ... OBHTNRNT OBPPOPDN OBRESDN DTHTNRNT DTPPOPDN DTRESDN DTEEMPDN  \\\n",
       "0  02  ...       20      750     300       50      750     300      350   \n",
       "1  02  ...       60      750     300       50     1500     750      750   \n",
       "2  02  ...       20      750     300       50      750     300      350   \n",
       "3  02  ...       30      300     300       50     1500     750      750   \n",
       "4  02  ...       40     1500     750       50     1500     750      750   \n",
       "\n",
       "  DBHTNRNT DBPPOPDN DBRESDN  \n",
       "0       60      750     300  \n",
       "1       20      750     300  \n",
       "2       30      300     300  \n",
       "3       20      750     300  \n",
       "4       20      750     300  \n",
       "\n",
       "[5 rows x 244 columns]"
      ]
     },
     "execution_count": 43,
     "metadata": {},
     "output_type": "execute_result"
    }
   ],
   "source": [
    "#review first few rows\n",
    "data_hh_veh_person_trip.head()"
   ]
  },
  {
   "cell_type": "code",
   "execution_count": 44,
   "metadata": {},
   "outputs": [
    {
     "data": {
      "text/plain": [
       "(573829, 244)"
      ]
     },
     "execution_count": 44,
     "metadata": {},
     "output_type": "execute_result"
    }
   ],
   "source": [
    "#review dimension\n",
    "data_hh_veh_person_trip.shape"
   ]
  },
  {
   "cell_type": "code",
   "execution_count": 45,
   "metadata": {},
   "outputs": [],
   "source": [
    "#rename the data\n",
    "data = data_hh_veh_person_trip"
   ]
  },
  {
   "cell_type": "code",
   "execution_count": 46,
   "metadata": {},
   "outputs": [
    {
     "name": "stdout",
     "output_type": "stream",
     "text": [
      "<class 'pandas.core.frame.DataFrame'>\n",
      "Int64Index: 573829 entries, 0 to 573828\n",
      "Data columns (total 244 columns):\n",
      " #    Column      Dtype  \n",
      "---   ------      -----  \n",
      " 0    HOUSEID     object \n",
      " 1    TRAVDAY     object \n",
      " 2    SAMPSTRAT   object \n",
      " 3    HOMEOWN     object \n",
      " 4    HHSIZE      float64\n",
      " 5    HHVEHCNT    float64\n",
      " 6    HHFAMINC    object \n",
      " 7    PC          object \n",
      " 8    SPHONE      object \n",
      " 9    TAB         object \n",
      " 10   WALK        object \n",
      " 11   BIKE        object \n",
      " 12   CAR         object \n",
      " 13   TAXI        object \n",
      " 14   BUS         object \n",
      " 15   TRAIN       object \n",
      " 16   PARA        object \n",
      " 17   PRICE       object \n",
      " 18   PLACE       object \n",
      " 19   WALK2SAVE   object \n",
      " 20   BIKE2SAVE   object \n",
      " 21   PTRANS      object \n",
      " 22   HHRELATD    object \n",
      " 23   DRVRCNT     float64\n",
      " 24   CNTTDHH     float64\n",
      " 25   HHSTATE     object \n",
      " 26   HHSTFIPS    object \n",
      " 27   NUMADLT     float64\n",
      " 28   YOUNGCHILD  float64\n",
      " 29   WRKCOUNT    float64\n",
      " 30   TDAYDATE    object \n",
      " 31   HHRESP      object \n",
      " 32   LIF_CYC     object \n",
      " 33   MSACAT      object \n",
      " 34   MSASIZE     object \n",
      " 35   RAIL        object \n",
      " 36   URBAN       object \n",
      " 37   URBANSIZE   object \n",
      " 38   URBRUR      object \n",
      " 39   SCRESP      object \n",
      " 40   CENSUS_D    object \n",
      " 41   CENSUS_R    object \n",
      " 42   CDIVMSAR    object \n",
      " 43   HH_RACE     object \n",
      " 44   HH_HISP     object \n",
      " 45   HH_CBSA     object \n",
      " 46   RESP_CNT    float64\n",
      " 47   WEBUSE17    object \n",
      " 48   SMPLSRCE    object \n",
      " 49   WTHHFIN     float64\n",
      " 50   HBHUR       object \n",
      " 51   HTHTNRNT    object \n",
      " 52   HTPPOPDN    object \n",
      " 53   HTRESDN     object \n",
      " 54   HTEEMPDN    object \n",
      " 55   HBHTNRNT    object \n",
      " 56   HBPPOPDN    object \n",
      " 57   HBRESDN     object \n",
      " 58   VEHID       object \n",
      " 59   VEHYEAR     float64\n",
      " 60   VEHAGE      float64\n",
      " 61   MAKE        object \n",
      " 62   MODEL       object \n",
      " 63   FUELTYPE    object \n",
      " 64   VEHTYPE     object \n",
      " 65   WHOMAIN     object \n",
      " 66   OD_READ     float64\n",
      " 67   HFUEL       object \n",
      " 68   VEHOWNED    object \n",
      " 69   VEHOWNMO    object \n",
      " 70   ANNMILES    float64\n",
      " 71   HYBRID      object \n",
      " 72   PERSONID    object \n",
      " 73   BESTMILE    float64\n",
      " 74   BEST_FLG    object \n",
      " 75   BEST_EDT    object \n",
      " 76   BEST_OUT    object \n",
      " 77   GSYRGAL     float64\n",
      " 78   GSTOTCST    float64\n",
      " 79   FEGEMPG     float64\n",
      " 80   FEGEMPGA    float64\n",
      " 81   GSCOST      float64\n",
      " 82   FEGEMPGF    object \n",
      " 83   R_AGE       float64\n",
      " 84   EDUC        object \n",
      " 85   R_HISP      object \n",
      " 86   R_RELAT     object \n",
      " 87   R_SEX       object \n",
      " 88   R_RACE      object \n",
      " 89   PRMACT      object \n",
      " 90   PAYPROF     object \n",
      " 91   GT1JBLWK    object \n",
      " 92   WRK_HOME    object \n",
      " 93   WKFTPT      object \n",
      " 94   WRKTRANS    object \n",
      " 95   LSTTRDAY17  object \n",
      " 96   OCCAT       object \n",
      " 97   SCHTYP      object \n",
      " 98   NWALKTRP    float64\n",
      " 99   WALK4EX     float64\n",
      " 100  NBIKETRP    float64\n",
      " 101  BIKE4EX     float64\n",
      " 102  BIKESHARE   float64\n",
      " 103  PTUSED      float64\n",
      " 104  MCUSED      float64\n",
      " 105  CARSHARE    float64\n",
      " 106  RIDESHARE   float64\n",
      " 107  CARRODE     float64\n",
      " 108  TIMETOWK    float64\n",
      " 109  NOCONG      float64\n",
      " 110  PUBTIME     float64\n",
      " 111  WRKTIME     object \n",
      " 112  WKRMHM      object \n",
      " 113  FLEXTIME    object \n",
      " 114  WKFMHMXX    float64\n",
      " 115  SCHTRN1     object \n",
      " 116  SCHTRN2     object \n",
      " 117  DELIVER     float64\n",
      " 118  MEDCOND     object \n",
      " 119  MEDCOND6    object \n",
      " 120  HEALTH      object \n",
      " 121  PHYACT      object \n",
      " 122  VPACT       float64\n",
      " 123  LPACT       float64\n",
      " 124  BORNINUS    object \n",
      " 125  YRTOUS      float64\n",
      " 126  YEARMILE    float64\n",
      " 127  PROXY       object \n",
      " 128  WHOPROXY    object \n",
      " 129  USEPUBTR    object \n",
      " 130  SAMEPLC     object \n",
      " 131  W_NONE      object \n",
      " 132  W_CANE      object \n",
      " 133  W_WLKR      object \n",
      " 134  W_WHCANE    object \n",
      " 135  W_DOG       object \n",
      " 136  W_CRUTCH    object \n",
      " 137  W_SCOOTR    object \n",
      " 138  W_CHAIR     object \n",
      " 139  W_MTRCHR    object \n",
      " 140  WORKER      object \n",
      " 141  DIARY       object \n",
      " 142  OUTCNTRY    object \n",
      " 143  FRSTHM17    object \n",
      " 144  CNTTDTR     float64\n",
      " 145  GCDWORK     float64\n",
      " 146  WKSTFIPS    object \n",
      " 147  DRIVER      object \n",
      " 148  OUTOFTWN    object \n",
      " 149  DISTTOWK17  float64\n",
      " 150  DISTTOSC17  float64\n",
      " 151  R_AGE_IMP   float64\n",
      " 152  R_SEX_IMP   object \n",
      " 153  ALT_16      object \n",
      " 154  ALT_23      object \n",
      " 155  ALT_45      object \n",
      " 156  WALK_DEF    object \n",
      " 157  WALK_GKQ    object \n",
      " 158  BIKE_DFR    object \n",
      " 159  BIKE_GKP    object \n",
      " 160  CONDTRAV    object \n",
      " 161  CONDRIDE    object \n",
      " 162  CONDNIGH    object \n",
      " 163  CONDRIVE    object \n",
      " 164  CONDPUB     object \n",
      " 165  CONDSPEC    object \n",
      " 166  CONDTAX     object \n",
      " 167  WTPERFIN    float64\n",
      " 168  TDTRPNUM    object \n",
      " 169  STRTTIME    object \n",
      " 170  ENDTIME     object \n",
      " 171  TRVLCMIN    float64\n",
      " 172  TRPMILES    float64\n",
      " 173  TRPTRANS    object \n",
      " 174  TRPACCMP    float64\n",
      " 175  TRPHHACC    float64\n",
      " 176  TRWAITTM    float64\n",
      " 177  NUMTRANS    float64\n",
      " 178  TRACCTM     float64\n",
      " 179  DROP_PRK    object \n",
      " 180  TREGRTM     float64\n",
      " 181  WHODROVE    object \n",
      " 182  WHYFROM     object \n",
      " 183  LOOP_TRIP   object \n",
      " 184  TRPHHVEH    object \n",
      " 185  HHMEMDRV    object \n",
      " 186  HH_ONTD     float64\n",
      " 187  NONHHCNT    float64\n",
      " 188  NUMONTRP    float64\n",
      " 189  PSGR_FLG    object \n",
      " 190  PUBTRANS    object \n",
      " 191  TRIPPURP    object \n",
      " 192  DWELTIME    float64\n",
      " 193  TDWKND      object \n",
      " 194  VMT_MILE    float64\n",
      " 195  DRVR_FLG    object \n",
      " 196  WHYTRP1S    object \n",
      " 197  ONTD_P1     object \n",
      " 198  ONTD_P2     object \n",
      " 199  ONTD_P3     object \n",
      " 200  ONTD_P4     object \n",
      " 201  ONTD_P5     object \n",
      " 202  ONTD_P6     object \n",
      " 203  ONTD_P7     object \n",
      " 204  ONTD_P8     object \n",
      " 205  ONTD_P9     object \n",
      " 206  ONTD_P10    object \n",
      " 207  ONTD_P11    object \n",
      " 208  ONTD_P12    object \n",
      " 209  ONTD_P13    object \n",
      " 210  TDCASEID    object \n",
      " 211  TRACC_WLK   object \n",
      " 212  TRACC_POV   object \n",
      " 213  TRACC_BUS   object \n",
      " 214  TRACC_CRL   object \n",
      " 215  TRACC_SUB   object \n",
      " 216  TRACC_OTH   object \n",
      " 217  TREGR_WLK   object \n",
      " 218  TREGR_POV   object \n",
      " 219  TREGR_BUS   object \n",
      " 220  TREGR_CRL   object \n",
      " 221  TREGR_SUB   object \n",
      " 222  TREGR_OTH   object \n",
      " 223  WHYTO       object \n",
      " 224  GASPRICE    object \n",
      " 225  WTTRDFIN    float64\n",
      " 226  WHYTRP90    object \n",
      " 227  TRPMILAD    float64\n",
      " 228  OBHUR       object \n",
      " 229  DBHUR       object \n",
      " 230  OTHTNRNT    object \n",
      " 231  OTPPOPDN    object \n",
      " 232  OTRESDN     object \n",
      " 233  OTEEMPDN    object \n",
      " 234  OBHTNRNT    object \n",
      " 235  OBPPOPDN    object \n",
      " 236  OBRESDN     object \n",
      " 237  DTHTNRNT    object \n",
      " 238  DTPPOPDN    object \n",
      " 239  DTRESDN     object \n",
      " 240  DTEEMPDN    object \n",
      " 241  DBHTNRNT    object \n",
      " 242  DBPPOPDN    object \n",
      " 243  DBRESDN     object \n",
      "dtypes: float64(60), object(184)\n",
      "memory usage: 1.0+ GB\n"
     ]
    }
   ],
   "source": [
    "#nLook at data info\n",
    "data.info(verbose=True)"
   ]
  },
  {
   "cell_type": "code",
   "execution_count": 47,
   "metadata": {
    "scrolled": false
   },
   "outputs": [
    {
     "data": {
      "text/plain": [
       "242"
      ]
     },
     "execution_count": 47,
     "metadata": {},
     "output_type": "execute_result"
    }
   ],
   "source": [
    "#reorder variables\n",
    "first_cols = ['PERSONID','VEHID']\n",
    "last_cols = [col for col in data.columns if col not in first_cols]\n",
    "len(last_cols)"
   ]
  },
  {
   "cell_type": "code",
   "execution_count": 48,
   "metadata": {},
   "outputs": [],
   "source": [
    "#reorder variables\n",
    "data1 = data[first_cols+last_cols]"
   ]
  },
  {
   "cell_type": "code",
   "execution_count": 49,
   "metadata": {},
   "outputs": [
    {
     "data": {
      "text/html": [
       "<div>\n",
       "<style scoped>\n",
       "    .dataframe tbody tr th:only-of-type {\n",
       "        vertical-align: middle;\n",
       "    }\n",
       "\n",
       "    .dataframe tbody tr th {\n",
       "        vertical-align: top;\n",
       "    }\n",
       "\n",
       "    .dataframe thead th {\n",
       "        text-align: right;\n",
       "    }\n",
       "</style>\n",
       "<table border=\"1\" class=\"dataframe\">\n",
       "  <thead>\n",
       "    <tr style=\"text-align: right;\">\n",
       "      <th></th>\n",
       "      <th>PERSONID</th>\n",
       "      <th>VEHID</th>\n",
       "      <th>HOUSEID</th>\n",
       "      <th>TRAVDAY</th>\n",
       "      <th>SAMPSTRAT</th>\n",
       "      <th>HOMEOWN</th>\n",
       "      <th>HHSIZE</th>\n",
       "      <th>HHVEHCNT</th>\n",
       "      <th>HHFAMINC</th>\n",
       "      <th>PC</th>\n",
       "      <th>...</th>\n",
       "      <th>OBHTNRNT</th>\n",
       "      <th>OBPPOPDN</th>\n",
       "      <th>OBRESDN</th>\n",
       "      <th>DTHTNRNT</th>\n",
       "      <th>DTPPOPDN</th>\n",
       "      <th>DTRESDN</th>\n",
       "      <th>DTEEMPDN</th>\n",
       "      <th>DBHTNRNT</th>\n",
       "      <th>DBPPOPDN</th>\n",
       "      <th>DBRESDN</th>\n",
       "    </tr>\n",
       "  </thead>\n",
       "  <tbody>\n",
       "    <tr>\n",
       "      <th>0</th>\n",
       "      <td>03</td>\n",
       "      <td>01</td>\n",
       "      <td>30000007</td>\n",
       "      <td>02</td>\n",
       "      <td>03</td>\n",
       "      <td>01</td>\n",
       "      <td>3.0</td>\n",
       "      <td>5.0</td>\n",
       "      <td>07</td>\n",
       "      <td>02</td>\n",
       "      <td>...</td>\n",
       "      <td>20</td>\n",
       "      <td>750</td>\n",
       "      <td>300</td>\n",
       "      <td>50</td>\n",
       "      <td>750</td>\n",
       "      <td>300</td>\n",
       "      <td>350</td>\n",
       "      <td>60</td>\n",
       "      <td>750</td>\n",
       "      <td>300</td>\n",
       "    </tr>\n",
       "    <tr>\n",
       "      <th>1</th>\n",
       "      <td>03</td>\n",
       "      <td>01</td>\n",
       "      <td>30000007</td>\n",
       "      <td>02</td>\n",
       "      <td>03</td>\n",
       "      <td>01</td>\n",
       "      <td>3.0</td>\n",
       "      <td>5.0</td>\n",
       "      <td>07</td>\n",
       "      <td>02</td>\n",
       "      <td>...</td>\n",
       "      <td>60</td>\n",
       "      <td>750</td>\n",
       "      <td>300</td>\n",
       "      <td>50</td>\n",
       "      <td>1500</td>\n",
       "      <td>750</td>\n",
       "      <td>750</td>\n",
       "      <td>20</td>\n",
       "      <td>750</td>\n",
       "      <td>300</td>\n",
       "    </tr>\n",
       "    <tr>\n",
       "      <th>2</th>\n",
       "      <td>01</td>\n",
       "      <td>03</td>\n",
       "      <td>30000007</td>\n",
       "      <td>02</td>\n",
       "      <td>03</td>\n",
       "      <td>01</td>\n",
       "      <td>3.0</td>\n",
       "      <td>5.0</td>\n",
       "      <td>07</td>\n",
       "      <td>02</td>\n",
       "      <td>...</td>\n",
       "      <td>20</td>\n",
       "      <td>750</td>\n",
       "      <td>300</td>\n",
       "      <td>50</td>\n",
       "      <td>750</td>\n",
       "      <td>300</td>\n",
       "      <td>350</td>\n",
       "      <td>30</td>\n",
       "      <td>300</td>\n",
       "      <td>300</td>\n",
       "    </tr>\n",
       "    <tr>\n",
       "      <th>3</th>\n",
       "      <td>01</td>\n",
       "      <td>03</td>\n",
       "      <td>30000007</td>\n",
       "      <td>02</td>\n",
       "      <td>03</td>\n",
       "      <td>01</td>\n",
       "      <td>3.0</td>\n",
       "      <td>5.0</td>\n",
       "      <td>07</td>\n",
       "      <td>02</td>\n",
       "      <td>...</td>\n",
       "      <td>30</td>\n",
       "      <td>300</td>\n",
       "      <td>300</td>\n",
       "      <td>50</td>\n",
       "      <td>1500</td>\n",
       "      <td>750</td>\n",
       "      <td>750</td>\n",
       "      <td>20</td>\n",
       "      <td>750</td>\n",
       "      <td>300</td>\n",
       "    </tr>\n",
       "    <tr>\n",
       "      <th>4</th>\n",
       "      <td>02</td>\n",
       "      <td>05</td>\n",
       "      <td>30000007</td>\n",
       "      <td>02</td>\n",
       "      <td>03</td>\n",
       "      <td>01</td>\n",
       "      <td>3.0</td>\n",
       "      <td>5.0</td>\n",
       "      <td>07</td>\n",
       "      <td>02</td>\n",
       "      <td>...</td>\n",
       "      <td>40</td>\n",
       "      <td>1500</td>\n",
       "      <td>750</td>\n",
       "      <td>50</td>\n",
       "      <td>1500</td>\n",
       "      <td>750</td>\n",
       "      <td>750</td>\n",
       "      <td>20</td>\n",
       "      <td>750</td>\n",
       "      <td>300</td>\n",
       "    </tr>\n",
       "  </tbody>\n",
       "</table>\n",
       "<p>5 rows × 244 columns</p>\n",
       "</div>"
      ],
      "text/plain": [
       "  PERSONID VEHID   HOUSEID TRAVDAY SAMPSTRAT HOMEOWN  HHSIZE  HHVEHCNT  \\\n",
       "0       03    01  30000007      02        03      01     3.0       5.0   \n",
       "1       03    01  30000007      02        03      01     3.0       5.0   \n",
       "2       01    03  30000007      02        03      01     3.0       5.0   \n",
       "3       01    03  30000007      02        03      01     3.0       5.0   \n",
       "4       02    05  30000007      02        03      01     3.0       5.0   \n",
       "\n",
       "  HHFAMINC  PC  ... OBHTNRNT OBPPOPDN OBRESDN DTHTNRNT DTPPOPDN DTRESDN  \\\n",
       "0       07  02  ...       20      750     300       50      750     300   \n",
       "1       07  02  ...       60      750     300       50     1500     750   \n",
       "2       07  02  ...       20      750     300       50      750     300   \n",
       "3       07  02  ...       30      300     300       50     1500     750   \n",
       "4       07  02  ...       40     1500     750       50     1500     750   \n",
       "\n",
       "  DTEEMPDN DBHTNRNT DBPPOPDN DBRESDN  \n",
       "0      350       60      750     300  \n",
       "1      750       20      750     300  \n",
       "2      350       30      300     300  \n",
       "3      750       20      750     300  \n",
       "4      750       20      750     300  \n",
       "\n",
       "[5 rows x 244 columns]"
      ]
     },
     "execution_count": 49,
     "metadata": {},
     "output_type": "execute_result"
    }
   ],
   "source": [
    "#Get first few rows\n",
    "data1.head()"
   ]
  },
  {
   "cell_type": "code",
   "execution_count": 50,
   "metadata": {},
   "outputs": [
    {
     "data": {
      "text/plain": [
       "(573829, 244)"
      ]
     },
     "execution_count": 50,
     "metadata": {},
     "output_type": "execute_result"
    }
   ],
   "source": [
    "#Dimension of data\n",
    "data1.shape"
   ]
  },
  {
   "cell_type": "markdown",
   "metadata": {},
   "source": [
    "## Duplicates and NAs"
   ]
  },
  {
   "cell_type": "code",
   "execution_count": 51,
   "metadata": {},
   "outputs": [
    {
     "data": {
      "text/plain": [
       "(573829, 244)"
      ]
     },
     "execution_count": 51,
     "metadata": {},
     "output_type": "execute_result"
    }
   ],
   "source": [
    "#Any duplicate rows?\n",
    "data1 = data1.drop_duplicates()\n",
    "#Dimension\n",
    "data1.shape"
   ]
  },
  {
   "cell_type": "markdown",
   "metadata": {},
   "source": [
    "There are no duplicates rows"
   ]
  },
  {
   "cell_type": "code",
   "execution_count": 52,
   "metadata": {},
   "outputs": [
    {
     "data": {
      "text/plain": [
       "False"
      ]
     },
     "execution_count": 52,
     "metadata": {},
     "output_type": "execute_result"
    }
   ],
   "source": [
    "#Check for NAs\n",
    "data1.isna().values.any()"
   ]
  },
  {
   "cell_type": "markdown",
   "metadata": {},
   "source": [
    "There are no NAs in the dataset. The documentation for the dataset mentioned that there shouldn't be any as well."
   ]
  },
  {
   "cell_type": "markdown",
   "metadata": {},
   "source": [
    "There are a few values that should be reviewed further.\n",
    "\n",
    "1. -1 : Appropriate Skip\n",
    "2. -9 : Not Ascertained\n",
    "3. -7 : I prefer not to answer (Selected by participant (available when no answer given)) \n",
    "4. -77 : I prefer not to answer (Selected by participant (always available)) \n",
    "5. -8 : I don’t know (Selected by participant (available when no answer given))\n",
    "6. -88 : I don’t know (Selected by participant (always available))\n",
    "\n",
    "Let's check if any variable consists of all of these values."
   ]
  },
  {
   "cell_type": "code",
   "execution_count": 53,
   "metadata": {},
   "outputs": [
    {
     "data": {
      "text/plain": [
       "PERSONID     False\n",
       "VEHID        False\n",
       "HOUSEID      False\n",
       "TRAVDAY      False\n",
       "SAMPSTRAT    False\n",
       "             ...  \n",
       "DTRESDN      False\n",
       "DTEEMPDN     False\n",
       "DBHTNRNT     False\n",
       "DBPPOPDN     False\n",
       "DBRESDN      False\n",
       "Length: 244, dtype: bool"
      ]
     },
     "execution_count": 53,
     "metadata": {},
     "output_type": "execute_result"
    }
   ],
   "source": [
    "#variables where all values are these\n",
    "data1_check_val = data1.isin([-1.0,-9.0,-7.0,-77.0,-8.0,-88.0, \n",
    "                              '-1','-9','-7','-77','-8','-88']).all()\n",
    "data1_check_val"
   ]
  },
  {
   "cell_type": "code",
   "execution_count": 54,
   "metadata": {},
   "outputs": [
    {
     "data": {
      "text/plain": [
       "array(['-1'], dtype=object)"
      ]
     },
     "execution_count": 54,
     "metadata": {},
     "output_type": "execute_result"
    }
   ],
   "source": [
    "#check one variable\n",
    "data1['TRACC_BUS'].unique()"
   ]
  },
  {
   "cell_type": "code",
   "execution_count": 55,
   "metadata": {},
   "outputs": [
    {
     "data": {
      "text/plain": [
       "['LSTTRDAY17',\n",
       " 'SAMEPLC',\n",
       " 'TRACC_WLK',\n",
       " 'TRACC_POV',\n",
       " 'TRACC_BUS',\n",
       " 'TRACC_CRL',\n",
       " 'TRACC_SUB',\n",
       " 'TRACC_OTH',\n",
       " 'TREGR_WLK',\n",
       " 'TREGR_POV',\n",
       " 'TREGR_BUS',\n",
       " 'TREGR_CRL',\n",
       " 'TREGR_SUB',\n",
       " 'TREGR_OTH']"
      ]
     },
     "execution_count": 55,
     "metadata": {},
     "output_type": "execute_result"
    }
   ],
   "source": [
    "#Get variable names\n",
    "var_na = list(data1_check_val[data1_check_val==True].index)\n",
    "var_na"
   ]
  },
  {
   "cell_type": "code",
   "execution_count": 56,
   "metadata": {},
   "outputs": [
    {
     "data": {
      "text/plain": [
       "14"
      ]
     },
     "execution_count": 56,
     "metadata": {},
     "output_type": "execute_result"
    }
   ],
   "source": [
    "#Number of variables\n",
    "len(var_na)"
   ]
  },
  {
   "cell_type": "code",
   "execution_count": 57,
   "metadata": {},
   "outputs": [],
   "source": [
    "#drop the variables where everything seems to be not valid.\n",
    "data1.drop(var_na,axis=1, inplace=True)"
   ]
  },
  {
   "cell_type": "code",
   "execution_count": 58,
   "metadata": {},
   "outputs": [
    {
     "data": {
      "text/html": [
       "<div>\n",
       "<style scoped>\n",
       "    .dataframe tbody tr th:only-of-type {\n",
       "        vertical-align: middle;\n",
       "    }\n",
       "\n",
       "    .dataframe tbody tr th {\n",
       "        vertical-align: top;\n",
       "    }\n",
       "\n",
       "    .dataframe thead th {\n",
       "        text-align: right;\n",
       "    }\n",
       "</style>\n",
       "<table border=\"1\" class=\"dataframe\">\n",
       "  <thead>\n",
       "    <tr style=\"text-align: right;\">\n",
       "      <th></th>\n",
       "      <th>PERSONID</th>\n",
       "      <th>VEHID</th>\n",
       "      <th>HOUSEID</th>\n",
       "      <th>TRAVDAY</th>\n",
       "      <th>SAMPSTRAT</th>\n",
       "      <th>HOMEOWN</th>\n",
       "      <th>HHSIZE</th>\n",
       "      <th>HHVEHCNT</th>\n",
       "      <th>HHFAMINC</th>\n",
       "      <th>PC</th>\n",
       "      <th>...</th>\n",
       "      <th>OBHTNRNT</th>\n",
       "      <th>OBPPOPDN</th>\n",
       "      <th>OBRESDN</th>\n",
       "      <th>DTHTNRNT</th>\n",
       "      <th>DTPPOPDN</th>\n",
       "      <th>DTRESDN</th>\n",
       "      <th>DTEEMPDN</th>\n",
       "      <th>DBHTNRNT</th>\n",
       "      <th>DBPPOPDN</th>\n",
       "      <th>DBRESDN</th>\n",
       "    </tr>\n",
       "  </thead>\n",
       "  <tbody>\n",
       "    <tr>\n",
       "      <th>0</th>\n",
       "      <td>03</td>\n",
       "      <td>01</td>\n",
       "      <td>30000007</td>\n",
       "      <td>02</td>\n",
       "      <td>03</td>\n",
       "      <td>01</td>\n",
       "      <td>3.0</td>\n",
       "      <td>5.0</td>\n",
       "      <td>07</td>\n",
       "      <td>02</td>\n",
       "      <td>...</td>\n",
       "      <td>20</td>\n",
       "      <td>750</td>\n",
       "      <td>300</td>\n",
       "      <td>50</td>\n",
       "      <td>750</td>\n",
       "      <td>300</td>\n",
       "      <td>350</td>\n",
       "      <td>60</td>\n",
       "      <td>750</td>\n",
       "      <td>300</td>\n",
       "    </tr>\n",
       "    <tr>\n",
       "      <th>1</th>\n",
       "      <td>03</td>\n",
       "      <td>01</td>\n",
       "      <td>30000007</td>\n",
       "      <td>02</td>\n",
       "      <td>03</td>\n",
       "      <td>01</td>\n",
       "      <td>3.0</td>\n",
       "      <td>5.0</td>\n",
       "      <td>07</td>\n",
       "      <td>02</td>\n",
       "      <td>...</td>\n",
       "      <td>60</td>\n",
       "      <td>750</td>\n",
       "      <td>300</td>\n",
       "      <td>50</td>\n",
       "      <td>1500</td>\n",
       "      <td>750</td>\n",
       "      <td>750</td>\n",
       "      <td>20</td>\n",
       "      <td>750</td>\n",
       "      <td>300</td>\n",
       "    </tr>\n",
       "    <tr>\n",
       "      <th>2</th>\n",
       "      <td>01</td>\n",
       "      <td>03</td>\n",
       "      <td>30000007</td>\n",
       "      <td>02</td>\n",
       "      <td>03</td>\n",
       "      <td>01</td>\n",
       "      <td>3.0</td>\n",
       "      <td>5.0</td>\n",
       "      <td>07</td>\n",
       "      <td>02</td>\n",
       "      <td>...</td>\n",
       "      <td>20</td>\n",
       "      <td>750</td>\n",
       "      <td>300</td>\n",
       "      <td>50</td>\n",
       "      <td>750</td>\n",
       "      <td>300</td>\n",
       "      <td>350</td>\n",
       "      <td>30</td>\n",
       "      <td>300</td>\n",
       "      <td>300</td>\n",
       "    </tr>\n",
       "    <tr>\n",
       "      <th>3</th>\n",
       "      <td>01</td>\n",
       "      <td>03</td>\n",
       "      <td>30000007</td>\n",
       "      <td>02</td>\n",
       "      <td>03</td>\n",
       "      <td>01</td>\n",
       "      <td>3.0</td>\n",
       "      <td>5.0</td>\n",
       "      <td>07</td>\n",
       "      <td>02</td>\n",
       "      <td>...</td>\n",
       "      <td>30</td>\n",
       "      <td>300</td>\n",
       "      <td>300</td>\n",
       "      <td>50</td>\n",
       "      <td>1500</td>\n",
       "      <td>750</td>\n",
       "      <td>750</td>\n",
       "      <td>20</td>\n",
       "      <td>750</td>\n",
       "      <td>300</td>\n",
       "    </tr>\n",
       "    <tr>\n",
       "      <th>4</th>\n",
       "      <td>02</td>\n",
       "      <td>05</td>\n",
       "      <td>30000007</td>\n",
       "      <td>02</td>\n",
       "      <td>03</td>\n",
       "      <td>01</td>\n",
       "      <td>3.0</td>\n",
       "      <td>5.0</td>\n",
       "      <td>07</td>\n",
       "      <td>02</td>\n",
       "      <td>...</td>\n",
       "      <td>40</td>\n",
       "      <td>1500</td>\n",
       "      <td>750</td>\n",
       "      <td>50</td>\n",
       "      <td>1500</td>\n",
       "      <td>750</td>\n",
       "      <td>750</td>\n",
       "      <td>20</td>\n",
       "      <td>750</td>\n",
       "      <td>300</td>\n",
       "    </tr>\n",
       "  </tbody>\n",
       "</table>\n",
       "<p>5 rows × 230 columns</p>\n",
       "</div>"
      ],
      "text/plain": [
       "  PERSONID VEHID   HOUSEID TRAVDAY SAMPSTRAT HOMEOWN  HHSIZE  HHVEHCNT  \\\n",
       "0       03    01  30000007      02        03      01     3.0       5.0   \n",
       "1       03    01  30000007      02        03      01     3.0       5.0   \n",
       "2       01    03  30000007      02        03      01     3.0       5.0   \n",
       "3       01    03  30000007      02        03      01     3.0       5.0   \n",
       "4       02    05  30000007      02        03      01     3.0       5.0   \n",
       "\n",
       "  HHFAMINC  PC  ... OBHTNRNT OBPPOPDN OBRESDN DTHTNRNT DTPPOPDN DTRESDN  \\\n",
       "0       07  02  ...       20      750     300       50      750     300   \n",
       "1       07  02  ...       60      750     300       50     1500     750   \n",
       "2       07  02  ...       20      750     300       50      750     300   \n",
       "3       07  02  ...       30      300     300       50     1500     750   \n",
       "4       07  02  ...       40     1500     750       50     1500     750   \n",
       "\n",
       "  DTEEMPDN DBHTNRNT DBPPOPDN DBRESDN  \n",
       "0      350       60      750     300  \n",
       "1      750       20      750     300  \n",
       "2      350       30      300     300  \n",
       "3      750       20      750     300  \n",
       "4      750       20      750     300  \n",
       "\n",
       "[5 rows x 230 columns]"
      ]
     },
     "execution_count": 58,
     "metadata": {},
     "output_type": "execute_result"
    }
   ],
   "source": [
    "#Get first few rows\n",
    "data1.head()"
   ]
  },
  {
   "cell_type": "code",
   "execution_count": 59,
   "metadata": {},
   "outputs": [
    {
     "data": {
      "text/plain": [
       "(573829, 230)"
      ]
     },
     "execution_count": 59,
     "metadata": {},
     "output_type": "execute_result"
    }
   ],
   "source": [
    "#Dimension of data\n",
    "data1.shape"
   ]
  },
  {
   "cell_type": "markdown",
   "metadata": {},
   "source": [
    "My intention was the recode the values but since I need them for the next section, I did not recode."
   ]
  },
  {
   "cell_type": "code",
   "execution_count": 60,
   "metadata": {},
   "outputs": [],
   "source": [
    "#Check a character variables\n",
    "#data1['PHYACT'].unique()"
   ]
  },
  {
   "cell_type": "code",
   "execution_count": 61,
   "metadata": {},
   "outputs": [],
   "source": [
    "#Check a numeric variable\n",
    "#data1['PUBTIME'].unique()"
   ]
  },
  {
   "cell_type": "code",
   "execution_count": 62,
   "metadata": {},
   "outputs": [],
   "source": [
    "#recode variables\n",
    "#data1.iloc[:,1:] = data1.iloc[:,1:].replace(dict.fromkeys([-1.0,-9.0,-7.0,-77.0,-8.0,-88.0], np.nan))\n",
    "#data1.iloc[:,1:] = data1.iloc[:,1:].replace(dict.fromkeys(['-1','-9','-7','-77','-8','-88'], np.nan))"
   ]
  },
  {
   "cell_type": "code",
   "execution_count": 63,
   "metadata": {},
   "outputs": [],
   "source": [
    "#Check a character variables\n",
    "#data1['PHYACT'].unique()"
   ]
  },
  {
   "cell_type": "code",
   "execution_count": 64,
   "metadata": {},
   "outputs": [],
   "source": [
    "#Check a numeric variable\n",
    "#data1['PUBTIME'].unique()"
   ]
  },
  {
   "cell_type": "markdown",
   "metadata": {},
   "source": [
    "## Keep Only Latest Vehicle Information"
   ]
  },
  {
   "cell_type": "code",
   "execution_count": 65,
   "metadata": {},
   "outputs": [
    {
     "data": {
      "text/plain": [
       "VEHOWNED  VEHOWNMO\n",
       "-7        -1              71\n",
       "-8        -1              29\n",
       "-9        -1              77\n",
       "01        -1          482439\n",
       "02        -7             413\n",
       "          -8             329\n",
       "          -9               7\n",
       "          0             3721\n",
       "          01            9943\n",
       "          02            8565\n",
       "          03            8966\n",
       "          04            8399\n",
       "          05            7309\n",
       "          06           10461\n",
       "          07            6179\n",
       "          08            7442\n",
       "          09            6537\n",
       "          10            7182\n",
       "          11            5760\n",
       "Name: VEHOWNMO, dtype: int64"
      ]
     },
     "execution_count": 65,
     "metadata": {},
     "output_type": "execute_result"
    }
   ],
   "source": [
    "data1.groupby(['VEHOWNED','VEHOWNMO'])['VEHOWNMO'].count()"
   ]
  },
  {
   "cell_type": "markdown",
   "metadata": {},
   "source": [
    "VEHOWNED : Owned Vehicle Longer than a Year\n",
    "VEHOWNMO : Months of Vehicle Ownership\n",
    "\n",
    "My intention was to keep the the latest vehicle for each person. What should I do if  a person has multiple vehicles which consists of a Don't Know, Not Ascertained and a vehicle where the time frame is provided? How do I choose the latest vehicle?\n"
   ]
  },
  {
   "cell_type": "markdown",
   "metadata": {},
   "source": [
    "## Analyze the outcome variable"
   ]
  },
  {
   "cell_type": "code",
   "execution_count": 66,
   "metadata": {},
   "outputs": [
    {
     "data": {
      "text/plain": [
       "01    544413\n",
       "03     18271\n",
       "02     10779\n",
       "97       276\n",
       "-8        81\n",
       "-7         9\n",
       "Name: FUELTYPE, dtype: int64"
      ]
     },
     "execution_count": 66,
     "metadata": {},
     "output_type": "execute_result"
    }
   ],
   "source": [
    "data1['FUELTYPE'].value_counts()"
   ]
  },
  {
   "cell_type": "markdown",
   "metadata": {},
   "source": [
    "Only 18271/573739 = 3% are using a Hybrid, electric or alternative fuel vehicle"
   ]
  },
  {
   "cell_type": "code",
   "execution_count": 67,
   "metadata": {},
   "outputs": [
    {
     "data": {
      "text/plain": [
       "-1    555558\n",
       "04     14818\n",
       "03      1349\n",
       "02      1293\n",
       "97       409\n",
       "-9       333\n",
       "01        59\n",
       "-8        10\n",
       "Name: HFUEL, dtype: int64"
      ]
     },
     "execution_count": 67,
     "metadata": {},
     "output_type": "execute_result"
    }
   ],
   "source": [
    "data1['HFUEL'].value_counts()"
   ]
  },
  {
   "cell_type": "markdown",
   "metadata": {},
   "source": [
    "Since my analysis focuses on electric vehicles, we will use the HFUEL variable to distinguish vehicle categories.\n",
    "\n",
    "The value labels for HFUEL is given below.\n",
    "\n",
    "1. -9: Not ascertained\n",
    "2. -8: I don't know\n",
    "3. -1: Appropriate skip\n",
    "4. 01: Biodiesel\n",
    "5. 02: Plug-in Hybrid (gas/electric e.g., Chevy Volt)\n",
    "6. 03: Electric (e.g. Nissan Leaf)\n",
    "7. 04: Hybrid (gas/electric, not plug-in e.g., Toyota Prius)\n",
    "8. 97: Some other fuel\n",
    "\n",
    "I plan to code \"02\" and \"03\" as electric vehicles and the rest as conventional vehicles."
   ]
  },
  {
   "cell_type": "markdown",
   "metadata": {},
   "source": [
    "## Convert Format for Variables"
   ]
  },
  {
   "cell_type": "code",
   "execution_count": 68,
   "metadata": {},
   "outputs": [],
   "source": [
    "#Get these variables\n",
    "#data_1_int =data1[[\"BIKE4EX\",\"BIKESHARE\",\"CARRODE\",\"CARSHARE\",\"CNTTDHH\",\"CNTTDTR\",\"DELIVER\",\"DRVRCNT\",\"HHSIZE\",\"HHVEHCNT\",\"LPACT\",\"MCUSED\",\"NBIKETRP\",\"NUMADLT\",\t\"NUMONTRP\",\t\"NUMTRANS\",\"NWALKTRP\",\"PTUSED\",\"RESP_CNT\",\"RIDESHARE\",\"TRPACCMP\",\"TRPHHACC\",\"VEHYEAR\",\"VPACT\",\"WALK4EX\",\"WKFMHMXX\",\"WRKCOUNT\",\"YOUNGCHILD\",\"YRTOUS\"]]"
   ]
  },
  {
   "cell_type": "code",
   "execution_count": 69,
   "metadata": {},
   "outputs": [],
   "source": [
    "#Convert type\n",
    "#data1[data_1_int.columns]=data_1_int.astype('int')"
   ]
  },
  {
   "cell_type": "code",
   "execution_count": 70,
   "metadata": {},
   "outputs": [],
   "source": [
    "#Info of data\n",
    "#data1.info()"
   ]
  },
  {
   "cell_type": "code",
   "execution_count": 71,
   "metadata": {},
   "outputs": [],
   "source": [
    "#check first few rows\n",
    "#data1.head()"
   ]
  },
  {
   "cell_type": "code",
   "execution_count": 72,
   "metadata": {},
   "outputs": [],
   "source": [
    "#check dimension\n",
    "#data1.shape"
   ]
  },
  {
   "cell_type": "markdown",
   "metadata": {},
   "source": [
    "## Make the Cells Dummies"
   ]
  },
  {
   "cell_type": "code",
   "execution_count": 73,
   "metadata": {},
   "outputs": [],
   "source": [
    "#data2 = pd.get_dummies(data1)"
   ]
  },
  {
   "cell_type": "markdown",
   "metadata": {},
   "source": [
    "Waiting to get feedback on the above codes but just trying out this code. "
   ]
  },
  {
   "cell_type": "markdown",
   "metadata": {},
   "source": [
    "## Treating NAs"
   ]
  },
  {
   "cell_type": "markdown",
   "metadata": {},
   "source": [
    "Reference: <br>\n",
    "U.S. Department of Transportation, Federal Highway Administration, 2017 National Household Travel Survey. URL: http://nhts.ornl.gov."
   ]
  },
  {
   "cell_type": "code",
   "execution_count": null,
   "metadata": {},
   "outputs": [],
   "source": []
  }
 ],
 "metadata": {
  "kernelspec": {
   "display_name": "Python 3",
   "language": "python",
   "name": "python3"
  },
  "language_info": {
   "codemirror_mode": {
    "name": "ipython",
    "version": 3
   },
   "file_extension": ".py",
   "mimetype": "text/x-python",
   "name": "python",
   "nbconvert_exporter": "python",
   "pygments_lexer": "ipython3",
   "version": "3.7.6"
  }
 },
 "nbformat": 4,
 "nbformat_minor": 4
}
