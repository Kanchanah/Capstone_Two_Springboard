{
 "cells": [
  {
   "cell_type": "markdown",
   "metadata": {},
   "source": [
    "# Capstone Two - Data Wrangling"
   ]
  },
  {
   "cell_type": "markdown",
   "metadata": {},
   "source": [
    "The dataset used was the 2017 National Household Travel Survey. This notebook will focus on the cleaning the data."
   ]
  },
  {
   "cell_type": "markdown",
   "metadata": {},
   "source": [
    "# Import packages"
   ]
  },
  {
   "cell_type": "code",
   "execution_count": 1,
   "metadata": {},
   "outputs": [],
   "source": [
    "#import packages\n",
    "import pandas as pd\n",
    "import os\n",
    "# import tabula\n",
    "import seaborn as sns\n",
    "import matplotlib.pyplot as plt\n",
    "import numpy as np"
   ]
  },
  {
   "cell_type": "markdown",
   "metadata": {},
   "source": [
    "# Set Directories & Datasets"
   ]
  },
  {
   "cell_type": "code",
   "execution_count": 2,
   "metadata": {},
   "outputs": [],
   "source": [
    "BASE_DIR = \"/Users/Avinash/Documents/Kanchanah/Springboard/Data_Science_Track/Capstone_Two_Other_Material/\"\n",
    "\n",
    "PERSON = \"Data/sas/perpub.sas7bdat\"\n",
    "HOUSEHOLD = \"Data/sas/hhpub.sas7bdat\"\n",
    "#TRIP = \"Data/sas/trippub.sas7bdat\"\n",
    "VEHICLE = \"Data/sas/vehpub.sas7bdat\""
   ]
  },
  {
   "cell_type": "markdown",
   "metadata": {},
   "source": [
    "# Read datasets"
   ]
  },
  {
   "cell_type": "markdown",
   "metadata": {},
   "source": [
    "\n",
    "The National Household Travel Survey has 4 datasets. \n",
    "\n",
    "1. The Person dataset \n",
    "2. The Household dataset\n",
    "3. The Vehicle dataset\n",
    "4. The Travel dataset\n",
    "\n",
    "We not be using the travel dataset since the information collected on travel was done different days."
   ]
  },
  {
   "cell_type": "markdown",
   "metadata": {},
   "source": [
    "## Person data"
   ]
  },
  {
   "cell_type": "code",
   "execution_count": 3,
   "metadata": {},
   "outputs": [
    {
     "name": "stdout",
     "output_type": "stream",
     "text": [
      "CPU times: user 1min 41s, sys: 11 s, total: 1min 52s\n",
      "Wall time: 1min 56s\n"
     ]
    }
   ],
   "source": [
    "%%time\n",
    "#import person data\n",
    "data_person = pd.read_sas(os.path.expanduser(os.path.join(BASE_DIR, PERSON)),\n",
    "                          format = 'sas7bdat', encoding=\"ISO-8859-1\")"
   ]
  },
  {
   "cell_type": "code",
   "execution_count": 4,
   "metadata": {},
   "outputs": [
    {
     "data": {
      "text/html": [
       "<div>\n",
       "<style scoped>\n",
       "    .dataframe tbody tr th:only-of-type {\n",
       "        vertical-align: middle;\n",
       "    }\n",
       "\n",
       "    .dataframe tbody tr th {\n",
       "        vertical-align: top;\n",
       "    }\n",
       "\n",
       "    .dataframe thead th {\n",
       "        text-align: right;\n",
       "    }\n",
       "</style>\n",
       "<table border=\"1\" class=\"dataframe\">\n",
       "  <thead>\n",
       "    <tr style=\"text-align: right;\">\n",
       "      <th></th>\n",
       "      <th>HOUSEID</th>\n",
       "      <th>PERSONID</th>\n",
       "      <th>R_AGE</th>\n",
       "      <th>EDUC</th>\n",
       "      <th>R_HISP</th>\n",
       "      <th>R_RELAT</th>\n",
       "      <th>R_SEX</th>\n",
       "      <th>R_RACE</th>\n",
       "      <th>PRMACT</th>\n",
       "      <th>PAYPROF</th>\n",
       "      <th>...</th>\n",
       "      <th>SMPLSRCE</th>\n",
       "      <th>WTPERFIN</th>\n",
       "      <th>HBHUR</th>\n",
       "      <th>HTHTNRNT</th>\n",
       "      <th>HTPPOPDN</th>\n",
       "      <th>HTRESDN</th>\n",
       "      <th>HTEEMPDN</th>\n",
       "      <th>HBHTNRNT</th>\n",
       "      <th>HBPPOPDN</th>\n",
       "      <th>HBRESDN</th>\n",
       "    </tr>\n",
       "  </thead>\n",
       "  <tbody>\n",
       "    <tr>\n",
       "      <th>0</th>\n",
       "      <td>30000007</td>\n",
       "      <td>01</td>\n",
       "      <td>67.0</td>\n",
       "      <td>03</td>\n",
       "      <td>02</td>\n",
       "      <td>01</td>\n",
       "      <td>02</td>\n",
       "      <td>02</td>\n",
       "      <td>06</td>\n",
       "      <td>02</td>\n",
       "      <td>...</td>\n",
       "      <td>02</td>\n",
       "      <td>206.690153</td>\n",
       "      <td>T</td>\n",
       "      <td>50</td>\n",
       "      <td>1500</td>\n",
       "      <td>750</td>\n",
       "      <td>750</td>\n",
       "      <td>20</td>\n",
       "      <td>750</td>\n",
       "      <td>300</td>\n",
       "    </tr>\n",
       "    <tr>\n",
       "      <th>1</th>\n",
       "      <td>30000007</td>\n",
       "      <td>02</td>\n",
       "      <td>66.0</td>\n",
       "      <td>03</td>\n",
       "      <td>02</td>\n",
       "      <td>02</td>\n",
       "      <td>01</td>\n",
       "      <td>02</td>\n",
       "      <td>01</td>\n",
       "      <td>-1</td>\n",
       "      <td>...</td>\n",
       "      <td>02</td>\n",
       "      <td>197.075742</td>\n",
       "      <td>T</td>\n",
       "      <td>50</td>\n",
       "      <td>1500</td>\n",
       "      <td>750</td>\n",
       "      <td>750</td>\n",
       "      <td>20</td>\n",
       "      <td>750</td>\n",
       "      <td>300</td>\n",
       "    </tr>\n",
       "    <tr>\n",
       "      <th>2</th>\n",
       "      <td>30000007</td>\n",
       "      <td>03</td>\n",
       "      <td>28.0</td>\n",
       "      <td>02</td>\n",
       "      <td>02</td>\n",
       "      <td>03</td>\n",
       "      <td>02</td>\n",
       "      <td>02</td>\n",
       "      <td>05</td>\n",
       "      <td>02</td>\n",
       "      <td>...</td>\n",
       "      <td>02</td>\n",
       "      <td>219.514210</td>\n",
       "      <td>T</td>\n",
       "      <td>50</td>\n",
       "      <td>1500</td>\n",
       "      <td>750</td>\n",
       "      <td>750</td>\n",
       "      <td>20</td>\n",
       "      <td>750</td>\n",
       "      <td>300</td>\n",
       "    </tr>\n",
       "    <tr>\n",
       "      <th>3</th>\n",
       "      <td>30000008</td>\n",
       "      <td>01</td>\n",
       "      <td>55.0</td>\n",
       "      <td>05</td>\n",
       "      <td>02</td>\n",
       "      <td>01</td>\n",
       "      <td>01</td>\n",
       "      <td>01</td>\n",
       "      <td>01</td>\n",
       "      <td>-1</td>\n",
       "      <td>...</td>\n",
       "      <td>02</td>\n",
       "      <td>63.185911</td>\n",
       "      <td>R</td>\n",
       "      <td>05</td>\n",
       "      <td>300</td>\n",
       "      <td>300</td>\n",
       "      <td>150</td>\n",
       "      <td>05</td>\n",
       "      <td>300</td>\n",
       "      <td>300</td>\n",
       "    </tr>\n",
       "    <tr>\n",
       "      <th>4</th>\n",
       "      <td>30000008</td>\n",
       "      <td>02</td>\n",
       "      <td>49.0</td>\n",
       "      <td>04</td>\n",
       "      <td>02</td>\n",
       "      <td>02</td>\n",
       "      <td>02</td>\n",
       "      <td>01</td>\n",
       "      <td>01</td>\n",
       "      <td>-1</td>\n",
       "      <td>...</td>\n",
       "      <td>02</td>\n",
       "      <td>58.665911</td>\n",
       "      <td>R</td>\n",
       "      <td>05</td>\n",
       "      <td>300</td>\n",
       "      <td>300</td>\n",
       "      <td>150</td>\n",
       "      <td>05</td>\n",
       "      <td>300</td>\n",
       "      <td>300</td>\n",
       "    </tr>\n",
       "  </tbody>\n",
       "</table>\n",
       "<p>5 rows × 121 columns</p>\n",
       "</div>"
      ],
      "text/plain": [
       "    HOUSEID PERSONID  R_AGE EDUC R_HISP R_RELAT R_SEX R_RACE PRMACT PAYPROF  \\\n",
       "0  30000007       01   67.0   03     02      01    02     02     06      02   \n",
       "1  30000007       02   66.0   03     02      02    01     02     01      -1   \n",
       "2  30000007       03   28.0   02     02      03    02     02     05      02   \n",
       "3  30000008       01   55.0   05     02      01    01     01     01      -1   \n",
       "4  30000008       02   49.0   04     02      02    02     01     01      -1   \n",
       "\n",
       "   ... SMPLSRCE    WTPERFIN HBHUR HTHTNRNT HTPPOPDN HTRESDN HTEEMPDN  \\\n",
       "0  ...       02  206.690153     T       50     1500     750      750   \n",
       "1  ...       02  197.075742     T       50     1500     750      750   \n",
       "2  ...       02  219.514210     T       50     1500     750      750   \n",
       "3  ...       02   63.185911     R       05      300     300      150   \n",
       "4  ...       02   58.665911     R       05      300     300      150   \n",
       "\n",
       "   HBHTNRNT  HBPPOPDN  HBRESDN  \n",
       "0        20       750      300  \n",
       "1        20       750      300  \n",
       "2        20       750      300  \n",
       "3        05       300      300  \n",
       "4        05       300      300  \n",
       "\n",
       "[5 rows x 121 columns]"
      ]
     },
     "execution_count": 4,
     "metadata": {},
     "output_type": "execute_result"
    }
   ],
   "source": [
    "#Look at first few rows\n",
    "data_person.head()"
   ]
  },
  {
   "cell_type": "code",
   "execution_count": 5,
   "metadata": {},
   "outputs": [
    {
     "data": {
      "text/plain": [
       "(264234, 121)"
      ]
     },
     "execution_count": 5,
     "metadata": {},
     "output_type": "execute_result"
    }
   ],
   "source": [
    "#Looks at dimension\n",
    "data_person.shape"
   ]
  },
  {
   "cell_type": "code",
   "execution_count": 6,
   "metadata": {},
   "outputs": [
    {
     "name": "stdout",
     "output_type": "stream",
     "text": [
      "<class 'pandas.core.frame.DataFrame'>\n",
      "RangeIndex: 264234 entries, 0 to 264233\n",
      "Columns: 121 entries, HOUSEID to HBRESDN\n",
      "dtypes: float64(31), object(90)\n",
      "memory usage: 243.9+ MB\n"
     ]
    }
   ],
   "source": [
    "#Look at data info\n",
    "data_person.info()"
   ]
  },
  {
   "cell_type": "code",
   "execution_count": 7,
   "metadata": {},
   "outputs": [],
   "source": [
    "#select appropriate variables\n",
    "\n",
    "person_var = [\"HOUSEID\",\"PERSONID\",\"CARSHARE\",\"DRVRCNT\",\"EDUC\",\"GT1JBLWK\",\"OCCAT\",\"R_AGE\",\"R_HISP\",\"R_RACE\",\"R_SEX\",\"TIMETOWK\",\"WKFTPT\",\"WKRMHM\",\"YEARMILE\"]"
   ]
  },
  {
   "cell_type": "code",
   "execution_count": 8,
   "metadata": {},
   "outputs": [],
   "source": [
    "data_person = data_person[person_var]"
   ]
  },
  {
   "cell_type": "code",
   "execution_count": 9,
   "metadata": {},
   "outputs": [
    {
     "data": {
      "text/html": [
       "<div>\n",
       "<style scoped>\n",
       "    .dataframe tbody tr th:only-of-type {\n",
       "        vertical-align: middle;\n",
       "    }\n",
       "\n",
       "    .dataframe tbody tr th {\n",
       "        vertical-align: top;\n",
       "    }\n",
       "\n",
       "    .dataframe thead th {\n",
       "        text-align: right;\n",
       "    }\n",
       "</style>\n",
       "<table border=\"1\" class=\"dataframe\">\n",
       "  <thead>\n",
       "    <tr style=\"text-align: right;\">\n",
       "      <th></th>\n",
       "      <th>HOUSEID</th>\n",
       "      <th>PERSONID</th>\n",
       "      <th>EDUC</th>\n",
       "      <th>GT1JBLWK</th>\n",
       "      <th>OCCAT</th>\n",
       "      <th>R_HISP</th>\n",
       "      <th>R_RACE</th>\n",
       "      <th>R_SEX</th>\n",
       "      <th>WKFTPT</th>\n",
       "      <th>WKRMHM</th>\n",
       "    </tr>\n",
       "  </thead>\n",
       "  <tbody>\n",
       "    <tr>\n",
       "      <th>0</th>\n",
       "      <td>30000007</td>\n",
       "      <td>01</td>\n",
       "      <td>03</td>\n",
       "      <td>-1</td>\n",
       "      <td>-1</td>\n",
       "      <td>02</td>\n",
       "      <td>02</td>\n",
       "      <td>02</td>\n",
       "      <td>-1</td>\n",
       "      <td>-1</td>\n",
       "    </tr>\n",
       "    <tr>\n",
       "      <th>1</th>\n",
       "      <td>30000007</td>\n",
       "      <td>02</td>\n",
       "      <td>03</td>\n",
       "      <td>02</td>\n",
       "      <td>02</td>\n",
       "      <td>02</td>\n",
       "      <td>02</td>\n",
       "      <td>01</td>\n",
       "      <td>01</td>\n",
       "      <td>02</td>\n",
       "    </tr>\n",
       "    <tr>\n",
       "      <th>2</th>\n",
       "      <td>30000007</td>\n",
       "      <td>03</td>\n",
       "      <td>02</td>\n",
       "      <td>-1</td>\n",
       "      <td>-1</td>\n",
       "      <td>02</td>\n",
       "      <td>02</td>\n",
       "      <td>02</td>\n",
       "      <td>-1</td>\n",
       "      <td>-1</td>\n",
       "    </tr>\n",
       "    <tr>\n",
       "      <th>3</th>\n",
       "      <td>30000008</td>\n",
       "      <td>01</td>\n",
       "      <td>05</td>\n",
       "      <td>02</td>\n",
       "      <td>04</td>\n",
       "      <td>02</td>\n",
       "      <td>01</td>\n",
       "      <td>01</td>\n",
       "      <td>01</td>\n",
       "      <td>02</td>\n",
       "    </tr>\n",
       "    <tr>\n",
       "      <th>4</th>\n",
       "      <td>30000008</td>\n",
       "      <td>02</td>\n",
       "      <td>04</td>\n",
       "      <td>02</td>\n",
       "      <td>02</td>\n",
       "      <td>02</td>\n",
       "      <td>01</td>\n",
       "      <td>02</td>\n",
       "      <td>01</td>\n",
       "      <td>02</td>\n",
       "    </tr>\n",
       "  </tbody>\n",
       "</table>\n",
       "</div>"
      ],
      "text/plain": [
       "    HOUSEID PERSONID EDUC GT1JBLWK OCCAT R_HISP R_RACE R_SEX WKFTPT WKRMHM\n",
       "0  30000007       01   03       -1    -1     02     02    02     -1     -1\n",
       "1  30000007       02   03       02    02     02     02    01     01     02\n",
       "2  30000007       03   02       -1    -1     02     02    02     -1     -1\n",
       "3  30000008       01   05       02    04     02     01    01     01     02\n",
       "4  30000008       02   04       02    02     02     01    02     01     02"
      ]
     },
     "execution_count": 9,
     "metadata": {},
     "output_type": "execute_result"
    }
   ],
   "source": [
    "#Select string variables\n",
    "data_person_obj = data_person.select_dtypes(['object'])\n",
    "data_person_obj.head()"
   ]
  },
  {
   "cell_type": "code",
   "execution_count": 10,
   "metadata": {},
   "outputs": [],
   "source": [
    "#Remove trailing or leading spaces\n",
    "data_person[data_person_obj.columns] = data_person_obj.apply(lambda x: x.str.strip())"
   ]
  },
  {
   "cell_type": "code",
   "execution_count": 11,
   "metadata": {},
   "outputs": [
    {
     "data": {
      "text/plain": [
       "(264234, 15)"
      ]
     },
     "execution_count": 11,
     "metadata": {},
     "output_type": "execute_result"
    }
   ],
   "source": [
    "#Look at dimension\n",
    "data_person.shape"
   ]
  },
  {
   "cell_type": "code",
   "execution_count": 12,
   "metadata": {},
   "outputs": [
    {
     "name": "stdout",
     "output_type": "stream",
     "text": [
      "<class 'pandas.core.frame.DataFrame'>\n",
      "RangeIndex: 264234 entries, 0 to 264233\n",
      "Data columns (total 15 columns):\n",
      " #   Column    Non-Null Count   Dtype  \n",
      "---  ------    --------------   -----  \n",
      " 0   HOUSEID   264234 non-null  object \n",
      " 1   PERSONID  264234 non-null  object \n",
      " 2   CARSHARE  264234 non-null  float64\n",
      " 3   DRVRCNT   264234 non-null  float64\n",
      " 4   EDUC      264234 non-null  object \n",
      " 5   GT1JBLWK  264234 non-null  object \n",
      " 6   OCCAT     264234 non-null  object \n",
      " 7   R_AGE     264234 non-null  float64\n",
      " 8   R_HISP    264234 non-null  object \n",
      " 9   R_RACE    264234 non-null  object \n",
      " 10  R_SEX     264234 non-null  object \n",
      " 11  TIMETOWK  264234 non-null  float64\n",
      " 12  WKFTPT    264234 non-null  object \n",
      " 13  WKRMHM    264234 non-null  object \n",
      " 14  YEARMILE  264234 non-null  float64\n",
      "dtypes: float64(5), object(10)\n",
      "memory usage: 30.2+ MB\n"
     ]
    }
   ],
   "source": [
    "\n",
    "#Look at data info\n",
    "data_person.info()"
   ]
  },
  {
   "cell_type": "markdown",
   "metadata": {},
   "source": [
    "## Household data"
   ]
  },
  {
   "cell_type": "code",
   "execution_count": 13,
   "metadata": {},
   "outputs": [
    {
     "name": "stdout",
     "output_type": "stream",
     "text": [
      "CPU times: user 23.5 s, sys: 2.03 s, total: 25.6 s\n",
      "Wall time: 27.3 s\n"
     ]
    }
   ],
   "source": [
    "%%time\n",
    "#import household data\n",
    "data_hh = pd.read_sas(os.path.expanduser(os.path.join(BASE_DIR, HOUSEHOLD)),\n",
    "                          format = 'sas7bdat', encoding=\"ISO-8859-1\")"
   ]
  },
  {
   "cell_type": "code",
   "execution_count": 14,
   "metadata": {},
   "outputs": [
    {
     "data": {
      "text/html": [
       "<div>\n",
       "<style scoped>\n",
       "    .dataframe tbody tr th:only-of-type {\n",
       "        vertical-align: middle;\n",
       "    }\n",
       "\n",
       "    .dataframe tbody tr th {\n",
       "        vertical-align: top;\n",
       "    }\n",
       "\n",
       "    .dataframe thead th {\n",
       "        text-align: right;\n",
       "    }\n",
       "</style>\n",
       "<table border=\"1\" class=\"dataframe\">\n",
       "  <thead>\n",
       "    <tr style=\"text-align: right;\">\n",
       "      <th></th>\n",
       "      <th>HOUSEID</th>\n",
       "      <th>TRAVDAY</th>\n",
       "      <th>SAMPSTRAT</th>\n",
       "      <th>HOMEOWN</th>\n",
       "      <th>HHSIZE</th>\n",
       "      <th>HHVEHCNT</th>\n",
       "      <th>HHFAMINC</th>\n",
       "      <th>PC</th>\n",
       "      <th>SPHONE</th>\n",
       "      <th>TAB</th>\n",
       "      <th>...</th>\n",
       "      <th>SMPLSRCE</th>\n",
       "      <th>WTHHFIN</th>\n",
       "      <th>HBHUR</th>\n",
       "      <th>HTHTNRNT</th>\n",
       "      <th>HTPPOPDN</th>\n",
       "      <th>HTRESDN</th>\n",
       "      <th>HTEEMPDN</th>\n",
       "      <th>HBHTNRNT</th>\n",
       "      <th>HBPPOPDN</th>\n",
       "      <th>HBRESDN</th>\n",
       "    </tr>\n",
       "  </thead>\n",
       "  <tbody>\n",
       "    <tr>\n",
       "      <th>0</th>\n",
       "      <td>30000007</td>\n",
       "      <td>02</td>\n",
       "      <td>03</td>\n",
       "      <td>01</td>\n",
       "      <td>3.0</td>\n",
       "      <td>5.0</td>\n",
       "      <td>07</td>\n",
       "      <td>02</td>\n",
       "      <td>01</td>\n",
       "      <td>02</td>\n",
       "      <td>...</td>\n",
       "      <td>02</td>\n",
       "      <td>187.314320</td>\n",
       "      <td>T</td>\n",
       "      <td>50</td>\n",
       "      <td>1500</td>\n",
       "      <td>750</td>\n",
       "      <td>750</td>\n",
       "      <td>20</td>\n",
       "      <td>750</td>\n",
       "      <td>300</td>\n",
       "    </tr>\n",
       "    <tr>\n",
       "      <th>1</th>\n",
       "      <td>30000008</td>\n",
       "      <td>05</td>\n",
       "      <td>02</td>\n",
       "      <td>01</td>\n",
       "      <td>2.0</td>\n",
       "      <td>4.0</td>\n",
       "      <td>08</td>\n",
       "      <td>01</td>\n",
       "      <td>01</td>\n",
       "      <td>02</td>\n",
       "      <td>...</td>\n",
       "      <td>02</td>\n",
       "      <td>69.513032</td>\n",
       "      <td>R</td>\n",
       "      <td>05</td>\n",
       "      <td>300</td>\n",
       "      <td>300</td>\n",
       "      <td>150</td>\n",
       "      <td>05</td>\n",
       "      <td>300</td>\n",
       "      <td>300</td>\n",
       "    </tr>\n",
       "    <tr>\n",
       "      <th>2</th>\n",
       "      <td>30000012</td>\n",
       "      <td>05</td>\n",
       "      <td>03</td>\n",
       "      <td>01</td>\n",
       "      <td>1.0</td>\n",
       "      <td>2.0</td>\n",
       "      <td>10</td>\n",
       "      <td>01</td>\n",
       "      <td>01</td>\n",
       "      <td>03</td>\n",
       "      <td>...</td>\n",
       "      <td>02</td>\n",
       "      <td>79.419586</td>\n",
       "      <td>C</td>\n",
       "      <td>80</td>\n",
       "      <td>17000</td>\n",
       "      <td>17000</td>\n",
       "      <td>5000</td>\n",
       "      <td>60</td>\n",
       "      <td>17000</td>\n",
       "      <td>7000</td>\n",
       "    </tr>\n",
       "    <tr>\n",
       "      <th>3</th>\n",
       "      <td>30000019</td>\n",
       "      <td>05</td>\n",
       "      <td>03</td>\n",
       "      <td>01</td>\n",
       "      <td>2.0</td>\n",
       "      <td>2.0</td>\n",
       "      <td>03</td>\n",
       "      <td>01</td>\n",
       "      <td>05</td>\n",
       "      <td>05</td>\n",
       "      <td>...</td>\n",
       "      <td>02</td>\n",
       "      <td>279.143588</td>\n",
       "      <td>S</td>\n",
       "      <td>40</td>\n",
       "      <td>300</td>\n",
       "      <td>300</td>\n",
       "      <td>150</td>\n",
       "      <td>50</td>\n",
       "      <td>750</td>\n",
       "      <td>300</td>\n",
       "    </tr>\n",
       "    <tr>\n",
       "      <th>4</th>\n",
       "      <td>30000029</td>\n",
       "      <td>03</td>\n",
       "      <td>03</td>\n",
       "      <td>01</td>\n",
       "      <td>2.0</td>\n",
       "      <td>2.0</td>\n",
       "      <td>05</td>\n",
       "      <td>02</td>\n",
       "      <td>05</td>\n",
       "      <td>01</td>\n",
       "      <td>...</td>\n",
       "      <td>02</td>\n",
       "      <td>103.240304</td>\n",
       "      <td>S</td>\n",
       "      <td>40</td>\n",
       "      <td>1500</td>\n",
       "      <td>750</td>\n",
       "      <td>750</td>\n",
       "      <td>40</td>\n",
       "      <td>1500</td>\n",
       "      <td>750</td>\n",
       "    </tr>\n",
       "  </tbody>\n",
       "</table>\n",
       "<p>5 rows × 58 columns</p>\n",
       "</div>"
      ],
      "text/plain": [
       "    HOUSEID TRAVDAY SAMPSTRAT HOMEOWN  HHSIZE  HHVEHCNT HHFAMINC  PC SPHONE  \\\n",
       "0  30000007      02        03      01     3.0       5.0       07  02     01   \n",
       "1  30000008      05        02      01     2.0       4.0       08  01     01   \n",
       "2  30000012      05        03      01     1.0       2.0       10  01     01   \n",
       "3  30000019      05        03      01     2.0       2.0       03  01     05   \n",
       "4  30000029      03        03      01     2.0       2.0       05  02     05   \n",
       "\n",
       "  TAB  ... SMPLSRCE     WTHHFIN HBHUR HTHTNRNT HTPPOPDN HTRESDN HTEEMPDN  \\\n",
       "0  02  ...       02  187.314320     T       50     1500     750      750   \n",
       "1  02  ...       02   69.513032     R       05      300     300      150   \n",
       "2  03  ...       02   79.419586     C       80    17000   17000     5000   \n",
       "3  05  ...       02  279.143588     S       40      300     300      150   \n",
       "4  01  ...       02  103.240304     S       40     1500     750      750   \n",
       "\n",
       "  HBHTNRNT HBPPOPDN HBRESDN  \n",
       "0       20      750     300  \n",
       "1       05      300     300  \n",
       "2       60    17000    7000  \n",
       "3       50      750     300  \n",
       "4       40     1500     750  \n",
       "\n",
       "[5 rows x 58 columns]"
      ]
     },
     "execution_count": 14,
     "metadata": {},
     "output_type": "execute_result"
    }
   ],
   "source": [
    "\n",
    "#Look at first few rows\n",
    "data_hh.head()"
   ]
  },
  {
   "cell_type": "code",
   "execution_count": 15,
   "metadata": {},
   "outputs": [
    {
     "data": {
      "text/plain": [
       "(129696, 58)"
      ]
     },
     "execution_count": 15,
     "metadata": {},
     "output_type": "execute_result"
    }
   ],
   "source": [
    "#Look at dimension\n",
    "data_hh.shape"
   ]
  },
  {
   "cell_type": "code",
   "execution_count": 16,
   "metadata": {},
   "outputs": [
    {
     "name": "stdout",
     "output_type": "stream",
     "text": [
      "<class 'pandas.core.frame.DataFrame'>\n",
      "RangeIndex: 129696 entries, 0 to 129695\n",
      "Data columns (total 58 columns):\n",
      " #   Column      Non-Null Count   Dtype  \n",
      "---  ------      --------------   -----  \n",
      " 0   HOUSEID     129696 non-null  object \n",
      " 1   TRAVDAY     129696 non-null  object \n",
      " 2   SAMPSTRAT   129696 non-null  object \n",
      " 3   HOMEOWN     129696 non-null  object \n",
      " 4   HHSIZE      129696 non-null  float64\n",
      " 5   HHVEHCNT    129696 non-null  float64\n",
      " 6   HHFAMINC    129696 non-null  object \n",
      " 7   PC          129696 non-null  object \n",
      " 8   SPHONE      129696 non-null  object \n",
      " 9   TAB         129696 non-null  object \n",
      " 10  WALK        129696 non-null  object \n",
      " 11  BIKE        129696 non-null  object \n",
      " 12  CAR         129696 non-null  object \n",
      " 13  TAXI        129696 non-null  object \n",
      " 14  BUS         129696 non-null  object \n",
      " 15  TRAIN       129696 non-null  object \n",
      " 16  PARA        129696 non-null  object \n",
      " 17  PRICE       129696 non-null  object \n",
      " 18  PLACE       129696 non-null  object \n",
      " 19  WALK2SAVE   129696 non-null  object \n",
      " 20  BIKE2SAVE   129696 non-null  object \n",
      " 21  PTRANS      129696 non-null  object \n",
      " 22  HHRELATD    129696 non-null  object \n",
      " 23  DRVRCNT     129696 non-null  float64\n",
      " 24  CNTTDHH     129696 non-null  float64\n",
      " 25  HHSTATE     129696 non-null  object \n",
      " 26  HHSTFIPS    129696 non-null  object \n",
      " 27  NUMADLT     129696 non-null  float64\n",
      " 28  YOUNGCHILD  129696 non-null  float64\n",
      " 29  WRKCOUNT    129696 non-null  float64\n",
      " 30  TDAYDATE    129696 non-null  object \n",
      " 31  HHRESP      129696 non-null  object \n",
      " 32  LIF_CYC     129696 non-null  object \n",
      " 33  MSACAT      129696 non-null  object \n",
      " 34  MSASIZE     129696 non-null  object \n",
      " 35  RAIL        129696 non-null  object \n",
      " 36  URBAN       129696 non-null  object \n",
      " 37  URBANSIZE   129696 non-null  object \n",
      " 38  URBRUR      129696 non-null  object \n",
      " 39  SCRESP      129696 non-null  object \n",
      " 40  CENSUS_D    129696 non-null  object \n",
      " 41  CENSUS_R    129696 non-null  object \n",
      " 42  CDIVMSAR    129696 non-null  object \n",
      " 43  HH_RACE     129696 non-null  object \n",
      " 44  HH_HISP     129696 non-null  object \n",
      " 45  HH_CBSA     129696 non-null  object \n",
      " 46  RESP_CNT    129696 non-null  float64\n",
      " 47  WEBUSE17    129696 non-null  object \n",
      " 48  SMPLSRCE    129696 non-null  object \n",
      " 49  WTHHFIN     129696 non-null  float64\n",
      " 50  HBHUR       129696 non-null  object \n",
      " 51  HTHTNRNT    129696 non-null  object \n",
      " 52  HTPPOPDN    129696 non-null  object \n",
      " 53  HTRESDN     129696 non-null  object \n",
      " 54  HTEEMPDN    129696 non-null  object \n",
      " 55  HBHTNRNT    129696 non-null  object \n",
      " 56  HBPPOPDN    129696 non-null  object \n",
      " 57  HBRESDN     129696 non-null  object \n",
      "dtypes: float64(9), object(49)\n",
      "memory usage: 57.4+ MB\n"
     ]
    }
   ],
   "source": [
    "#Look at data info\n",
    "data_hh.info()"
   ]
  },
  {
   "cell_type": "code",
   "execution_count": 17,
   "metadata": {},
   "outputs": [],
   "source": [
    "hh_var = [\"HOUSEID\",\"CAR\",\"HBHUR\",\"HBPPOPDN\",\"HBRESDN\",\"HHFAMINC\",\"HHSIZE\",\"HHSTATE\",\"HHVEHCNT\",\"HOMEOWN\",\"PLACE\",\"PRICE\",\"WRKCOUNT\",\"YOUNGCHILD\"]"
   ]
  },
  {
   "cell_type": "code",
   "execution_count": 18,
   "metadata": {},
   "outputs": [],
   "source": [
    "data_hh = data_hh[hh_var]"
   ]
  },
  {
   "cell_type": "code",
   "execution_count": 19,
   "metadata": {},
   "outputs": [
    {
     "data": {
      "text/html": [
       "<div>\n",
       "<style scoped>\n",
       "    .dataframe tbody tr th:only-of-type {\n",
       "        vertical-align: middle;\n",
       "    }\n",
       "\n",
       "    .dataframe tbody tr th {\n",
       "        vertical-align: top;\n",
       "    }\n",
       "\n",
       "    .dataframe thead th {\n",
       "        text-align: right;\n",
       "    }\n",
       "</style>\n",
       "<table border=\"1\" class=\"dataframe\">\n",
       "  <thead>\n",
       "    <tr style=\"text-align: right;\">\n",
       "      <th></th>\n",
       "      <th>HOUSEID</th>\n",
       "      <th>CAR</th>\n",
       "      <th>HBHUR</th>\n",
       "      <th>HBPPOPDN</th>\n",
       "      <th>HBRESDN</th>\n",
       "      <th>HHFAMINC</th>\n",
       "      <th>HHSTATE</th>\n",
       "      <th>HOMEOWN</th>\n",
       "      <th>PLACE</th>\n",
       "      <th>PRICE</th>\n",
       "    </tr>\n",
       "  </thead>\n",
       "  <tbody>\n",
       "    <tr>\n",
       "      <th>0</th>\n",
       "      <td>30000007</td>\n",
       "      <td>01</td>\n",
       "      <td>T</td>\n",
       "      <td>750</td>\n",
       "      <td>300</td>\n",
       "      <td>07</td>\n",
       "      <td>NC</td>\n",
       "      <td>01</td>\n",
       "      <td>02</td>\n",
       "      <td>01</td>\n",
       "    </tr>\n",
       "    <tr>\n",
       "      <th>1</th>\n",
       "      <td>30000008</td>\n",
       "      <td>01</td>\n",
       "      <td>R</td>\n",
       "      <td>300</td>\n",
       "      <td>300</td>\n",
       "      <td>08</td>\n",
       "      <td>WI</td>\n",
       "      <td>01</td>\n",
       "      <td>02</td>\n",
       "      <td>05</td>\n",
       "    </tr>\n",
       "    <tr>\n",
       "      <th>2</th>\n",
       "      <td>30000012</td>\n",
       "      <td>01</td>\n",
       "      <td>C</td>\n",
       "      <td>17000</td>\n",
       "      <td>7000</td>\n",
       "      <td>10</td>\n",
       "      <td>NY</td>\n",
       "      <td>01</td>\n",
       "      <td>01</td>\n",
       "      <td>02</td>\n",
       "    </tr>\n",
       "    <tr>\n",
       "      <th>3</th>\n",
       "      <td>30000019</td>\n",
       "      <td>01</td>\n",
       "      <td>S</td>\n",
       "      <td>750</td>\n",
       "      <td>300</td>\n",
       "      <td>03</td>\n",
       "      <td>MD</td>\n",
       "      <td>01</td>\n",
       "      <td>03</td>\n",
       "      <td>02</td>\n",
       "    </tr>\n",
       "    <tr>\n",
       "      <th>4</th>\n",
       "      <td>30000029</td>\n",
       "      <td>01</td>\n",
       "      <td>S</td>\n",
       "      <td>1500</td>\n",
       "      <td>750</td>\n",
       "      <td>05</td>\n",
       "      <td>WI</td>\n",
       "      <td>01</td>\n",
       "      <td>02</td>\n",
       "      <td>03</td>\n",
       "    </tr>\n",
       "  </tbody>\n",
       "</table>\n",
       "</div>"
      ],
      "text/plain": [
       "    HOUSEID CAR HBHUR HBPPOPDN HBRESDN HHFAMINC HHSTATE HOMEOWN PLACE PRICE\n",
       "0  30000007  01     T      750     300       07      NC      01    02    01\n",
       "1  30000008  01     R      300     300       08      WI      01    02    05\n",
       "2  30000012  01     C    17000    7000       10      NY      01    01    02\n",
       "3  30000019  01     S      750     300       03      MD      01    03    02\n",
       "4  30000029  01     S     1500     750       05      WI      01    02    03"
      ]
     },
     "execution_count": 19,
     "metadata": {},
     "output_type": "execute_result"
    }
   ],
   "source": [
    "#Select string variables\n",
    "data_hh_obj = data_hh.select_dtypes(['object'])\n",
    "data_hh_obj.head()"
   ]
  },
  {
   "cell_type": "code",
   "execution_count": 20,
   "metadata": {},
   "outputs": [],
   "source": [
    "#Remove trailing or leading spaces\n",
    "data_hh[data_hh_obj.columns] = data_hh_obj.apply(lambda x: x.str.strip())"
   ]
  },
  {
   "cell_type": "code",
   "execution_count": 21,
   "metadata": {},
   "outputs": [
    {
     "data": {
      "text/plain": [
       "(129696, 14)"
      ]
     },
     "execution_count": 21,
     "metadata": {},
     "output_type": "execute_result"
    }
   ],
   "source": [
    "#Look at dimension\n",
    "data_hh.shape"
   ]
  },
  {
   "cell_type": "code",
   "execution_count": 22,
   "metadata": {
    "scrolled": true
   },
   "outputs": [
    {
     "name": "stdout",
     "output_type": "stream",
     "text": [
      "<class 'pandas.core.frame.DataFrame'>\n",
      "RangeIndex: 129696 entries, 0 to 129695\n",
      "Data columns (total 14 columns):\n",
      " #   Column      Non-Null Count   Dtype  \n",
      "---  ------      --------------   -----  \n",
      " 0   HOUSEID     129696 non-null  object \n",
      " 1   CAR         129696 non-null  object \n",
      " 2   HBHUR       129696 non-null  object \n",
      " 3   HBPPOPDN    129696 non-null  object \n",
      " 4   HBRESDN     129696 non-null  object \n",
      " 5   HHFAMINC    129696 non-null  object \n",
      " 6   HHSIZE      129696 non-null  float64\n",
      " 7   HHSTATE     129696 non-null  object \n",
      " 8   HHVEHCNT    129696 non-null  float64\n",
      " 9   HOMEOWN     129696 non-null  object \n",
      " 10  PLACE       129696 non-null  object \n",
      " 11  PRICE       129696 non-null  object \n",
      " 12  WRKCOUNT    129696 non-null  float64\n",
      " 13  YOUNGCHILD  129696 non-null  float64\n",
      "dtypes: float64(4), object(10)\n",
      "memory usage: 13.9+ MB\n"
     ]
    }
   ],
   "source": [
    "#Look at data info\n",
    "data_hh.info()"
   ]
  },
  {
   "cell_type": "markdown",
   "metadata": {},
   "source": [
    "## Vehicle data"
   ]
  },
  {
   "cell_type": "code",
   "execution_count": 23,
   "metadata": {},
   "outputs": [
    {
     "name": "stdout",
     "output_type": "stream",
     "text": [
      "CPU times: user 39.5 s, sys: 3.36 s, total: 42.8 s\n",
      "Wall time: 45 s\n"
     ]
    }
   ],
   "source": [
    "%%time\n",
    "#import vehicle data\n",
    "data_veh = pd.read_sas(os.path.expanduser(os.path.join(BASE_DIR, VEHICLE)),\n",
    "                          format = 'sas7bdat', encoding=\"ISO-8859-1\")"
   ]
  },
  {
   "cell_type": "code",
   "execution_count": 24,
   "metadata": {},
   "outputs": [
    {
     "data": {
      "text/html": [
       "<div>\n",
       "<style scoped>\n",
       "    .dataframe tbody tr th:only-of-type {\n",
       "        vertical-align: middle;\n",
       "    }\n",
       "\n",
       "    .dataframe tbody tr th {\n",
       "        vertical-align: top;\n",
       "    }\n",
       "\n",
       "    .dataframe thead th {\n",
       "        text-align: right;\n",
       "    }\n",
       "</style>\n",
       "<table border=\"1\" class=\"dataframe\">\n",
       "  <thead>\n",
       "    <tr style=\"text-align: right;\">\n",
       "      <th></th>\n",
       "      <th>HOUSEID</th>\n",
       "      <th>VEHID</th>\n",
       "      <th>VEHYEAR</th>\n",
       "      <th>VEHAGE</th>\n",
       "      <th>MAKE</th>\n",
       "      <th>MODEL</th>\n",
       "      <th>FUELTYPE</th>\n",
       "      <th>VEHTYPE</th>\n",
       "      <th>WHOMAIN</th>\n",
       "      <th>OD_READ</th>\n",
       "      <th>...</th>\n",
       "      <th>HTEEMPDN</th>\n",
       "      <th>HBHTNRNT</th>\n",
       "      <th>HBPPOPDN</th>\n",
       "      <th>HBRESDN</th>\n",
       "      <th>GSYRGAL</th>\n",
       "      <th>GSTOTCST</th>\n",
       "      <th>FEGEMPG</th>\n",
       "      <th>FEGEMPGA</th>\n",
       "      <th>GSCOST</th>\n",
       "      <th>FEGEMPGF</th>\n",
       "    </tr>\n",
       "  </thead>\n",
       "  <tbody>\n",
       "    <tr>\n",
       "      <th>0</th>\n",
       "      <td>30000007</td>\n",
       "      <td>01</td>\n",
       "      <td>2007.0</td>\n",
       "      <td>10.0</td>\n",
       "      <td>49</td>\n",
       "      <td>49032</td>\n",
       "      <td>01</td>\n",
       "      <td>01</td>\n",
       "      <td>03</td>\n",
       "      <td>69000.0</td>\n",
       "      <td>...</td>\n",
       "      <td>750</td>\n",
       "      <td>20</td>\n",
       "      <td>750</td>\n",
       "      <td>300</td>\n",
       "      <td>487.064221</td>\n",
       "      <td>1126.457778</td>\n",
       "      <td>30.0</td>\n",
       "      <td>-9.0</td>\n",
       "      <td>2.31275</td>\n",
       "      <td>01</td>\n",
       "    </tr>\n",
       "    <tr>\n",
       "      <th>1</th>\n",
       "      <td>30000007</td>\n",
       "      <td>02</td>\n",
       "      <td>2004.0</td>\n",
       "      <td>13.0</td>\n",
       "      <td>49</td>\n",
       "      <td>49442</td>\n",
       "      <td>01</td>\n",
       "      <td>02</td>\n",
       "      <td>-8</td>\n",
       "      <td>164000.0</td>\n",
       "      <td>...</td>\n",
       "      <td>750</td>\n",
       "      <td>20</td>\n",
       "      <td>750</td>\n",
       "      <td>300</td>\n",
       "      <td>250.899523</td>\n",
       "      <td>580.267873</td>\n",
       "      <td>19.0</td>\n",
       "      <td>-9.0</td>\n",
       "      <td>2.31275</td>\n",
       "      <td>01</td>\n",
       "    </tr>\n",
       "    <tr>\n",
       "      <th>2</th>\n",
       "      <td>30000007</td>\n",
       "      <td>03</td>\n",
       "      <td>1998.0</td>\n",
       "      <td>19.0</td>\n",
       "      <td>19</td>\n",
       "      <td>19014</td>\n",
       "      <td>01</td>\n",
       "      <td>01</td>\n",
       "      <td>01</td>\n",
       "      <td>120000.0</td>\n",
       "      <td>...</td>\n",
       "      <td>750</td>\n",
       "      <td>20</td>\n",
       "      <td>750</td>\n",
       "      <td>300</td>\n",
       "      <td>444.462475</td>\n",
       "      <td>1027.930589</td>\n",
       "      <td>18.0</td>\n",
       "      <td>-9.0</td>\n",
       "      <td>2.31275</td>\n",
       "      <td>01</td>\n",
       "    </tr>\n",
       "    <tr>\n",
       "      <th>3</th>\n",
       "      <td>30000007</td>\n",
       "      <td>04</td>\n",
       "      <td>1997.0</td>\n",
       "      <td>20.0</td>\n",
       "      <td>19</td>\n",
       "      <td>19021</td>\n",
       "      <td>01</td>\n",
       "      <td>01</td>\n",
       "      <td>02</td>\n",
       "      <td>-88.0</td>\n",
       "      <td>...</td>\n",
       "      <td>750</td>\n",
       "      <td>20</td>\n",
       "      <td>750</td>\n",
       "      <td>300</td>\n",
       "      <td>40.329575</td>\n",
       "      <td>93.272224</td>\n",
       "      <td>18.0</td>\n",
       "      <td>-9.0</td>\n",
       "      <td>2.31275</td>\n",
       "      <td>01</td>\n",
       "    </tr>\n",
       "    <tr>\n",
       "      <th>4</th>\n",
       "      <td>30000007</td>\n",
       "      <td>05</td>\n",
       "      <td>1993.0</td>\n",
       "      <td>24.0</td>\n",
       "      <td>20</td>\n",
       "      <td>20481</td>\n",
       "      <td>01</td>\n",
       "      <td>04</td>\n",
       "      <td>02</td>\n",
       "      <td>300000.0</td>\n",
       "      <td>...</td>\n",
       "      <td>750</td>\n",
       "      <td>20</td>\n",
       "      <td>750</td>\n",
       "      <td>300</td>\n",
       "      <td>888.404197</td>\n",
       "      <td>2054.656806</td>\n",
       "      <td>14.0</td>\n",
       "      <td>-9.0</td>\n",
       "      <td>2.31275</td>\n",
       "      <td>01</td>\n",
       "    </tr>\n",
       "  </tbody>\n",
       "</table>\n",
       "<p>5 rows × 60 columns</p>\n",
       "</div>"
      ],
      "text/plain": [
       "    HOUSEID VEHID  VEHYEAR  VEHAGE MAKE  MODEL FUELTYPE VEHTYPE WHOMAIN  \\\n",
       "0  30000007    01   2007.0    10.0   49  49032       01      01      03   \n",
       "1  30000007    02   2004.0    13.0   49  49442       01      02      -8   \n",
       "2  30000007    03   1998.0    19.0   19  19014       01      01      01   \n",
       "3  30000007    04   1997.0    20.0   19  19021       01      01      02   \n",
       "4  30000007    05   1993.0    24.0   20  20481       01      04      02   \n",
       "\n",
       "    OD_READ  ... HTEEMPDN HBHTNRNT HBPPOPDN  HBRESDN     GSYRGAL     GSTOTCST  \\\n",
       "0   69000.0  ...      750       20      750      300  487.064221  1126.457778   \n",
       "1  164000.0  ...      750       20      750      300  250.899523   580.267873   \n",
       "2  120000.0  ...      750       20      750      300  444.462475  1027.930589   \n",
       "3     -88.0  ...      750       20      750      300   40.329575    93.272224   \n",
       "4  300000.0  ...      750       20      750      300  888.404197  2054.656806   \n",
       "\n",
       "  FEGEMPG FEGEMPGA   GSCOST  FEGEMPGF  \n",
       "0    30.0     -9.0  2.31275        01  \n",
       "1    19.0     -9.0  2.31275        01  \n",
       "2    18.0     -9.0  2.31275        01  \n",
       "3    18.0     -9.0  2.31275        01  \n",
       "4    14.0     -9.0  2.31275        01  \n",
       "\n",
       "[5 rows x 60 columns]"
      ]
     },
     "execution_count": 24,
     "metadata": {},
     "output_type": "execute_result"
    }
   ],
   "source": [
    "#Look at first few rows\n",
    "data_veh.head()"
   ]
  },
  {
   "cell_type": "code",
   "execution_count": 25,
   "metadata": {},
   "outputs": [
    {
     "data": {
      "text/plain": [
       "(256115, 60)"
      ]
     },
     "execution_count": 25,
     "metadata": {},
     "output_type": "execute_result"
    }
   ],
   "source": [
    "#Look at dimension\n",
    "data_veh.shape"
   ]
  },
  {
   "cell_type": "code",
   "execution_count": 26,
   "metadata": {},
   "outputs": [
    {
     "name": "stdout",
     "output_type": "stream",
     "text": [
      "<class 'pandas.core.frame.DataFrame'>\n",
      "RangeIndex: 256115 entries, 0 to 256114\n",
      "Data columns (total 60 columns):\n",
      " #   Column     Non-Null Count   Dtype  \n",
      "---  ------     --------------   -----  \n",
      " 0   HOUSEID    256115 non-null  object \n",
      " 1   VEHID      256115 non-null  object \n",
      " 2   VEHYEAR    256115 non-null  float64\n",
      " 3   VEHAGE     256115 non-null  float64\n",
      " 4   MAKE       256115 non-null  object \n",
      " 5   MODEL      256115 non-null  object \n",
      " 6   FUELTYPE   256115 non-null  object \n",
      " 7   VEHTYPE    256115 non-null  object \n",
      " 8   WHOMAIN    256115 non-null  object \n",
      " 9   OD_READ    256115 non-null  float64\n",
      " 10  HFUEL      256115 non-null  object \n",
      " 11  VEHOWNED   256115 non-null  object \n",
      " 12  VEHOWNMO   256115 non-null  object \n",
      " 13  ANNMILES   256115 non-null  float64\n",
      " 14  HYBRID     256115 non-null  object \n",
      " 15  PERSONID   256115 non-null  object \n",
      " 16  TRAVDAY    256115 non-null  object \n",
      " 17  HOMEOWN    256115 non-null  object \n",
      " 18  HHSIZE     256115 non-null  float64\n",
      " 19  HHVEHCNT   256115 non-null  float64\n",
      " 20  HHFAMINC   256115 non-null  object \n",
      " 21  DRVRCNT    256115 non-null  float64\n",
      " 22  HHSTATE    256115 non-null  object \n",
      " 23  HHSTFIPS   256115 non-null  object \n",
      " 24  NUMADLT    256115 non-null  float64\n",
      " 25  WRKCOUNT   256115 non-null  float64\n",
      " 26  TDAYDATE   256115 non-null  object \n",
      " 27  LIF_CYC    256115 non-null  object \n",
      " 28  MSACAT     256115 non-null  object \n",
      " 29  MSASIZE    256115 non-null  object \n",
      " 30  RAIL       256115 non-null  object \n",
      " 31  URBAN      256115 non-null  object \n",
      " 32  URBANSIZE  256115 non-null  object \n",
      " 33  URBRUR     256115 non-null  object \n",
      " 34  CENSUS_D   256115 non-null  object \n",
      " 35  CENSUS_R   256115 non-null  object \n",
      " 36  CDIVMSAR   256115 non-null  object \n",
      " 37  HH_RACE    256115 non-null  object \n",
      " 38  HH_HISP    256115 non-null  object \n",
      " 39  HH_CBSA    256115 non-null  object \n",
      " 40  SMPLSRCE   256115 non-null  object \n",
      " 41  WTHHFIN    256115 non-null  float64\n",
      " 42  BESTMILE   256115 non-null  float64\n",
      " 43  BEST_FLG   256115 non-null  object \n",
      " 44  BEST_EDT   256115 non-null  object \n",
      " 45  BEST_OUT   256115 non-null  object \n",
      " 46  HBHUR      256115 non-null  object \n",
      " 47  HTHTNRNT   256115 non-null  object \n",
      " 48  HTPPOPDN   256115 non-null  object \n",
      " 49  HTRESDN    256115 non-null  object \n",
      " 50  HTEEMPDN   256115 non-null  object \n",
      " 51  HBHTNRNT   256115 non-null  object \n",
      " 52  HBPPOPDN   256115 non-null  object \n",
      " 53  HBRESDN    256115 non-null  object \n",
      " 54  GSYRGAL    256115 non-null  float64\n",
      " 55  GSTOTCST   256115 non-null  float64\n",
      " 56  FEGEMPG    256115 non-null  float64\n",
      " 57  FEGEMPGA   256115 non-null  float64\n",
      " 58  GSCOST     256115 non-null  float64\n",
      " 59  FEGEMPGF   256115 non-null  object \n",
      "dtypes: float64(16), object(44)\n",
      "memory usage: 117.2+ MB\n"
     ]
    }
   ],
   "source": [
    "\n",
    "#Look at data info\n",
    "data_veh.info()"
   ]
  },
  {
   "cell_type": "code",
   "execution_count": 27,
   "metadata": {},
   "outputs": [],
   "source": [
    "veh_var = [\"HOUSEID\", \"PERSONID\", \"VEHID\", \"HFUEL\",\"FUELTYPE\",\"VEHAGE\", \"VEHOWNED\", \"VEHOWNMO\"]"
   ]
  },
  {
   "cell_type": "code",
   "execution_count": 28,
   "metadata": {},
   "outputs": [],
   "source": [
    "data_veh = data_veh[veh_var]"
   ]
  },
  {
   "cell_type": "code",
   "execution_count": 29,
   "metadata": {},
   "outputs": [
    {
     "data": {
      "text/html": [
       "<div>\n",
       "<style scoped>\n",
       "    .dataframe tbody tr th:only-of-type {\n",
       "        vertical-align: middle;\n",
       "    }\n",
       "\n",
       "    .dataframe tbody tr th {\n",
       "        vertical-align: top;\n",
       "    }\n",
       "\n",
       "    .dataframe thead th {\n",
       "        text-align: right;\n",
       "    }\n",
       "</style>\n",
       "<table border=\"1\" class=\"dataframe\">\n",
       "  <thead>\n",
       "    <tr style=\"text-align: right;\">\n",
       "      <th></th>\n",
       "      <th>HOUSEID</th>\n",
       "      <th>PERSONID</th>\n",
       "      <th>VEHID</th>\n",
       "      <th>HFUEL</th>\n",
       "      <th>FUELTYPE</th>\n",
       "      <th>VEHOWNED</th>\n",
       "      <th>VEHOWNMO</th>\n",
       "    </tr>\n",
       "  </thead>\n",
       "  <tbody>\n",
       "    <tr>\n",
       "      <th>0</th>\n",
       "      <td>30000007</td>\n",
       "      <td>03</td>\n",
       "      <td>01</td>\n",
       "      <td>-1</td>\n",
       "      <td>01</td>\n",
       "      <td>01</td>\n",
       "      <td>-1</td>\n",
       "    </tr>\n",
       "    <tr>\n",
       "      <th>1</th>\n",
       "      <td>30000007</td>\n",
       "      <td>-8</td>\n",
       "      <td>02</td>\n",
       "      <td>-1</td>\n",
       "      <td>01</td>\n",
       "      <td>01</td>\n",
       "      <td>-1</td>\n",
       "    </tr>\n",
       "    <tr>\n",
       "      <th>2</th>\n",
       "      <td>30000007</td>\n",
       "      <td>01</td>\n",
       "      <td>03</td>\n",
       "      <td>-1</td>\n",
       "      <td>01</td>\n",
       "      <td>01</td>\n",
       "      <td>-1</td>\n",
       "    </tr>\n",
       "    <tr>\n",
       "      <th>3</th>\n",
       "      <td>30000007</td>\n",
       "      <td>02</td>\n",
       "      <td>04</td>\n",
       "      <td>-1</td>\n",
       "      <td>01</td>\n",
       "      <td>01</td>\n",
       "      <td>-1</td>\n",
       "    </tr>\n",
       "    <tr>\n",
       "      <th>4</th>\n",
       "      <td>30000007</td>\n",
       "      <td>02</td>\n",
       "      <td>05</td>\n",
       "      <td>-1</td>\n",
       "      <td>01</td>\n",
       "      <td>01</td>\n",
       "      <td>-1</td>\n",
       "    </tr>\n",
       "  </tbody>\n",
       "</table>\n",
       "</div>"
      ],
      "text/plain": [
       "    HOUSEID PERSONID VEHID HFUEL FUELTYPE VEHOWNED VEHOWNMO\n",
       "0  30000007       03    01    -1       01       01       -1\n",
       "1  30000007       -8    02    -1       01       01       -1\n",
       "2  30000007       01    03    -1       01       01       -1\n",
       "3  30000007       02    04    -1       01       01       -1\n",
       "4  30000007       02    05    -1       01       01       -1"
      ]
     },
     "execution_count": 29,
     "metadata": {},
     "output_type": "execute_result"
    }
   ],
   "source": [
    "#Select string variables\n",
    "data_veh_obj = data_veh.select_dtypes(['object'])\n",
    "data_veh_obj.head()"
   ]
  },
  {
   "cell_type": "code",
   "execution_count": 30,
   "metadata": {},
   "outputs": [],
   "source": [
    "#Remove trailing or leading spaces\n",
    "data_veh[data_veh_obj.columns] = data_veh_obj.apply(lambda x: x.str.strip())"
   ]
  },
  {
   "cell_type": "code",
   "execution_count": 31,
   "metadata": {},
   "outputs": [
    {
     "data": {
      "text/plain": [
       "(256115, 8)"
      ]
     },
     "execution_count": 31,
     "metadata": {},
     "output_type": "execute_result"
    }
   ],
   "source": [
    "#Look at dimension\n",
    "data_veh.shape"
   ]
  },
  {
   "cell_type": "code",
   "execution_count": 32,
   "metadata": {},
   "outputs": [
    {
     "name": "stdout",
     "output_type": "stream",
     "text": [
      "<class 'pandas.core.frame.DataFrame'>\n",
      "RangeIndex: 256115 entries, 0 to 256114\n",
      "Data columns (total 8 columns):\n",
      " #   Column    Non-Null Count   Dtype  \n",
      "---  ------    --------------   -----  \n",
      " 0   HOUSEID   256115 non-null  object \n",
      " 1   PERSONID  256115 non-null  object \n",
      " 2   VEHID     256115 non-null  object \n",
      " 3   HFUEL     256115 non-null  object \n",
      " 4   FUELTYPE  256115 non-null  object \n",
      " 5   VEHAGE    256115 non-null  float64\n",
      " 6   VEHOWNED  256115 non-null  object \n",
      " 7   VEHOWNMO  256115 non-null  object \n",
      "dtypes: float64(1), object(7)\n",
      "memory usage: 15.6+ MB\n"
     ]
    }
   ],
   "source": [
    "#Look at data info\n",
    "data_veh.info()"
   ]
  },
  {
   "cell_type": "markdown",
   "metadata": {},
   "source": [
    "## Merge Datasets"
   ]
  },
  {
   "cell_type": "markdown",
   "metadata": {},
   "source": [
    "Based on the User Guide documentation provided, many of the variables are repeated across multiple table file levels."
   ]
  },
  {
   "cell_type": "markdown",
   "metadata": {},
   "source": [
    "### Household-vehicle merge"
   ]
  },
  {
   "cell_type": "code",
   "execution_count": 33,
   "metadata": {},
   "outputs": [],
   "source": [
    "#merge person and vehicle data\n",
    "data_hh_veh = pd.merge(data_hh,data_veh,on=['HOUSEID'])"
   ]
  },
  {
   "cell_type": "code",
   "execution_count": 34,
   "metadata": {},
   "outputs": [
    {
     "data": {
      "text/html": [
       "<div>\n",
       "<style scoped>\n",
       "    .dataframe tbody tr th:only-of-type {\n",
       "        vertical-align: middle;\n",
       "    }\n",
       "\n",
       "    .dataframe tbody tr th {\n",
       "        vertical-align: top;\n",
       "    }\n",
       "\n",
       "    .dataframe thead th {\n",
       "        text-align: right;\n",
       "    }\n",
       "</style>\n",
       "<table border=\"1\" class=\"dataframe\">\n",
       "  <thead>\n",
       "    <tr style=\"text-align: right;\">\n",
       "      <th></th>\n",
       "      <th>HOUSEID</th>\n",
       "      <th>CAR</th>\n",
       "      <th>HBHUR</th>\n",
       "      <th>HBPPOPDN</th>\n",
       "      <th>HBRESDN</th>\n",
       "      <th>HHFAMINC</th>\n",
       "      <th>HHSIZE</th>\n",
       "      <th>HHSTATE</th>\n",
       "      <th>HHVEHCNT</th>\n",
       "      <th>HOMEOWN</th>\n",
       "      <th>...</th>\n",
       "      <th>PRICE</th>\n",
       "      <th>WRKCOUNT</th>\n",
       "      <th>YOUNGCHILD</th>\n",
       "      <th>PERSONID</th>\n",
       "      <th>VEHID</th>\n",
       "      <th>HFUEL</th>\n",
       "      <th>FUELTYPE</th>\n",
       "      <th>VEHAGE</th>\n",
       "      <th>VEHOWNED</th>\n",
       "      <th>VEHOWNMO</th>\n",
       "    </tr>\n",
       "  </thead>\n",
       "  <tbody>\n",
       "    <tr>\n",
       "      <th>0</th>\n",
       "      <td>30000007</td>\n",
       "      <td>01</td>\n",
       "      <td>T</td>\n",
       "      <td>750</td>\n",
       "      <td>300</td>\n",
       "      <td>07</td>\n",
       "      <td>3.0</td>\n",
       "      <td>NC</td>\n",
       "      <td>5.0</td>\n",
       "      <td>01</td>\n",
       "      <td>...</td>\n",
       "      <td>01</td>\n",
       "      <td>1.0</td>\n",
       "      <td>0.0</td>\n",
       "      <td>03</td>\n",
       "      <td>01</td>\n",
       "      <td>-1</td>\n",
       "      <td>01</td>\n",
       "      <td>10.0</td>\n",
       "      <td>01</td>\n",
       "      <td>-1</td>\n",
       "    </tr>\n",
       "    <tr>\n",
       "      <th>1</th>\n",
       "      <td>30000007</td>\n",
       "      <td>01</td>\n",
       "      <td>T</td>\n",
       "      <td>750</td>\n",
       "      <td>300</td>\n",
       "      <td>07</td>\n",
       "      <td>3.0</td>\n",
       "      <td>NC</td>\n",
       "      <td>5.0</td>\n",
       "      <td>01</td>\n",
       "      <td>...</td>\n",
       "      <td>01</td>\n",
       "      <td>1.0</td>\n",
       "      <td>0.0</td>\n",
       "      <td>-8</td>\n",
       "      <td>02</td>\n",
       "      <td>-1</td>\n",
       "      <td>01</td>\n",
       "      <td>13.0</td>\n",
       "      <td>01</td>\n",
       "      <td>-1</td>\n",
       "    </tr>\n",
       "    <tr>\n",
       "      <th>2</th>\n",
       "      <td>30000007</td>\n",
       "      <td>01</td>\n",
       "      <td>T</td>\n",
       "      <td>750</td>\n",
       "      <td>300</td>\n",
       "      <td>07</td>\n",
       "      <td>3.0</td>\n",
       "      <td>NC</td>\n",
       "      <td>5.0</td>\n",
       "      <td>01</td>\n",
       "      <td>...</td>\n",
       "      <td>01</td>\n",
       "      <td>1.0</td>\n",
       "      <td>0.0</td>\n",
       "      <td>01</td>\n",
       "      <td>03</td>\n",
       "      <td>-1</td>\n",
       "      <td>01</td>\n",
       "      <td>19.0</td>\n",
       "      <td>01</td>\n",
       "      <td>-1</td>\n",
       "    </tr>\n",
       "    <tr>\n",
       "      <th>3</th>\n",
       "      <td>30000007</td>\n",
       "      <td>01</td>\n",
       "      <td>T</td>\n",
       "      <td>750</td>\n",
       "      <td>300</td>\n",
       "      <td>07</td>\n",
       "      <td>3.0</td>\n",
       "      <td>NC</td>\n",
       "      <td>5.0</td>\n",
       "      <td>01</td>\n",
       "      <td>...</td>\n",
       "      <td>01</td>\n",
       "      <td>1.0</td>\n",
       "      <td>0.0</td>\n",
       "      <td>02</td>\n",
       "      <td>04</td>\n",
       "      <td>-1</td>\n",
       "      <td>01</td>\n",
       "      <td>20.0</td>\n",
       "      <td>01</td>\n",
       "      <td>-1</td>\n",
       "    </tr>\n",
       "    <tr>\n",
       "      <th>4</th>\n",
       "      <td>30000007</td>\n",
       "      <td>01</td>\n",
       "      <td>T</td>\n",
       "      <td>750</td>\n",
       "      <td>300</td>\n",
       "      <td>07</td>\n",
       "      <td>3.0</td>\n",
       "      <td>NC</td>\n",
       "      <td>5.0</td>\n",
       "      <td>01</td>\n",
       "      <td>...</td>\n",
       "      <td>01</td>\n",
       "      <td>1.0</td>\n",
       "      <td>0.0</td>\n",
       "      <td>02</td>\n",
       "      <td>05</td>\n",
       "      <td>-1</td>\n",
       "      <td>01</td>\n",
       "      <td>24.0</td>\n",
       "      <td>01</td>\n",
       "      <td>-1</td>\n",
       "    </tr>\n",
       "  </tbody>\n",
       "</table>\n",
       "<p>5 rows × 21 columns</p>\n",
       "</div>"
      ],
      "text/plain": [
       "    HOUSEID CAR HBHUR HBPPOPDN HBRESDN HHFAMINC  HHSIZE HHSTATE  HHVEHCNT  \\\n",
       "0  30000007  01     T      750     300       07     3.0      NC       5.0   \n",
       "1  30000007  01     T      750     300       07     3.0      NC       5.0   \n",
       "2  30000007  01     T      750     300       07     3.0      NC       5.0   \n",
       "3  30000007  01     T      750     300       07     3.0      NC       5.0   \n",
       "4  30000007  01     T      750     300       07     3.0      NC       5.0   \n",
       "\n",
       "  HOMEOWN  ... PRICE WRKCOUNT  YOUNGCHILD  PERSONID VEHID HFUEL FUELTYPE  \\\n",
       "0      01  ...    01      1.0         0.0        03    01    -1       01   \n",
       "1      01  ...    01      1.0         0.0        -8    02    -1       01   \n",
       "2      01  ...    01      1.0         0.0        01    03    -1       01   \n",
       "3      01  ...    01      1.0         0.0        02    04    -1       01   \n",
       "4      01  ...    01      1.0         0.0        02    05    -1       01   \n",
       "\n",
       "  VEHAGE  VEHOWNED VEHOWNMO  \n",
       "0   10.0        01       -1  \n",
       "1   13.0        01       -1  \n",
       "2   19.0        01       -1  \n",
       "3   20.0        01       -1  \n",
       "4   24.0        01       -1  \n",
       "\n",
       "[5 rows x 21 columns]"
      ]
     },
     "execution_count": 34,
     "metadata": {},
     "output_type": "execute_result"
    }
   ],
   "source": [
    "#look at first 5 rows\n",
    "data_hh_veh.head()"
   ]
  },
  {
   "cell_type": "markdown",
   "metadata": {},
   "source": [
    "## Dimension of data\n",
    "data_hh_veh.shape"
   ]
  },
  {
   "cell_type": "markdown",
   "metadata": {},
   "source": [
    "### Household-vehicle-person merge"
   ]
  },
  {
   "cell_type": "code",
   "execution_count": 35,
   "metadata": {},
   "outputs": [],
   "source": [
    "\n",
    "\n",
    "#merge household and vehicle data to person data\n",
    "data_hh_veh_person = pd.merge(data_hh_veh,data_person,on=['HOUSEID','PERSONID'])"
   ]
  },
  {
   "cell_type": "code",
   "execution_count": 36,
   "metadata": {},
   "outputs": [
    {
     "data": {
      "text/html": [
       "<div>\n",
       "<style scoped>\n",
       "    .dataframe tbody tr th:only-of-type {\n",
       "        vertical-align: middle;\n",
       "    }\n",
       "\n",
       "    .dataframe tbody tr th {\n",
       "        vertical-align: top;\n",
       "    }\n",
       "\n",
       "    .dataframe thead th {\n",
       "        text-align: right;\n",
       "    }\n",
       "</style>\n",
       "<table border=\"1\" class=\"dataframe\">\n",
       "  <thead>\n",
       "    <tr style=\"text-align: right;\">\n",
       "      <th></th>\n",
       "      <th>HOUSEID</th>\n",
       "      <th>CAR</th>\n",
       "      <th>HBHUR</th>\n",
       "      <th>HBPPOPDN</th>\n",
       "      <th>HBRESDN</th>\n",
       "      <th>HHFAMINC</th>\n",
       "      <th>HHSIZE</th>\n",
       "      <th>HHSTATE</th>\n",
       "      <th>HHVEHCNT</th>\n",
       "      <th>HOMEOWN</th>\n",
       "      <th>...</th>\n",
       "      <th>GT1JBLWK</th>\n",
       "      <th>OCCAT</th>\n",
       "      <th>R_AGE</th>\n",
       "      <th>R_HISP</th>\n",
       "      <th>R_RACE</th>\n",
       "      <th>R_SEX</th>\n",
       "      <th>TIMETOWK</th>\n",
       "      <th>WKFTPT</th>\n",
       "      <th>WKRMHM</th>\n",
       "      <th>YEARMILE</th>\n",
       "    </tr>\n",
       "  </thead>\n",
       "  <tbody>\n",
       "    <tr>\n",
       "      <th>0</th>\n",
       "      <td>30000007</td>\n",
       "      <td>01</td>\n",
       "      <td>T</td>\n",
       "      <td>750</td>\n",
       "      <td>300</td>\n",
       "      <td>07</td>\n",
       "      <td>3.0</td>\n",
       "      <td>NC</td>\n",
       "      <td>5.0</td>\n",
       "      <td>01</td>\n",
       "      <td>...</td>\n",
       "      <td>-1</td>\n",
       "      <td>-1</td>\n",
       "      <td>28.0</td>\n",
       "      <td>02</td>\n",
       "      <td>02</td>\n",
       "      <td>02</td>\n",
       "      <td>-1.0</td>\n",
       "      <td>-1</td>\n",
       "      <td>-1</td>\n",
       "      <td>1000.0</td>\n",
       "    </tr>\n",
       "    <tr>\n",
       "      <th>1</th>\n",
       "      <td>30000007</td>\n",
       "      <td>01</td>\n",
       "      <td>T</td>\n",
       "      <td>750</td>\n",
       "      <td>300</td>\n",
       "      <td>07</td>\n",
       "      <td>3.0</td>\n",
       "      <td>NC</td>\n",
       "      <td>5.0</td>\n",
       "      <td>01</td>\n",
       "      <td>...</td>\n",
       "      <td>-1</td>\n",
       "      <td>-1</td>\n",
       "      <td>67.0</td>\n",
       "      <td>02</td>\n",
       "      <td>02</td>\n",
       "      <td>02</td>\n",
       "      <td>-1.0</td>\n",
       "      <td>-1</td>\n",
       "      <td>-1</td>\n",
       "      <td>1000.0</td>\n",
       "    </tr>\n",
       "    <tr>\n",
       "      <th>2</th>\n",
       "      <td>30000007</td>\n",
       "      <td>01</td>\n",
       "      <td>T</td>\n",
       "      <td>750</td>\n",
       "      <td>300</td>\n",
       "      <td>07</td>\n",
       "      <td>3.0</td>\n",
       "      <td>NC</td>\n",
       "      <td>5.0</td>\n",
       "      <td>01</td>\n",
       "      <td>...</td>\n",
       "      <td>02</td>\n",
       "      <td>02</td>\n",
       "      <td>66.0</td>\n",
       "      <td>02</td>\n",
       "      <td>02</td>\n",
       "      <td>01</td>\n",
       "      <td>120.0</td>\n",
       "      <td>01</td>\n",
       "      <td>02</td>\n",
       "      <td>10000.0</td>\n",
       "    </tr>\n",
       "    <tr>\n",
       "      <th>3</th>\n",
       "      <td>30000007</td>\n",
       "      <td>01</td>\n",
       "      <td>T</td>\n",
       "      <td>750</td>\n",
       "      <td>300</td>\n",
       "      <td>07</td>\n",
       "      <td>3.0</td>\n",
       "      <td>NC</td>\n",
       "      <td>5.0</td>\n",
       "      <td>01</td>\n",
       "      <td>...</td>\n",
       "      <td>02</td>\n",
       "      <td>02</td>\n",
       "      <td>66.0</td>\n",
       "      <td>02</td>\n",
       "      <td>02</td>\n",
       "      <td>01</td>\n",
       "      <td>120.0</td>\n",
       "      <td>01</td>\n",
       "      <td>02</td>\n",
       "      <td>10000.0</td>\n",
       "    </tr>\n",
       "    <tr>\n",
       "      <th>4</th>\n",
       "      <td>30000008</td>\n",
       "      <td>01</td>\n",
       "      <td>R</td>\n",
       "      <td>300</td>\n",
       "      <td>300</td>\n",
       "      <td>08</td>\n",
       "      <td>2.0</td>\n",
       "      <td>WI</td>\n",
       "      <td>4.0</td>\n",
       "      <td>01</td>\n",
       "      <td>...</td>\n",
       "      <td>02</td>\n",
       "      <td>02</td>\n",
       "      <td>49.0</td>\n",
       "      <td>02</td>\n",
       "      <td>01</td>\n",
       "      <td>02</td>\n",
       "      <td>5.0</td>\n",
       "      <td>01</td>\n",
       "      <td>02</td>\n",
       "      <td>10000.0</td>\n",
       "    </tr>\n",
       "  </tbody>\n",
       "</table>\n",
       "<p>5 rows × 34 columns</p>\n",
       "</div>"
      ],
      "text/plain": [
       "    HOUSEID CAR HBHUR HBPPOPDN HBRESDN HHFAMINC  HHSIZE HHSTATE  HHVEHCNT  \\\n",
       "0  30000007  01     T      750     300       07     3.0      NC       5.0   \n",
       "1  30000007  01     T      750     300       07     3.0      NC       5.0   \n",
       "2  30000007  01     T      750     300       07     3.0      NC       5.0   \n",
       "3  30000007  01     T      750     300       07     3.0      NC       5.0   \n",
       "4  30000008  01     R      300     300       08     2.0      WI       4.0   \n",
       "\n",
       "  HOMEOWN  ... GT1JBLWK OCCAT  R_AGE  R_HISP R_RACE R_SEX TIMETOWK WKFTPT  \\\n",
       "0      01  ...       -1    -1   28.0      02     02    02     -1.0     -1   \n",
       "1      01  ...       -1    -1   67.0      02     02    02     -1.0     -1   \n",
       "2      01  ...       02    02   66.0      02     02    01    120.0     01   \n",
       "3      01  ...       02    02   66.0      02     02    01    120.0     01   \n",
       "4      01  ...       02    02   49.0      02     01    02      5.0     01   \n",
       "\n",
       "   WKRMHM YEARMILE  \n",
       "0      -1   1000.0  \n",
       "1      -1   1000.0  \n",
       "2      02  10000.0  \n",
       "3      02  10000.0  \n",
       "4      02  10000.0  \n",
       "\n",
       "[5 rows x 34 columns]"
      ]
     },
     "execution_count": 36,
     "metadata": {},
     "output_type": "execute_result"
    }
   ],
   "source": [
    "#look at first 5 rows\n",
    "data_hh_veh_person.head()"
   ]
  },
  {
   "cell_type": "code",
   "execution_count": 37,
   "metadata": {},
   "outputs": [
    {
     "data": {
      "text/plain": [
       "(250200, 34)"
      ]
     },
     "execution_count": 37,
     "metadata": {},
     "output_type": "execute_result"
    }
   ],
   "source": [
    "#Dimension of data\n",
    "data_hh_veh_person.shape"
   ]
  },
  {
   "cell_type": "code",
   "execution_count": 38,
   "metadata": {},
   "outputs": [],
   "source": [
    "data_temp = data_hh_veh_person"
   ]
  },
  {
   "cell_type": "markdown",
   "metadata": {},
   "source": [
    "### Reorder variables"
   ]
  },
  {
   "cell_type": "code",
   "execution_count": 39,
   "metadata": {
    "scrolled": false
   },
   "outputs": [
    {
     "data": {
      "text/plain": [
       "31"
      ]
     },
     "execution_count": 39,
     "metadata": {},
     "output_type": "execute_result"
    }
   ],
   "source": [
    "#reorder variables\n",
    "first_cols = ['HOUSEID','PERSONID','VEHID']\n",
    "last_cols = [col for col in data_temp.columns if col not in first_cols]\n",
    "len(last_cols)"
   ]
  },
  {
   "cell_type": "code",
   "execution_count": 40,
   "metadata": {},
   "outputs": [],
   "source": [
    "#reorder variables\n",
    "data = data_temp[first_cols+last_cols]"
   ]
  },
  {
   "cell_type": "code",
   "execution_count": 41,
   "metadata": {},
   "outputs": [
    {
     "data": {
      "text/html": [
       "<div>\n",
       "<style scoped>\n",
       "    .dataframe tbody tr th:only-of-type {\n",
       "        vertical-align: middle;\n",
       "    }\n",
       "\n",
       "    .dataframe tbody tr th {\n",
       "        vertical-align: top;\n",
       "    }\n",
       "\n",
       "    .dataframe thead th {\n",
       "        text-align: right;\n",
       "    }\n",
       "</style>\n",
       "<table border=\"1\" class=\"dataframe\">\n",
       "  <thead>\n",
       "    <tr style=\"text-align: right;\">\n",
       "      <th></th>\n",
       "      <th>HOUSEID</th>\n",
       "      <th>PERSONID</th>\n",
       "      <th>VEHID</th>\n",
       "      <th>CAR</th>\n",
       "      <th>HBHUR</th>\n",
       "      <th>HBPPOPDN</th>\n",
       "      <th>HBRESDN</th>\n",
       "      <th>HHFAMINC</th>\n",
       "      <th>HHSIZE</th>\n",
       "      <th>HHSTATE</th>\n",
       "      <th>...</th>\n",
       "      <th>GT1JBLWK</th>\n",
       "      <th>OCCAT</th>\n",
       "      <th>R_AGE</th>\n",
       "      <th>R_HISP</th>\n",
       "      <th>R_RACE</th>\n",
       "      <th>R_SEX</th>\n",
       "      <th>TIMETOWK</th>\n",
       "      <th>WKFTPT</th>\n",
       "      <th>WKRMHM</th>\n",
       "      <th>YEARMILE</th>\n",
       "    </tr>\n",
       "  </thead>\n",
       "  <tbody>\n",
       "    <tr>\n",
       "      <th>0</th>\n",
       "      <td>30000007</td>\n",
       "      <td>03</td>\n",
       "      <td>01</td>\n",
       "      <td>01</td>\n",
       "      <td>T</td>\n",
       "      <td>750</td>\n",
       "      <td>300</td>\n",
       "      <td>07</td>\n",
       "      <td>3.0</td>\n",
       "      <td>NC</td>\n",
       "      <td>...</td>\n",
       "      <td>-1</td>\n",
       "      <td>-1</td>\n",
       "      <td>28.0</td>\n",
       "      <td>02</td>\n",
       "      <td>02</td>\n",
       "      <td>02</td>\n",
       "      <td>-1.0</td>\n",
       "      <td>-1</td>\n",
       "      <td>-1</td>\n",
       "      <td>1000.0</td>\n",
       "    </tr>\n",
       "    <tr>\n",
       "      <th>1</th>\n",
       "      <td>30000007</td>\n",
       "      <td>01</td>\n",
       "      <td>03</td>\n",
       "      <td>01</td>\n",
       "      <td>T</td>\n",
       "      <td>750</td>\n",
       "      <td>300</td>\n",
       "      <td>07</td>\n",
       "      <td>3.0</td>\n",
       "      <td>NC</td>\n",
       "      <td>...</td>\n",
       "      <td>-1</td>\n",
       "      <td>-1</td>\n",
       "      <td>67.0</td>\n",
       "      <td>02</td>\n",
       "      <td>02</td>\n",
       "      <td>02</td>\n",
       "      <td>-1.0</td>\n",
       "      <td>-1</td>\n",
       "      <td>-1</td>\n",
       "      <td>1000.0</td>\n",
       "    </tr>\n",
       "    <tr>\n",
       "      <th>2</th>\n",
       "      <td>30000007</td>\n",
       "      <td>02</td>\n",
       "      <td>04</td>\n",
       "      <td>01</td>\n",
       "      <td>T</td>\n",
       "      <td>750</td>\n",
       "      <td>300</td>\n",
       "      <td>07</td>\n",
       "      <td>3.0</td>\n",
       "      <td>NC</td>\n",
       "      <td>...</td>\n",
       "      <td>02</td>\n",
       "      <td>02</td>\n",
       "      <td>66.0</td>\n",
       "      <td>02</td>\n",
       "      <td>02</td>\n",
       "      <td>01</td>\n",
       "      <td>120.0</td>\n",
       "      <td>01</td>\n",
       "      <td>02</td>\n",
       "      <td>10000.0</td>\n",
       "    </tr>\n",
       "    <tr>\n",
       "      <th>3</th>\n",
       "      <td>30000007</td>\n",
       "      <td>02</td>\n",
       "      <td>05</td>\n",
       "      <td>01</td>\n",
       "      <td>T</td>\n",
       "      <td>750</td>\n",
       "      <td>300</td>\n",
       "      <td>07</td>\n",
       "      <td>3.0</td>\n",
       "      <td>NC</td>\n",
       "      <td>...</td>\n",
       "      <td>02</td>\n",
       "      <td>02</td>\n",
       "      <td>66.0</td>\n",
       "      <td>02</td>\n",
       "      <td>02</td>\n",
       "      <td>01</td>\n",
       "      <td>120.0</td>\n",
       "      <td>01</td>\n",
       "      <td>02</td>\n",
       "      <td>10000.0</td>\n",
       "    </tr>\n",
       "    <tr>\n",
       "      <th>4</th>\n",
       "      <td>30000008</td>\n",
       "      <td>02</td>\n",
       "      <td>02</td>\n",
       "      <td>01</td>\n",
       "      <td>R</td>\n",
       "      <td>300</td>\n",
       "      <td>300</td>\n",
       "      <td>08</td>\n",
       "      <td>2.0</td>\n",
       "      <td>WI</td>\n",
       "      <td>...</td>\n",
       "      <td>02</td>\n",
       "      <td>02</td>\n",
       "      <td>49.0</td>\n",
       "      <td>02</td>\n",
       "      <td>01</td>\n",
       "      <td>02</td>\n",
       "      <td>5.0</td>\n",
       "      <td>01</td>\n",
       "      <td>02</td>\n",
       "      <td>10000.0</td>\n",
       "    </tr>\n",
       "  </tbody>\n",
       "</table>\n",
       "<p>5 rows × 34 columns</p>\n",
       "</div>"
      ],
      "text/plain": [
       "    HOUSEID PERSONID VEHID CAR HBHUR HBPPOPDN HBRESDN HHFAMINC  HHSIZE  \\\n",
       "0  30000007       03    01  01     T      750     300       07     3.0   \n",
       "1  30000007       01    03  01     T      750     300       07     3.0   \n",
       "2  30000007       02    04  01     T      750     300       07     3.0   \n",
       "3  30000007       02    05  01     T      750     300       07     3.0   \n",
       "4  30000008       02    02  01     R      300     300       08     2.0   \n",
       "\n",
       "  HHSTATE  ...  GT1JBLWK OCCAT R_AGE R_HISP  R_RACE  R_SEX TIMETOWK WKFTPT  \\\n",
       "0      NC  ...        -1    -1  28.0     02      02     02     -1.0     -1   \n",
       "1      NC  ...        -1    -1  67.0     02      02     02     -1.0     -1   \n",
       "2      NC  ...        02    02  66.0     02      02     01    120.0     01   \n",
       "3      NC  ...        02    02  66.0     02      02     01    120.0     01   \n",
       "4      WI  ...        02    02  49.0     02      01     02      5.0     01   \n",
       "\n",
       "   WKRMHM YEARMILE  \n",
       "0      -1   1000.0  \n",
       "1      -1   1000.0  \n",
       "2      02  10000.0  \n",
       "3      02  10000.0  \n",
       "4      02  10000.0  \n",
       "\n",
       "[5 rows x 34 columns]"
      ]
     },
     "execution_count": 41,
     "metadata": {},
     "output_type": "execute_result"
    }
   ],
   "source": [
    "\n",
    "#Get first few rows\n",
    "data.head()"
   ]
  },
  {
   "cell_type": "code",
   "execution_count": 42,
   "metadata": {},
   "outputs": [
    {
     "data": {
      "text/plain": [
       "(250200, 34)"
      ]
     },
     "execution_count": 42,
     "metadata": {},
     "output_type": "execute_result"
    }
   ],
   "source": [
    "#Dimension of data\n",
    "data.shape"
   ]
  },
  {
   "cell_type": "code",
   "execution_count": 43,
   "metadata": {},
   "outputs": [
    {
     "name": "stdout",
     "output_type": "stream",
     "text": [
      "<class 'pandas.core.frame.DataFrame'>\n",
      "Int64Index: 250200 entries, 0 to 250199\n",
      "Data columns (total 34 columns):\n",
      " #   Column      Non-Null Count   Dtype  \n",
      "---  ------      --------------   -----  \n",
      " 0   HOUSEID     250200 non-null  object \n",
      " 1   PERSONID    250200 non-null  object \n",
      " 2   VEHID       250200 non-null  object \n",
      " 3   CAR         250200 non-null  object \n",
      " 4   HBHUR       250200 non-null  object \n",
      " 5   HBPPOPDN    250200 non-null  object \n",
      " 6   HBRESDN     250200 non-null  object \n",
      " 7   HHFAMINC    250200 non-null  object \n",
      " 8   HHSIZE      250200 non-null  float64\n",
      " 9   HHSTATE     250200 non-null  object \n",
      " 10  HHVEHCNT    250200 non-null  float64\n",
      " 11  HOMEOWN     250200 non-null  object \n",
      " 12  PLACE       250200 non-null  object \n",
      " 13  PRICE       250200 non-null  object \n",
      " 14  WRKCOUNT    250200 non-null  float64\n",
      " 15  YOUNGCHILD  250200 non-null  float64\n",
      " 16  HFUEL       250200 non-null  object \n",
      " 17  FUELTYPE    250200 non-null  object \n",
      " 18  VEHAGE      250200 non-null  float64\n",
      " 19  VEHOWNED    250200 non-null  object \n",
      " 20  VEHOWNMO    250200 non-null  object \n",
      " 21  CARSHARE    250200 non-null  float64\n",
      " 22  DRVRCNT     250200 non-null  float64\n",
      " 23  EDUC        250200 non-null  object \n",
      " 24  GT1JBLWK    250200 non-null  object \n",
      " 25  OCCAT       250200 non-null  object \n",
      " 26  R_AGE       250200 non-null  float64\n",
      " 27  R_HISP      250200 non-null  object \n",
      " 28  R_RACE      250200 non-null  object \n",
      " 29  R_SEX       250200 non-null  object \n",
      " 30  TIMETOWK    250200 non-null  float64\n",
      " 31  WKFTPT      250200 non-null  object \n",
      " 32  WKRMHM      250200 non-null  object \n",
      " 33  YEARMILE    250200 non-null  float64\n",
      "dtypes: float64(10), object(24)\n",
      "memory usage: 66.8+ MB\n"
     ]
    }
   ],
   "source": [
    "data.info(verbose=True)"
   ]
  },
  {
   "cell_type": "code",
   "execution_count": 44,
   "metadata": {},
   "outputs": [],
   "source": [
    "#Get all variable names\n",
    "data1_var = data.columns.to_list()"
   ]
  },
  {
   "cell_type": "markdown",
   "metadata": {},
   "source": [
    "# Duplicates and NAs"
   ]
  },
  {
   "cell_type": "code",
   "execution_count": 45,
   "metadata": {},
   "outputs": [
    {
     "data": {
      "text/plain": [
       "(250200, 34)"
      ]
     },
     "execution_count": 45,
     "metadata": {},
     "output_type": "execute_result"
    }
   ],
   "source": [
    "#Any duplicate rows?\n",
    "data = data.drop_duplicates()\n",
    "#Dimension\n",
    "data.shape"
   ]
  },
  {
   "cell_type": "markdown",
   "metadata": {},
   "source": [
    "There are no duplicates rows"
   ]
  },
  {
   "cell_type": "code",
   "execution_count": 46,
   "metadata": {
    "scrolled": true
   },
   "outputs": [
    {
     "data": {
      "text/plain": [
       "HOUSEID       0\n",
       "PERSONID      0\n",
       "VEHID         0\n",
       "CAR           0\n",
       "HBHUR         0\n",
       "HBPPOPDN      0\n",
       "HBRESDN       0\n",
       "HHFAMINC      0\n",
       "HHSIZE        0\n",
       "HHSTATE       0\n",
       "HHVEHCNT      0\n",
       "HOMEOWN       0\n",
       "PLACE         0\n",
       "PRICE         0\n",
       "WRKCOUNT      0\n",
       "YOUNGCHILD    0\n",
       "HFUEL         0\n",
       "FUELTYPE      0\n",
       "VEHAGE        0\n",
       "VEHOWNED      0\n",
       "VEHOWNMO      0\n",
       "CARSHARE      0\n",
       "DRVRCNT       0\n",
       "EDUC          0\n",
       "GT1JBLWK      0\n",
       "OCCAT         0\n",
       "R_AGE         0\n",
       "R_HISP        0\n",
       "R_RACE        0\n",
       "R_SEX         0\n",
       "TIMETOWK      0\n",
       "WKFTPT        0\n",
       "WKRMHM        0\n",
       "YEARMILE      0\n",
       "dtype: int64"
      ]
     },
     "execution_count": 46,
     "metadata": {},
     "output_type": "execute_result"
    }
   ],
   "source": [
    "#Check for NAs\n",
    "data.isna().sum(axis=0)"
   ]
  },
  {
   "cell_type": "markdown",
   "metadata": {},
   "source": [
    "There are no NAs in the dataset. The documentation for the dataset mentioned that there shouldn't be any as well."
   ]
  },
  {
   "cell_type": "markdown",
   "metadata": {},
   "source": [
    "There are a few values that should be reviewed further.\n",
    "\n",
    "1. -7 : Refused\n",
    "2. -8 : Don't Know\n",
    "3. -9 : Not Ascertained\n",
    "4. -1 : Appropriate Skip\n",
    "\n",
    "Let's check if any variable consists of all of these values."
   ]
  },
  {
   "cell_type": "code",
   "execution_count": 47,
   "metadata": {},
   "outputs": [],
   "source": [
    "data_check_val = data.isin([-1.0,-7.0,-8.0,-9.0,\"-1\",\"-7\",\"-8\",\"-9\"]).all()"
   ]
  },
  {
   "cell_type": "code",
   "execution_count": 48,
   "metadata": {},
   "outputs": [
    {
     "data": {
      "text/plain": [
       "Series([], dtype: bool)"
      ]
     },
     "execution_count": 48,
     "metadata": {},
     "output_type": "execute_result"
    }
   ],
   "source": [
    "data_check_val[data_check_val==True]"
   ]
  },
  {
   "cell_type": "markdown",
   "metadata": {},
   "source": [
    "None of the variables consist of only these values."
   ]
  },
  {
   "cell_type": "markdown",
   "metadata": {},
   "source": [
    "# Import Codebook and Apply Values Labels"
   ]
  },
  {
   "cell_type": "code",
   "execution_count": 49,
   "metadata": {},
   "outputs": [
    {
     "name": "stdout",
     "output_type": "stream",
     "text": [
      "['CODEBOOK_HH', 'CODEBOOK_PER', 'CODEBOOK_VEH', 'CODEBOOK_TRIP']\n"
     ]
    }
   ],
   "source": [
    "#import excel version of codebook\n",
    "CODEBOOK = \"Documentation/codebook_v1.2.xlsx\"\n",
    "\n",
    "codebookname = pd.ExcelFile(os.path.expanduser(os.path.join(BASE_DIR, CODEBOOK)))\n",
    "\n",
    "print(codebookname.sheet_names)"
   ]
  },
  {
   "cell_type": "code",
   "execution_count": 50,
   "metadata": {},
   "outputs": [],
   "source": [
    "# is this the same as the above?\n",
    "codebook = pd.read_excel(os.path.expanduser(os.path.join(BASE_DIR, CODEBOOK)))\n",
    "\n",
    "for items in codebookname.sheet_names[1:]:\n",
    "    codebook_new = pd.read_excel(os.path.expanduser(os.path.join(BASE_DIR, CODEBOOK)),\n",
    "                                 sheet_name=items)\n",
    "    codebook=pd.concat([codebook,codebook_new])"
   ]
  },
  {
   "cell_type": "code",
   "execution_count": 51,
   "metadata": {},
   "outputs": [
    {
     "data": {
      "text/html": [
       "<div>\n",
       "<style scoped>\n",
       "    .dataframe tbody tr th:only-of-type {\n",
       "        vertical-align: middle;\n",
       "    }\n",
       "\n",
       "    .dataframe tbody tr th {\n",
       "        vertical-align: top;\n",
       "    }\n",
       "\n",
       "    .dataframe thead th {\n",
       "        text-align: right;\n",
       "    }\n",
       "</style>\n",
       "<table border=\"1\" class=\"dataframe\">\n",
       "  <thead>\n",
       "    <tr style=\"text-align: right;\">\n",
       "      <th></th>\n",
       "      <th>Name</th>\n",
       "      <th>Label</th>\n",
       "      <th>Type</th>\n",
       "      <th>Length</th>\n",
       "      <th>Code / Range</th>\n",
       "      <th>Frequency</th>\n",
       "      <th>Weighted</th>\n",
       "    </tr>\n",
       "  </thead>\n",
       "  <tbody>\n",
       "    <tr>\n",
       "      <th>0</th>\n",
       "      <td>BIKE</td>\n",
       "      <td>Frequency of Bicycle Use for Travel</td>\n",
       "      <td>C</td>\n",
       "      <td>2.0</td>\n",
       "      <td>-9=Not ascertained</td>\n",
       "      <td>14661</td>\n",
       "      <td>1.378796e+07</td>\n",
       "    </tr>\n",
       "    <tr>\n",
       "      <th>1</th>\n",
       "      <td>NaN</td>\n",
       "      <td>NaN</td>\n",
       "      <td>NaN</td>\n",
       "      <td>NaN</td>\n",
       "      <td>-8=I don't know</td>\n",
       "      <td>10</td>\n",
       "      <td>1.090766e+04</td>\n",
       "    </tr>\n",
       "    <tr>\n",
       "      <th>2</th>\n",
       "      <td>NaN</td>\n",
       "      <td>NaN</td>\n",
       "      <td>NaN</td>\n",
       "      <td>NaN</td>\n",
       "      <td>-7=I prefer not to answer</td>\n",
       "      <td>5</td>\n",
       "      <td>3.267190e+04</td>\n",
       "    </tr>\n",
       "    <tr>\n",
       "      <th>3</th>\n",
       "      <td>NaN</td>\n",
       "      <td>NaN</td>\n",
       "      <td>NaN</td>\n",
       "      <td>NaN</td>\n",
       "      <td>01=Daily</td>\n",
       "      <td>1870</td>\n",
       "      <td>1.979683e+06</td>\n",
       "    </tr>\n",
       "    <tr>\n",
       "      <th>4</th>\n",
       "      <td>NaN</td>\n",
       "      <td>NaN</td>\n",
       "      <td>NaN</td>\n",
       "      <td>NaN</td>\n",
       "      <td>02=A few times a week</td>\n",
       "      <td>5363</td>\n",
       "      <td>4.961863e+06</td>\n",
       "    </tr>\n",
       "  </tbody>\n",
       "</table>\n",
       "</div>"
      ],
      "text/plain": [
       "   Name                                Label Type  Length  \\\n",
       "0  BIKE  Frequency of Bicycle Use for Travel    C     2.0   \n",
       "1   NaN                                  NaN  NaN     NaN   \n",
       "2   NaN                                  NaN  NaN     NaN   \n",
       "3   NaN                                  NaN  NaN     NaN   \n",
       "4   NaN                                  NaN  NaN     NaN   \n",
       "\n",
       "                Code / Range  Frequency      Weighted  \n",
       "0         -9=Not ascertained      14661  1.378796e+07  \n",
       "1            -8=I don't know         10  1.090766e+04  \n",
       "2  -7=I prefer not to answer          5  3.267190e+04  \n",
       "3                   01=Daily       1870  1.979683e+06  \n",
       "4      02=A few times a week       5363  4.961863e+06  "
      ]
     },
     "execution_count": 51,
     "metadata": {},
     "output_type": "execute_result"
    }
   ],
   "source": [
    "#Look at first few rows\n",
    "codebook.head()"
   ]
  },
  {
   "cell_type": "code",
   "execution_count": 52,
   "metadata": {},
   "outputs": [
    {
     "data": {
      "text/plain": [
       "(3858, 7)"
      ]
     },
     "execution_count": 52,
     "metadata": {},
     "output_type": "execute_result"
    }
   ],
   "source": [
    "#Dimension of data\n",
    "codebook.shape"
   ]
  },
  {
   "cell_type": "markdown",
   "metadata": {},
   "source": [
    "Some of the cells were empty so using forward fill to fill it up."
   ]
  },
  {
   "cell_type": "code",
   "execution_count": 53,
   "metadata": {},
   "outputs": [],
   "source": [
    "#forward fill\n",
    "codebook = codebook.fillna(method='ffill')"
   ]
  },
  {
   "cell_type": "code",
   "execution_count": 54,
   "metadata": {},
   "outputs": [
    {
     "data": {
      "text/html": [
       "<div>\n",
       "<style scoped>\n",
       "    .dataframe tbody tr th:only-of-type {\n",
       "        vertical-align: middle;\n",
       "    }\n",
       "\n",
       "    .dataframe tbody tr th {\n",
       "        vertical-align: top;\n",
       "    }\n",
       "\n",
       "    .dataframe thead th {\n",
       "        text-align: right;\n",
       "    }\n",
       "</style>\n",
       "<table border=\"1\" class=\"dataframe\">\n",
       "  <thead>\n",
       "    <tr style=\"text-align: right;\">\n",
       "      <th></th>\n",
       "      <th>Name</th>\n",
       "      <th>Label</th>\n",
       "      <th>Type</th>\n",
       "      <th>Length</th>\n",
       "      <th>Code / Range</th>\n",
       "      <th>Frequency</th>\n",
       "      <th>Weighted</th>\n",
       "    </tr>\n",
       "  </thead>\n",
       "  <tbody>\n",
       "    <tr>\n",
       "      <th>0</th>\n",
       "      <td>BIKE</td>\n",
       "      <td>Frequency of Bicycle Use for Travel</td>\n",
       "      <td>C</td>\n",
       "      <td>2.0</td>\n",
       "      <td>-9=Not ascertained</td>\n",
       "      <td>14661</td>\n",
       "      <td>1.378796e+07</td>\n",
       "    </tr>\n",
       "    <tr>\n",
       "      <th>1</th>\n",
       "      <td>BIKE</td>\n",
       "      <td>Frequency of Bicycle Use for Travel</td>\n",
       "      <td>C</td>\n",
       "      <td>2.0</td>\n",
       "      <td>-8=I don't know</td>\n",
       "      <td>10</td>\n",
       "      <td>1.090766e+04</td>\n",
       "    </tr>\n",
       "    <tr>\n",
       "      <th>2</th>\n",
       "      <td>BIKE</td>\n",
       "      <td>Frequency of Bicycle Use for Travel</td>\n",
       "      <td>C</td>\n",
       "      <td>2.0</td>\n",
       "      <td>-7=I prefer not to answer</td>\n",
       "      <td>5</td>\n",
       "      <td>3.267190e+04</td>\n",
       "    </tr>\n",
       "    <tr>\n",
       "      <th>3</th>\n",
       "      <td>BIKE</td>\n",
       "      <td>Frequency of Bicycle Use for Travel</td>\n",
       "      <td>C</td>\n",
       "      <td>2.0</td>\n",
       "      <td>01=Daily</td>\n",
       "      <td>1870</td>\n",
       "      <td>1.979683e+06</td>\n",
       "    </tr>\n",
       "    <tr>\n",
       "      <th>4</th>\n",
       "      <td>BIKE</td>\n",
       "      <td>Frequency of Bicycle Use for Travel</td>\n",
       "      <td>C</td>\n",
       "      <td>2.0</td>\n",
       "      <td>02=A few times a week</td>\n",
       "      <td>5363</td>\n",
       "      <td>4.961863e+06</td>\n",
       "    </tr>\n",
       "  </tbody>\n",
       "</table>\n",
       "</div>"
      ],
      "text/plain": [
       "   Name                                Label Type  Length  \\\n",
       "0  BIKE  Frequency of Bicycle Use for Travel    C     2.0   \n",
       "1  BIKE  Frequency of Bicycle Use for Travel    C     2.0   \n",
       "2  BIKE  Frequency of Bicycle Use for Travel    C     2.0   \n",
       "3  BIKE  Frequency of Bicycle Use for Travel    C     2.0   \n",
       "4  BIKE  Frequency of Bicycle Use for Travel    C     2.0   \n",
       "\n",
       "                Code / Range  Frequency      Weighted  \n",
       "0         -9=Not ascertained      14661  1.378796e+07  \n",
       "1            -8=I don't know         10  1.090766e+04  \n",
       "2  -7=I prefer not to answer          5  3.267190e+04  \n",
       "3                   01=Daily       1870  1.979683e+06  \n",
       "4      02=A few times a week       5363  4.961863e+06  "
      ]
     },
     "execution_count": 54,
     "metadata": {},
     "output_type": "execute_result"
    }
   ],
   "source": [
    "#Get first few rows\n",
    "codebook.head()"
   ]
  },
  {
   "cell_type": "code",
   "execution_count": 55,
   "metadata": {},
   "outputs": [],
   "source": [
    "#Limit to appropriare variables\n",
    "codebook = codebook[codebook['Name'].isin(data1_var)]\n"
   ]
  },
  {
   "cell_type": "code",
   "execution_count": 56,
   "metadata": {},
   "outputs": [
    {
     "data": {
      "text/html": [
       "<div>\n",
       "<style scoped>\n",
       "    .dataframe tbody tr th:only-of-type {\n",
       "        vertical-align: middle;\n",
       "    }\n",
       "\n",
       "    .dataframe tbody tr th {\n",
       "        vertical-align: top;\n",
       "    }\n",
       "\n",
       "    .dataframe thead th {\n",
       "        text-align: right;\n",
       "    }\n",
       "</style>\n",
       "<table border=\"1\" class=\"dataframe\">\n",
       "  <thead>\n",
       "    <tr style=\"text-align: right;\">\n",
       "      <th></th>\n",
       "      <th>Name</th>\n",
       "      <th>Label</th>\n",
       "      <th>Type</th>\n",
       "      <th>Length</th>\n",
       "      <th>Code / Range</th>\n",
       "      <th>Frequency</th>\n",
       "      <th>Weighted</th>\n",
       "    </tr>\n",
       "  </thead>\n",
       "  <tbody>\n",
       "    <tr>\n",
       "      <th>0</th>\n",
       "      <td>CAR</td>\n",
       "      <td>Frequency of Personal Vehicle Use for Travel</td>\n",
       "      <td>C</td>\n",
       "      <td>2.0</td>\n",
       "      <td>-8=I don't know</td>\n",
       "      <td>4</td>\n",
       "      <td>1.886741e+04</td>\n",
       "    </tr>\n",
       "    <tr>\n",
       "      <th>1</th>\n",
       "      <td>CAR</td>\n",
       "      <td>Frequency of Personal Vehicle Use for Travel</td>\n",
       "      <td>C</td>\n",
       "      <td>2.0</td>\n",
       "      <td>-7=I prefer not to answer</td>\n",
       "      <td>2</td>\n",
       "      <td>1.348837e+04</td>\n",
       "    </tr>\n",
       "    <tr>\n",
       "      <th>2</th>\n",
       "      <td>CAR</td>\n",
       "      <td>Frequency of Personal Vehicle Use for Travel</td>\n",
       "      <td>C</td>\n",
       "      <td>2.0</td>\n",
       "      <td>-1=Appropriate skip</td>\n",
       "      <td>2573</td>\n",
       "      <td>3.460057e+06</td>\n",
       "    </tr>\n",
       "    <tr>\n",
       "      <th>3</th>\n",
       "      <td>CAR</td>\n",
       "      <td>Frequency of Personal Vehicle Use for Travel</td>\n",
       "      <td>C</td>\n",
       "      <td>2.0</td>\n",
       "      <td>01=Daily</td>\n",
       "      <td>100628</td>\n",
       "      <td>8.971236e+07</td>\n",
       "    </tr>\n",
       "    <tr>\n",
       "      <th>4</th>\n",
       "      <td>CAR</td>\n",
       "      <td>Frequency of Personal Vehicle Use for Travel</td>\n",
       "      <td>C</td>\n",
       "      <td>2.0</td>\n",
       "      <td>02=A few times a week</td>\n",
       "      <td>19486</td>\n",
       "      <td>1.508140e+07</td>\n",
       "    </tr>\n",
       "  </tbody>\n",
       "</table>\n",
       "</div>"
      ],
      "text/plain": [
       "  Name                                         Label Type  Length  \\\n",
       "0  CAR  Frequency of Personal Vehicle Use for Travel    C     2.0   \n",
       "1  CAR  Frequency of Personal Vehicle Use for Travel    C     2.0   \n",
       "2  CAR  Frequency of Personal Vehicle Use for Travel    C     2.0   \n",
       "3  CAR  Frequency of Personal Vehicle Use for Travel    C     2.0   \n",
       "4  CAR  Frequency of Personal Vehicle Use for Travel    C     2.0   \n",
       "\n",
       "                Code / Range  Frequency      Weighted  \n",
       "0            -8=I don't know          4  1.886741e+04  \n",
       "1  -7=I prefer not to answer          2  1.348837e+04  \n",
       "2        -1=Appropriate skip       2573  3.460057e+06  \n",
       "3                   01=Daily     100628  8.971236e+07  \n",
       "4      02=A few times a week      19486  1.508140e+07  "
      ]
     },
     "execution_count": 56,
     "metadata": {},
     "output_type": "execute_result"
    }
   ],
   "source": [
    "#Get all rows for character variables\n",
    "codebook_c = codebook[codebook.Type=='C'].reset_index(drop=True)\n",
    "codebook_c.head()"
   ]
  },
  {
   "cell_type": "code",
   "execution_count": 57,
   "metadata": {},
   "outputs": [],
   "source": [
    "#reshape codebook\n",
    "codebook_reshape_c = codebook_c.groupby(['Name','Type'])['Code / Range'].agg('='.join).reset_index()"
   ]
  },
  {
   "cell_type": "code",
   "execution_count": 58,
   "metadata": {},
   "outputs": [
    {
     "data": {
      "text/plain": [
       "(24, 3)"
      ]
     },
     "execution_count": 58,
     "metadata": {},
     "output_type": "execute_result"
    }
   ],
   "source": [
    "#get dimension\n",
    "codebook_reshape_c.shape"
   ]
  },
  {
   "cell_type": "code",
   "execution_count": 59,
   "metadata": {},
   "outputs": [
    {
     "data": {
      "text/html": [
       "<div>\n",
       "<style scoped>\n",
       "    .dataframe tbody tr th:only-of-type {\n",
       "        vertical-align: middle;\n",
       "    }\n",
       "\n",
       "    .dataframe tbody tr th {\n",
       "        vertical-align: top;\n",
       "    }\n",
       "\n",
       "    .dataframe thead th {\n",
       "        text-align: right;\n",
       "    }\n",
       "</style>\n",
       "<table border=\"1\" class=\"dataframe\">\n",
       "  <thead>\n",
       "    <tr style=\"text-align: right;\">\n",
       "      <th></th>\n",
       "      <th>Name</th>\n",
       "      <th>Type</th>\n",
       "      <th>Code / Range</th>\n",
       "    </tr>\n",
       "  </thead>\n",
       "  <tbody>\n",
       "    <tr>\n",
       "      <th>0</th>\n",
       "      <td>CAR</td>\n",
       "      <td>C</td>\n",
       "      <td>-8=I don't know=-7=I prefer not to answer=-1=A...</td>\n",
       "    </tr>\n",
       "    <tr>\n",
       "      <th>1</th>\n",
       "      <td>EDUC</td>\n",
       "      <td>C</td>\n",
       "      <td>-8=I don't know=-7=I prefer not to answer=-1=A...</td>\n",
       "    </tr>\n",
       "    <tr>\n",
       "      <th>2</th>\n",
       "      <td>FUELTYPE</td>\n",
       "      <td>C</td>\n",
       "      <td>-8=I don't know=-7=I prefer not to answer=01=G...</td>\n",
       "    </tr>\n",
       "    <tr>\n",
       "      <th>3</th>\n",
       "      <td>GT1JBLWK</td>\n",
       "      <td>C</td>\n",
       "      <td>-9=Not ascertained=-8=I don't know=-7=I prefer...</td>\n",
       "    </tr>\n",
       "    <tr>\n",
       "      <th>4</th>\n",
       "      <td>HBHUR</td>\n",
       "      <td>C</td>\n",
       "      <td>C=Second City=R=Rural=S=Suburban=T=Small Town=...</td>\n",
       "    </tr>\n",
       "  </tbody>\n",
       "</table>\n",
       "</div>"
      ],
      "text/plain": [
       "       Name Type                                       Code / Range\n",
       "0       CAR    C  -8=I don't know=-7=I prefer not to answer=-1=A...\n",
       "1      EDUC    C  -8=I don't know=-7=I prefer not to answer=-1=A...\n",
       "2  FUELTYPE    C  -8=I don't know=-7=I prefer not to answer=01=G...\n",
       "3  GT1JBLWK    C  -9=Not ascertained=-8=I don't know=-7=I prefer...\n",
       "4     HBHUR    C  C=Second City=R=Rural=S=Suburban=T=Small Town=..."
      ]
     },
     "execution_count": 59,
     "metadata": {},
     "output_type": "execute_result"
    }
   ],
   "source": [
    "#Get first few rows\n",
    "codebook_reshape_c.head()"
   ]
  },
  {
   "cell_type": "code",
   "execution_count": 60,
   "metadata": {},
   "outputs": [
    {
     "data": {
      "text/html": [
       "<div>\n",
       "<style scoped>\n",
       "    .dataframe tbody tr th:only-of-type {\n",
       "        vertical-align: middle;\n",
       "    }\n",
       "\n",
       "    .dataframe tbody tr th {\n",
       "        vertical-align: top;\n",
       "    }\n",
       "\n",
       "    .dataframe thead th {\n",
       "        text-align: right;\n",
       "    }\n",
       "</style>\n",
       "<table border=\"1\" class=\"dataframe\">\n",
       "  <thead>\n",
       "    <tr style=\"text-align: right;\">\n",
       "      <th></th>\n",
       "      <th>Name</th>\n",
       "      <th>Type</th>\n",
       "      <th>Code / Range</th>\n",
       "    </tr>\n",
       "  </thead>\n",
       "  <tbody>\n",
       "    <tr>\n",
       "      <th>19</th>\n",
       "      <td>VEHID</td>\n",
       "      <td>C</td>\n",
       "      <td>01=02=03=04=05=06=07=08=09=10=11=12=-9=Not asc...</td>\n",
       "    </tr>\n",
       "    <tr>\n",
       "      <th>20</th>\n",
       "      <td>VEHOWNED</td>\n",
       "      <td>C</td>\n",
       "      <td>-9=Not ascertained=-8=I don't know=-7=I prefer...</td>\n",
       "    </tr>\n",
       "    <tr>\n",
       "      <th>21</th>\n",
       "      <td>VEHOWNMO</td>\n",
       "      <td>C</td>\n",
       "      <td>-9=Not ascertained=-8=I don't know=-7=I prefer...</td>\n",
       "    </tr>\n",
       "    <tr>\n",
       "      <th>22</th>\n",
       "      <td>WKFTPT</td>\n",
       "      <td>C</td>\n",
       "      <td>-8=I don't know=-7=I prefer not to answer=-1=A...</td>\n",
       "    </tr>\n",
       "    <tr>\n",
       "      <th>23</th>\n",
       "      <td>WKRMHM</td>\n",
       "      <td>C</td>\n",
       "      <td>-9=Not ascertained=-8=I don't know=-7=I prefer...</td>\n",
       "    </tr>\n",
       "  </tbody>\n",
       "</table>\n",
       "</div>"
      ],
      "text/plain": [
       "        Name Type                                       Code / Range\n",
       "19     VEHID    C  01=02=03=04=05=06=07=08=09=10=11=12=-9=Not asc...\n",
       "20  VEHOWNED    C  -9=Not ascertained=-8=I don't know=-7=I prefer...\n",
       "21  VEHOWNMO    C  -9=Not ascertained=-8=I don't know=-7=I prefer...\n",
       "22    WKFTPT    C  -8=I don't know=-7=I prefer not to answer=-1=A...\n",
       "23    WKRMHM    C  -9=Not ascertained=-8=I don't know=-7=I prefer..."
      ]
     },
     "execution_count": 60,
     "metadata": {},
     "output_type": "execute_result"
    }
   ],
   "source": [
    "#Get last few rows\n",
    "codebook_reshape_c.tail()"
   ]
  },
  {
   "cell_type": "code",
   "execution_count": 61,
   "metadata": {},
   "outputs": [],
   "source": [
    "#Split with equal\n",
    "codebook_reshape_c['New'] = codebook_reshape_c['Code / Range'].str.split('=')"
   ]
  },
  {
   "cell_type": "code",
   "execution_count": 62,
   "metadata": {},
   "outputs": [
    {
     "data": {
      "text/html": [
       "<div>\n",
       "<style scoped>\n",
       "    .dataframe tbody tr th:only-of-type {\n",
       "        vertical-align: middle;\n",
       "    }\n",
       "\n",
       "    .dataframe tbody tr th {\n",
       "        vertical-align: top;\n",
       "    }\n",
       "\n",
       "    .dataframe thead th {\n",
       "        text-align: right;\n",
       "    }\n",
       "</style>\n",
       "<table border=\"1\" class=\"dataframe\">\n",
       "  <thead>\n",
       "    <tr style=\"text-align: right;\">\n",
       "      <th></th>\n",
       "      <th>Name</th>\n",
       "      <th>Type</th>\n",
       "      <th>Code / Range</th>\n",
       "      <th>New</th>\n",
       "    </tr>\n",
       "  </thead>\n",
       "  <tbody>\n",
       "    <tr>\n",
       "      <th>0</th>\n",
       "      <td>CAR</td>\n",
       "      <td>C</td>\n",
       "      <td>-8=I don't know=-7=I prefer not to answer=-1=A...</td>\n",
       "      <td>[-8, I don't know, -7, I prefer not to answer,...</td>\n",
       "    </tr>\n",
       "    <tr>\n",
       "      <th>1</th>\n",
       "      <td>EDUC</td>\n",
       "      <td>C</td>\n",
       "      <td>-8=I don't know=-7=I prefer not to answer=-1=A...</td>\n",
       "      <td>[-8, I don't know, -7, I prefer not to answer,...</td>\n",
       "    </tr>\n",
       "    <tr>\n",
       "      <th>2</th>\n",
       "      <td>FUELTYPE</td>\n",
       "      <td>C</td>\n",
       "      <td>-8=I don't know=-7=I prefer not to answer=01=G...</td>\n",
       "      <td>[-8, I don't know, -7, I prefer not to answer,...</td>\n",
       "    </tr>\n",
       "    <tr>\n",
       "      <th>3</th>\n",
       "      <td>GT1JBLWK</td>\n",
       "      <td>C</td>\n",
       "      <td>-9=Not ascertained=-8=I don't know=-7=I prefer...</td>\n",
       "      <td>[-9, Not ascertained, -8, I don't know, -7, I ...</td>\n",
       "    </tr>\n",
       "    <tr>\n",
       "      <th>4</th>\n",
       "      <td>HBHUR</td>\n",
       "      <td>C</td>\n",
       "      <td>C=Second City=R=Rural=S=Suburban=T=Small Town=...</td>\n",
       "      <td>[C, Second City, R, Rural, S, Suburban, T, Sma...</td>\n",
       "    </tr>\n",
       "  </tbody>\n",
       "</table>\n",
       "</div>"
      ],
      "text/plain": [
       "       Name Type                                       Code / Range  \\\n",
       "0       CAR    C  -8=I don't know=-7=I prefer not to answer=-1=A...   \n",
       "1      EDUC    C  -8=I don't know=-7=I prefer not to answer=-1=A...   \n",
       "2  FUELTYPE    C  -8=I don't know=-7=I prefer not to answer=01=G...   \n",
       "3  GT1JBLWK    C  -9=Not ascertained=-8=I don't know=-7=I prefer...   \n",
       "4     HBHUR    C  C=Second City=R=Rural=S=Suburban=T=Small Town=...   \n",
       "\n",
       "                                                 New  \n",
       "0  [-8, I don't know, -7, I prefer not to answer,...  \n",
       "1  [-8, I don't know, -7, I prefer not to answer,...  \n",
       "2  [-8, I don't know, -7, I prefer not to answer,...  \n",
       "3  [-9, Not ascertained, -8, I don't know, -7, I ...  \n",
       "4  [C, Second City, R, Rural, S, Suburban, T, Sma...  "
      ]
     },
     "execution_count": 62,
     "metadata": {},
     "output_type": "execute_result"
    }
   ],
   "source": [
    "#get first few rows\n",
    "codebook_reshape_c.head()"
   ]
  },
  {
   "cell_type": "code",
   "execution_count": 63,
   "metadata": {},
   "outputs": [
    {
     "data": {
      "text/plain": [
       "(24, 4)"
      ]
     },
     "execution_count": 63,
     "metadata": {},
     "output_type": "execute_result"
    }
   ],
   "source": [
    "#Get dimension of data\n",
    "codebook_reshape_c.shape"
   ]
  },
  {
   "cell_type": "code",
   "execution_count": 64,
   "metadata": {},
   "outputs": [
    {
     "data": {
      "text/html": [
       "<div>\n",
       "<style scoped>\n",
       "    .dataframe tbody tr th:only-of-type {\n",
       "        vertical-align: middle;\n",
       "    }\n",
       "\n",
       "    .dataframe tbody tr th {\n",
       "        vertical-align: top;\n",
       "    }\n",
       "\n",
       "    .dataframe thead th {\n",
       "        text-align: right;\n",
       "    }\n",
       "</style>\n",
       "<table border=\"1\" class=\"dataframe\">\n",
       "  <thead>\n",
       "    <tr style=\"text-align: right;\">\n",
       "      <th></th>\n",
       "      <th>Name</th>\n",
       "      <th>Type</th>\n",
       "      <th>Code / Range</th>\n",
       "      <th>New</th>\n",
       "      <th>New_m</th>\n",
       "    </tr>\n",
       "  </thead>\n",
       "  <tbody>\n",
       "    <tr>\n",
       "      <th>0</th>\n",
       "      <td>CAR</td>\n",
       "      <td>C</td>\n",
       "      <td>-8=I don't know=-7=I prefer not to answer=-1=A...</td>\n",
       "      <td>[-8, I don't know, -7, I prefer not to answer,...</td>\n",
       "      <td>{'-8': 'I don't know', '-7': 'I prefer not to ...</td>\n",
       "    </tr>\n",
       "    <tr>\n",
       "      <th>1</th>\n",
       "      <td>EDUC</td>\n",
       "      <td>C</td>\n",
       "      <td>-8=I don't know=-7=I prefer not to answer=-1=A...</td>\n",
       "      <td>[-8, I don't know, -7, I prefer not to answer,...</td>\n",
       "      <td>{'-8': 'I don't know', '-7': 'I prefer not to ...</td>\n",
       "    </tr>\n",
       "    <tr>\n",
       "      <th>2</th>\n",
       "      <td>FUELTYPE</td>\n",
       "      <td>C</td>\n",
       "      <td>-8=I don't know=-7=I prefer not to answer=01=G...</td>\n",
       "      <td>[-8, I don't know, -7, I prefer not to answer,...</td>\n",
       "      <td>{'-8': 'I don't know', '-7': 'I prefer not to ...</td>\n",
       "    </tr>\n",
       "    <tr>\n",
       "      <th>3</th>\n",
       "      <td>GT1JBLWK</td>\n",
       "      <td>C</td>\n",
       "      <td>-9=Not ascertained=-8=I don't know=-7=I prefer...</td>\n",
       "      <td>[-9, Not ascertained, -8, I don't know, -7, I ...</td>\n",
       "      <td>{'-9': 'Not ascertained', '-8': 'I don't know'...</td>\n",
       "    </tr>\n",
       "    <tr>\n",
       "      <th>4</th>\n",
       "      <td>HBHUR</td>\n",
       "      <td>C</td>\n",
       "      <td>C=Second City=R=Rural=S=Suburban=T=Small Town=...</td>\n",
       "      <td>[C, Second City, R, Rural, S, Suburban, T, Sma...</td>\n",
       "      <td>{'C': 'Second City', 'R': 'Rural', 'S': 'Subur...</td>\n",
       "    </tr>\n",
       "  </tbody>\n",
       "</table>\n",
       "</div>"
      ],
      "text/plain": [
       "       Name Type                                       Code / Range  \\\n",
       "0       CAR    C  -8=I don't know=-7=I prefer not to answer=-1=A...   \n",
       "1      EDUC    C  -8=I don't know=-7=I prefer not to answer=-1=A...   \n",
       "2  FUELTYPE    C  -8=I don't know=-7=I prefer not to answer=01=G...   \n",
       "3  GT1JBLWK    C  -9=Not ascertained=-8=I don't know=-7=I prefer...   \n",
       "4     HBHUR    C  C=Second City=R=Rural=S=Suburban=T=Small Town=...   \n",
       "\n",
       "                                                 New  \\\n",
       "0  [-8, I don't know, -7, I prefer not to answer,...   \n",
       "1  [-8, I don't know, -7, I prefer not to answer,...   \n",
       "2  [-8, I don't know, -7, I prefer not to answer,...   \n",
       "3  [-9, Not ascertained, -8, I don't know, -7, I ...   \n",
       "4  [C, Second City, R, Rural, S, Suburban, T, Sma...   \n",
       "\n",
       "                                               New_m  \n",
       "0  {'-8': 'I don't know', '-7': 'I prefer not to ...  \n",
       "1  {'-8': 'I don't know', '-7': 'I prefer not to ...  \n",
       "2  {'-8': 'I don't know', '-7': 'I prefer not to ...  \n",
       "3  {'-9': 'Not ascertained', '-8': 'I don't know'...  \n",
       "4  {'C': 'Second City', 'R': 'Rural', 'S': 'Subur...  "
      ]
     },
     "execution_count": 64,
     "metadata": {},
     "output_type": "execute_result"
    }
   ],
   "source": [
    "#Create new column\n",
    "codebook_reshape_c['New_m'] = codebook_reshape_c['New'].apply(lambda x: dict(zip(x[::2], x[1::2])))\n",
    "codebook_reshape_c.head()"
   ]
  },
  {
   "cell_type": "code",
   "execution_count": 65,
   "metadata": {},
   "outputs": [
    {
     "data": {
      "text/plain": [
       "(24, 5)"
      ]
     },
     "execution_count": 65,
     "metadata": {},
     "output_type": "execute_result"
    }
   ],
   "source": [
    "codebook_reshape_c.shape"
   ]
  },
  {
   "cell_type": "code",
   "execution_count": 66,
   "metadata": {},
   "outputs": [],
   "source": [
    "#export file\n",
    "\n",
    "codebook_reshape_c.to_csv(\"codebook_reshape.csv\")"
   ]
  },
  {
   "cell_type": "code",
   "execution_count": 67,
   "metadata": {},
   "outputs": [],
   "source": [
    "#create a dict variables to loop\n",
    "val_label = dict(zip(codebook_reshape_c.Name,codebook_reshape_c.New_m))"
   ]
  },
  {
   "cell_type": "code",
   "execution_count": 172,
   "metadata": {},
   "outputs": [
    {
     "data": {
      "text/plain": [
       "{'CAR': {'-8': \"I don't know\",\n",
       "  '-7': 'I prefer not to answer',\n",
       "  '-1': 'Appropriate skip',\n",
       "  '01': 'Daily',\n",
       "  '02': 'A few times a week',\n",
       "  '03': 'A few times a month',\n",
       "  '04': 'A few times a year',\n",
       "  '05': 'Never'},\n",
       " 'EDUC': {'-8': \"I don't know\",\n",
       "  '-7': 'I prefer not to answer',\n",
       "  '-1': 'Appropriate skip',\n",
       "  '01': 'Less than a high school graduate',\n",
       "  '02': 'High school graduate or GED',\n",
       "  '03': 'Some college or associates degree',\n",
       "  '04': \"Bachelor's degree\",\n",
       "  '05': 'Graduate degree or professional degree'},\n",
       " 'FUELTYPE': {'-8': \"I don't know\",\n",
       "  '-7': 'I prefer not to answer',\n",
       "  '01': 'Gas',\n",
       "  '02': 'Diesel',\n",
       "  '03': 'Hybrid, electric or alternative fuel',\n",
       "  '97': 'Some other fuel'},\n",
       " 'GT1JBLWK': {'-9': 'Not ascertained',\n",
       "  '-8': \"I don't know\",\n",
       "  '-7': 'I prefer not to answer',\n",
       "  '-1': 'Appropriate skip',\n",
       "  '01': 'Yes',\n",
       "  '02': 'No'},\n",
       " 'HBHUR': {'C': 'Second City',\n",
       "  'R': 'Rural',\n",
       "  'S': 'Suburban',\n",
       "  'T': 'Small Town',\n",
       "  'U': 'Urban',\n",
       "  '-9': 'Not ascertained'},\n",
       " 'HBPPOPDN': {'-9': 'Not ascertained',\n",
       "  '50': '0-99',\n",
       "  '300': '100-499',\n",
       "  '750': '500-999',\n",
       "  '1500': '1,000-1,999',\n",
       "  '3000': '2,000-3,999',\n",
       "  '7000': '4,000-9,999',\n",
       "  '17000': '10,000-24,999',\n",
       "  '30000': '25,000-999,999'},\n",
       " 'HBRESDN': {'-9': 'Not ascertained',\n",
       "  '50': '0-99',\n",
       "  '300': '100-499',\n",
       "  '750': '500-999',\n",
       "  '1500': '1,000-1,999',\n",
       "  '3000': '2,000-3,999',\n",
       "  '7000': '4,000-9,999',\n",
       "  '17000': '10,000-24,999',\n",
       "  '30000': '25,000-999,999'},\n",
       " 'HFUEL': {'-9': 'Not ascertained',\n",
       "  '-8': \"I don't know\",\n",
       "  '-1': 'Appropriate skip',\n",
       "  '01': 'Biodiesel',\n",
       "  '02': 'Plug-in Hybrid (gas/electric e.g., Chevy Volt)',\n",
       "  '03': 'Electric (e.g. Nissan Leaf)',\n",
       "  '04': 'Hybrid (gas/electric, not plug-in e.g., Toyota Prius)',\n",
       "  '97': 'Some other fuel'},\n",
       " 'HHFAMINC': {'-9': 'Not ascertained',\n",
       "  '-8': \"I don't know\",\n",
       "  '-7': 'I prefer not to answer',\n",
       "  '01': 'Less than $10,000',\n",
       "  '02': '$10,000 to $14,999',\n",
       "  '03': '$15,000 to $24,999',\n",
       "  '04': '$25,000 to $34,999',\n",
       "  '05': '$35,000 to $49,999',\n",
       "  '06': '$50,000 to $74,999',\n",
       "  '07': '$75,000 to $99,999',\n",
       "  '08': '$100,000 to $124,999',\n",
       "  '09': '$125,000 to $149,999',\n",
       "  '10': '$150,000 to $199,999',\n",
       "  '11': '$200,000 or more'},\n",
       " 'HHSTATE': {'AK': 'AL',\n",
       "  'AR': 'AZ',\n",
       "  'CA': 'CO',\n",
       "  'CT': 'DC',\n",
       "  'DE': 'FL',\n",
       "  'GA': 'HI',\n",
       "  'IA': 'ID',\n",
       "  'IL': 'IN',\n",
       "  'KS': 'KY',\n",
       "  'LA': 'MA',\n",
       "  'MD': 'ME',\n",
       "  'MI': 'MN',\n",
       "  'MO': 'MS',\n",
       "  'MT': 'NC',\n",
       "  'ND': 'NE',\n",
       "  'NH': 'NJ',\n",
       "  'NM': 'NV',\n",
       "  'NY': 'OH',\n",
       "  'OK': 'OR',\n",
       "  'PA': 'RI',\n",
       "  'SC': 'SD',\n",
       "  'TN': 'TX',\n",
       "  'UT': 'VA',\n",
       "  'VT': 'WA',\n",
       "  'WI': 'WV',\n",
       "  'WY': 'AK',\n",
       "  'AL': 'AR',\n",
       "  'AZ': 'CA',\n",
       "  'CO': 'CT',\n",
       "  'DC': 'DE',\n",
       "  'FL': 'GA',\n",
       "  'HI': 'IA',\n",
       "  'ID': 'IL',\n",
       "  'IN': 'KS',\n",
       "  'KY': 'LA',\n",
       "  'MA': 'MD',\n",
       "  'ME': 'MI',\n",
       "  'MN': 'MO',\n",
       "  'MS': 'MT',\n",
       "  'NC': 'ND',\n",
       "  'NE': 'NH',\n",
       "  'NJ': 'NM',\n",
       "  'NV': 'NY',\n",
       "  'OH': 'OK',\n",
       "  'OR': 'PA',\n",
       "  'RI': 'SC',\n",
       "  'SD': 'TN',\n",
       "  'TX': 'UT',\n",
       "  'VA': 'VT',\n",
       "  'WA': 'WI',\n",
       "  'WV': 'WY'},\n",
       " 'HOMEOWN': {'-8': \"I don't know\",\n",
       "  '-7': 'I prefer not to answer',\n",
       "  '01': 'Own',\n",
       "  '02': 'Rent',\n",
       "  '97': 'Some other arrangement'},\n",
       " 'HOUSEID': {'Responses': '30000007-50515573'},\n",
       " 'OCCAT': {'-9': 'Not ascertained',\n",
       "  '-8': \"I don't know\",\n",
       "  '-7': 'I prefer not to answer',\n",
       "  '-1': 'Appropriate skip',\n",
       "  '01': 'Sales or service',\n",
       "  '02': 'Clerical or administrative support',\n",
       "  '03': 'Manufacturing, construction, maintenance, or farming',\n",
       "  '04': 'Professional, managerial, or technical',\n",
       "  '97': 'Something else'},\n",
       " 'PERSONID': {'01': '02',\n",
       "  '03': '04',\n",
       "  '05': '06',\n",
       "  '07': '08',\n",
       "  '09': '10',\n",
       "  '11': '12',\n",
       "  '13': '-8',\n",
       "  \"I don't know\": '-7',\n",
       "  'I prefer not to answer': '01',\n",
       "  '02': '03',\n",
       "  '04': '05',\n",
       "  '06': '07',\n",
       "  '08': '09',\n",
       "  '10': '97'},\n",
       " 'PLACE': {'-9': 'Not ascertained',\n",
       "  '-8': \"I don't know\",\n",
       "  '-7': 'I prefer not to answer',\n",
       "  '01': 'Strongly agree',\n",
       "  '02': 'Agree',\n",
       "  '03': 'Neither Agree or Disagree',\n",
       "  '04': 'Disagree',\n",
       "  '05': 'Strongly disagree'},\n",
       " 'PRICE': {'-9': 'Not ascertained',\n",
       "  '-8': \"I don't know\",\n",
       "  '-7': 'I prefer not to answer',\n",
       "  '01': 'Strongly agree',\n",
       "  '02': 'Agree',\n",
       "  '03': 'Neither Agree or Disagree',\n",
       "  '04': 'Disagree',\n",
       "  '05': 'Strongly disagree'},\n",
       " 'R_HISP': {'-8': \"I don't know\",\n",
       "  '-7': 'I prefer not to answer',\n",
       "  '01': 'Yes, Hispanic or Latino',\n",
       "  '02': 'No, Not Hispanic or Latino'},\n",
       " 'R_RACE': {'-8': \"Don't know\",\n",
       "  '-7': 'Refused',\n",
       "  '01': 'White',\n",
       "  '02': 'Black or African American',\n",
       "  '03': 'Asian',\n",
       "  '04': 'American Indian or Alaska Native',\n",
       "  '05': 'Native Hawaiian or other Pacific Islander',\n",
       "  '06': 'Multiple responses selected',\n",
       "  '97': 'Some other race'},\n",
       " 'R_SEX': {'-8': \"I don't know\",\n",
       "  '-7': 'I prefer not to answer',\n",
       "  '01': 'Male',\n",
       "  '02': 'Female'},\n",
       " 'VEHID': {'01': '02',\n",
       "  '03': '04',\n",
       "  '05': '06',\n",
       "  '07': '08',\n",
       "  '09': '10',\n",
       "  '11': '12',\n",
       "  '-9': 'Not ascertained',\n",
       "  '-1': 'Appropriate skip',\n",
       "  '12': '97'},\n",
       " 'VEHOWNED': {'-9': 'Not ascertained',\n",
       "  '-8': \"I don't know\",\n",
       "  '-7': 'I prefer not to answer',\n",
       "  '01': 'Yes',\n",
       "  '02': 'No'},\n",
       " 'VEHOWNMO': {'-9': 'Not ascertained',\n",
       "  '-8': \"I don't know\",\n",
       "  '-7': 'I prefer not to answer',\n",
       "  '-1': 'Appropriate skip',\n",
       "  '0': '01',\n",
       "  '02': '03',\n",
       "  '04': '05',\n",
       "  '06': '07',\n",
       "  '08': '09',\n",
       "  '10': '11'},\n",
       " 'WKFTPT': {'-8': \"I don't know\",\n",
       "  '-7': 'I prefer not to answer',\n",
       "  '-1': 'Appropriate skip',\n",
       "  '01': 'Full-time',\n",
       "  '02': 'Part-time'},\n",
       " 'WKRMHM': {'-9': 'Not ascertained',\n",
       "  '-8': \"I don't know\",\n",
       "  '-7': 'I prefer not to answer',\n",
       "  '-1': 'Appropriate skip',\n",
       "  '01': 'Yes',\n",
       "  '02': 'No'}}"
      ]
     },
     "execution_count": 172,
     "metadata": {},
     "output_type": "execute_result"
    }
   ],
   "source": [
    "val_label"
   ]
  },
  {
   "cell_type": "code",
   "execution_count": 68,
   "metadata": {},
   "outputs": [],
   "source": [
    "#add labels and make variables string\n",
    "for key, val in val_label.items():\n",
    "    data[key + \"_label\"] = data[key].replace(val)"
   ]
  },
  {
   "cell_type": "code",
   "execution_count": 69,
   "metadata": {},
   "outputs": [],
   "source": [
    "data.drop(columns = ['HOUSEID_label', 'VEHID_label','PERSONID_label'], inplace=True)"
   ]
  },
  {
   "cell_type": "code",
   "execution_count": 70,
   "metadata": {},
   "outputs": [
    {
     "data": {
      "text/html": [
       "<div>\n",
       "<style scoped>\n",
       "    .dataframe tbody tr th:only-of-type {\n",
       "        vertical-align: middle;\n",
       "    }\n",
       "\n",
       "    .dataframe tbody tr th {\n",
       "        vertical-align: top;\n",
       "    }\n",
       "\n",
       "    .dataframe thead th {\n",
       "        text-align: right;\n",
       "    }\n",
       "</style>\n",
       "<table border=\"1\" class=\"dataframe\">\n",
       "  <thead>\n",
       "    <tr style=\"text-align: right;\">\n",
       "      <th></th>\n",
       "      <th>HOUSEID</th>\n",
       "      <th>PERSONID</th>\n",
       "      <th>VEHID</th>\n",
       "      <th>CAR</th>\n",
       "      <th>HBHUR</th>\n",
       "      <th>HBPPOPDN</th>\n",
       "      <th>HBRESDN</th>\n",
       "      <th>HHFAMINC</th>\n",
       "      <th>HHSIZE</th>\n",
       "      <th>HHSTATE</th>\n",
       "      <th>...</th>\n",
       "      <th>OCCAT_label</th>\n",
       "      <th>PLACE_label</th>\n",
       "      <th>PRICE_label</th>\n",
       "      <th>R_HISP_label</th>\n",
       "      <th>R_RACE_label</th>\n",
       "      <th>R_SEX_label</th>\n",
       "      <th>VEHOWNED_label</th>\n",
       "      <th>VEHOWNMO_label</th>\n",
       "      <th>WKFTPT_label</th>\n",
       "      <th>WKRMHM_label</th>\n",
       "    </tr>\n",
       "  </thead>\n",
       "  <tbody>\n",
       "    <tr>\n",
       "      <th>0</th>\n",
       "      <td>30000007</td>\n",
       "      <td>03</td>\n",
       "      <td>01</td>\n",
       "      <td>01</td>\n",
       "      <td>T</td>\n",
       "      <td>750</td>\n",
       "      <td>300</td>\n",
       "      <td>07</td>\n",
       "      <td>3.0</td>\n",
       "      <td>NC</td>\n",
       "      <td>...</td>\n",
       "      <td>Appropriate skip</td>\n",
       "      <td>Agree</td>\n",
       "      <td>Strongly agree</td>\n",
       "      <td>No, Not Hispanic or Latino</td>\n",
       "      <td>Black or African American</td>\n",
       "      <td>Female</td>\n",
       "      <td>Yes</td>\n",
       "      <td>Appropriate skip</td>\n",
       "      <td>Appropriate skip</td>\n",
       "      <td>Appropriate skip</td>\n",
       "    </tr>\n",
       "    <tr>\n",
       "      <th>1</th>\n",
       "      <td>30000007</td>\n",
       "      <td>01</td>\n",
       "      <td>03</td>\n",
       "      <td>01</td>\n",
       "      <td>T</td>\n",
       "      <td>750</td>\n",
       "      <td>300</td>\n",
       "      <td>07</td>\n",
       "      <td>3.0</td>\n",
       "      <td>NC</td>\n",
       "      <td>...</td>\n",
       "      <td>Appropriate skip</td>\n",
       "      <td>Agree</td>\n",
       "      <td>Strongly agree</td>\n",
       "      <td>No, Not Hispanic or Latino</td>\n",
       "      <td>Black or African American</td>\n",
       "      <td>Female</td>\n",
       "      <td>Yes</td>\n",
       "      <td>Appropriate skip</td>\n",
       "      <td>Appropriate skip</td>\n",
       "      <td>Appropriate skip</td>\n",
       "    </tr>\n",
       "    <tr>\n",
       "      <th>2</th>\n",
       "      <td>30000007</td>\n",
       "      <td>02</td>\n",
       "      <td>04</td>\n",
       "      <td>01</td>\n",
       "      <td>T</td>\n",
       "      <td>750</td>\n",
       "      <td>300</td>\n",
       "      <td>07</td>\n",
       "      <td>3.0</td>\n",
       "      <td>NC</td>\n",
       "      <td>...</td>\n",
       "      <td>Clerical or administrative support</td>\n",
       "      <td>Agree</td>\n",
       "      <td>Strongly agree</td>\n",
       "      <td>No, Not Hispanic or Latino</td>\n",
       "      <td>Black or African American</td>\n",
       "      <td>Male</td>\n",
       "      <td>Yes</td>\n",
       "      <td>Appropriate skip</td>\n",
       "      <td>Full-time</td>\n",
       "      <td>No</td>\n",
       "    </tr>\n",
       "    <tr>\n",
       "      <th>3</th>\n",
       "      <td>30000007</td>\n",
       "      <td>02</td>\n",
       "      <td>05</td>\n",
       "      <td>01</td>\n",
       "      <td>T</td>\n",
       "      <td>750</td>\n",
       "      <td>300</td>\n",
       "      <td>07</td>\n",
       "      <td>3.0</td>\n",
       "      <td>NC</td>\n",
       "      <td>...</td>\n",
       "      <td>Clerical or administrative support</td>\n",
       "      <td>Agree</td>\n",
       "      <td>Strongly agree</td>\n",
       "      <td>No, Not Hispanic or Latino</td>\n",
       "      <td>Black or African American</td>\n",
       "      <td>Male</td>\n",
       "      <td>Yes</td>\n",
       "      <td>Appropriate skip</td>\n",
       "      <td>Full-time</td>\n",
       "      <td>No</td>\n",
       "    </tr>\n",
       "    <tr>\n",
       "      <th>4</th>\n",
       "      <td>30000008</td>\n",
       "      <td>02</td>\n",
       "      <td>02</td>\n",
       "      <td>01</td>\n",
       "      <td>R</td>\n",
       "      <td>300</td>\n",
       "      <td>300</td>\n",
       "      <td>08</td>\n",
       "      <td>2.0</td>\n",
       "      <td>WI</td>\n",
       "      <td>...</td>\n",
       "      <td>Clerical or administrative support</td>\n",
       "      <td>Agree</td>\n",
       "      <td>Strongly disagree</td>\n",
       "      <td>No, Not Hispanic or Latino</td>\n",
       "      <td>White</td>\n",
       "      <td>Female</td>\n",
       "      <td>Yes</td>\n",
       "      <td>Appropriate skip</td>\n",
       "      <td>Full-time</td>\n",
       "      <td>No</td>\n",
       "    </tr>\n",
       "  </tbody>\n",
       "</table>\n",
       "<p>5 rows × 55 columns</p>\n",
       "</div>"
      ],
      "text/plain": [
       "    HOUSEID PERSONID VEHID CAR HBHUR HBPPOPDN HBRESDN HHFAMINC  HHSIZE  \\\n",
       "0  30000007       03    01  01     T      750     300       07     3.0   \n",
       "1  30000007       01    03  01     T      750     300       07     3.0   \n",
       "2  30000007       02    04  01     T      750     300       07     3.0   \n",
       "3  30000007       02    05  01     T      750     300       07     3.0   \n",
       "4  30000008       02    02  01     R      300     300       08     2.0   \n",
       "\n",
       "  HHSTATE  ...                         OCCAT_label PLACE_label  \\\n",
       "0      NC  ...                    Appropriate skip       Agree   \n",
       "1      NC  ...                    Appropriate skip       Agree   \n",
       "2      NC  ...  Clerical or administrative support       Agree   \n",
       "3      NC  ...  Clerical or administrative support       Agree   \n",
       "4      WI  ...  Clerical or administrative support       Agree   \n",
       "\n",
       "         PRICE_label                R_HISP_label               R_RACE_label  \\\n",
       "0     Strongly agree  No, Not Hispanic or Latino  Black or African American   \n",
       "1     Strongly agree  No, Not Hispanic or Latino  Black or African American   \n",
       "2     Strongly agree  No, Not Hispanic or Latino  Black or African American   \n",
       "3     Strongly agree  No, Not Hispanic or Latino  Black or African American   \n",
       "4  Strongly disagree  No, Not Hispanic or Latino                      White   \n",
       "\n",
       "   R_SEX_label VEHOWNED_label    VEHOWNMO_label      WKFTPT_label  \\\n",
       "0       Female            Yes  Appropriate skip  Appropriate skip   \n",
       "1       Female            Yes  Appropriate skip  Appropriate skip   \n",
       "2         Male            Yes  Appropriate skip         Full-time   \n",
       "3         Male            Yes  Appropriate skip         Full-time   \n",
       "4       Female            Yes  Appropriate skip         Full-time   \n",
       "\n",
       "       WKRMHM_label  \n",
       "0  Appropriate skip  \n",
       "1  Appropriate skip  \n",
       "2                No  \n",
       "3                No  \n",
       "4                No  \n",
       "\n",
       "[5 rows x 55 columns]"
      ]
     },
     "execution_count": 70,
     "metadata": {},
     "output_type": "execute_result"
    }
   ],
   "source": [
    "#review first few rows\n",
    "data.head()"
   ]
  },
  {
   "cell_type": "code",
   "execution_count": 71,
   "metadata": {},
   "outputs": [
    {
     "data": {
      "text/plain": [
       "(250200, 55)"
      ]
     },
     "execution_count": 71,
     "metadata": {},
     "output_type": "execute_result"
    }
   ],
   "source": [
    "#get dimension\n",
    "data.shape"
   ]
  },
  {
   "cell_type": "code",
   "execution_count": 72,
   "metadata": {},
   "outputs": [],
   "source": [
    "data = data.reindex(sorted(data.columns), axis=1)"
   ]
  },
  {
   "cell_type": "code",
   "execution_count": 73,
   "metadata": {},
   "outputs": [
    {
     "data": {
      "text/plain": [
       "['CAR',\n",
       " 'CARSHARE',\n",
       " 'CAR_label',\n",
       " 'DRVRCNT',\n",
       " 'EDUC',\n",
       " 'EDUC_label',\n",
       " 'FUELTYPE',\n",
       " 'FUELTYPE_label',\n",
       " 'GT1JBLWK',\n",
       " 'GT1JBLWK_label',\n",
       " 'HBHUR',\n",
       " 'HBHUR_label',\n",
       " 'HBPPOPDN',\n",
       " 'HBPPOPDN_label',\n",
       " 'HBRESDN',\n",
       " 'HBRESDN_label',\n",
       " 'HFUEL',\n",
       " 'HFUEL_label',\n",
       " 'HHFAMINC',\n",
       " 'HHFAMINC_label',\n",
       " 'HHSIZE',\n",
       " 'HHSTATE',\n",
       " 'HHSTATE_label',\n",
       " 'HHVEHCNT',\n",
       " 'HOMEOWN',\n",
       " 'HOMEOWN_label',\n",
       " 'HOUSEID',\n",
       " 'OCCAT',\n",
       " 'OCCAT_label',\n",
       " 'PERSONID',\n",
       " 'PLACE',\n",
       " 'PLACE_label',\n",
       " 'PRICE',\n",
       " 'PRICE_label',\n",
       " 'R_AGE',\n",
       " 'R_HISP',\n",
       " 'R_HISP_label',\n",
       " 'R_RACE',\n",
       " 'R_RACE_label',\n",
       " 'R_SEX',\n",
       " 'R_SEX_label',\n",
       " 'TIMETOWK',\n",
       " 'VEHAGE',\n",
       " 'VEHID',\n",
       " 'VEHOWNED',\n",
       " 'VEHOWNED_label',\n",
       " 'VEHOWNMO',\n",
       " 'VEHOWNMO_label',\n",
       " 'WKFTPT',\n",
       " 'WKFTPT_label',\n",
       " 'WKRMHM',\n",
       " 'WKRMHM_label',\n",
       " 'WRKCOUNT',\n",
       " 'YEARMILE',\n",
       " 'YOUNGCHILD']"
      ]
     },
     "execution_count": 73,
     "metadata": {},
     "output_type": "execute_result"
    }
   ],
   "source": [
    "sorted(data.columns)"
   ]
  },
  {
   "cell_type": "code",
   "execution_count": 74,
   "metadata": {},
   "outputs": [
    {
     "data": {
      "text/plain": [
       "52"
      ]
     },
     "execution_count": 74,
     "metadata": {},
     "output_type": "execute_result"
    }
   ],
   "source": [
    "#reorder variables\n",
    "first_cols = ['HOUSEID','PERSONID','VEHID']\n",
    "last_cols = [col for col in data.columns if col not in first_cols]\n",
    "len(last_cols)"
   ]
  },
  {
   "cell_type": "code",
   "execution_count": 75,
   "metadata": {},
   "outputs": [],
   "source": [
    "#reorder variables\n",
    "data = data[first_cols+last_cols]"
   ]
  },
  {
   "cell_type": "code",
   "execution_count": 76,
   "metadata": {},
   "outputs": [
    {
     "data": {
      "text/html": [
       "<div>\n",
       "<style scoped>\n",
       "    .dataframe tbody tr th:only-of-type {\n",
       "        vertical-align: middle;\n",
       "    }\n",
       "\n",
       "    .dataframe tbody tr th {\n",
       "        vertical-align: top;\n",
       "    }\n",
       "\n",
       "    .dataframe thead th {\n",
       "        text-align: right;\n",
       "    }\n",
       "</style>\n",
       "<table border=\"1\" class=\"dataframe\">\n",
       "  <thead>\n",
       "    <tr style=\"text-align: right;\">\n",
       "      <th></th>\n",
       "      <th>HOUSEID</th>\n",
       "      <th>PERSONID</th>\n",
       "      <th>VEHID</th>\n",
       "      <th>CAR</th>\n",
       "      <th>CARSHARE</th>\n",
       "      <th>CAR_label</th>\n",
       "      <th>DRVRCNT</th>\n",
       "      <th>EDUC</th>\n",
       "      <th>EDUC_label</th>\n",
       "      <th>FUELTYPE</th>\n",
       "      <th>...</th>\n",
       "      <th>VEHOWNED_label</th>\n",
       "      <th>VEHOWNMO</th>\n",
       "      <th>VEHOWNMO_label</th>\n",
       "      <th>WKFTPT</th>\n",
       "      <th>WKFTPT_label</th>\n",
       "      <th>WKRMHM</th>\n",
       "      <th>WKRMHM_label</th>\n",
       "      <th>WRKCOUNT</th>\n",
       "      <th>YEARMILE</th>\n",
       "      <th>YOUNGCHILD</th>\n",
       "    </tr>\n",
       "  </thead>\n",
       "  <tbody>\n",
       "    <tr>\n",
       "      <th>0</th>\n",
       "      <td>30000007</td>\n",
       "      <td>03</td>\n",
       "      <td>01</td>\n",
       "      <td>01</td>\n",
       "      <td>0.0</td>\n",
       "      <td>Daily</td>\n",
       "      <td>3.0</td>\n",
       "      <td>02</td>\n",
       "      <td>High school graduate or GED</td>\n",
       "      <td>01</td>\n",
       "      <td>...</td>\n",
       "      <td>Yes</td>\n",
       "      <td>-1</td>\n",
       "      <td>Appropriate skip</td>\n",
       "      <td>-1</td>\n",
       "      <td>Appropriate skip</td>\n",
       "      <td>-1</td>\n",
       "      <td>Appropriate skip</td>\n",
       "      <td>1.0</td>\n",
       "      <td>1000.0</td>\n",
       "      <td>0.0</td>\n",
       "    </tr>\n",
       "    <tr>\n",
       "      <th>1</th>\n",
       "      <td>30000007</td>\n",
       "      <td>01</td>\n",
       "      <td>03</td>\n",
       "      <td>01</td>\n",
       "      <td>0.0</td>\n",
       "      <td>Daily</td>\n",
       "      <td>3.0</td>\n",
       "      <td>03</td>\n",
       "      <td>Some college or associates degree</td>\n",
       "      <td>01</td>\n",
       "      <td>...</td>\n",
       "      <td>Yes</td>\n",
       "      <td>-1</td>\n",
       "      <td>Appropriate skip</td>\n",
       "      <td>-1</td>\n",
       "      <td>Appropriate skip</td>\n",
       "      <td>-1</td>\n",
       "      <td>Appropriate skip</td>\n",
       "      <td>1.0</td>\n",
       "      <td>1000.0</td>\n",
       "      <td>0.0</td>\n",
       "    </tr>\n",
       "    <tr>\n",
       "      <th>2</th>\n",
       "      <td>30000007</td>\n",
       "      <td>02</td>\n",
       "      <td>04</td>\n",
       "      <td>01</td>\n",
       "      <td>0.0</td>\n",
       "      <td>Daily</td>\n",
       "      <td>3.0</td>\n",
       "      <td>03</td>\n",
       "      <td>Some college or associates degree</td>\n",
       "      <td>01</td>\n",
       "      <td>...</td>\n",
       "      <td>Yes</td>\n",
       "      <td>-1</td>\n",
       "      <td>Appropriate skip</td>\n",
       "      <td>01</td>\n",
       "      <td>Full-time</td>\n",
       "      <td>02</td>\n",
       "      <td>No</td>\n",
       "      <td>1.0</td>\n",
       "      <td>10000.0</td>\n",
       "      <td>0.0</td>\n",
       "    </tr>\n",
       "    <tr>\n",
       "      <th>3</th>\n",
       "      <td>30000007</td>\n",
       "      <td>02</td>\n",
       "      <td>05</td>\n",
       "      <td>01</td>\n",
       "      <td>0.0</td>\n",
       "      <td>Daily</td>\n",
       "      <td>3.0</td>\n",
       "      <td>03</td>\n",
       "      <td>Some college or associates degree</td>\n",
       "      <td>01</td>\n",
       "      <td>...</td>\n",
       "      <td>Yes</td>\n",
       "      <td>-1</td>\n",
       "      <td>Appropriate skip</td>\n",
       "      <td>01</td>\n",
       "      <td>Full-time</td>\n",
       "      <td>02</td>\n",
       "      <td>No</td>\n",
       "      <td>1.0</td>\n",
       "      <td>10000.0</td>\n",
       "      <td>0.0</td>\n",
       "    </tr>\n",
       "    <tr>\n",
       "      <th>4</th>\n",
       "      <td>30000008</td>\n",
       "      <td>02</td>\n",
       "      <td>02</td>\n",
       "      <td>01</td>\n",
       "      <td>0.0</td>\n",
       "      <td>Daily</td>\n",
       "      <td>2.0</td>\n",
       "      <td>04</td>\n",
       "      <td>Bachelor's degree</td>\n",
       "      <td>01</td>\n",
       "      <td>...</td>\n",
       "      <td>Yes</td>\n",
       "      <td>-1</td>\n",
       "      <td>Appropriate skip</td>\n",
       "      <td>01</td>\n",
       "      <td>Full-time</td>\n",
       "      <td>02</td>\n",
       "      <td>No</td>\n",
       "      <td>2.0</td>\n",
       "      <td>10000.0</td>\n",
       "      <td>0.0</td>\n",
       "    </tr>\n",
       "  </tbody>\n",
       "</table>\n",
       "<p>5 rows × 55 columns</p>\n",
       "</div>"
      ],
      "text/plain": [
       "    HOUSEID PERSONID VEHID CAR  CARSHARE CAR_label  DRVRCNT EDUC  \\\n",
       "0  30000007       03    01  01       0.0     Daily      3.0   02   \n",
       "1  30000007       01    03  01       0.0     Daily      3.0   03   \n",
       "2  30000007       02    04  01       0.0     Daily      3.0   03   \n",
       "3  30000007       02    05  01       0.0     Daily      3.0   03   \n",
       "4  30000008       02    02  01       0.0     Daily      2.0   04   \n",
       "\n",
       "                          EDUC_label FUELTYPE  ... VEHOWNED_label VEHOWNMO  \\\n",
       "0        High school graduate or GED       01  ...            Yes       -1   \n",
       "1  Some college or associates degree       01  ...            Yes       -1   \n",
       "2  Some college or associates degree       01  ...            Yes       -1   \n",
       "3  Some college or associates degree       01  ...            Yes       -1   \n",
       "4                  Bachelor's degree       01  ...            Yes       -1   \n",
       "\n",
       "     VEHOWNMO_label WKFTPT      WKFTPT_label WKRMHM      WKRMHM_label  \\\n",
       "0  Appropriate skip     -1  Appropriate skip     -1  Appropriate skip   \n",
       "1  Appropriate skip     -1  Appropriate skip     -1  Appropriate skip   \n",
       "2  Appropriate skip     01         Full-time     02                No   \n",
       "3  Appropriate skip     01         Full-time     02                No   \n",
       "4  Appropriate skip     01         Full-time     02                No   \n",
       "\n",
       "  WRKCOUNT YEARMILE YOUNGCHILD  \n",
       "0      1.0   1000.0        0.0  \n",
       "1      1.0   1000.0        0.0  \n",
       "2      1.0  10000.0        0.0  \n",
       "3      1.0  10000.0        0.0  \n",
       "4      2.0  10000.0        0.0  \n",
       "\n",
       "[5 rows x 55 columns]"
      ]
     },
     "execution_count": 76,
     "metadata": {},
     "output_type": "execute_result"
    }
   ],
   "source": [
    "#review first few rows\n",
    "data.head()"
   ]
  },
  {
   "cell_type": "code",
   "execution_count": 77,
   "metadata": {},
   "outputs": [
    {
     "data": {
      "text/plain": [
       "(250200, 55)"
      ]
     },
     "execution_count": 77,
     "metadata": {},
     "output_type": "execute_result"
    }
   ],
   "source": [
    "#get dimension\n",
    "data.shape"
   ]
  },
  {
   "cell_type": "code",
   "execution_count": 78,
   "metadata": {},
   "outputs": [
    {
     "data": {
      "text/html": [
       "<div>\n",
       "<style scoped>\n",
       "    .dataframe tbody tr th:only-of-type {\n",
       "        vertical-align: middle;\n",
       "    }\n",
       "\n",
       "    .dataframe tbody tr th {\n",
       "        vertical-align: top;\n",
       "    }\n",
       "\n",
       "    .dataframe thead th {\n",
       "        text-align: right;\n",
       "    }\n",
       "</style>\n",
       "<table border=\"1\" class=\"dataframe\">\n",
       "  <thead>\n",
       "    <tr style=\"text-align: right;\">\n",
       "      <th></th>\n",
       "      <th>HOUSEID</th>\n",
       "      <th>PERSONID</th>\n",
       "      <th>VEHID</th>\n",
       "      <th>CAR</th>\n",
       "      <th>CAR_label</th>\n",
       "      <th>EDUC</th>\n",
       "      <th>EDUC_label</th>\n",
       "      <th>FUELTYPE</th>\n",
       "      <th>FUELTYPE_label</th>\n",
       "      <th>GT1JBLWK</th>\n",
       "      <th>...</th>\n",
       "      <th>R_SEX</th>\n",
       "      <th>R_SEX_label</th>\n",
       "      <th>VEHOWNED</th>\n",
       "      <th>VEHOWNED_label</th>\n",
       "      <th>VEHOWNMO</th>\n",
       "      <th>VEHOWNMO_label</th>\n",
       "      <th>WKFTPT</th>\n",
       "      <th>WKFTPT_label</th>\n",
       "      <th>WKRMHM</th>\n",
       "      <th>WKRMHM_label</th>\n",
       "    </tr>\n",
       "  </thead>\n",
       "  <tbody>\n",
       "    <tr>\n",
       "      <th>0</th>\n",
       "      <td>30000007</td>\n",
       "      <td>03</td>\n",
       "      <td>01</td>\n",
       "      <td>01</td>\n",
       "      <td>Daily</td>\n",
       "      <td>02</td>\n",
       "      <td>High school graduate or GED</td>\n",
       "      <td>01</td>\n",
       "      <td>Gas</td>\n",
       "      <td>-1</td>\n",
       "      <td>...</td>\n",
       "      <td>02</td>\n",
       "      <td>Female</td>\n",
       "      <td>01</td>\n",
       "      <td>Yes</td>\n",
       "      <td>-1</td>\n",
       "      <td>Appropriate skip</td>\n",
       "      <td>-1</td>\n",
       "      <td>Appropriate skip</td>\n",
       "      <td>-1</td>\n",
       "      <td>Appropriate skip</td>\n",
       "    </tr>\n",
       "    <tr>\n",
       "      <th>1</th>\n",
       "      <td>30000007</td>\n",
       "      <td>01</td>\n",
       "      <td>03</td>\n",
       "      <td>01</td>\n",
       "      <td>Daily</td>\n",
       "      <td>03</td>\n",
       "      <td>Some college or associates degree</td>\n",
       "      <td>01</td>\n",
       "      <td>Gas</td>\n",
       "      <td>-1</td>\n",
       "      <td>...</td>\n",
       "      <td>02</td>\n",
       "      <td>Female</td>\n",
       "      <td>01</td>\n",
       "      <td>Yes</td>\n",
       "      <td>-1</td>\n",
       "      <td>Appropriate skip</td>\n",
       "      <td>-1</td>\n",
       "      <td>Appropriate skip</td>\n",
       "      <td>-1</td>\n",
       "      <td>Appropriate skip</td>\n",
       "    </tr>\n",
       "    <tr>\n",
       "      <th>2</th>\n",
       "      <td>30000007</td>\n",
       "      <td>02</td>\n",
       "      <td>04</td>\n",
       "      <td>01</td>\n",
       "      <td>Daily</td>\n",
       "      <td>03</td>\n",
       "      <td>Some college or associates degree</td>\n",
       "      <td>01</td>\n",
       "      <td>Gas</td>\n",
       "      <td>02</td>\n",
       "      <td>...</td>\n",
       "      <td>01</td>\n",
       "      <td>Male</td>\n",
       "      <td>01</td>\n",
       "      <td>Yes</td>\n",
       "      <td>-1</td>\n",
       "      <td>Appropriate skip</td>\n",
       "      <td>01</td>\n",
       "      <td>Full-time</td>\n",
       "      <td>02</td>\n",
       "      <td>No</td>\n",
       "    </tr>\n",
       "    <tr>\n",
       "      <th>3</th>\n",
       "      <td>30000007</td>\n",
       "      <td>02</td>\n",
       "      <td>05</td>\n",
       "      <td>01</td>\n",
       "      <td>Daily</td>\n",
       "      <td>03</td>\n",
       "      <td>Some college or associates degree</td>\n",
       "      <td>01</td>\n",
       "      <td>Gas</td>\n",
       "      <td>02</td>\n",
       "      <td>...</td>\n",
       "      <td>01</td>\n",
       "      <td>Male</td>\n",
       "      <td>01</td>\n",
       "      <td>Yes</td>\n",
       "      <td>-1</td>\n",
       "      <td>Appropriate skip</td>\n",
       "      <td>01</td>\n",
       "      <td>Full-time</td>\n",
       "      <td>02</td>\n",
       "      <td>No</td>\n",
       "    </tr>\n",
       "    <tr>\n",
       "      <th>4</th>\n",
       "      <td>30000008</td>\n",
       "      <td>02</td>\n",
       "      <td>02</td>\n",
       "      <td>01</td>\n",
       "      <td>Daily</td>\n",
       "      <td>04</td>\n",
       "      <td>Bachelor's degree</td>\n",
       "      <td>01</td>\n",
       "      <td>Gas</td>\n",
       "      <td>02</td>\n",
       "      <td>...</td>\n",
       "      <td>02</td>\n",
       "      <td>Female</td>\n",
       "      <td>01</td>\n",
       "      <td>Yes</td>\n",
       "      <td>-1</td>\n",
       "      <td>Appropriate skip</td>\n",
       "      <td>01</td>\n",
       "      <td>Full-time</td>\n",
       "      <td>02</td>\n",
       "      <td>No</td>\n",
       "    </tr>\n",
       "  </tbody>\n",
       "</table>\n",
       "<p>5 rows × 45 columns</p>\n",
       "</div>"
      ],
      "text/plain": [
       "    HOUSEID PERSONID VEHID CAR CAR_label EDUC  \\\n",
       "0  30000007       03    01  01     Daily   02   \n",
       "1  30000007       01    03  01     Daily   03   \n",
       "2  30000007       02    04  01     Daily   03   \n",
       "3  30000007       02    05  01     Daily   03   \n",
       "4  30000008       02    02  01     Daily   04   \n",
       "\n",
       "                          EDUC_label FUELTYPE FUELTYPE_label GT1JBLWK  ...  \\\n",
       "0        High school graduate or GED       01            Gas       -1  ...   \n",
       "1  Some college or associates degree       01            Gas       -1  ...   \n",
       "2  Some college or associates degree       01            Gas       02  ...   \n",
       "3  Some college or associates degree       01            Gas       02  ...   \n",
       "4                  Bachelor's degree       01            Gas       02  ...   \n",
       "\n",
       "  R_SEX R_SEX_label VEHOWNED VEHOWNED_label VEHOWNMO    VEHOWNMO_label WKFTPT  \\\n",
       "0    02      Female       01            Yes       -1  Appropriate skip     -1   \n",
       "1    02      Female       01            Yes       -1  Appropriate skip     -1   \n",
       "2    01        Male       01            Yes       -1  Appropriate skip     01   \n",
       "3    01        Male       01            Yes       -1  Appropriate skip     01   \n",
       "4    02      Female       01            Yes       -1  Appropriate skip     01   \n",
       "\n",
       "       WKFTPT_label WKRMHM      WKRMHM_label  \n",
       "0  Appropriate skip     -1  Appropriate skip  \n",
       "1  Appropriate skip     -1  Appropriate skip  \n",
       "2         Full-time     02                No  \n",
       "3         Full-time     02                No  \n",
       "4         Full-time     02                No  \n",
       "\n",
       "[5 rows x 45 columns]"
      ]
     },
     "execution_count": 78,
     "metadata": {},
     "output_type": "execute_result"
    }
   ],
   "source": [
    "#Select string variables\n",
    "data_char = data.select_dtypes(['object'])\n",
    "data_char.head()"
   ]
  },
  {
   "cell_type": "code",
   "execution_count": 79,
   "metadata": {},
   "outputs": [],
   "source": [
    "#Do a review of these variables\n",
    "#Remove trailing or leading spaces\n",
    "data[data_char.columns] = data_char.apply(lambda x: x.str.strip())"
   ]
  },
  {
   "cell_type": "code",
   "execution_count": 80,
   "metadata": {},
   "outputs": [
    {
     "data": {
      "text/plain": [
       "(250200, 55)"
      ]
     },
     "execution_count": 80,
     "metadata": {},
     "output_type": "execute_result"
    }
   ],
   "source": [
    "#Get dimension of data\n",
    "data.shape"
   ]
  },
  {
   "cell_type": "code",
   "execution_count": 81,
   "metadata": {},
   "outputs": [
    {
     "data": {
      "text/html": [
       "<div>\n",
       "<style scoped>\n",
       "    .dataframe tbody tr th:only-of-type {\n",
       "        vertical-align: middle;\n",
       "    }\n",
       "\n",
       "    .dataframe tbody tr th {\n",
       "        vertical-align: top;\n",
       "    }\n",
       "\n",
       "    .dataframe thead th {\n",
       "        text-align: right;\n",
       "    }\n",
       "</style>\n",
       "<table border=\"1\" class=\"dataframe\">\n",
       "  <thead>\n",
       "    <tr style=\"text-align: right;\">\n",
       "      <th></th>\n",
       "      <th>HOUSEID</th>\n",
       "      <th>PERSONID</th>\n",
       "      <th>VEHID</th>\n",
       "      <th>CAR</th>\n",
       "      <th>CARSHARE</th>\n",
       "      <th>CAR_label</th>\n",
       "      <th>DRVRCNT</th>\n",
       "      <th>EDUC</th>\n",
       "      <th>EDUC_label</th>\n",
       "      <th>FUELTYPE</th>\n",
       "      <th>...</th>\n",
       "      <th>VEHOWNED_label</th>\n",
       "      <th>VEHOWNMO</th>\n",
       "      <th>VEHOWNMO_label</th>\n",
       "      <th>WKFTPT</th>\n",
       "      <th>WKFTPT_label</th>\n",
       "      <th>WKRMHM</th>\n",
       "      <th>WKRMHM_label</th>\n",
       "      <th>WRKCOUNT</th>\n",
       "      <th>YEARMILE</th>\n",
       "      <th>YOUNGCHILD</th>\n",
       "    </tr>\n",
       "  </thead>\n",
       "  <tbody>\n",
       "    <tr>\n",
       "      <th>0</th>\n",
       "      <td>30000007</td>\n",
       "      <td>03</td>\n",
       "      <td>01</td>\n",
       "      <td>01</td>\n",
       "      <td>0.0</td>\n",
       "      <td>Daily</td>\n",
       "      <td>3.0</td>\n",
       "      <td>02</td>\n",
       "      <td>High school graduate or GED</td>\n",
       "      <td>01</td>\n",
       "      <td>...</td>\n",
       "      <td>Yes</td>\n",
       "      <td>-1</td>\n",
       "      <td>Appropriate skip</td>\n",
       "      <td>-1</td>\n",
       "      <td>Appropriate skip</td>\n",
       "      <td>-1</td>\n",
       "      <td>Appropriate skip</td>\n",
       "      <td>1.0</td>\n",
       "      <td>1000.0</td>\n",
       "      <td>0.0</td>\n",
       "    </tr>\n",
       "    <tr>\n",
       "      <th>1</th>\n",
       "      <td>30000007</td>\n",
       "      <td>01</td>\n",
       "      <td>03</td>\n",
       "      <td>01</td>\n",
       "      <td>0.0</td>\n",
       "      <td>Daily</td>\n",
       "      <td>3.0</td>\n",
       "      <td>03</td>\n",
       "      <td>Some college or associates degree</td>\n",
       "      <td>01</td>\n",
       "      <td>...</td>\n",
       "      <td>Yes</td>\n",
       "      <td>-1</td>\n",
       "      <td>Appropriate skip</td>\n",
       "      <td>-1</td>\n",
       "      <td>Appropriate skip</td>\n",
       "      <td>-1</td>\n",
       "      <td>Appropriate skip</td>\n",
       "      <td>1.0</td>\n",
       "      <td>1000.0</td>\n",
       "      <td>0.0</td>\n",
       "    </tr>\n",
       "    <tr>\n",
       "      <th>2</th>\n",
       "      <td>30000007</td>\n",
       "      <td>02</td>\n",
       "      <td>04</td>\n",
       "      <td>01</td>\n",
       "      <td>0.0</td>\n",
       "      <td>Daily</td>\n",
       "      <td>3.0</td>\n",
       "      <td>03</td>\n",
       "      <td>Some college or associates degree</td>\n",
       "      <td>01</td>\n",
       "      <td>...</td>\n",
       "      <td>Yes</td>\n",
       "      <td>-1</td>\n",
       "      <td>Appropriate skip</td>\n",
       "      <td>01</td>\n",
       "      <td>Full-time</td>\n",
       "      <td>02</td>\n",
       "      <td>No</td>\n",
       "      <td>1.0</td>\n",
       "      <td>10000.0</td>\n",
       "      <td>0.0</td>\n",
       "    </tr>\n",
       "    <tr>\n",
       "      <th>3</th>\n",
       "      <td>30000007</td>\n",
       "      <td>02</td>\n",
       "      <td>05</td>\n",
       "      <td>01</td>\n",
       "      <td>0.0</td>\n",
       "      <td>Daily</td>\n",
       "      <td>3.0</td>\n",
       "      <td>03</td>\n",
       "      <td>Some college or associates degree</td>\n",
       "      <td>01</td>\n",
       "      <td>...</td>\n",
       "      <td>Yes</td>\n",
       "      <td>-1</td>\n",
       "      <td>Appropriate skip</td>\n",
       "      <td>01</td>\n",
       "      <td>Full-time</td>\n",
       "      <td>02</td>\n",
       "      <td>No</td>\n",
       "      <td>1.0</td>\n",
       "      <td>10000.0</td>\n",
       "      <td>0.0</td>\n",
       "    </tr>\n",
       "    <tr>\n",
       "      <th>4</th>\n",
       "      <td>30000008</td>\n",
       "      <td>02</td>\n",
       "      <td>02</td>\n",
       "      <td>01</td>\n",
       "      <td>0.0</td>\n",
       "      <td>Daily</td>\n",
       "      <td>2.0</td>\n",
       "      <td>04</td>\n",
       "      <td>Bachelor's degree</td>\n",
       "      <td>01</td>\n",
       "      <td>...</td>\n",
       "      <td>Yes</td>\n",
       "      <td>-1</td>\n",
       "      <td>Appropriate skip</td>\n",
       "      <td>01</td>\n",
       "      <td>Full-time</td>\n",
       "      <td>02</td>\n",
       "      <td>No</td>\n",
       "      <td>2.0</td>\n",
       "      <td>10000.0</td>\n",
       "      <td>0.0</td>\n",
       "    </tr>\n",
       "  </tbody>\n",
       "</table>\n",
       "<p>5 rows × 55 columns</p>\n",
       "</div>"
      ],
      "text/plain": [
       "    HOUSEID PERSONID VEHID CAR  CARSHARE CAR_label  DRVRCNT EDUC  \\\n",
       "0  30000007       03    01  01       0.0     Daily      3.0   02   \n",
       "1  30000007       01    03  01       0.0     Daily      3.0   03   \n",
       "2  30000007       02    04  01       0.0     Daily      3.0   03   \n",
       "3  30000007       02    05  01       0.0     Daily      3.0   03   \n",
       "4  30000008       02    02  01       0.0     Daily      2.0   04   \n",
       "\n",
       "                          EDUC_label FUELTYPE  ... VEHOWNED_label VEHOWNMO  \\\n",
       "0        High school graduate or GED       01  ...            Yes       -1   \n",
       "1  Some college or associates degree       01  ...            Yes       -1   \n",
       "2  Some college or associates degree       01  ...            Yes       -1   \n",
       "3  Some college or associates degree       01  ...            Yes       -1   \n",
       "4                  Bachelor's degree       01  ...            Yes       -1   \n",
       "\n",
       "     VEHOWNMO_label WKFTPT      WKFTPT_label WKRMHM      WKRMHM_label  \\\n",
       "0  Appropriate skip     -1  Appropriate skip     -1  Appropriate skip   \n",
       "1  Appropriate skip     -1  Appropriate skip     -1  Appropriate skip   \n",
       "2  Appropriate skip     01         Full-time     02                No   \n",
       "3  Appropriate skip     01         Full-time     02                No   \n",
       "4  Appropriate skip     01         Full-time     02                No   \n",
       "\n",
       "  WRKCOUNT YEARMILE YOUNGCHILD  \n",
       "0      1.0   1000.0        0.0  \n",
       "1      1.0   1000.0        0.0  \n",
       "2      1.0  10000.0        0.0  \n",
       "3      1.0  10000.0        0.0  \n",
       "4      2.0  10000.0        0.0  \n",
       "\n",
       "[5 rows x 55 columns]"
      ]
     },
     "execution_count": 81,
     "metadata": {},
     "output_type": "execute_result"
    }
   ],
   "source": [
    "#Look at first few rows\n",
    "data.head()"
   ]
  },
  {
   "cell_type": "code",
   "execution_count": 82,
   "metadata": {},
   "outputs": [
    {
     "name": "stdout",
     "output_type": "stream",
     "text": [
      "<class 'pandas.core.frame.DataFrame'>\n",
      "Int64Index: 250200 entries, 0 to 250199\n",
      "Data columns (total 55 columns):\n",
      " #   Column          Non-Null Count   Dtype  \n",
      "---  ------          --------------   -----  \n",
      " 0   HOUSEID         250200 non-null  object \n",
      " 1   PERSONID        250200 non-null  object \n",
      " 2   VEHID           250200 non-null  object \n",
      " 3   CAR             250200 non-null  object \n",
      " 4   CARSHARE        250200 non-null  float64\n",
      " 5   CAR_label       250200 non-null  object \n",
      " 6   DRVRCNT         250200 non-null  float64\n",
      " 7   EDUC            250200 non-null  object \n",
      " 8   EDUC_label      250200 non-null  object \n",
      " 9   FUELTYPE        250200 non-null  object \n",
      " 10  FUELTYPE_label  250200 non-null  object \n",
      " 11  GT1JBLWK        250200 non-null  object \n",
      " 12  GT1JBLWK_label  250200 non-null  object \n",
      " 13  HBHUR           250200 non-null  object \n",
      " 14  HBHUR_label     250200 non-null  object \n",
      " 15  HBPPOPDN        250200 non-null  object \n",
      " 16  HBPPOPDN_label  250200 non-null  object \n",
      " 17  HBRESDN         250200 non-null  object \n",
      " 18  HBRESDN_label   250200 non-null  object \n",
      " 19  HFUEL           250200 non-null  object \n",
      " 20  HFUEL_label     250200 non-null  object \n",
      " 21  HHFAMINC        250200 non-null  object \n",
      " 22  HHFAMINC_label  250200 non-null  object \n",
      " 23  HHSIZE          250200 non-null  float64\n",
      " 24  HHSTATE         250200 non-null  object \n",
      " 25  HHSTATE_label   250200 non-null  object \n",
      " 26  HHVEHCNT        250200 non-null  float64\n",
      " 27  HOMEOWN         250200 non-null  object \n",
      " 28  HOMEOWN_label   250200 non-null  object \n",
      " 29  OCCAT           250200 non-null  object \n",
      " 30  OCCAT_label     250200 non-null  object \n",
      " 31  PLACE           250200 non-null  object \n",
      " 32  PLACE_label     250200 non-null  object \n",
      " 33  PRICE           250200 non-null  object \n",
      " 34  PRICE_label     250200 non-null  object \n",
      " 35  R_AGE           250200 non-null  float64\n",
      " 36  R_HISP          250200 non-null  object \n",
      " 37  R_HISP_label    250200 non-null  object \n",
      " 38  R_RACE          250200 non-null  object \n",
      " 39  R_RACE_label    250200 non-null  object \n",
      " 40  R_SEX           250200 non-null  object \n",
      " 41  R_SEX_label     250200 non-null  object \n",
      " 42  TIMETOWK        250200 non-null  float64\n",
      " 43  VEHAGE          250200 non-null  float64\n",
      " 44  VEHOWNED        250200 non-null  object \n",
      " 45  VEHOWNED_label  250200 non-null  object \n",
      " 46  VEHOWNMO        250200 non-null  object \n",
      " 47  VEHOWNMO_label  250200 non-null  object \n",
      " 48  WKFTPT          250200 non-null  object \n",
      " 49  WKFTPT_label    250200 non-null  object \n",
      " 50  WKRMHM          250200 non-null  object \n",
      " 51  WKRMHM_label    250200 non-null  object \n",
      " 52  WRKCOUNT        250200 non-null  float64\n",
      " 53  YEARMILE        250200 non-null  float64\n",
      " 54  YOUNGCHILD      250200 non-null  float64\n",
      "dtypes: float64(10), object(45)\n",
      "memory usage: 106.9+ MB\n"
     ]
    }
   ],
   "source": [
    "#Get information about dataset\n",
    "data.info(verbose=True)"
   ]
  },
  {
   "cell_type": "markdown",
   "metadata": {},
   "source": [
    "## Remove duplicate Car Info"
   ]
  },
  {
   "cell_type": "code",
   "execution_count": 83,
   "metadata": {},
   "outputs": [
    {
     "data": {
      "text/plain": [
       "(200610, 53)"
      ]
     },
     "execution_count": 83,
     "metadata": {},
     "output_type": "execute_result"
    }
   ],
   "source": [
    "#Number of unique number of people\n",
    "data.groupby(['HOUSEID','PERSONID']).first().shape"
   ]
  },
  {
   "cell_type": "code",
   "execution_count": 84,
   "metadata": {},
   "outputs": [
    {
     "data": {
      "text/plain": [
       "1     163389\n",
       "2      28717\n",
       "3       6116\n",
       "4       1565\n",
       "5        483\n",
       "6        192\n",
       "7         68\n",
       "8         37\n",
       "9         17\n",
       "10        16\n",
       "12         7\n",
       "11         3\n",
       "Name: VEHID, dtype: int64"
      ]
     },
     "execution_count": 84,
     "metadata": {},
     "output_type": "execute_result"
    }
   ],
   "source": [
    "#Group by and Count\n",
    "group_veh = pd.DataFrame(data.groupby(['HOUSEID','PERSONID'])['VEHID'].agg('count'))\n",
    "group_veh['VEHID'].value_counts()"
   ]
  },
  {
   "cell_type": "code",
   "execution_count": 85,
   "metadata": {},
   "outputs": [
    {
     "data": {
      "text/plain": [
       "40.0"
      ]
     },
     "execution_count": 85,
     "metadata": {},
     "output_type": "execute_result"
    }
   ],
   "source": [
    "data['VEHAGE'].max()"
   ]
  },
  {
   "cell_type": "code",
   "execution_count": 86,
   "metadata": {},
   "outputs": [
    {
     "data": {
      "text/plain": [
       "-8.0"
      ]
     },
     "execution_count": 86,
     "metadata": {},
     "output_type": "execute_result"
    }
   ],
   "source": [
    "data['VEHAGE'].min()"
   ]
  },
  {
   "cell_type": "code",
   "execution_count": 87,
   "metadata": {},
   "outputs": [],
   "source": [
    "data1 = data.sort_values('VEHAGE').groupby(['HOUSEID','PERSONID']).head(1)"
   ]
  },
  {
   "cell_type": "code",
   "execution_count": 88,
   "metadata": {},
   "outputs": [],
   "source": [
    "group1_veh = pd.DataFrame(data1.groupby(['HOUSEID','PERSONID'])['VEHID'].agg('count'))"
   ]
  },
  {
   "cell_type": "code",
   "execution_count": 89,
   "metadata": {},
   "outputs": [
    {
     "data": {
      "text/plain": [
       "1    200610\n",
       "Name: VEHID, dtype: int64"
      ]
     },
     "execution_count": 89,
     "metadata": {},
     "output_type": "execute_result"
    }
   ],
   "source": [
    "group1_veh['VEHID'].value_counts()"
   ]
  },
  {
   "cell_type": "code",
   "execution_count": 90,
   "metadata": {},
   "outputs": [
    {
     "data": {
      "text/html": [
       "<div>\n",
       "<style scoped>\n",
       "    .dataframe tbody tr th:only-of-type {\n",
       "        vertical-align: middle;\n",
       "    }\n",
       "\n",
       "    .dataframe tbody tr th {\n",
       "        vertical-align: top;\n",
       "    }\n",
       "\n",
       "    .dataframe thead th {\n",
       "        text-align: right;\n",
       "    }\n",
       "</style>\n",
       "<table border=\"1\" class=\"dataframe\">\n",
       "  <thead>\n",
       "    <tr style=\"text-align: right;\">\n",
       "      <th></th>\n",
       "      <th>HOUSEID</th>\n",
       "      <th>PERSONID</th>\n",
       "      <th>VEHID</th>\n",
       "      <th>CAR</th>\n",
       "      <th>CARSHARE</th>\n",
       "      <th>CAR_label</th>\n",
       "      <th>DRVRCNT</th>\n",
       "      <th>EDUC</th>\n",
       "      <th>EDUC_label</th>\n",
       "      <th>FUELTYPE</th>\n",
       "      <th>...</th>\n",
       "      <th>VEHOWNED_label</th>\n",
       "      <th>VEHOWNMO</th>\n",
       "      <th>VEHOWNMO_label</th>\n",
       "      <th>WKFTPT</th>\n",
       "      <th>WKFTPT_label</th>\n",
       "      <th>WKRMHM</th>\n",
       "      <th>WKRMHM_label</th>\n",
       "      <th>WRKCOUNT</th>\n",
       "      <th>YEARMILE</th>\n",
       "      <th>YOUNGCHILD</th>\n",
       "    </tr>\n",
       "  </thead>\n",
       "  <tbody>\n",
       "    <tr>\n",
       "      <th>49977</th>\n",
       "      <td>30210010</td>\n",
       "      <td>02</td>\n",
       "      <td>03</td>\n",
       "      <td>01</td>\n",
       "      <td>0.0</td>\n",
       "      <td>Daily</td>\n",
       "      <td>3.0</td>\n",
       "      <td>03</td>\n",
       "      <td>Some college or associates degree</td>\n",
       "      <td>01</td>\n",
       "      <td>...</td>\n",
       "      <td>No</td>\n",
       "      <td>0</td>\n",
       "      <td>01</td>\n",
       "      <td>01</td>\n",
       "      <td>Full-time</td>\n",
       "      <td>02</td>\n",
       "      <td>No</td>\n",
       "      <td>3.0</td>\n",
       "      <td>25000.0</td>\n",
       "      <td>0.0</td>\n",
       "    </tr>\n",
       "    <tr>\n",
       "      <th>152617</th>\n",
       "      <td>40136586</td>\n",
       "      <td>01</td>\n",
       "      <td>01</td>\n",
       "      <td>01</td>\n",
       "      <td>0.0</td>\n",
       "      <td>Daily</td>\n",
       "      <td>1.0</td>\n",
       "      <td>03</td>\n",
       "      <td>Some college or associates degree</td>\n",
       "      <td>01</td>\n",
       "      <td>...</td>\n",
       "      <td>Yes</td>\n",
       "      <td>-1</td>\n",
       "      <td>Appropriate skip</td>\n",
       "      <td>-1</td>\n",
       "      <td>Appropriate skip</td>\n",
       "      <td>-1</td>\n",
       "      <td>Appropriate skip</td>\n",
       "      <td>0.0</td>\n",
       "      <td>1000.0</td>\n",
       "      <td>0.0</td>\n",
       "    </tr>\n",
       "    <tr>\n",
       "      <th>219521</th>\n",
       "      <td>40588561</td>\n",
       "      <td>04</td>\n",
       "      <td>04</td>\n",
       "      <td>01</td>\n",
       "      <td>0.0</td>\n",
       "      <td>Daily</td>\n",
       "      <td>3.0</td>\n",
       "      <td>02</td>\n",
       "      <td>High school graduate or GED</td>\n",
       "      <td>01</td>\n",
       "      <td>...</td>\n",
       "      <td>I don't know</td>\n",
       "      <td>-1</td>\n",
       "      <td>Appropriate skip</td>\n",
       "      <td>02</td>\n",
       "      <td>Part-time</td>\n",
       "      <td>02</td>\n",
       "      <td>No</td>\n",
       "      <td>2.0</td>\n",
       "      <td>5000.0</td>\n",
       "      <td>0.0</td>\n",
       "    </tr>\n",
       "    <tr>\n",
       "      <th>207962</th>\n",
       "      <td>40509371</td>\n",
       "      <td>01</td>\n",
       "      <td>01</td>\n",
       "      <td>03</td>\n",
       "      <td>10.0</td>\n",
       "      <td>A few times a month</td>\n",
       "      <td>1.0</td>\n",
       "      <td>04</td>\n",
       "      <td>Bachelor's degree</td>\n",
       "      <td>01</td>\n",
       "      <td>...</td>\n",
       "      <td>No</td>\n",
       "      <td>03</td>\n",
       "      <td>03</td>\n",
       "      <td>01</td>\n",
       "      <td>Full-time</td>\n",
       "      <td>-1</td>\n",
       "      <td>Appropriate skip</td>\n",
       "      <td>1.0</td>\n",
       "      <td>500.0</td>\n",
       "      <td>0.0</td>\n",
       "    </tr>\n",
       "    <tr>\n",
       "      <th>108057</th>\n",
       "      <td>30455166</td>\n",
       "      <td>01</td>\n",
       "      <td>02</td>\n",
       "      <td>01</td>\n",
       "      <td>0.0</td>\n",
       "      <td>Daily</td>\n",
       "      <td>2.0</td>\n",
       "      <td>05</td>\n",
       "      <td>Graduate degree or professional degree</td>\n",
       "      <td>01</td>\n",
       "      <td>...</td>\n",
       "      <td>Yes</td>\n",
       "      <td>-1</td>\n",
       "      <td>Appropriate skip</td>\n",
       "      <td>-1</td>\n",
       "      <td>Appropriate skip</td>\n",
       "      <td>-1</td>\n",
       "      <td>Appropriate skip</td>\n",
       "      <td>2.0</td>\n",
       "      <td>10000.0</td>\n",
       "      <td>0.0</td>\n",
       "    </tr>\n",
       "  </tbody>\n",
       "</table>\n",
       "<p>5 rows × 55 columns</p>\n",
       "</div>"
      ],
      "text/plain": [
       "         HOUSEID PERSONID VEHID CAR  CARSHARE            CAR_label  DRVRCNT  \\\n",
       "49977   30210010       02    03  01       0.0                Daily      3.0   \n",
       "152617  40136586       01    01  01       0.0                Daily      1.0   \n",
       "219521  40588561       04    04  01       0.0                Daily      3.0   \n",
       "207962  40509371       01    01  03      10.0  A few times a month      1.0   \n",
       "108057  30455166       01    02  01       0.0                Daily      2.0   \n",
       "\n",
       "       EDUC                              EDUC_label FUELTYPE  ...  \\\n",
       "49977    03       Some college or associates degree       01  ...   \n",
       "152617   03       Some college or associates degree       01  ...   \n",
       "219521   02             High school graduate or GED       01  ...   \n",
       "207962   04                       Bachelor's degree       01  ...   \n",
       "108057   05  Graduate degree or professional degree       01  ...   \n",
       "\n",
       "       VEHOWNED_label VEHOWNMO    VEHOWNMO_label WKFTPT      WKFTPT_label  \\\n",
       "49977              No        0                01     01         Full-time   \n",
       "152617            Yes       -1  Appropriate skip     -1  Appropriate skip   \n",
       "219521   I don't know       -1  Appropriate skip     02         Part-time   \n",
       "207962             No       03                03     01         Full-time   \n",
       "108057            Yes       -1  Appropriate skip     -1  Appropriate skip   \n",
       "\n",
       "       WKRMHM      WKRMHM_label WRKCOUNT YEARMILE YOUNGCHILD  \n",
       "49977      02                No      3.0  25000.0        0.0  \n",
       "152617     -1  Appropriate skip      0.0   1000.0        0.0  \n",
       "219521     02                No      2.0   5000.0        0.0  \n",
       "207962     -1  Appropriate skip      1.0    500.0        0.0  \n",
       "108057     -1  Appropriate skip      2.0  10000.0        0.0  \n",
       "\n",
       "[5 rows x 55 columns]"
      ]
     },
     "execution_count": 90,
     "metadata": {},
     "output_type": "execute_result"
    }
   ],
   "source": [
    "data1.head()"
   ]
  },
  {
   "cell_type": "code",
   "execution_count": 91,
   "metadata": {},
   "outputs": [
    {
     "data": {
      "text/plain": [
       "(200610, 55)"
      ]
     },
     "execution_count": 91,
     "metadata": {},
     "output_type": "execute_result"
    }
   ],
   "source": [
    "#Get dimension\n",
    "data1.shape"
   ]
  },
  {
   "cell_type": "code",
   "execution_count": 92,
   "metadata": {},
   "outputs": [
    {
     "name": "stdout",
     "output_type": "stream",
     "text": [
      "<class 'pandas.core.frame.DataFrame'>\n",
      "Int64Index: 200610 entries, 49977 to 38915\n",
      "Data columns (total 55 columns):\n",
      " #   Column          Non-Null Count   Dtype  \n",
      "---  ------          --------------   -----  \n",
      " 0   HOUSEID         200610 non-null  object \n",
      " 1   PERSONID        200610 non-null  object \n",
      " 2   VEHID           200610 non-null  object \n",
      " 3   CAR             200610 non-null  object \n",
      " 4   CARSHARE        200610 non-null  float64\n",
      " 5   CAR_label       200610 non-null  object \n",
      " 6   DRVRCNT         200610 non-null  float64\n",
      " 7   EDUC            200610 non-null  object \n",
      " 8   EDUC_label      200610 non-null  object \n",
      " 9   FUELTYPE        200610 non-null  object \n",
      " 10  FUELTYPE_label  200610 non-null  object \n",
      " 11  GT1JBLWK        200610 non-null  object \n",
      " 12  GT1JBLWK_label  200610 non-null  object \n",
      " 13  HBHUR           200610 non-null  object \n",
      " 14  HBHUR_label     200610 non-null  object \n",
      " 15  HBPPOPDN        200610 non-null  object \n",
      " 16  HBPPOPDN_label  200610 non-null  object \n",
      " 17  HBRESDN         200610 non-null  object \n",
      " 18  HBRESDN_label   200610 non-null  object \n",
      " 19  HFUEL           200610 non-null  object \n",
      " 20  HFUEL_label     200610 non-null  object \n",
      " 21  HHFAMINC        200610 non-null  object \n",
      " 22  HHFAMINC_label  200610 non-null  object \n",
      " 23  HHSIZE          200610 non-null  float64\n",
      " 24  HHSTATE         200610 non-null  object \n",
      " 25  HHSTATE_label   200610 non-null  object \n",
      " 26  HHVEHCNT        200610 non-null  float64\n",
      " 27  HOMEOWN         200610 non-null  object \n",
      " 28  HOMEOWN_label   200610 non-null  object \n",
      " 29  OCCAT           200610 non-null  object \n",
      " 30  OCCAT_label     200610 non-null  object \n",
      " 31  PLACE           200610 non-null  object \n",
      " 32  PLACE_label     200610 non-null  object \n",
      " 33  PRICE           200610 non-null  object \n",
      " 34  PRICE_label     200610 non-null  object \n",
      " 35  R_AGE           200610 non-null  float64\n",
      " 36  R_HISP          200610 non-null  object \n",
      " 37  R_HISP_label    200610 non-null  object \n",
      " 38  R_RACE          200610 non-null  object \n",
      " 39  R_RACE_label    200610 non-null  object \n",
      " 40  R_SEX           200610 non-null  object \n",
      " 41  R_SEX_label     200610 non-null  object \n",
      " 42  TIMETOWK        200610 non-null  float64\n",
      " 43  VEHAGE          200610 non-null  float64\n",
      " 44  VEHOWNED        200610 non-null  object \n",
      " 45  VEHOWNED_label  200610 non-null  object \n",
      " 46  VEHOWNMO        200610 non-null  object \n",
      " 47  VEHOWNMO_label  200610 non-null  object \n",
      " 48  WKFTPT          200610 non-null  object \n",
      " 49  WKFTPT_label    200610 non-null  object \n",
      " 50  WKRMHM          200610 non-null  object \n",
      " 51  WKRMHM_label    200610 non-null  object \n",
      " 52  WRKCOUNT        200610 non-null  float64\n",
      " 53  YEARMILE        200610 non-null  float64\n",
      " 54  YOUNGCHILD      200610 non-null  float64\n",
      "dtypes: float64(10), object(45)\n",
      "memory usage: 85.7+ MB\n"
     ]
    }
   ],
   "source": [
    "#Get data info\n",
    "data1.info()"
   ]
  },
  {
   "cell_type": "markdown",
   "metadata": {},
   "source": [
    "## Check Variable Type"
   ]
  },
  {
   "cell_type": "code",
   "execution_count": 93,
   "metadata": {},
   "outputs": [],
   "source": [
    "#convert some variables to integers\n",
    "data1_int_var = data1.select_dtypes('float').columns.to_list()"
   ]
  },
  {
   "cell_type": "code",
   "execution_count": 94,
   "metadata": {},
   "outputs": [],
   "source": [
    "#convert variables\n",
    "data1[data1_int_var] = data1[data1_int_var].astype(int)"
   ]
  },
  {
   "cell_type": "code",
   "execution_count": 95,
   "metadata": {},
   "outputs": [
    {
     "name": "stdout",
     "output_type": "stream",
     "text": [
      "<class 'pandas.core.frame.DataFrame'>\n",
      "Int64Index: 200610 entries, 49977 to 38915\n",
      "Data columns (total 55 columns):\n",
      " #   Column          Non-Null Count   Dtype \n",
      "---  ------          --------------   ----- \n",
      " 0   HOUSEID         200610 non-null  object\n",
      " 1   PERSONID        200610 non-null  object\n",
      " 2   VEHID           200610 non-null  object\n",
      " 3   CAR             200610 non-null  object\n",
      " 4   CARSHARE        200610 non-null  int64 \n",
      " 5   CAR_label       200610 non-null  object\n",
      " 6   DRVRCNT         200610 non-null  int64 \n",
      " 7   EDUC            200610 non-null  object\n",
      " 8   EDUC_label      200610 non-null  object\n",
      " 9   FUELTYPE        200610 non-null  object\n",
      " 10  FUELTYPE_label  200610 non-null  object\n",
      " 11  GT1JBLWK        200610 non-null  object\n",
      " 12  GT1JBLWK_label  200610 non-null  object\n",
      " 13  HBHUR           200610 non-null  object\n",
      " 14  HBHUR_label     200610 non-null  object\n",
      " 15  HBPPOPDN        200610 non-null  object\n",
      " 16  HBPPOPDN_label  200610 non-null  object\n",
      " 17  HBRESDN         200610 non-null  object\n",
      " 18  HBRESDN_label   200610 non-null  object\n",
      " 19  HFUEL           200610 non-null  object\n",
      " 20  HFUEL_label     200610 non-null  object\n",
      " 21  HHFAMINC        200610 non-null  object\n",
      " 22  HHFAMINC_label  200610 non-null  object\n",
      " 23  HHSIZE          200610 non-null  int64 \n",
      " 24  HHSTATE         200610 non-null  object\n",
      " 25  HHSTATE_label   200610 non-null  object\n",
      " 26  HHVEHCNT        200610 non-null  int64 \n",
      " 27  HOMEOWN         200610 non-null  object\n",
      " 28  HOMEOWN_label   200610 non-null  object\n",
      " 29  OCCAT           200610 non-null  object\n",
      " 30  OCCAT_label     200610 non-null  object\n",
      " 31  PLACE           200610 non-null  object\n",
      " 32  PLACE_label     200610 non-null  object\n",
      " 33  PRICE           200610 non-null  object\n",
      " 34  PRICE_label     200610 non-null  object\n",
      " 35  R_AGE           200610 non-null  int64 \n",
      " 36  R_HISP          200610 non-null  object\n",
      " 37  R_HISP_label    200610 non-null  object\n",
      " 38  R_RACE          200610 non-null  object\n",
      " 39  R_RACE_label    200610 non-null  object\n",
      " 40  R_SEX           200610 non-null  object\n",
      " 41  R_SEX_label     200610 non-null  object\n",
      " 42  TIMETOWK        200610 non-null  int64 \n",
      " 43  VEHAGE          200610 non-null  int64 \n",
      " 44  VEHOWNED        200610 non-null  object\n",
      " 45  VEHOWNED_label  200610 non-null  object\n",
      " 46  VEHOWNMO        200610 non-null  object\n",
      " 47  VEHOWNMO_label  200610 non-null  object\n",
      " 48  WKFTPT          200610 non-null  object\n",
      " 49  WKFTPT_label    200610 non-null  object\n",
      " 50  WKRMHM          200610 non-null  object\n",
      " 51  WKRMHM_label    200610 non-null  object\n",
      " 52  WRKCOUNT        200610 non-null  int64 \n",
      " 53  YEARMILE        200610 non-null  int64 \n",
      " 54  YOUNGCHILD      200610 non-null  int64 \n",
      "dtypes: int64(10), object(45)\n",
      "memory usage: 85.7+ MB\n"
     ]
    }
   ],
   "source": [
    "#check info\n",
    "data1.info()"
   ]
  },
  {
   "cell_type": "code",
   "execution_count": 96,
   "metadata": {},
   "outputs": [],
   "source": [
    "#ordinal easy to code variables\n",
    "ord = [\"CAR\",\"EDUC\",\"HBPPOPDN\",\"HBRESDN\",\"HHFAMINC\",\"PLACE\",\"PRICE\",\"VEHOWNMO\"]"
   ]
  },
  {
   "cell_type": "code",
   "execution_count": 97,
   "metadata": {},
   "outputs": [
    {
     "data": {
      "text/plain": [
       "CAR       -1         1900.0\n",
       "          -8            2.0\n",
       "          01       169442.0\n",
       "          02        25906.0\n",
       "          03         2489.0\n",
       "          04          280.0\n",
       "          05          591.0\n",
       "EDUC      -1           29.0\n",
       "          -7           59.0\n",
       "          -8           55.0\n",
       "          01         7190.0\n",
       "          02        36276.0\n",
       "          03        60753.0\n",
       "          04        51148.0\n",
       "          05        45100.0\n",
       "HBPPOPDN  -9          172.0\n",
       "          1500      26306.0\n",
       "          17000      9790.0\n",
       "          300       33262.0\n",
       "          3000      37886.0\n",
       "          30000      2032.0\n",
       "          50        27695.0\n",
       "          7000      44693.0\n",
       "          750       18774.0\n",
       "HBRESDN   -9          172.0\n",
       "          1500      40055.0\n",
       "          17000      2413.0\n",
       "          300       41332.0\n",
       "          3000      32247.0\n",
       "          30000       579.0\n",
       "          50        44182.0\n",
       "          7000      10484.0\n",
       "          750       29146.0\n",
       "HHFAMINC  -7         5380.0\n",
       "          -8          809.0\n",
       "          -9           29.0\n",
       "          01         5068.0\n",
       "          02         6065.0\n",
       "          03        12982.0\n",
       "          04        15878.0\n",
       "          05        22444.0\n",
       "          06        35870.0\n",
       "          07        29646.0\n",
       "          08        23976.0\n",
       "          09        13792.0\n",
       "          10        13905.0\n",
       "          11        14766.0\n",
       "PLACE     -8            1.0\n",
       "          -9         3686.0\n",
       "          01        17153.0\n",
       "          02        54462.0\n",
       "          03        69538.0\n",
       "          04        42387.0\n",
       "          05        13383.0\n",
       "PRICE     -8            1.0\n",
       "          -9          686.0\n",
       "          01        33705.0\n",
       "          02        58636.0\n",
       "          03        39888.0\n",
       "          04        44713.0\n",
       "          05        22981.0\n",
       "VEHOWNMO  -1       169440.0\n",
       "          -7          174.0\n",
       "          -8          161.0\n",
       "          -9            4.0\n",
       "          0          1298.0\n",
       "          01         3376.0\n",
       "          02         2965.0\n",
       "          03         3075.0\n",
       "          04         2836.0\n",
       "          05         2462.0\n",
       "          06         3627.0\n",
       "          07         2102.0\n",
       "          08         2557.0\n",
       "          09         2155.0\n",
       "          10         2421.0\n",
       "          11         1957.0\n",
       "dtype: float64"
      ]
     },
     "execution_count": 97,
     "metadata": {},
     "output_type": "execute_result"
    }
   ],
   "source": [
    "#frequencies of these variables after conversion\n",
    "pd.options.display.max_rows = 100\n",
    "data1[ord].apply(lambda x: x.value_counts()).T.stack()"
   ]
  },
  {
   "cell_type": "code",
   "execution_count": 98,
   "metadata": {},
   "outputs": [],
   "source": [
    "#change type to integer\n",
    "data1[ord] = data1[ord].astype(int)"
   ]
  },
  {
   "cell_type": "code",
   "execution_count": 99,
   "metadata": {},
   "outputs": [
    {
     "data": {
      "text/plain": [
       "CAR       -8             2.0\n",
       "          -1          1900.0\n",
       "           1        169442.0\n",
       "           2         25906.0\n",
       "           3          2489.0\n",
       "           4           280.0\n",
       "           5           591.0\n",
       "EDUC      -8            55.0\n",
       "          -7            59.0\n",
       "          -1            29.0\n",
       "           1          7190.0\n",
       "           2         36276.0\n",
       "           3         60753.0\n",
       "           4         51148.0\n",
       "           5         45100.0\n",
       "HBPPOPDN  -9           172.0\n",
       "           50        27695.0\n",
       "           300       33262.0\n",
       "           750       18774.0\n",
       "           1500      26306.0\n",
       "           3000      37886.0\n",
       "           7000      44693.0\n",
       "           17000      9790.0\n",
       "           30000      2032.0\n",
       "HBRESDN   -9           172.0\n",
       "           50        44182.0\n",
       "           300       41332.0\n",
       "           750       29146.0\n",
       "           1500      40055.0\n",
       "           3000      32247.0\n",
       "           7000      10484.0\n",
       "           17000      2413.0\n",
       "           30000       579.0\n",
       "HHFAMINC  -9            29.0\n",
       "          -8           809.0\n",
       "          -7          5380.0\n",
       "           1          5068.0\n",
       "           2          6065.0\n",
       "           3         12982.0\n",
       "           4         15878.0\n",
       "           5         22444.0\n",
       "           6         35870.0\n",
       "           7         29646.0\n",
       "           8         23976.0\n",
       "           9         13792.0\n",
       "           10        13905.0\n",
       "           11        14766.0\n",
       "PLACE     -9          3686.0\n",
       "          -8             1.0\n",
       "           1         17153.0\n",
       "           2         54462.0\n",
       "           3         69538.0\n",
       "           4         42387.0\n",
       "           5         13383.0\n",
       "PRICE     -9           686.0\n",
       "          -8             1.0\n",
       "           1         33705.0\n",
       "           2         58636.0\n",
       "           3         39888.0\n",
       "           4         44713.0\n",
       "           5         22981.0\n",
       "VEHOWNMO  -9             4.0\n",
       "          -8           161.0\n",
       "          -7           174.0\n",
       "          -1        169440.0\n",
       "           0          1298.0\n",
       "           1          3376.0\n",
       "           2          2965.0\n",
       "           3          3075.0\n",
       "           4          2836.0\n",
       "           5          2462.0\n",
       "           6          3627.0\n",
       "           7          2102.0\n",
       "           8          2557.0\n",
       "           9          2155.0\n",
       "           10         2421.0\n",
       "           11         1957.0\n",
       "dtype: float64"
      ]
     },
     "execution_count": 99,
     "metadata": {},
     "output_type": "execute_result"
    }
   ],
   "source": [
    "#frequencies of these variables after conversion\n",
    "data1[ord].apply(lambda x: x.value_counts()).T.stack()"
   ]
  },
  {
   "cell_type": "code",
   "execution_count": 100,
   "metadata": {},
   "outputs": [],
   "source": [
    "#drop this variable. Doesn't make sense to have label.\n",
    "data1.drop(columns=['VEHOWNMO_label'], inplace=True)"
   ]
  },
  {
   "cell_type": "code",
   "execution_count": 101,
   "metadata": {},
   "outputs": [
    {
     "name": "stdout",
     "output_type": "stream",
     "text": [
      "<class 'pandas.core.frame.DataFrame'>\n",
      "Int64Index: 200610 entries, 49977 to 38915\n",
      "Data columns (total 54 columns):\n",
      " #   Column          Non-Null Count   Dtype \n",
      "---  ------          --------------   ----- \n",
      " 0   HOUSEID         200610 non-null  object\n",
      " 1   PERSONID        200610 non-null  object\n",
      " 2   VEHID           200610 non-null  object\n",
      " 3   CAR             200610 non-null  int64 \n",
      " 4   CARSHARE        200610 non-null  int64 \n",
      " 5   CAR_label       200610 non-null  object\n",
      " 6   DRVRCNT         200610 non-null  int64 \n",
      " 7   EDUC            200610 non-null  int64 \n",
      " 8   EDUC_label      200610 non-null  object\n",
      " 9   FUELTYPE        200610 non-null  object\n",
      " 10  FUELTYPE_label  200610 non-null  object\n",
      " 11  GT1JBLWK        200610 non-null  object\n",
      " 12  GT1JBLWK_label  200610 non-null  object\n",
      " 13  HBHUR           200610 non-null  object\n",
      " 14  HBHUR_label     200610 non-null  object\n",
      " 15  HBPPOPDN        200610 non-null  int64 \n",
      " 16  HBPPOPDN_label  200610 non-null  object\n",
      " 17  HBRESDN         200610 non-null  int64 \n",
      " 18  HBRESDN_label   200610 non-null  object\n",
      " 19  HFUEL           200610 non-null  object\n",
      " 20  HFUEL_label     200610 non-null  object\n",
      " 21  HHFAMINC        200610 non-null  int64 \n",
      " 22  HHFAMINC_label  200610 non-null  object\n",
      " 23  HHSIZE          200610 non-null  int64 \n",
      " 24  HHSTATE         200610 non-null  object\n",
      " 25  HHSTATE_label   200610 non-null  object\n",
      " 26  HHVEHCNT        200610 non-null  int64 \n",
      " 27  HOMEOWN         200610 non-null  object\n",
      " 28  HOMEOWN_label   200610 non-null  object\n",
      " 29  OCCAT           200610 non-null  object\n",
      " 30  OCCAT_label     200610 non-null  object\n",
      " 31  PLACE           200610 non-null  int64 \n",
      " 32  PLACE_label     200610 non-null  object\n",
      " 33  PRICE           200610 non-null  int64 \n",
      " 34  PRICE_label     200610 non-null  object\n",
      " 35  R_AGE           200610 non-null  int64 \n",
      " 36  R_HISP          200610 non-null  object\n",
      " 37  R_HISP_label    200610 non-null  object\n",
      " 38  R_RACE          200610 non-null  object\n",
      " 39  R_RACE_label    200610 non-null  object\n",
      " 40  R_SEX           200610 non-null  object\n",
      " 41  R_SEX_label     200610 non-null  object\n",
      " 42  TIMETOWK        200610 non-null  int64 \n",
      " 43  VEHAGE          200610 non-null  int64 \n",
      " 44  VEHOWNED        200610 non-null  object\n",
      " 45  VEHOWNED_label  200610 non-null  object\n",
      " 46  VEHOWNMO        200610 non-null  int64 \n",
      " 47  WKFTPT          200610 non-null  object\n",
      " 48  WKFTPT_label    200610 non-null  object\n",
      " 49  WKRMHM          200610 non-null  object\n",
      " 50  WKRMHM_label    200610 non-null  object\n",
      " 51  WRKCOUNT        200610 non-null  int64 \n",
      " 52  YEARMILE        200610 non-null  int64 \n",
      " 53  YOUNGCHILD      200610 non-null  int64 \n",
      "dtypes: int64(18), object(36)\n",
      "memory usage: 84.2+ MB\n"
     ]
    }
   ],
   "source": [
    "#Get data into\n",
    "data1.info()"
   ]
  },
  {
   "cell_type": "code",
   "execution_count": 102,
   "metadata": {},
   "outputs": [
    {
     "data": {
      "text/plain": [
       "(200610, 54)"
      ]
     },
     "execution_count": 102,
     "metadata": {},
     "output_type": "execute_result"
    }
   ],
   "source": [
    "#Get dimension\n",
    "data1.shape"
   ]
  },
  {
   "cell_type": "code",
   "execution_count": 103,
   "metadata": {},
   "outputs": [],
   "source": [
    "nominal = [\"GT1JBLWK\",\n",
    "\"HOMEOWN\",\n",
    "\"OCCAT\",\n",
    "\"R_HISP\",\n",
    "\"R_RACE\",\n",
    "\"R_SEX\",\n",
    "\"VEHOWNED\",\n",
    "\"WKFTPT\",\n",
    "\"WKRMHM\", \"FUELTYPE\",\"HFUEL\"]"
   ]
  },
  {
   "cell_type": "code",
   "execution_count": 104,
   "metadata": {},
   "outputs": [],
   "source": [
    "data1[nominal] = data1[nominal].astype(int)"
   ]
  },
  {
   "cell_type": "code",
   "execution_count": 105,
   "metadata": {},
   "outputs": [
    {
     "name": "stdout",
     "output_type": "stream",
     "text": [
      "<class 'pandas.core.frame.DataFrame'>\n",
      "Int64Index: 200610 entries, 49977 to 38915\n",
      "Data columns (total 54 columns):\n",
      " #   Column          Non-Null Count   Dtype \n",
      "---  ------          --------------   ----- \n",
      " 0   HOUSEID         200610 non-null  object\n",
      " 1   PERSONID        200610 non-null  object\n",
      " 2   VEHID           200610 non-null  object\n",
      " 3   CAR             200610 non-null  int64 \n",
      " 4   CARSHARE        200610 non-null  int64 \n",
      " 5   CAR_label       200610 non-null  object\n",
      " 6   DRVRCNT         200610 non-null  int64 \n",
      " 7   EDUC            200610 non-null  int64 \n",
      " 8   EDUC_label      200610 non-null  object\n",
      " 9   FUELTYPE        200610 non-null  int64 \n",
      " 10  FUELTYPE_label  200610 non-null  object\n",
      " 11  GT1JBLWK        200610 non-null  int64 \n",
      " 12  GT1JBLWK_label  200610 non-null  object\n",
      " 13  HBHUR           200610 non-null  object\n",
      " 14  HBHUR_label     200610 non-null  object\n",
      " 15  HBPPOPDN        200610 non-null  int64 \n",
      " 16  HBPPOPDN_label  200610 non-null  object\n",
      " 17  HBRESDN         200610 non-null  int64 \n",
      " 18  HBRESDN_label   200610 non-null  object\n",
      " 19  HFUEL           200610 non-null  int64 \n",
      " 20  HFUEL_label     200610 non-null  object\n",
      " 21  HHFAMINC        200610 non-null  int64 \n",
      " 22  HHFAMINC_label  200610 non-null  object\n",
      " 23  HHSIZE          200610 non-null  int64 \n",
      " 24  HHSTATE         200610 non-null  object\n",
      " 25  HHSTATE_label   200610 non-null  object\n",
      " 26  HHVEHCNT        200610 non-null  int64 \n",
      " 27  HOMEOWN         200610 non-null  int64 \n",
      " 28  HOMEOWN_label   200610 non-null  object\n",
      " 29  OCCAT           200610 non-null  int64 \n",
      " 30  OCCAT_label     200610 non-null  object\n",
      " 31  PLACE           200610 non-null  int64 \n",
      " 32  PLACE_label     200610 non-null  object\n",
      " 33  PRICE           200610 non-null  int64 \n",
      " 34  PRICE_label     200610 non-null  object\n",
      " 35  R_AGE           200610 non-null  int64 \n",
      " 36  R_HISP          200610 non-null  int64 \n",
      " 37  R_HISP_label    200610 non-null  object\n",
      " 38  R_RACE          200610 non-null  int64 \n",
      " 39  R_RACE_label    200610 non-null  object\n",
      " 40  R_SEX           200610 non-null  int64 \n",
      " 41  R_SEX_label     200610 non-null  object\n",
      " 42  TIMETOWK        200610 non-null  int64 \n",
      " 43  VEHAGE          200610 non-null  int64 \n",
      " 44  VEHOWNED        200610 non-null  int64 \n",
      " 45  VEHOWNED_label  200610 non-null  object\n",
      " 46  VEHOWNMO        200610 non-null  int64 \n",
      " 47  WKFTPT          200610 non-null  int64 \n",
      " 48  WKFTPT_label    200610 non-null  object\n",
      " 49  WKRMHM          200610 non-null  int64 \n",
      " 50  WKRMHM_label    200610 non-null  object\n",
      " 51  WRKCOUNT        200610 non-null  int64 \n",
      " 52  YEARMILE        200610 non-null  int64 \n",
      " 53  YOUNGCHILD      200610 non-null  int64 \n",
      "dtypes: int64(29), object(25)\n",
      "memory usage: 84.2+ MB\n"
     ]
    }
   ],
   "source": [
    "#get data info\n",
    "data1.info()"
   ]
  },
  {
   "cell_type": "code",
   "execution_count": 106,
   "metadata": {},
   "outputs": [],
   "source": [
    "cont = data1.select_dtypes('float').columns.to_list()\n",
    "data1[cont] = data1[cont].astype(int)"
   ]
  },
  {
   "cell_type": "code",
   "execution_count": 107,
   "metadata": {
    "scrolled": true
   },
   "outputs": [
    {
     "name": "stdout",
     "output_type": "stream",
     "text": [
      "<class 'pandas.core.frame.DataFrame'>\n",
      "Int64Index: 200610 entries, 49977 to 38915\n",
      "Data columns (total 54 columns):\n",
      " #   Column          Non-Null Count   Dtype \n",
      "---  ------          --------------   ----- \n",
      " 0   HOUSEID         200610 non-null  object\n",
      " 1   PERSONID        200610 non-null  object\n",
      " 2   VEHID           200610 non-null  object\n",
      " 3   CAR             200610 non-null  int64 \n",
      " 4   CARSHARE        200610 non-null  int64 \n",
      " 5   CAR_label       200610 non-null  object\n",
      " 6   DRVRCNT         200610 non-null  int64 \n",
      " 7   EDUC            200610 non-null  int64 \n",
      " 8   EDUC_label      200610 non-null  object\n",
      " 9   FUELTYPE        200610 non-null  int64 \n",
      " 10  FUELTYPE_label  200610 non-null  object\n",
      " 11  GT1JBLWK        200610 non-null  int64 \n",
      " 12  GT1JBLWK_label  200610 non-null  object\n",
      " 13  HBHUR           200610 non-null  object\n",
      " 14  HBHUR_label     200610 non-null  object\n",
      " 15  HBPPOPDN        200610 non-null  int64 \n",
      " 16  HBPPOPDN_label  200610 non-null  object\n",
      " 17  HBRESDN         200610 non-null  int64 \n",
      " 18  HBRESDN_label   200610 non-null  object\n",
      " 19  HFUEL           200610 non-null  int64 \n",
      " 20  HFUEL_label     200610 non-null  object\n",
      " 21  HHFAMINC        200610 non-null  int64 \n",
      " 22  HHFAMINC_label  200610 non-null  object\n",
      " 23  HHSIZE          200610 non-null  int64 \n",
      " 24  HHSTATE         200610 non-null  object\n",
      " 25  HHSTATE_label   200610 non-null  object\n",
      " 26  HHVEHCNT        200610 non-null  int64 \n",
      " 27  HOMEOWN         200610 non-null  int64 \n",
      " 28  HOMEOWN_label   200610 non-null  object\n",
      " 29  OCCAT           200610 non-null  int64 \n",
      " 30  OCCAT_label     200610 non-null  object\n",
      " 31  PLACE           200610 non-null  int64 \n",
      " 32  PLACE_label     200610 non-null  object\n",
      " 33  PRICE           200610 non-null  int64 \n",
      " 34  PRICE_label     200610 non-null  object\n",
      " 35  R_AGE           200610 non-null  int64 \n",
      " 36  R_HISP          200610 non-null  int64 \n",
      " 37  R_HISP_label    200610 non-null  object\n",
      " 38  R_RACE          200610 non-null  int64 \n",
      " 39  R_RACE_label    200610 non-null  object\n",
      " 40  R_SEX           200610 non-null  int64 \n",
      " 41  R_SEX_label     200610 non-null  object\n",
      " 42  TIMETOWK        200610 non-null  int64 \n",
      " 43  VEHAGE          200610 non-null  int64 \n",
      " 44  VEHOWNED        200610 non-null  int64 \n",
      " 45  VEHOWNED_label  200610 non-null  object\n",
      " 46  VEHOWNMO        200610 non-null  int64 \n",
      " 47  WKFTPT          200610 non-null  int64 \n",
      " 48  WKFTPT_label    200610 non-null  object\n",
      " 49  WKRMHM          200610 non-null  int64 \n",
      " 50  WKRMHM_label    200610 non-null  object\n",
      " 51  WRKCOUNT        200610 non-null  int64 \n",
      " 52  YEARMILE        200610 non-null  int64 \n",
      " 53  YOUNGCHILD      200610 non-null  int64 \n",
      "dtypes: int64(29), object(25)\n",
      "memory usage: 84.2+ MB\n"
     ]
    }
   ],
   "source": [
    "#get data info\n",
    "data1.info()"
   ]
  },
  {
   "cell_type": "code",
   "execution_count": 108,
   "metadata": {},
   "outputs": [],
   "source": [
    "data1_obj = data1.select_dtypes(['object']).columns.to_list()"
   ]
  },
  {
   "cell_type": "code",
   "execution_count": 109,
   "metadata": {},
   "outputs": [],
   "source": [
    "data1_int = data1.select_dtypes(['int64']).columns.to_list()"
   ]
  },
  {
   "cell_type": "markdown",
   "metadata": {},
   "source": [
    "# Label/Value Mapping"
   ]
  },
  {
   "cell_type": "code",
   "execution_count": 110,
   "metadata": {},
   "outputs": [
    {
     "data": {
      "text/html": [
       "<div>\n",
       "<style scoped>\n",
       "    .dataframe tbody tr th:only-of-type {\n",
       "        vertical-align: middle;\n",
       "    }\n",
       "\n",
       "    .dataframe tbody tr th {\n",
       "        vertical-align: top;\n",
       "    }\n",
       "\n",
       "    .dataframe thead th {\n",
       "        text-align: right;\n",
       "    }\n",
       "</style>\n",
       "<table border=\"1\" class=\"dataframe\">\n",
       "  <thead>\n",
       "    <tr style=\"text-align: right;\">\n",
       "      <th></th>\n",
       "      <th>HOUSEID</th>\n",
       "      <th>PERSONID</th>\n",
       "      <th>VEHID</th>\n",
       "      <th>CAR</th>\n",
       "      <th>CARSHARE</th>\n",
       "      <th>CAR_label</th>\n",
       "      <th>DRVRCNT</th>\n",
       "      <th>EDUC</th>\n",
       "      <th>EDUC_label</th>\n",
       "      <th>FUELTYPE</th>\n",
       "      <th>...</th>\n",
       "      <th>VEHOWNED</th>\n",
       "      <th>VEHOWNED_label</th>\n",
       "      <th>VEHOWNMO</th>\n",
       "      <th>WKFTPT</th>\n",
       "      <th>WKFTPT_label</th>\n",
       "      <th>WKRMHM</th>\n",
       "      <th>WKRMHM_label</th>\n",
       "      <th>WRKCOUNT</th>\n",
       "      <th>YEARMILE</th>\n",
       "      <th>YOUNGCHILD</th>\n",
       "    </tr>\n",
       "  </thead>\n",
       "  <tbody>\n",
       "    <tr>\n",
       "      <th>49977</th>\n",
       "      <td>30210010</td>\n",
       "      <td>02</td>\n",
       "      <td>03</td>\n",
       "      <td>1</td>\n",
       "      <td>0</td>\n",
       "      <td>DAILY</td>\n",
       "      <td>3</td>\n",
       "      <td>3</td>\n",
       "      <td>SOME COLLEGE OR ASSOCIATES DEGREE</td>\n",
       "      <td>1</td>\n",
       "      <td>...</td>\n",
       "      <td>2</td>\n",
       "      <td>NO</td>\n",
       "      <td>0</td>\n",
       "      <td>1</td>\n",
       "      <td>FULL-TIME</td>\n",
       "      <td>2</td>\n",
       "      <td>NO</td>\n",
       "      <td>3</td>\n",
       "      <td>25000</td>\n",
       "      <td>0</td>\n",
       "    </tr>\n",
       "    <tr>\n",
       "      <th>152617</th>\n",
       "      <td>40136586</td>\n",
       "      <td>01</td>\n",
       "      <td>01</td>\n",
       "      <td>1</td>\n",
       "      <td>0</td>\n",
       "      <td>DAILY</td>\n",
       "      <td>1</td>\n",
       "      <td>3</td>\n",
       "      <td>SOME COLLEGE OR ASSOCIATES DEGREE</td>\n",
       "      <td>1</td>\n",
       "      <td>...</td>\n",
       "      <td>1</td>\n",
       "      <td>YES</td>\n",
       "      <td>-1</td>\n",
       "      <td>-1</td>\n",
       "      <td>APPROPRIATE SKIP</td>\n",
       "      <td>-1</td>\n",
       "      <td>APPROPRIATE SKIP</td>\n",
       "      <td>0</td>\n",
       "      <td>1000</td>\n",
       "      <td>0</td>\n",
       "    </tr>\n",
       "    <tr>\n",
       "      <th>219521</th>\n",
       "      <td>40588561</td>\n",
       "      <td>04</td>\n",
       "      <td>04</td>\n",
       "      <td>1</td>\n",
       "      <td>0</td>\n",
       "      <td>DAILY</td>\n",
       "      <td>3</td>\n",
       "      <td>2</td>\n",
       "      <td>HIGH SCHOOL GRADUATE OR GED</td>\n",
       "      <td>1</td>\n",
       "      <td>...</td>\n",
       "      <td>-8</td>\n",
       "      <td>I DON'T KNOW</td>\n",
       "      <td>-1</td>\n",
       "      <td>2</td>\n",
       "      <td>PART-TIME</td>\n",
       "      <td>2</td>\n",
       "      <td>NO</td>\n",
       "      <td>2</td>\n",
       "      <td>5000</td>\n",
       "      <td>0</td>\n",
       "    </tr>\n",
       "    <tr>\n",
       "      <th>207962</th>\n",
       "      <td>40509371</td>\n",
       "      <td>01</td>\n",
       "      <td>01</td>\n",
       "      <td>3</td>\n",
       "      <td>10</td>\n",
       "      <td>A FEW TIMES A MONTH</td>\n",
       "      <td>1</td>\n",
       "      <td>4</td>\n",
       "      <td>BACHELOR'S DEGREE</td>\n",
       "      <td>1</td>\n",
       "      <td>...</td>\n",
       "      <td>2</td>\n",
       "      <td>NO</td>\n",
       "      <td>3</td>\n",
       "      <td>1</td>\n",
       "      <td>FULL-TIME</td>\n",
       "      <td>-1</td>\n",
       "      <td>APPROPRIATE SKIP</td>\n",
       "      <td>1</td>\n",
       "      <td>500</td>\n",
       "      <td>0</td>\n",
       "    </tr>\n",
       "    <tr>\n",
       "      <th>108057</th>\n",
       "      <td>30455166</td>\n",
       "      <td>01</td>\n",
       "      <td>02</td>\n",
       "      <td>1</td>\n",
       "      <td>0</td>\n",
       "      <td>DAILY</td>\n",
       "      <td>2</td>\n",
       "      <td>5</td>\n",
       "      <td>GRADUATE DEGREE OR PROFESSIONAL DEGREE</td>\n",
       "      <td>1</td>\n",
       "      <td>...</td>\n",
       "      <td>1</td>\n",
       "      <td>YES</td>\n",
       "      <td>-1</td>\n",
       "      <td>-1</td>\n",
       "      <td>APPROPRIATE SKIP</td>\n",
       "      <td>-1</td>\n",
       "      <td>APPROPRIATE SKIP</td>\n",
       "      <td>2</td>\n",
       "      <td>10000</td>\n",
       "      <td>0</td>\n",
       "    </tr>\n",
       "  </tbody>\n",
       "</table>\n",
       "<p>5 rows × 54 columns</p>\n",
       "</div>"
      ],
      "text/plain": [
       "         HOUSEID PERSONID VEHID  CAR  CARSHARE            CAR_label  DRVRCNT  \\\n",
       "49977   30210010       02    03    1         0                DAILY        3   \n",
       "152617  40136586       01    01    1         0                DAILY        1   \n",
       "219521  40588561       04    04    1         0                DAILY        3   \n",
       "207962  40509371       01    01    3        10  A FEW TIMES A MONTH        1   \n",
       "108057  30455166       01    02    1         0                DAILY        2   \n",
       "\n",
       "        EDUC                              EDUC_label  FUELTYPE  ... VEHOWNED  \\\n",
       "49977      3       SOME COLLEGE OR ASSOCIATES DEGREE         1  ...        2   \n",
       "152617     3       SOME COLLEGE OR ASSOCIATES DEGREE         1  ...        1   \n",
       "219521     2             HIGH SCHOOL GRADUATE OR GED         1  ...       -8   \n",
       "207962     4                       BACHELOR'S DEGREE         1  ...        2   \n",
       "108057     5  GRADUATE DEGREE OR PROFESSIONAL DEGREE         1  ...        1   \n",
       "\n",
       "        VEHOWNED_label VEHOWNMO WKFTPT      WKFTPT_label  WKRMHM  \\\n",
       "49977               NO        0      1         FULL-TIME       2   \n",
       "152617             YES       -1     -1  APPROPRIATE SKIP      -1   \n",
       "219521    I DON'T KNOW       -1      2         PART-TIME       2   \n",
       "207962              NO        3      1         FULL-TIME      -1   \n",
       "108057             YES       -1     -1  APPROPRIATE SKIP      -1   \n",
       "\n",
       "            WKRMHM_label  WRKCOUNT YEARMILE  YOUNGCHILD  \n",
       "49977                 NO         3    25000           0  \n",
       "152617  APPROPRIATE SKIP         0     1000           0  \n",
       "219521                NO         2     5000           0  \n",
       "207962  APPROPRIATE SKIP         1      500           0  \n",
       "108057  APPROPRIATE SKIP         2    10000           0  \n",
       "\n",
       "[5 rows x 54 columns]"
      ]
     },
     "execution_count": 110,
     "metadata": {},
     "output_type": "execute_result"
    }
   ],
   "source": [
    "data1[data1_obj] = data1[data1_obj].apply(lambda x: x.str.upper())\n",
    "data1.head()"
   ]
  },
  {
   "cell_type": "code",
   "execution_count": 111,
   "metadata": {},
   "outputs": [],
   "source": [
    "#for integer variables\n",
    "nan_map_int = {-7: np.nan, -77: np.nan,\n",
    "           -8: np.nan, -88: np.nan,\n",
    "           -1: np.nan, -9: np.nan\n",
    "          }\n",
    "#For variables with string\n",
    "nan_map_str = {\"-7\": np.nan, \"-77\": np.nan,\n",
    "           \"-8\": np.nan, \"-88\": np.nan,\n",
    "           \"-1\": np.nan, \"-9\": np.nan}\n",
    "\n",
    "#with variables with string but are labels\n",
    "nan_map_label = {\"I PREFER NOT TO ANSWER\": np.nan,\"I DON'T KNOW\": np.nan,\n",
    "           \"APPROPRIATE SKIP\": np.nan, \"NOT ASCERTAINED\": np.nan}\n",
    "\n",
    "# TODO: get column names as dict keys;the above dict then get zipped to those keys\n",
    "# use resulting dict to replace"
   ]
  },
  {
   "cell_type": "code",
   "execution_count": 112,
   "metadata": {
    "scrolled": true
   },
   "outputs": [
    {
     "name": "stdout",
     "output_type": "stream",
     "text": [
      "CPU times: user 62.5 ms, sys: 1.93 ms, total: 64.4 ms\n",
      "Wall time: 61.8 ms\n"
     ]
    }
   ],
   "source": [
    "%%time\n",
    "# copy DataFrames\n",
    "data_nan = data1.copy()"
   ]
  },
  {
   "cell_type": "code",
   "execution_count": 113,
   "metadata": {},
   "outputs": [],
   "source": [
    "#replace integer variables\n",
    "data_nan[data1_int] = data_nan[data1_int].replace(nan_map_int)"
   ]
  },
  {
   "cell_type": "code",
   "execution_count": 114,
   "metadata": {},
   "outputs": [],
   "source": [
    "#categorical variables with string labels\n",
    "data_nan[['HBHUR','HHSTATE']] = data_nan[['HBHUR','HHSTATE']].replace(nan_map_str)"
   ]
  },
  {
   "cell_type": "code",
   "execution_count": 115,
   "metadata": {},
   "outputs": [],
   "source": [
    "#replace labels\n",
    "data_nan[data1_obj] = data_nan[data1_obj].replace(nan_map_label)"
   ]
  },
  {
   "cell_type": "code",
   "execution_count": 116,
   "metadata": {
    "scrolled": true
   },
   "outputs": [
    {
     "name": "stdout",
     "output_type": "stream",
     "text": [
      "<class 'pandas.core.frame.DataFrame'>\n",
      "Int64Index: 200610 entries, 49977 to 38915\n",
      "Data columns (total 54 columns):\n",
      " #   Column          Non-Null Count   Dtype  \n",
      "---  ------          --------------   -----  \n",
      " 0   HOUSEID         200610 non-null  object \n",
      " 1   PERSONID        200610 non-null  object \n",
      " 2   VEHID           200610 non-null  object \n",
      " 3   CAR             198708 non-null  float64\n",
      " 4   CARSHARE        200316 non-null  float64\n",
      " 5   CAR_label       198708 non-null  object \n",
      " 6   DRVRCNT         200610 non-null  float64\n",
      " 7   EDUC            200467 non-null  float64\n",
      " 8   EDUC_label      200467 non-null  object \n",
      " 9   FUELTYPE        200564 non-null  float64\n",
      " 10  FUELTYPE_label  200564 non-null  object \n",
      " 11  GT1JBLWK        114498 non-null  float64\n",
      " 12  GT1JBLWK_label  114498 non-null  object \n",
      " 13  HBHUR           200438 non-null  object \n",
      " 14  HBHUR_label     200438 non-null  object \n",
      " 15  HBPPOPDN        200438 non-null  float64\n",
      " 16  HBPPOPDN_label  200438 non-null  object \n",
      " 17  HBRESDN         200438 non-null  float64\n",
      " 18  HBRESDN_label   200438 non-null  object \n",
      " 19  HFUEL           5813 non-null    float64\n",
      " 20  HFUEL_label     5813 non-null    object \n",
      " 21  HHFAMINC        194392 non-null  float64\n",
      " 22  HHFAMINC_label  194392 non-null  object \n",
      " 23  HHSIZE          200610 non-null  float64\n",
      " 24  HHSTATE         200610 non-null  object \n",
      " 25  HHSTATE_label   200610 non-null  object \n",
      " 26  HHVEHCNT        200610 non-null  float64\n",
      " 27  HOMEOWN         200568 non-null  float64\n",
      " 28  HOMEOWN_label   200568 non-null  object \n",
      " 29  OCCAT           114450 non-null  float64\n",
      " 30  OCCAT_label     114450 non-null  object \n",
      " 31  PLACE           196923 non-null  float64\n",
      " 32  PLACE_label     196923 non-null  object \n",
      " 33  PRICE           199923 non-null  float64\n",
      " 34  PRICE_label     199923 non-null  object \n",
      " 35  R_AGE           200315 non-null  float64\n",
      " 36  R_HISP          200327 non-null  float64\n",
      " 37  R_HISP_label    200327 non-null  object \n",
      " 38  R_RACE          199610 non-null  float64\n",
      " 39  R_RACE_label    200610 non-null  object \n",
      " 40  R_SEX           200488 non-null  float64\n",
      " 41  R_SEX_label     200488 non-null  object \n",
      " 42  TIMETOWK        98955 non-null   float64\n",
      " 43  VEHAGE          199512 non-null  float64\n",
      " 44  VEHOWNED        200448 non-null  float64\n",
      " 45  VEHOWNED_label  200448 non-null  object \n",
      " 46  VEHOWNMO        30831 non-null   float64\n",
      " 47  WKFTPT          114435 non-null  float64\n",
      " 48  WKFTPT_label    114435 non-null  object \n",
      " 49  WKRMHM          99066 non-null   float64\n",
      " 50  WKRMHM_label    99066 non-null   object \n",
      " 51  WRKCOUNT        200610 non-null  float64\n",
      " 52  YEARMILE        147870 non-null  float64\n",
      " 53  YOUNGCHILD      200610 non-null  float64\n",
      "dtypes: float64(29), object(25)\n",
      "memory usage: 84.2+ MB\n"
     ]
    }
   ],
   "source": [
    "#get data info\n",
    "data_nan.info()"
   ]
  },
  {
   "cell_type": "code",
   "execution_count": 117,
   "metadata": {},
   "outputs": [
    {
     "data": {
      "text/plain": [
       "(200610, 54)"
      ]
     },
     "execution_count": 117,
     "metadata": {},
     "output_type": "execute_result"
    }
   ],
   "source": [
    "#get data shape\n",
    "data_nan.shape"
   ]
  },
  {
   "cell_type": "markdown",
   "metadata": {},
   "source": [
    "Use data_nan data frame for further analysis"
   ]
  },
  {
   "cell_type": "code",
   "execution_count": 118,
   "metadata": {},
   "outputs": [
    {
     "data": {
      "text/html": [
       "<div>\n",
       "<style scoped>\n",
       "    .dataframe tbody tr th:only-of-type {\n",
       "        vertical-align: middle;\n",
       "    }\n",
       "\n",
       "    .dataframe tbody tr th {\n",
       "        vertical-align: top;\n",
       "    }\n",
       "\n",
       "    .dataframe thead th {\n",
       "        text-align: right;\n",
       "    }\n",
       "</style>\n",
       "<table border=\"1\" class=\"dataframe\">\n",
       "  <thead>\n",
       "    <tr style=\"text-align: right;\">\n",
       "      <th></th>\n",
       "      <th>HOUSEID</th>\n",
       "      <th>PERSONID</th>\n",
       "      <th>VEHID</th>\n",
       "      <th>CAR</th>\n",
       "      <th>CARSHARE</th>\n",
       "      <th>CAR_label</th>\n",
       "      <th>DRVRCNT</th>\n",
       "      <th>EDUC</th>\n",
       "      <th>EDUC_label</th>\n",
       "      <th>FUELTYPE</th>\n",
       "      <th>...</th>\n",
       "      <th>VEHOWNED</th>\n",
       "      <th>VEHOWNED_label</th>\n",
       "      <th>VEHOWNMO</th>\n",
       "      <th>WKFTPT</th>\n",
       "      <th>WKFTPT_label</th>\n",
       "      <th>WKRMHM</th>\n",
       "      <th>WKRMHM_label</th>\n",
       "      <th>WRKCOUNT</th>\n",
       "      <th>YEARMILE</th>\n",
       "      <th>YOUNGCHILD</th>\n",
       "    </tr>\n",
       "  </thead>\n",
       "  <tbody>\n",
       "    <tr>\n",
       "      <th>49977</th>\n",
       "      <td>30210010</td>\n",
       "      <td>02</td>\n",
       "      <td>03</td>\n",
       "      <td>1.0</td>\n",
       "      <td>0.0</td>\n",
       "      <td>DAILY</td>\n",
       "      <td>3.0</td>\n",
       "      <td>3.0</td>\n",
       "      <td>SOME COLLEGE OR ASSOCIATES DEGREE</td>\n",
       "      <td>1.0</td>\n",
       "      <td>...</td>\n",
       "      <td>2.0</td>\n",
       "      <td>NO</td>\n",
       "      <td>0.0</td>\n",
       "      <td>1.0</td>\n",
       "      <td>FULL-TIME</td>\n",
       "      <td>2.0</td>\n",
       "      <td>NO</td>\n",
       "      <td>3.0</td>\n",
       "      <td>25000.0</td>\n",
       "      <td>0.0</td>\n",
       "    </tr>\n",
       "    <tr>\n",
       "      <th>152617</th>\n",
       "      <td>40136586</td>\n",
       "      <td>01</td>\n",
       "      <td>01</td>\n",
       "      <td>1.0</td>\n",
       "      <td>0.0</td>\n",
       "      <td>DAILY</td>\n",
       "      <td>1.0</td>\n",
       "      <td>3.0</td>\n",
       "      <td>SOME COLLEGE OR ASSOCIATES DEGREE</td>\n",
       "      <td>1.0</td>\n",
       "      <td>...</td>\n",
       "      <td>1.0</td>\n",
       "      <td>YES</td>\n",
       "      <td>NaN</td>\n",
       "      <td>NaN</td>\n",
       "      <td>NaN</td>\n",
       "      <td>NaN</td>\n",
       "      <td>NaN</td>\n",
       "      <td>0.0</td>\n",
       "      <td>1000.0</td>\n",
       "      <td>0.0</td>\n",
       "    </tr>\n",
       "    <tr>\n",
       "      <th>219521</th>\n",
       "      <td>40588561</td>\n",
       "      <td>04</td>\n",
       "      <td>04</td>\n",
       "      <td>1.0</td>\n",
       "      <td>0.0</td>\n",
       "      <td>DAILY</td>\n",
       "      <td>3.0</td>\n",
       "      <td>2.0</td>\n",
       "      <td>HIGH SCHOOL GRADUATE OR GED</td>\n",
       "      <td>1.0</td>\n",
       "      <td>...</td>\n",
       "      <td>NaN</td>\n",
       "      <td>NaN</td>\n",
       "      <td>NaN</td>\n",
       "      <td>2.0</td>\n",
       "      <td>PART-TIME</td>\n",
       "      <td>2.0</td>\n",
       "      <td>NO</td>\n",
       "      <td>2.0</td>\n",
       "      <td>5000.0</td>\n",
       "      <td>0.0</td>\n",
       "    </tr>\n",
       "    <tr>\n",
       "      <th>207962</th>\n",
       "      <td>40509371</td>\n",
       "      <td>01</td>\n",
       "      <td>01</td>\n",
       "      <td>3.0</td>\n",
       "      <td>10.0</td>\n",
       "      <td>A FEW TIMES A MONTH</td>\n",
       "      <td>1.0</td>\n",
       "      <td>4.0</td>\n",
       "      <td>BACHELOR'S DEGREE</td>\n",
       "      <td>1.0</td>\n",
       "      <td>...</td>\n",
       "      <td>2.0</td>\n",
       "      <td>NO</td>\n",
       "      <td>3.0</td>\n",
       "      <td>1.0</td>\n",
       "      <td>FULL-TIME</td>\n",
       "      <td>NaN</td>\n",
       "      <td>NaN</td>\n",
       "      <td>1.0</td>\n",
       "      <td>500.0</td>\n",
       "      <td>0.0</td>\n",
       "    </tr>\n",
       "    <tr>\n",
       "      <th>108057</th>\n",
       "      <td>30455166</td>\n",
       "      <td>01</td>\n",
       "      <td>02</td>\n",
       "      <td>1.0</td>\n",
       "      <td>0.0</td>\n",
       "      <td>DAILY</td>\n",
       "      <td>2.0</td>\n",
       "      <td>5.0</td>\n",
       "      <td>GRADUATE DEGREE OR PROFESSIONAL DEGREE</td>\n",
       "      <td>1.0</td>\n",
       "      <td>...</td>\n",
       "      <td>1.0</td>\n",
       "      <td>YES</td>\n",
       "      <td>NaN</td>\n",
       "      <td>NaN</td>\n",
       "      <td>NaN</td>\n",
       "      <td>NaN</td>\n",
       "      <td>NaN</td>\n",
       "      <td>2.0</td>\n",
       "      <td>10000.0</td>\n",
       "      <td>0.0</td>\n",
       "    </tr>\n",
       "  </tbody>\n",
       "</table>\n",
       "<p>5 rows × 54 columns</p>\n",
       "</div>"
      ],
      "text/plain": [
       "         HOUSEID PERSONID VEHID  CAR  CARSHARE            CAR_label  DRVRCNT  \\\n",
       "49977   30210010       02    03  1.0       0.0                DAILY      3.0   \n",
       "152617  40136586       01    01  1.0       0.0                DAILY      1.0   \n",
       "219521  40588561       04    04  1.0       0.0                DAILY      3.0   \n",
       "207962  40509371       01    01  3.0      10.0  A FEW TIMES A MONTH      1.0   \n",
       "108057  30455166       01    02  1.0       0.0                DAILY      2.0   \n",
       "\n",
       "        EDUC                              EDUC_label  FUELTYPE  ... VEHOWNED  \\\n",
       "49977    3.0       SOME COLLEGE OR ASSOCIATES DEGREE       1.0  ...      2.0   \n",
       "152617   3.0       SOME COLLEGE OR ASSOCIATES DEGREE       1.0  ...      1.0   \n",
       "219521   2.0             HIGH SCHOOL GRADUATE OR GED       1.0  ...      NaN   \n",
       "207962   4.0                       BACHELOR'S DEGREE       1.0  ...      2.0   \n",
       "108057   5.0  GRADUATE DEGREE OR PROFESSIONAL DEGREE       1.0  ...      1.0   \n",
       "\n",
       "        VEHOWNED_label VEHOWNMO WKFTPT WKFTPT_label  WKRMHM WKRMHM_label  \\\n",
       "49977               NO      0.0    1.0    FULL-TIME     2.0           NO   \n",
       "152617             YES      NaN    NaN          NaN     NaN          NaN   \n",
       "219521             NaN      NaN    2.0    PART-TIME     2.0           NO   \n",
       "207962              NO      3.0    1.0    FULL-TIME     NaN          NaN   \n",
       "108057             YES      NaN    NaN          NaN     NaN          NaN   \n",
       "\n",
       "        WRKCOUNT YEARMILE  YOUNGCHILD  \n",
       "49977        3.0  25000.0         0.0  \n",
       "152617       0.0   1000.0         0.0  \n",
       "219521       2.0   5000.0         0.0  \n",
       "207962       1.0    500.0         0.0  \n",
       "108057       2.0  10000.0         0.0  \n",
       "\n",
       "[5 rows x 54 columns]"
      ]
     },
     "execution_count": 118,
     "metadata": {},
     "output_type": "execute_result"
    }
   ],
   "source": [
    "#Look at first few rows\n",
    "data_nan.head()"
   ]
  },
  {
   "cell_type": "code",
   "execution_count": 119,
   "metadata": {},
   "outputs": [
    {
     "data": {
      "text/plain": [
       "array(['DAILY', 'A FEW TIMES A MONTH', nan, 'A FEW TIMES A WEEK',\n",
       "       'A FEW TIMES A YEAR', 'NEVER'], dtype=object)"
      ]
     },
     "execution_count": 119,
     "metadata": {},
     "output_type": "execute_result"
    }
   ],
   "source": [
    "#check an example\n",
    "data_nan['CAR_label'].unique()"
   ]
  },
  {
   "cell_type": "markdown",
   "metadata": {},
   "source": [
    "# Response Variable "
   ]
  },
  {
   "cell_type": "code",
   "execution_count": 120,
   "metadata": {},
   "outputs": [
    {
     "name": "stderr",
     "output_type": "stream",
     "text": [
      "/Users/Avinash/opt/anaconda3/lib/python3.7/site-packages/ipykernel_launcher.py:2: FutureWarning: Indexing with multiple keys (implicitly converted to a tuple of keys) will be deprecated, use a list instead.\n",
      "  \n"
     ]
    },
    {
     "data": {
      "text/html": [
       "<div>\n",
       "<style scoped>\n",
       "    .dataframe tbody tr th:only-of-type {\n",
       "        vertical-align: middle;\n",
       "    }\n",
       "\n",
       "    .dataframe tbody tr th {\n",
       "        vertical-align: top;\n",
       "    }\n",
       "\n",
       "    .dataframe thead th {\n",
       "        text-align: right;\n",
       "    }\n",
       "</style>\n",
       "<table border=\"1\" class=\"dataframe\">\n",
       "  <thead>\n",
       "    <tr style=\"text-align: right;\">\n",
       "      <th></th>\n",
       "      <th></th>\n",
       "      <th>HFUEL_label</th>\n",
       "      <th>FUELTYPE_label</th>\n",
       "    </tr>\n",
       "    <tr>\n",
       "      <th>HFUEL_label</th>\n",
       "      <th>FUELTYPE_label</th>\n",
       "      <th></th>\n",
       "      <th></th>\n",
       "    </tr>\n",
       "  </thead>\n",
       "  <tbody>\n",
       "    <tr>\n",
       "      <th>BIODIESEL</th>\n",
       "      <th>HYBRID, ELECTRIC OR ALTERNATIVE FUEL</th>\n",
       "      <td>23</td>\n",
       "      <td>23</td>\n",
       "    </tr>\n",
       "    <tr>\n",
       "      <th>ELECTRIC (E.G. NISSAN LEAF)</th>\n",
       "      <th>HYBRID, ELECTRIC OR ALTERNATIVE FUEL</th>\n",
       "      <td>500</td>\n",
       "      <td>500</td>\n",
       "    </tr>\n",
       "    <tr>\n",
       "      <th>HYBRID (GAS/ELECTRIC, NOT PLUG-IN E.G., TOYOTA PRIUS)</th>\n",
       "      <th>HYBRID, ELECTRIC OR ALTERNATIVE FUEL</th>\n",
       "      <td>4714</td>\n",
       "      <td>4714</td>\n",
       "    </tr>\n",
       "    <tr>\n",
       "      <th>PLUG-IN HYBRID (GAS/ELECTRIC E.G., CHEVY VOLT)</th>\n",
       "      <th>HYBRID, ELECTRIC OR ALTERNATIVE FUEL</th>\n",
       "      <td>446</td>\n",
       "      <td>446</td>\n",
       "    </tr>\n",
       "    <tr>\n",
       "      <th>SOME OTHER FUEL</th>\n",
       "      <th>HYBRID, ELECTRIC OR ALTERNATIVE FUEL</th>\n",
       "      <td>130</td>\n",
       "      <td>130</td>\n",
       "    </tr>\n",
       "  </tbody>\n",
       "</table>\n",
       "</div>"
      ],
      "text/plain": [
       "                                                                                         HFUEL_label  \\\n",
       "HFUEL_label                                        FUELTYPE_label                                      \n",
       "BIODIESEL                                          HYBRID, ELECTRIC OR ALTERNATIVE FUEL           23   \n",
       "ELECTRIC (E.G. NISSAN LEAF)                        HYBRID, ELECTRIC OR ALTERNATIVE FUEL          500   \n",
       "HYBRID (GAS/ELECTRIC, NOT PLUG-IN E.G., TOYOTA ... HYBRID, ELECTRIC OR ALTERNATIVE FUEL         4714   \n",
       "PLUG-IN HYBRID (GAS/ELECTRIC E.G., CHEVY VOLT)     HYBRID, ELECTRIC OR ALTERNATIVE FUEL          446   \n",
       "SOME OTHER FUEL                                    HYBRID, ELECTRIC OR ALTERNATIVE FUEL          130   \n",
       "\n",
       "                                                                                         FUELTYPE_label  \n",
       "HFUEL_label                                        FUELTYPE_label                                        \n",
       "BIODIESEL                                          HYBRID, ELECTRIC OR ALTERNATIVE FUEL              23  \n",
       "ELECTRIC (E.G. NISSAN LEAF)                        HYBRID, ELECTRIC OR ALTERNATIVE FUEL             500  \n",
       "HYBRID (GAS/ELECTRIC, NOT PLUG-IN E.G., TOYOTA ... HYBRID, ELECTRIC OR ALTERNATIVE FUEL            4714  \n",
       "PLUG-IN HYBRID (GAS/ELECTRIC E.G., CHEVY VOLT)     HYBRID, ELECTRIC OR ALTERNATIVE FUEL             446  \n",
       "SOME OTHER FUEL                                    HYBRID, ELECTRIC OR ALTERNATIVE FUEL             130  "
      ]
     },
     "execution_count": 120,
     "metadata": {},
     "output_type": "execute_result"
    }
   ],
   "source": [
    "#Review two potential variables\n",
    "data_nan.groupby(['HFUEL_label','FUELTYPE_label'])['HFUEL_label','FUELTYPE_label'].agg('count')"
   ]
  },
  {
   "cell_type": "code",
   "execution_count": 121,
   "metadata": {},
   "outputs": [
    {
     "data": {
      "text/plain": [
       "1.0     189963\n",
       "3.0       5911\n",
       "2.0       4567\n",
       "97.0       123\n",
       "Name: FUELTYPE, dtype: int64"
      ]
     },
     "execution_count": 121,
     "metadata": {},
     "output_type": "execute_result"
    }
   ],
   "source": [
    "data_nan['FUELTYPE'].value_counts()"
   ]
  },
  {
   "cell_type": "markdown",
   "metadata": {},
   "source": [
    "Appropriate to use FuelType as response variable"
   ]
  },
  {
   "cell_type": "code",
   "execution_count": 122,
   "metadata": {},
   "outputs": [
    {
     "data": {
      "text/plain": [
       "GAS                                     0.947144\n",
       "HYBRID, ELECTRIC OR ALTERNATIVE FUEL    0.029472\n",
       "DIESEL                                  0.022771\n",
       "SOME OTHER FUEL                         0.000613\n",
       "Name: FUELTYPE_label, dtype: float64"
      ]
     },
     "execution_count": 122,
     "metadata": {},
     "output_type": "execute_result"
    }
   ],
   "source": [
    "#Get counts normalized\n",
    "data_nan['FUELTYPE_label'].value_counts(normalize=True)"
   ]
  },
  {
   "cell_type": "code",
   "execution_count": 123,
   "metadata": {},
   "outputs": [
    {
     "data": {
      "text/plain": [
       "GAS                                     189963\n",
       "HYBRID, ELECTRIC OR ALTERNATIVE FUEL      5911\n",
       "DIESEL                                    4567\n",
       "SOME OTHER FUEL                            123\n",
       "Name: FUELTYPE_label, dtype: int64"
      ]
     },
     "execution_count": 123,
     "metadata": {},
     "output_type": "execute_result"
    }
   ],
   "source": [
    "#Get counts\n",
    "data_nan['FUELTYPE_label'].value_counts()"
   ]
  },
  {
   "cell_type": "markdown",
   "metadata": {},
   "source": [
    "We will drop values that are NA since we can't do prediction on them."
   ]
  },
  {
   "cell_type": "code",
   "execution_count": 124,
   "metadata": {},
   "outputs": [],
   "source": [
    "#drop NA values\n",
    "data_nan.dropna(subset=['FUELTYPE'], inplace=True)"
   ]
  },
  {
   "cell_type": "code",
   "execution_count": 125,
   "metadata": {},
   "outputs": [
    {
     "data": {
      "text/plain": [
       "array([ 1.,  2., 97.,  3.])"
      ]
     },
     "execution_count": 125,
     "metadata": {},
     "output_type": "execute_result"
    }
   ],
   "source": [
    "#check\n",
    "data_nan['FUELTYPE'].unique()"
   ]
  },
  {
   "cell_type": "code",
   "execution_count": 126,
   "metadata": {},
   "outputs": [
    {
     "data": {
      "text/plain": [
       "(200564, 54)"
      ]
     },
     "execution_count": 126,
     "metadata": {},
     "output_type": "execute_result"
    }
   ],
   "source": [
    "#Get dimension\n",
    "data_nan.shape"
   ]
  },
  {
   "cell_type": "markdown",
   "metadata": {},
   "source": [
    "Recode the other values."
   ]
  },
  {
   "cell_type": "code",
   "execution_count": 127,
   "metadata": {},
   "outputs": [],
   "source": [
    "#Recode non-EV to 0\n",
    "data_nan['fueltype_numeric'] = data_nan[\"FUELTYPE\"].astype('int').replace(dict.fromkeys([1,2,97], 1))\n",
    "data_nan['fueltype_numeric'].replace({3:0}, inplace=True)"
   ]
  },
  {
   "cell_type": "code",
   "execution_count": 128,
   "metadata": {},
   "outputs": [
    {
     "data": {
      "text/plain": [
       "1    194653\n",
       "0      5911\n",
       "Name: fueltype_numeric, dtype: int64"
      ]
     },
     "execution_count": 128,
     "metadata": {},
     "output_type": "execute_result"
    }
   ],
   "source": [
    "#Check counts\n",
    "data_nan['fueltype_numeric'].value_counts()"
   ]
  },
  {
   "cell_type": "code",
   "execution_count": 129,
   "metadata": {},
   "outputs": [],
   "source": [
    "#create a label\n",
    "data_nan[\"fueltype_numeric_label\"] = data_nan[\"fueltype_numeric\"].replace(0,\"EV\")\n",
    "data_nan[\"fueltype_numeric_label\"].replace(1,\"Non-EV\", inplace=True)"
   ]
  },
  {
   "cell_type": "code",
   "execution_count": 130,
   "metadata": {},
   "outputs": [],
   "source": [
    "#Drop redundant variables\n",
    "data_nan = data_nan.drop(columns = ['FUELTYPE_label','FUELTYPE','HFUEL','HFUEL_label'],axis=1)"
   ]
  },
  {
   "cell_type": "code",
   "execution_count": 131,
   "metadata": {},
   "outputs": [
    {
     "data": {
      "text/html": [
       "<div>\n",
       "<style scoped>\n",
       "    .dataframe tbody tr th:only-of-type {\n",
       "        vertical-align: middle;\n",
       "    }\n",
       "\n",
       "    .dataframe tbody tr th {\n",
       "        vertical-align: top;\n",
       "    }\n",
       "\n",
       "    .dataframe thead th {\n",
       "        text-align: right;\n",
       "    }\n",
       "</style>\n",
       "<table border=\"1\" class=\"dataframe\">\n",
       "  <thead>\n",
       "    <tr style=\"text-align: right;\">\n",
       "      <th></th>\n",
       "      <th>HOUSEID</th>\n",
       "      <th>PERSONID</th>\n",
       "      <th>VEHID</th>\n",
       "      <th>CAR</th>\n",
       "      <th>CARSHARE</th>\n",
       "      <th>CAR_label</th>\n",
       "      <th>DRVRCNT</th>\n",
       "      <th>EDUC</th>\n",
       "      <th>EDUC_label</th>\n",
       "      <th>GT1JBLWK</th>\n",
       "      <th>...</th>\n",
       "      <th>VEHOWNMO</th>\n",
       "      <th>WKFTPT</th>\n",
       "      <th>WKFTPT_label</th>\n",
       "      <th>WKRMHM</th>\n",
       "      <th>WKRMHM_label</th>\n",
       "      <th>WRKCOUNT</th>\n",
       "      <th>YEARMILE</th>\n",
       "      <th>YOUNGCHILD</th>\n",
       "      <th>fueltype_numeric</th>\n",
       "      <th>fueltype_numeric_label</th>\n",
       "    </tr>\n",
       "  </thead>\n",
       "  <tbody>\n",
       "    <tr>\n",
       "      <th>49977</th>\n",
       "      <td>30210010</td>\n",
       "      <td>02</td>\n",
       "      <td>03</td>\n",
       "      <td>1.0</td>\n",
       "      <td>0.0</td>\n",
       "      <td>DAILY</td>\n",
       "      <td>3.0</td>\n",
       "      <td>3.0</td>\n",
       "      <td>SOME COLLEGE OR ASSOCIATES DEGREE</td>\n",
       "      <td>2.0</td>\n",
       "      <td>...</td>\n",
       "      <td>0.0</td>\n",
       "      <td>1.0</td>\n",
       "      <td>FULL-TIME</td>\n",
       "      <td>2.0</td>\n",
       "      <td>NO</td>\n",
       "      <td>3.0</td>\n",
       "      <td>25000.0</td>\n",
       "      <td>0.0</td>\n",
       "      <td>1</td>\n",
       "      <td>Non-EV</td>\n",
       "    </tr>\n",
       "    <tr>\n",
       "      <th>152617</th>\n",
       "      <td>40136586</td>\n",
       "      <td>01</td>\n",
       "      <td>01</td>\n",
       "      <td>1.0</td>\n",
       "      <td>0.0</td>\n",
       "      <td>DAILY</td>\n",
       "      <td>1.0</td>\n",
       "      <td>3.0</td>\n",
       "      <td>SOME COLLEGE OR ASSOCIATES DEGREE</td>\n",
       "      <td>NaN</td>\n",
       "      <td>...</td>\n",
       "      <td>NaN</td>\n",
       "      <td>NaN</td>\n",
       "      <td>NaN</td>\n",
       "      <td>NaN</td>\n",
       "      <td>NaN</td>\n",
       "      <td>0.0</td>\n",
       "      <td>1000.0</td>\n",
       "      <td>0.0</td>\n",
       "      <td>1</td>\n",
       "      <td>Non-EV</td>\n",
       "    </tr>\n",
       "    <tr>\n",
       "      <th>219521</th>\n",
       "      <td>40588561</td>\n",
       "      <td>04</td>\n",
       "      <td>04</td>\n",
       "      <td>1.0</td>\n",
       "      <td>0.0</td>\n",
       "      <td>DAILY</td>\n",
       "      <td>3.0</td>\n",
       "      <td>2.0</td>\n",
       "      <td>HIGH SCHOOL GRADUATE OR GED</td>\n",
       "      <td>2.0</td>\n",
       "      <td>...</td>\n",
       "      <td>NaN</td>\n",
       "      <td>2.0</td>\n",
       "      <td>PART-TIME</td>\n",
       "      <td>2.0</td>\n",
       "      <td>NO</td>\n",
       "      <td>2.0</td>\n",
       "      <td>5000.0</td>\n",
       "      <td>0.0</td>\n",
       "      <td>1</td>\n",
       "      <td>Non-EV</td>\n",
       "    </tr>\n",
       "    <tr>\n",
       "      <th>207962</th>\n",
       "      <td>40509371</td>\n",
       "      <td>01</td>\n",
       "      <td>01</td>\n",
       "      <td>3.0</td>\n",
       "      <td>10.0</td>\n",
       "      <td>A FEW TIMES A MONTH</td>\n",
       "      <td>1.0</td>\n",
       "      <td>4.0</td>\n",
       "      <td>BACHELOR'S DEGREE</td>\n",
       "      <td>2.0</td>\n",
       "      <td>...</td>\n",
       "      <td>3.0</td>\n",
       "      <td>1.0</td>\n",
       "      <td>FULL-TIME</td>\n",
       "      <td>NaN</td>\n",
       "      <td>NaN</td>\n",
       "      <td>1.0</td>\n",
       "      <td>500.0</td>\n",
       "      <td>0.0</td>\n",
       "      <td>1</td>\n",
       "      <td>Non-EV</td>\n",
       "    </tr>\n",
       "    <tr>\n",
       "      <th>108057</th>\n",
       "      <td>30455166</td>\n",
       "      <td>01</td>\n",
       "      <td>02</td>\n",
       "      <td>1.0</td>\n",
       "      <td>0.0</td>\n",
       "      <td>DAILY</td>\n",
       "      <td>2.0</td>\n",
       "      <td>5.0</td>\n",
       "      <td>GRADUATE DEGREE OR PROFESSIONAL DEGREE</td>\n",
       "      <td>NaN</td>\n",
       "      <td>...</td>\n",
       "      <td>NaN</td>\n",
       "      <td>NaN</td>\n",
       "      <td>NaN</td>\n",
       "      <td>NaN</td>\n",
       "      <td>NaN</td>\n",
       "      <td>2.0</td>\n",
       "      <td>10000.0</td>\n",
       "      <td>0.0</td>\n",
       "      <td>1</td>\n",
       "      <td>Non-EV</td>\n",
       "    </tr>\n",
       "  </tbody>\n",
       "</table>\n",
       "<p>5 rows × 52 columns</p>\n",
       "</div>"
      ],
      "text/plain": [
       "         HOUSEID PERSONID VEHID  CAR  CARSHARE            CAR_label  DRVRCNT  \\\n",
       "49977   30210010       02    03  1.0       0.0                DAILY      3.0   \n",
       "152617  40136586       01    01  1.0       0.0                DAILY      1.0   \n",
       "219521  40588561       04    04  1.0       0.0                DAILY      3.0   \n",
       "207962  40509371       01    01  3.0      10.0  A FEW TIMES A MONTH      1.0   \n",
       "108057  30455166       01    02  1.0       0.0                DAILY      2.0   \n",
       "\n",
       "        EDUC                              EDUC_label  GT1JBLWK  ... VEHOWNMO  \\\n",
       "49977    3.0       SOME COLLEGE OR ASSOCIATES DEGREE       2.0  ...      0.0   \n",
       "152617   3.0       SOME COLLEGE OR ASSOCIATES DEGREE       NaN  ...      NaN   \n",
       "219521   2.0             HIGH SCHOOL GRADUATE OR GED       2.0  ...      NaN   \n",
       "207962   4.0                       BACHELOR'S DEGREE       2.0  ...      3.0   \n",
       "108057   5.0  GRADUATE DEGREE OR PROFESSIONAL DEGREE       NaN  ...      NaN   \n",
       "\n",
       "       WKFTPT WKFTPT_label  WKRMHM WKRMHM_label  WRKCOUNT YEARMILE  \\\n",
       "49977     1.0    FULL-TIME     2.0           NO       3.0  25000.0   \n",
       "152617    NaN          NaN     NaN          NaN       0.0   1000.0   \n",
       "219521    2.0    PART-TIME     2.0           NO       2.0   5000.0   \n",
       "207962    1.0    FULL-TIME     NaN          NaN       1.0    500.0   \n",
       "108057    NaN          NaN     NaN          NaN       2.0  10000.0   \n",
       "\n",
       "        YOUNGCHILD fueltype_numeric  fueltype_numeric_label  \n",
       "49977          0.0                1                  Non-EV  \n",
       "152617         0.0                1                  Non-EV  \n",
       "219521         0.0                1                  Non-EV  \n",
       "207962         0.0                1                  Non-EV  \n",
       "108057         0.0                1                  Non-EV  \n",
       "\n",
       "[5 rows x 52 columns]"
      ]
     },
     "execution_count": 131,
     "metadata": {},
     "output_type": "execute_result"
    }
   ],
   "source": [
    "#Review first few rows\n",
    "data_nan.head()"
   ]
  },
  {
   "cell_type": "code",
   "execution_count": 132,
   "metadata": {},
   "outputs": [
    {
     "name": "stdout",
     "output_type": "stream",
     "text": [
      "<class 'pandas.core.frame.DataFrame'>\n",
      "Int64Index: 200564 entries, 49977 to 38915\n",
      "Data columns (total 52 columns):\n",
      " #   Column                  Non-Null Count   Dtype  \n",
      "---  ------                  --------------   -----  \n",
      " 0   HOUSEID                 200564 non-null  object \n",
      " 1   PERSONID                200564 non-null  object \n",
      " 2   VEHID                   200564 non-null  object \n",
      " 3   CAR                     198663 non-null  float64\n",
      " 4   CARSHARE                200271 non-null  float64\n",
      " 5   CAR_label               198663 non-null  object \n",
      " 6   DRVRCNT                 200564 non-null  float64\n",
      " 7   EDUC                    200424 non-null  float64\n",
      " 8   EDUC_label              200424 non-null  object \n",
      " 9   GT1JBLWK                114467 non-null  float64\n",
      " 10  GT1JBLWK_label          114467 non-null  object \n",
      " 11  HBHUR                   200392 non-null  object \n",
      " 12  HBHUR_label             200392 non-null  object \n",
      " 13  HBPPOPDN                200392 non-null  float64\n",
      " 14  HBPPOPDN_label          200392 non-null  object \n",
      " 15  HBRESDN                 200392 non-null  float64\n",
      " 16  HBRESDN_label           200392 non-null  object \n",
      " 17  HHFAMINC                194349 non-null  float64\n",
      " 18  HHFAMINC_label          194349 non-null  object \n",
      " 19  HHSIZE                  200564 non-null  float64\n",
      " 20  HHSTATE                 200564 non-null  object \n",
      " 21  HHSTATE_label           200564 non-null  object \n",
      " 22  HHVEHCNT                200564 non-null  float64\n",
      " 23  HOMEOWN                 200522 non-null  float64\n",
      " 24  HOMEOWN_label           200522 non-null  object \n",
      " 25  OCCAT                   114419 non-null  float64\n",
      " 26  OCCAT_label             114419 non-null  object \n",
      " 27  PLACE                   196881 non-null  float64\n",
      " 28  PLACE_label             196881 non-null  object \n",
      " 29  PRICE                   199877 non-null  float64\n",
      " 30  PRICE_label             199877 non-null  object \n",
      " 31  R_AGE                   200269 non-null  float64\n",
      " 32  R_HISP                  200281 non-null  float64\n",
      " 33  R_HISP_label            200281 non-null  object \n",
      " 34  R_RACE                  199564 non-null  float64\n",
      " 35  R_RACE_label            200564 non-null  object \n",
      " 36  R_SEX                   200442 non-null  float64\n",
      " 37  R_SEX_label             200442 non-null  object \n",
      " 38  TIMETOWK                98932 non-null   float64\n",
      " 39  VEHAGE                  199483 non-null  float64\n",
      " 40  VEHOWNED                200405 non-null  float64\n",
      " 41  VEHOWNED_label          200405 non-null  object \n",
      " 42  VEHOWNMO                30822 non-null   float64\n",
      " 43  WKFTPT                  114404 non-null  float64\n",
      " 44  WKFTPT_label            114404 non-null  object \n",
      " 45  WKRMHM                  99042 non-null   float64\n",
      " 46  WKRMHM_label            99042 non-null   object \n",
      " 47  WRKCOUNT                200564 non-null  float64\n",
      " 48  YEARMILE                147843 non-null  float64\n",
      " 49  YOUNGCHILD              200564 non-null  float64\n",
      " 50  fueltype_numeric        200564 non-null  int64  \n",
      " 51  fueltype_numeric_label  200564 non-null  object \n",
      "dtypes: float64(27), int64(1), object(24)\n",
      "memory usage: 81.1+ MB\n"
     ]
    }
   ],
   "source": [
    "#Get info\n",
    "#Get dimension\n",
    "data_nan.info()"
   ]
  },
  {
   "cell_type": "code",
   "execution_count": 133,
   "metadata": {},
   "outputs": [
    {
     "data": {
      "text/plain": [
       "(200564, 52)"
      ]
     },
     "execution_count": 133,
     "metadata": {},
     "output_type": "execute_result"
    }
   ],
   "source": [
    "#Get dimension\n",
    "data_nan.shape"
   ]
  },
  {
   "cell_type": "markdown",
   "metadata": {},
   "source": [
    "## Recode"
   ]
  },
  {
   "cell_type": "code",
   "execution_count": 134,
   "metadata": {},
   "outputs": [
    {
     "data": {
      "text/plain": [
       "1.0    169410\n",
       "2.0     25898\n",
       "3.0      2485\n",
       "5.0       591\n",
       "4.0       279\n",
       "Name: CAR, dtype: int64"
      ]
     },
     "execution_count": 134,
     "metadata": {},
     "output_type": "execute_result"
    }
   ],
   "source": [
    "#CAR\n",
    "data_nan['CAR'].value_counts()"
   ]
  },
  {
   "cell_type": "code",
   "execution_count": 135,
   "metadata": {},
   "outputs": [],
   "source": [
    "data_nan['CAR'] = data_nan['CAR'].map({1:5,2:4,3:3,4:2,5:1})"
   ]
  },
  {
   "cell_type": "code",
   "execution_count": 136,
   "metadata": {},
   "outputs": [
    {
     "data": {
      "text/plain": [
       "5.0    169410\n",
       "4.0     25898\n",
       "3.0      2485\n",
       "1.0       591\n",
       "2.0       279\n",
       "Name: CAR, dtype: int64"
      ]
     },
     "execution_count": 136,
     "metadata": {},
     "output_type": "execute_result"
    }
   ],
   "source": [
    "#CAR\n",
    "data_nan['CAR'].value_counts()"
   ]
  },
  {
   "cell_type": "code",
   "execution_count": 137,
   "metadata": {},
   "outputs": [
    {
     "data": {
      "text/plain": [
       "DAILY                  169410\n",
       "A FEW TIMES A WEEK      25898\n",
       "A FEW TIMES A MONTH      2485\n",
       "NEVER                     591\n",
       "A FEW TIMES A YEAR        279\n",
       "Name: CAR_label, dtype: int64"
      ]
     },
     "execution_count": 137,
     "metadata": {},
     "output_type": "execute_result"
    }
   ],
   "source": [
    "#CAR_label\n",
    "data_nan['CAR_label'].value_counts()"
   ]
  },
  {
   "cell_type": "code",
   "execution_count": 138,
   "metadata": {},
   "outputs": [],
   "source": [
    "#CAR_label\n",
    "data_nan['CAR_label'] = data_nan['CAR'].replace({1:\"Never\",2:\"A FEW TIMES A YEAR\",3:\"A FEW TIMES A MONTH\",4:\"A FEW TIMES A WEEK\",5:\"DAILY\"})"
   ]
  },
  {
   "cell_type": "code",
   "execution_count": 139,
   "metadata": {},
   "outputs": [
    {
     "data": {
      "text/plain": [
       "DAILY                  169410\n",
       "A FEW TIMES A WEEK      25898\n",
       "A FEW TIMES A MONTH      2485\n",
       "Never                     591\n",
       "A FEW TIMES A YEAR        279\n",
       "Name: CAR_label, dtype: int64"
      ]
     },
     "execution_count": 139,
     "metadata": {},
     "output_type": "execute_result"
    }
   ],
   "source": [
    "#CAR_label\n",
    "data_nan['CAR_label'].value_counts()"
   ]
  },
  {
   "cell_type": "code",
   "execution_count": 140,
   "metadata": {},
   "outputs": [
    {
     "data": {
      "text/plain": [
       "3.0    69528\n",
       "2.0    54447\n",
       "4.0    42379\n",
       "1.0    17146\n",
       "5.0    13381\n",
       "Name: PLACE, dtype: int64"
      ]
     },
     "execution_count": 140,
     "metadata": {},
     "output_type": "execute_result"
    }
   ],
   "source": [
    "data_nan['PLACE'].value_counts()"
   ]
  },
  {
   "cell_type": "code",
   "execution_count": 141,
   "metadata": {},
   "outputs": [
    {
     "data": {
      "text/plain": [
       "2.0    58621\n",
       "4.0    44705\n",
       "3.0    39880\n",
       "1.0    33694\n",
       "5.0    22977\n",
       "Name: PRICE, dtype: int64"
      ]
     },
     "execution_count": 141,
     "metadata": {},
     "output_type": "execute_result"
    }
   ],
   "source": [
    "data_nan['PRICE'].value_counts()"
   ]
  },
  {
   "cell_type": "code",
   "execution_count": 142,
   "metadata": {},
   "outputs": [
    {
     "data": {
      "text/plain": [
       "NEITHER AGREE OR DISAGREE    69528\n",
       "AGREE                        54447\n",
       "DISAGREE                     42379\n",
       "STRONGLY AGREE               17146\n",
       "STRONGLY DISAGREE            13381\n",
       "Name: PLACE_label, dtype: int64"
      ]
     },
     "execution_count": 142,
     "metadata": {},
     "output_type": "execute_result"
    }
   ],
   "source": [
    "data_nan['PLACE_label'].value_counts()"
   ]
  },
  {
   "cell_type": "code",
   "execution_count": 143,
   "metadata": {},
   "outputs": [
    {
     "data": {
      "text/plain": [
       "AGREE                        58621\n",
       "DISAGREE                     44705\n",
       "NEITHER AGREE OR DISAGREE    39880\n",
       "STRONGLY AGREE               33694\n",
       "STRONGLY DISAGREE            22977\n",
       "Name: PRICE_label, dtype: int64"
      ]
     },
     "execution_count": 143,
     "metadata": {},
     "output_type": "execute_result"
    }
   ],
   "source": [
    "data_nan['PRICE_label'].value_counts()"
   ]
  },
  {
   "cell_type": "code",
   "execution_count": 144,
   "metadata": {},
   "outputs": [],
   "source": [
    "likert = ['PLACE','PRICE']\n",
    "for var in likert:\n",
    "    data_nan[var] = data_nan[var].map({1:5,2:4,3:3,4:2,5:1})"
   ]
  },
  {
   "cell_type": "code",
   "execution_count": 145,
   "metadata": {},
   "outputs": [],
   "source": [
    "likert_label = ['PLACE_label','PRICE_label']\n",
    "for var in likert_label:\n",
    "    data_nan[var].replace({\"STRONGLY AGREE\":\"STRONGLY DISAGREE\",\"AGREE\":\"DISAGREE\",\"NEITHER AGREE OR DISAGREE\":\"NEITHER AGREE OR DISAGREE\",\"DISAGREE\":\"AGREE\",\"STRONGLY DISAGREE\":\"STRONGLY AGREE\"}, inplace=True)"
   ]
  },
  {
   "cell_type": "code",
   "execution_count": 146,
   "metadata": {},
   "outputs": [
    {
     "data": {
      "text/plain": [
       "3.0    69528\n",
       "4.0    54447\n",
       "2.0    42379\n",
       "5.0    17146\n",
       "1.0    13381\n",
       "Name: PLACE, dtype: int64"
      ]
     },
     "execution_count": 146,
     "metadata": {},
     "output_type": "execute_result"
    }
   ],
   "source": [
    "data_nan['PLACE'].value_counts()"
   ]
  },
  {
   "cell_type": "code",
   "execution_count": 147,
   "metadata": {},
   "outputs": [
    {
     "data": {
      "text/plain": [
       "4.0    58621\n",
       "2.0    44705\n",
       "3.0    39880\n",
       "5.0    33694\n",
       "1.0    22977\n",
       "Name: PRICE, dtype: int64"
      ]
     },
     "execution_count": 147,
     "metadata": {},
     "output_type": "execute_result"
    }
   ],
   "source": [
    "data_nan['PRICE'].value_counts()"
   ]
  },
  {
   "cell_type": "code",
   "execution_count": 148,
   "metadata": {},
   "outputs": [
    {
     "data": {
      "text/plain": [
       "NEITHER AGREE OR DISAGREE    69528\n",
       "DISAGREE                     54447\n",
       "AGREE                        42379\n",
       "STRONGLY DISAGREE            17146\n",
       "STRONGLY AGREE               13381\n",
       "Name: PLACE_label, dtype: int64"
      ]
     },
     "execution_count": 148,
     "metadata": {},
     "output_type": "execute_result"
    }
   ],
   "source": [
    "data_nan['PLACE_label'].value_counts()"
   ]
  },
  {
   "cell_type": "code",
   "execution_count": 149,
   "metadata": {},
   "outputs": [
    {
     "data": {
      "text/plain": [
       "DISAGREE                     58621\n",
       "AGREE                        44705\n",
       "NEITHER AGREE OR DISAGREE    39880\n",
       "STRONGLY DISAGREE            33694\n",
       "STRONGLY AGREE               22977\n",
       "Name: PRICE_label, dtype: int64"
      ]
     },
     "execution_count": 149,
     "metadata": {},
     "output_type": "execute_result"
    }
   ],
   "source": [
    "data_nan['PRICE_label'].value_counts()"
   ]
  },
  {
   "cell_type": "code",
   "execution_count": 150,
   "metadata": {},
   "outputs": [
    {
     "data": {
      "text/plain": [
       "R    48635\n",
       "T    47063\n",
       "S    46503\n",
       "C    37573\n",
       "U    20618\n",
       "Name: HBHUR, dtype: int64"
      ]
     },
     "execution_count": 150,
     "metadata": {},
     "output_type": "execute_result"
    }
   ],
   "source": [
    "data_nan['HBHUR'].value_counts()"
   ]
  },
  {
   "cell_type": "code",
   "execution_count": 151,
   "metadata": {},
   "outputs": [],
   "source": [
    "#HBHUR\n",
    "data_nan['HBHUR'] = data_nan['HBHUR'].replace({'R':'R'}).replace(dict.fromkeys(['C','S','T','U'],'NR'))"
   ]
  },
  {
   "cell_type": "code",
   "execution_count": 152,
   "metadata": {},
   "outputs": [
    {
     "data": {
      "text/plain": [
       "NR    151757\n",
       "R      48635\n",
       "Name: HBHUR, dtype: int64"
      ]
     },
     "execution_count": 152,
     "metadata": {},
     "output_type": "execute_result"
    }
   ],
   "source": [
    "data_nan['HBHUR'].value_counts()"
   ]
  },
  {
   "cell_type": "code",
   "execution_count": 153,
   "metadata": {},
   "outputs": [
    {
     "data": {
      "text/plain": [
       "RURAL          48635\n",
       "SMALL TOWN     47063\n",
       "SUBURBAN       46503\n",
       "SECOND CITY    37573\n",
       "URBAN          20618\n",
       "Name: HBHUR_label, dtype: int64"
      ]
     },
     "execution_count": 153,
     "metadata": {},
     "output_type": "execute_result"
    }
   ],
   "source": [
    "data_nan['HBHUR_label'].value_counts()"
   ]
  },
  {
   "cell_type": "code",
   "execution_count": 154,
   "metadata": {},
   "outputs": [],
   "source": [
    "data_nan['HBHUR_label'] = data_nan['HBHUR_label'].replace({'RURAL':'RURAL'}).replace(dict.fromkeys(['SECOND CITY','SUBURBAN','SMALL TOWN','URBAN'],'NOT RURAL'))"
   ]
  },
  {
   "cell_type": "code",
   "execution_count": 155,
   "metadata": {},
   "outputs": [
    {
     "data": {
      "text/plain": [
       "NOT RURAL    151757\n",
       "RURAL         48635\n",
       "Name: HBHUR_label, dtype: int64"
      ]
     },
     "execution_count": 155,
     "metadata": {},
     "output_type": "execute_result"
    }
   ],
   "source": [
    "data_nan['HBHUR_label'].value_counts()"
   ]
  },
  {
   "cell_type": "code",
   "execution_count": 156,
   "metadata": {},
   "outputs": [
    {
     "data": {
      "text/plain": [
       "7000.0     44683\n",
       "3000.0     37879\n",
       "300.0      33255\n",
       "50.0       27685\n",
       "1500.0     26301\n",
       "750.0      18771\n",
       "17000.0     9786\n",
       "30000.0     2032\n",
       "Name: HBPPOPDN, dtype: int64"
      ]
     },
     "execution_count": 156,
     "metadata": {},
     "output_type": "execute_result"
    }
   ],
   "source": [
    "#HBPPOPDN\n",
    "data_nan['HBPPOPDN'].value_counts()"
   ]
  },
  {
   "cell_type": "code",
   "execution_count": 157,
   "metadata": {},
   "outputs": [
    {
     "data": {
      "text/plain": [
       "50.0       44169\n",
       "300.0      41323\n",
       "1500.0     40045\n",
       "3000.0     32241\n",
       "750.0      29142\n",
       "7000.0     10480\n",
       "17000.0     2413\n",
       "30000.0      579\n",
       "Name: HBRESDN, dtype: int64"
      ]
     },
     "execution_count": 157,
     "metadata": {},
     "output_type": "execute_result"
    }
   ],
   "source": [
    "#HBPPOPDN\n",
    "data_nan['HBRESDN'].value_counts()"
   ]
  },
  {
   "cell_type": "code",
   "execution_count": 158,
   "metadata": {},
   "outputs": [],
   "source": [
    "pop = ['HBPPOPDN','HBRESDN']\n",
    "for var in pop:\n",
    "    data_nan[var].replace({50:1,300:2,750:3,1500:4,3000:5,7000:6,17000:7,30000:8}, inplace=True)"
   ]
  },
  {
   "cell_type": "code",
   "execution_count": 159,
   "metadata": {},
   "outputs": [
    {
     "data": {
      "text/plain": [
       "6.0    44683\n",
       "5.0    37879\n",
       "2.0    33255\n",
       "1.0    27685\n",
       "4.0    26301\n",
       "3.0    18771\n",
       "7.0     9786\n",
       "8.0     2032\n",
       "Name: HBPPOPDN, dtype: int64"
      ]
     },
     "execution_count": 159,
     "metadata": {},
     "output_type": "execute_result"
    }
   ],
   "source": [
    "#HBPPOPDN\n",
    "data_nan['HBPPOPDN'].value_counts()"
   ]
  },
  {
   "cell_type": "code",
   "execution_count": 160,
   "metadata": {},
   "outputs": [
    {
     "data": {
      "text/plain": [
       "1.0    44169\n",
       "2.0    41323\n",
       "4.0    40045\n",
       "5.0    32241\n",
       "3.0    29142\n",
       "6.0    10480\n",
       "7.0     2413\n",
       "8.0      579\n",
       "Name: HBRESDN, dtype: int64"
      ]
     },
     "execution_count": 160,
     "metadata": {},
     "output_type": "execute_result"
    }
   ],
   "source": [
    "#HBPPOPDN\n",
    "data_nan['HBRESDN'].value_counts()"
   ]
  },
  {
   "cell_type": "code",
   "execution_count": 161,
   "metadata": {},
   "outputs": [],
   "source": [
    "d1 = dict.fromkeys(['WA','OR','CA','AK','HI'],'P')\n",
    "d2 =dict.fromkeys(['NV','ID','MT','WY','UT','CO','AZ','NM'],'M')\n",
    "d3 = dict.fromkeys(['ND','SD','MN','NE','IA','KS','MO'],'WNC')\n",
    "d4 = dict.fromkeys(['WI','MI','IL','IN','OH'],'ENC')\n",
    "d5 = dict.fromkeys(['NY','PA','NJ'], 'MA')\n",
    "d6 = dict.fromkeys(['VT','NH','ME','MA','CT','RI'],'NE')\n",
    "d7 = dict.fromkeys(['TX','OK','AR','LA'], 'WSC')\n",
    "d8 = dict.fromkeys(['KY','TN','MS','AL'], 'ESC')\n",
    "d9 = dict.fromkeys(['WV','MD','DE','DC','VA','NC','SC','GA','FL'],'SA')"
   ]
  },
  {
   "cell_type": "code",
   "execution_count": 162,
   "metadata": {},
   "outputs": [],
   "source": [
    "dict_m = {**d1, **d2, **d3, **d4, **d5, **d6, **d7, **d8, **d9}"
   ]
  },
  {
   "cell_type": "code",
   "execution_count": 163,
   "metadata": {},
   "outputs": [],
   "source": [
    "data_nan['HHSTATE'].replace(dict_m, inplace=True)"
   ]
  },
  {
   "cell_type": "code",
   "execution_count": 164,
   "metadata": {},
   "outputs": [
    {
     "data": {
      "text/plain": [
       "SA     44157\n",
       "P      42820\n",
       "WSC    41607\n",
       "MA     27599\n",
       "ENC    23486\n",
       "WNC     7964\n",
       "M       7935\n",
       "NE      2995\n",
       "ESC     2001\n",
       "Name: HHSTATE, dtype: int64"
      ]
     },
     "execution_count": 164,
     "metadata": {},
     "output_type": "execute_result"
    }
   ],
   "source": [
    "data_nan['HHSTATE'].value_counts()"
   ]
  },
  {
   "cell_type": "code",
   "execution_count": 165,
   "metadata": {},
   "outputs": [],
   "source": [
    "data_nan['HHSTATE_label'] = data_nan['HHSTATE'].replace({'SA':'SOUTH ATLANTIC','P':'PACIFIC','WSC':'WEST SOUTH CENTRAL', 'MA':'MIDDLE ATLANTIC','ENC':'EAST NORTH CENTRAL','WNC':'WEST NORTH CENTRALIN','M':'MOUNTAIN','NE':'NEW ENGLAND','ESC':'EAST SOUTH CENTRAL'})"
   ]
  },
  {
   "cell_type": "markdown",
   "metadata": {},
   "source": [
    "## Missing Data\n"
   ]
  },
  {
   "cell_type": "code",
   "execution_count": 166,
   "metadata": {},
   "outputs": [
    {
     "name": "stdout",
     "output_type": "stream",
     "text": [
      "<class 'pandas.core.frame.DataFrame'>\n",
      "Int64Index: 200564 entries, 49977 to 38915\n",
      "Data columns (total 52 columns):\n",
      " #   Column                  Non-Null Count   Dtype  \n",
      "---  ------                  --------------   -----  \n",
      " 0   HOUSEID                 200564 non-null  object \n",
      " 1   PERSONID                200564 non-null  object \n",
      " 2   VEHID                   200564 non-null  object \n",
      " 3   CAR                     198663 non-null  float64\n",
      " 4   CARSHARE                200271 non-null  float64\n",
      " 5   CAR_label               198663 non-null  object \n",
      " 6   DRVRCNT                 200564 non-null  float64\n",
      " 7   EDUC                    200424 non-null  float64\n",
      " 8   EDUC_label              200424 non-null  object \n",
      " 9   GT1JBLWK                114467 non-null  float64\n",
      " 10  GT1JBLWK_label          114467 non-null  object \n",
      " 11  HBHUR                   200392 non-null  object \n",
      " 12  HBHUR_label             200392 non-null  object \n",
      " 13  HBPPOPDN                200392 non-null  float64\n",
      " 14  HBPPOPDN_label          200392 non-null  object \n",
      " 15  HBRESDN                 200392 non-null  float64\n",
      " 16  HBRESDN_label           200392 non-null  object \n",
      " 17  HHFAMINC                194349 non-null  float64\n",
      " 18  HHFAMINC_label          194349 non-null  object \n",
      " 19  HHSIZE                  200564 non-null  float64\n",
      " 20  HHSTATE                 200564 non-null  object \n",
      " 21  HHSTATE_label           200564 non-null  object \n",
      " 22  HHVEHCNT                200564 non-null  float64\n",
      " 23  HOMEOWN                 200522 non-null  float64\n",
      " 24  HOMEOWN_label           200522 non-null  object \n",
      " 25  OCCAT                   114419 non-null  float64\n",
      " 26  OCCAT_label             114419 non-null  object \n",
      " 27  PLACE                   196881 non-null  float64\n",
      " 28  PLACE_label             196881 non-null  object \n",
      " 29  PRICE                   199877 non-null  float64\n",
      " 30  PRICE_label             199877 non-null  object \n",
      " 31  R_AGE                   200269 non-null  float64\n",
      " 32  R_HISP                  200281 non-null  float64\n",
      " 33  R_HISP_label            200281 non-null  object \n",
      " 34  R_RACE                  199564 non-null  float64\n",
      " 35  R_RACE_label            200564 non-null  object \n",
      " 36  R_SEX                   200442 non-null  float64\n",
      " 37  R_SEX_label             200442 non-null  object \n",
      " 38  TIMETOWK                98932 non-null   float64\n",
      " 39  VEHAGE                  199483 non-null  float64\n",
      " 40  VEHOWNED                200405 non-null  float64\n",
      " 41  VEHOWNED_label          200405 non-null  object \n",
      " 42  VEHOWNMO                30822 non-null   float64\n",
      " 43  WKFTPT                  114404 non-null  float64\n",
      " 44  WKFTPT_label            114404 non-null  object \n",
      " 45  WKRMHM                  99042 non-null   float64\n",
      " 46  WKRMHM_label            99042 non-null   object \n",
      " 47  WRKCOUNT                200564 non-null  float64\n",
      " 48  YEARMILE                147843 non-null  float64\n",
      " 49  YOUNGCHILD              200564 non-null  float64\n",
      " 50  fueltype_numeric        200564 non-null  int64  \n",
      " 51  fueltype_numeric_label  200564 non-null  object \n",
      "dtypes: float64(27), int64(1), object(24)\n",
      "memory usage: 81.1+ MB\n"
     ]
    }
   ],
   "source": [
    "#Review variables\n",
    "data_nan.info()"
   ]
  },
  {
   "cell_type": "markdown",
   "metadata": {},
   "source": [
    "Get percentage missing for these variables. Ensure the weights are not missing."
   ]
  },
  {
   "cell_type": "code",
   "execution_count": 167,
   "metadata": {},
   "outputs": [],
   "source": [
    "#Get percentage and create a table\n",
    "percent_missing = data_nan.isnull().sum() * 100 / len(data_nan)\n",
    "missing_value_df = pd.DataFrame({'column_name': data_nan.columns,'percent_missing': percent_missing})\n",
    "missing_value_df.sort_values('percent_missing',ascending=False,inplace=True)"
   ]
  },
  {
   "cell_type": "markdown",
   "metadata": {},
   "source": [
    "**What threshold should we test to drop variables? I am deleting those that are completely missing"
   ]
  },
  {
   "cell_type": "code",
   "execution_count": 168,
   "metadata": {},
   "outputs": [
    {
     "data": {
      "text/html": [
       "<div>\n",
       "<style scoped>\n",
       "    .dataframe tbody tr th:only-of-type {\n",
       "        vertical-align: middle;\n",
       "    }\n",
       "\n",
       "    .dataframe tbody tr th {\n",
       "        vertical-align: top;\n",
       "    }\n",
       "\n",
       "    .dataframe thead th {\n",
       "        text-align: right;\n",
       "    }\n",
       "</style>\n",
       "<table border=\"1\" class=\"dataframe\">\n",
       "  <thead>\n",
       "    <tr style=\"text-align: right;\">\n",
       "      <th></th>\n",
       "      <th>column_name</th>\n",
       "      <th>percent_missing</th>\n",
       "    </tr>\n",
       "  </thead>\n",
       "  <tbody>\n",
       "  </tbody>\n",
       "</table>\n",
       "</div>"
      ],
      "text/plain": [
       "Empty DataFrame\n",
       "Columns: [column_name, percent_missing]\n",
       "Index: []"
      ]
     },
     "execution_count": 168,
     "metadata": {},
     "output_type": "execute_result"
    }
   ],
   "source": [
    "#Get variables where all values are missing\n",
    "missing_value_df_all = missing_value_df[missing_value_df['percent_missing']==100]\n",
    "missing_value_df_all\n",
    "#none"
   ]
  },
  {
   "cell_type": "code",
   "execution_count": 169,
   "metadata": {},
   "outputs": [
    {
     "data": {
      "text/plain": [
       "array(['Non-EV', 'EV'], dtype=object)"
      ]
     },
     "execution_count": 169,
     "metadata": {},
     "output_type": "execute_result"
    }
   ],
   "source": [
    "data_nan['fueltype_numeric_label'].unique()"
   ]
  },
  {
   "cell_type": "markdown",
   "metadata": {},
   "source": [
    "## Export Data"
   ]
  },
  {
   "cell_type": "code",
   "execution_count": 170,
   "metadata": {},
   "outputs": [],
   "source": [
    "#export data\n",
    "data_nan.to_csv(os.path.expanduser(os.path.join(BASE_DIR, \"Opposite/Data/data.csv\")))                                      "
   ]
  },
  {
   "cell_type": "code",
   "execution_count": null,
   "metadata": {},
   "outputs": [],
   "source": []
  }
 ],
 "metadata": {
  "kernelspec": {
   "display_name": "Python 3",
   "language": "python",
   "name": "python3"
  },
  "language_info": {
   "codemirror_mode": {
    "name": "ipython",
    "version": 3
   },
   "file_extension": ".py",
   "mimetype": "text/x-python",
   "name": "python",
   "nbconvert_exporter": "python",
   "pygments_lexer": "ipython3",
   "version": "3.7.6"
  }
 },
 "nbformat": 4,
 "nbformat_minor": 4
}
