{
 "cells": [
  {
   "cell_type": "code",
   "execution_count": 1,
   "metadata": {},
   "outputs": [],
   "source": [
    "#import packages\n",
    "import numpy as np\n",
    "import pandas as pd\n",
    "import os\n",
    "\n",
    "import seaborn as sns\n",
    "import matplotlib.pyplot as plt\n",
    "from sklearn import impute\n",
    "\n",
    "from sklearn.model_selection import train_test_split\n",
    "from sklearn.preprocessing import MinMaxScaler"
   ]
  },
  {
   "cell_type": "code",
   "execution_count": 2,
   "metadata": {},
   "outputs": [],
   "source": [
    "BASE_DIR = \"/Users/Avinash/Documents/Kanchanah/Springboard/Data_Science_Track/Capstone_Two_Other_Material/\"\n",
    "\n",
    "data = \"Opposite/Data/data.csv\""
   ]
  },
  {
   "cell_type": "markdown",
   "metadata": {},
   "source": [
    "## Import Dataset"
   ]
  },
  {
   "cell_type": "code",
   "execution_count": 3,
   "metadata": {},
   "outputs": [],
   "source": [
    "#import dataset\n",
    "data = pd.read_csv(os.path.expanduser(os.path.join(BASE_DIR, data)),index_col=0)"
   ]
  },
  {
   "cell_type": "code",
   "execution_count": 4,
   "metadata": {},
   "outputs": [
    {
     "data": {
      "text/plain": [
       "(200564, 52)"
      ]
     },
     "execution_count": 4,
     "metadata": {},
     "output_type": "execute_result"
    }
   ],
   "source": [
    "#Dimension and first few few columns of X_train\n",
    "data.shape"
   ]
  },
  {
   "cell_type": "code",
   "execution_count": 5,
   "metadata": {},
   "outputs": [
    {
     "data": {
      "text/html": [
       "<div>\n",
       "<style scoped>\n",
       "    .dataframe tbody tr th:only-of-type {\n",
       "        vertical-align: middle;\n",
       "    }\n",
       "\n",
       "    .dataframe tbody tr th {\n",
       "        vertical-align: top;\n",
       "    }\n",
       "\n",
       "    .dataframe thead th {\n",
       "        text-align: right;\n",
       "    }\n",
       "</style>\n",
       "<table border=\"1\" class=\"dataframe\">\n",
       "  <thead>\n",
       "    <tr style=\"text-align: right;\">\n",
       "      <th></th>\n",
       "      <th>HOUSEID</th>\n",
       "      <th>PERSONID</th>\n",
       "      <th>VEHID</th>\n",
       "      <th>CAR</th>\n",
       "      <th>CARSHARE</th>\n",
       "      <th>CAR_label</th>\n",
       "      <th>DRVRCNT</th>\n",
       "      <th>EDUC</th>\n",
       "      <th>EDUC_label</th>\n",
       "      <th>GT1JBLWK</th>\n",
       "      <th>...</th>\n",
       "      <th>VEHOWNMO</th>\n",
       "      <th>WKFTPT</th>\n",
       "      <th>WKFTPT_label</th>\n",
       "      <th>WKRMHM</th>\n",
       "      <th>WKRMHM_label</th>\n",
       "      <th>WRKCOUNT</th>\n",
       "      <th>YEARMILE</th>\n",
       "      <th>YOUNGCHILD</th>\n",
       "      <th>fueltype_numeric</th>\n",
       "      <th>fueltype_numeric_label</th>\n",
       "    </tr>\n",
       "  </thead>\n",
       "  <tbody>\n",
       "    <tr>\n",
       "      <th>49977</th>\n",
       "      <td>30210010</td>\n",
       "      <td>2</td>\n",
       "      <td>3</td>\n",
       "      <td>5.0</td>\n",
       "      <td>0.0</td>\n",
       "      <td>DAILY</td>\n",
       "      <td>3.0</td>\n",
       "      <td>3.0</td>\n",
       "      <td>SOME COLLEGE OR ASSOCIATES DEGREE</td>\n",
       "      <td>2.0</td>\n",
       "      <td>...</td>\n",
       "      <td>0.0</td>\n",
       "      <td>1.0</td>\n",
       "      <td>FULL-TIME</td>\n",
       "      <td>2.0</td>\n",
       "      <td>NO</td>\n",
       "      <td>3.0</td>\n",
       "      <td>25000.0</td>\n",
       "      <td>0.0</td>\n",
       "      <td>1</td>\n",
       "      <td>1</td>\n",
       "    </tr>\n",
       "    <tr>\n",
       "      <th>152617</th>\n",
       "      <td>40136586</td>\n",
       "      <td>1</td>\n",
       "      <td>1</td>\n",
       "      <td>5.0</td>\n",
       "      <td>0.0</td>\n",
       "      <td>DAILY</td>\n",
       "      <td>1.0</td>\n",
       "      <td>3.0</td>\n",
       "      <td>SOME COLLEGE OR ASSOCIATES DEGREE</td>\n",
       "      <td>NaN</td>\n",
       "      <td>...</td>\n",
       "      <td>NaN</td>\n",
       "      <td>NaN</td>\n",
       "      <td>NaN</td>\n",
       "      <td>NaN</td>\n",
       "      <td>NaN</td>\n",
       "      <td>0.0</td>\n",
       "      <td>1000.0</td>\n",
       "      <td>0.0</td>\n",
       "      <td>1</td>\n",
       "      <td>1</td>\n",
       "    </tr>\n",
       "    <tr>\n",
       "      <th>219521</th>\n",
       "      <td>40588561</td>\n",
       "      <td>4</td>\n",
       "      <td>4</td>\n",
       "      <td>5.0</td>\n",
       "      <td>0.0</td>\n",
       "      <td>DAILY</td>\n",
       "      <td>3.0</td>\n",
       "      <td>2.0</td>\n",
       "      <td>HIGH SCHOOL GRADUATE OR GED</td>\n",
       "      <td>2.0</td>\n",
       "      <td>...</td>\n",
       "      <td>NaN</td>\n",
       "      <td>2.0</td>\n",
       "      <td>PART-TIME</td>\n",
       "      <td>2.0</td>\n",
       "      <td>NO</td>\n",
       "      <td>2.0</td>\n",
       "      <td>5000.0</td>\n",
       "      <td>0.0</td>\n",
       "      <td>1</td>\n",
       "      <td>1</td>\n",
       "    </tr>\n",
       "    <tr>\n",
       "      <th>207962</th>\n",
       "      <td>40509371</td>\n",
       "      <td>1</td>\n",
       "      <td>1</td>\n",
       "      <td>3.0</td>\n",
       "      <td>10.0</td>\n",
       "      <td>A FEW TIMES A MONTH</td>\n",
       "      <td>1.0</td>\n",
       "      <td>4.0</td>\n",
       "      <td>BACHELOR'S DEGREE</td>\n",
       "      <td>2.0</td>\n",
       "      <td>...</td>\n",
       "      <td>3.0</td>\n",
       "      <td>1.0</td>\n",
       "      <td>FULL-TIME</td>\n",
       "      <td>NaN</td>\n",
       "      <td>NaN</td>\n",
       "      <td>1.0</td>\n",
       "      <td>500.0</td>\n",
       "      <td>0.0</td>\n",
       "      <td>1</td>\n",
       "      <td>1</td>\n",
       "    </tr>\n",
       "    <tr>\n",
       "      <th>108057</th>\n",
       "      <td>30455166</td>\n",
       "      <td>1</td>\n",
       "      <td>2</td>\n",
       "      <td>5.0</td>\n",
       "      <td>0.0</td>\n",
       "      <td>DAILY</td>\n",
       "      <td>2.0</td>\n",
       "      <td>5.0</td>\n",
       "      <td>GRADUATE DEGREE OR PROFESSIONAL DEGREE</td>\n",
       "      <td>NaN</td>\n",
       "      <td>...</td>\n",
       "      <td>NaN</td>\n",
       "      <td>NaN</td>\n",
       "      <td>NaN</td>\n",
       "      <td>NaN</td>\n",
       "      <td>NaN</td>\n",
       "      <td>2.0</td>\n",
       "      <td>10000.0</td>\n",
       "      <td>0.0</td>\n",
       "      <td>1</td>\n",
       "      <td>1</td>\n",
       "    </tr>\n",
       "  </tbody>\n",
       "</table>\n",
       "<p>5 rows × 52 columns</p>\n",
       "</div>"
      ],
      "text/plain": [
       "         HOUSEID  PERSONID  VEHID  CAR  CARSHARE            CAR_label  \\\n",
       "49977   30210010         2      3  5.0       0.0                DAILY   \n",
       "152617  40136586         1      1  5.0       0.0                DAILY   \n",
       "219521  40588561         4      4  5.0       0.0                DAILY   \n",
       "207962  40509371         1      1  3.0      10.0  A FEW TIMES A MONTH   \n",
       "108057  30455166         1      2  5.0       0.0                DAILY   \n",
       "\n",
       "        DRVRCNT  EDUC                              EDUC_label  GT1JBLWK  ...  \\\n",
       "49977       3.0   3.0       SOME COLLEGE OR ASSOCIATES DEGREE       2.0  ...   \n",
       "152617      1.0   3.0       SOME COLLEGE OR ASSOCIATES DEGREE       NaN  ...   \n",
       "219521      3.0   2.0             HIGH SCHOOL GRADUATE OR GED       2.0  ...   \n",
       "207962      1.0   4.0                       BACHELOR'S DEGREE       2.0  ...   \n",
       "108057      2.0   5.0  GRADUATE DEGREE OR PROFESSIONAL DEGREE       NaN  ...   \n",
       "\n",
       "       VEHOWNMO WKFTPT WKFTPT_label  WKRMHM WKRMHM_label  WRKCOUNT YEARMILE  \\\n",
       "49977       0.0    1.0    FULL-TIME     2.0           NO       3.0  25000.0   \n",
       "152617      NaN    NaN          NaN     NaN          NaN       0.0   1000.0   \n",
       "219521      NaN    2.0    PART-TIME     2.0           NO       2.0   5000.0   \n",
       "207962      3.0    1.0    FULL-TIME     NaN          NaN       1.0    500.0   \n",
       "108057      NaN    NaN          NaN     NaN          NaN       2.0  10000.0   \n",
       "\n",
       "        YOUNGCHILD fueltype_numeric  fueltype_numeric_label  \n",
       "49977          0.0                1                       1  \n",
       "152617         0.0                1                       1  \n",
       "219521         0.0                1                       1  \n",
       "207962         0.0                1                       1  \n",
       "108057         0.0                1                       1  \n",
       "\n",
       "[5 rows x 52 columns]"
      ]
     },
     "execution_count": 5,
     "metadata": {},
     "output_type": "execute_result"
    }
   ],
   "source": [
    "#review first few rows\n",
    "data.head()"
   ]
  },
  {
   "cell_type": "code",
   "execution_count": 6,
   "metadata": {},
   "outputs": [
    {
     "name": "stdout",
     "output_type": "stream",
     "text": [
      "<class 'pandas.core.frame.DataFrame'>\n",
      "Int64Index: 200564 entries, 49977 to 38915\n",
      "Data columns (total 52 columns):\n",
      " #   Column                  Non-Null Count   Dtype  \n",
      "---  ------                  --------------   -----  \n",
      " 0   HOUSEID                 200564 non-null  int64  \n",
      " 1   PERSONID                200564 non-null  int64  \n",
      " 2   VEHID                   200564 non-null  int64  \n",
      " 3   CAR                     198663 non-null  float64\n",
      " 4   CARSHARE                200271 non-null  float64\n",
      " 5   CAR_label               198663 non-null  object \n",
      " 6   DRVRCNT                 200564 non-null  float64\n",
      " 7   EDUC                    200424 non-null  float64\n",
      " 8   EDUC_label              200424 non-null  object \n",
      " 9   GT1JBLWK                114467 non-null  float64\n",
      " 10  GT1JBLWK_label          114467 non-null  object \n",
      " 11  HBHUR                   200392 non-null  object \n",
      " 12  HBHUR_label             200392 non-null  object \n",
      " 13  HBPPOPDN                200392 non-null  float64\n",
      " 14  HBPPOPDN_label          200392 non-null  object \n",
      " 15  HBRESDN                 200392 non-null  float64\n",
      " 16  HBRESDN_label           200392 non-null  object \n",
      " 17  HHFAMINC                194349 non-null  float64\n",
      " 18  HHFAMINC_label          194349 non-null  object \n",
      " 19  HHSIZE                  200564 non-null  float64\n",
      " 20  HHSTATE                 200564 non-null  object \n",
      " 21  HHSTATE_label           200564 non-null  object \n",
      " 22  HHVEHCNT                200564 non-null  float64\n",
      " 23  HOMEOWN                 200522 non-null  float64\n",
      " 24  HOMEOWN_label           200522 non-null  object \n",
      " 25  OCCAT                   114419 non-null  float64\n",
      " 26  OCCAT_label             114419 non-null  object \n",
      " 27  PLACE                   196881 non-null  float64\n",
      " 28  PLACE_label             196881 non-null  object \n",
      " 29  PRICE                   199877 non-null  float64\n",
      " 30  PRICE_label             199877 non-null  object \n",
      " 31  R_AGE                   200269 non-null  float64\n",
      " 32  R_HISP                  200281 non-null  float64\n",
      " 33  R_HISP_label            200281 non-null  object \n",
      " 34  R_RACE                  199564 non-null  float64\n",
      " 35  R_RACE_label            200564 non-null  object \n",
      " 36  R_SEX                   200442 non-null  float64\n",
      " 37  R_SEX_label             200442 non-null  object \n",
      " 38  TIMETOWK                98932 non-null   float64\n",
      " 39  VEHAGE                  199483 non-null  float64\n",
      " 40  VEHOWNED                200405 non-null  float64\n",
      " 41  VEHOWNED_label          200405 non-null  object \n",
      " 42  VEHOWNMO                30822 non-null   float64\n",
      " 43  WKFTPT                  114404 non-null  float64\n",
      " 44  WKFTPT_label            114404 non-null  object \n",
      " 45  WKRMHM                  99042 non-null   float64\n",
      " 46  WKRMHM_label            99042 non-null   object \n",
      " 47  WRKCOUNT                200564 non-null  float64\n",
      " 48  YEARMILE                147843 non-null  float64\n",
      " 49  YOUNGCHILD              200564 non-null  float64\n",
      " 50  fueltype_numeric        200564 non-null  int64  \n",
      " 51  fueltype_numeric_label  200564 non-null  object \n",
      "dtypes: float64(27), int64(4), object(21)\n",
      "memory usage: 81.1+ MB\n"
     ]
    }
   ],
   "source": [
    "#Look at info\n",
    "data.info()"
   ]
  },
  {
   "cell_type": "markdown",
   "metadata": {},
   "source": [
    "## Split Datasets"
   ]
  },
  {
   "cell_type": "code",
   "execution_count": 7,
   "metadata": {},
   "outputs": [],
   "source": [
    "#drop ordinal variable labels\n",
    "ord_label = [\"CAR_label\",\n",
    "\"EDUC_label\",\n",
    "\"HBPPOPDN_label\",\n",
    "\"HBRESDN_label\",\n",
    "\"HHFAMINC_label\",\n",
    "\"PLACE_label\",\n",
    "\"PRICE_label\"]"
   ]
  },
  {
   "cell_type": "code",
   "execution_count": 8,
   "metadata": {},
   "outputs": [],
   "source": [
    "data.drop(columns=ord_label,inplace=True)"
   ]
  },
  {
   "cell_type": "code",
   "execution_count": 9,
   "metadata": {},
   "outputs": [
    {
     "name": "stdout",
     "output_type": "stream",
     "text": [
      "<class 'pandas.core.frame.DataFrame'>\n",
      "Int64Index: 200564 entries, 49977 to 38915\n",
      "Data columns (total 45 columns):\n",
      " #   Column                  Non-Null Count   Dtype  \n",
      "---  ------                  --------------   -----  \n",
      " 0   HOUSEID                 200564 non-null  int64  \n",
      " 1   PERSONID                200564 non-null  int64  \n",
      " 2   VEHID                   200564 non-null  int64  \n",
      " 3   CAR                     198663 non-null  float64\n",
      " 4   CARSHARE                200271 non-null  float64\n",
      " 5   DRVRCNT                 200564 non-null  float64\n",
      " 6   EDUC                    200424 non-null  float64\n",
      " 7   GT1JBLWK                114467 non-null  float64\n",
      " 8   GT1JBLWK_label          114467 non-null  object \n",
      " 9   HBHUR                   200392 non-null  object \n",
      " 10  HBHUR_label             200392 non-null  object \n",
      " 11  HBPPOPDN                200392 non-null  float64\n",
      " 12  HBRESDN                 200392 non-null  float64\n",
      " 13  HHFAMINC                194349 non-null  float64\n",
      " 14  HHSIZE                  200564 non-null  float64\n",
      " 15  HHSTATE                 200564 non-null  object \n",
      " 16  HHSTATE_label           200564 non-null  object \n",
      " 17  HHVEHCNT                200564 non-null  float64\n",
      " 18  HOMEOWN                 200522 non-null  float64\n",
      " 19  HOMEOWN_label           200522 non-null  object \n",
      " 20  OCCAT                   114419 non-null  float64\n",
      " 21  OCCAT_label             114419 non-null  object \n",
      " 22  PLACE                   196881 non-null  float64\n",
      " 23  PRICE                   199877 non-null  float64\n",
      " 24  R_AGE                   200269 non-null  float64\n",
      " 25  R_HISP                  200281 non-null  float64\n",
      " 26  R_HISP_label            200281 non-null  object \n",
      " 27  R_RACE                  199564 non-null  float64\n",
      " 28  R_RACE_label            200564 non-null  object \n",
      " 29  R_SEX                   200442 non-null  float64\n",
      " 30  R_SEX_label             200442 non-null  object \n",
      " 31  TIMETOWK                98932 non-null   float64\n",
      " 32  VEHAGE                  199483 non-null  float64\n",
      " 33  VEHOWNED                200405 non-null  float64\n",
      " 34  VEHOWNED_label          200405 non-null  object \n",
      " 35  VEHOWNMO                30822 non-null   float64\n",
      " 36  WKFTPT                  114404 non-null  float64\n",
      " 37  WKFTPT_label            114404 non-null  object \n",
      " 38  WKRMHM                  99042 non-null   float64\n",
      " 39  WKRMHM_label            99042 non-null   object \n",
      " 40  WRKCOUNT                200564 non-null  float64\n",
      " 41  YEARMILE                147843 non-null  float64\n",
      " 42  YOUNGCHILD              200564 non-null  float64\n",
      " 43  fueltype_numeric        200564 non-null  int64  \n",
      " 44  fueltype_numeric_label  200564 non-null  object \n",
      "dtypes: float64(27), int64(4), object(14)\n",
      "memory usage: 70.4+ MB\n"
     ]
    }
   ],
   "source": [
    "data.info()"
   ]
  },
  {
   "cell_type": "code",
   "execution_count": 10,
   "metadata": {},
   "outputs": [],
   "source": [
    "#remove variables without _label\n",
    "var_label = [a.replace(\"_label\",\"\") for a in data.columns if \"_label\" in a]"
   ]
  },
  {
   "cell_type": "code",
   "execution_count": 11,
   "metadata": {},
   "outputs": [],
   "source": [
    "#drop irrelevant variables\n",
    "X = data.drop(columns=['fueltype_numeric','fueltype_numeric_label'] + var_label)"
   ]
  },
  {
   "cell_type": "code",
   "execution_count": 12,
   "metadata": {},
   "outputs": [],
   "source": [
    "#output variable\n",
    "y = data['fueltype_numeric']"
   ]
  },
  {
   "cell_type": "code",
   "execution_count": 13,
   "metadata": {},
   "outputs": [],
   "source": [
    "#train test split\n",
    "X_train, X_test, y_train, y_test = train_test_split (X, y, test_size = 0.3, random_state = 21)"
   ]
  },
  {
   "cell_type": "code",
   "execution_count": 14,
   "metadata": {},
   "outputs": [
    {
     "data": {
      "text/html": [
       "<div>\n",
       "<style scoped>\n",
       "    .dataframe tbody tr th:only-of-type {\n",
       "        vertical-align: middle;\n",
       "    }\n",
       "\n",
       "    .dataframe tbody tr th {\n",
       "        vertical-align: top;\n",
       "    }\n",
       "\n",
       "    .dataframe thead th {\n",
       "        text-align: right;\n",
       "    }\n",
       "</style>\n",
       "<table border=\"1\" class=\"dataframe\">\n",
       "  <thead>\n",
       "    <tr style=\"text-align: right;\">\n",
       "      <th></th>\n",
       "      <th>HOUSEID</th>\n",
       "      <th>PERSONID</th>\n",
       "      <th>VEHID</th>\n",
       "      <th>CAR</th>\n",
       "      <th>CARSHARE</th>\n",
       "      <th>DRVRCNT</th>\n",
       "      <th>EDUC</th>\n",
       "      <th>GT1JBLWK_label</th>\n",
       "      <th>HBHUR_label</th>\n",
       "      <th>HBPPOPDN</th>\n",
       "      <th>...</th>\n",
       "      <th>R_SEX_label</th>\n",
       "      <th>TIMETOWK</th>\n",
       "      <th>VEHAGE</th>\n",
       "      <th>VEHOWNED_label</th>\n",
       "      <th>VEHOWNMO</th>\n",
       "      <th>WKFTPT_label</th>\n",
       "      <th>WKRMHM_label</th>\n",
       "      <th>WRKCOUNT</th>\n",
       "      <th>YEARMILE</th>\n",
       "      <th>YOUNGCHILD</th>\n",
       "    </tr>\n",
       "  </thead>\n",
       "  <tbody>\n",
       "    <tr>\n",
       "      <th>165952</th>\n",
       "      <td>40226077</td>\n",
       "      <td>1</td>\n",
       "      <td>1</td>\n",
       "      <td>5.0</td>\n",
       "      <td>0.0</td>\n",
       "      <td>1.0</td>\n",
       "      <td>4.0</td>\n",
       "      <td>NO</td>\n",
       "      <td>NOT RURAL</td>\n",
       "      <td>6.0</td>\n",
       "      <td>...</td>\n",
       "      <td>FEMALE</td>\n",
       "      <td>NaN</td>\n",
       "      <td>1.0</td>\n",
       "      <td>YES</td>\n",
       "      <td>NaN</td>\n",
       "      <td>FULL-TIME</td>\n",
       "      <td>NaN</td>\n",
       "      <td>1.0</td>\n",
       "      <td>NaN</td>\n",
       "      <td>0.0</td>\n",
       "    </tr>\n",
       "    <tr>\n",
       "      <th>161420</th>\n",
       "      <td>40196601</td>\n",
       "      <td>1</td>\n",
       "      <td>1</td>\n",
       "      <td>5.0</td>\n",
       "      <td>0.0</td>\n",
       "      <td>3.0</td>\n",
       "      <td>2.0</td>\n",
       "      <td>NaN</td>\n",
       "      <td>NOT RURAL</td>\n",
       "      <td>5.0</td>\n",
       "      <td>...</td>\n",
       "      <td>MALE</td>\n",
       "      <td>NaN</td>\n",
       "      <td>7.0</td>\n",
       "      <td>YES</td>\n",
       "      <td>NaN</td>\n",
       "      <td>NaN</td>\n",
       "      <td>NaN</td>\n",
       "      <td>1.0</td>\n",
       "      <td>NaN</td>\n",
       "      <td>0.0</td>\n",
       "    </tr>\n",
       "    <tr>\n",
       "      <th>231467</th>\n",
       "      <td>40667671</td>\n",
       "      <td>2</td>\n",
       "      <td>1</td>\n",
       "      <td>5.0</td>\n",
       "      <td>0.0</td>\n",
       "      <td>2.0</td>\n",
       "      <td>4.0</td>\n",
       "      <td>NaN</td>\n",
       "      <td>NOT RURAL</td>\n",
       "      <td>2.0</td>\n",
       "      <td>...</td>\n",
       "      <td>FEMALE</td>\n",
       "      <td>NaN</td>\n",
       "      <td>1.0</td>\n",
       "      <td>YES</td>\n",
       "      <td>NaN</td>\n",
       "      <td>NaN</td>\n",
       "      <td>NaN</td>\n",
       "      <td>0.0</td>\n",
       "      <td>NaN</td>\n",
       "      <td>0.0</td>\n",
       "    </tr>\n",
       "    <tr>\n",
       "      <th>109716</th>\n",
       "      <td>30461749</td>\n",
       "      <td>1</td>\n",
       "      <td>1</td>\n",
       "      <td>4.0</td>\n",
       "      <td>0.0</td>\n",
       "      <td>1.0</td>\n",
       "      <td>1.0</td>\n",
       "      <td>NaN</td>\n",
       "      <td>NOT RURAL</td>\n",
       "      <td>6.0</td>\n",
       "      <td>...</td>\n",
       "      <td>MALE</td>\n",
       "      <td>NaN</td>\n",
       "      <td>10.0</td>\n",
       "      <td>YES</td>\n",
       "      <td>NaN</td>\n",
       "      <td>NaN</td>\n",
       "      <td>NaN</td>\n",
       "      <td>0.0</td>\n",
       "      <td>1000.0</td>\n",
       "      <td>0.0</td>\n",
       "    </tr>\n",
       "    <tr>\n",
       "      <th>187414</th>\n",
       "      <td>40370084</td>\n",
       "      <td>2</td>\n",
       "      <td>2</td>\n",
       "      <td>5.0</td>\n",
       "      <td>0.0</td>\n",
       "      <td>2.0</td>\n",
       "      <td>3.0</td>\n",
       "      <td>YES</td>\n",
       "      <td>NOT RURAL</td>\n",
       "      <td>5.0</td>\n",
       "      <td>...</td>\n",
       "      <td>MALE</td>\n",
       "      <td>60.0</td>\n",
       "      <td>14.0</td>\n",
       "      <td>NO</td>\n",
       "      <td>4.0</td>\n",
       "      <td>FULL-TIME</td>\n",
       "      <td>NO</td>\n",
       "      <td>2.0</td>\n",
       "      <td>NaN</td>\n",
       "      <td>0.0</td>\n",
       "    </tr>\n",
       "  </tbody>\n",
       "</table>\n",
       "<p>5 rows × 32 columns</p>\n",
       "</div>"
      ],
      "text/plain": [
       "         HOUSEID  PERSONID  VEHID  CAR  CARSHARE  DRVRCNT  EDUC  \\\n",
       "165952  40226077         1      1  5.0       0.0      1.0   4.0   \n",
       "161420  40196601         1      1  5.0       0.0      3.0   2.0   \n",
       "231467  40667671         2      1  5.0       0.0      2.0   4.0   \n",
       "109716  30461749         1      1  4.0       0.0      1.0   1.0   \n",
       "187414  40370084         2      2  5.0       0.0      2.0   3.0   \n",
       "\n",
       "       GT1JBLWK_label HBHUR_label  HBPPOPDN  ...  R_SEX_label  TIMETOWK  \\\n",
       "165952             NO   NOT RURAL       6.0  ...       FEMALE       NaN   \n",
       "161420            NaN   NOT RURAL       5.0  ...         MALE       NaN   \n",
       "231467            NaN   NOT RURAL       2.0  ...       FEMALE       NaN   \n",
       "109716            NaN   NOT RURAL       6.0  ...         MALE       NaN   \n",
       "187414            YES   NOT RURAL       5.0  ...         MALE      60.0   \n",
       "\n",
       "        VEHAGE VEHOWNED_label  VEHOWNMO WKFTPT_label WKRMHM_label  WRKCOUNT  \\\n",
       "165952     1.0            YES       NaN    FULL-TIME          NaN       1.0   \n",
       "161420     7.0            YES       NaN          NaN          NaN       1.0   \n",
       "231467     1.0            YES       NaN          NaN          NaN       0.0   \n",
       "109716    10.0            YES       NaN          NaN          NaN       0.0   \n",
       "187414    14.0             NO       4.0    FULL-TIME           NO       2.0   \n",
       "\n",
       "        YEARMILE  YOUNGCHILD  \n",
       "165952       NaN         0.0  \n",
       "161420       NaN         0.0  \n",
       "231467       NaN         0.0  \n",
       "109716    1000.0         0.0  \n",
       "187414       NaN         0.0  \n",
       "\n",
       "[5 rows x 32 columns]"
      ]
     },
     "execution_count": 14,
     "metadata": {},
     "output_type": "execute_result"
    }
   ],
   "source": [
    "#check first few rows\n",
    "X_train.head()"
   ]
  },
  {
   "cell_type": "code",
   "execution_count": 15,
   "metadata": {},
   "outputs": [
    {
     "data": {
      "text/plain": [
       "(140394, 32)"
      ]
     },
     "execution_count": 15,
     "metadata": {},
     "output_type": "execute_result"
    }
   ],
   "source": [
    "#check dimension\n",
    "X_train.shape"
   ]
  },
  {
   "cell_type": "code",
   "execution_count": 16,
   "metadata": {},
   "outputs": [
    {
     "name": "stdout",
     "output_type": "stream",
     "text": [
      "<class 'pandas.core.frame.DataFrame'>\n",
      "Int64Index: 140394 entries, 165952 to 97650\n",
      "Data columns (total 32 columns):\n",
      " #   Column          Non-Null Count   Dtype  \n",
      "---  ------          --------------   -----  \n",
      " 0   HOUSEID         140394 non-null  int64  \n",
      " 1   PERSONID        140394 non-null  int64  \n",
      " 2   VEHID           140394 non-null  int64  \n",
      " 3   CAR             139080 non-null  float64\n",
      " 4   CARSHARE        140186 non-null  float64\n",
      " 5   DRVRCNT         140394 non-null  float64\n",
      " 6   EDUC            140294 non-null  float64\n",
      " 7   GT1JBLWK_label  80283 non-null   object \n",
      " 8   HBHUR_label     140273 non-null  object \n",
      " 9   HBPPOPDN        140273 non-null  float64\n",
      " 10  HBRESDN         140273 non-null  float64\n",
      " 11  HHFAMINC        136027 non-null  float64\n",
      " 12  HHSIZE          140394 non-null  float64\n",
      " 13  HHSTATE_label   140394 non-null  object \n",
      " 14  HHVEHCNT        140394 non-null  float64\n",
      " 15  HOMEOWN_label   140359 non-null  object \n",
      " 16  OCCAT_label     80251 non-null   object \n",
      " 17  PLACE           137847 non-null  float64\n",
      " 18  PRICE           139916 non-null  float64\n",
      " 19  R_AGE           140181 non-null  float64\n",
      " 20  R_HISP_label    140190 non-null  object \n",
      " 21  R_RACE_label    140394 non-null  object \n",
      " 22  R_SEX_label     140312 non-null  object \n",
      " 23  TIMETOWK        69275 non-null   float64\n",
      " 24  VEHAGE          139645 non-null  float64\n",
      " 25  VEHOWNED_label  140294 non-null  object \n",
      " 26  VEHOWNMO        21604 non-null   float64\n",
      " 27  WKFTPT_label    80245 non-null   object \n",
      " 28  WKRMHM_label    69359 non-null   object \n",
      " 29  WRKCOUNT        140394 non-null  float64\n",
      " 30  YEARMILE        103443 non-null  float64\n",
      " 31  YOUNGCHILD      140394 non-null  float64\n",
      "dtypes: float64(18), int64(3), object(11)\n",
      "memory usage: 35.3+ MB\n"
     ]
    }
   ],
   "source": [
    "#check info\n",
    "X_train.info()"
   ]
  },
  {
   "cell_type": "code",
   "execution_count": 17,
   "metadata": {},
   "outputs": [
    {
     "data": {
      "text/html": [
       "<div>\n",
       "<style scoped>\n",
       "    .dataframe tbody tr th:only-of-type {\n",
       "        vertical-align: middle;\n",
       "    }\n",
       "\n",
       "    .dataframe tbody tr th {\n",
       "        vertical-align: top;\n",
       "    }\n",
       "\n",
       "    .dataframe thead th {\n",
       "        text-align: right;\n",
       "    }\n",
       "</style>\n",
       "<table border=\"1\" class=\"dataframe\">\n",
       "  <thead>\n",
       "    <tr style=\"text-align: right;\">\n",
       "      <th></th>\n",
       "      <th>HOUSEID</th>\n",
       "      <th>PERSONID</th>\n",
       "      <th>VEHID</th>\n",
       "      <th>CAR</th>\n",
       "      <th>CARSHARE</th>\n",
       "      <th>DRVRCNT</th>\n",
       "      <th>EDUC</th>\n",
       "      <th>GT1JBLWK_label</th>\n",
       "      <th>HBHUR_label</th>\n",
       "      <th>HBPPOPDN</th>\n",
       "      <th>...</th>\n",
       "      <th>R_SEX_label</th>\n",
       "      <th>TIMETOWK</th>\n",
       "      <th>VEHAGE</th>\n",
       "      <th>VEHOWNED_label</th>\n",
       "      <th>VEHOWNMO</th>\n",
       "      <th>WKFTPT_label</th>\n",
       "      <th>WKRMHM_label</th>\n",
       "      <th>WRKCOUNT</th>\n",
       "      <th>YEARMILE</th>\n",
       "      <th>YOUNGCHILD</th>\n",
       "    </tr>\n",
       "  </thead>\n",
       "  <tbody>\n",
       "    <tr>\n",
       "      <th>205300</th>\n",
       "      <td>40491553</td>\n",
       "      <td>2</td>\n",
       "      <td>2</td>\n",
       "      <td>5.0</td>\n",
       "      <td>0.0</td>\n",
       "      <td>2.0</td>\n",
       "      <td>4.0</td>\n",
       "      <td>NO</td>\n",
       "      <td>NOT RURAL</td>\n",
       "      <td>6.0</td>\n",
       "      <td>...</td>\n",
       "      <td>FEMALE</td>\n",
       "      <td>15.0</td>\n",
       "      <td>4.0</td>\n",
       "      <td>YES</td>\n",
       "      <td>NaN</td>\n",
       "      <td>FULL-TIME</td>\n",
       "      <td>YES</td>\n",
       "      <td>2.0</td>\n",
       "      <td>13000.0</td>\n",
       "      <td>0.0</td>\n",
       "    </tr>\n",
       "    <tr>\n",
       "      <th>150902</th>\n",
       "      <td>40125081</td>\n",
       "      <td>2</td>\n",
       "      <td>1</td>\n",
       "      <td>5.0</td>\n",
       "      <td>0.0</td>\n",
       "      <td>2.0</td>\n",
       "      <td>1.0</td>\n",
       "      <td>NaN</td>\n",
       "      <td>RURAL</td>\n",
       "      <td>1.0</td>\n",
       "      <td>...</td>\n",
       "      <td>MALE</td>\n",
       "      <td>NaN</td>\n",
       "      <td>4.0</td>\n",
       "      <td>NO</td>\n",
       "      <td>4.0</td>\n",
       "      <td>NaN</td>\n",
       "      <td>NaN</td>\n",
       "      <td>0.0</td>\n",
       "      <td>3000.0</td>\n",
       "      <td>0.0</td>\n",
       "    </tr>\n",
       "    <tr>\n",
       "      <th>70631</th>\n",
       "      <td>30296300</td>\n",
       "      <td>1</td>\n",
       "      <td>1</td>\n",
       "      <td>5.0</td>\n",
       "      <td>0.0</td>\n",
       "      <td>1.0</td>\n",
       "      <td>2.0</td>\n",
       "      <td>NaN</td>\n",
       "      <td>NOT RURAL</td>\n",
       "      <td>2.0</td>\n",
       "      <td>...</td>\n",
       "      <td>FEMALE</td>\n",
       "      <td>NaN</td>\n",
       "      <td>16.0</td>\n",
       "      <td>NO</td>\n",
       "      <td>10.0</td>\n",
       "      <td>NaN</td>\n",
       "      <td>NaN</td>\n",
       "      <td>1.0</td>\n",
       "      <td>NaN</td>\n",
       "      <td>1.0</td>\n",
       "    </tr>\n",
       "    <tr>\n",
       "      <th>53212</th>\n",
       "      <td>30223835</td>\n",
       "      <td>2</td>\n",
       "      <td>1</td>\n",
       "      <td>5.0</td>\n",
       "      <td>0.0</td>\n",
       "      <td>2.0</td>\n",
       "      <td>3.0</td>\n",
       "      <td>NO</td>\n",
       "      <td>NOT RURAL</td>\n",
       "      <td>7.0</td>\n",
       "      <td>...</td>\n",
       "      <td>MALE</td>\n",
       "      <td>45.0</td>\n",
       "      <td>17.0</td>\n",
       "      <td>YES</td>\n",
       "      <td>NaN</td>\n",
       "      <td>PART-TIME</td>\n",
       "      <td>NO</td>\n",
       "      <td>2.0</td>\n",
       "      <td>5000.0</td>\n",
       "      <td>0.0</td>\n",
       "    </tr>\n",
       "    <tr>\n",
       "      <th>197639</th>\n",
       "      <td>40437650</td>\n",
       "      <td>1</td>\n",
       "      <td>1</td>\n",
       "      <td>5.0</td>\n",
       "      <td>0.0</td>\n",
       "      <td>2.0</td>\n",
       "      <td>4.0</td>\n",
       "      <td>NO</td>\n",
       "      <td>NOT RURAL</td>\n",
       "      <td>5.0</td>\n",
       "      <td>...</td>\n",
       "      <td>MALE</td>\n",
       "      <td>15.0</td>\n",
       "      <td>2.0</td>\n",
       "      <td>YES</td>\n",
       "      <td>NaN</td>\n",
       "      <td>FULL-TIME</td>\n",
       "      <td>YES</td>\n",
       "      <td>1.0</td>\n",
       "      <td>18000.0</td>\n",
       "      <td>2.0</td>\n",
       "    </tr>\n",
       "  </tbody>\n",
       "</table>\n",
       "<p>5 rows × 32 columns</p>\n",
       "</div>"
      ],
      "text/plain": [
       "         HOUSEID  PERSONID  VEHID  CAR  CARSHARE  DRVRCNT  EDUC  \\\n",
       "205300  40491553         2      2  5.0       0.0      2.0   4.0   \n",
       "150902  40125081         2      1  5.0       0.0      2.0   1.0   \n",
       "70631   30296300         1      1  5.0       0.0      1.0   2.0   \n",
       "53212   30223835         2      1  5.0       0.0      2.0   3.0   \n",
       "197639  40437650         1      1  5.0       0.0      2.0   4.0   \n",
       "\n",
       "       GT1JBLWK_label HBHUR_label  HBPPOPDN  ...  R_SEX_label  TIMETOWK  \\\n",
       "205300             NO   NOT RURAL       6.0  ...       FEMALE      15.0   \n",
       "150902            NaN       RURAL       1.0  ...         MALE       NaN   \n",
       "70631             NaN   NOT RURAL       2.0  ...       FEMALE       NaN   \n",
       "53212              NO   NOT RURAL       7.0  ...         MALE      45.0   \n",
       "197639             NO   NOT RURAL       5.0  ...         MALE      15.0   \n",
       "\n",
       "        VEHAGE VEHOWNED_label  VEHOWNMO WKFTPT_label WKRMHM_label  WRKCOUNT  \\\n",
       "205300     4.0            YES       NaN    FULL-TIME          YES       2.0   \n",
       "150902     4.0             NO       4.0          NaN          NaN       0.0   \n",
       "70631     16.0             NO      10.0          NaN          NaN       1.0   \n",
       "53212     17.0            YES       NaN    PART-TIME           NO       2.0   \n",
       "197639     2.0            YES       NaN    FULL-TIME          YES       1.0   \n",
       "\n",
       "        YEARMILE  YOUNGCHILD  \n",
       "205300   13000.0         0.0  \n",
       "150902    3000.0         0.0  \n",
       "70631        NaN         1.0  \n",
       "53212     5000.0         0.0  \n",
       "197639   18000.0         2.0  \n",
       "\n",
       "[5 rows x 32 columns]"
      ]
     },
     "execution_count": 17,
     "metadata": {},
     "output_type": "execute_result"
    }
   ],
   "source": [
    "#check first few rows\n",
    "X_test.head()"
   ]
  },
  {
   "cell_type": "code",
   "execution_count": 18,
   "metadata": {},
   "outputs": [
    {
     "data": {
      "text/plain": [
       "(60170, 32)"
      ]
     },
     "execution_count": 18,
     "metadata": {},
     "output_type": "execute_result"
    }
   ],
   "source": [
    "#check dimension\n",
    "X_test.shape"
   ]
  },
  {
   "cell_type": "code",
   "execution_count": 19,
   "metadata": {
    "scrolled": true
   },
   "outputs": [
    {
     "name": "stdout",
     "output_type": "stream",
     "text": [
      "<class 'pandas.core.frame.DataFrame'>\n",
      "Int64Index: 60170 entries, 205300 to 239295\n",
      "Data columns (total 32 columns):\n",
      " #   Column          Non-Null Count  Dtype  \n",
      "---  ------          --------------  -----  \n",
      " 0   HOUSEID         60170 non-null  int64  \n",
      " 1   PERSONID        60170 non-null  int64  \n",
      " 2   VEHID           60170 non-null  int64  \n",
      " 3   CAR             59583 non-null  float64\n",
      " 4   CARSHARE        60085 non-null  float64\n",
      " 5   DRVRCNT         60170 non-null  float64\n",
      " 6   EDUC            60130 non-null  float64\n",
      " 7   GT1JBLWK_label  34184 non-null  object \n",
      " 8   HBHUR_label     60119 non-null  object \n",
      " 9   HBPPOPDN        60119 non-null  float64\n",
      " 10  HBRESDN         60119 non-null  float64\n",
      " 11  HHFAMINC        58322 non-null  float64\n",
      " 12  HHSIZE          60170 non-null  float64\n",
      " 13  HHSTATE_label   60170 non-null  object \n",
      " 14  HHVEHCNT        60170 non-null  float64\n",
      " 15  HOMEOWN_label   60163 non-null  object \n",
      " 16  OCCAT_label     34168 non-null  object \n",
      " 17  PLACE           59034 non-null  float64\n",
      " 18  PRICE           59961 non-null  float64\n",
      " 19  R_AGE           60088 non-null  float64\n",
      " 20  R_HISP_label    60091 non-null  object \n",
      " 21  R_RACE_label    60170 non-null  object \n",
      " 22  R_SEX_label     60130 non-null  object \n",
      " 23  TIMETOWK        29657 non-null  float64\n",
      " 24  VEHAGE          59838 non-null  float64\n",
      " 25  VEHOWNED_label  60111 non-null  object \n",
      " 26  VEHOWNMO        9218 non-null   float64\n",
      " 27  WKFTPT_label    34159 non-null  object \n",
      " 28  WKRMHM_label    29683 non-null  object \n",
      " 29  WRKCOUNT        60170 non-null  float64\n",
      " 30  YEARMILE        44400 non-null  float64\n",
      " 31  YOUNGCHILD      60170 non-null  float64\n",
      "dtypes: float64(18), int64(3), object(11)\n",
      "memory usage: 15.1+ MB\n"
     ]
    }
   ],
   "source": [
    "X_test.info()"
   ]
  },
  {
   "cell_type": "markdown",
   "metadata": {},
   "source": [
    "## Impute Datasets"
   ]
  },
  {
   "cell_type": "code",
   "execution_count": 20,
   "metadata": {},
   "outputs": [],
   "source": [
    "# median imputer\n",
    "imp_median = impute.SimpleImputer(missing_values=np.nan, strategy=\"median\")\n",
    "\n",
    "# categorical imputer\n",
    "imp_cat = impute.SimpleImputer(missing_values=np.nan, strategy=\"most_frequent\")"
   ]
  },
  {
   "cell_type": "code",
   "execution_count": 21,
   "metadata": {},
   "outputs": [],
   "source": [
    "#split data types\n",
    "X_train_cat = X_train.select_dtypes('object')\n",
    "X_train_num = X_train.select_dtypes('float64')\n",
    "X_test_cat = X_test.select_dtypes('object')\n",
    "X_test_num = X_test.select_dtypes('float64')"
   ]
  },
  {
   "cell_type": "code",
   "execution_count": 22,
   "metadata": {},
   "outputs": [
    {
     "name": "stdout",
     "output_type": "stream",
     "text": [
      "The shape of the X_train categorical features is (140394, 11)\n",
      "The shape of the X_train numerical features is (140394, 18)\n",
      "The shape of the X_test categorical features is (60170, 11)\n",
      "The shape of the X_test numerical features is (60170, 18)\n"
     ]
    }
   ],
   "source": [
    "print(\"The shape of the X_train categorical features is {0}\".format(X_train_cat.shape))\n",
    "print(\"The shape of the X_train numerical features is {0}\".format(X_train_num.shape))\n",
    "print(\"The shape of the X_test categorical features is {0}\".format(X_test_cat.shape))\n",
    "print(\"The shape of the X_test numerical features is {0}\".format(X_test_num.shape))"
   ]
  },
  {
   "cell_type": "code",
   "execution_count": 23,
   "metadata": {},
   "outputs": [],
   "source": [
    "#fit training\n",
    "# impute categorical data\n",
    "X_train_cat_data_impute = imp_cat.fit(X_train_cat)"
   ]
  },
  {
   "cell_type": "code",
   "execution_count": 24,
   "metadata": {},
   "outputs": [],
   "source": [
    "#fit training\n",
    "# impute numerical data\n",
    "X_train_num_data_impute = imp_median.fit(X_train_num)"
   ]
  },
  {
   "cell_type": "code",
   "execution_count": 25,
   "metadata": {},
   "outputs": [],
   "source": [
    "#transform training\n",
    "X_train_cat_fit = X_train_cat_data_impute.transform(X_train_cat)"
   ]
  },
  {
   "cell_type": "code",
   "execution_count": 26,
   "metadata": {},
   "outputs": [],
   "source": [
    "#transform test\n",
    "X_test_cat_fit = X_train_cat_data_impute.transform(X_test_cat)"
   ]
  },
  {
   "cell_type": "code",
   "execution_count": 27,
   "metadata": {},
   "outputs": [],
   "source": [
    "#transform training\n",
    "X_train_num_fit = X_train_num_data_impute.transform(X_train_num)"
   ]
  },
  {
   "cell_type": "code",
   "execution_count": 28,
   "metadata": {},
   "outputs": [],
   "source": [
    "\n",
    "#transform test\n",
    "X_test_num_fit = X_train_num_data_impute.transform(X_test_num)"
   ]
  },
  {
   "cell_type": "code",
   "execution_count": 29,
   "metadata": {},
   "outputs": [
    {
     "name": "stdout",
     "output_type": "stream",
     "text": [
      "The shape of the X_train categorical fit features is (140394, 11)\n",
      "The shape of the X_train numerical fit features is (140394, 18)\n",
      "The shape of the X_test categorical fit features is (60170, 11)\n",
      "The shape of the X_test numerical fit features is (60170, 18)\n"
     ]
    }
   ],
   "source": [
    "print(\"The shape of the X_train categorical fit features is {0}\".format(X_train_cat_fit.shape))\n",
    "print(\"The shape of the X_train numerical fit features is {0}\".format(X_train_num_fit.shape))\n",
    "print(\"The shape of the X_test categorical fit features is {0}\".format(X_test_cat_fit.shape))\n",
    "print(\"The shape of the X_test numerical fit features is {0}\".format(X_test_num_fit.shape))"
   ]
  },
  {
   "cell_type": "markdown",
   "metadata": {},
   "source": [
    "## Scale and One Hot Code Datasets"
   ]
  },
  {
   "cell_type": "code",
   "execution_count": 30,
   "metadata": {},
   "outputs": [],
   "source": [
    "#scale dataset\n",
    "\n",
    "sc = MinMaxScaler()\n",
    "\n",
    "X_train_num_fit_sc = sc.fit_transform(X_train_num_fit)\n",
    "\n",
    "X_test_num_fit_sc = sc.transform(X_test_num_fit)"
   ]
  },
  {
   "cell_type": "code",
   "execution_count": 31,
   "metadata": {},
   "outputs": [],
   "source": [
    "#convert to data frame\n",
    "X_train_done_n = pd.DataFrame(X_train_num_fit_sc,columns=X_train_num.columns)\n",
    "X_test_done_n= pd.DataFrame(X_test_num_fit_sc,columns=X_test_num.columns)"
   ]
  },
  {
   "cell_type": "code",
   "execution_count": 32,
   "metadata": {},
   "outputs": [],
   "source": [
    "#convert to data frame\n",
    "X_train_done_c = pd.DataFrame(X_train_cat_fit,columns=X_train_cat.columns)\n",
    "X_test_done_c = pd.DataFrame(X_test_cat_fit ,columns=X_test_cat.columns)"
   ]
  },
  {
   "cell_type": "code",
   "execution_count": 33,
   "metadata": {},
   "outputs": [],
   "source": [
    "#do dummies\n",
    "X_train_done_cat = pd.get_dummies(X_train_done_c,prefix=X_train_done_c.columns.tolist(), columns = X_train_done_c.columns.tolist(), drop_first=True)"
   ]
  },
  {
   "cell_type": "code",
   "execution_count": 34,
   "metadata": {},
   "outputs": [],
   "source": [
    "#do dummies\n",
    "X_test_done_cat = pd.get_dummies(X_test_done_c,prefix=X_test_done_c.columns.tolist(), columns = X_test_done_c.columns.tolist(), drop_first=True)"
   ]
  },
  {
   "cell_type": "code",
   "execution_count": 35,
   "metadata": {},
   "outputs": [],
   "source": [
    "#merge train and test\n",
    "X_train = pd.concat([X_train_done_cat, X_train_done_n], axis=1)\n",
    "X_test = pd.concat([X_test_done_cat, X_test_done_n], axis=1)"
   ]
  },
  {
   "cell_type": "code",
   "execution_count": 36,
   "metadata": {},
   "outputs": [
    {
     "name": "stdout",
     "output_type": "stream",
     "text": [
      "<class 'pandas.core.frame.DataFrame'>\n",
      "RangeIndex: 140394 entries, 0 to 140393\n",
      "Data columns (total 47 columns):\n",
      " #   Column                                                            Non-Null Count   Dtype  \n",
      "---  ------                                                            --------------   -----  \n",
      " 0   GT1JBLWK_label_YES                                                140394 non-null  uint8  \n",
      " 1   HBHUR_label_RURAL                                                 140394 non-null  uint8  \n",
      " 2   HHSTATE_label_EAST SOUTH CENTRAL                                  140394 non-null  uint8  \n",
      " 3   HHSTATE_label_MIDDLE ATLANTIC                                     140394 non-null  uint8  \n",
      " 4   HHSTATE_label_MOUNTAIN                                            140394 non-null  uint8  \n",
      " 5   HHSTATE_label_NEW ENGLAND                                         140394 non-null  uint8  \n",
      " 6   HHSTATE_label_PACIFIC                                             140394 non-null  uint8  \n",
      " 7   HHSTATE_label_SOUTH ATLANTIC                                      140394 non-null  uint8  \n",
      " 8   HHSTATE_label_WEST NORTH CENTRAL                                  140394 non-null  uint8  \n",
      " 9   HHSTATE_label_WEST SOUTH CENTRAL                                  140394 non-null  uint8  \n",
      " 10  HOMEOWN_label_RENT                                                140394 non-null  uint8  \n",
      " 11  HOMEOWN_label_SOME OTHER ARRANGEMENT                              140394 non-null  uint8  \n",
      " 12  OCCAT_label_MANUFACTURING, CONSTRUCTION, MAINTENANCE, OR FARMING  140394 non-null  uint8  \n",
      " 13  OCCAT_label_PROFESSIONAL, MANAGERIAL, OR TECHNICAL                140394 non-null  uint8  \n",
      " 14  OCCAT_label_SALES OR SERVICE                                      140394 non-null  uint8  \n",
      " 15  OCCAT_label_SOMETHING ELSE                                        140394 non-null  uint8  \n",
      " 16  R_HISP_label_YES, HISPANIC OR LATINO                              140394 non-null  uint8  \n",
      " 17  R_RACE_label_ASIAN                                                140394 non-null  uint8  \n",
      " 18  R_RACE_label_BLACK OR AFRICAN AMERICAN                            140394 non-null  uint8  \n",
      " 19  R_RACE_label_DON'T KNOW                                           140394 non-null  uint8  \n",
      " 20  R_RACE_label_MULTIPLE RESPONSES SELECTED                          140394 non-null  uint8  \n",
      " 21  R_RACE_label_NATIVE HAWAIIAN OR OTHER PACIFIC ISLANDER            140394 non-null  uint8  \n",
      " 22  R_RACE_label_REFUSED                                              140394 non-null  uint8  \n",
      " 23  R_RACE_label_SOME OTHER RACE                                      140394 non-null  uint8  \n",
      " 24  R_RACE_label_WHITE                                                140394 non-null  uint8  \n",
      " 25  R_SEX_label_MALE                                                  140394 non-null  uint8  \n",
      " 26  VEHOWNED_label_YES                                                140394 non-null  uint8  \n",
      " 27  WKFTPT_label_PART-TIME                                            140394 non-null  uint8  \n",
      " 28  WKRMHM_label_YES                                                  140394 non-null  uint8  \n",
      " 29  CAR                                                               140394 non-null  float64\n",
      " 30  CARSHARE                                                          140394 non-null  float64\n",
      " 31  DRVRCNT                                                           140394 non-null  float64\n",
      " 32  EDUC                                                              140394 non-null  float64\n",
      " 33  HBPPOPDN                                                          140394 non-null  float64\n",
      " 34  HBRESDN                                                           140394 non-null  float64\n",
      " 35  HHFAMINC                                                          140394 non-null  float64\n",
      " 36  HHSIZE                                                            140394 non-null  float64\n",
      " 37  HHVEHCNT                                                          140394 non-null  float64\n",
      " 38  PLACE                                                             140394 non-null  float64\n",
      " 39  PRICE                                                             140394 non-null  float64\n",
      " 40  R_AGE                                                             140394 non-null  float64\n",
      " 41  TIMETOWK                                                          140394 non-null  float64\n",
      " 42  VEHAGE                                                            140394 non-null  float64\n",
      " 43  VEHOWNMO                                                          140394 non-null  float64\n",
      " 44  WRKCOUNT                                                          140394 non-null  float64\n",
      " 45  YEARMILE                                                          140394 non-null  float64\n",
      " 46  YOUNGCHILD                                                        140394 non-null  float64\n",
      "dtypes: float64(18), uint8(29)\n",
      "memory usage: 23.2 MB\n"
     ]
    }
   ],
   "source": [
    "X_train.info(verbose=True)"
   ]
  },
  {
   "cell_type": "code",
   "execution_count": 37,
   "metadata": {},
   "outputs": [
    {
     "name": "stdout",
     "output_type": "stream",
     "text": [
      "<class 'pandas.core.frame.DataFrame'>\n",
      "RangeIndex: 60170 entries, 0 to 60169\n",
      "Data columns (total 47 columns):\n",
      " #   Column                                                            Non-Null Count  Dtype  \n",
      "---  ------                                                            --------------  -----  \n",
      " 0   GT1JBLWK_label_YES                                                60170 non-null  uint8  \n",
      " 1   HBHUR_label_RURAL                                                 60170 non-null  uint8  \n",
      " 2   HHSTATE_label_EAST SOUTH CENTRAL                                  60170 non-null  uint8  \n",
      " 3   HHSTATE_label_MIDDLE ATLANTIC                                     60170 non-null  uint8  \n",
      " 4   HHSTATE_label_MOUNTAIN                                            60170 non-null  uint8  \n",
      " 5   HHSTATE_label_NEW ENGLAND                                         60170 non-null  uint8  \n",
      " 6   HHSTATE_label_PACIFIC                                             60170 non-null  uint8  \n",
      " 7   HHSTATE_label_SOUTH ATLANTIC                                      60170 non-null  uint8  \n",
      " 8   HHSTATE_label_WEST NORTH CENTRAL                                  60170 non-null  uint8  \n",
      " 9   HHSTATE_label_WEST SOUTH CENTRAL                                  60170 non-null  uint8  \n",
      " 10  HOMEOWN_label_RENT                                                60170 non-null  uint8  \n",
      " 11  HOMEOWN_label_SOME OTHER ARRANGEMENT                              60170 non-null  uint8  \n",
      " 12  OCCAT_label_MANUFACTURING, CONSTRUCTION, MAINTENANCE, OR FARMING  60170 non-null  uint8  \n",
      " 13  OCCAT_label_PROFESSIONAL, MANAGERIAL, OR TECHNICAL                60170 non-null  uint8  \n",
      " 14  OCCAT_label_SALES OR SERVICE                                      60170 non-null  uint8  \n",
      " 15  OCCAT_label_SOMETHING ELSE                                        60170 non-null  uint8  \n",
      " 16  R_HISP_label_YES, HISPANIC OR LATINO                              60170 non-null  uint8  \n",
      " 17  R_RACE_label_ASIAN                                                60170 non-null  uint8  \n",
      " 18  R_RACE_label_BLACK OR AFRICAN AMERICAN                            60170 non-null  uint8  \n",
      " 19  R_RACE_label_DON'T KNOW                                           60170 non-null  uint8  \n",
      " 20  R_RACE_label_MULTIPLE RESPONSES SELECTED                          60170 non-null  uint8  \n",
      " 21  R_RACE_label_NATIVE HAWAIIAN OR OTHER PACIFIC ISLANDER            60170 non-null  uint8  \n",
      " 22  R_RACE_label_REFUSED                                              60170 non-null  uint8  \n",
      " 23  R_RACE_label_SOME OTHER RACE                                      60170 non-null  uint8  \n",
      " 24  R_RACE_label_WHITE                                                60170 non-null  uint8  \n",
      " 25  R_SEX_label_MALE                                                  60170 non-null  uint8  \n",
      " 26  VEHOWNED_label_YES                                                60170 non-null  uint8  \n",
      " 27  WKFTPT_label_PART-TIME                                            60170 non-null  uint8  \n",
      " 28  WKRMHM_label_YES                                                  60170 non-null  uint8  \n",
      " 29  CAR                                                               60170 non-null  float64\n",
      " 30  CARSHARE                                                          60170 non-null  float64\n",
      " 31  DRVRCNT                                                           60170 non-null  float64\n",
      " 32  EDUC                                                              60170 non-null  float64\n",
      " 33  HBPPOPDN                                                          60170 non-null  float64\n",
      " 34  HBRESDN                                                           60170 non-null  float64\n",
      " 35  HHFAMINC                                                          60170 non-null  float64\n",
      " 36  HHSIZE                                                            60170 non-null  float64\n",
      " 37  HHVEHCNT                                                          60170 non-null  float64\n",
      " 38  PLACE                                                             60170 non-null  float64\n",
      " 39  PRICE                                                             60170 non-null  float64\n",
      " 40  R_AGE                                                             60170 non-null  float64\n",
      " 41  TIMETOWK                                                          60170 non-null  float64\n",
      " 42  VEHAGE                                                            60170 non-null  float64\n",
      " 43  VEHOWNMO                                                          60170 non-null  float64\n",
      " 44  WRKCOUNT                                                          60170 non-null  float64\n",
      " 45  YEARMILE                                                          60170 non-null  float64\n",
      " 46  YOUNGCHILD                                                        60170 non-null  float64\n",
      "dtypes: float64(18), uint8(29)\n",
      "memory usage: 9.9 MB\n"
     ]
    }
   ],
   "source": [
    "X_test.info(verbose=True)"
   ]
  },
  {
   "cell_type": "code",
   "execution_count": 38,
   "metadata": {},
   "outputs": [],
   "source": [
    "X_train.columns = X_train.columns.str.replace(' ','_').str.replace('[,\\-,\\',$]','')"
   ]
  },
  {
   "cell_type": "code",
   "execution_count": 39,
   "metadata": {},
   "outputs": [],
   "source": [
    "X_test.columns = X_test.columns.str.replace(' ','_').str.replace('[,\\-,\\',$]','')"
   ]
  },
  {
   "cell_type": "code",
   "execution_count": 40,
   "metadata": {},
   "outputs": [
    {
     "name": "stdout",
     "output_type": "stream",
     "text": [
      "<class 'pandas.core.frame.DataFrame'>\n",
      "RangeIndex: 140394 entries, 0 to 140393\n",
      "Data columns (total 47 columns):\n",
      " #   Column                                                         Non-Null Count   Dtype  \n",
      "---  ------                                                         --------------   -----  \n",
      " 0   GT1JBLWK_label_YES                                             140394 non-null  uint8  \n",
      " 1   HBHUR_label_RURAL                                              140394 non-null  uint8  \n",
      " 2   HHSTATE_label_EAST_SOUTH_CENTRAL                               140394 non-null  uint8  \n",
      " 3   HHSTATE_label_MIDDLE_ATLANTIC                                  140394 non-null  uint8  \n",
      " 4   HHSTATE_label_MOUNTAIN                                         140394 non-null  uint8  \n",
      " 5   HHSTATE_label_NEW_ENGLAND                                      140394 non-null  uint8  \n",
      " 6   HHSTATE_label_PACIFIC                                          140394 non-null  uint8  \n",
      " 7   HHSTATE_label_SOUTH_ATLANTIC                                   140394 non-null  uint8  \n",
      " 8   HHSTATE_label_WEST_NORTH_CENTRAL                               140394 non-null  uint8  \n",
      " 9   HHSTATE_label_WEST_SOUTH_CENTRAL                               140394 non-null  uint8  \n",
      " 10  HOMEOWN_label_RENT                                             140394 non-null  uint8  \n",
      " 11  HOMEOWN_label_SOME_OTHER_ARRANGEMENT                           140394 non-null  uint8  \n",
      " 12  OCCAT_label_MANUFACTURING_CONSTRUCTION_MAINTENANCE_OR_FARMING  140394 non-null  uint8  \n",
      " 13  OCCAT_label_PROFESSIONAL_MANAGERIAL_OR_TECHNICAL               140394 non-null  uint8  \n",
      " 14  OCCAT_label_SALES_OR_SERVICE                                   140394 non-null  uint8  \n",
      " 15  OCCAT_label_SOMETHING_ELSE                                     140394 non-null  uint8  \n",
      " 16  R_HISP_label_YES_HISPANIC_OR_LATINO                            140394 non-null  uint8  \n",
      " 17  R_RACE_label_ASIAN                                             140394 non-null  uint8  \n",
      " 18  R_RACE_label_BLACK_OR_AFRICAN_AMERICAN                         140394 non-null  uint8  \n",
      " 19  R_RACE_label_DONT_KNOW                                         140394 non-null  uint8  \n",
      " 20  R_RACE_label_MULTIPLE_RESPONSES_SELECTED                       140394 non-null  uint8  \n",
      " 21  R_RACE_label_NATIVE_HAWAIIAN_OR_OTHER_PACIFIC_ISLANDER         140394 non-null  uint8  \n",
      " 22  R_RACE_label_REFUSED                                           140394 non-null  uint8  \n",
      " 23  R_RACE_label_SOME_OTHER_RACE                                   140394 non-null  uint8  \n",
      " 24  R_RACE_label_WHITE                                             140394 non-null  uint8  \n",
      " 25  R_SEX_label_MALE                                               140394 non-null  uint8  \n",
      " 26  VEHOWNED_label_YES                                             140394 non-null  uint8  \n",
      " 27  WKFTPT_label_PARTTIME                                          140394 non-null  uint8  \n",
      " 28  WKRMHM_label_YES                                               140394 non-null  uint8  \n",
      " 29  CAR                                                            140394 non-null  float64\n",
      " 30  CARSHARE                                                       140394 non-null  float64\n",
      " 31  DRVRCNT                                                        140394 non-null  float64\n",
      " 32  EDUC                                                           140394 non-null  float64\n",
      " 33  HBPPOPDN                                                       140394 non-null  float64\n",
      " 34  HBRESDN                                                        140394 non-null  float64\n",
      " 35  HHFAMINC                                                       140394 non-null  float64\n",
      " 36  HHSIZE                                                         140394 non-null  float64\n",
      " 37  HHVEHCNT                                                       140394 non-null  float64\n",
      " 38  PLACE                                                          140394 non-null  float64\n",
      " 39  PRICE                                                          140394 non-null  float64\n",
      " 40  R_AGE                                                          140394 non-null  float64\n",
      " 41  TIMETOWK                                                       140394 non-null  float64\n",
      " 42  VEHAGE                                                         140394 non-null  float64\n",
      " 43  VEHOWNMO                                                       140394 non-null  float64\n",
      " 44  WRKCOUNT                                                       140394 non-null  float64\n",
      " 45  YEARMILE                                                       140394 non-null  float64\n",
      " 46  YOUNGCHILD                                                     140394 non-null  float64\n",
      "dtypes: float64(18), uint8(29)\n",
      "memory usage: 23.2 MB\n"
     ]
    }
   ],
   "source": [
    "X_train.info(verbose=True)"
   ]
  },
  {
   "cell_type": "code",
   "execution_count": 41,
   "metadata": {},
   "outputs": [
    {
     "name": "stdout",
     "output_type": "stream",
     "text": [
      "<class 'pandas.core.frame.DataFrame'>\n",
      "RangeIndex: 60170 entries, 0 to 60169\n",
      "Data columns (total 47 columns):\n",
      " #   Column                                                         Non-Null Count  Dtype  \n",
      "---  ------                                                         --------------  -----  \n",
      " 0   GT1JBLWK_label_YES                                             60170 non-null  uint8  \n",
      " 1   HBHUR_label_RURAL                                              60170 non-null  uint8  \n",
      " 2   HHSTATE_label_EAST_SOUTH_CENTRAL                               60170 non-null  uint8  \n",
      " 3   HHSTATE_label_MIDDLE_ATLANTIC                                  60170 non-null  uint8  \n",
      " 4   HHSTATE_label_MOUNTAIN                                         60170 non-null  uint8  \n",
      " 5   HHSTATE_label_NEW_ENGLAND                                      60170 non-null  uint8  \n",
      " 6   HHSTATE_label_PACIFIC                                          60170 non-null  uint8  \n",
      " 7   HHSTATE_label_SOUTH_ATLANTIC                                   60170 non-null  uint8  \n",
      " 8   HHSTATE_label_WEST_NORTH_CENTRAL                               60170 non-null  uint8  \n",
      " 9   HHSTATE_label_WEST_SOUTH_CENTRAL                               60170 non-null  uint8  \n",
      " 10  HOMEOWN_label_RENT                                             60170 non-null  uint8  \n",
      " 11  HOMEOWN_label_SOME_OTHER_ARRANGEMENT                           60170 non-null  uint8  \n",
      " 12  OCCAT_label_MANUFACTURING_CONSTRUCTION_MAINTENANCE_OR_FARMING  60170 non-null  uint8  \n",
      " 13  OCCAT_label_PROFESSIONAL_MANAGERIAL_OR_TECHNICAL               60170 non-null  uint8  \n",
      " 14  OCCAT_label_SALES_OR_SERVICE                                   60170 non-null  uint8  \n",
      " 15  OCCAT_label_SOMETHING_ELSE                                     60170 non-null  uint8  \n",
      " 16  R_HISP_label_YES_HISPANIC_OR_LATINO                            60170 non-null  uint8  \n",
      " 17  R_RACE_label_ASIAN                                             60170 non-null  uint8  \n",
      " 18  R_RACE_label_BLACK_OR_AFRICAN_AMERICAN                         60170 non-null  uint8  \n",
      " 19  R_RACE_label_DONT_KNOW                                         60170 non-null  uint8  \n",
      " 20  R_RACE_label_MULTIPLE_RESPONSES_SELECTED                       60170 non-null  uint8  \n",
      " 21  R_RACE_label_NATIVE_HAWAIIAN_OR_OTHER_PACIFIC_ISLANDER         60170 non-null  uint8  \n",
      " 22  R_RACE_label_REFUSED                                           60170 non-null  uint8  \n",
      " 23  R_RACE_label_SOME_OTHER_RACE                                   60170 non-null  uint8  \n",
      " 24  R_RACE_label_WHITE                                             60170 non-null  uint8  \n",
      " 25  R_SEX_label_MALE                                               60170 non-null  uint8  \n",
      " 26  VEHOWNED_label_YES                                             60170 non-null  uint8  \n",
      " 27  WKFTPT_label_PARTTIME                                          60170 non-null  uint8  \n",
      " 28  WKRMHM_label_YES                                               60170 non-null  uint8  \n",
      " 29  CAR                                                            60170 non-null  float64\n",
      " 30  CARSHARE                                                       60170 non-null  float64\n",
      " 31  DRVRCNT                                                        60170 non-null  float64\n",
      " 32  EDUC                                                           60170 non-null  float64\n",
      " 33  HBPPOPDN                                                       60170 non-null  float64\n",
      " 34  HBRESDN                                                        60170 non-null  float64\n",
      " 35  HHFAMINC                                                       60170 non-null  float64\n",
      " 36  HHSIZE                                                         60170 non-null  float64\n",
      " 37  HHVEHCNT                                                       60170 non-null  float64\n",
      " 38  PLACE                                                          60170 non-null  float64\n",
      " 39  PRICE                                                          60170 non-null  float64\n",
      " 40  R_AGE                                                          60170 non-null  float64\n",
      " 41  TIMETOWK                                                       60170 non-null  float64\n",
      " 42  VEHAGE                                                         60170 non-null  float64\n",
      " 43  VEHOWNMO                                                       60170 non-null  float64\n",
      " 44  WRKCOUNT                                                       60170 non-null  float64\n",
      " 45  YEARMILE                                                       60170 non-null  float64\n",
      " 46  YOUNGCHILD                                                     60170 non-null  float64\n",
      "dtypes: float64(18), uint8(29)\n",
      "memory usage: 9.9 MB\n"
     ]
    }
   ],
   "source": [
    "X_test.info(verbose=True)"
   ]
  },
  {
   "cell_type": "code",
   "execution_count": 42,
   "metadata": {},
   "outputs": [
    {
     "name": "stdout",
     "output_type": "stream",
     "text": [
      "The shape of the X_train features is (140394, 47)\n",
      "The shape of the X_test features is (60170, 47)\n"
     ]
    }
   ],
   "source": [
    "print(\"The shape of the X_train features is {0}\".format(X_train.shape))\n",
    "print(\"The shape of the X_test features is {0}\".format(X_test.shape))"
   ]
  },
  {
   "cell_type": "code",
   "execution_count": 43,
   "metadata": {},
   "outputs": [
    {
     "name": "stdout",
     "output_type": "stream",
     "text": [
      "The mean of y_train is 0.9702978759776059\n",
      "The variance of y_train is 0.02881990785086755\n"
     ]
    }
   ],
   "source": [
    "#Get mean and variance for train and test data\n",
    "print(\"The mean of y_train is {0}\".format(np.mean(y_train)))\n",
    "print(\"The variance of y_train is {0}\".format(np.var(y_train)))"
   ]
  },
  {
   "cell_type": "markdown",
   "metadata": {},
   "source": [
    "Could try approximating the model with Poisson..."
   ]
  },
  {
   "cell_type": "markdown",
   "metadata": {},
   "source": [
    "### Export Datasets"
   ]
  },
  {
   "cell_type": "code",
   "execution_count": 44,
   "metadata": {},
   "outputs": [],
   "source": [
    "X_train.to_csv(os.path.expanduser(os.path.join(BASE_DIR, \"Opposite/Data/X_train.csv\"))) "
   ]
  },
  {
   "cell_type": "code",
   "execution_count": 45,
   "metadata": {},
   "outputs": [],
   "source": [
    "X_test.to_csv(os.path.expanduser(os.path.join(BASE_DIR, \"Opposite/Data/X_test.csv\"))) "
   ]
  },
  {
   "cell_type": "code",
   "execution_count": 46,
   "metadata": {},
   "outputs": [],
   "source": [
    "y_train.to_csv(os.path.expanduser(os.path.join(BASE_DIR, \"Opposite/Data/y_train.csv\"))) "
   ]
  },
  {
   "cell_type": "code",
   "execution_count": 47,
   "metadata": {},
   "outputs": [],
   "source": [
    "y_test.to_csv(os.path.expanduser(os.path.join(BASE_DIR, \"Opposite/Data/y_test.csv\"))) "
   ]
  },
  {
   "cell_type": "code",
   "execution_count": null,
   "metadata": {},
   "outputs": [],
   "source": []
  }
 ],
 "metadata": {
  "kernelspec": {
   "display_name": "Python 3",
   "language": "python",
   "name": "python3"
  },
  "language_info": {
   "codemirror_mode": {
    "name": "ipython",
    "version": 3
   },
   "file_extension": ".py",
   "mimetype": "text/x-python",
   "name": "python",
   "nbconvert_exporter": "python",
   "pygments_lexer": "ipython3",
   "version": "3.7.6"
  }
 },
 "nbformat": 4,
 "nbformat_minor": 4
}
