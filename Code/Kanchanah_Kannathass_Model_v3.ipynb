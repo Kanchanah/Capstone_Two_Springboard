{
 "cells": [
  {
   "cell_type": "code",
   "execution_count": 1,
   "metadata": {},
   "outputs": [],
   "source": [
    "#import packages\n",
    "import numpy as np\n",
    "import pandas as pd\n",
    "import os\n",
    "\n",
    "import seaborn as sns\n",
    "import matplotlib.pyplot as plt\n",
    "from sklearn import impute\n",
    "\n",
    "from sklearn import model_selection\n",
    "from sklearn.model_selection import train_test_split\n",
    "from sklearn.model_selection import cross_val_score\n",
    "from sklearn.model_selection import GridSearchCV\n",
    "from sklearn.ensemble import RandomForestClassifier\n",
    "from sklearn.metrics import accuracy_score\n",
    "#from sklearn.svm import SVC\n",
    "#from sklearn.preprocessing import MinMaxScaler\n",
    "\n",
    "from sklearn.pipeline import Pipeline\n",
    "#from sklearn.linear_model import Lasso\n",
    "from sklearn import metrics\n",
    "#from scipy.stats import chi2\n",
    "#from sklearn.metrics import log_loss\n",
    "from sklearn.linear_model import LogisticRegression\n",
    "\n",
    "import statsmodels.api as sm"
   ]
  },
  {
   "cell_type": "markdown",
   "metadata": {},
   "source": [
    "## Import Datasets"
   ]
  },
  {
   "cell_type": "code",
   "execution_count": 2,
   "metadata": {},
   "outputs": [],
   "source": [
    "BASE_DIR = \"/Users/Avinash/Documents/Kanchanah/Springboard/Data_Science_Track/Capstone_Two_Other_Material/\"\n",
    "\n",
    "X_train = \"Data/X_train.csv\"\n",
    "X_test = \"Data/X_test.csv\"\n",
    "y_train = \"Data/y_train.csv\"\n",
    "y_test = \"Data/y_test.csv\""
   ]
  },
  {
   "cell_type": "code",
   "execution_count": 3,
   "metadata": {},
   "outputs": [],
   "source": [
    "X_train = pd.read_csv(os.path.expanduser(os.path.join(BASE_DIR, X_train)),index_col=0)\n",
    "X_test = pd.read_csv(os.path.expanduser(os.path.join(BASE_DIR, X_test)),index_col=0)\n",
    "y_train = pd.read_csv(os.path.expanduser(os.path.join(BASE_DIR, y_train)),index_col=0)\n",
    "y_test = pd.read_csv(os.path.expanduser(os.path.join(BASE_DIR, y_test)),index_col=0)"
   ]
  },
  {
   "cell_type": "code",
   "execution_count": 4,
   "metadata": {},
   "outputs": [
    {
     "data": {
      "text/html": [
       "<div>\n",
       "<style scoped>\n",
       "    .dataframe tbody tr th:only-of-type {\n",
       "        vertical-align: middle;\n",
       "    }\n",
       "\n",
       "    .dataframe tbody tr th {\n",
       "        vertical-align: top;\n",
       "    }\n",
       "\n",
       "    .dataframe thead th {\n",
       "        text-align: right;\n",
       "    }\n",
       "</style>\n",
       "<table border=\"1\" class=\"dataframe\">\n",
       "  <thead>\n",
       "    <tr style=\"text-align: right;\">\n",
       "      <th></th>\n",
       "      <th>CARSHARE</th>\n",
       "      <th>DRVRCNT</th>\n",
       "      <th>HHSIZE</th>\n",
       "      <th>HHVEHCNT</th>\n",
       "      <th>R_AGE</th>\n",
       "      <th>TIMETOWK</th>\n",
       "      <th>VEHAGE</th>\n",
       "      <th>VEHOWNMO</th>\n",
       "      <th>WRKCOUNT</th>\n",
       "      <th>YEARMILE</th>\n",
       "      <th>...</th>\n",
       "      <th>R_RACE_label_DONT_KNOW</th>\n",
       "      <th>R_RACE_label_MULTIPLE_RESPONSES_SELECTED</th>\n",
       "      <th>R_RACE_label_NATIVE_HAWAIIAN_OR_OTHER_PACIFIC_ISLANDER</th>\n",
       "      <th>R_RACE_label_REFUSED</th>\n",
       "      <th>R_RACE_label_SOME_OTHER_RACE</th>\n",
       "      <th>R_RACE_label_WHITE</th>\n",
       "      <th>R_SEX_label_MALE</th>\n",
       "      <th>VEHOWNED_label_YES</th>\n",
       "      <th>WKFTPT_label_PART-TIME</th>\n",
       "      <th>WKRMHM_label_YES</th>\n",
       "    </tr>\n",
       "  </thead>\n",
       "  <tbody>\n",
       "    <tr>\n",
       "      <th>0</th>\n",
       "      <td>0.0</td>\n",
       "      <td>0.000</td>\n",
       "      <td>0.000000</td>\n",
       "      <td>0.090909</td>\n",
       "      <td>0.609195</td>\n",
       "      <td>0.033333</td>\n",
       "      <td>0.000000</td>\n",
       "      <td>0.454545</td>\n",
       "      <td>0.142857</td>\n",
       "      <td>0.050</td>\n",
       "      <td>...</td>\n",
       "      <td>0</td>\n",
       "      <td>0</td>\n",
       "      <td>0</td>\n",
       "      <td>0</td>\n",
       "      <td>0</td>\n",
       "      <td>1</td>\n",
       "      <td>0</td>\n",
       "      <td>1</td>\n",
       "      <td>0</td>\n",
       "      <td>0</td>\n",
       "    </tr>\n",
       "    <tr>\n",
       "      <th>1</th>\n",
       "      <td>0.0</td>\n",
       "      <td>0.250</td>\n",
       "      <td>0.166667</td>\n",
       "      <td>0.090909</td>\n",
       "      <td>0.609195</td>\n",
       "      <td>0.033333</td>\n",
       "      <td>0.153846</td>\n",
       "      <td>0.454545</td>\n",
       "      <td>0.142857</td>\n",
       "      <td>0.050</td>\n",
       "      <td>...</td>\n",
       "      <td>0</td>\n",
       "      <td>0</td>\n",
       "      <td>0</td>\n",
       "      <td>0</td>\n",
       "      <td>0</td>\n",
       "      <td>0</td>\n",
       "      <td>1</td>\n",
       "      <td>1</td>\n",
       "      <td>0</td>\n",
       "      <td>0</td>\n",
       "    </tr>\n",
       "    <tr>\n",
       "      <th>2</th>\n",
       "      <td>0.0</td>\n",
       "      <td>0.125</td>\n",
       "      <td>0.083333</td>\n",
       "      <td>0.090909</td>\n",
       "      <td>0.666667</td>\n",
       "      <td>0.033333</td>\n",
       "      <td>0.000000</td>\n",
       "      <td>0.454545</td>\n",
       "      <td>0.000000</td>\n",
       "      <td>0.050</td>\n",
       "      <td>...</td>\n",
       "      <td>0</td>\n",
       "      <td>0</td>\n",
       "      <td>0</td>\n",
       "      <td>0</td>\n",
       "      <td>0</td>\n",
       "      <td>1</td>\n",
       "      <td>0</td>\n",
       "      <td>1</td>\n",
       "      <td>0</td>\n",
       "      <td>0</td>\n",
       "    </tr>\n",
       "    <tr>\n",
       "      <th>3</th>\n",
       "      <td>0.0</td>\n",
       "      <td>0.000</td>\n",
       "      <td>0.000000</td>\n",
       "      <td>0.000000</td>\n",
       "      <td>0.781609</td>\n",
       "      <td>0.033333</td>\n",
       "      <td>0.230769</td>\n",
       "      <td>0.454545</td>\n",
       "      <td>0.000000</td>\n",
       "      <td>0.005</td>\n",
       "      <td>...</td>\n",
       "      <td>0</td>\n",
       "      <td>0</td>\n",
       "      <td>0</td>\n",
       "      <td>0</td>\n",
       "      <td>0</td>\n",
       "      <td>1</td>\n",
       "      <td>1</td>\n",
       "      <td>1</td>\n",
       "      <td>0</td>\n",
       "      <td>0</td>\n",
       "    </tr>\n",
       "    <tr>\n",
       "      <th>4</th>\n",
       "      <td>0.0</td>\n",
       "      <td>0.125</td>\n",
       "      <td>0.250000</td>\n",
       "      <td>0.090909</td>\n",
       "      <td>0.344828</td>\n",
       "      <td>0.100000</td>\n",
       "      <td>0.333333</td>\n",
       "      <td>0.363636</td>\n",
       "      <td>0.285714</td>\n",
       "      <td>0.050</td>\n",
       "      <td>...</td>\n",
       "      <td>0</td>\n",
       "      <td>0</td>\n",
       "      <td>0</td>\n",
       "      <td>0</td>\n",
       "      <td>0</td>\n",
       "      <td>0</td>\n",
       "      <td>1</td>\n",
       "      <td>0</td>\n",
       "      <td>0</td>\n",
       "      <td>0</td>\n",
       "    </tr>\n",
       "  </tbody>\n",
       "</table>\n",
       "<p>5 rows × 125 columns</p>\n",
       "</div>"
      ],
      "text/plain": [
       "   CARSHARE  DRVRCNT    HHSIZE  HHVEHCNT     R_AGE  TIMETOWK    VEHAGE  \\\n",
       "0       0.0    0.000  0.000000  0.090909  0.609195  0.033333  0.000000   \n",
       "1       0.0    0.250  0.166667  0.090909  0.609195  0.033333  0.153846   \n",
       "2       0.0    0.125  0.083333  0.090909  0.666667  0.033333  0.000000   \n",
       "3       0.0    0.000  0.000000  0.000000  0.781609  0.033333  0.230769   \n",
       "4       0.0    0.125  0.250000  0.090909  0.344828  0.100000  0.333333   \n",
       "\n",
       "   VEHOWNMO  WRKCOUNT  YEARMILE  ...  R_RACE_label_DONT_KNOW  \\\n",
       "0  0.454545  0.142857     0.050  ...                       0   \n",
       "1  0.454545  0.142857     0.050  ...                       0   \n",
       "2  0.454545  0.000000     0.050  ...                       0   \n",
       "3  0.454545  0.000000     0.005  ...                       0   \n",
       "4  0.363636  0.285714     0.050  ...                       0   \n",
       "\n",
       "   R_RACE_label_MULTIPLE_RESPONSES_SELECTED  \\\n",
       "0                                         0   \n",
       "1                                         0   \n",
       "2                                         0   \n",
       "3                                         0   \n",
       "4                                         0   \n",
       "\n",
       "   R_RACE_label_NATIVE_HAWAIIAN_OR_OTHER_PACIFIC_ISLANDER  \\\n",
       "0                                                  0        \n",
       "1                                                  0        \n",
       "2                                                  0        \n",
       "3                                                  0        \n",
       "4                                                  0        \n",
       "\n",
       "   R_RACE_label_REFUSED  R_RACE_label_SOME_OTHER_RACE  R_RACE_label_WHITE  \\\n",
       "0                     0                             0                   1   \n",
       "1                     0                             0                   0   \n",
       "2                     0                             0                   1   \n",
       "3                     0                             0                   1   \n",
       "4                     0                             0                   0   \n",
       "\n",
       "   R_SEX_label_MALE  VEHOWNED_label_YES  WKFTPT_label_PART-TIME  \\\n",
       "0                 0                   1                       0   \n",
       "1                 1                   1                       0   \n",
       "2                 0                   1                       0   \n",
       "3                 1                   1                       0   \n",
       "4                 1                   0                       0   \n",
       "\n",
       "   WKRMHM_label_YES  \n",
       "0                 0  \n",
       "1                 0  \n",
       "2                 0  \n",
       "3                 0  \n",
       "4                 0  \n",
       "\n",
       "[5 rows x 125 columns]"
      ]
     },
     "execution_count": 4,
     "metadata": {},
     "output_type": "execute_result"
    }
   ],
   "source": [
    "X_train.head()"
   ]
  },
  {
   "cell_type": "code",
   "execution_count": 5,
   "metadata": {},
   "outputs": [
    {
     "name": "stdout",
     "output_type": "stream",
     "text": [
      "<class 'pandas.core.frame.DataFrame'>\n",
      "Int64Index: 140394 entries, 0 to 140393\n",
      "Data columns (total 125 columns):\n",
      " #   Column                                                         Dtype  \n",
      "---  ------                                                         -----  \n",
      " 0   CARSHARE                                                       float64\n",
      " 1   DRVRCNT                                                        float64\n",
      " 2   HHSIZE                                                         float64\n",
      " 3   HHVEHCNT                                                       float64\n",
      " 4   R_AGE                                                          float64\n",
      " 5   TIMETOWK                                                       float64\n",
      " 6   VEHAGE                                                         float64\n",
      " 7   VEHOWNMO                                                       float64\n",
      " 8   WRKCOUNT                                                       float64\n",
      " 9   YEARMILE                                                       float64\n",
      " 10  YOUNGCHILD                                                     float64\n",
      " 11  CAR_label_A_FEW_TIMES_A_WEEK                                   int64  \n",
      " 12  CAR_label_A_FEW_TIMES_A_YEAR                                   int64  \n",
      " 13  CAR_label_DAILY                                                int64  \n",
      " 14  CAR_label_NEVER                                                int64  \n",
      " 15  EDUC_label_GRADUATE_DEGREE_OR_PROFESSIONAL_DEGREE              int64  \n",
      " 16  EDUC_label_HIGH_SCHOOL_GRADUATE_OR_GED                         int64  \n",
      " 17  EDUC_label_LESS_THAN_A_HIGH_SCHOOL_GRADUATE                    int64  \n",
      " 18  EDUC_label_SOME_COLLEGE_OR_ASSOCIATES_DEGREE                   int64  \n",
      " 19  GT1JBLWK_label_YES                                             int64  \n",
      " 20  HBHUR_label_SECOND_CITY                                        int64  \n",
      " 21  HBHUR_label_SMALL_TOWN                                         int64  \n",
      " 22  HBHUR_label_SUBURBAN                                           int64  \n",
      " 23  HBHUR_label_URBAN                                              int64  \n",
      " 24  HBPPOPDN_label_1000-1999                                       int64  \n",
      " 25  HBPPOPDN_label_10000-24999                                     int64  \n",
      " 26  HBPPOPDN_label_100-499                                         int64  \n",
      " 27  HBPPOPDN_label_2000-3999                                       int64  \n",
      " 28  HBPPOPDN_label_25000-999999                                    int64  \n",
      " 29  HBPPOPDN_label_4000-9999                                       int64  \n",
      " 30  HBPPOPDN_label_500-999                                         int64  \n",
      " 31  HBRESDN_label_1000-1999                                        int64  \n",
      " 32  HBRESDN_label_10000-24999                                      int64  \n",
      " 33  HBRESDN_label_100-499                                          int64  \n",
      " 34  HBRESDN_label_2000-3999                                        int64  \n",
      " 35  HBRESDN_label_25000-999999                                     int64  \n",
      " 36  HBRESDN_label_4000-9999                                        int64  \n",
      " 37  HBRESDN_label_500-999                                          int64  \n",
      " 38  HHFAMINC_label_100000_TO_124999                                int64  \n",
      " 39  HHFAMINC_label_125000_TO_149999                                int64  \n",
      " 40  HHFAMINC_label_15000_TO_24999                                  int64  \n",
      " 41  HHFAMINC_label_150000_TO_199999                                int64  \n",
      " 42  HHFAMINC_label_200000_OR_MORE                                  int64  \n",
      " 43  HHFAMINC_label_25000_TO_34999                                  int64  \n",
      " 44  HHFAMINC_label_35000_TO_49999                                  int64  \n",
      " 45  HHFAMINC_label_50000_TO_74999                                  int64  \n",
      " 46  HHFAMINC_label_75000_TO_99999                                  int64  \n",
      " 47  HHFAMINC_label_LESS_THAN_10000                                 int64  \n",
      " 48  HHSTATE_label_AL                                               int64  \n",
      " 49  HHSTATE_label_AR                                               int64  \n",
      " 50  HHSTATE_label_AZ                                               int64  \n",
      " 51  HHSTATE_label_CA                                               int64  \n",
      " 52  HHSTATE_label_CO                                               int64  \n",
      " 53  HHSTATE_label_CT                                               int64  \n",
      " 54  HHSTATE_label_DC                                               int64  \n",
      " 55  HHSTATE_label_DE                                               int64  \n",
      " 56  HHSTATE_label_FL                                               int64  \n",
      " 57  HHSTATE_label_GA                                               int64  \n",
      " 58  HHSTATE_label_HI                                               int64  \n",
      " 59  HHSTATE_label_IA                                               int64  \n",
      " 60  HHSTATE_label_ID                                               int64  \n",
      " 61  HHSTATE_label_IL                                               int64  \n",
      " 62  HHSTATE_label_IN                                               int64  \n",
      " 63  HHSTATE_label_KS                                               int64  \n",
      " 64  HHSTATE_label_KY                                               int64  \n",
      " 65  HHSTATE_label_LA                                               int64  \n",
      " 66  HHSTATE_label_MA                                               int64  \n",
      " 67  HHSTATE_label_MD                                               int64  \n",
      " 68  HHSTATE_label_ME                                               int64  \n",
      " 69  HHSTATE_label_MI                                               int64  \n",
      " 70  HHSTATE_label_MN                                               int64  \n",
      " 71  HHSTATE_label_MO                                               int64  \n",
      " 72  HHSTATE_label_MS                                               int64  \n",
      " 73  HHSTATE_label_MT                                               int64  \n",
      " 74  HHSTATE_label_NC                                               int64  \n",
      " 75  HHSTATE_label_ND                                               int64  \n",
      " 76  HHSTATE_label_NE                                               int64  \n",
      " 77  HHSTATE_label_NH                                               int64  \n",
      " 78  HHSTATE_label_NJ                                               int64  \n",
      " 79  HHSTATE_label_NM                                               int64  \n",
      " 80  HHSTATE_label_NV                                               int64  \n",
      " 81  HHSTATE_label_NY                                               int64  \n",
      " 82  HHSTATE_label_OH                                               int64  \n",
      " 83  HHSTATE_label_OK                                               int64  \n",
      " 84  HHSTATE_label_OR                                               int64  \n",
      " 85  HHSTATE_label_PA                                               int64  \n",
      " 86  HHSTATE_label_RI                                               int64  \n",
      " 87  HHSTATE_label_SC                                               int64  \n",
      " 88  HHSTATE_label_SD                                               int64  \n",
      " 89  HHSTATE_label_TN                                               int64  \n",
      " 90  HHSTATE_label_TX                                               int64  \n",
      " 91  HHSTATE_label_UT                                               int64  \n",
      " 92  HHSTATE_label_VA                                               int64  \n",
      " 93  HHSTATE_label_VT                                               int64  \n",
      " 94  HHSTATE_label_WA                                               int64  \n",
      " 95  HHSTATE_label_WI                                               int64  \n",
      " 96  HHSTATE_label_WV                                               int64  \n",
      " 97  HHSTATE_label_WY                                               int64  \n",
      " 98  HOMEOWN_label_RENT                                             int64  \n",
      " 99  HOMEOWN_label_SOME_OTHER_ARRANGEMENT                           int64  \n",
      " 100 OCCAT_label_MANUFACTURING_CONSTRUCTION_MAINTENANCE_OR_FARMING  int64  \n",
      " 101 OCCAT_label_PROFESSIONAL_MANAGERIAL_OR_TECHNICAL               int64  \n",
      " 102 OCCAT_label_SALES_OR_SERVICE                                   int64  \n",
      " 103 OCCAT_label_SOMETHING_ELSE                                     int64  \n",
      " 104 PLACE_label_DISAGREE                                           int64  \n",
      " 105 PLACE_label_NEITHER_AGREE_OR_DISAGREE                          int64  \n",
      " 106 PLACE_label_STRONGLY_AGREE                                     int64  \n",
      " 107 PLACE_label_STRONGLY_DISAGREE                                  int64  \n",
      " 108 PRICE_label_DISAGREE                                           int64  \n",
      " 109 PRICE_label_NEITHER_AGREE_OR_DISAGREE                          int64  \n",
      " 110 PRICE_label_STRONGLY_AGREE                                     int64  \n",
      " 111 PRICE_label_STRONGLY_DISAGREE                                  int64  \n",
      " 112 R_HISP_label_YES_HISPANIC_OR_LATINO                            int64  \n",
      " 113 R_RACE_label_ASIAN                                             int64  \n",
      " 114 R_RACE_label_BLACK_OR_AFRICAN_AMERICAN                         int64  \n",
      " 115 R_RACE_label_DONT_KNOW                                         int64  \n",
      " 116 R_RACE_label_MULTIPLE_RESPONSES_SELECTED                       int64  \n",
      " 117 R_RACE_label_NATIVE_HAWAIIAN_OR_OTHER_PACIFIC_ISLANDER         int64  \n",
      " 118 R_RACE_label_REFUSED                                           int64  \n",
      " 119 R_RACE_label_SOME_OTHER_RACE                                   int64  \n",
      " 120 R_RACE_label_WHITE                                             int64  \n",
      " 121 R_SEX_label_MALE                                               int64  \n",
      " 122 VEHOWNED_label_YES                                             int64  \n",
      " 123 WKFTPT_label_PART-TIME                                         int64  \n",
      " 124 WKRMHM_label_YES                                               int64  \n",
      "dtypes: float64(11), int64(114)\n",
      "memory usage: 135.0 MB\n"
     ]
    }
   ],
   "source": [
    "X_train.info(verbose=True)"
   ]
  },
  {
   "cell_type": "code",
   "execution_count": 6,
   "metadata": {},
   "outputs": [
    {
     "data": {
      "text/plain": [
       "(140394, 125)"
      ]
     },
     "execution_count": 6,
     "metadata": {},
     "output_type": "execute_result"
    }
   ],
   "source": [
    "X_train.shape"
   ]
  },
  {
   "cell_type": "code",
   "execution_count": 7,
   "metadata": {},
   "outputs": [
    {
     "data": {
      "text/html": [
       "<div>\n",
       "<style scoped>\n",
       "    .dataframe tbody tr th:only-of-type {\n",
       "        vertical-align: middle;\n",
       "    }\n",
       "\n",
       "    .dataframe tbody tr th {\n",
       "        vertical-align: top;\n",
       "    }\n",
       "\n",
       "    .dataframe thead th {\n",
       "        text-align: right;\n",
       "    }\n",
       "</style>\n",
       "<table border=\"1\" class=\"dataframe\">\n",
       "  <thead>\n",
       "    <tr style=\"text-align: right;\">\n",
       "      <th></th>\n",
       "      <th>CARSHARE</th>\n",
       "      <th>DRVRCNT</th>\n",
       "      <th>HHSIZE</th>\n",
       "      <th>HHVEHCNT</th>\n",
       "      <th>R_AGE</th>\n",
       "      <th>TIMETOWK</th>\n",
       "      <th>VEHAGE</th>\n",
       "      <th>VEHOWNMO</th>\n",
       "      <th>WRKCOUNT</th>\n",
       "      <th>YEARMILE</th>\n",
       "      <th>...</th>\n",
       "      <th>R_RACE_label_DONT_KNOW</th>\n",
       "      <th>R_RACE_label_MULTIPLE_RESPONSES_SELECTED</th>\n",
       "      <th>R_RACE_label_NATIVE_HAWAIIAN_OR_OTHER_PACIFIC_ISLANDER</th>\n",
       "      <th>R_RACE_label_REFUSED</th>\n",
       "      <th>R_RACE_label_SOME_OTHER_RACE</th>\n",
       "      <th>R_RACE_label_WHITE</th>\n",
       "      <th>R_SEX_label_MALE</th>\n",
       "      <th>VEHOWNED_label_YES</th>\n",
       "      <th>WKFTPT_label_PART-TIME</th>\n",
       "      <th>WKRMHM_label_YES</th>\n",
       "    </tr>\n",
       "  </thead>\n",
       "  <tbody>\n",
       "    <tr>\n",
       "      <th>0</th>\n",
       "      <td>0.0</td>\n",
       "      <td>0.125</td>\n",
       "      <td>0.083333</td>\n",
       "      <td>0.181818</td>\n",
       "      <td>0.252874</td>\n",
       "      <td>0.025000</td>\n",
       "      <td>0.076923</td>\n",
       "      <td>0.454545</td>\n",
       "      <td>0.285714</td>\n",
       "      <td>0.065</td>\n",
       "      <td>...</td>\n",
       "      <td>0</td>\n",
       "      <td>0</td>\n",
       "      <td>0</td>\n",
       "      <td>0</td>\n",
       "      <td>0</td>\n",
       "      <td>1</td>\n",
       "      <td>0</td>\n",
       "      <td>1</td>\n",
       "      <td>0</td>\n",
       "      <td>1</td>\n",
       "    </tr>\n",
       "    <tr>\n",
       "      <th>1</th>\n",
       "      <td>0.0</td>\n",
       "      <td>0.125</td>\n",
       "      <td>0.083333</td>\n",
       "      <td>0.181818</td>\n",
       "      <td>0.689655</td>\n",
       "      <td>0.033333</td>\n",
       "      <td>0.076923</td>\n",
       "      <td>0.363636</td>\n",
       "      <td>0.000000</td>\n",
       "      <td>0.015</td>\n",
       "      <td>...</td>\n",
       "      <td>0</td>\n",
       "      <td>0</td>\n",
       "      <td>0</td>\n",
       "      <td>0</td>\n",
       "      <td>0</td>\n",
       "      <td>1</td>\n",
       "      <td>1</td>\n",
       "      <td>0</td>\n",
       "      <td>0</td>\n",
       "      <td>0</td>\n",
       "    </tr>\n",
       "    <tr>\n",
       "      <th>2</th>\n",
       "      <td>0.0</td>\n",
       "      <td>0.000</td>\n",
       "      <td>0.250000</td>\n",
       "      <td>0.000000</td>\n",
       "      <td>0.310345</td>\n",
       "      <td>0.033333</td>\n",
       "      <td>0.384615</td>\n",
       "      <td>0.909091</td>\n",
       "      <td>0.142857</td>\n",
       "      <td>0.050</td>\n",
       "      <td>...</td>\n",
       "      <td>0</td>\n",
       "      <td>0</td>\n",
       "      <td>0</td>\n",
       "      <td>0</td>\n",
       "      <td>0</td>\n",
       "      <td>1</td>\n",
       "      <td>0</td>\n",
       "      <td>0</td>\n",
       "      <td>0</td>\n",
       "      <td>0</td>\n",
       "    </tr>\n",
       "    <tr>\n",
       "      <th>3</th>\n",
       "      <td>0.0</td>\n",
       "      <td>0.125</td>\n",
       "      <td>0.083333</td>\n",
       "      <td>0.090909</td>\n",
       "      <td>0.724138</td>\n",
       "      <td>0.075000</td>\n",
       "      <td>0.410256</td>\n",
       "      <td>0.454545</td>\n",
       "      <td>0.285714</td>\n",
       "      <td>0.025</td>\n",
       "      <td>...</td>\n",
       "      <td>0</td>\n",
       "      <td>0</td>\n",
       "      <td>0</td>\n",
       "      <td>0</td>\n",
       "      <td>0</td>\n",
       "      <td>1</td>\n",
       "      <td>1</td>\n",
       "      <td>1</td>\n",
       "      <td>1</td>\n",
       "      <td>0</td>\n",
       "    </tr>\n",
       "    <tr>\n",
       "      <th>4</th>\n",
       "      <td>0.0</td>\n",
       "      <td>0.125</td>\n",
       "      <td>0.250000</td>\n",
       "      <td>0.090909</td>\n",
       "      <td>0.356322</td>\n",
       "      <td>0.025000</td>\n",
       "      <td>0.025641</td>\n",
       "      <td>0.454545</td>\n",
       "      <td>0.142857</td>\n",
       "      <td>0.090</td>\n",
       "      <td>...</td>\n",
       "      <td>0</td>\n",
       "      <td>0</td>\n",
       "      <td>0</td>\n",
       "      <td>0</td>\n",
       "      <td>0</td>\n",
       "      <td>1</td>\n",
       "      <td>1</td>\n",
       "      <td>1</td>\n",
       "      <td>0</td>\n",
       "      <td>1</td>\n",
       "    </tr>\n",
       "  </tbody>\n",
       "</table>\n",
       "<p>5 rows × 125 columns</p>\n",
       "</div>"
      ],
      "text/plain": [
       "   CARSHARE  DRVRCNT    HHSIZE  HHVEHCNT     R_AGE  TIMETOWK    VEHAGE  \\\n",
       "0       0.0    0.125  0.083333  0.181818  0.252874  0.025000  0.076923   \n",
       "1       0.0    0.125  0.083333  0.181818  0.689655  0.033333  0.076923   \n",
       "2       0.0    0.000  0.250000  0.000000  0.310345  0.033333  0.384615   \n",
       "3       0.0    0.125  0.083333  0.090909  0.724138  0.075000  0.410256   \n",
       "4       0.0    0.125  0.250000  0.090909  0.356322  0.025000  0.025641   \n",
       "\n",
       "   VEHOWNMO  WRKCOUNT  YEARMILE  ...  R_RACE_label_DONT_KNOW  \\\n",
       "0  0.454545  0.285714     0.065  ...                       0   \n",
       "1  0.363636  0.000000     0.015  ...                       0   \n",
       "2  0.909091  0.142857     0.050  ...                       0   \n",
       "3  0.454545  0.285714     0.025  ...                       0   \n",
       "4  0.454545  0.142857     0.090  ...                       0   \n",
       "\n",
       "   R_RACE_label_MULTIPLE_RESPONSES_SELECTED  \\\n",
       "0                                         0   \n",
       "1                                         0   \n",
       "2                                         0   \n",
       "3                                         0   \n",
       "4                                         0   \n",
       "\n",
       "   R_RACE_label_NATIVE_HAWAIIAN_OR_OTHER_PACIFIC_ISLANDER  \\\n",
       "0                                                  0        \n",
       "1                                                  0        \n",
       "2                                                  0        \n",
       "3                                                  0        \n",
       "4                                                  0        \n",
       "\n",
       "   R_RACE_label_REFUSED  R_RACE_label_SOME_OTHER_RACE  R_RACE_label_WHITE  \\\n",
       "0                     0                             0                   1   \n",
       "1                     0                             0                   1   \n",
       "2                     0                             0                   1   \n",
       "3                     0                             0                   1   \n",
       "4                     0                             0                   1   \n",
       "\n",
       "   R_SEX_label_MALE  VEHOWNED_label_YES  WKFTPT_label_PART-TIME  \\\n",
       "0                 0                   1                       0   \n",
       "1                 1                   0                       0   \n",
       "2                 0                   0                       0   \n",
       "3                 1                   1                       1   \n",
       "4                 1                   1                       0   \n",
       "\n",
       "   WKRMHM_label_YES  \n",
       "0                 1  \n",
       "1                 0  \n",
       "2                 0  \n",
       "3                 0  \n",
       "4                 1  \n",
       "\n",
       "[5 rows x 125 columns]"
      ]
     },
     "execution_count": 7,
     "metadata": {},
     "output_type": "execute_result"
    }
   ],
   "source": [
    "X_test.head()"
   ]
  },
  {
   "cell_type": "code",
   "execution_count": 8,
   "metadata": {},
   "outputs": [
    {
     "name": "stdout",
     "output_type": "stream",
     "text": [
      "<class 'pandas.core.frame.DataFrame'>\n",
      "Int64Index: 60170 entries, 0 to 60169\n",
      "Data columns (total 125 columns):\n",
      " #   Column                                                         Dtype  \n",
      "---  ------                                                         -----  \n",
      " 0   CARSHARE                                                       float64\n",
      " 1   DRVRCNT                                                        float64\n",
      " 2   HHSIZE                                                         float64\n",
      " 3   HHVEHCNT                                                       float64\n",
      " 4   R_AGE                                                          float64\n",
      " 5   TIMETOWK                                                       float64\n",
      " 6   VEHAGE                                                         float64\n",
      " 7   VEHOWNMO                                                       float64\n",
      " 8   WRKCOUNT                                                       float64\n",
      " 9   YEARMILE                                                       float64\n",
      " 10  YOUNGCHILD                                                     float64\n",
      " 11  CAR_label_A_FEW_TIMES_A_WEEK                                   int64  \n",
      " 12  CAR_label_A_FEW_TIMES_A_YEAR                                   int64  \n",
      " 13  CAR_label_DAILY                                                int64  \n",
      " 14  CAR_label_NEVER                                                int64  \n",
      " 15  EDUC_label_GRADUATE_DEGREE_OR_PROFESSIONAL_DEGREE              int64  \n",
      " 16  EDUC_label_HIGH_SCHOOL_GRADUATE_OR_GED                         int64  \n",
      " 17  EDUC_label_LESS_THAN_A_HIGH_SCHOOL_GRADUATE                    int64  \n",
      " 18  EDUC_label_SOME_COLLEGE_OR_ASSOCIATES_DEGREE                   int64  \n",
      " 19  GT1JBLWK_label_YES                                             int64  \n",
      " 20  HBHUR_label_SECOND_CITY                                        int64  \n",
      " 21  HBHUR_label_SMALL_TOWN                                         int64  \n",
      " 22  HBHUR_label_SUBURBAN                                           int64  \n",
      " 23  HBHUR_label_URBAN                                              int64  \n",
      " 24  HBPPOPDN_label_1000-1999                                       int64  \n",
      " 25  HBPPOPDN_label_10000-24999                                     int64  \n",
      " 26  HBPPOPDN_label_100-499                                         int64  \n",
      " 27  HBPPOPDN_label_2000-3999                                       int64  \n",
      " 28  HBPPOPDN_label_25000-999999                                    int64  \n",
      " 29  HBPPOPDN_label_4000-9999                                       int64  \n",
      " 30  HBPPOPDN_label_500-999                                         int64  \n",
      " 31  HBRESDN_label_1000-1999                                        int64  \n",
      " 32  HBRESDN_label_10000-24999                                      int64  \n",
      " 33  HBRESDN_label_100-499                                          int64  \n",
      " 34  HBRESDN_label_2000-3999                                        int64  \n",
      " 35  HBRESDN_label_25000-999999                                     int64  \n",
      " 36  HBRESDN_label_4000-9999                                        int64  \n",
      " 37  HBRESDN_label_500-999                                          int64  \n",
      " 38  HHFAMINC_label_100000_TO_124999                                int64  \n",
      " 39  HHFAMINC_label_125000_TO_149999                                int64  \n",
      " 40  HHFAMINC_label_15000_TO_24999                                  int64  \n",
      " 41  HHFAMINC_label_150000_TO_199999                                int64  \n",
      " 42  HHFAMINC_label_200000_OR_MORE                                  int64  \n",
      " 43  HHFAMINC_label_25000_TO_34999                                  int64  \n",
      " 44  HHFAMINC_label_35000_TO_49999                                  int64  \n",
      " 45  HHFAMINC_label_50000_TO_74999                                  int64  \n",
      " 46  HHFAMINC_label_75000_TO_99999                                  int64  \n",
      " 47  HHFAMINC_label_LESS_THAN_10000                                 int64  \n",
      " 48  HHSTATE_label_AL                                               int64  \n",
      " 49  HHSTATE_label_AR                                               int64  \n",
      " 50  HHSTATE_label_AZ                                               int64  \n",
      " 51  HHSTATE_label_CA                                               int64  \n",
      " 52  HHSTATE_label_CO                                               int64  \n",
      " 53  HHSTATE_label_CT                                               int64  \n",
      " 54  HHSTATE_label_DC                                               int64  \n",
      " 55  HHSTATE_label_DE                                               int64  \n",
      " 56  HHSTATE_label_FL                                               int64  \n",
      " 57  HHSTATE_label_GA                                               int64  \n",
      " 58  HHSTATE_label_HI                                               int64  \n",
      " 59  HHSTATE_label_IA                                               int64  \n",
      " 60  HHSTATE_label_ID                                               int64  \n",
      " 61  HHSTATE_label_IL                                               int64  \n",
      " 62  HHSTATE_label_IN                                               int64  \n",
      " 63  HHSTATE_label_KS                                               int64  \n",
      " 64  HHSTATE_label_KY                                               int64  \n",
      " 65  HHSTATE_label_LA                                               int64  \n",
      " 66  HHSTATE_label_MA                                               int64  \n",
      " 67  HHSTATE_label_MD                                               int64  \n",
      " 68  HHSTATE_label_ME                                               int64  \n",
      " 69  HHSTATE_label_MI                                               int64  \n",
      " 70  HHSTATE_label_MN                                               int64  \n",
      " 71  HHSTATE_label_MO                                               int64  \n",
      " 72  HHSTATE_label_MS                                               int64  \n",
      " 73  HHSTATE_label_MT                                               int64  \n",
      " 74  HHSTATE_label_NC                                               int64  \n",
      " 75  HHSTATE_label_ND                                               int64  \n",
      " 76  HHSTATE_label_NE                                               int64  \n",
      " 77  HHSTATE_label_NH                                               int64  \n",
      " 78  HHSTATE_label_NJ                                               int64  \n",
      " 79  HHSTATE_label_NM                                               int64  \n",
      " 80  HHSTATE_label_NV                                               int64  \n",
      " 81  HHSTATE_label_NY                                               int64  \n",
      " 82  HHSTATE_label_OH                                               int64  \n",
      " 83  HHSTATE_label_OK                                               int64  \n",
      " 84  HHSTATE_label_OR                                               int64  \n",
      " 85  HHSTATE_label_PA                                               int64  \n",
      " 86  HHSTATE_label_RI                                               int64  \n",
      " 87  HHSTATE_label_SC                                               int64  \n",
      " 88  HHSTATE_label_SD                                               int64  \n",
      " 89  HHSTATE_label_TN                                               int64  \n",
      " 90  HHSTATE_label_TX                                               int64  \n",
      " 91  HHSTATE_label_UT                                               int64  \n",
      " 92  HHSTATE_label_VA                                               int64  \n",
      " 93  HHSTATE_label_VT                                               int64  \n",
      " 94  HHSTATE_label_WA                                               int64  \n",
      " 95  HHSTATE_label_WI                                               int64  \n",
      " 96  HHSTATE_label_WV                                               int64  \n",
      " 97  HHSTATE_label_WY                                               int64  \n",
      " 98  HOMEOWN_label_RENT                                             int64  \n",
      " 99  HOMEOWN_label_SOME_OTHER_ARRANGEMENT                           int64  \n",
      " 100 OCCAT_label_MANUFACTURING_CONSTRUCTION_MAINTENANCE_OR_FARMING  int64  \n",
      " 101 OCCAT_label_PROFESSIONAL_MANAGERIAL_OR_TECHNICAL               int64  \n",
      " 102 OCCAT_label_SALES_OR_SERVICE                                   int64  \n",
      " 103 OCCAT_label_SOMETHING_ELSE                                     int64  \n",
      " 104 PLACE_label_DISAGREE                                           int64  \n",
      " 105 PLACE_label_NEITHER_AGREE_OR_DISAGREE                          int64  \n",
      " 106 PLACE_label_STRONGLY_AGREE                                     int64  \n",
      " 107 PLACE_label_STRONGLY_DISAGREE                                  int64  \n",
      " 108 PRICE_label_DISAGREE                                           int64  \n",
      " 109 PRICE_label_NEITHER_AGREE_OR_DISAGREE                          int64  \n",
      " 110 PRICE_label_STRONGLY_AGREE                                     int64  \n",
      " 111 PRICE_label_STRONGLY_DISAGREE                                  int64  \n",
      " 112 R_HISP_label_YES_HISPANIC_OR_LATINO                            int64  \n",
      " 113 R_RACE_label_ASIAN                                             int64  \n",
      " 114 R_RACE_label_BLACK_OR_AFRICAN_AMERICAN                         int64  \n",
      " 115 R_RACE_label_DONT_KNOW                                         int64  \n",
      " 116 R_RACE_label_MULTIPLE_RESPONSES_SELECTED                       int64  \n",
      " 117 R_RACE_label_NATIVE_HAWAIIAN_OR_OTHER_PACIFIC_ISLANDER         int64  \n",
      " 118 R_RACE_label_REFUSED                                           int64  \n",
      " 119 R_RACE_label_SOME_OTHER_RACE                                   int64  \n",
      " 120 R_RACE_label_WHITE                                             int64  \n",
      " 121 R_SEX_label_MALE                                               int64  \n",
      " 122 VEHOWNED_label_YES                                             int64  \n",
      " 123 WKFTPT_label_PART-TIME                                         int64  \n",
      " 124 WKRMHM_label_YES                                               int64  \n",
      "dtypes: float64(11), int64(114)\n",
      "memory usage: 57.8 MB\n"
     ]
    }
   ],
   "source": [
    "X_test.info(verbose=True)"
   ]
  },
  {
   "cell_type": "code",
   "execution_count": 9,
   "metadata": {},
   "outputs": [
    {
     "data": {
      "text/plain": [
       "(60170, 125)"
      ]
     },
     "execution_count": 9,
     "metadata": {},
     "output_type": "execute_result"
    }
   ],
   "source": [
    "X_test.shape"
   ]
  },
  {
   "cell_type": "code",
   "execution_count": 10,
   "metadata": {},
   "outputs": [
    {
     "data": {
      "text/html": [
       "<div>\n",
       "<style scoped>\n",
       "    .dataframe tbody tr th:only-of-type {\n",
       "        vertical-align: middle;\n",
       "    }\n",
       "\n",
       "    .dataframe tbody tr th {\n",
       "        vertical-align: top;\n",
       "    }\n",
       "\n",
       "    .dataframe thead th {\n",
       "        text-align: right;\n",
       "    }\n",
       "</style>\n",
       "<table border=\"1\" class=\"dataframe\">\n",
       "  <thead>\n",
       "    <tr style=\"text-align: right;\">\n",
       "      <th></th>\n",
       "      <th>CARSHARE</th>\n",
       "      <th>DRVRCNT</th>\n",
       "      <th>HHSIZE</th>\n",
       "      <th>HHVEHCNT</th>\n",
       "      <th>R_AGE</th>\n",
       "      <th>TIMETOWK</th>\n",
       "      <th>VEHAGE</th>\n",
       "      <th>VEHOWNMO</th>\n",
       "      <th>WRKCOUNT</th>\n",
       "      <th>YEARMILE</th>\n",
       "      <th>...</th>\n",
       "      <th>R_RACE_label_DONT_KNOW</th>\n",
       "      <th>R_RACE_label_MULTIPLE_RESPONSES_SELECTED</th>\n",
       "      <th>R_RACE_label_NATIVE_HAWAIIAN_OR_OTHER_PACIFIC_ISLANDER</th>\n",
       "      <th>R_RACE_label_REFUSED</th>\n",
       "      <th>R_RACE_label_SOME_OTHER_RACE</th>\n",
       "      <th>R_RACE_label_WHITE</th>\n",
       "      <th>R_SEX_label_MALE</th>\n",
       "      <th>VEHOWNED_label_YES</th>\n",
       "      <th>WKFTPT_label_PART-TIME</th>\n",
       "      <th>WKRMHM_label_YES</th>\n",
       "    </tr>\n",
       "  </thead>\n",
       "  <tbody>\n",
       "    <tr>\n",
       "      <th>0</th>\n",
       "      <td>0.0</td>\n",
       "      <td>0.125</td>\n",
       "      <td>0.083333</td>\n",
       "      <td>0.181818</td>\n",
       "      <td>0.252874</td>\n",
       "      <td>0.025000</td>\n",
       "      <td>0.076923</td>\n",
       "      <td>0.454545</td>\n",
       "      <td>0.285714</td>\n",
       "      <td>0.065</td>\n",
       "      <td>...</td>\n",
       "      <td>0</td>\n",
       "      <td>0</td>\n",
       "      <td>0</td>\n",
       "      <td>0</td>\n",
       "      <td>0</td>\n",
       "      <td>1</td>\n",
       "      <td>0</td>\n",
       "      <td>1</td>\n",
       "      <td>0</td>\n",
       "      <td>1</td>\n",
       "    </tr>\n",
       "    <tr>\n",
       "      <th>1</th>\n",
       "      <td>0.0</td>\n",
       "      <td>0.125</td>\n",
       "      <td>0.083333</td>\n",
       "      <td>0.181818</td>\n",
       "      <td>0.689655</td>\n",
       "      <td>0.033333</td>\n",
       "      <td>0.076923</td>\n",
       "      <td>0.363636</td>\n",
       "      <td>0.000000</td>\n",
       "      <td>0.015</td>\n",
       "      <td>...</td>\n",
       "      <td>0</td>\n",
       "      <td>0</td>\n",
       "      <td>0</td>\n",
       "      <td>0</td>\n",
       "      <td>0</td>\n",
       "      <td>1</td>\n",
       "      <td>1</td>\n",
       "      <td>0</td>\n",
       "      <td>0</td>\n",
       "      <td>0</td>\n",
       "    </tr>\n",
       "    <tr>\n",
       "      <th>2</th>\n",
       "      <td>0.0</td>\n",
       "      <td>0.000</td>\n",
       "      <td>0.250000</td>\n",
       "      <td>0.000000</td>\n",
       "      <td>0.310345</td>\n",
       "      <td>0.033333</td>\n",
       "      <td>0.384615</td>\n",
       "      <td>0.909091</td>\n",
       "      <td>0.142857</td>\n",
       "      <td>0.050</td>\n",
       "      <td>...</td>\n",
       "      <td>0</td>\n",
       "      <td>0</td>\n",
       "      <td>0</td>\n",
       "      <td>0</td>\n",
       "      <td>0</td>\n",
       "      <td>1</td>\n",
       "      <td>0</td>\n",
       "      <td>0</td>\n",
       "      <td>0</td>\n",
       "      <td>0</td>\n",
       "    </tr>\n",
       "    <tr>\n",
       "      <th>3</th>\n",
       "      <td>0.0</td>\n",
       "      <td>0.125</td>\n",
       "      <td>0.083333</td>\n",
       "      <td>0.090909</td>\n",
       "      <td>0.724138</td>\n",
       "      <td>0.075000</td>\n",
       "      <td>0.410256</td>\n",
       "      <td>0.454545</td>\n",
       "      <td>0.285714</td>\n",
       "      <td>0.025</td>\n",
       "      <td>...</td>\n",
       "      <td>0</td>\n",
       "      <td>0</td>\n",
       "      <td>0</td>\n",
       "      <td>0</td>\n",
       "      <td>0</td>\n",
       "      <td>1</td>\n",
       "      <td>1</td>\n",
       "      <td>1</td>\n",
       "      <td>1</td>\n",
       "      <td>0</td>\n",
       "    </tr>\n",
       "    <tr>\n",
       "      <th>4</th>\n",
       "      <td>0.0</td>\n",
       "      <td>0.125</td>\n",
       "      <td>0.250000</td>\n",
       "      <td>0.090909</td>\n",
       "      <td>0.356322</td>\n",
       "      <td>0.025000</td>\n",
       "      <td>0.025641</td>\n",
       "      <td>0.454545</td>\n",
       "      <td>0.142857</td>\n",
       "      <td>0.090</td>\n",
       "      <td>...</td>\n",
       "      <td>0</td>\n",
       "      <td>0</td>\n",
       "      <td>0</td>\n",
       "      <td>0</td>\n",
       "      <td>0</td>\n",
       "      <td>1</td>\n",
       "      <td>1</td>\n",
       "      <td>1</td>\n",
       "      <td>0</td>\n",
       "      <td>1</td>\n",
       "    </tr>\n",
       "  </tbody>\n",
       "</table>\n",
       "<p>5 rows × 125 columns</p>\n",
       "</div>"
      ],
      "text/plain": [
       "   CARSHARE  DRVRCNT    HHSIZE  HHVEHCNT     R_AGE  TIMETOWK    VEHAGE  \\\n",
       "0       0.0    0.125  0.083333  0.181818  0.252874  0.025000  0.076923   \n",
       "1       0.0    0.125  0.083333  0.181818  0.689655  0.033333  0.076923   \n",
       "2       0.0    0.000  0.250000  0.000000  0.310345  0.033333  0.384615   \n",
       "3       0.0    0.125  0.083333  0.090909  0.724138  0.075000  0.410256   \n",
       "4       0.0    0.125  0.250000  0.090909  0.356322  0.025000  0.025641   \n",
       "\n",
       "   VEHOWNMO  WRKCOUNT  YEARMILE  ...  R_RACE_label_DONT_KNOW  \\\n",
       "0  0.454545  0.285714     0.065  ...                       0   \n",
       "1  0.363636  0.000000     0.015  ...                       0   \n",
       "2  0.909091  0.142857     0.050  ...                       0   \n",
       "3  0.454545  0.285714     0.025  ...                       0   \n",
       "4  0.454545  0.142857     0.090  ...                       0   \n",
       "\n",
       "   R_RACE_label_MULTIPLE_RESPONSES_SELECTED  \\\n",
       "0                                         0   \n",
       "1                                         0   \n",
       "2                                         0   \n",
       "3                                         0   \n",
       "4                                         0   \n",
       "\n",
       "   R_RACE_label_NATIVE_HAWAIIAN_OR_OTHER_PACIFIC_ISLANDER  \\\n",
       "0                                                  0        \n",
       "1                                                  0        \n",
       "2                                                  0        \n",
       "3                                                  0        \n",
       "4                                                  0        \n",
       "\n",
       "   R_RACE_label_REFUSED  R_RACE_label_SOME_OTHER_RACE  R_RACE_label_WHITE  \\\n",
       "0                     0                             0                   1   \n",
       "1                     0                             0                   1   \n",
       "2                     0                             0                   1   \n",
       "3                     0                             0                   1   \n",
       "4                     0                             0                   1   \n",
       "\n",
       "   R_SEX_label_MALE  VEHOWNED_label_YES  WKFTPT_label_PART-TIME  \\\n",
       "0                 0                   1                       0   \n",
       "1                 1                   0                       0   \n",
       "2                 0                   0                       0   \n",
       "3                 1                   1                       1   \n",
       "4                 1                   1                       0   \n",
       "\n",
       "   WKRMHM_label_YES  \n",
       "0                 1  \n",
       "1                 0  \n",
       "2                 0  \n",
       "3                 0  \n",
       "4                 1  \n",
       "\n",
       "[5 rows x 125 columns]"
      ]
     },
     "execution_count": 10,
     "metadata": {},
     "output_type": "execute_result"
    }
   ],
   "source": [
    "X_test.head()"
   ]
  },
  {
   "cell_type": "code",
   "execution_count": 11,
   "metadata": {},
   "outputs": [
    {
     "data": {
      "text/plain": [
       "(140394, 1)"
      ]
     },
     "execution_count": 11,
     "metadata": {},
     "output_type": "execute_result"
    }
   ],
   "source": [
    "y_train.shape"
   ]
  },
  {
   "cell_type": "code",
   "execution_count": 12,
   "metadata": {},
   "outputs": [
    {
     "data": {
      "text/html": [
       "<div>\n",
       "<style scoped>\n",
       "    .dataframe tbody tr th:only-of-type {\n",
       "        vertical-align: middle;\n",
       "    }\n",
       "\n",
       "    .dataframe tbody tr th {\n",
       "        vertical-align: top;\n",
       "    }\n",
       "\n",
       "    .dataframe thead th {\n",
       "        text-align: right;\n",
       "    }\n",
       "</style>\n",
       "<table border=\"1\" class=\"dataframe\">\n",
       "  <thead>\n",
       "    <tr style=\"text-align: right;\">\n",
       "      <th></th>\n",
       "      <th>fueltype_numeric</th>\n",
       "    </tr>\n",
       "  </thead>\n",
       "  <tbody>\n",
       "    <tr>\n",
       "      <th>165952</th>\n",
       "      <td>0</td>\n",
       "    </tr>\n",
       "    <tr>\n",
       "      <th>161420</th>\n",
       "      <td>0</td>\n",
       "    </tr>\n",
       "    <tr>\n",
       "      <th>231467</th>\n",
       "      <td>0</td>\n",
       "    </tr>\n",
       "    <tr>\n",
       "      <th>109716</th>\n",
       "      <td>0</td>\n",
       "    </tr>\n",
       "    <tr>\n",
       "      <th>187414</th>\n",
       "      <td>0</td>\n",
       "    </tr>\n",
       "  </tbody>\n",
       "</table>\n",
       "</div>"
      ],
      "text/plain": [
       "        fueltype_numeric\n",
       "165952                 0\n",
       "161420                 0\n",
       "231467                 0\n",
       "109716                 0\n",
       "187414                 0"
      ]
     },
     "execution_count": 12,
     "metadata": {},
     "output_type": "execute_result"
    }
   ],
   "source": [
    "y_train.head()"
   ]
  },
  {
   "cell_type": "code",
   "execution_count": 13,
   "metadata": {},
   "outputs": [
    {
     "data": {
      "text/plain": [
       "(60170, 1)"
      ]
     },
     "execution_count": 13,
     "metadata": {},
     "output_type": "execute_result"
    }
   ],
   "source": [
    "y_test.shape"
   ]
  },
  {
   "cell_type": "code",
   "execution_count": 14,
   "metadata": {},
   "outputs": [
    {
     "data": {
      "text/html": [
       "<div>\n",
       "<style scoped>\n",
       "    .dataframe tbody tr th:only-of-type {\n",
       "        vertical-align: middle;\n",
       "    }\n",
       "\n",
       "    .dataframe tbody tr th {\n",
       "        vertical-align: top;\n",
       "    }\n",
       "\n",
       "    .dataframe thead th {\n",
       "        text-align: right;\n",
       "    }\n",
       "</style>\n",
       "<table border=\"1\" class=\"dataframe\">\n",
       "  <thead>\n",
       "    <tr style=\"text-align: right;\">\n",
       "      <th></th>\n",
       "      <th>fueltype_numeric</th>\n",
       "    </tr>\n",
       "  </thead>\n",
       "  <tbody>\n",
       "    <tr>\n",
       "      <th>205300</th>\n",
       "      <td>0</td>\n",
       "    </tr>\n",
       "    <tr>\n",
       "      <th>150902</th>\n",
       "      <td>0</td>\n",
       "    </tr>\n",
       "    <tr>\n",
       "      <th>70631</th>\n",
       "      <td>0</td>\n",
       "    </tr>\n",
       "    <tr>\n",
       "      <th>53212</th>\n",
       "      <td>0</td>\n",
       "    </tr>\n",
       "    <tr>\n",
       "      <th>197639</th>\n",
       "      <td>0</td>\n",
       "    </tr>\n",
       "  </tbody>\n",
       "</table>\n",
       "</div>"
      ],
      "text/plain": [
       "        fueltype_numeric\n",
       "205300                 0\n",
       "150902                 0\n",
       "70631                  0\n",
       "53212                  0\n",
       "197639                 0"
      ]
     },
     "execution_count": 14,
     "metadata": {},
     "output_type": "execute_result"
    }
   ],
   "source": [
    "y_test.head()"
   ]
  },
  {
   "cell_type": "markdown",
   "metadata": {},
   "source": [
    "## Model Building"
   ]
  },
  {
   "cell_type": "markdown",
   "metadata": {},
   "source": [
    "Build a naive model"
   ]
  },
  {
   "cell_type": "code",
   "execution_count": 15,
   "metadata": {},
   "outputs": [],
   "source": [
    "#Function\n",
    "\n",
    "n_points=50\n",
    "probs = np.linspace(0, 1, n_points)\n",
    "\n",
    "def threshold_and_plot(y_test, target, plot=True):\n",
    "\n",
    "    def make_thresh():  # try n_points = 50 or 100...\n",
    "    # calculate each metric here\n",
    "        precision = [\n",
    "        metrics.precision_score(y_test, np.where(target > thresh, 1, 0))\n",
    "        for thresh in probs]\n",
    "        recall = [metrics.recall_score(y_test, np.where(target > thresh, 1, 0))\n",
    "              for thresh in probs]\n",
    "        f1 = [metrics.f1_score(y_test, np.where(target > thresh, 1, 0))\n",
    "          for thresh in probs]\n",
    "        return precision, recall, f1\n",
    "\n",
    "    precision, recall, f1 = make_thresh()\n",
    "    if plot:\n",
    "        plt.plot(probs, precision, label='precision')\n",
    "        plt.plot(probs, recall, label='recall')\n",
    "        plt.plot(probs, f1, label='f1')\n",
    "        plt.title(\"Metrics at various thresholds\");\n",
    "        plt.xlabel(\"Probability\");\n",
    "        plt.ylabel(\"Metric value\")\n",
    "        plt.legend();\n",
    "    # print(\"Precision: {:.3f}; Recall: {:.3f}; F1: {:.3f}\".format(precision, recall, f1))\n",
    "        return precision, recall, f1\n",
    "    else:\n",
    "        return precision, recall, f1\n",
    "\n",
    "\n",
    "def max_thresh(score_vec):\n",
    "    max_idx = np.argmax(score_vec)\n",
    "    max_score = score_vec[max_idx]\n",
    "    return max_idx, max_score"
   ]
  },
  {
   "cell_type": "code",
   "execution_count": 16,
   "metadata": {},
   "outputs": [],
   "source": [
    "# set up cross-validator:\n",
    "# 80/20 train/calibration split in this data (test data still held out)\n",
    "# 200 iterations\n",
    "# feel free to use another CV method and explain why\n",
    "cross_validator = (\n",
    "  model_selection.StratifiedShuffleSplit(train_size=0.8,\n",
    "                                         random_state=1337,\n",
    "                                         n_splits=10))"
   ]
  },
  {
   "cell_type": "code",
   "execution_count": 17,
   "metadata": {},
   "outputs": [],
   "source": [
    "# null model boilerplate\n",
    "null_reg = LogisticRegression(fit_intercept=False,\n",
    "                                           max_iter=500,\n",
    "                                           random_state=632966)"
   ]
  },
  {
   "cell_type": "code",
   "execution_count": 18,
   "metadata": {},
   "outputs": [],
   "source": [
    "X_train_null = np.ones(shape=y_train.shape[0]).reshape(-1,1) # intercept\n",
    "X_test_null = np.ones(shape=y_test.shape[0]).reshape(-1,1)"
   ]
  },
  {
   "cell_type": "code",
   "execution_count": 19,
   "metadata": {},
   "outputs": [],
   "source": [
    "# fit on train and test data (no tuning)\n",
    "null_train = null_reg.fit(X=X_train_null, y=y_train.values.ravel())\n",
    "null_test = null_reg.fit(X=X_test_null, y=y_test.values.ravel())"
   ]
  },
  {
   "cell_type": "code",
   "execution_count": 20,
   "metadata": {},
   "outputs": [],
   "source": [
    "# prob_a (and prob) gives you two columns; second one is the target\n",
    "#why do we fit with the test here?\n",
    "train_pred = null_train.predict_proba(X_train_null)\n",
    "test_pred = null_test.predict_proba(X_test_null)"
   ]
  },
  {
   "cell_type": "code",
   "execution_count": 21,
   "metadata": {},
   "outputs": [
    {
     "name": "stdout",
     "output_type": "stream",
     "text": [
      "Observed: 0.030 Fit: 0.029\n"
     ]
    }
   ],
   "source": [
    "# check to see if close to population value\n",
    "print(f\"Observed: {y_train.values.ravel().mean():.3f} Fit: {train_pred[:,1].mean():.3f}\")"
   ]
  },
  {
   "cell_type": "code",
   "execution_count": 22,
   "metadata": {},
   "outputs": [],
   "source": [
    "# 30 values of C to search over (can use fewer to speed things up);\n",
    "# would need to amend to use L2 or elastic net\n",
    "model_params = {\"model__C\": (np.logspace(start=-4, stop=4, num=20))}"
   ]
  },
  {
   "cell_type": "code",
   "execution_count": 23,
   "metadata": {},
   "outputs": [],
   "source": [
    "# set up the pipeline: just contains the model object\n",
    "model_pipeline = Pipeline(steps=[(\"model\", null_reg)])"
   ]
  },
  {
   "cell_type": "code",
   "execution_count": 24,
   "metadata": {},
   "outputs": [],
   "source": [
    "# set up grid search\n",
    "model_grid = (GridSearchCV(estimator=model_pipeline,\n",
    "                               param_grid=model_params,\n",
    "                               refit=True, # refit using best estimates\n",
    "                               scoring=\"f1_weighted\", # metric to optimize\n",
    "                               cv=cross_validator,\n",
    "                               n_jobs=-1))"
   ]
  },
  {
   "cell_type": "code",
   "execution_count": 25,
   "metadata": {},
   "outputs": [],
   "source": [
    "# fit model\n",
    "null_model = model_grid.fit(X_train_null, y_train.values.ravel())"
   ]
  },
  {
   "cell_type": "code",
   "execution_count": 26,
   "metadata": {},
   "outputs": [
    {
     "name": "stdout",
     "output_type": "stream",
     "text": [
      "Observed: 0.030 Fit: 0.152\n"
     ]
    }
   ],
   "source": [
    "# model predictions\n",
    "null_train_pred = null_model.predict_proba(X_train_null)\n",
    "null_test_pred = null_model.predict_proba(X_test_null)\n",
    "\n",
    "# check to see if close to population value\n",
    "print(f\"Observed: {y_train.values.ravel().mean():.3f} Fit: {null_train_pred[:,1].mean():.3f}\")"
   ]
  },
  {
   "cell_type": "markdown",
   "metadata": {},
   "source": [
    "### Logistic Regression"
   ]
  },
  {
   "cell_type": "code",
   "execution_count": 27,
   "metadata": {},
   "outputs": [],
   "source": [
    "\n",
    "# null model boilerplate\n",
    "log_reg = LogisticRegression(fit_intercept=True,\n",
    "                                           random_state=632966, class_weight='balanced')"
   ]
  },
  {
   "cell_type": "code",
   "execution_count": 32,
   "metadata": {},
   "outputs": [],
   "source": [
    "#30 values of C to search over (can use fewer to speed things up);\n",
    "#would need to amend to use L2 or elastic net\n",
    "model_params = {\"model__C\": (np.logspace(start=-4, stop=4, num=10))}"
   ]
  },
  {
   "cell_type": "code",
   "execution_count": 33,
   "metadata": {},
   "outputs": [],
   "source": [
    "# set up the pipeline: just contains the model object\n",
    "model_pipeline = Pipeline(steps=[(\"model\", log_reg)])"
   ]
  },
  {
   "cell_type": "code",
   "execution_count": 35,
   "metadata": {},
   "outputs": [],
   "source": [
    "# set up grid search\n",
    "model_grid = (GridSearchCV(estimator=model_pipeline,\n",
    "                               param_grid=model_params,\n",
    "                               refit=True, # refit using best estimates\n",
    "                               scoring=\"f1_weighted\", # metric to optimize\n",
    "                               cv=cross_validator,\n",
    "                               n_jobs=-1))"
   ]
  },
  {
   "cell_type": "code",
   "execution_count": 36,
   "metadata": {},
   "outputs": [
    {
     "name": "stderr",
     "output_type": "stream",
     "text": [
      "/Users/Avinash/opt/anaconda3/lib/python3.7/site-packages/joblib/externals/loky/process_executor.py:706: UserWarning: A worker stopped while some jobs were given to the executor. This can be caused by a too short worker timeout or by a memory leak.\n",
      "  \"timeout or by a memory leak.\", UserWarning\n"
     ]
    }
   ],
   "source": [
    "# fit model\n",
    "log_model = model_grid.fit(X_train, y_train.values.ravel())"
   ]
  },
  {
   "cell_type": "code",
   "execution_count": 38,
   "metadata": {},
   "outputs": [],
   "source": [
    "# model predictions\n",
    "log_train_pred = log_model.predict_proba(X_train)\n",
    "log_test_pred = log_model.predict_proba(X_test)"
   ]
  },
  {
   "cell_type": "code",
   "execution_count": 39,
   "metadata": {},
   "outputs": [
    {
     "name": "stdout",
     "output_type": "stream",
     "text": [
      "Observed: 0.030 Fit: 0.405\n"
     ]
    }
   ],
   "source": [
    "\n",
    "# check to see if close to population value\n",
    "print(f\"Observed: {y_train.values.ravel().mean():.3f} Fit: {np.mean(log_train_pred[:,1]):.3f}\")"
   ]
  },
  {
   "cell_type": "code",
   "execution_count": 40,
   "metadata": {},
   "outputs": [
    {
     "name": "stderr",
     "output_type": "stream",
     "text": [
      "/Users/Avinash/opt/anaconda3/lib/python3.7/site-packages/sklearn/metrics/_classification.py:1308: UndefinedMetricWarning: Precision is ill-defined and being set to 0.0 due to no predicted samples. Use `zero_division` parameter to control this behavior.\n",
      "  _warn_prf(average, modifier, msg_start, len(result))\n",
      "/Users/Avinash/opt/anaconda3/lib/python3.7/site-packages/sklearn/metrics/_classification.py:1308: UndefinedMetricWarning: Precision is ill-defined and being set to 0.0 due to no predicted samples. Use `zero_division` parameter to control this behavior.\n",
      "  _warn_prf(average, modifier, msg_start, len(result))\n",
      "/Users/Avinash/opt/anaconda3/lib/python3.7/site-packages/sklearn/metrics/_classification.py:1308: UndefinedMetricWarning: Precision is ill-defined and being set to 0.0 due to no predicted samples. Use `zero_division` parameter to control this behavior.\n",
      "  _warn_prf(average, modifier, msg_start, len(result))\n"
     ]
    },
    {
     "data": {
      "image/png": "[encoded data removed]",
      "text/plain": [
       "<Figure size 432x288 with 1 Axes>"
      ]
     },
     "metadata": {
      "needs_background": "light"
     },
     "output_type": "display_data"
    }
   ],
   "source": [
    "test_metric = threshold_and_plot(y_test=y_train, target=log_train_pred[:,1])"
   ]
  },
  {
   "cell_type": "code",
   "execution_count": 41,
   "metadata": {},
   "outputs": [
    {
     "name": "stdout",
     "output_type": "stream",
     "text": [
      "Maximum Precision:0.270 and id:0.8979591836734693\n",
      "Maximum Recall:1.000 and id:0.0\n",
      "Maximum F1:0.172 and id:0.7551020408163265\n"
     ]
    }
   ],
   "source": [
    "# print out the maximum value\n",
    "# assumes that \"test_metrics\" is a tuple to be unpacked\n",
    "for metric, val in zip([\"Precision\", \"Recall\", \"F1\"], test_metric):\n",
    "    max_idx, max_val = max_thresh(val)\n",
    "    print(f\"Maximum {metric}:{max_val:.3f} and id:{np.linspace(0, 1, 50)[max_idx]}\")"
   ]
  },
  {
   "cell_type": "code",
   "execution_count": 42,
   "metadata": {},
   "outputs": [
    {
     "name": "stdout",
     "output_type": "stream",
     "text": [
      "Precision on Test: 0.12643080124869926\n",
      "Recall on Test: 0.27914991384261917\n",
      "F1 score on Test: 0.17403760071620408\n"
     ]
    }
   ],
   "source": [
    "##Evaluate on the test data\n",
    "\n",
    "print(\"Precision on Test: {0}\".format(metrics.precision_score(y_test, np.where(log_test_pred[:,1] > 0.735, 1, 0))))\n",
    "print(\"Recall on Test: {0}\".format(metrics.recall_score(y_test, np.where(log_test_pred[:,1] > 0.735, 1, 0))))\n",
    "print(\"F1 score on Test: {0}\".format(metrics.f1_score(y_test, np.where(log_test_pred[:,1] > 0.735, 1, 0))))"
   ]
  },
  {
   "cell_type": "markdown",
   "metadata": {},
   "source": [
    "## Poisson Regression"
   ]
  },
  {
   "cell_type": "code",
   "execution_count": 43,
   "metadata": {},
   "outputs": [],
   "source": [
    "from sklearn import linear_model\n",
    "pos_reg = linear_model.PoissonRegressor()"
   ]
  },
  {
   "cell_type": "code",
   "execution_count": 44,
   "metadata": {},
   "outputs": [],
   "source": [
    "# 30 values of C to search over (can use fewer to speed things up);\n",
    "# would need to amend to use L2 or elastic net\n",
    "model_params = {\"model__alpha\": (np.linspace(0.0,1,20))}"
   ]
  },
  {
   "cell_type": "code",
   "execution_count": 45,
   "metadata": {},
   "outputs": [],
   "source": [
    "# set up the pipeline: just contains the model object\n",
    "model_pipeline = Pipeline(steps=[('model', pos_reg)])"
   ]
  },
  {
   "cell_type": "code",
   "execution_count": 46,
   "metadata": {},
   "outputs": [],
   "source": [
    "# set up grid search\n",
    "model_grid_pos = (GridSearchCV(estimator=model_pipeline,\n",
    "                               param_grid=model_params,\n",
    "                               refit=True, # refit using best estimates\n",
    "                               scoring=\"f1_weighted\", # metric to optimize\n",
    "                               cv=cross_validator,\n",
    "                               n_jobs=-1))"
   ]
  },
  {
   "cell_type": "code",
   "execution_count": 47,
   "metadata": {},
   "outputs": [
    {
     "name": "stderr",
     "output_type": "stream",
     "text": [
      "/Users/Avinash/opt/anaconda3/lib/python3.7/site-packages/joblib/externals/loky/process_executor.py:706: UserWarning: A worker stopped while some jobs were given to the executor. This can be caused by a too short worker timeout or by a memory leak.\n",
      "  \"timeout or by a memory leak.\", UserWarning\n",
      "/Users/Avinash/opt/anaconda3/lib/python3.7/site-packages/sklearn/model_selection/_search.py:972: UserWarning: One or more of the test scores are non-finite: [nan nan nan nan nan nan nan nan nan nan nan nan nan nan nan nan nan nan\n",
      " nan nan]\n",
      "  category=UserWarning,\n"
     ]
    }
   ],
   "source": [
    "# fit model\n",
    "pos_model = model_grid_pos.fit(X_train, y_train.values.ravel())"
   ]
  },
  {
   "cell_type": "code",
   "execution_count": 48,
   "metadata": {},
   "outputs": [],
   "source": [
    "# model predictions\n",
    "pos_train_pred = pos_model.predict(X_train)\n",
    "pos_test_pred = pos_model.predict(X_test)"
   ]
  },
  {
   "cell_type": "code",
   "execution_count": 49,
   "metadata": {},
   "outputs": [
    {
     "name": "stdout",
     "output_type": "stream",
     "text": [
      "Observed: 0.030 Fit: 0.030\n"
     ]
    }
   ],
   "source": [
    "\n",
    "# check to see if close to population value\n",
    "print(f\"Observed: {y_train.values.ravel().mean():.3f} Fit: {np.mean(pos_train_pred):.3f}\")"
   ]
  },
  {
   "cell_type": "code",
   "execution_count": 50,
   "metadata": {},
   "outputs": [
    {
     "name": "stderr",
     "output_type": "stream",
     "text": [
      "/Users/Avinash/opt/anaconda3/lib/python3.7/site-packages/sklearn/metrics/_classification.py:1308: UndefinedMetricWarning: Precision is ill-defined and being set to 0.0 due to no predicted samples. Use `zero_division` parameter to control this behavior.\n",
      "  _warn_prf(average, modifier, msg_start, len(result))\n",
      "/Users/Avinash/opt/anaconda3/lib/python3.7/site-packages/sklearn/metrics/_classification.py:1308: UndefinedMetricWarning: Precision is ill-defined and being set to 0.0 due to no predicted samples. Use `zero_division` parameter to control this behavior.\n",
      "  _warn_prf(average, modifier, msg_start, len(result))\n",
      "/Users/Avinash/opt/anaconda3/lib/python3.7/site-packages/sklearn/metrics/_classification.py:1308: UndefinedMetricWarning: Precision is ill-defined and being set to 0.0 due to no predicted samples. Use `zero_division` parameter to control this behavior.\n",
      "  _warn_prf(average, modifier, msg_start, len(result))\n",
      "/Users/Avinash/opt/anaconda3/lib/python3.7/site-packages/sklearn/metrics/_classification.py:1308: UndefinedMetricWarning: Precision is ill-defined and being set to 0.0 due to no predicted samples. Use `zero_division` parameter to control this behavior.\n",
      "  _warn_prf(average, modifier, msg_start, len(result))\n",
      "/Users/Avinash/opt/anaconda3/lib/python3.7/site-packages/sklearn/metrics/_classification.py:1308: UndefinedMetricWarning: Precision is ill-defined and being set to 0.0 due to no predicted samples. Use `zero_division` parameter to control this behavior.\n",
      "  _warn_prf(average, modifier, msg_start, len(result))\n",
      "/Users/Avinash/opt/anaconda3/lib/python3.7/site-packages/sklearn/metrics/_classification.py:1308: UndefinedMetricWarning: Precision is ill-defined and being set to 0.0 due to no predicted samples. Use `zero_division` parameter to control this behavior.\n",
      "  _warn_prf(average, modifier, msg_start, len(result))\n",
      "/Users/Avinash/opt/anaconda3/lib/python3.7/site-packages/sklearn/metrics/_classification.py:1308: UndefinedMetricWarning: Precision is ill-defined and being set to 0.0 due to no predicted samples. Use `zero_division` parameter to control this behavior.\n",
      "  _warn_prf(average, modifier, msg_start, len(result))\n",
      "/Users/Avinash/opt/anaconda3/lib/python3.7/site-packages/sklearn/metrics/_classification.py:1308: UndefinedMetricWarning: Precision is ill-defined and being set to 0.0 due to no predicted samples. Use `zero_division` parameter to control this behavior.\n",
      "  _warn_prf(average, modifier, msg_start, len(result))\n",
      "/Users/Avinash/opt/anaconda3/lib/python3.7/site-packages/sklearn/metrics/_classification.py:1308: UndefinedMetricWarning: Precision is ill-defined and being set to 0.0 due to no predicted samples. Use `zero_division` parameter to control this behavior.\n",
      "  _warn_prf(average, modifier, msg_start, len(result))\n",
      "/Users/Avinash/opt/anaconda3/lib/python3.7/site-packages/sklearn/metrics/_classification.py:1308: UndefinedMetricWarning: Precision is ill-defined and being set to 0.0 due to no predicted samples. Use `zero_division` parameter to control this behavior.\n",
      "  _warn_prf(average, modifier, msg_start, len(result))\n",
      "/Users/Avinash/opt/anaconda3/lib/python3.7/site-packages/sklearn/metrics/_classification.py:1308: UndefinedMetricWarning: Precision is ill-defined and being set to 0.0 due to no predicted samples. Use `zero_division` parameter to control this behavior.\n",
      "  _warn_prf(average, modifier, msg_start, len(result))\n",
      "/Users/Avinash/opt/anaconda3/lib/python3.7/site-packages/sklearn/metrics/_classification.py:1308: UndefinedMetricWarning: Precision is ill-defined and being set to 0.0 due to no predicted samples. Use `zero_division` parameter to control this behavior.\n",
      "  _warn_prf(average, modifier, msg_start, len(result))\n",
      "/Users/Avinash/opt/anaconda3/lib/python3.7/site-packages/sklearn/metrics/_classification.py:1308: UndefinedMetricWarning: Precision is ill-defined and being set to 0.0 due to no predicted samples. Use `zero_division` parameter to control this behavior.\n",
      "  _warn_prf(average, modifier, msg_start, len(result))\n",
      "/Users/Avinash/opt/anaconda3/lib/python3.7/site-packages/sklearn/metrics/_classification.py:1308: UndefinedMetricWarning: Precision is ill-defined and being set to 0.0 due to no predicted samples. Use `zero_division` parameter to control this behavior.\n",
      "  _warn_prf(average, modifier, msg_start, len(result))\n",
      "/Users/Avinash/opt/anaconda3/lib/python3.7/site-packages/sklearn/metrics/_classification.py:1308: UndefinedMetricWarning: Precision is ill-defined and being set to 0.0 due to no predicted samples. Use `zero_division` parameter to control this behavior.\n",
      "  _warn_prf(average, modifier, msg_start, len(result))\n",
      "/Users/Avinash/opt/anaconda3/lib/python3.7/site-packages/sklearn/metrics/_classification.py:1308: UndefinedMetricWarning: Precision is ill-defined and being set to 0.0 due to no predicted samples. Use `zero_division` parameter to control this behavior.\n",
      "  _warn_prf(average, modifier, msg_start, len(result))\n",
      "/Users/Avinash/opt/anaconda3/lib/python3.7/site-packages/sklearn/metrics/_classification.py:1308: UndefinedMetricWarning: Precision is ill-defined and being set to 0.0 due to no predicted samples. Use `zero_division` parameter to control this behavior.\n",
      "  _warn_prf(average, modifier, msg_start, len(result))\n",
      "/Users/Avinash/opt/anaconda3/lib/python3.7/site-packages/sklearn/metrics/_classification.py:1308: UndefinedMetricWarning: Precision is ill-defined and being set to 0.0 due to no predicted samples. Use `zero_division` parameter to control this behavior.\n",
      "  _warn_prf(average, modifier, msg_start, len(result))\n",
      "/Users/Avinash/opt/anaconda3/lib/python3.7/site-packages/sklearn/metrics/_classification.py:1308: UndefinedMetricWarning: Precision is ill-defined and being set to 0.0 due to no predicted samples. Use `zero_division` parameter to control this behavior.\n",
      "  _warn_prf(average, modifier, msg_start, len(result))\n",
      "/Users/Avinash/opt/anaconda3/lib/python3.7/site-packages/sklearn/metrics/_classification.py:1308: UndefinedMetricWarning: Precision is ill-defined and being set to 0.0 due to no predicted samples. Use `zero_division` parameter to control this behavior.\n",
      "  _warn_prf(average, modifier, msg_start, len(result))\n",
      "/Users/Avinash/opt/anaconda3/lib/python3.7/site-packages/sklearn/metrics/_classification.py:1308: UndefinedMetricWarning: Precision is ill-defined and being set to 0.0 due to no predicted samples. Use `zero_division` parameter to control this behavior.\n",
      "  _warn_prf(average, modifier, msg_start, len(result))\n",
      "/Users/Avinash/opt/anaconda3/lib/python3.7/site-packages/sklearn/metrics/_classification.py:1308: UndefinedMetricWarning: Precision is ill-defined and being set to 0.0 due to no predicted samples. Use `zero_division` parameter to control this behavior.\n",
      "  _warn_prf(average, modifier, msg_start, len(result))\n",
      "/Users/Avinash/opt/anaconda3/lib/python3.7/site-packages/sklearn/metrics/_classification.py:1308: UndefinedMetricWarning: Precision is ill-defined and being set to 0.0 due to no predicted samples. Use `zero_division` parameter to control this behavior.\n",
      "  _warn_prf(average, modifier, msg_start, len(result))\n"
     ]
    },
    {
     "data": {
      "image/png": "[encoded data removed]",
      "text/plain": [
       "<Figure size 432x288 with 1 Axes>"
      ]
     },
     "metadata": {
      "needs_background": "light"
     },
     "output_type": "display_data"
    }
   ],
   "source": [
    "test_metric_pos = threshold_and_plot(y_test=y_train, target=pos_train_pred)"
   ]
  },
  {
   "cell_type": "code",
   "execution_count": 51,
   "metadata": {},
   "outputs": [
    {
     "name": "stdout",
     "output_type": "stream",
     "text": [
      "Maximum Precision:0.265 and id:0.2857142857142857\n",
      "Maximum Recall:1.000 and id:0.0\n",
      "Maximum F1:0.174 and id:0.08163265306122448\n"
     ]
    }
   ],
   "source": [
    "# print out the maximum value\n",
    "# assumes that \"test_metrics\" is a tuple to be unpacked\n",
    "for metric, val in zip([\"Precision\", \"Recall\", \"F1\"], test_metric_pos):\n",
    "    max_idx, max_val = max_thresh(val)\n",
    "    print(f\"Maximum {metric}:{max_val:.3f} and id:{np.linspace(0, 1, 50)[max_idx]}\")"
   ]
  },
  {
   "cell_type": "code",
   "execution_count": 52,
   "metadata": {},
   "outputs": [
    {
     "name": "stdout",
     "output_type": "stream",
     "text": [
      "Precision on Test: 0.12422205626089121\n",
      "Recall on Test: 0.2866168868466399\n",
      "F1 score on Test: 0.17332407085793677\n"
     ]
    }
   ],
   "source": [
    "##Evaluate on the test data\n",
    "\n",
    "print(\"Precision on Test: {0}\".format(metrics.precision_score(y_test, np.where(pos_test_pred > 0.0816, 1, 0))))\n",
    "print(\"Recall on Test: {0}\".format(metrics.recall_score(y_test, np.where(pos_test_pred > 0.0816, 1, 0))))\n",
    "print(\"F1 score on Test: {0}\".format(metrics.f1_score(y_test, np.where(pos_test_pred > 0.0816, 1, 0))))"
   ]
  },
  {
   "cell_type": "markdown",
   "metadata": {},
   "source": [
    "### Random Forest"
   ]
  },
  {
   "cell_type": "code",
   "execution_count": 53,
   "metadata": {},
   "outputs": [],
   "source": [
    "rfc = RandomForestClassifier(random_state = 42)"
   ]
  },
  {
   "cell_type": "code",
   "execution_count": 54,
   "metadata": {},
   "outputs": [],
   "source": [
    "# 30 values of C to search over (can use fewer to speed things up);\n",
    "# would need to amend to use L2 or elastic net\n",
    "model_params = {'model__n_estimators': [100, 200],\n",
    "    'model__max_features': ['auto', 'sqrt'],\n",
    "    'model__max_depth' : [4, 5, 6],\n",
    "    'model__criterion' :['gini']}"
   ]
  },
  {
   "cell_type": "code",
   "execution_count": 55,
   "metadata": {},
   "outputs": [],
   "source": [
    "# set up the pipeline: just contains the model object\n",
    "model_pipeline = Pipeline(steps=[('model', rfc)])"
   ]
  },
  {
   "cell_type": "code",
   "execution_count": 57,
   "metadata": {},
   "outputs": [],
   "source": [
    "# set up grid search\n",
    "model_grid_rfc = (GridSearchCV(estimator=model_pipeline,\n",
    "                               param_grid=model_params,\n",
    "                               refit=True, # refit using best estimates\n",
    "                               scoring=\"f1_weighted\", # metric to optimize\n",
    "                               cv=cross_validator,\n",
    "                               n_jobs=-1))"
   ]
  },
  {
   "cell_type": "code",
   "execution_count": 59,
   "metadata": {},
   "outputs": [],
   "source": [
    "# fit model\n",
    "rfc_model = model_grid_rfc.fit(X_train, y_train.values.ravel())"
   ]
  },
  {
   "cell_type": "code",
   "execution_count": 60,
   "metadata": {},
   "outputs": [],
   "source": [
    "# model predictions\n",
    "rfc_train_pred = rfc_model.predict_proba(X_train)\n",
    "rfc_test_pred = rfc_model.predict_proba(X_test)"
   ]
  },
  {
   "cell_type": "code",
   "execution_count": 61,
   "metadata": {},
   "outputs": [
    {
     "name": "stdout",
     "output_type": "stream",
     "text": [
      "Observed: 0.030 Fit: 0.030\n"
     ]
    }
   ],
   "source": [
    "\n",
    "# check to see if close to population value\n",
    "print(f\"Observed: {y_train.values.ravel().mean():.3f} Fit: {np.mean(rfc_train_pred[:,1]):.3f}\")"
   ]
  },
  {
   "cell_type": "code",
   "execution_count": 62,
   "metadata": {},
   "outputs": [
    {
     "name": "stderr",
     "output_type": "stream",
     "text": [
      "/Users/Avinash/opt/anaconda3/lib/python3.7/site-packages/sklearn/metrics/_classification.py:1308: UndefinedMetricWarning: Precision is ill-defined and being set to 0.0 due to no predicted samples. Use `zero_division` parameter to control this behavior.\n",
      "  _warn_prf(average, modifier, msg_start, len(result))\n",
      "/Users/Avinash/opt/anaconda3/lib/python3.7/site-packages/sklearn/metrics/_classification.py:1308: UndefinedMetricWarning: Precision is ill-defined and being set to 0.0 due to no predicted samples. Use `zero_division` parameter to control this behavior.\n",
      "  _warn_prf(average, modifier, msg_start, len(result))\n",
      "/Users/Avinash/opt/anaconda3/lib/python3.7/site-packages/sklearn/metrics/_classification.py:1308: UndefinedMetricWarning: Precision is ill-defined and being set to 0.0 due to no predicted samples. Use `zero_division` parameter to control this behavior.\n",
      "  _warn_prf(average, modifier, msg_start, len(result))\n",
      "/Users/Avinash/opt/anaconda3/lib/python3.7/site-packages/sklearn/metrics/_classification.py:1308: UndefinedMetricWarning: Precision is ill-defined and being set to 0.0 due to no predicted samples. Use `zero_division` parameter to control this behavior.\n",
      "  _warn_prf(average, modifier, msg_start, len(result))\n",
      "/Users/Avinash/opt/anaconda3/lib/python3.7/site-packages/sklearn/metrics/_classification.py:1308: UndefinedMetricWarning: Precision is ill-defined and being set to 0.0 due to no predicted samples. Use `zero_division` parameter to control this behavior.\n",
      "  _warn_prf(average, modifier, msg_start, len(result))\n",
      "/Users/Avinash/opt/anaconda3/lib/python3.7/site-packages/sklearn/metrics/_classification.py:1308: UndefinedMetricWarning: Precision is ill-defined and being set to 0.0 due to no predicted samples. Use `zero_division` parameter to control this behavior.\n",
      "  _warn_prf(average, modifier, msg_start, len(result))\n",
      "/Users/Avinash/opt/anaconda3/lib/python3.7/site-packages/sklearn/metrics/_classification.py:1308: UndefinedMetricWarning: Precision is ill-defined and being set to 0.0 due to no predicted samples. Use `zero_division` parameter to control this behavior.\n",
      "  _warn_prf(average, modifier, msg_start, len(result))\n",
      "/Users/Avinash/opt/anaconda3/lib/python3.7/site-packages/sklearn/metrics/_classification.py:1308: UndefinedMetricWarning: Precision is ill-defined and being set to 0.0 due to no predicted samples. Use `zero_division` parameter to control this behavior.\n",
      "  _warn_prf(average, modifier, msg_start, len(result))\n",
      "/Users/Avinash/opt/anaconda3/lib/python3.7/site-packages/sklearn/metrics/_classification.py:1308: UndefinedMetricWarning: Precision is ill-defined and being set to 0.0 due to no predicted samples. Use `zero_division` parameter to control this behavior.\n",
      "  _warn_prf(average, modifier, msg_start, len(result))\n",
      "/Users/Avinash/opt/anaconda3/lib/python3.7/site-packages/sklearn/metrics/_classification.py:1308: UndefinedMetricWarning: Precision is ill-defined and being set to 0.0 due to no predicted samples. Use `zero_division` parameter to control this behavior.\n",
      "  _warn_prf(average, modifier, msg_start, len(result))\n",
      "/Users/Avinash/opt/anaconda3/lib/python3.7/site-packages/sklearn/metrics/_classification.py:1308: UndefinedMetricWarning: Precision is ill-defined and being set to 0.0 due to no predicted samples. Use `zero_division` parameter to control this behavior.\n",
      "  _warn_prf(average, modifier, msg_start, len(result))\n",
      "/Users/Avinash/opt/anaconda3/lib/python3.7/site-packages/sklearn/metrics/_classification.py:1308: UndefinedMetricWarning: Precision is ill-defined and being set to 0.0 due to no predicted samples. Use `zero_division` parameter to control this behavior.\n",
      "  _warn_prf(average, modifier, msg_start, len(result))\n",
      "/Users/Avinash/opt/anaconda3/lib/python3.7/site-packages/sklearn/metrics/_classification.py:1308: UndefinedMetricWarning: Precision is ill-defined and being set to 0.0 due to no predicted samples. Use `zero_division` parameter to control this behavior.\n",
      "  _warn_prf(average, modifier, msg_start, len(result))\n",
      "/Users/Avinash/opt/anaconda3/lib/python3.7/site-packages/sklearn/metrics/_classification.py:1308: UndefinedMetricWarning: Precision is ill-defined and being set to 0.0 due to no predicted samples. Use `zero_division` parameter to control this behavior.\n",
      "  _warn_prf(average, modifier, msg_start, len(result))\n",
      "/Users/Avinash/opt/anaconda3/lib/python3.7/site-packages/sklearn/metrics/_classification.py:1308: UndefinedMetricWarning: Precision is ill-defined and being set to 0.0 due to no predicted samples. Use `zero_division` parameter to control this behavior.\n",
      "  _warn_prf(average, modifier, msg_start, len(result))\n",
      "/Users/Avinash/opt/anaconda3/lib/python3.7/site-packages/sklearn/metrics/_classification.py:1308: UndefinedMetricWarning: Precision is ill-defined and being set to 0.0 due to no predicted samples. Use `zero_division` parameter to control this behavior.\n",
      "  _warn_prf(average, modifier, msg_start, len(result))\n",
      "/Users/Avinash/opt/anaconda3/lib/python3.7/site-packages/sklearn/metrics/_classification.py:1308: UndefinedMetricWarning: Precision is ill-defined and being set to 0.0 due to no predicted samples. Use `zero_division` parameter to control this behavior.\n",
      "  _warn_prf(average, modifier, msg_start, len(result))\n",
      "/Users/Avinash/opt/anaconda3/lib/python3.7/site-packages/sklearn/metrics/_classification.py:1308: UndefinedMetricWarning: Precision is ill-defined and being set to 0.0 due to no predicted samples. Use `zero_division` parameter to control this behavior.\n",
      "  _warn_prf(average, modifier, msg_start, len(result))\n",
      "/Users/Avinash/opt/anaconda3/lib/python3.7/site-packages/sklearn/metrics/_classification.py:1308: UndefinedMetricWarning: Precision is ill-defined and being set to 0.0 due to no predicted samples. Use `zero_division` parameter to control this behavior.\n",
      "  _warn_prf(average, modifier, msg_start, len(result))\n",
      "/Users/Avinash/opt/anaconda3/lib/python3.7/site-packages/sklearn/metrics/_classification.py:1308: UndefinedMetricWarning: Precision is ill-defined and being set to 0.0 due to no predicted samples. Use `zero_division` parameter to control this behavior.\n",
      "  _warn_prf(average, modifier, msg_start, len(result))\n",
      "/Users/Avinash/opt/anaconda3/lib/python3.7/site-packages/sklearn/metrics/_classification.py:1308: UndefinedMetricWarning: Precision is ill-defined and being set to 0.0 due to no predicted samples. Use `zero_division` parameter to control this behavior.\n",
      "  _warn_prf(average, modifier, msg_start, len(result))\n",
      "/Users/Avinash/opt/anaconda3/lib/python3.7/site-packages/sklearn/metrics/_classification.py:1308: UndefinedMetricWarning: Precision is ill-defined and being set to 0.0 due to no predicted samples. Use `zero_division` parameter to control this behavior.\n",
      "  _warn_prf(average, modifier, msg_start, len(result))\n",
      "/Users/Avinash/opt/anaconda3/lib/python3.7/site-packages/sklearn/metrics/_classification.py:1308: UndefinedMetricWarning: Precision is ill-defined and being set to 0.0 due to no predicted samples. Use `zero_division` parameter to control this behavior.\n",
      "  _warn_prf(average, modifier, msg_start, len(result))\n",
      "/Users/Avinash/opt/anaconda3/lib/python3.7/site-packages/sklearn/metrics/_classification.py:1308: UndefinedMetricWarning: Precision is ill-defined and being set to 0.0 due to no predicted samples. Use `zero_division` parameter to control this behavior.\n",
      "  _warn_prf(average, modifier, msg_start, len(result))\n",
      "/Users/Avinash/opt/anaconda3/lib/python3.7/site-packages/sklearn/metrics/_classification.py:1308: UndefinedMetricWarning: Precision is ill-defined and being set to 0.0 due to no predicted samples. Use `zero_division` parameter to control this behavior.\n",
      "  _warn_prf(average, modifier, msg_start, len(result))\n",
      "/Users/Avinash/opt/anaconda3/lib/python3.7/site-packages/sklearn/metrics/_classification.py:1308: UndefinedMetricWarning: Precision is ill-defined and being set to 0.0 due to no predicted samples. Use `zero_division` parameter to control this behavior.\n",
      "  _warn_prf(average, modifier, msg_start, len(result))\n",
      "/Users/Avinash/opt/anaconda3/lib/python3.7/site-packages/sklearn/metrics/_classification.py:1308: UndefinedMetricWarning: Precision is ill-defined and being set to 0.0 due to no predicted samples. Use `zero_division` parameter to control this behavior.\n",
      "  _warn_prf(average, modifier, msg_start, len(result))\n",
      "/Users/Avinash/opt/anaconda3/lib/python3.7/site-packages/sklearn/metrics/_classification.py:1308: UndefinedMetricWarning: Precision is ill-defined and being set to 0.0 due to no predicted samples. Use `zero_division` parameter to control this behavior.\n",
      "  _warn_prf(average, modifier, msg_start, len(result))\n",
      "/Users/Avinash/opt/anaconda3/lib/python3.7/site-packages/sklearn/metrics/_classification.py:1308: UndefinedMetricWarning: Precision is ill-defined and being set to 0.0 due to no predicted samples. Use `zero_division` parameter to control this behavior.\n",
      "  _warn_prf(average, modifier, msg_start, len(result))\n"
     ]
    },
    {
     "name": "stderr",
     "output_type": "stream",
     "text": [
      "/Users/Avinash/opt/anaconda3/lib/python3.7/site-packages/sklearn/metrics/_classification.py:1308: UndefinedMetricWarning: Precision is ill-defined and being set to 0.0 due to no predicted samples. Use `zero_division` parameter to control this behavior.\n",
      "  _warn_prf(average, modifier, msg_start, len(result))\n",
      "/Users/Avinash/opt/anaconda3/lib/python3.7/site-packages/sklearn/metrics/_classification.py:1308: UndefinedMetricWarning: Precision is ill-defined and being set to 0.0 due to no predicted samples. Use `zero_division` parameter to control this behavior.\n",
      "  _warn_prf(average, modifier, msg_start, len(result))\n",
      "/Users/Avinash/opt/anaconda3/lib/python3.7/site-packages/sklearn/metrics/_classification.py:1308: UndefinedMetricWarning: Precision is ill-defined and being set to 0.0 due to no predicted samples. Use `zero_division` parameter to control this behavior.\n",
      "  _warn_prf(average, modifier, msg_start, len(result))\n",
      "/Users/Avinash/opt/anaconda3/lib/python3.7/site-packages/sklearn/metrics/_classification.py:1308: UndefinedMetricWarning: Precision is ill-defined and being set to 0.0 due to no predicted samples. Use `zero_division` parameter to control this behavior.\n",
      "  _warn_prf(average, modifier, msg_start, len(result))\n",
      "/Users/Avinash/opt/anaconda3/lib/python3.7/site-packages/sklearn/metrics/_classification.py:1308: UndefinedMetricWarning: Precision is ill-defined and being set to 0.0 due to no predicted samples. Use `zero_division` parameter to control this behavior.\n",
      "  _warn_prf(average, modifier, msg_start, len(result))\n",
      "/Users/Avinash/opt/anaconda3/lib/python3.7/site-packages/sklearn/metrics/_classification.py:1308: UndefinedMetricWarning: Precision is ill-defined and being set to 0.0 due to no predicted samples. Use `zero_division` parameter to control this behavior.\n",
      "  _warn_prf(average, modifier, msg_start, len(result))\n",
      "/Users/Avinash/opt/anaconda3/lib/python3.7/site-packages/sklearn/metrics/_classification.py:1308: UndefinedMetricWarning: Precision is ill-defined and being set to 0.0 due to no predicted samples. Use `zero_division` parameter to control this behavior.\n",
      "  _warn_prf(average, modifier, msg_start, len(result))\n",
      "/Users/Avinash/opt/anaconda3/lib/python3.7/site-packages/sklearn/metrics/_classification.py:1308: UndefinedMetricWarning: Precision is ill-defined and being set to 0.0 due to no predicted samples. Use `zero_division` parameter to control this behavior.\n",
      "  _warn_prf(average, modifier, msg_start, len(result))\n",
      "/Users/Avinash/opt/anaconda3/lib/python3.7/site-packages/sklearn/metrics/_classification.py:1308: UndefinedMetricWarning: Precision is ill-defined and being set to 0.0 due to no predicted samples. Use `zero_division` parameter to control this behavior.\n",
      "  _warn_prf(average, modifier, msg_start, len(result))\n",
      "/Users/Avinash/opt/anaconda3/lib/python3.7/site-packages/sklearn/metrics/_classification.py:1308: UndefinedMetricWarning: Precision is ill-defined and being set to 0.0 due to no predicted samples. Use `zero_division` parameter to control this behavior.\n",
      "  _warn_prf(average, modifier, msg_start, len(result))\n",
      "/Users/Avinash/opt/anaconda3/lib/python3.7/site-packages/sklearn/metrics/_classification.py:1308: UndefinedMetricWarning: Precision is ill-defined and being set to 0.0 due to no predicted samples. Use `zero_division` parameter to control this behavior.\n",
      "  _warn_prf(average, modifier, msg_start, len(result))\n",
      "/Users/Avinash/opt/anaconda3/lib/python3.7/site-packages/sklearn/metrics/_classification.py:1308: UndefinedMetricWarning: Precision is ill-defined and being set to 0.0 due to no predicted samples. Use `zero_division` parameter to control this behavior.\n",
      "  _warn_prf(average, modifier, msg_start, len(result))\n",
      "/Users/Avinash/opt/anaconda3/lib/python3.7/site-packages/sklearn/metrics/_classification.py:1308: UndefinedMetricWarning: Precision is ill-defined and being set to 0.0 due to no predicted samples. Use `zero_division` parameter to control this behavior.\n",
      "  _warn_prf(average, modifier, msg_start, len(result))\n",
      "/Users/Avinash/opt/anaconda3/lib/python3.7/site-packages/sklearn/metrics/_classification.py:1308: UndefinedMetricWarning: Precision is ill-defined and being set to 0.0 due to no predicted samples. Use `zero_division` parameter to control this behavior.\n",
      "  _warn_prf(average, modifier, msg_start, len(result))\n",
      "/Users/Avinash/opt/anaconda3/lib/python3.7/site-packages/sklearn/metrics/_classification.py:1308: UndefinedMetricWarning: Precision is ill-defined and being set to 0.0 due to no predicted samples. Use `zero_division` parameter to control this behavior.\n",
      "  _warn_prf(average, modifier, msg_start, len(result))\n",
      "/Users/Avinash/opt/anaconda3/lib/python3.7/site-packages/sklearn/metrics/_classification.py:1308: UndefinedMetricWarning: Precision is ill-defined and being set to 0.0 due to no predicted samples. Use `zero_division` parameter to control this behavior.\n",
      "  _warn_prf(average, modifier, msg_start, len(result))\n"
     ]
    },
    {
     "data": {
      "image/png": "[encoded data removed]",
      "text/plain": [
       "<Figure size 432x288 with 1 Axes>"
      ]
     },
     "metadata": {
      "needs_background": "light"
     },
     "output_type": "display_data"
    }
   ],
   "source": [
    "test_metric_rfc = threshold_and_plot(y_test=y_train, target=rfc_train_pred[:,1])"
   ]
  },
  {
   "cell_type": "code",
   "execution_count": 63,
   "metadata": {},
   "outputs": [
    {
     "name": "stdout",
     "output_type": "stream",
     "text": [
      "Maximum Precision:0.344 and threshold:0.08163265306122448\n",
      "Maximum Recall:1.000 and threshold:0.0\n",
      "Maximum F1:0.151 and threshold:0.04081632653061224\n"
     ]
    }
   ],
   "source": [
    "# print out the maximum value\n",
    "# assumes that \"test_metrics\" is a tuple to be unpacked\n",
    "for metric, val in zip([\"Precision\", \"Recall\", \"F1\"], test_metric_rfc):\n",
    "    max_idx, max_val = max_thresh(val)\n",
    "    print(f\"Maximum {metric}:{max_val:.3f} and threshold:{np.linspace(0, 1, 50)[max_idx]}\")"
   ]
  },
  {
   "cell_type": "code",
   "execution_count": 64,
   "metadata": {},
   "outputs": [
    {
     "name": "stdout",
     "output_type": "stream",
     "text": [
      "Precision on Test: 0.07436370343046846\n",
      "Recall on Test: 0.5789775990809879\n",
      "F1 score on Test: 0.1317991631799163\n"
     ]
    }
   ],
   "source": [
    "##Evaluate on the test data\n",
    "\n",
    "print(\"Precision on Test: {0}\".format(metrics.precision_score(y_test, np.where(pos_test_pred >0.0408, 1, 0))))\n",
    "print(\"Recall on Test: {0}\".format(metrics.recall_score(y_test, np.where(pos_test_pred > 0.0408, 1, 0))))\n",
    "print(\"F1 score on Test: {0}\".format(metrics.f1_score(y_test, np.where(pos_test_pred > 0.0408, 1, 0))))"
   ]
  },
  {
   "cell_type": "code",
   "execution_count": null,
   "metadata": {},
   "outputs": [],
   "source": []
  }
 ],
 "metadata": {
  "kernelspec": {
   "display_name": "Python 3",
   "language": "python",
   "name": "python3"
  },
  "language_info": {
   "codemirror_mode": {
    "name": "ipython",
    "version": 3
   },
   "file_extension": ".py",
   "mimetype": "text/x-python",
   "name": "python",
   "nbconvert_exporter": "python",
   "pygments_lexer": "ipython3",
   "version": "3.7.6"
  }
 },
 "nbformat": 4,
 "nbformat_minor": 4
}
