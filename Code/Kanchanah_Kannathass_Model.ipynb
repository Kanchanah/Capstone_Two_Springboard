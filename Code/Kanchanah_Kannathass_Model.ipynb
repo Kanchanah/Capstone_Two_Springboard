{
 "cells": [
  {
   "cell_type": "code",
   "execution_count": 1,
   "metadata": {},
   "outputs": [],
   "source": [
    "#import packages\n",
    "import numpy as np\n",
    "import pandas as pd\n",
    "import os\n",
    "\n",
    "import seaborn as sns\n",
    "import matplotlib.pyplot as plt\n",
    "from sklearn import impute\n",
    "\n",
    "from sklearn.model_selection import train_test_split\n",
    "from sklearn.model_selection import cross_val_score\n",
    "from sklearn.model_selection import GridSearchCV\n",
    "from sklearn.ensemble import RandomForestClassifier\n",
    "from sklearn.metrics import accuracy_score\n",
    "from sklearn.svm import SVC\n",
    "from sklearn.preprocessing import MinMaxScaler\n",
    "\n",
    "from sklearn.pipeline import Pipeline\n",
    "from sklearn.linear_model import Lasso\n",
    "from sklearn import metrics\n",
    "from scipy.stats import chi2\n",
    "from sklearn.metrics import log_loss\n",
    "from sklearn.linear_model import LogisticRegression\n",
    "from sklearn.feature_selection import SelectFromModel\n",
    "\n",
    "import statsmodels.api as sm"
   ]
  },
  {
   "cell_type": "markdown",
   "metadata": {},
   "source": [
    "## Import Datasets"
   ]
  },
  {
   "cell_type": "code",
   "execution_count": 2,
   "metadata": {},
   "outputs": [],
   "source": [
    "BASE_DIR = \"/Users/Avinash/Documents/Kanchanah/Springboard/Data_Science_Track/Capstone_Two_Other_Material/\"\n",
    "\n",
    "X_train = \"Data/X_train.csv\"\n",
    "X_test = \"Data/X_test.csv\"\n",
    "y_train = \"Data/y_train.csv\"\n",
    "y_test = \"Data/y_test.csv\""
   ]
  },
  {
   "cell_type": "code",
   "execution_count": 3,
   "metadata": {},
   "outputs": [],
   "source": [
    "X_train = pd.read_csv(os.path.expanduser(os.path.join(BASE_DIR, X_train)),index_col=0)\n",
    "X_test = pd.read_csv(os.path.expanduser(os.path.join(BASE_DIR, X_test)),index_col=0)\n",
    "y_train = pd.read_csv(os.path.expanduser(os.path.join(BASE_DIR, y_train)),index_col=0)\n",
    "y_test = pd.read_csv(os.path.expanduser(os.path.join(BASE_DIR, y_test)),index_col=0)"
   ]
  },
  {
   "cell_type": "code",
   "execution_count": 4,
   "metadata": {},
   "outputs": [
    {
     "data": {
      "text/html": [
       "<div>\n",
       "<style scoped>\n",
       "    .dataframe tbody tr th:only-of-type {\n",
       "        vertical-align: middle;\n",
       "    }\n",
       "\n",
       "    .dataframe tbody tr th {\n",
       "        vertical-align: top;\n",
       "    }\n",
       "\n",
       "    .dataframe thead th {\n",
       "        text-align: right;\n",
       "    }\n",
       "</style>\n",
       "<table border=\"1\" class=\"dataframe\">\n",
       "  <thead>\n",
       "    <tr style=\"text-align: right;\">\n",
       "      <th></th>\n",
       "      <th>CARSHARE</th>\n",
       "      <th>DRVRCNT</th>\n",
       "      <th>HHSIZE</th>\n",
       "      <th>HHVEHCNT</th>\n",
       "      <th>R_AGE</th>\n",
       "      <th>TIMETOWK</th>\n",
       "      <th>VEHAGE</th>\n",
       "      <th>VEHOWNMO</th>\n",
       "      <th>WRKCOUNT</th>\n",
       "      <th>YEARMILE</th>\n",
       "      <th>...</th>\n",
       "      <th>R_RACE_label_DONT_KNOW</th>\n",
       "      <th>R_RACE_label_MULTIPLE_RESPONSES_SELECTED</th>\n",
       "      <th>R_RACE_label_NATIVE_HAWAIIAN_OR_OTHER_PACIFIC_ISLANDER</th>\n",
       "      <th>R_RACE_label_REFUSED</th>\n",
       "      <th>R_RACE_label_SOME_OTHER_RACE</th>\n",
       "      <th>R_RACE_label_WHITE</th>\n",
       "      <th>R_SEX_label_MALE</th>\n",
       "      <th>VEHOWNED_label_YES</th>\n",
       "      <th>WKFTPT_label_PART-TIME</th>\n",
       "      <th>WKRMHM_label_YES</th>\n",
       "    </tr>\n",
       "  </thead>\n",
       "  <tbody>\n",
       "    <tr>\n",
       "      <th>0</th>\n",
       "      <td>0.0</td>\n",
       "      <td>0.000</td>\n",
       "      <td>0.000000</td>\n",
       "      <td>0.090909</td>\n",
       "      <td>0.609195</td>\n",
       "      <td>0.033333</td>\n",
       "      <td>0.000000</td>\n",
       "      <td>0.454545</td>\n",
       "      <td>0.142857</td>\n",
       "      <td>0.050</td>\n",
       "      <td>...</td>\n",
       "      <td>0</td>\n",
       "      <td>0</td>\n",
       "      <td>0</td>\n",
       "      <td>0</td>\n",
       "      <td>0</td>\n",
       "      <td>1</td>\n",
       "      <td>0</td>\n",
       "      <td>1</td>\n",
       "      <td>0</td>\n",
       "      <td>0</td>\n",
       "    </tr>\n",
       "    <tr>\n",
       "      <th>1</th>\n",
       "      <td>0.0</td>\n",
       "      <td>0.250</td>\n",
       "      <td>0.166667</td>\n",
       "      <td>0.090909</td>\n",
       "      <td>0.609195</td>\n",
       "      <td>0.033333</td>\n",
       "      <td>0.153846</td>\n",
       "      <td>0.454545</td>\n",
       "      <td>0.142857</td>\n",
       "      <td>0.050</td>\n",
       "      <td>...</td>\n",
       "      <td>0</td>\n",
       "      <td>0</td>\n",
       "      <td>0</td>\n",
       "      <td>0</td>\n",
       "      <td>0</td>\n",
       "      <td>0</td>\n",
       "      <td>1</td>\n",
       "      <td>1</td>\n",
       "      <td>0</td>\n",
       "      <td>0</td>\n",
       "    </tr>\n",
       "    <tr>\n",
       "      <th>2</th>\n",
       "      <td>0.0</td>\n",
       "      <td>0.125</td>\n",
       "      <td>0.083333</td>\n",
       "      <td>0.090909</td>\n",
       "      <td>0.666667</td>\n",
       "      <td>0.033333</td>\n",
       "      <td>0.000000</td>\n",
       "      <td>0.454545</td>\n",
       "      <td>0.000000</td>\n",
       "      <td>0.050</td>\n",
       "      <td>...</td>\n",
       "      <td>0</td>\n",
       "      <td>0</td>\n",
       "      <td>0</td>\n",
       "      <td>0</td>\n",
       "      <td>0</td>\n",
       "      <td>1</td>\n",
       "      <td>0</td>\n",
       "      <td>1</td>\n",
       "      <td>0</td>\n",
       "      <td>0</td>\n",
       "    </tr>\n",
       "    <tr>\n",
       "      <th>3</th>\n",
       "      <td>0.0</td>\n",
       "      <td>0.000</td>\n",
       "      <td>0.000000</td>\n",
       "      <td>0.000000</td>\n",
       "      <td>0.781609</td>\n",
       "      <td>0.033333</td>\n",
       "      <td>0.230769</td>\n",
       "      <td>0.454545</td>\n",
       "      <td>0.000000</td>\n",
       "      <td>0.005</td>\n",
       "      <td>...</td>\n",
       "      <td>0</td>\n",
       "      <td>0</td>\n",
       "      <td>0</td>\n",
       "      <td>0</td>\n",
       "      <td>0</td>\n",
       "      <td>1</td>\n",
       "      <td>1</td>\n",
       "      <td>1</td>\n",
       "      <td>0</td>\n",
       "      <td>0</td>\n",
       "    </tr>\n",
       "    <tr>\n",
       "      <th>4</th>\n",
       "      <td>0.0</td>\n",
       "      <td>0.125</td>\n",
       "      <td>0.250000</td>\n",
       "      <td>0.090909</td>\n",
       "      <td>0.344828</td>\n",
       "      <td>0.100000</td>\n",
       "      <td>0.333333</td>\n",
       "      <td>0.363636</td>\n",
       "      <td>0.285714</td>\n",
       "      <td>0.050</td>\n",
       "      <td>...</td>\n",
       "      <td>0</td>\n",
       "      <td>0</td>\n",
       "      <td>0</td>\n",
       "      <td>0</td>\n",
       "      <td>0</td>\n",
       "      <td>0</td>\n",
       "      <td>1</td>\n",
       "      <td>0</td>\n",
       "      <td>0</td>\n",
       "      <td>0</td>\n",
       "    </tr>\n",
       "  </tbody>\n",
       "</table>\n",
       "<p>5 rows × 125 columns</p>\n",
       "</div>"
      ],
      "text/plain": [
       "   CARSHARE  DRVRCNT    HHSIZE  HHVEHCNT     R_AGE  TIMETOWK    VEHAGE  \\\n",
       "0       0.0    0.000  0.000000  0.090909  0.609195  0.033333  0.000000   \n",
       "1       0.0    0.250  0.166667  0.090909  0.609195  0.033333  0.153846   \n",
       "2       0.0    0.125  0.083333  0.090909  0.666667  0.033333  0.000000   \n",
       "3       0.0    0.000  0.000000  0.000000  0.781609  0.033333  0.230769   \n",
       "4       0.0    0.125  0.250000  0.090909  0.344828  0.100000  0.333333   \n",
       "\n",
       "   VEHOWNMO  WRKCOUNT  YEARMILE  ...  R_RACE_label_DONT_KNOW  \\\n",
       "0  0.454545  0.142857     0.050  ...                       0   \n",
       "1  0.454545  0.142857     0.050  ...                       0   \n",
       "2  0.454545  0.000000     0.050  ...                       0   \n",
       "3  0.454545  0.000000     0.005  ...                       0   \n",
       "4  0.363636  0.285714     0.050  ...                       0   \n",
       "\n",
       "   R_RACE_label_MULTIPLE_RESPONSES_SELECTED  \\\n",
       "0                                         0   \n",
       "1                                         0   \n",
       "2                                         0   \n",
       "3                                         0   \n",
       "4                                         0   \n",
       "\n",
       "   R_RACE_label_NATIVE_HAWAIIAN_OR_OTHER_PACIFIC_ISLANDER  \\\n",
       "0                                                  0        \n",
       "1                                                  0        \n",
       "2                                                  0        \n",
       "3                                                  0        \n",
       "4                                                  0        \n",
       "\n",
       "   R_RACE_label_REFUSED  R_RACE_label_SOME_OTHER_RACE  R_RACE_label_WHITE  \\\n",
       "0                     0                             0                   1   \n",
       "1                     0                             0                   0   \n",
       "2                     0                             0                   1   \n",
       "3                     0                             0                   1   \n",
       "4                     0                             0                   0   \n",
       "\n",
       "   R_SEX_label_MALE  VEHOWNED_label_YES  WKFTPT_label_PART-TIME  \\\n",
       "0                 0                   1                       0   \n",
       "1                 1                   1                       0   \n",
       "2                 0                   1                       0   \n",
       "3                 1                   1                       0   \n",
       "4                 1                   0                       0   \n",
       "\n",
       "   WKRMHM_label_YES  \n",
       "0                 0  \n",
       "1                 0  \n",
       "2                 0  \n",
       "3                 0  \n",
       "4                 0  \n",
       "\n",
       "[5 rows x 125 columns]"
      ]
     },
     "execution_count": 4,
     "metadata": {},
     "output_type": "execute_result"
    }
   ],
   "source": [
    "X_train.head()"
   ]
  },
  {
   "cell_type": "code",
   "execution_count": 5,
   "metadata": {},
   "outputs": [
    {
     "name": "stdout",
     "output_type": "stream",
     "text": [
      "<class 'pandas.core.frame.DataFrame'>\n",
      "Int64Index: 140394 entries, 0 to 140393\n",
      "Data columns (total 125 columns):\n",
      " #   Column                                                         Dtype  \n",
      "---  ------                                                         -----  \n",
      " 0   CARSHARE                                                       float64\n",
      " 1   DRVRCNT                                                        float64\n",
      " 2   HHSIZE                                                         float64\n",
      " 3   HHVEHCNT                                                       float64\n",
      " 4   R_AGE                                                          float64\n",
      " 5   TIMETOWK                                                       float64\n",
      " 6   VEHAGE                                                         float64\n",
      " 7   VEHOWNMO                                                       float64\n",
      " 8   WRKCOUNT                                                       float64\n",
      " 9   YEARMILE                                                       float64\n",
      " 10  YOUNGCHILD                                                     float64\n",
      " 11  CAR_label_A_FEW_TIMES_A_WEEK                                   int64  \n",
      " 12  CAR_label_A_FEW_TIMES_A_YEAR                                   int64  \n",
      " 13  CAR_label_DAILY                                                int64  \n",
      " 14  CAR_label_NEVER                                                int64  \n",
      " 15  EDUC_label_GRADUATE_DEGREE_OR_PROFESSIONAL_DEGREE              int64  \n",
      " 16  EDUC_label_HIGH_SCHOOL_GRADUATE_OR_GED                         int64  \n",
      " 17  EDUC_label_LESS_THAN_A_HIGH_SCHOOL_GRADUATE                    int64  \n",
      " 18  EDUC_label_SOME_COLLEGE_OR_ASSOCIATES_DEGREE                   int64  \n",
      " 19  GT1JBLWK_label_YES                                             int64  \n",
      " 20  HBHUR_label_SECOND_CITY                                        int64  \n",
      " 21  HBHUR_label_SMALL_TOWN                                         int64  \n",
      " 22  HBHUR_label_SUBURBAN                                           int64  \n",
      " 23  HBHUR_label_URBAN                                              int64  \n",
      " 24  HBPPOPDN_label_1000-1999                                       int64  \n",
      " 25  HBPPOPDN_label_10000-24999                                     int64  \n",
      " 26  HBPPOPDN_label_100-499                                         int64  \n",
      " 27  HBPPOPDN_label_2000-3999                                       int64  \n",
      " 28  HBPPOPDN_label_25000-999999                                    int64  \n",
      " 29  HBPPOPDN_label_4000-9999                                       int64  \n",
      " 30  HBPPOPDN_label_500-999                                         int64  \n",
      " 31  HBRESDN_label_1000-1999                                        int64  \n",
      " 32  HBRESDN_label_10000-24999                                      int64  \n",
      " 33  HBRESDN_label_100-499                                          int64  \n",
      " 34  HBRESDN_label_2000-3999                                        int64  \n",
      " 35  HBRESDN_label_25000-999999                                     int64  \n",
      " 36  HBRESDN_label_4000-9999                                        int64  \n",
      " 37  HBRESDN_label_500-999                                          int64  \n",
      " 38  HHFAMINC_label_100000_TO_124999                                int64  \n",
      " 39  HHFAMINC_label_125000_TO_149999                                int64  \n",
      " 40  HHFAMINC_label_15000_TO_24999                                  int64  \n",
      " 41  HHFAMINC_label_150000_TO_199999                                int64  \n",
      " 42  HHFAMINC_label_200000_OR_MORE                                  int64  \n",
      " 43  HHFAMINC_label_25000_TO_34999                                  int64  \n",
      " 44  HHFAMINC_label_35000_TO_49999                                  int64  \n",
      " 45  HHFAMINC_label_50000_TO_74999                                  int64  \n",
      " 46  HHFAMINC_label_75000_TO_99999                                  int64  \n",
      " 47  HHFAMINC_label_LESS_THAN_10000                                 int64  \n",
      " 48  HHSTATE_label_AL                                               int64  \n",
      " 49  HHSTATE_label_AR                                               int64  \n",
      " 50  HHSTATE_label_AZ                                               int64  \n",
      " 51  HHSTATE_label_CA                                               int64  \n",
      " 52  HHSTATE_label_CO                                               int64  \n",
      " 53  HHSTATE_label_CT                                               int64  \n",
      " 54  HHSTATE_label_DC                                               int64  \n",
      " 55  HHSTATE_label_DE                                               int64  \n",
      " 56  HHSTATE_label_FL                                               int64  \n",
      " 57  HHSTATE_label_GA                                               int64  \n",
      " 58  HHSTATE_label_HI                                               int64  \n",
      " 59  HHSTATE_label_IA                                               int64  \n",
      " 60  HHSTATE_label_ID                                               int64  \n",
      " 61  HHSTATE_label_IL                                               int64  \n",
      " 62  HHSTATE_label_IN                                               int64  \n",
      " 63  HHSTATE_label_KS                                               int64  \n",
      " 64  HHSTATE_label_KY                                               int64  \n",
      " 65  HHSTATE_label_LA                                               int64  \n",
      " 66  HHSTATE_label_MA                                               int64  \n",
      " 67  HHSTATE_label_MD                                               int64  \n",
      " 68  HHSTATE_label_ME                                               int64  \n",
      " 69  HHSTATE_label_MI                                               int64  \n",
      " 70  HHSTATE_label_MN                                               int64  \n",
      " 71  HHSTATE_label_MO                                               int64  \n",
      " 72  HHSTATE_label_MS                                               int64  \n",
      " 73  HHSTATE_label_MT                                               int64  \n",
      " 74  HHSTATE_label_NC                                               int64  \n",
      " 75  HHSTATE_label_ND                                               int64  \n",
      " 76  HHSTATE_label_NE                                               int64  \n",
      " 77  HHSTATE_label_NH                                               int64  \n",
      " 78  HHSTATE_label_NJ                                               int64  \n",
      " 79  HHSTATE_label_NM                                               int64  \n",
      " 80  HHSTATE_label_NV                                               int64  \n",
      " 81  HHSTATE_label_NY                                               int64  \n",
      " 82  HHSTATE_label_OH                                               int64  \n",
      " 83  HHSTATE_label_OK                                               int64  \n",
      " 84  HHSTATE_label_OR                                               int64  \n",
      " 85  HHSTATE_label_PA                                               int64  \n",
      " 86  HHSTATE_label_RI                                               int64  \n",
      " 87  HHSTATE_label_SC                                               int64  \n",
      " 88  HHSTATE_label_SD                                               int64  \n",
      " 89  HHSTATE_label_TN                                               int64  \n",
      " 90  HHSTATE_label_TX                                               int64  \n",
      " 91  HHSTATE_label_UT                                               int64  \n",
      " 92  HHSTATE_label_VA                                               int64  \n",
      " 93  HHSTATE_label_VT                                               int64  \n",
      " 94  HHSTATE_label_WA                                               int64  \n",
      " 95  HHSTATE_label_WI                                               int64  \n",
      " 96  HHSTATE_label_WV                                               int64  \n",
      " 97  HHSTATE_label_WY                                               int64  \n",
      " 98  HOMEOWN_label_RENT                                             int64  \n",
      " 99  HOMEOWN_label_SOME_OTHER_ARRANGEMENT                           int64  \n",
      " 100 OCCAT_label_MANUFACTURING_CONSTRUCTION_MAINTENANCE_OR_FARMING  int64  \n",
      " 101 OCCAT_label_PROFESSIONAL_MANAGERIAL_OR_TECHNICAL               int64  \n",
      " 102 OCCAT_label_SALES_OR_SERVICE                                   int64  \n",
      " 103 OCCAT_label_SOMETHING_ELSE                                     int64  \n",
      " 104 PLACE_label_DISAGREE                                           int64  \n",
      " 105 PLACE_label_NEITHER_AGREE_OR_DISAGREE                          int64  \n",
      " 106 PLACE_label_STRONGLY_AGREE                                     int64  \n",
      " 107 PLACE_label_STRONGLY_DISAGREE                                  int64  \n",
      " 108 PRICE_label_DISAGREE                                           int64  \n",
      " 109 PRICE_label_NEITHER_AGREE_OR_DISAGREE                          int64  \n",
      " 110 PRICE_label_STRONGLY_AGREE                                     int64  \n",
      " 111 PRICE_label_STRONGLY_DISAGREE                                  int64  \n",
      " 112 R_HISP_label_YES_HISPANIC_OR_LATINO                            int64  \n",
      " 113 R_RACE_label_ASIAN                                             int64  \n",
      " 114 R_RACE_label_BLACK_OR_AFRICAN_AMERICAN                         int64  \n",
      " 115 R_RACE_label_DONT_KNOW                                         int64  \n",
      " 116 R_RACE_label_MULTIPLE_RESPONSES_SELECTED                       int64  \n",
      " 117 R_RACE_label_NATIVE_HAWAIIAN_OR_OTHER_PACIFIC_ISLANDER         int64  \n",
      " 118 R_RACE_label_REFUSED                                           int64  \n",
      " 119 R_RACE_label_SOME_OTHER_RACE                                   int64  \n",
      " 120 R_RACE_label_WHITE                                             int64  \n",
      " 121 R_SEX_label_MALE                                               int64  \n",
      " 122 VEHOWNED_label_YES                                             int64  \n",
      " 123 WKFTPT_label_PART-TIME                                         int64  \n",
      " 124 WKRMHM_label_YES                                               int64  \n",
      "dtypes: float64(11), int64(114)\n",
      "memory usage: 135.0 MB\n"
     ]
    }
   ],
   "source": [
    "X_train.info(verbose=True)"
   ]
  },
  {
   "cell_type": "code",
   "execution_count": 6,
   "metadata": {},
   "outputs": [
    {
     "data": {
      "text/plain": [
       "(140394, 125)"
      ]
     },
     "execution_count": 6,
     "metadata": {},
     "output_type": "execute_result"
    }
   ],
   "source": [
    "X_train.shape"
   ]
  },
  {
   "cell_type": "code",
   "execution_count": 7,
   "metadata": {},
   "outputs": [
    {
     "data": {
      "text/html": [
       "<div>\n",
       "<style scoped>\n",
       "    .dataframe tbody tr th:only-of-type {\n",
       "        vertical-align: middle;\n",
       "    }\n",
       "\n",
       "    .dataframe tbody tr th {\n",
       "        vertical-align: top;\n",
       "    }\n",
       "\n",
       "    .dataframe thead th {\n",
       "        text-align: right;\n",
       "    }\n",
       "</style>\n",
       "<table border=\"1\" class=\"dataframe\">\n",
       "  <thead>\n",
       "    <tr style=\"text-align: right;\">\n",
       "      <th></th>\n",
       "      <th>CARSHARE</th>\n",
       "      <th>DRVRCNT</th>\n",
       "      <th>HHSIZE</th>\n",
       "      <th>HHVEHCNT</th>\n",
       "      <th>R_AGE</th>\n",
       "      <th>TIMETOWK</th>\n",
       "      <th>VEHAGE</th>\n",
       "      <th>VEHOWNMO</th>\n",
       "      <th>WRKCOUNT</th>\n",
       "      <th>YEARMILE</th>\n",
       "      <th>...</th>\n",
       "      <th>R_RACE_label_DON'T KNOW</th>\n",
       "      <th>R_RACE_label_MULTIPLE RESPONSES SELECTED</th>\n",
       "      <th>R_RACE_label_NATIVE HAWAIIAN OR OTHER PACIFIC ISLANDER</th>\n",
       "      <th>R_RACE_label_REFUSED</th>\n",
       "      <th>R_RACE_label_SOME OTHER RACE</th>\n",
       "      <th>R_RACE_label_WHITE</th>\n",
       "      <th>R_SEX_label_MALE</th>\n",
       "      <th>VEHOWNED_label_YES</th>\n",
       "      <th>WKFTPT_label_PART-TIME</th>\n",
       "      <th>WKRMHM_label_YES</th>\n",
       "    </tr>\n",
       "  </thead>\n",
       "  <tbody>\n",
       "    <tr>\n",
       "      <th>0</th>\n",
       "      <td>0.0</td>\n",
       "      <td>0.125</td>\n",
       "      <td>0.083333</td>\n",
       "      <td>0.181818</td>\n",
       "      <td>0.252874</td>\n",
       "      <td>0.025000</td>\n",
       "      <td>0.076923</td>\n",
       "      <td>0.454545</td>\n",
       "      <td>0.285714</td>\n",
       "      <td>0.065</td>\n",
       "      <td>...</td>\n",
       "      <td>0</td>\n",
       "      <td>0</td>\n",
       "      <td>0</td>\n",
       "      <td>0</td>\n",
       "      <td>0</td>\n",
       "      <td>1</td>\n",
       "      <td>0</td>\n",
       "      <td>1</td>\n",
       "      <td>0</td>\n",
       "      <td>1</td>\n",
       "    </tr>\n",
       "    <tr>\n",
       "      <th>1</th>\n",
       "      <td>0.0</td>\n",
       "      <td>0.125</td>\n",
       "      <td>0.083333</td>\n",
       "      <td>0.181818</td>\n",
       "      <td>0.689655</td>\n",
       "      <td>0.033333</td>\n",
       "      <td>0.076923</td>\n",
       "      <td>0.363636</td>\n",
       "      <td>0.000000</td>\n",
       "      <td>0.015</td>\n",
       "      <td>...</td>\n",
       "      <td>0</td>\n",
       "      <td>0</td>\n",
       "      <td>0</td>\n",
       "      <td>0</td>\n",
       "      <td>0</td>\n",
       "      <td>1</td>\n",
       "      <td>1</td>\n",
       "      <td>0</td>\n",
       "      <td>0</td>\n",
       "      <td>0</td>\n",
       "    </tr>\n",
       "    <tr>\n",
       "      <th>2</th>\n",
       "      <td>0.0</td>\n",
       "      <td>0.000</td>\n",
       "      <td>0.250000</td>\n",
       "      <td>0.000000</td>\n",
       "      <td>0.310345</td>\n",
       "      <td>0.033333</td>\n",
       "      <td>0.384615</td>\n",
       "      <td>0.909091</td>\n",
       "      <td>0.142857</td>\n",
       "      <td>0.050</td>\n",
       "      <td>...</td>\n",
       "      <td>0</td>\n",
       "      <td>0</td>\n",
       "      <td>0</td>\n",
       "      <td>0</td>\n",
       "      <td>0</td>\n",
       "      <td>1</td>\n",
       "      <td>0</td>\n",
       "      <td>0</td>\n",
       "      <td>0</td>\n",
       "      <td>0</td>\n",
       "    </tr>\n",
       "    <tr>\n",
       "      <th>3</th>\n",
       "      <td>0.0</td>\n",
       "      <td>0.125</td>\n",
       "      <td>0.083333</td>\n",
       "      <td>0.090909</td>\n",
       "      <td>0.724138</td>\n",
       "      <td>0.075000</td>\n",
       "      <td>0.410256</td>\n",
       "      <td>0.454545</td>\n",
       "      <td>0.285714</td>\n",
       "      <td>0.025</td>\n",
       "      <td>...</td>\n",
       "      <td>0</td>\n",
       "      <td>0</td>\n",
       "      <td>0</td>\n",
       "      <td>0</td>\n",
       "      <td>0</td>\n",
       "      <td>1</td>\n",
       "      <td>1</td>\n",
       "      <td>1</td>\n",
       "      <td>1</td>\n",
       "      <td>0</td>\n",
       "    </tr>\n",
       "    <tr>\n",
       "      <th>4</th>\n",
       "      <td>0.0</td>\n",
       "      <td>0.125</td>\n",
       "      <td>0.250000</td>\n",
       "      <td>0.090909</td>\n",
       "      <td>0.356322</td>\n",
       "      <td>0.025000</td>\n",
       "      <td>0.025641</td>\n",
       "      <td>0.454545</td>\n",
       "      <td>0.142857</td>\n",
       "      <td>0.090</td>\n",
       "      <td>...</td>\n",
       "      <td>0</td>\n",
       "      <td>0</td>\n",
       "      <td>0</td>\n",
       "      <td>0</td>\n",
       "      <td>0</td>\n",
       "      <td>1</td>\n",
       "      <td>1</td>\n",
       "      <td>1</td>\n",
       "      <td>0</td>\n",
       "      <td>1</td>\n",
       "    </tr>\n",
       "  </tbody>\n",
       "</table>\n",
       "<p>5 rows × 125 columns</p>\n",
       "</div>"
      ],
      "text/plain": [
       "   CARSHARE  DRVRCNT    HHSIZE  HHVEHCNT     R_AGE  TIMETOWK    VEHAGE  \\\n",
       "0       0.0    0.125  0.083333  0.181818  0.252874  0.025000  0.076923   \n",
       "1       0.0    0.125  0.083333  0.181818  0.689655  0.033333  0.076923   \n",
       "2       0.0    0.000  0.250000  0.000000  0.310345  0.033333  0.384615   \n",
       "3       0.0    0.125  0.083333  0.090909  0.724138  0.075000  0.410256   \n",
       "4       0.0    0.125  0.250000  0.090909  0.356322  0.025000  0.025641   \n",
       "\n",
       "   VEHOWNMO  WRKCOUNT  YEARMILE  ...  R_RACE_label_DON'T KNOW  \\\n",
       "0  0.454545  0.285714     0.065  ...                        0   \n",
       "1  0.363636  0.000000     0.015  ...                        0   \n",
       "2  0.909091  0.142857     0.050  ...                        0   \n",
       "3  0.454545  0.285714     0.025  ...                        0   \n",
       "4  0.454545  0.142857     0.090  ...                        0   \n",
       "\n",
       "   R_RACE_label_MULTIPLE RESPONSES SELECTED  \\\n",
       "0                                         0   \n",
       "1                                         0   \n",
       "2                                         0   \n",
       "3                                         0   \n",
       "4                                         0   \n",
       "\n",
       "   R_RACE_label_NATIVE HAWAIIAN OR OTHER PACIFIC ISLANDER  \\\n",
       "0                                                  0        \n",
       "1                                                  0        \n",
       "2                                                  0        \n",
       "3                                                  0        \n",
       "4                                                  0        \n",
       "\n",
       "   R_RACE_label_REFUSED  R_RACE_label_SOME OTHER RACE  R_RACE_label_WHITE  \\\n",
       "0                     0                             0                   1   \n",
       "1                     0                             0                   1   \n",
       "2                     0                             0                   1   \n",
       "3                     0                             0                   1   \n",
       "4                     0                             0                   1   \n",
       "\n",
       "   R_SEX_label_MALE  VEHOWNED_label_YES  WKFTPT_label_PART-TIME  \\\n",
       "0                 0                   1                       0   \n",
       "1                 1                   0                       0   \n",
       "2                 0                   0                       0   \n",
       "3                 1                   1                       1   \n",
       "4                 1                   1                       0   \n",
       "\n",
       "   WKRMHM_label_YES  \n",
       "0                 1  \n",
       "1                 0  \n",
       "2                 0  \n",
       "3                 0  \n",
       "4                 1  \n",
       "\n",
       "[5 rows x 125 columns]"
      ]
     },
     "execution_count": 7,
     "metadata": {},
     "output_type": "execute_result"
    }
   ],
   "source": [
    "X_test.head()"
   ]
  },
  {
   "cell_type": "code",
   "execution_count": 8,
   "metadata": {},
   "outputs": [
    {
     "name": "stdout",
     "output_type": "stream",
     "text": [
      "<class 'pandas.core.frame.DataFrame'>\n",
      "Int64Index: 60170 entries, 0 to 60169\n",
      "Data columns (total 125 columns):\n",
      " #   Column                                                            Dtype  \n",
      "---  ------                                                            -----  \n",
      " 0   CARSHARE                                                          float64\n",
      " 1   DRVRCNT                                                           float64\n",
      " 2   HHSIZE                                                            float64\n",
      " 3   HHVEHCNT                                                          float64\n",
      " 4   R_AGE                                                             float64\n",
      " 5   TIMETOWK                                                          float64\n",
      " 6   VEHAGE                                                            float64\n",
      " 7   VEHOWNMO                                                          float64\n",
      " 8   WRKCOUNT                                                          float64\n",
      " 9   YEARMILE                                                          float64\n",
      " 10  YOUNGCHILD                                                        float64\n",
      " 11  CAR_label_A FEW TIMES A WEEK                                      int64  \n",
      " 12  CAR_label_A FEW TIMES A YEAR                                      int64  \n",
      " 13  CAR_label_DAILY                                                   int64  \n",
      " 14  CAR_label_NEVER                                                   int64  \n",
      " 15  EDUC_label_GRADUATE DEGREE OR PROFESSIONAL DEGREE                 int64  \n",
      " 16  EDUC_label_HIGH SCHOOL GRADUATE OR GED                            int64  \n",
      " 17  EDUC_label_LESS THAN A HIGH SCHOOL GRADUATE                       int64  \n",
      " 18  EDUC_label_SOME COLLEGE OR ASSOCIATES DEGREE                      int64  \n",
      " 19  GT1JBLWK_label_YES                                                int64  \n",
      " 20  HBHUR_label_SECOND CITY                                           int64  \n",
      " 21  HBHUR_label_SMALL TOWN                                            int64  \n",
      " 22  HBHUR_label_SUBURBAN                                              int64  \n",
      " 23  HBHUR_label_URBAN                                                 int64  \n",
      " 24  HBPPOPDN_label_1,000-1,999                                        int64  \n",
      " 25  HBPPOPDN_label_10,000-24,999                                      int64  \n",
      " 26  HBPPOPDN_label_100-499                                            int64  \n",
      " 27  HBPPOPDN_label_2,000-3,999                                        int64  \n",
      " 28  HBPPOPDN_label_25,000-999,999                                     int64  \n",
      " 29  HBPPOPDN_label_4,000-9,999                                        int64  \n",
      " 30  HBPPOPDN_label_500-999                                            int64  \n",
      " 31  HBRESDN_label_1,000-1,999                                         int64  \n",
      " 32  HBRESDN_label_10,000-24,999                                       int64  \n",
      " 33  HBRESDN_label_100-499                                             int64  \n",
      " 34  HBRESDN_label_2,000-3,999                                         int64  \n",
      " 35  HBRESDN_label_25,000-999,999                                      int64  \n",
      " 36  HBRESDN_label_4,000-9,999                                         int64  \n",
      " 37  HBRESDN_label_500-999                                             int64  \n",
      " 38  HHFAMINC_label_$100,000 TO $124,999                               int64  \n",
      " 39  HHFAMINC_label_$125,000 TO $149,999                               int64  \n",
      " 40  HHFAMINC_label_$15,000 TO $24,999                                 int64  \n",
      " 41  HHFAMINC_label_$150,000 TO $199,999                               int64  \n",
      " 42  HHFAMINC_label_$200,000 OR MORE                                   int64  \n",
      " 43  HHFAMINC_label_$25,000 TO $34,999                                 int64  \n",
      " 44  HHFAMINC_label_$35,000 TO $49,999                                 int64  \n",
      " 45  HHFAMINC_label_$50,000 TO $74,999                                 int64  \n",
      " 46  HHFAMINC_label_$75,000 TO $99,999                                 int64  \n",
      " 47  HHFAMINC_label_LESS THAN $10,000                                  int64  \n",
      " 48  HHSTATE_label_AL                                                  int64  \n",
      " 49  HHSTATE_label_AR                                                  int64  \n",
      " 50  HHSTATE_label_AZ                                                  int64  \n",
      " 51  HHSTATE_label_CA                                                  int64  \n",
      " 52  HHSTATE_label_CO                                                  int64  \n",
      " 53  HHSTATE_label_CT                                                  int64  \n",
      " 54  HHSTATE_label_DC                                                  int64  \n",
      " 55  HHSTATE_label_DE                                                  int64  \n",
      " 56  HHSTATE_label_FL                                                  int64  \n",
      " 57  HHSTATE_label_GA                                                  int64  \n",
      " 58  HHSTATE_label_HI                                                  int64  \n",
      " 59  HHSTATE_label_IA                                                  int64  \n",
      " 60  HHSTATE_label_ID                                                  int64  \n",
      " 61  HHSTATE_label_IL                                                  int64  \n",
      " 62  HHSTATE_label_IN                                                  int64  \n",
      " 63  HHSTATE_label_KS                                                  int64  \n",
      " 64  HHSTATE_label_KY                                                  int64  \n",
      " 65  HHSTATE_label_LA                                                  int64  \n",
      " 66  HHSTATE_label_MA                                                  int64  \n",
      " 67  HHSTATE_label_MD                                                  int64  \n",
      " 68  HHSTATE_label_ME                                                  int64  \n",
      " 69  HHSTATE_label_MI                                                  int64  \n",
      " 70  HHSTATE_label_MN                                                  int64  \n",
      " 71  HHSTATE_label_MO                                                  int64  \n",
      " 72  HHSTATE_label_MS                                                  int64  \n",
      " 73  HHSTATE_label_MT                                                  int64  \n",
      " 74  HHSTATE_label_NC                                                  int64  \n",
      " 75  HHSTATE_label_ND                                                  int64  \n",
      " 76  HHSTATE_label_NE                                                  int64  \n",
      " 77  HHSTATE_label_NH                                                  int64  \n",
      " 78  HHSTATE_label_NJ                                                  int64  \n",
      " 79  HHSTATE_label_NM                                                  int64  \n",
      " 80  HHSTATE_label_NV                                                  int64  \n",
      " 81  HHSTATE_label_NY                                                  int64  \n",
      " 82  HHSTATE_label_OH                                                  int64  \n",
      " 83  HHSTATE_label_OK                                                  int64  \n",
      " 84  HHSTATE_label_OR                                                  int64  \n",
      " 85  HHSTATE_label_PA                                                  int64  \n",
      " 86  HHSTATE_label_RI                                                  int64  \n",
      " 87  HHSTATE_label_SC                                                  int64  \n",
      " 88  HHSTATE_label_SD                                                  int64  \n",
      " 89  HHSTATE_label_TN                                                  int64  \n",
      " 90  HHSTATE_label_TX                                                  int64  \n",
      " 91  HHSTATE_label_UT                                                  int64  \n",
      " 92  HHSTATE_label_VA                                                  int64  \n",
      " 93  HHSTATE_label_VT                                                  int64  \n",
      " 94  HHSTATE_label_WA                                                  int64  \n",
      " 95  HHSTATE_label_WI                                                  int64  \n",
      " 96  HHSTATE_label_WV                                                  int64  \n",
      " 97  HHSTATE_label_WY                                                  int64  \n",
      " 98  HOMEOWN_label_RENT                                                int64  \n",
      " 99  HOMEOWN_label_SOME OTHER ARRANGEMENT                              int64  \n",
      " 100 OCCAT_label_MANUFACTURING, CONSTRUCTION, MAINTENANCE, OR FARMING  int64  \n",
      " 101 OCCAT_label_PROFESSIONAL, MANAGERIAL, OR TECHNICAL                int64  \n",
      " 102 OCCAT_label_SALES OR SERVICE                                      int64  \n",
      " 103 OCCAT_label_SOMETHING ELSE                                        int64  \n",
      " 104 PLACE_label_DISAGREE                                              int64  \n",
      " 105 PLACE_label_NEITHER AGREE OR DISAGREE                             int64  \n",
      " 106 PLACE_label_STRONGLY AGREE                                        int64  \n",
      " 107 PLACE_label_STRONGLY DISAGREE                                     int64  \n",
      " 108 PRICE_label_DISAGREE                                              int64  \n",
      " 109 PRICE_label_NEITHER AGREE OR DISAGREE                             int64  \n",
      " 110 PRICE_label_STRONGLY AGREE                                        int64  \n",
      " 111 PRICE_label_STRONGLY DISAGREE                                     int64  \n",
      " 112 R_HISP_label_YES, HISPANIC OR LATINO                              int64  \n",
      " 113 R_RACE_label_ASIAN                                                int64  \n",
      " 114 R_RACE_label_BLACK OR AFRICAN AMERICAN                            int64  \n",
      " 115 R_RACE_label_DON'T KNOW                                           int64  \n",
      " 116 R_RACE_label_MULTIPLE RESPONSES SELECTED                          int64  \n",
      " 117 R_RACE_label_NATIVE HAWAIIAN OR OTHER PACIFIC ISLANDER            int64  \n",
      " 118 R_RACE_label_REFUSED                                              int64  \n",
      " 119 R_RACE_label_SOME OTHER RACE                                      int64  \n",
      " 120 R_RACE_label_WHITE                                                int64  \n",
      " 121 R_SEX_label_MALE                                                  int64  \n",
      " 122 VEHOWNED_label_YES                                                int64  \n",
      " 123 WKFTPT_label_PART-TIME                                            int64  \n",
      " 124 WKRMHM_label_YES                                                  int64  \n",
      "dtypes: float64(11), int64(114)\n",
      "memory usage: 57.8 MB\n"
     ]
    }
   ],
   "source": [
    "X_test.info(verbose=True)"
   ]
  },
  {
   "cell_type": "code",
   "execution_count": 9,
   "metadata": {},
   "outputs": [
    {
     "data": {
      "text/plain": [
       "(60170, 125)"
      ]
     },
     "execution_count": 9,
     "metadata": {},
     "output_type": "execute_result"
    }
   ],
   "source": [
    "X_test.shape"
   ]
  },
  {
   "cell_type": "code",
   "execution_count": 10,
   "metadata": {},
   "outputs": [
    {
     "data": {
      "text/html": [
       "<div>\n",
       "<style scoped>\n",
       "    .dataframe tbody tr th:only-of-type {\n",
       "        vertical-align: middle;\n",
       "    }\n",
       "\n",
       "    .dataframe tbody tr th {\n",
       "        vertical-align: top;\n",
       "    }\n",
       "\n",
       "    .dataframe thead th {\n",
       "        text-align: right;\n",
       "    }\n",
       "</style>\n",
       "<table border=\"1\" class=\"dataframe\">\n",
       "  <thead>\n",
       "    <tr style=\"text-align: right;\">\n",
       "      <th></th>\n",
       "      <th>CARSHARE</th>\n",
       "      <th>DRVRCNT</th>\n",
       "      <th>HHSIZE</th>\n",
       "      <th>HHVEHCNT</th>\n",
       "      <th>R_AGE</th>\n",
       "      <th>TIMETOWK</th>\n",
       "      <th>VEHAGE</th>\n",
       "      <th>VEHOWNMO</th>\n",
       "      <th>WRKCOUNT</th>\n",
       "      <th>YEARMILE</th>\n",
       "      <th>...</th>\n",
       "      <th>R_RACE_label_DON'T KNOW</th>\n",
       "      <th>R_RACE_label_MULTIPLE RESPONSES SELECTED</th>\n",
       "      <th>R_RACE_label_NATIVE HAWAIIAN OR OTHER PACIFIC ISLANDER</th>\n",
       "      <th>R_RACE_label_REFUSED</th>\n",
       "      <th>R_RACE_label_SOME OTHER RACE</th>\n",
       "      <th>R_RACE_label_WHITE</th>\n",
       "      <th>R_SEX_label_MALE</th>\n",
       "      <th>VEHOWNED_label_YES</th>\n",
       "      <th>WKFTPT_label_PART-TIME</th>\n",
       "      <th>WKRMHM_label_YES</th>\n",
       "    </tr>\n",
       "  </thead>\n",
       "  <tbody>\n",
       "    <tr>\n",
       "      <th>0</th>\n",
       "      <td>0.0</td>\n",
       "      <td>0.125</td>\n",
       "      <td>0.083333</td>\n",
       "      <td>0.181818</td>\n",
       "      <td>0.252874</td>\n",
       "      <td>0.025000</td>\n",
       "      <td>0.076923</td>\n",
       "      <td>0.454545</td>\n",
       "      <td>0.285714</td>\n",
       "      <td>0.065</td>\n",
       "      <td>...</td>\n",
       "      <td>0</td>\n",
       "      <td>0</td>\n",
       "      <td>0</td>\n",
       "      <td>0</td>\n",
       "      <td>0</td>\n",
       "      <td>1</td>\n",
       "      <td>0</td>\n",
       "      <td>1</td>\n",
       "      <td>0</td>\n",
       "      <td>1</td>\n",
       "    </tr>\n",
       "    <tr>\n",
       "      <th>1</th>\n",
       "      <td>0.0</td>\n",
       "      <td>0.125</td>\n",
       "      <td>0.083333</td>\n",
       "      <td>0.181818</td>\n",
       "      <td>0.689655</td>\n",
       "      <td>0.033333</td>\n",
       "      <td>0.076923</td>\n",
       "      <td>0.363636</td>\n",
       "      <td>0.000000</td>\n",
       "      <td>0.015</td>\n",
       "      <td>...</td>\n",
       "      <td>0</td>\n",
       "      <td>0</td>\n",
       "      <td>0</td>\n",
       "      <td>0</td>\n",
       "      <td>0</td>\n",
       "      <td>1</td>\n",
       "      <td>1</td>\n",
       "      <td>0</td>\n",
       "      <td>0</td>\n",
       "      <td>0</td>\n",
       "    </tr>\n",
       "    <tr>\n",
       "      <th>2</th>\n",
       "      <td>0.0</td>\n",
       "      <td>0.000</td>\n",
       "      <td>0.250000</td>\n",
       "      <td>0.000000</td>\n",
       "      <td>0.310345</td>\n",
       "      <td>0.033333</td>\n",
       "      <td>0.384615</td>\n",
       "      <td>0.909091</td>\n",
       "      <td>0.142857</td>\n",
       "      <td>0.050</td>\n",
       "      <td>...</td>\n",
       "      <td>0</td>\n",
       "      <td>0</td>\n",
       "      <td>0</td>\n",
       "      <td>0</td>\n",
       "      <td>0</td>\n",
       "      <td>1</td>\n",
       "      <td>0</td>\n",
       "      <td>0</td>\n",
       "      <td>0</td>\n",
       "      <td>0</td>\n",
       "    </tr>\n",
       "    <tr>\n",
       "      <th>3</th>\n",
       "      <td>0.0</td>\n",
       "      <td>0.125</td>\n",
       "      <td>0.083333</td>\n",
       "      <td>0.090909</td>\n",
       "      <td>0.724138</td>\n",
       "      <td>0.075000</td>\n",
       "      <td>0.410256</td>\n",
       "      <td>0.454545</td>\n",
       "      <td>0.285714</td>\n",
       "      <td>0.025</td>\n",
       "      <td>...</td>\n",
       "      <td>0</td>\n",
       "      <td>0</td>\n",
       "      <td>0</td>\n",
       "      <td>0</td>\n",
       "      <td>0</td>\n",
       "      <td>1</td>\n",
       "      <td>1</td>\n",
       "      <td>1</td>\n",
       "      <td>1</td>\n",
       "      <td>0</td>\n",
       "    </tr>\n",
       "    <tr>\n",
       "      <th>4</th>\n",
       "      <td>0.0</td>\n",
       "      <td>0.125</td>\n",
       "      <td>0.250000</td>\n",
       "      <td>0.090909</td>\n",
       "      <td>0.356322</td>\n",
       "      <td>0.025000</td>\n",
       "      <td>0.025641</td>\n",
       "      <td>0.454545</td>\n",
       "      <td>0.142857</td>\n",
       "      <td>0.090</td>\n",
       "      <td>...</td>\n",
       "      <td>0</td>\n",
       "      <td>0</td>\n",
       "      <td>0</td>\n",
       "      <td>0</td>\n",
       "      <td>0</td>\n",
       "      <td>1</td>\n",
       "      <td>1</td>\n",
       "      <td>1</td>\n",
       "      <td>0</td>\n",
       "      <td>1</td>\n",
       "    </tr>\n",
       "  </tbody>\n",
       "</table>\n",
       "<p>5 rows × 125 columns</p>\n",
       "</div>"
      ],
      "text/plain": [
       "   CARSHARE  DRVRCNT    HHSIZE  HHVEHCNT     R_AGE  TIMETOWK    VEHAGE  \\\n",
       "0       0.0    0.125  0.083333  0.181818  0.252874  0.025000  0.076923   \n",
       "1       0.0    0.125  0.083333  0.181818  0.689655  0.033333  0.076923   \n",
       "2       0.0    0.000  0.250000  0.000000  0.310345  0.033333  0.384615   \n",
       "3       0.0    0.125  0.083333  0.090909  0.724138  0.075000  0.410256   \n",
       "4       0.0    0.125  0.250000  0.090909  0.356322  0.025000  0.025641   \n",
       "\n",
       "   VEHOWNMO  WRKCOUNT  YEARMILE  ...  R_RACE_label_DON'T KNOW  \\\n",
       "0  0.454545  0.285714     0.065  ...                        0   \n",
       "1  0.363636  0.000000     0.015  ...                        0   \n",
       "2  0.909091  0.142857     0.050  ...                        0   \n",
       "3  0.454545  0.285714     0.025  ...                        0   \n",
       "4  0.454545  0.142857     0.090  ...                        0   \n",
       "\n",
       "   R_RACE_label_MULTIPLE RESPONSES SELECTED  \\\n",
       "0                                         0   \n",
       "1                                         0   \n",
       "2                                         0   \n",
       "3                                         0   \n",
       "4                                         0   \n",
       "\n",
       "   R_RACE_label_NATIVE HAWAIIAN OR OTHER PACIFIC ISLANDER  \\\n",
       "0                                                  0        \n",
       "1                                                  0        \n",
       "2                                                  0        \n",
       "3                                                  0        \n",
       "4                                                  0        \n",
       "\n",
       "   R_RACE_label_REFUSED  R_RACE_label_SOME OTHER RACE  R_RACE_label_WHITE  \\\n",
       "0                     0                             0                   1   \n",
       "1                     0                             0                   1   \n",
       "2                     0                             0                   1   \n",
       "3                     0                             0                   1   \n",
       "4                     0                             0                   1   \n",
       "\n",
       "   R_SEX_label_MALE  VEHOWNED_label_YES  WKFTPT_label_PART-TIME  \\\n",
       "0                 0                   1                       0   \n",
       "1                 1                   0                       0   \n",
       "2                 0                   0                       0   \n",
       "3                 1                   1                       1   \n",
       "4                 1                   1                       0   \n",
       "\n",
       "   WKRMHM_label_YES  \n",
       "0                 1  \n",
       "1                 0  \n",
       "2                 0  \n",
       "3                 0  \n",
       "4                 1  \n",
       "\n",
       "[5 rows x 125 columns]"
      ]
     },
     "execution_count": 10,
     "metadata": {},
     "output_type": "execute_result"
    }
   ],
   "source": [
    "X_test.head()"
   ]
  },
  {
   "cell_type": "code",
   "execution_count": 11,
   "metadata": {},
   "outputs": [
    {
     "data": {
      "text/plain": [
       "(140394, 1)"
      ]
     },
     "execution_count": 11,
     "metadata": {},
     "output_type": "execute_result"
    }
   ],
   "source": [
    "y_train.shape"
   ]
  },
  {
   "cell_type": "code",
   "execution_count": 12,
   "metadata": {},
   "outputs": [
    {
     "data": {
      "text/html": [
       "<div>\n",
       "<style scoped>\n",
       "    .dataframe tbody tr th:only-of-type {\n",
       "        vertical-align: middle;\n",
       "    }\n",
       "\n",
       "    .dataframe tbody tr th {\n",
       "        vertical-align: top;\n",
       "    }\n",
       "\n",
       "    .dataframe thead th {\n",
       "        text-align: right;\n",
       "    }\n",
       "</style>\n",
       "<table border=\"1\" class=\"dataframe\">\n",
       "  <thead>\n",
       "    <tr style=\"text-align: right;\">\n",
       "      <th></th>\n",
       "      <th>fueltype_numeric</th>\n",
       "    </tr>\n",
       "  </thead>\n",
       "  <tbody>\n",
       "    <tr>\n",
       "      <th>165952</th>\n",
       "      <td>0</td>\n",
       "    </tr>\n",
       "    <tr>\n",
       "      <th>161420</th>\n",
       "      <td>0</td>\n",
       "    </tr>\n",
       "    <tr>\n",
       "      <th>231467</th>\n",
       "      <td>0</td>\n",
       "    </tr>\n",
       "    <tr>\n",
       "      <th>109716</th>\n",
       "      <td>0</td>\n",
       "    </tr>\n",
       "    <tr>\n",
       "      <th>187414</th>\n",
       "      <td>0</td>\n",
       "    </tr>\n",
       "  </tbody>\n",
       "</table>\n",
       "</div>"
      ],
      "text/plain": [
       "        fueltype_numeric\n",
       "165952                 0\n",
       "161420                 0\n",
       "231467                 0\n",
       "109716                 0\n",
       "187414                 0"
      ]
     },
     "execution_count": 12,
     "metadata": {},
     "output_type": "execute_result"
    }
   ],
   "source": [
    "y_train.head()"
   ]
  },
  {
   "cell_type": "code",
   "execution_count": 13,
   "metadata": {},
   "outputs": [
    {
     "data": {
      "text/plain": [
       "(60170, 1)"
      ]
     },
     "execution_count": 13,
     "metadata": {},
     "output_type": "execute_result"
    }
   ],
   "source": [
    "y_test.shape"
   ]
  },
  {
   "cell_type": "code",
   "execution_count": 14,
   "metadata": {},
   "outputs": [
    {
     "data": {
      "text/html": [
       "<div>\n",
       "<style scoped>\n",
       "    .dataframe tbody tr th:only-of-type {\n",
       "        vertical-align: middle;\n",
       "    }\n",
       "\n",
       "    .dataframe tbody tr th {\n",
       "        vertical-align: top;\n",
       "    }\n",
       "\n",
       "    .dataframe thead th {\n",
       "        text-align: right;\n",
       "    }\n",
       "</style>\n",
       "<table border=\"1\" class=\"dataframe\">\n",
       "  <thead>\n",
       "    <tr style=\"text-align: right;\">\n",
       "      <th></th>\n",
       "      <th>fueltype_numeric</th>\n",
       "    </tr>\n",
       "  </thead>\n",
       "  <tbody>\n",
       "    <tr>\n",
       "      <th>205300</th>\n",
       "      <td>0</td>\n",
       "    </tr>\n",
       "    <tr>\n",
       "      <th>150902</th>\n",
       "      <td>0</td>\n",
       "    </tr>\n",
       "    <tr>\n",
       "      <th>70631</th>\n",
       "      <td>0</td>\n",
       "    </tr>\n",
       "    <tr>\n",
       "      <th>53212</th>\n",
       "      <td>0</td>\n",
       "    </tr>\n",
       "    <tr>\n",
       "      <th>197639</th>\n",
       "      <td>0</td>\n",
       "    </tr>\n",
       "  </tbody>\n",
       "</table>\n",
       "</div>"
      ],
      "text/plain": [
       "        fueltype_numeric\n",
       "205300                 0\n",
       "150902                 0\n",
       "70631                  0\n",
       "53212                  0\n",
       "197639                 0"
      ]
     },
     "execution_count": 14,
     "metadata": {},
     "output_type": "execute_result"
    }
   ],
   "source": [
    "y_test.head()"
   ]
  },
  {
   "cell_type": "markdown",
   "metadata": {},
   "source": [
    "## Model Building"
   ]
  },
  {
   "cell_type": "markdown",
   "metadata": {},
   "source": [
    "Create a few functions"
   ]
  },
  {
   "cell_type": "code",
   "execution_count": 15,
   "metadata": {},
   "outputs": [],
   "source": [
    "# Function to create a confusion matrix \n",
    "def conf_matrix(y_test, pred_test):    \n",
    "    \n",
    "    # Creating a confusion matrix\n",
    "    con_mat = metrics.confusion_matrix(y_test, pred_test)\n",
    "    con_mat = pd.DataFrame(con_mat, range(2), range(2))\n",
    "   \n",
    "    #Ploting the confusion matrix\n",
    "    plt.figure(figsize=(6,6))\n",
    "    sns.set(font_scale=1.5) \n",
    "    sns.heatmap(con_mat, annot=True, annot_kws={\"size\": 16}, fmt='g', cmap='Blues', cbar=False)\n",
    "    "
   ]
  },
  {
   "cell_type": "code",
   "execution_count": 16,
   "metadata": {},
   "outputs": [],
   "source": [
    "def likelihood_ratio_test(features_alternate, labels, lr_model, features_null=None):\n",
    "\n",
    "    labels = np.array(labels)\n",
    "    features_alternate = np.array(features_alternate)\n",
    "    \n",
    "\n",
    "    null_prob = sum(labels) / float(labels.shape[0]) * \\\n",
    "                    np.ones(labels.shape)\n",
    "    df = features_alternate.shape[1]\n",
    "    \n",
    "    lr_model.fit(features_alternate, labels)\n",
    "    alt_prob = lr_model.predict_proba(features_alternate)\n",
    "\n",
    "    alt_log_likelihood = -log_loss(labels,\n",
    "                                   alt_prob,\n",
    "                                   normalize=False)\n",
    "    null_log_likelihood = -log_loss(labels,\n",
    "                                    null_prob,\n",
    "                                    normalize=False)\n",
    "\n",
    "    G = 2 * (alt_log_likelihood - null_log_likelihood)\n",
    "    p_value = chi2.sf(G, df)\n",
    "\n",
    "    return G, p_value"
   ]
  },
  {
   "cell_type": "markdown",
   "metadata": {},
   "source": [
    "### Logistic Regression using sklearn"
   ]
  },
  {
   "cell_type": "code",
   "execution_count": 17,
   "metadata": {},
   "outputs": [
    {
     "name": "stderr",
     "output_type": "stream",
     "text": [
      "/Users/Avinash/opt/anaconda3/lib/python3.7/site-packages/sklearn/utils/validation.py:985: DataConversionWarning: A column-vector y was passed when a 1d array was expected. Please change the shape of y to (n_samples, ), for example using ravel().\n",
      "  y = column_or_1d(y, warn=True)\n"
     ]
    },
    {
     "data": {
      "text/plain": [
       "LogisticRegression(penalty='none', solver='newton-cg')"
      ]
     },
     "execution_count": 17,
     "metadata": {},
     "output_type": "execute_result"
    }
   ],
   "source": [
    "#penalty should be none\n",
    "lr = LogisticRegression(penalty='none',solver='newton-cg')\n",
    "lr.fit(X_train, y_train)"
   ]
  },
  {
   "cell_type": "code",
   "execution_count": 18,
   "metadata": {},
   "outputs": [
    {
     "data": {
      "text/plain": [
       "(1, 125)"
      ]
     },
     "execution_count": 18,
     "metadata": {},
     "output_type": "execute_result"
    }
   ],
   "source": [
    "lr.coef_.shape"
   ]
  },
  {
   "cell_type": "code",
   "execution_count": 19,
   "metadata": {},
   "outputs": [
    {
     "data": {
      "text/plain": [
       "array([-4.7943273])"
      ]
     },
     "execution_count": 19,
     "metadata": {},
     "output_type": "execute_result"
    }
   ],
   "source": [
    "lr.intercept_"
   ]
  },
  {
   "cell_type": "code",
   "execution_count": 20,
   "metadata": {},
   "outputs": [],
   "source": [
    "pred_train_lr = lr.predict(X_train)"
   ]
  },
  {
   "cell_type": "code",
   "execution_count": 21,
   "metadata": {},
   "outputs": [
    {
     "name": "stdout",
     "output_type": "stream",
     "text": [
      "Confusion Matrix : \n",
      " [[136224      0]\n",
      " [  4170      0]]\n"
     ]
    }
   ],
   "source": [
    "cm = metrics.confusion_matrix(y_train, pred_train_lr)\n",
    "print (\"Confusion Matrix : \\n\", cm)"
   ]
  },
  {
   "cell_type": "code",
   "execution_count": 22,
   "metadata": {},
   "outputs": [
    {
     "name": "stdout",
     "output_type": "stream",
     "text": [
      "The f1 score for the testing data: 0.0\n"
     ]
    }
   ],
   "source": [
    "f1_train = metrics.f1_score(y_train, pred_train_lr)\n",
    "print('The f1 score for the testing data:', f1_train)"
   ]
  },
  {
   "cell_type": "code",
   "execution_count": 23,
   "metadata": {},
   "outputs": [
    {
     "data": {
      "image/png": "[encoded data removed]",
      "text/plain": [
       "<Figure size 432x432 with 1 Axes>"
      ]
     },
     "metadata": {
      "needs_background": "light"
     },
     "output_type": "display_data"
    }
   ],
   "source": [
    "#present a nicer table\n",
    "conf_matrix(y_train, pred_train_lr)"
   ]
  },
  {
   "cell_type": "code",
   "execution_count": 24,
   "metadata": {
    "scrolled": true
   },
   "outputs": [
    {
     "name": "stderr",
     "output_type": "stream",
     "text": [
      "/Users/Avinash/opt/anaconda3/lib/python3.7/site-packages/sklearn/utils/validation.py:985: DataConversionWarning: A column-vector y was passed when a 1d array was expected. Please change the shape of y to (n_samples, ), for example using ravel().\n",
      "  y = column_or_1d(y, warn=True)\n"
     ]
    },
    {
     "name": "stdout",
     "output_type": "stream",
     "text": [
      "The Likelihood Ratio Test Statistics is 4199.247434627381 and the p-value is 0.0\n"
     ]
    }
   ],
   "source": [
    "#calculate likelihood ratio test\n",
    "G2, pvalue = likelihood_ratio_test(X_train, y_train, lr, features_null=None)\n",
    "print(\"The Likelihood Ratio Test Statistics is {0} and the p-value is {1}\".format(G2,pvalue))"
   ]
  },
  {
   "cell_type": "markdown",
   "metadata": {},
   "source": [
    "So, since the p-value is 0 so this model is better than a reduced model with beta1=0, beta2=0, ....beta125=0.But the F1 score is so low."
   ]
  },
  {
   "cell_type": "markdown",
   "metadata": {},
   "source": [
    "### Logistic Regression with class weights (balanced) using sklearn"
   ]
  },
  {
   "cell_type": "markdown",
   "metadata": {},
   "source": [
    "Class weights do help with imbalanced data"
   ]
  },
  {
   "cell_type": "code",
   "execution_count": 25,
   "metadata": {},
   "outputs": [],
   "source": [
    "lr_cb = LogisticRegression(penalty='none',solver='newton-cg',class_weight='balanced')"
   ]
  },
  {
   "cell_type": "code",
   "execution_count": 26,
   "metadata": {},
   "outputs": [
    {
     "name": "stderr",
     "output_type": "stream",
     "text": [
      "/Users/Avinash/opt/anaconda3/lib/python3.7/site-packages/sklearn/utils/validation.py:985: DataConversionWarning: A column-vector y was passed when a 1d array was expected. Please change the shape of y to (n_samples, ), for example using ravel().\n",
      "  y = column_or_1d(y, warn=True)\n"
     ]
    },
    {
     "data": {
      "text/plain": [
       "LogisticRegression(class_weight='balanced', penalty='none', solver='newton-cg')"
      ]
     },
     "execution_count": 26,
     "metadata": {},
     "output_type": "execute_result"
    }
   ],
   "source": [
    "lr_cb.fit(X_train, y_train)"
   ]
  },
  {
   "cell_type": "code",
   "execution_count": 27,
   "metadata": {},
   "outputs": [],
   "source": [
    "pred_train_cb = lr_cb.predict(X_train)"
   ]
  },
  {
   "cell_type": "code",
   "execution_count": 28,
   "metadata": {},
   "outputs": [
    {
     "name": "stdout",
     "output_type": "stream",
     "text": [
      "The f1 score for the testing data: 0.11870039488603043\n"
     ]
    }
   ],
   "source": [
    "f1_train_cb = metrics.f1_score(y_train, pred_train_cb)\n",
    "print('The f1 score for the testing data:', f1_train_cb)"
   ]
  },
  {
   "cell_type": "code",
   "execution_count": 29,
   "metadata": {},
   "outputs": [
    {
     "data": {
      "image/png": "[encoded data removed]",
      "text/plain": [
       "<Figure size 432x432 with 1 Axes>"
      ]
     },
     "metadata": {},
     "output_type": "display_data"
    }
   ],
   "source": [
    "conf_matrix(y_train, pred_train_cb)"
   ]
  },
  {
   "cell_type": "markdown",
   "metadata": {},
   "source": [
    "Seems to improve results!"
   ]
  },
  {
   "cell_type": "markdown",
   "metadata": {},
   "source": [
    "### Logistic Regression with class weights (manual) using sklearn"
   ]
  },
  {
   "cell_type": "code",
   "execution_count": null,
   "metadata": {
    "scrolled": true
   },
   "outputs": [],
   "source": [
    "from sklearn.model_selection import GridSearchCV, StratifiedKFold\n",
    "lr_gr = LogisticRegression(penalty='none',solver='newton-cg')\n",
    "\n",
    "#Setting the range for class weights\n",
    "weights = np.linspace(0.0,0.99,50)\n",
    "\n",
    "#Creating a dictionary grid for grid search\n",
    "param_grid = {'class_weight': [{0:x, 1:1.0-x} for x in weights]}\n",
    "\n",
    "#Fitting grid search to the train data with 5 folds\n",
    "gridsearch = GridSearchCV(estimator= lr_gr, \n",
    "                          param_grid= param_grid,\n",
    "                          cv=StratifiedKFold(), \n",
    "                          n_jobs=-1, \n",
    "                          scoring='f1', \n",
    "                          verbose=2).fit(X_train, y_train)\n",
    "\n",
    "#Ploting the score for different values of weight\n",
    "sns.set_style('whitegrid')\n",
    "plt.figure(figsize=(12,8))\n",
    "weigh_data = pd.DataFrame({ 'score': gridsearch.cv_results_['mean_test_score'], 'weight': (1- weights)})\n",
    "sns.lineplot(weigh_data['weight'], weigh_data['score'])\n",
    "plt.xlabel('Weight for class 1')\n",
    "plt.ylabel('F1 score')\n",
    "plt.xticks([round(i/10,1) for i in range(0,11,1)])\n",
    "plt.title('Scoring for different class weights', fontsize=24)"
   ]
  },
  {
   "cell_type": "markdown",
   "metadata": {},
   "source": [
    "**The class weights were tried with 200 candidates. I am unable to reproduce that today**"
   ]
  },
  {
   "cell_type": "code",
   "execution_count": null,
   "metadata": {},
   "outputs": [],
   "source": [
    "val = weigh_data['weight'][np.argmax(weigh_data['score'])]"
   ]
  },
  {
   "cell_type": "code",
   "execution_count": 30,
   "metadata": {},
   "outputs": [
    {
     "name": "stderr",
     "output_type": "stream",
     "text": [
      "/Users/Avinash/opt/anaconda3/lib/python3.7/site-packages/sklearn/utils/validation.py:985: DataConversionWarning: A column-vector y was passed when a 1d array was expected. Please change the shape of y to (n_samples, ), for example using ravel().\n",
      "  y = column_or_1d(y, warn=True)\n"
     ]
    },
    {
     "name": "stdout",
     "output_type": "stream",
     "text": [
      "The f1 score for the testing data: 0.17355637767411936\n"
     ]
    }
   ],
   "source": [
    "#The class weights were tried with 200 candidates. I am unable to reproduce that today.\n",
    "lr_gr_c = LogisticRegression(penalty='none',solver='newton-cg',class_weight={0: 0.08954773869346733, 1: 0.91045226130653272})\n",
    "lr_gr_c.fit(X_train, y_train)\n",
    "\n",
    "# Predicting on the test data\n",
    "pred_train_gr_c = lr_gr_c.predict(X_train)\n",
    "\n",
    "#Calculating and printing the f1 score \n",
    "f1_train_gr_c = metrics.f1_score(y_train, pred_train_gr_c)\n",
    "print('The f1 score for the testing data:', f1_train_gr_c)\n",
    "\n"
   ]
  },
  {
   "cell_type": "code",
   "execution_count": 31,
   "metadata": {},
   "outputs": [
    {
     "data": {
      "image/png": "[encoded data removed]",
      "text/plain": [
       "<Figure size 432x432 with 1 Axes>"
      ]
     },
     "metadata": {},
     "output_type": "display_data"
    }
   ],
   "source": [
    "#Ploting the confusion matrix\n",
    "conf_matrix(y_train, pred_train_gr_c)"
   ]
  },
  {
   "cell_type": "markdown",
   "metadata": {},
   "source": [
    "### Logistic Regression with L1 penalty"
   ]
  },
  {
   "cell_type": "code",
   "execution_count": 32,
   "metadata": {},
   "outputs": [],
   "source": [
    "lr_l1 = LogisticRegression(penalty='l1',solver='liblinear',random_state=1)"
   ]
  },
  {
   "cell_type": "code",
   "execution_count": 33,
   "metadata": {},
   "outputs": [
    {
     "name": "stderr",
     "output_type": "stream",
     "text": [
      "/Users/Avinash/opt/anaconda3/lib/python3.7/site-packages/sklearn/utils/validation.py:985: DataConversionWarning: A column-vector y was passed when a 1d array was expected. Please change the shape of y to (n_samples, ), for example using ravel().\n",
      "  y = column_or_1d(y, warn=True)\n"
     ]
    },
    {
     "data": {
      "text/plain": [
       "LogisticRegression(penalty='l1', random_state=1, solver='liblinear')"
      ]
     },
     "execution_count": 33,
     "metadata": {},
     "output_type": "execute_result"
    }
   ],
   "source": [
    "#Fit the model\n",
    "lr_l1.fit(X_train, y_train)"
   ]
  },
  {
   "cell_type": "code",
   "execution_count": 34,
   "metadata": {},
   "outputs": [
    {
     "data": {
      "text/plain": [
       "Index(['CARSHARE', 'HHFAMINC_label_LESS_THAN_10000', 'HHSTATE_label_AR',\n",
       "       'HHSTATE_label_AZ', 'HHSTATE_label_CT', 'HHSTATE_label_KS',\n",
       "       'HHSTATE_label_KY', 'HHSTATE_label_LA', 'HHSTATE_label_MO',\n",
       "       'HHSTATE_label_MS', 'HHSTATE_label_NH', 'HHSTATE_label_NJ',\n",
       "       'HHSTATE_label_TN', 'HHSTATE_label_WV', 'HHSTATE_label_WY',\n",
       "       'OCCAT_label_SOMETHING_ELSE',\n",
       "       'R_RACE_label_NATIVE_HAWAIIAN_OR_OTHER_PACIFIC_ISLANDER'],\n",
       "      dtype='object')"
      ]
     },
     "execution_count": 34,
     "metadata": {},
     "output_type": "execute_result"
    }
   ],
   "source": [
    "#Get variable names that were zeroed out\n",
    "#If one category of a variables is zeroed out, do I drop all categories?\n",
    "col = X_train.columns[np.where(lr_l1.coef_==0)[1]]\n",
    "col"
   ]
  },
  {
   "cell_type": "markdown",
   "metadata": {},
   "source": [
    "**If one category of a variables is zeroed out, do I drop all categories for that variable?**"
   ]
  },
  {
   "cell_type": "markdown",
   "metadata": {},
   "source": [
    "**A bit confused about this. What's the difference between doing a l1 using Logistic regression with a l1 penalty and Lasso?**\n",
    "\n"
   ]
  },
  {
   "cell_type": "code",
   "execution_count": null,
   "metadata": {},
   "outputs": [],
   "source": []
  },
  {
   "cell_type": "markdown",
   "metadata": {},
   "source": [
    "## Poisson Regression"
   ]
  },
  {
   "cell_type": "code",
   "execution_count": 35,
   "metadata": {},
   "outputs": [],
   "source": [
    "from sklearn import linear_model\n",
    "clf = linear_model.PoissonRegressor()"
   ]
  },
  {
   "cell_type": "code",
   "execution_count": 36,
   "metadata": {},
   "outputs": [
    {
     "name": "stderr",
     "output_type": "stream",
     "text": [
      "/Users/Avinash/opt/anaconda3/lib/python3.7/site-packages/sklearn/utils/validation.py:985: DataConversionWarning: A column-vector y was passed when a 1d array was expected. Please change the shape of y to (n_samples, ), for example using ravel().\n",
      "  y = column_or_1d(y, warn=True)\n"
     ]
    },
    {
     "name": "stdout",
     "output_type": "stream",
     "text": [
      "The f1 score for the testing data: 0.0\n"
     ]
    }
   ],
   "source": [
    "clf.fit(X_train, y_train)\n",
    "\n",
    "# Predicting on the test data\n",
    "pred_train_p = clf.predict(X_train)\n",
    "\n",
    "prediction = list(map(round, pred_train_p))\n",
    "#Calculating and printing the f1 score \n",
    "f1_test_p = metrics.f1_score(y_train, prediction)\n",
    "print('The f1 score for the testing data:', f1_test_p)\n"
   ]
  },
  {
   "cell_type": "code",
   "execution_count": 37,
   "metadata": {},
   "outputs": [
    {
     "data": {
      "image/png": "[encoded data removed]",
      "text/plain": [
       "<Figure size 432x432 with 1 Axes>"
      ]
     },
     "metadata": {},
     "output_type": "display_data"
    }
   ],
   "source": [
    "#Ploting the confusion matrix\n",
    "conf_matrix(y_train, prediction)"
   ]
  },
  {
   "cell_type": "markdown",
   "metadata": {},
   "source": [
    "### Random Forest"
   ]
  },
  {
   "cell_type": "code",
   "execution_count": 38,
   "metadata": {},
   "outputs": [],
   "source": [
    "rfc = RandomForestClassifier(random_state = 42)"
   ]
  },
  {
   "cell_type": "code",
   "execution_count": 39,
   "metadata": {},
   "outputs": [],
   "source": [
    "param_grid = { \n",
    "    'n_estimators': [100, 200],\n",
    "    'max_features': ['auto', 'sqrt'],\n",
    "    'max_depth' : [4, 5, 6],\n",
    "    'criterion' :['gini']\n",
    "}"
   ]
  },
  {
   "cell_type": "code",
   "execution_count": 40,
   "metadata": {},
   "outputs": [
    {
     "data": {
      "text/plain": [
       "GridSearchCV(cv=5, estimator=RandomForestClassifier(random_state=42),\n",
       "             param_grid={'criterion': ['gini'], 'max_depth': [4, 5, 6],\n",
       "                         'max_features': ['auto', 'sqrt'],\n",
       "                         'n_estimators': [100, 200]})"
      ]
     },
     "execution_count": 40,
     "metadata": {},
     "output_type": "execute_result"
    }
   ],
   "source": [
    "CV_rfc = GridSearchCV(estimator=rfc, param_grid=param_grid, cv= 5)\n",
    "CV_rfc.fit(X_train, y_train.values.ravel())"
   ]
  },
  {
   "cell_type": "code",
   "execution_count": 41,
   "metadata": {},
   "outputs": [
    {
     "data": {
      "text/plain": [
       "{'criterion': 'gini',\n",
       " 'max_depth': 4,\n",
       " 'max_features': 'auto',\n",
       " 'n_estimators': 100}"
      ]
     },
     "execution_count": 41,
     "metadata": {},
     "output_type": "execute_result"
    }
   ],
   "source": [
    "#Fit with the best model and get the variables\n",
    "CV_rfc.best_params_\n"
   ]
  },
  {
   "cell_type": "code",
   "execution_count": 42,
   "metadata": {},
   "outputs": [],
   "source": [
    "rfc_best = RandomForestClassifier(criterion='gini',max_depth = 4,max_features = 'auto',n_estimators = 100)"
   ]
  },
  {
   "cell_type": "code",
   "execution_count": 43,
   "metadata": {},
   "outputs": [
    {
     "data": {
      "text/plain": [
       "RandomForestClassifier(max_depth=4)"
      ]
     },
     "execution_count": 43,
     "metadata": {},
     "output_type": "execute_result"
    }
   ],
   "source": [
    "rfc_best.fit(X_train, y_train.values.ravel())"
   ]
  },
  {
   "cell_type": "code",
   "execution_count": 44,
   "metadata": {},
   "outputs": [
    {
     "name": "stdout",
     "output_type": "stream",
     "text": [
      "('CARSHARE', 0.001668686199293114)\n",
      "('DRVRCNT', 0.0018560771455710789)\n",
      "('HHSIZE', 0.001540083004953069)\n",
      "('HHVEHCNT', 0.0038415627255347713)\n",
      "('R_AGE', 0.009151170454196559)\n",
      "('TIMETOWK', 0.015527567071565168)\n",
      "('VEHAGE', 0.17764418335224572)\n",
      "('VEHOWNMO', 0.004185256478057969)\n",
      "('WRKCOUNT', 0.0028153273507337574)\n",
      "('YEARMILE', 0.009212580401972275)\n",
      "('YOUNGCHILD', 0.000827031744636543)\n",
      "('CAR_label_A_FEW_TIMES_A_WEEK', 0.002629559475409077)\n",
      "('CAR_label_A_FEW_TIMES_A_YEAR', 0.00012297029270276008)\n",
      "('CAR_label_DAILY', 0.0009743018328701919)\n",
      "('CAR_label_NEVER', 0.0)\n",
      "('EDUC_label_GRADUATE_DEGREE_OR_PROFESSIONAL_DEGREE', 0.18543458866254858)\n",
      "('EDUC_label_HIGH_SCHOOL_GRADUATE_OR_GED', 0.05848985773847625)\n",
      "('EDUC_label_LESS_THAN_A_HIGH_SCHOOL_GRADUATE', 0.003144084659175591)\n",
      "('EDUC_label_SOME_COLLEGE_OR_ASSOCIATES_DEGREE', 0.03238079566855717)\n",
      "('GT1JBLWK_label_YES', 0.00016213607275379562)\n",
      "('HBHUR_label_SECOND_CITY', 9.612897536114176e-05)\n",
      "('HBHUR_label_SMALL_TOWN', 0.001136515226552452)\n",
      "('HBHUR_label_SUBURBAN', 0.004831115531345931)\n",
      "('HBHUR_label_URBAN', 0.0323137176638625)\n",
      "('HBPPOPDN_label_1000-1999', 0.00047895975833752753)\n",
      "('HBPPOPDN_label_10000-24999', 0.0020085221080427297)\n",
      "('HBPPOPDN_label_100-499', 0.0014992326996293671)\n",
      "('HBPPOPDN_label_2000-3999', 0.00013981668022185626)\n",
      "('HBPPOPDN_label_25000-999999', 0.001308489679472256)\n",
      "('HBPPOPDN_label_4000-9999', 0.008450081772657832)\n",
      "('HBPPOPDN_label_500-999', 0.00023390622381081323)\n",
      "('HBRESDN_label_1000-1999', 0.00021776032824293603)\n",
      "('HBRESDN_label_10000-24999', 0.0021817498270261344)\n",
      "('HBRESDN_label_100-499', 0.0001729186215855942)\n",
      "('HBRESDN_label_2000-3999', 0.0048253603973931365)\n",
      "('HBRESDN_label_25000-999999', 0.000430043775204976)\n",
      "('HBRESDN_label_4000-9999', 0.0022225785544825716)\n",
      "('HBRESDN_label_500-999', 0.0003048725023727396)\n",
      "('HHFAMINC_label_100000_TO_124999', 0.002890693675999206)\n",
      "('HHFAMINC_label_125000_TO_149999', 0.0030097720222185768)\n",
      "('HHFAMINC_label_15000_TO_24999', 0.005007513080070219)\n",
      "('HHFAMINC_label_150000_TO_199999', 0.016656015373736482)\n",
      "('HHFAMINC_label_200000_OR_MORE', 0.04805463519737004)\n",
      "('HHFAMINC_label_25000_TO_34999', 0.004966406999090544)\n",
      "('HHFAMINC_label_35000_TO_49999', 0.004306297989565352)\n",
      "('HHFAMINC_label_50000_TO_74999', 0.000832350929899586)\n",
      "('HHFAMINC_label_75000_TO_99999', 0.00032537712189493464)\n",
      "('HHFAMINC_label_LESS_THAN_10000', 0.0005621369787434629)\n",
      "('HHSTATE_label_AL', 0.000879725557255154)\n",
      "('HHSTATE_label_AR', 0.0001656177465659787)\n",
      "('HHSTATE_label_AZ', 3.962532520273557e-05)\n",
      "('HHSTATE_label_CA', 0.00012218958962060752)\n",
      "('HHSTATE_label_CO', 0.16176849572431437)\n",
      "('HHSTATE_label_CT', 0.0)\n",
      "('HHSTATE_label_DC', 0.0002725453646854193)\n",
      "('HHSTATE_label_DE', 0.001186645228207998)\n",
      "('HHSTATE_label_FL', 0.0002276726721755768)\n",
      "('HHSTATE_label_GA', 1.3791112595039567e-05)\n",
      "('HHSTATE_label_HI', 0.0004600058314134846)\n",
      "('HHSTATE_label_IA', 0.0011307987131940408)\n",
      "('HHSTATE_label_ID', 0.00011295398011163496)\n",
      "('HHSTATE_label_IL', 0.0002695140319885185)\n",
      "('HHSTATE_label_IN', 2.1425716351637194e-05)\n",
      "('HHSTATE_label_KS', 0.0005275754900093614)\n",
      "('HHSTATE_label_KY', 2.577820884203786e-05)\n",
      "('HHSTATE_label_LA', 0.00011985388687616408)\n",
      "('HHSTATE_label_MA', 0.0)\n",
      "('HHSTATE_label_MD', 0.0004782893715821267)\n",
      "('HHSTATE_label_ME', 0.0002623912564650386)\n",
      "('HHSTATE_label_MI', 1.5077982695259715e-05)\n",
      "('HHSTATE_label_MN', 0.0)\n",
      "('HHSTATE_label_MO', 2.099330444047215e-05)\n",
      "('HHSTATE_label_MS', 0.000480872703043717)\n",
      "('HHSTATE_label_MT', 0.0)\n",
      "('HHSTATE_label_NC', 0.0)\n",
      "('HHSTATE_label_ND', 0.00025251942669099486)\n",
      "('HHSTATE_label_NE', 0.00034856693982507125)\n",
      "('HHSTATE_label_NH', 3.0731046915644134e-05)\n",
      "('HHSTATE_label_NJ', 0.00042106882154524674)\n",
      "('HHSTATE_label_NM', 0.00014667172206587778)\n",
      "('HHSTATE_label_NV', 0.00011278827182691206)\n",
      "('HHSTATE_label_NY', 0.0004848486761785333)\n",
      "('HHSTATE_label_OH', 0.0019733045604366506)\n",
      "('HHSTATE_label_OK', 7.064287521842606e-05)\n",
      "('HHSTATE_label_OR', 0.0004331636404263207)\n",
      "('HHSTATE_label_PA', 9.692843979919515e-05)\n",
      "('HHSTATE_label_RI', 5.979863132485411e-05)\n",
      "('HHSTATE_label_SC', 0.00033736578957881244)\n",
      "('HHSTATE_label_SD', 0.0013334354660606534)\n",
      "('HHSTATE_label_TN', 0.0)\n",
      "('HHSTATE_label_TX', 0.0)\n",
      "('HHSTATE_label_UT', 0.0029159062781111507)\n",
      "('HHSTATE_label_VA', 0.0)\n",
      "('HHSTATE_label_VT', 0.0)\n",
      "('HHSTATE_label_WA', 0.00010080846777901863)\n",
      "('HHSTATE_label_WI', 0.00013120407176036363)\n",
      "('HHSTATE_label_WV', 0.0003467952470170055)\n",
      "('HHSTATE_label_WY', 0.0)\n",
      "('HOMEOWN_label_RENT', 0.0013058732316205723)\n",
      "('HOMEOWN_label_SOME_OTHER_ARRANGEMENT', 1.832563594903469e-05)\n",
      "('OCCAT_label_MANUFACTURING_CONSTRUCTION_MAINTENANCE_OR_FARMING', 0.005903377232248225)\n",
      "('OCCAT_label_PROFESSIONAL_MANAGERIAL_OR_TECHNICAL', 0.0307598716706473)\n",
      "('OCCAT_label_SALES_OR_SERVICE', 0.00471710001142829)\n",
      "('OCCAT_label_SOMETHING_ELSE', 0.0003929981670986554)\n",
      "('PLACE_label_DISAGREE', 0.012483368164807263)\n",
      "('PLACE_label_NEITHER_AGREE_OR_DISAGREE', 0.0008306870511609923)\n",
      "('PLACE_label_STRONGLY_AGREE', 0.002158593858762403)\n",
      "('PLACE_label_STRONGLY_DISAGREE', 0.004551041293074869)\n",
      "('PRICE_label_DISAGREE', 0.00958863127879503)\n",
      "('PRICE_label_NEITHER_AGREE_OR_DISAGREE', 0.0001840008186870252)\n",
      "('PRICE_label_STRONGLY_AGREE', 0.014253484112650374)\n",
      "('PRICE_label_STRONGLY_DISAGREE', 0.023308388017105424)\n",
      "('R_HISP_label_YES_HISPANIC_OR_LATINO', 0.0012669722403401494)\n",
      "('R_RACE_label_ASIAN', 0.009434961073480288)\n",
      "('R_RACE_label_BLACK_OR_AFRICAN_AMERICAN', 0.006158516918465136)\n",
      "('R_RACE_label_DONT_KNOW', 0.00045976638444457255)\n",
      "('R_RACE_label_MULTIPLE_RESPONSES_SELECTED', 0.0008930779845780552)\n",
      "('R_RACE_label_NATIVE_HAWAIIAN_OR_OTHER_PACIFIC_ISLANDER', 8.39171700365046e-05)\n",
      "('R_RACE_label_REFUSED', 0.00039995819144298723)\n",
      "('R_RACE_label_SOME_OTHER_RACE', 8.573836236264133e-05)\n",
      "('R_RACE_label_WHITE', 5.666750139802592e-05)\n",
      "('R_SEX_label_MALE', 0.001016315758258672)\n",
      "('VEHOWNED_label_YES', 0.0034475015263610524)\n",
      "('WKFTPT_label_PART-TIME', 0.0015009018005336064)\n",
      "('WKRMHM_label_YES', 0.02547078734862147)\n"
     ]
    }
   ],
   "source": [
    "for feature in zip(list(X_train.columns), rfc_best.feature_importances_):\n",
    "    print(feature)"
   ]
  },
  {
   "cell_type": "code",
   "execution_count": 45,
   "metadata": {},
   "outputs": [
    {
     "data": {
      "text/plain": [
       "SelectFromModel(estimator=RandomForestClassifier(max_depth=4), threshold=0.15)"
      ]
     },
     "execution_count": 45,
     "metadata": {},
     "output_type": "execute_result"
    }
   ],
   "source": [
    "sfm = SelectFromModel(rfc_best, threshold=0.15)\n",
    "\n",
    "# Train the selector\n",
    "sfm.fit(X_train, y_train.values.ravel())"
   ]
  },
  {
   "cell_type": "code",
   "execution_count": 46,
   "metadata": {},
   "outputs": [
    {
     "name": "stdout",
     "output_type": "stream",
     "text": [
      "VEHAGE\n",
      "EDUC_label_GRADUATE_DEGREE_OR_PROFESSIONAL_DEGREE\n",
      "HHSTATE_label_CO\n"
     ]
    }
   ],
   "source": [
    "for feature_list_index in sfm.get_support(indices=True):\n",
    "    print(list(X_train.columns)[feature_list_index])"
   ]
  },
  {
   "cell_type": "markdown",
   "metadata": {},
   "source": [
    "**Need help with this**"
   ]
  },
  {
   "cell_type": "code",
   "execution_count": null,
   "metadata": {},
   "outputs": [],
   "source": []
  }
 ],
 "metadata": {
  "kernelspec": {
   "display_name": "Python 3",
   "language": "python",
   "name": "python3"
  },
  "language_info": {
   "codemirror_mode": {
    "name": "ipython",
    "version": 3
   },
   "file_extension": ".py",
   "mimetype": "text/x-python",
   "name": "python",
   "nbconvert_exporter": "python",
   "pygments_lexer": "ipython3",
   "version": "3.7.6"
  }
 },
 "nbformat": 4,
 "nbformat_minor": 4
}
